{
  "nbformat": 4,
  "nbformat_minor": 0,
  "metadata": {
    "colab": {
      "name": "05-TRAVAIL_PERSONNEL_Tableaux2.ipynb",
      "provenance": [],
      "private_outputs": true,
      "collapsed_sections": [],
      "authorship_tag": "ABX9TyNYapxgZn18zVYRKA+VM3z2",
      "include_colab_link": true
    },
    "kernelspec": {
      "name": "python3",
      "display_name": "Python 3"
    }
  },
  "cells": [
    {
      "cell_type": "markdown",
      "metadata": {
        "id": "view-in-github",
        "colab_type": "text"
      },
      "source": [
        "<a href=\"https://colab.research.google.com/github/thfruchart/1nsi-2020/blob/master/Chap05/TRAVAIL_PERSONNEL_Tableaux2.ipynb\" target=\"_parent\"><img src=\"https://colab.research.google.com/assets/colab-badge.svg\" alt=\"Open In Colab\"/></a>"
      ]
    },
    {
      "cell_type": "markdown",
      "metadata": {
        "id": "xWtTHbaNbexY"
      },
      "source": [
        "* Déterminer ce qui sera affiché à l'exécution de chaque cellule \n",
        "* puis vérifier en éxécutant la cellule\n",
        "* En cas de difficulté, \n",
        "  * exécuter le code sur [PythonTutor](http://www.pythontutor.com/visualize.html#mode=edit)\n",
        "  * préparer une question à poser en classe"
      ]
    },
    {
      "cell_type": "markdown",
      "metadata": {
        "id": "M_GIsy-qWDnT"
      },
      "source": [
        "### Ex1"
      ]
    },
    {
      "cell_type": "code",
      "metadata": {
        "id": "_cZUqlyTVl_7"
      },
      "source": [
        "t = [12,13,14,15]\n",
        "t[2] = t[2] + 1\n",
        "print(t)"
      ],
      "execution_count": null,
      "outputs": []
    },
    {
      "cell_type": "markdown",
      "metadata": {
        "id": "b82qIkSsWFyT"
      },
      "source": [
        "### Ex 2"
      ]
    },
    {
      "cell_type": "code",
      "metadata": {
        "id": "79K8E5GmYKai"
      },
      "source": [
        "tab = [ 'A', 'B', 'C', 'D']\n",
        "print(len(tab))\n",
        "\n",
        "for i in range(len(tab)):\n",
        "    print( i, t[i])\n"
      ],
      "execution_count": null,
      "outputs": []
    },
    {
      "cell_type": "markdown",
      "metadata": {
        "id": "8j7SpJJJWpGf"
      },
      "source": [
        "### Ex 3"
      ]
    },
    {
      "cell_type": "code",
      "metadata": {
        "id": "akvLE21nWtEv"
      },
      "source": [
        "t = [10,20,30,40,50,60]\n",
        "for i in range(5):\n",
        "    t[i] = t[i+1]\n",
        "\n",
        "print(t)"
      ],
      "execution_count": null,
      "outputs": []
    },
    {
      "cell_type": "markdown",
      "metadata": {
        "id": "h-ZsDj3eXWB0"
      },
      "source": [
        "### Ex 4"
      ]
    },
    {
      "cell_type": "code",
      "metadata": {
        "id": "z7-ORojEXYWV"
      },
      "source": [
        "def mystere(t):\n",
        "    for i in range(len(t)):\n",
        "        x = t[i]\n",
        "        t[i] = x*x\n",
        "\n",
        "t = [1,2,3,4,5]\n",
        "mystere(t)\n",
        "print(t)"
      ],
      "execution_count": null,
      "outputs": []
    },
    {
      "cell_type": "markdown",
      "metadata": {
        "id": "L8j8LIPsYGAi"
      },
      "source": [
        "### Ex 5"
      ]
    },
    {
      "cell_type": "code",
      "metadata": {
        "id": "SJ18C1exWIAg"
      },
      "source": [
        "t = [1,2,3,4,5,0]\n",
        "for i in range(6):\n",
        "    print(t[t[i]])\n"
      ],
      "execution_count": null,
      "outputs": []
    },
    {
      "cell_type": "markdown",
      "metadata": {
        "id": "9i2P6mNWYeaL"
      },
      "source": [
        "### Ex 6"
      ]
    },
    {
      "cell_type": "code",
      "metadata": {
        "id": "o4DM4xXbZFf2"
      },
      "source": [
        "def add(t, a, b):\n",
        "    s = 0\n",
        "    for i in range(a, b):\n",
        "        s = s+t[i]\n",
        "\n",
        "x = add([10,20,30,40,50,60], 2, 5)\n",
        "print(x) "
      ],
      "execution_count": null,
      "outputs": []
    }
  ]
}