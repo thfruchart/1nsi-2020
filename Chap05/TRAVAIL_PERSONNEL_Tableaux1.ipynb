{
  "nbformat": 4,
  "nbformat_minor": 0,
  "metadata": {
    "colab": {
      "name": "05-TRAVAIL_PERSONNEL_Tableaux1.ipynb",
      "provenance": [],
      "collapsed_sections": [],
      "authorship_tag": "ABX9TyMsOGrzJ0gd4rfkc6Xkf62q",
      "include_colab_link": true
    },
    "kernelspec": {
      "name": "python3",
      "display_name": "Python 3"
    }
  },
  "cells": [
    {
      "cell_type": "markdown",
      "metadata": {
        "id": "view-in-github",
        "colab_type": "text"
      },
      "source": [
        "<a href=\"https://colab.research.google.com/github/thfruchart/1nsi-2020/blob/master/Chap05/TRAVAIL_PERSONNEL_Tableaux1.ipynb\" target=\"_parent\"><img src=\"https://colab.research.google.com/assets/colab-badge.svg\" alt=\"Open In Colab\"/></a>"
      ]
    },
    {
      "cell_type": "markdown",
      "metadata": {
        "id": "xWtTHbaNbexY"
      },
      "source": [
        "* Déterminer ce qui sera affiché à l'exécution de chaque cellule \n",
        "* puis vérifier en éxécutant la cellule\n",
        "* En cas de difficulté, \n",
        "  * exécuter le code sur [PythonTutor](http://www.pythontutor.com/visualize.html#mode=edit)\n",
        "  * préparer une question à poser en classe"
      ]
    },
    {
      "cell_type": "code",
      "metadata": {
        "id": "7Cm_3fzTbaOA"
      },
      "source": [
        "t = [30,20,10,0]\n",
        "t[0] = t[0] + t[2]\n",
        "t[1] = t[1] + t[0]\n",
        "t[0] = t[0] + t[1]\n",
        "print(t[0])"
      ],
      "execution_count": null,
      "outputs": []
    },
    {
      "cell_type": "code",
      "metadata": {
        "id": "JxH98qRNcLMl"
      },
      "source": [
        "a = [1,2,3,4,5]\n",
        "b = [5,4,3,2,1]\n",
        "c = [0]*5\n",
        "\n",
        "for i in range(5):\n",
        "    c[i] = a[i] + b[i]\n",
        "\n",
        "print(c)"
      ],
      "execution_count": null,
      "outputs": []
    },
    {
      "cell_type": "code",
      "metadata": {
        "id": "AejWzcsjc9__"
      },
      "source": [
        "def mystere(t):\n",
        "    s = 0\n",
        "    for i in range(len(t)):\n",
        "        s = s + t[i]\n",
        "    return s \n",
        "\n",
        "x = mystere([10,20,30,40])\n",
        "print(x)"
      ],
      "execution_count": null,
      "outputs": []
    },
    {
      "cell_type": "code",
      "metadata": {
        "id": "mUrhC_kjdfLf"
      },
      "source": [
        "def mystere(t):\n",
        "    s = ''\n",
        "    for i in range(len(t)):\n",
        "        s = s + t[i]\n",
        "    return s \n",
        "\n",
        "x = mystere(['N','S','I'])\n",
        "print(x)"
      ],
      "execution_count": null,
      "outputs": []
    },
    {
      "cell_type": "code",
      "metadata": {
        "id": "PsCaJrOjd3-J"
      },
      "source": [
        "def mystere(t):\n",
        "    for i in range(len(t) - 1):\n",
        "        if t[i]>t[i+1]:\n",
        "            return False\n",
        "    return True\n",
        "\n",
        "print(mystere( [10,20,30] ))\n",
        "\n",
        "print(mystere( [10,20,3] ))"
      ],
      "execution_count": null,
      "outputs": []
    }
  ]
}