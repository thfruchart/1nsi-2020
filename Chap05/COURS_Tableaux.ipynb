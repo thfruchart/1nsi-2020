{
  "nbformat": 4,
  "nbformat_minor": 0,
  "metadata": {
    "colab": {
      "name": "05-COURS_Tableaux.ipynb",
      "provenance": [],
      "collapsed_sections": [
        "0GGKnfVYPZZR",
        "9z3DwMCCPgEL"
      ],
      "authorship_tag": "ABX9TyNT+EmRvOotAReTB7rdF2eq",
      "include_colab_link": true
    },
    "kernelspec": {
      "name": "python3",
      "display_name": "Python 3"
    }
  },
  "cells": [
    {
      "cell_type": "markdown",
      "metadata": {
        "id": "view-in-github",
        "colab_type": "text"
      },
      "source": [
        "<a href=\"https://colab.research.google.com/github/thfruchart/1nsi-2020/blob/master/Chap05/COURS_Tableaux.ipynb\" target=\"_parent\"><img src=\"https://colab.research.google.com/assets/colab-badge.svg\" alt=\"Open In Colab\"/></a>"
      ]
    },
    {
      "cell_type": "markdown",
      "metadata": {
        "id": "MsLlV143PQQJ"
      },
      "source": [
        "# Situation étudiée"
      ]
    },
    {
      "cell_type": "markdown",
      "metadata": {
        "id": "c53lPvtDP59p"
      },
      "source": [
        "La \"pyramide des âges\" est un résumé statistique d'une population. \n",
        "\n",
        "Pour chaque classe d'âge (en général année par année) elle donne l'effectif correspondant.\n",
        "\n",
        "Pour stocker l'information contenue dans la pyramide des âges, on pourrait utiliser une variable pour chaque classe d'âge."
      ]
    },
    {
      "cell_type": "code",
      "metadata": {
        "id": "6ijD3FQqPJus"
      },
      "source": [
        "age0 = 691165 # moins de 1 an\n",
        "age1 = 710534 # de 1 an (inclus) à 2 ans (exclu)\n",
        "age2 = 728579 # de 2 an (inclus) à 3 ans (exclu)\n",
        "age3 = 749270 # etc..."
      ],
      "execution_count": null,
      "outputs": []
    },
    {
      "cell_type": "markdown",
      "metadata": {
        "id": "9KLg76ZsQ6Sg"
      },
      "source": [
        "### avantage\n",
        "* simplicité\n",
        "\n",
        "### inconvénients\n",
        "* pénible à utiliser dans un programme\n",
        "\n",
        "\n",
        "    n = int(input('Entrer un âge : '))\n",
        "    ... \n",
        "    print('nombre de personne de cet âge', resultat)"
      ]
    },
    {
      "cell_type": "code",
      "metadata": {
        "id": "RLyp1PGARYZN",
        "outputId": "34de00ab-f8fb-404b-efc3-97f80190570c",
        "colab": {
          "base_uri": "https://localhost:8080/",
          "height": 51
        }
      },
      "source": [
        "n = int(input('Entrer un âge : '))\n",
        "if n == 0 :\n",
        "    resultat = age0\n",
        "elif n ==1 :\n",
        "    resultat = age1\n",
        "elif n == 2 :\n",
        "    resultat = age2\n",
        "else:\n",
        "    resultat = age3\n",
        "print('nombre de personne de cet âge', resultat)"
      ],
      "execution_count": null,
      "outputs": [
        {
          "output_type": "stream",
          "text": [
            "Entrer un âge : 2\n",
            "nombre de personne de cet âge 728579\n"
          ],
          "name": "stdout"
        }
      ]
    },
    {
      "cell_type": "markdown",
      "metadata": {
        "id": "96suqZ12STkg"
      },
      "source": [
        "Pour éviter de manipuler un trop grand nombre de variables du même type, on peut utiliser `une seule variable` qui contiendra toutes les valeurs : c'est l'intérêt de la notion de tableau !"
      ]
    },
    {
      "cell_type": "markdown",
      "metadata": {
        "id": "yJsgiwNJPVfn"
      },
      "source": [
        "# Notion de tableau\n"
      ]
    },
    {
      "cell_type": "code",
      "metadata": {
        "id": "D-54CrFoPYun",
        "outputId": "13447dfa-2428-4cf0-c1af-5d093963c9c6",
        "colab": {
          "base_uri": "https://localhost:8080/",
          "height": 34
        }
      },
      "source": [
        "t = [10,20,30]\n",
        "print(type(t))"
      ],
      "execution_count": null,
      "outputs": [
        {
          "output_type": "stream",
          "text": [
            "<class 'list'>\n"
          ],
          "name": "stdout"
        }
      ]
    },
    {
      "cell_type": "markdown",
      "metadata": {
        "id": "EKdOWvMUSxm_"
      },
      "source": [
        "* En python, un tableau est une variable de type `list`.\n",
        "* syntaxe d'un tableau: ** `[  ,  ,  ]`**\n",
        "* entre **crochets**, les différentes valeurs du tableau sont séparées par des **virgules**.\n",
        "* la fonction **`len`** renvoie la longueur du tableau\n"
      ]
    },
    {
      "cell_type": "code",
      "metadata": {
        "id": "eBWvMTAbTTS3",
        "outputId": "e8213aa4-7734-43c3-a071-3315f7ff991f",
        "colab": {
          "base_uri": "https://localhost:8080/",
          "height": 34
        }
      },
      "source": [
        "len(t)"
      ],
      "execution_count": null,
      "outputs": [
        {
          "output_type": "execute_result",
          "data": {
            "text/plain": [
              "3"
            ]
          },
          "metadata": {
            "tags": []
          },
          "execution_count": 6
        }
      ]
    },
    {
      "cell_type": "markdown",
      "metadata": {
        "id": "Kwntt61tVRhT"
      },
      "source": [
        "## accéder à une cellule"
      ]
    },
    {
      "cell_type": "code",
      "metadata": {
        "id": "k5p4SQF8TVxN",
        "outputId": "8d5a0973-76a8-4fab-d73e-6f0dcf12d733",
        "colab": {
          "base_uri": "https://localhost:8080/",
          "height": 34
        }
      },
      "source": [
        "t = [10,20,30]\n",
        "t[1]"
      ],
      "execution_count": null,
      "outputs": [
        {
          "output_type": "execute_result",
          "data": {
            "text/plain": [
              "20"
            ]
          },
          "metadata": {
            "tags": []
          },
          "execution_count": 8
        }
      ]
    },
    {
      "cell_type": "code",
      "metadata": {
        "id": "t3FI9VGLUlxP",
        "outputId": "06af1e99-26ac-4b5b-defd-c3e7cd9d1baa",
        "colab": {
          "base_uri": "https://localhost:8080/",
          "height": 34
        }
      },
      "source": [
        "t[2]"
      ],
      "execution_count": null,
      "outputs": [
        {
          "output_type": "execute_result",
          "data": {
            "text/plain": [
              "30"
            ]
          },
          "metadata": {
            "tags": []
          },
          "execution_count": 9
        }
      ]
    },
    {
      "cell_type": "code",
      "metadata": {
        "id": "zko_as6EG3Hi",
        "outputId": "8de2f182-61d8-4f7a-8a9c-812a4a5dc02b",
        "colab": {
          "base_uri": "https://localhost:8080/",
          "height": 34
        }
      },
      "source": [
        "t[0]"
      ],
      "execution_count": null,
      "outputs": [
        {
          "output_type": "execute_result",
          "data": {
            "text/plain": [
              "10"
            ]
          },
          "metadata": {
            "tags": []
          },
          "execution_count": 10
        }
      ]
    },
    {
      "cell_type": "code",
      "metadata": {
        "id": "58NOpl2pHbUp",
        "outputId": "a65b79b1-a4b3-4830-fb5e-0309080d38f4",
        "colab": {
          "base_uri": "https://localhost:8080/",
          "height": 164
        }
      },
      "source": [
        "t[3]"
      ],
      "execution_count": null,
      "outputs": [
        {
          "output_type": "error",
          "ename": "IndexError",
          "evalue": "ignored",
          "traceback": [
            "\u001b[0;31m---------------------------------------------------------------------------\u001b[0m",
            "\u001b[0;31mIndexError\u001b[0m                                Traceback (most recent call last)",
            "\u001b[0;32m<ipython-input-14-ffabd0b4a246>\u001b[0m in \u001b[0;36m<module>\u001b[0;34m()\u001b[0m\n\u001b[0;32m----> 1\u001b[0;31m \u001b[0mt\u001b[0m\u001b[0;34m[\u001b[0m\u001b[0;36m3\u001b[0m\u001b[0;34m]\u001b[0m\u001b[0;34m\u001b[0m\u001b[0;34m\u001b[0m\u001b[0m\n\u001b[0m",
            "\u001b[0;31mIndexError\u001b[0m: list index out of range"
          ]
        }
      ]
    },
    {
      "cell_type": "markdown",
      "metadata": {
        "id": "OAhW6c9-UFxj"
      },
      "source": [
        "Pour accéder à une valeur contenue dans un tableau, on utilise la syntaxe `t[i]` où\n",
        "* `t` est le tableau\n",
        "* `i` est un nombre entier compris entre `0` et `len(t)-1` inclus\n",
        "\n",
        "A RETENIR : `t[i]` désigne une cellule de tableau `t` à condition que :\n",
        "\n",
        "$0 \\leq \\textsf{i} \\leq \\textsf{len(t)}-1 < \\textsf{len(t)}$"
      ]
    },
    {
      "cell_type": "markdown",
      "metadata": {
        "id": "0xPX_e1ZVi0W"
      },
      "source": [
        "### cas particulier : indices négatifs"
      ]
    },
    {
      "cell_type": "code",
      "metadata": {
        "id": "wIkJQL8sVr1a",
        "outputId": "b22d3f15-49e0-4b72-a0e4-0f6bfaf3020b",
        "colab": {
          "base_uri": "https://localhost:8080/",
          "height": 34
        }
      },
      "source": [
        "t[-1]"
      ],
      "execution_count": null,
      "outputs": [
        {
          "output_type": "execute_result",
          "data": {
            "text/plain": [
              "30"
            ]
          },
          "metadata": {
            "tags": []
          },
          "execution_count": 11
        }
      ]
    },
    {
      "cell_type": "code",
      "metadata": {
        "id": "oeoELNhEVuDz",
        "outputId": "40bcd0a9-e785-4779-9be9-af4c2dc9db85",
        "colab": {
          "base_uri": "https://localhost:8080/",
          "height": 34
        }
      },
      "source": [
        "t[-2]"
      ],
      "execution_count": null,
      "outputs": [
        {
          "output_type": "execute_result",
          "data": {
            "text/plain": [
              "20"
            ]
          },
          "metadata": {
            "tags": []
          },
          "execution_count": 12
        }
      ]
    },
    {
      "cell_type": "code",
      "metadata": {
        "id": "llLDWcNGVyBc",
        "outputId": "8c547551-529f-4a53-e9df-e42eb315ff9a",
        "colab": {
          "base_uri": "https://localhost:8080/",
          "height": 34
        }
      },
      "source": [
        "t[-3]"
      ],
      "execution_count": null,
      "outputs": [
        {
          "output_type": "execute_result",
          "data": {
            "text/plain": [
              "10"
            ]
          },
          "metadata": {
            "tags": []
          },
          "execution_count": 13
        }
      ]
    },
    {
      "cell_type": "code",
      "metadata": {
        "id": "OiUQVAkMHhJC",
        "outputId": "32b57dd1-3e98-4d95-e67b-6d778fe5fd37",
        "colab": {
          "base_uri": "https://localhost:8080/",
          "height": 164
        }
      },
      "source": [
        "t[-4]"
      ],
      "execution_count": null,
      "outputs": [
        {
          "output_type": "error",
          "ename": "IndexError",
          "evalue": "ignored",
          "traceback": [
            "\u001b[0;31m---------------------------------------------------------------------------\u001b[0m",
            "\u001b[0;31mIndexError\u001b[0m                                Traceback (most recent call last)",
            "\u001b[0;32m<ipython-input-15-f827787ee78e>\u001b[0m in \u001b[0;36m<module>\u001b[0;34m()\u001b[0m\n\u001b[0;32m----> 1\u001b[0;31m \u001b[0mt\u001b[0m\u001b[0;34m[\u001b[0m\u001b[0;34m-\u001b[0m\u001b[0;36m4\u001b[0m\u001b[0;34m]\u001b[0m\u001b[0;34m\u001b[0m\u001b[0;34m\u001b[0m\u001b[0m\n\u001b[0m",
            "\u001b[0;31mIndexError\u001b[0m: list index out of range"
          ]
        }
      ]
    },
    {
      "cell_type": "markdown",
      "metadata": {
        "id": "MBNOEa_uTqE1"
      },
      "source": [
        "## exemple de la pyramide des âges"
      ]
    },
    {
      "cell_type": "code",
      "metadata": {
        "id": "HWW_2-6BTt_O"
      },
      "source": [
        "p_a = [691165, 710534, 728579, 749270, 763228, 782484, 792558, 813001, 808393, 813680, 807548, 822302, 802674, 800480, 796320, 800560, 816021, 828193, 785471, 775524, 750885, 751084, 734838, 705808, 698780, 732693, 742199, 758458, 763258, 774435, 778738, 793507, 794025, 789604, 781093, 829365, 837426, 849108, 804184, 788264, 794640, 773344, 793019, 836502, 885498, 903921, 897885, 881680, 868783, 860664, 856564, 873805, 875149, 884018, 874390, 842410, 844453, 840074, 833430, 813824, 809540, 801271, 790864, 788149, 769877, 780203, 760764, 788609, 771267, 763386, 746205, 703078, 526166, 510477, 493523, 452195, 399640, 410887, 424148, 410734, 394185, 385845, 365057, 356869, 327225, 319458, 290749, 268489, 227255, 201758, 171893, 147011, 123524, 98697, 78283, 61359, 46186, 34225, 14599, 8401, 5174, 3135, 2297, 2281, 1208, 2160]"
      ],
      "execution_count": null,
      "outputs": []
    },
    {
      "cell_type": "code",
      "metadata": {
        "id": "3toOtKDmHx3S",
        "outputId": "a14c051c-a8dd-4a29-eb0f-36496994497d",
        "colab": {
          "base_uri": "https://localhost:8080/",
          "height": 34
        }
      },
      "source": [
        "len(p_a)"
      ],
      "execution_count": null,
      "outputs": [
        {
          "output_type": "execute_result",
          "data": {
            "text/plain": [
              "106"
            ]
          },
          "metadata": {
            "tags": []
          },
          "execution_count": 18
        }
      ]
    },
    {
      "cell_type": "code",
      "metadata": {
        "id": "t_k3NxBpWDCP",
        "outputId": "7a26a0cd-9b76-4a66-f0cd-2fcd115d7b9a",
        "colab": {
          "base_uri": "https://localhost:8080/",
          "height": 51
        }
      },
      "source": [
        "n = int(input('Entrer un âge : '))\n",
        "resultat = p_a[n]\n",
        "print('nombre de personne de cet âge', resultat)"
      ],
      "execution_count": null,
      "outputs": [
        {
          "output_type": "stream",
          "text": [
            "Entrer un âge : 100\n",
            "nombre de personne de cet âge 5174\n"
          ],
          "name": "stdout"
        }
      ]
    },
    {
      "cell_type": "markdown",
      "metadata": {
        "id": "XF8eu653MoI7"
      },
      "source": [
        "## modifier la valeur contenue dans une cellule"
      ]
    },
    {
      "cell_type": "code",
      "metadata": {
        "id": "6CwtJOpoMvB5",
        "outputId": "a5585fa1-9877-41a3-a7f1-130455d4a13e",
        "colab": {
          "base_uri": "https://localhost:8080/",
          "height": 34
        }
      },
      "source": [
        "t = [10,20,30,40,50]\n",
        "t[2] = 100\n",
        "print(t)"
      ],
      "execution_count": null,
      "outputs": [
        {
          "output_type": "stream",
          "text": [
            "[10, 20, 100, 40, 50]\n"
          ],
          "name": "stdout"
        }
      ]
    },
    {
      "cell_type": "code",
      "metadata": {
        "id": "gHev92fmNEgn",
        "outputId": "4f5f3ae6-f3e9-49bb-9dd9-1ee476e81c58",
        "colab": {
          "base_uri": "https://localhost:8080/",
          "height": 34
        }
      },
      "source": [
        "t[0] = t[0] + 1\n",
        "print(t)"
      ],
      "execution_count": null,
      "outputs": [
        {
          "output_type": "stream",
          "text": [
            "[11, 20, 100, 40, 50]\n"
          ],
          "name": "stdout"
        }
      ]
    },
    {
      "cell_type": "code",
      "metadata": {
        "id": "obBd5nOTNMFC",
        "outputId": "151e4065-86a6-4c1d-cc39-bfc759c8351d",
        "colab": {
          "base_uri": "https://localhost:8080/",
          "height": 34
        }
      },
      "source": [
        "t[0] = t[0 + 1]\n",
        "print(t)"
      ],
      "execution_count": null,
      "outputs": [
        {
          "output_type": "stream",
          "text": [
            "[20, 20, 100, 40, 50]\n"
          ],
          "name": "stdout"
        }
      ]
    },
    {
      "cell_type": "markdown",
      "metadata": {
        "id": "PKzhPMXiNYJm"
      },
      "source": [
        "A RETENIR \n",
        "\n",
        "`t[i] = VALEUR` permet d'écrire `VALEUR` à l'indice `i` d'un tableau `t` à condition que `i` soit compris entre `0` et `len(t)-1` inclus"
      ]
    },
    {
      "cell_type": "markdown",
      "metadata": {
        "id": "0GGKnfVYPZZR"
      },
      "source": [
        "# Parcourir un tableau"
      ]
    },
    {
      "cell_type": "code",
      "metadata": {
        "id": "pwZhfWQyL_u0"
      },
      "source": [
        "t = [50,20,70,90,30]\n",
        "for i in range(5):\n",
        "    v = t[i]\n",
        "    print(v)\n",
        "print('END')"
      ],
      "execution_count": null,
      "outputs": []
    },
    {
      "cell_type": "markdown",
      "metadata": {
        "id": "OvH59aWZLGu5"
      },
      "source": [
        "Il est simple de parcourir toutes les valeurs d'un tableau avec une boucle `for`\n",
        "\n",
        "Python permet de parcourir tous les indices d'un tableau avec la syntaxe :\n",
        "\n",
        "    for i in range(len(t)):\n",
        "        v = t[i]\n",
        "\n",
        "Dans ce code, la variable v prendra successivement toutes les valeurs contenues dans le tableau t (depuis l'indice `0` jusqu'à l'indice `len(t)-1`)"
      ]
    },
    {
      "cell_type": "markdown",
      "metadata": {
        "id": "KQP0tHOPODxC"
      },
      "source": [
        "Exemple, dans le cas de la pyramide des âges."
      ]
    },
    {
      "cell_type": "code",
      "metadata": {
        "id": "XG9u3BEnOLK-",
        "outputId": "da7d6b50-7b00-434c-c989-cfbb232b7a0d",
        "colab": {
          "base_uri": "https://localhost:8080/",
          "height": 34
        }
      },
      "source": [
        "n = 0\n",
        "for i in range (len(p_a)):\n",
        "    n = n + p_a[i]\n",
        "print(n)"
      ],
      "execution_count": null,
      "outputs": [
        {
          "output_type": "stream",
          "text": [
            "65018096\n"
          ],
          "name": "stdout"
        }
      ]
    },
    {
      "cell_type": "markdown",
      "metadata": {
        "id": "cMImUv8_OKWQ"
      },
      "source": [
        "Que représente la valeur affichée par ce programme ?"
      ]
    },
    {
      "cell_type": "markdown",
      "metadata": {
        "id": "bdvmLpPBLirJ"
      },
      "source": [
        "Population totale de l'âge 0 à l'âge maximal"
      ]
    },
    {
      "cell_type": "markdown",
      "metadata": {
        "id": "9z3DwMCCPgEL"
      },
      "source": [
        "# Construire de grands tableaux"
      ]
    },
    {
      "cell_type": "code",
      "metadata": {
        "id": "RSsxvo2nSIGp",
        "outputId": "9a552b6a-e304-40f9-d2fe-ec3152b7ded8",
        "colab": {
          "base_uri": "https://localhost:8080/",
          "height": 34
        }
      },
      "source": [
        "tab = [0] * 10\n",
        "print(tab)"
      ],
      "execution_count": null,
      "outputs": [
        {
          "output_type": "stream",
          "text": [
            "[0, 0, 0, 0, 0, 0, 0, 0, 0, 0]\n"
          ],
          "name": "stdout"
        }
      ]
    },
    {
      "cell_type": "code",
      "metadata": {
        "id": "O1mBppg_SNuZ",
        "outputId": "966e152b-6bcf-49c8-b0bb-b78b11a5ae4a",
        "colab": {
          "base_uri": "https://localhost:8080/",
          "height": 34
        }
      },
      "source": [
        "tab2 = [1,2,3] * 5\n",
        "print(tab2)"
      ],
      "execution_count": null,
      "outputs": [
        {
          "output_type": "stream",
          "text": [
            "[1, 2, 3, 1, 2, 3, 1, 2, 3, 1, 2, 3, 1, 2, 3]\n"
          ],
          "name": "stdout"
        }
      ]
    },
    {
      "cell_type": "code",
      "metadata": {
        "id": "4GfdWL4zScJZ",
        "outputId": "e60baa89-52d5-4809-b98e-8791395cd6d7",
        "colab": {
          "base_uri": "https://localhost:8080/",
          "height": 34
        }
      },
      "source": [
        "tab3 = [1,2,3] + [4,5,6]\n",
        "print(tab3)"
      ],
      "execution_count": null,
      "outputs": [
        {
          "output_type": "stream",
          "text": [
            "[1, 2, 3, 4, 5, 6]\n"
          ],
          "name": "stdout"
        }
      ]
    },
    {
      "cell_type": "markdown",
      "metadata": {
        "id": "pqy7BLsHSjJG"
      },
      "source": [
        "## Attention !\n",
        "\n",
        " `+` et `*` définissent aussi des opérations sur les tableaux.\n",
        " * `+` permet de concaténer deux tableaux (c'est à dire de les mettre bout à bout\n",
        " * `*` permet de \"répéter le même tableau\" un nombre entier de fois.\n",
        "\n",
        " AVANTAGE\n",
        " * cela permet de définir de grands tableaux facilement\n",
        "\n",
        " INCONVÉNIENT\n",
        " * il ne faut pas confondre les opérations sur les tableaux avec les opérations sur les nombres, qui utilisent les même symboles !"
      ]
    },
    {
      "cell_type": "markdown",
      "metadata": {
        "id": "bpDqB8LEPxH1"
      },
      "source": [
        "### tableaux et chaînes de caractères"
      ]
    },
    {
      "cell_type": "markdown",
      "metadata": {
        "id": "ScaGDA47RLRT"
      },
      "source": [
        "Les chaînes de caractères ont le type `str` en python."
      ]
    },
    {
      "cell_type": "code",
      "metadata": {
        "id": "OCSHFS6oQc1E"
      },
      "source": [
        "s = 'ABCDE'"
      ],
      "execution_count": null,
      "outputs": []
    },
    {
      "cell_type": "code",
      "metadata": {
        "id": "Uu10KbZQQ4lp"
      },
      "source": [
        "len(s)"
      ],
      "execution_count": null,
      "outputs": []
    },
    {
      "cell_type": "code",
      "metadata": {
        "id": "pqDAuhmDQ86W"
      },
      "source": [
        "s[0]"
      ],
      "execution_count": null,
      "outputs": []
    },
    {
      "cell_type": "code",
      "metadata": {
        "id": "-M5Z2f7aQ-Fv"
      },
      "source": [
        "s[4]"
      ],
      "execution_count": null,
      "outputs": []
    },
    {
      "cell_type": "code",
      "metadata": {
        "id": "Bc9D9azFQ_lU"
      },
      "source": [
        "for i in range(len(s)) :\n",
        "    print(s[i])"
      ],
      "execution_count": null,
      "outputs": []
    },
    {
      "cell_type": "markdown",
      "metadata": {
        "id": "-Zzj2iN4P0SN"
      },
      "source": [
        "Le type  `str` présente certaines similitudes avec les tableaux.\n",
        "* la fonction `len` renvoie la **longueur** d'une chaîne de caractères.\n",
        "* on peut accéder à un caractère d'une chaine `s` avec la syntaxe **`s[i]`** avec `i` un indice compris entre `0` et `len(t)-1`.\n",
        "* on peut parcourir tous les caractères d'une chaîne avec une boucle `for`\n",
        "* mais... "
      ]
    },
    {
      "cell_type": "code",
      "metadata": {
        "id": "6qXNoLBGRSbS",
        "outputId": "79d38b3e-8d9f-4ec5-c7e3-73393ccaefc9",
        "colab": {
          "base_uri": "https://localhost:8080/",
          "height": 163
        }
      },
      "source": [
        "s[2] = 'Z'"
      ],
      "execution_count": null,
      "outputs": [
        {
          "output_type": "error",
          "ename": "TypeError",
          "evalue": "ignored",
          "traceback": [
            "\u001b[0;31m---------------------------------------------------------------------------\u001b[0m",
            "\u001b[0;31mTypeError\u001b[0m                                 Traceback (most recent call last)",
            "\u001b[0;32m<ipython-input-6-504c0deda7f6>\u001b[0m in \u001b[0;36m<module>\u001b[0;34m()\u001b[0m\n\u001b[0;32m----> 1\u001b[0;31m \u001b[0ms\u001b[0m\u001b[0;34m[\u001b[0m\u001b[0;36m2\u001b[0m\u001b[0;34m]\u001b[0m \u001b[0;34m=\u001b[0m \u001b[0;34m'Z'\u001b[0m\u001b[0;34m\u001b[0m\u001b[0;34m\u001b[0m\u001b[0m\n\u001b[0m",
            "\u001b[0;31mTypeError\u001b[0m: 'str' object does not support item assignment"
          ]
        }
      ]
    },
    {
      "cell_type": "markdown",
      "metadata": {
        "id": "T-vzSFxeRVpk"
      },
      "source": [
        "A la différence d'un tableau, on ne peut **pas modifier** un caractère d'une chaîne. On dit que le type `str` est **immuable** en Python."
      ]
    },
    {
      "cell_type": "markdown",
      "metadata": {
        "id": "6XsVdm_WPjKA"
      },
      "source": [
        "# Tableaux en mémoire"
      ]
    },
    {
      "cell_type": "markdown",
      "metadata": {
        "id": "hL2PMhlmTrVP"
      },
      "source": [
        "Observer l'exécution des commandes suivantes : "
      ]
    },
    {
      "cell_type": "code",
      "metadata": {
        "id": "byGa8WWb9YN6"
      },
      "source": [
        "t1 = [10,20,30]\n",
        "print('t1=', t1)\n",
        "t2 = t1\n",
        "print('t2=', t2)\n",
        "t2[0] = 1000\n",
        "print('t2=', t2)\n",
        "print('t1=', t1)"
      ],
      "execution_count": null,
      "outputs": []
    },
    {
      "cell_type": "markdown",
      "metadata": {
        "id": "CSS8-SiY9z7H"
      },
      "source": [
        "Comparer avec : "
      ]
    },
    {
      "cell_type": "code",
      "metadata": {
        "id": "JVOXjTkR91aW"
      },
      "source": [
        "t1 = [10,20,30]\n",
        "print('t1=', t1)\n",
        "t2 = [10,20,30]\n",
        "print('t2=', t2)\n",
        "t2[0] = 1000\n",
        "print('t2=', t2)\n",
        "print('t1=', t1)"
      ],
      "execution_count": null,
      "outputs": []
    },
    {
      "cell_type": "markdown",
      "metadata": {
        "id": "gL8gNPh99vq4"
      },
      "source": [
        "Dans le cas où t2 est défini par la commande  `t2 = t1`\n",
        "Une modification sur l'un des deux tableaux modifie en fait les deux tableaux. "
      ]
    },
    {
      "cell_type": "code",
      "metadata": {
        "id": "WftEnbP6-I56"
      },
      "source": [
        "t1 = [10,20,30]\n",
        "t2 = t1\n",
        "t3 = [10,20,30]\n",
        "t2[0] = 1000\n",
        "print(t1[0], t2[0], t3[0])"
      ],
      "execution_count": null,
      "outputs": []
    },
    {
      "cell_type": "markdown",
      "metadata": {
        "id": "zm4Js8wq-WwZ"
      },
      "source": [
        "Visualiser l'exécution du code ci-dessus sur [PythonTutor](http://www.pythontutor.com/visualize.html#code=t1%20%3D%20%5B10,20,30%5D%0At2%20%3D%20t1%0At3%20%3D%20%5B10,20,30%5D%0At2%5B0%5D%20%3D%201000%0Aprint%28t1%5B0%5D,%20t2%5B0%5D,%20t3%5B0%5D%29&cumulative=false&curInstr=0&heapPrimitives=nevernest&mode=display&origin=opt-frontend.js&py=3&rawInputLstJSON=%5B%5D&textReferences=false)"
      ]
    },
    {
      "cell_type": "markdown",
      "metadata": {
        "id": "86chAgyy-sth"
      },
      "source": [
        "## pour copier un tableau et définir un **nouveau** tableau\n",
        "\n",
        "on pourra utiliser la syntaxe suivante : `t2 = t1[:]`"
      ]
    },
    {
      "cell_type": "code",
      "metadata": {
        "id": "TtXXC6Ie-7Z5"
      },
      "source": [
        "t1 = [10,20,30]\n",
        "print('t1=', t1)\n",
        "t2 = t1[:]\n",
        "print('t2=', t2)\n",
        "t2[0] = 1000\n",
        "print('t2=', t2)\n",
        "print('t1=', t1)"
      ],
      "execution_count": null,
      "outputs": []
    },
    {
      "cell_type": "markdown",
      "metadata": {
        "id": "9nkGeG7eRPK2"
      },
      "source": [
        "# Slicing  `[ : ]`"
      ]
    },
    {
      "cell_type": "markdown",
      "metadata": {
        "id": "3HnTxiD-SQ9k"
      },
      "source": [
        "Pour les tableaux, ou pour les chaînes de caractères, on peut séléctionner plusieurs cellules, ou plusieurs caractères, en découpant une \"tranche\" (en anglais : *slice*)\n",
        "\n",
        "Voir l'exemple suivant sur la chaîne de caractères `'Python'`, de longeur 6\n",
        "\n",
        "       0   1   2   3   4   5  =  indices des caractères  [i]\n",
        "     +---+---+---+---+---+---+\n",
        "     | P | y | t | h | o | n |\n",
        "     +---+---+---+---+---+---+\n",
        "     0   1   2   3   4   5   6  = indices des tranches   [i:j]\n",
        "    -6  -5  -4  -3  -2  -1\n"
      ]
    },
    {
      "cell_type": "code",
      "metadata": {
        "id": "DV36Pn_lS4nx"
      },
      "source": [
        "'Python'[3]"
      ],
      "execution_count": null,
      "outputs": []
    },
    {
      "cell_type": "code",
      "metadata": {
        "id": "cBcPa-vFS7Sn"
      },
      "source": [
        "'Python'[2:4]"
      ],
      "execution_count": null,
      "outputs": []
    },
    {
      "cell_type": "code",
      "metadata": {
        "id": "3ciy_zErUT8a"
      },
      "source": [
        "'Python'[6]"
      ],
      "execution_count": null,
      "outputs": []
    },
    {
      "cell_type": "code",
      "metadata": {
        "id": "QNLPUNykUWtW"
      },
      "source": [
        "'Python'[3:6]"
      ],
      "execution_count": null,
      "outputs": []
    },
    {
      "cell_type": "markdown",
      "metadata": {
        "id": "JlSr8YFeVGDu"
      },
      "source": [
        "Dans la syntaxe `chn[i:j]`\n",
        "* si l'indice `i` est absent, il est remplacé par l'indice de **début** de chaîne\n",
        "* si l'indice `j` est absent, il est remplacé par l'indice de **fin** de chaîne"
      ]
    },
    {
      "cell_type": "code",
      "metadata": {
        "id": "eNRshkYoTBmA"
      },
      "source": [
        "'Python'[2:]"
      ],
      "execution_count": null,
      "outputs": []
    },
    {
      "cell_type": "code",
      "metadata": {
        "id": "lHujcFWnTE8q"
      },
      "source": [
        "'Python'[:3]"
      ],
      "execution_count": null,
      "outputs": []
    },
    {
      "cell_type": "code",
      "metadata": {
        "id": "38RKaELPUBFW"
      },
      "source": [
        "'Python'[:]"
      ],
      "execution_count": null,
      "outputs": []
    },
    {
      "cell_type": "code",
      "metadata": {
        "id": "dZGYjucxUplY"
      },
      "source": [
        "'Python'[2:2]"
      ],
      "execution_count": null,
      "outputs": []
    },
    {
      "cell_type": "markdown",
      "metadata": {
        "id": "1wLtfXn3T0nT"
      },
      "source": [
        "Remarque, les indices des 'tranches' peuvent dépasser les valeurs attendues sans provoquer d'erreur"
      ]
    },
    {
      "cell_type": "code",
      "metadata": {
        "id": "6En6se6mU4Vp"
      },
      "source": [
        "'Python'[1:1000]"
      ],
      "execution_count": null,
      "outputs": []
    },
    {
      "cell_type": "markdown",
      "metadata": {
        "id": "DgWxyAxeaHGr"
      },
      "source": [
        "## [>>> Activité Papier](https://github.com/thfruchart/1nsi-2020/blob/master/Chap05/ACTIVIT%C3%89_PAPIER_1.ipynb)"
      ]
    },
    {
      "cell_type": "markdown",
      "metadata": {
        "id": "5CYwuH2RTmnx"
      },
      "source": [
        "# Tableaux et fonctions"
      ]
    },
    {
      "cell_type": "markdown",
      "metadata": {
        "id": "oiRL-nOWTo5A"
      },
      "source": [
        "Lorsqu'un tableau est passé en **paramètre** d'une fonction, certaines commandes peuvent modifier son contenu.\n",
        "\n",
        "Voir l'exemple ci-dessous [sur Python Tutor](http://www.pythontutor.com/visualize.html#code=def%20modif%28t%29%3A%0A%20%20%20%20t%5B0%5D%20%3D%205%0A%20%20%20%20t%20%3D%20%5B1,2,3%5D%0A%20%20%20%20return%20t%20%0A%0At1%20%3D%20%5B0,0,0%5D%0At2%20%3D%20modif%28t1%29%0Aprint%28't2%3D',t2%29%0Aprint%28't1%3D',t1%29&cumulative=false&curInstr=0&heapPrimitives=nevernest&mode=display&origin=opt-frontend.js&py=3&rawInputLstJSON=%5B%5D&textReferences=false)"
      ]
    },
    {
      "cell_type": "code",
      "metadata": {
        "id": "LQB7fbdxT7R6"
      },
      "source": [
        "def modif(t):\n",
        "    t[0] = 5\n",
        "    t = [1,2,3]\n",
        "    return t \n",
        "\n",
        "t1 = [0,0,0]\n",
        "t2 = modif(t1)\n",
        "print('t2=',t2)\n",
        "print('t1=',t1)"
      ],
      "execution_count": null,
      "outputs": []
    }
  ]
}