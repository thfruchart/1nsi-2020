{
  "nbformat": 4,
  "nbformat_minor": 0,
  "metadata": {
    "colab": {
      "name": "05-ACTIVITÉ-PAPIER-1.ipynb",
      "provenance": [],
      "collapsed_sections": [],
      "authorship_tag": "ABX9TyPV7kH4a0M+0zv0nx+6tEIk",
      "include_colab_link": true
    },
    "kernelspec": {
      "name": "python3",
      "display_name": "Python 3"
    }
  },
  "cells": [
    {
      "cell_type": "markdown",
      "metadata": {
        "id": "view-in-github",
        "colab_type": "text"
      },
      "source": [
        "<a href=\"https://colab.research.google.com/github/thfruchart/1nsi-2020/blob/master/Chap05/ACTIVIT%C3%89_PAPIER_1.ipynb\" target=\"_parent\"><img src=\"https://colab.research.google.com/assets/colab-badge.svg\" alt=\"Open In Colab\"/></a>"
      ]
    },
    {
      "cell_type": "markdown",
      "metadata": {
        "id": "BAfbAlT0Yj8p"
      },
      "source": [
        "# Activité Papier :  `list` et `str`"
      ]
    },
    {
      "cell_type": "markdown",
      "metadata": {
        "id": "3etMzJbLW8q0"
      },
      "source": [
        "Déterminer la valeur de chacune des expressions suivantes en Python"
      ]
    },
    {
      "cell_type": "code",
      "metadata": {
        "id": "hCeEqj1fWkl6"
      },
      "source": [
        "'ABCDEFG'[1]"
      ],
      "execution_count": null,
      "outputs": []
    },
    {
      "cell_type": "code",
      "metadata": {
        "id": "zX88GY5fXW9F"
      },
      "source": [
        "'ABCDEFG'[3]"
      ],
      "execution_count": null,
      "outputs": []
    },
    {
      "cell_type": "code",
      "metadata": {
        "id": "WttwjzB7Xa4-"
      },
      "source": [
        "'ABCDEFG'[1:3]"
      ],
      "execution_count": null,
      "outputs": []
    },
    {
      "cell_type": "code",
      "metadata": {
        "id": "7q0M62aIXcUF"
      },
      "source": [
        "'ABCDEFG'[3:]"
      ],
      "execution_count": null,
      "outputs": []
    },
    {
      "cell_type": "code",
      "metadata": {
        "id": "licnzp2YXebk"
      },
      "source": [
        "'ABCDEFG'[1:4] + 'ABCDEFG'[4:6]"
      ],
      "execution_count": null,
      "outputs": []
    },
    {
      "cell_type": "markdown",
      "metadata": {
        "id": "wO3TuLf4YBnV"
      },
      "source": [
        "Déterminer la valeur affichée par le programme : "
      ]
    },
    {
      "cell_type": "code",
      "metadata": {
        "id": "vb81WMxQXo01"
      },
      "source": [
        "a = 'JOHN'\n",
        "b = 'STUR'\n",
        "c = a[:2] + b[2:]\n",
        "print(c)"
      ],
      "execution_count": null,
      "outputs": []
    },
    {
      "cell_type": "markdown",
      "metadata": {
        "id": "z-yjG3OsYKkf"
      },
      "source": [
        "Déterminer la valeur affichée par le programme : "
      ]
    },
    {
      "cell_type": "code",
      "metadata": {
        "id": "Mz9HrF1hYLH-"
      },
      "source": [
        "t = [10,20,30,40,50]\n",
        "for i in range(len(t)):\n",
        "    t[i] = t[i] + i \n",
        "print(t)"
      ],
      "execution_count": null,
      "outputs": []
    }
  ]
}