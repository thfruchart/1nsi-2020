{
  "nbformat": 4,
  "nbformat_minor": 0,
  "metadata": {
    "colab": {
      "name": "Untitled1.ipynb",
      "provenance": [],
      "authorship_tag": "ABX9TyM93l7lC9iZHs0wi8DClfoe",
      "include_colab_link": true
    },
    "kernelspec": {
      "name": "python3",
      "display_name": "Python 3"
    }
  },
  "cells": [
    {
      "cell_type": "markdown",
      "metadata": {
        "id": "view-in-github",
        "colab_type": "text"
      },
      "source": [
        "<a href=\"https://colab.research.google.com/github/thfruchart/1nsi-2020/blob/master/Chap18/dictionnaire.ipynb\" target=\"_parent\"><img src=\"https://colab.research.google.com/assets/colab-badge.svg\" alt=\"Open In Colab\"/></a>"
      ]
    },
    {
      "cell_type": "markdown",
      "metadata": {
        "id": "abeNfEnxrquX"
      },
      "source": [
        "# Dictionnaires"
      ]
    },
    {
      "cell_type": "markdown",
      "metadata": {
        "id": "GBnNjzNgruL1"
      },
      "source": [
        "### Créer un dictionnaire vide"
      ]
    },
    {
      "cell_type": "code",
      "metadata": {
        "id": "8veWWotfrqHL"
      },
      "source": [
        "d = {}"
      ],
      "execution_count": null,
      "outputs": []
    },
    {
      "cell_type": "code",
      "metadata": {
        "id": "Qj2aLiPEr0mV"
      },
      "source": [
        "print(d)"
      ],
      "execution_count": null,
      "outputs": []
    },
    {
      "cell_type": "code",
      "metadata": {
        "id": "1M42pCnVr2dN"
      },
      "source": [
        "type(d)"
      ],
      "execution_count": null,
      "outputs": []
    },
    {
      "cell_type": "markdown",
      "metadata": {
        "id": "p_JdThFWr6Jd"
      },
      "source": [
        "### Ajout d'un élément, c'est à dire un couple  `clé : valeur`"
      ]
    },
    {
      "cell_type": "code",
      "metadata": {
        "id": "Ld6KrDM4sCMt"
      },
      "source": [
        "d[\"un\"] = 1"
      ],
      "execution_count": null,
      "outputs": []
    },
    {
      "cell_type": "code",
      "metadata": {
        "id": "I95YMVDssG9N"
      },
      "source": [
        "d[\"deux\"]=2"
      ],
      "execution_count": null,
      "outputs": []
    },
    {
      "cell_type": "code",
      "metadata": {
        "id": "wojxeGYHsKr1",
        "colab": {
          "base_uri": "https://localhost:8080/",
          "height": 34
        },
        "outputId": "6c78eb32-5412-4f7c-af1f-50d016ccdaa2"
      },
      "source": [
        "print(d)"
      ],
      "execution_count": null,
      "outputs": [
        {
          "output_type": "execute_result",
          "data": {
            "text/plain": [
              "{'deux': 2, 'un': 1}"
            ]
          },
          "metadata": {
            "tags": []
          },
          "execution_count": 6
        }
      ]
    },
    {
      "cell_type": "markdown",
      "metadata": {
        "id": "HUQbg6JJWhcr"
      },
      "source": [
        "### Lire une valeur dans un dictionnaire, grâce à la clé"
      ]
    },
    {
      "cell_type": "code",
      "metadata": {
        "id": "NqPpKSDdWlMw"
      },
      "source": [
        "v = d[\"deux\"]\n",
        "print(v)"
      ],
      "execution_count": null,
      "outputs": []
    },
    {
      "cell_type": "markdown",
      "metadata": {
        "id": "NgPZ4-gTseKm"
      },
      "source": [
        "### **Clés** d'un dictionnaire"
      ]
    },
    {
      "cell_type": "code",
      "metadata": {
        "id": "cnMEc1mQsfqW"
      },
      "source": [
        "d.keys()"
      ],
      "execution_count": null,
      "outputs": []
    },
    {
      "cell_type": "markdown",
      "metadata": {
        "id": "KtqOuz1QskkO"
      },
      "source": [
        "### **Valeurs** d'un dictionnaire"
      ]
    },
    {
      "cell_type": "code",
      "metadata": {
        "id": "Fm1P8BeismKX"
      },
      "source": [
        "d.values()"
      ],
      "execution_count": null,
      "outputs": []
    },
    {
      "cell_type": "markdown",
      "metadata": {
        "id": "kS0DiCAd8kOt"
      },
      "source": [
        "### **Items** d'un dictionnaire"
      ]
    },
    {
      "cell_type": "code",
      "metadata": {
        "id": "nLWhQlnm8mpJ"
      },
      "source": [
        "d.items()"
      ],
      "execution_count": null,
      "outputs": []
    },
    {
      "cell_type": "markdown",
      "metadata": {
        "id": "S1cY7Gg4srpf"
      },
      "source": [
        "##Modification de la valeur associée à une clé"
      ]
    },
    {
      "cell_type": "code",
      "metadata": {
        "id": "ZVh7yXV9srPv"
      },
      "source": [
        "d['un'] = 1.0 "
      ],
      "execution_count": null,
      "outputs": []
    },
    {
      "cell_type": "code",
      "metadata": {
        "id": "Z_Dj87mrs4dn"
      },
      "source": [
        "print(d)"
      ],
      "execution_count": null,
      "outputs": []
    },
    {
      "cell_type": "code",
      "metadata": {
        "id": "59GdbEwQtCEX"
      },
      "source": [
        "'trois' in d"
      ],
      "execution_count": null,
      "outputs": []
    },
    {
      "cell_type": "code",
      "metadata": {
        "id": "vN4i9PCGtFnX"
      },
      "source": [
        "'deux' in d"
      ],
      "execution_count": null,
      "outputs": []
    },
    {
      "cell_type": "markdown",
      "metadata": {
        "id": "_DTCGEhCW2JZ"
      },
      "source": [
        "A RETENIR :\n",
        "\n",
        "l'expression `k in d` est de type `bool` et prend la valeur `True` si et seulement si `k` est une clé du dictionnaire `d`."
      ]
    },
    {
      "cell_type": "markdown",
      "metadata": {
        "id": "dkhJJ3LhtMev"
      },
      "source": [
        "# Parcours avec une boucle FOR"
      ]
    },
    {
      "cell_type": "markdown",
      "metadata": {
        "id": "UhiUUg9j8xGr"
      },
      "source": [
        "## 1. sur les clés du dictionnaire"
      ]
    },
    {
      "cell_type": "code",
      "metadata": {
        "id": "OUYn3Og-tPin",
        "colab": {
          "base_uri": "https://localhost:8080/",
          "height": 118
        },
        "outputId": "7d8b7e03-da31-43f1-d468-f82484297573"
      },
      "source": [
        "for k in d : \n",
        "    print('clé : ', k)\n",
        "    print('valeur : ', d[k])\n",
        "    print('---')"
      ],
      "execution_count": null,
      "outputs": [
        {
          "output_type": "stream",
          "text": [
            "clé :  un\n",
            "valeur :  1.0\n",
            "---\n",
            "clé :  deux\n",
            "valeur :  2\n",
            "---\n"
          ],
          "name": "stdout"
        }
      ]
    },
    {
      "cell_type": "markdown",
      "metadata": {
        "id": "yl9xUoSiV4mZ"
      },
      "source": [
        "## 2. sur les valeurs du dictionnaire"
      ]
    },
    {
      "cell_type": "code",
      "metadata": {
        "id": "1pOGZOKGV39x"
      },
      "source": [
        "for v in d.values():\n",
        "    print(' valeur : ', v)\n",
        "    print()"
      ],
      "execution_count": null,
      "outputs": []
    },
    {
      "cell_type": "markdown",
      "metadata": {
        "id": "ftG0o90585-p"
      },
      "source": [
        "## 3. sur les items du dictionnaire"
      ]
    },
    {
      "cell_type": "code",
      "metadata": {
        "id": "uXMAcF0b89DI",
        "colab": {
          "base_uri": "https://localhost:8080/",
          "height": 85
        },
        "outputId": "37a6913b-3bd6-4e4a-e2c5-358ae0d11e85"
      },
      "source": [
        "for k,v in d.items():\n",
        "    print('clé : ', k, ' =>  valeur : ', v)\n",
        "    print()\n"
      ],
      "execution_count": null,
      "outputs": [
        {
          "output_type": "stream",
          "text": [
            "clé :  un  =>  valeur :  1\n",
            "\n",
            "clé :  deux  =>  valeur :  2\n",
            "\n"
          ],
          "name": "stdout"
        }
      ]
    }
  ]
}