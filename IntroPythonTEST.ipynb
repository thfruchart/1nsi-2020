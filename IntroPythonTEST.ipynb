{
  "nbformat": 4,
  "nbformat_minor": 0,
  "metadata": {
    "colab": {
      "name": "IntroPythonTEST.ipynb",
      "provenance": [],
      "collapsed_sections": [],
      "toc_visible": true,
      "authorship_tag": "ABX9TyMhskmggVKTYX4fsfY75bK/",
      "include_colab_link": true
    },
    "kernelspec": {
      "name": "python3",
      "display_name": "Python 3"
    }
  },
  "cells": [
    {
      "cell_type": "markdown",
      "metadata": {
        "id": "view-in-github",
        "colab_type": "text"
      },
      "source": [
        "<a href=\"https://colab.research.google.com/github/thfruchart/1nsi-2020/blob/master/IntroPythonTEST.ipynb\" target=\"_parent\"><img src=\"https://colab.research.google.com/assets/colab-badge.svg\" alt=\"Open In Colab\"/></a>"
      ]
    },
    {
      "cell_type": "markdown",
      "metadata": {
        "id": "SBLPa3KbI65q",
        "colab_type": "text"
      },
      "source": [
        "# TEST 1 : expression ou instruction\n",
        "\n",
        "Pour chaque cellule de code :\n",
        "* déterminer si la cellule contient une expression ou une instruction\n",
        "* tester en exécutant la cellule"
      ]
    },
    {
      "cell_type": "code",
      "metadata": {
        "id": "2NEc2S7QJGeV",
        "colab_type": "code",
        "colab": {}
      },
      "source": [
        "10*3-5*2"
      ],
      "execution_count": null,
      "outputs": []
    },
    {
      "cell_type": "code",
      "metadata": {
        "id": "AIfS76wJJLWl",
        "colab_type": "code",
        "colab": {}
      },
      "source": [
        "a = 5/7"
      ],
      "execution_count": null,
      "outputs": []
    },
    {
      "cell_type": "code",
      "metadata": {
        "id": "JIrBiSdlJQse",
        "colab_type": "code",
        "colab": {}
      },
      "source": [
        "print(5/7)"
      ],
      "execution_count": null,
      "outputs": []
    },
    {
      "cell_type": "code",
      "metadata": {
        "id": "wSRyVhfsJURj",
        "colab_type": "code",
        "colab": {}
      },
      "source": [
        "a"
      ],
      "execution_count": null,
      "outputs": []
    },
    {
      "cell_type": "code",
      "metadata": {
        "id": "wiNhVh8NJjg5",
        "colab_type": "code",
        "colab": {}
      },
      "source": [
        "c"
      ],
      "execution_count": null,
      "outputs": []
    },
    {
      "cell_type": "code",
      "metadata": {
        "id": "1bZMvMXsJlYB",
        "colab_type": "code",
        "colab": {}
      },
      "source": [
        "d = (a + 2) * 5 - 1"
      ],
      "execution_count": null,
      "outputs": []
    },
    {
      "cell_type": "markdown",
      "metadata": {
        "id": "Mf0lofwkHQY9",
        "colab_type": "text"
      },
      "source": [
        "# TEST 2 : type correct ?\n",
        "Pour chaque code python :\n",
        "* déterminer le résultat qui sera produit à l'exécution et écrire le résultat à l'emplacement des  `...` \n",
        "* tester en exécutant la cellule"
      ]
    },
    {
      "cell_type": "markdown",
      "metadata": {
        "id": "ZiLKglRg8ZrM",
        "colab_type": "text"
      },
      "source": [
        "    a = 10/2\n",
        "    print(type(a))\n",
        "\n",
        "... "
      ]
    },
    {
      "cell_type": "code",
      "metadata": {
        "id": "pmAX-V1vHNkP",
        "colab_type": "code",
        "colab": {}
      },
      "source": [
        "a = 10/2\n",
        "print(type(a))"
      ],
      "execution_count": null,
      "outputs": []
    },
    {
      "cell_type": "markdown",
      "metadata": {
        "id": "VAvxFG6b8s4v",
        "colab_type": "text"
      },
      "source": [
        "    b = \"100\"\n",
        "    print(type(b))\n",
        "\n",
        "... "
      ]
    },
    {
      "cell_type": "code",
      "metadata": {
        "id": "7sS2SVMfHlYZ",
        "colab_type": "code",
        "colab": {}
      },
      "source": [
        "b = \"100\"\n",
        "print(type(b))"
      ],
      "execution_count": null,
      "outputs": []
    },
    {
      "cell_type": "markdown",
      "metadata": {
        "id": "ktUkP_wP80CX",
        "colab_type": "text"
      },
      "source": [
        "    c = a + b\n",
        "\n",
        "... "
      ]
    },
    {
      "cell_type": "code",
      "metadata": {
        "id": "E8jeUM-1IMOV",
        "colab_type": "code",
        "colab": {}
      },
      "source": [
        "c = a + b"
      ],
      "execution_count": null,
      "outputs": []
    },
    {
      "cell_type": "markdown",
      "metadata": {
        "id": "haCoNNbX84Yw",
        "colab_type": "text"
      },
      "source": [
        "    d = a + int(b)\n",
        "\n",
        "... "
      ]
    },
    {
      "cell_type": "code",
      "metadata": {
        "id": "2cpcX4-2IREt",
        "colab_type": "code",
        "colab": {}
      },
      "source": [
        "d = a + int(b)"
      ],
      "execution_count": null,
      "outputs": []
    },
    {
      "cell_type": "markdown",
      "metadata": {
        "id": "RrhKDFF_9W2g",
        "colab_type": "text"
      },
      "source": [
        "# TEST3 : importation de module\n",
        "\n",
        "La module documentation du module `time` indique que ce module contient les commandes suivantes : \n",
        "\n",
        "`time.perf_counter() → float`  \n",
        "Renvoie la valeur (en quelques fractions de secondes) d’un compteur de performance, c’est-à-dire une horloge avec la résolution disponible la plus élevée possible pour mesurer une courte durée. Cela inclut le temps écoulé pendant le sommeil et concerne l’ensemble du système. Le point de référence de la valeur renvoyée n’est pas défini, de sorte que seule la différence entre les résultats d’appels consécutifs est valide.\n",
        "\n",
        "`time.sleep(secs)`  \n",
        "Suspend l’exécution du thread appelant pendant le nombre de secondes indiqué. L’argument peut être un nombre à virgule flottante pour indiquer un temps de sommeil plus précis. Le temps de suspension réel peut être inférieur à celui demandé, car tout signal capturé mettra fin à la commande sleep() après l’exécution de la routine de capture de ce signal. En outre, le temps de suspension peut être plus long que celui demandé par un montant arbitraire en raison de la planification d’une autre activité dans le système.\n",
        "\n",
        "Parmi les codes ci-dessous, lesquels sont incorrects : expliquer pourquoi."
      ]
    },
    {
      "cell_type": "markdown",
      "metadata": {
        "id": "qKLjWFGi9zL3",
        "colab_type": "text"
      },
      "source": [
        "Code 1\n",
        "\n",
        "... "
      ]
    },
    {
      "cell_type": "code",
      "metadata": {
        "id": "X8CfQ8SW9xlM",
        "colab_type": "code",
        "colab": {}
      },
      "source": [
        "import time\n",
        "sleep(3)"
      ],
      "execution_count": null,
      "outputs": []
    },
    {
      "cell_type": "markdown",
      "metadata": {
        "id": "6-fjz0YLAOS1",
        "colab_type": "text"
      },
      "source": [
        "Code 2\n",
        "\n",
        "...\n"
      ]
    },
    {
      "cell_type": "code",
      "metadata": {
        "id": "9S7TPc1lAQYL",
        "colab_type": "code",
        "colab": {}
      },
      "source": [
        "import time\n",
        "time.perf_counter()"
      ],
      "execution_count": null,
      "outputs": []
    },
    {
      "cell_type": "markdown",
      "metadata": {
        "id": "YVnyI07wAUmz",
        "colab_type": "text"
      },
      "source": [
        "Code 3\n",
        "\n",
        "...\n"
      ]
    },
    {
      "cell_type": "code",
      "metadata": {
        "id": "QJS77JeWAXIj",
        "colab_type": "code",
        "colab": {}
      },
      "source": [
        "from time import perf_counter\n",
        "\n",
        "perf_counter()"
      ],
      "execution_count": null,
      "outputs": []
    },
    {
      "cell_type": "markdown",
      "metadata": {
        "id": "yKjZXuorAczE",
        "colab_type": "text"
      },
      "source": [
        "Code 4\n",
        "\n",
        "...\n"
      ]
    },
    {
      "cell_type": "code",
      "metadata": {
        "id": "4iOj0YOyAfBT",
        "colab_type": "code",
        "colab": {}
      },
      "source": [
        "from time import perf_counter\n",
        "\n",
        "time.sleep(3)"
      ],
      "execution_count": null,
      "outputs": []
    }
  ]
}