{
  "nbformat": 4,
  "nbformat_minor": 0,
  "metadata": {
    "colab": {
      "name": "Chap10_Fractions-binaires.ipynb",
      "provenance": [],
      "collapsed_sections": [],
      "authorship_tag": "ABX9TyMaLWieSm344qwWuKNftHc8",
      "include_colab_link": true
    },
    "kernelspec": {
      "name": "python3",
      "display_name": "Python 3"
    }
  },
  "cells": [
    {
      "cell_type": "markdown",
      "metadata": {
        "id": "view-in-github",
        "colab_type": "text"
      },
      "source": [
        "<a href=\"https://colab.research.google.com/github/thfruchart/1nsi-2020/blob/master/Chap10/Fractions_binaires.ipynb\" target=\"_parent\"><img src=\"https://colab.research.google.com/assets/colab-badge.svg\" alt=\"Open In Colab\"/></a>"
      ]
    },
    {
      "cell_type": "markdown",
      "metadata": {
        "id": "AmrXKAVnEvad"
      },
      "source": [
        "# Fraction binaire,  dans différentes bases"
      ]
    },
    {
      "cell_type": "markdown",
      "metadata": {
        "id": "nRN7zuENE27U"
      },
      "source": [
        "Une **fraction binaire** est le quotient d'un nombre entier par une puissance de 2. \r\n",
        "\r\n",
        "Dans la suite on notera une fraction binaire sous la forme : $f =  \\frac{n}{2^k}$ avec n et k entiers naturels"
      ]
    },
    {
      "cell_type": "markdown",
      "metadata": {
        "id": "Q5VlBP6pFTlm"
      },
      "source": [
        "## Exemples en base 10"
      ]
    },
    {
      "cell_type": "code",
      "metadata": {
        "colab": {
          "base_uri": "https://localhost:8080/"
        },
        "id": "MfegVS6cFV9O",
        "outputId": "7301f725-ceb1-4a9a-bf1c-b82ea023b067"
      },
      "source": [
        "f1 = 123 / 2**5\r\n",
        "print(f1)"
      ],
      "execution_count": 1,
      "outputs": [
        {
          "output_type": "stream",
          "text": [
            "3.84375\n"
          ],
          "name": "stdout"
        }
      ]
    },
    {
      "cell_type": "code",
      "metadata": {
        "colab": {
          "base_uri": "https://localhost:8080/"
        },
        "id": "KGSCa0fwFc_l",
        "outputId": "dfeb65e0-9e02-41a4-9147-6b0b6fcf3af8"
      },
      "source": [
        "f2 =2021/2**10\r\n",
        "print(f2)"
      ],
      "execution_count": 2,
      "outputs": [
        {
          "output_type": "stream",
          "text": [
            "1.9736328125\n"
          ],
          "name": "stdout"
        }
      ]
    },
    {
      "cell_type": "markdown",
      "metadata": {
        "id": "zgHiQN0JFTh1"
      },
      "source": [
        "## Ecriture de f1 en base 2 (binaire)"
      ]
    },
    {
      "cell_type": "markdown",
      "metadata": {
        "id": "20EUu3fgFsfe"
      },
      "source": [
        "Pour un nombre écrit en binaire, diviser par $2^n$ revient à \"décaler la virgule de $n$ places vers la gauche. "
      ]
    },
    {
      "cell_type": "code",
      "metadata": {
        "id": "_NXQGMv5En6u",
        "outputId": "ffd094ea-e1ea-462f-fb2c-c111611faa35",
        "colab": {
          "base_uri": "https://localhost:8080/",
          "height": 34
        }
      },
      "source": [
        "bin(123)"
      ],
      "execution_count": 3,
      "outputs": [
        {
          "output_type": "execute_result",
          "data": {
            "application/vnd.google.colaboratory.intrinsic+json": {
              "type": "string"
            },
            "text/plain": [
              "'0b1111011'"
            ]
          },
          "metadata": {
            "tags": []
          },
          "execution_count": 3
        }
      ]
    },
    {
      "cell_type": "markdown",
      "metadata": {
        "id": "6vfNSqYLF9xR"
      },
      "source": [
        "$f1 =  \\frac{123}{2^5}$  peut donc s'obtenir en décalant la virgule de 5 places vers la gauche, dans le nombre $123 = (1111011)_2$"
      ]
    },
    {
      "cell_type": "markdown",
      "metadata": {
        "id": "rFEQC7nfGluC"
      },
      "source": [
        "On obtient :\r\n",
        "\r\n",
        "$f1 = \\frac{123}{2^5} = (3.84375)_{10} = (11,11011)_2$"
      ]
    },
    {
      "cell_type": "markdown",
      "metadata": {
        "id": "CRP8HLZ4IWxd"
      },
      "source": [
        "#### Vérification :"
      ]
    },
    {
      "cell_type": "markdown",
      "metadata": {
        "id": "0ns3XTeeHGYh"
      },
      "source": [
        "Chaque chiffre binaire représente une puissance de 2\r\n",
        "* pour la partie entière, l'exposant est positif ou nul\r\n",
        "* pour la partie fractionnaire, l'exposant est négatif\r\n",
        "\r\n",
        "|poids|$2^1$|$2^0$||$2^{-1}$|$2^{-2}$|$2^{-3}$|$2^{-4}$|$2^{-5}$|\r\n",
        "|:--|:--:|:--:||:--:|:--:|:--:|||\r\n",
        "|chiffres binaires|1|1|,|1|1|0|1|1|"
      ]
    },
    {
      "cell_type": "code",
      "metadata": {
        "id": "-R8byxofIMuO",
        "outputId": "c1f9c60d-1a88-4803-cbd7-f7383b9966c9",
        "colab": {
          "base_uri": "https://localhost:8080/"
        }
      },
      "source": [
        "2**1 + 2**0 + 2**-1 + 2**-2 +2**-4 + 2**-5"
      ],
      "execution_count": 4,
      "outputs": [
        {
          "output_type": "execute_result",
          "data": {
            "text/plain": [
              "3.84375"
            ]
          },
          "metadata": {
            "tags": []
          },
          "execution_count": 4
        }
      ]
    },
    {
      "cell_type": "markdown",
      "metadata": {
        "id": "qUfUvB7ZG68p"
      },
      "source": [
        "## Ecriture de f1 en base 16 (hexadécimal)"
      ]
    },
    {
      "cell_type": "markdown",
      "metadata": {
        "id": "93NgAjwfG_Fh"
      },
      "source": [
        "On peut convertir un nombre écrit en binaire, vers la base 16 en groupant les chiffre par **bloc de quatre** à partir de la virgule : \r\n",
        "\r\n",
        "$f1 =  (11,11011)_2 =  (0011,1101 \\ 1000)_2$"
      ]
    },
    {
      "cell_type": "markdown",
      "metadata": {
        "id": "vSZ1f3HAIwWN"
      },
      "source": [
        "Chaque bloc de quatre chiffre binaire correspond à un chiffre hexadécimal : "
      ]
    },
    {
      "cell_type": "markdown",
      "metadata": {
        "id": "mL37OPF0I27f"
      },
      "source": [
        "$f1 =   (0011,1101 \\ 1000)_2 = ( ... ... ...)_{16}$"
      ]
    },
    {
      "cell_type": "markdown",
      "metadata": {
        "id": "UQu_gDrKJAN3"
      },
      "source": [
        "#### Vérification"
      ]
    },
    {
      "cell_type": "markdown",
      "metadata": {
        "id": "V-pcTAMNJClH"
      },
      "source": [
        "Le type `float` possède une méthode `fromhex()` qui prend en argument un chaîne de caractère décrivant un flottant en hexadécimal. "
      ]
    },
    {
      "cell_type": "code",
      "metadata": {
        "id": "e277KYoRF4Wh",
        "outputId": "9c17bb0c-5e66-4863-ea86-6e92c91278c4",
        "colab": {
          "base_uri": "https://localhost:8080/"
        }
      },
      "source": [
        "float.fromhex('0x3.D8')"
      ],
      "execution_count": 6,
      "outputs": [
        {
          "output_type": "execute_result",
          "data": {
            "text/plain": [
              "3.84375"
            ]
          },
          "metadata": {
            "tags": []
          },
          "execution_count": 6
        }
      ]
    },
    {
      "cell_type": "markdown",
      "metadata": {
        "id": "cMlxh5M7JnUH"
      },
      "source": [
        "## Activité"
      ]
    },
    {
      "cell_type": "code",
      "metadata": {
        "colab": {
          "base_uri": "https://localhost:8080/"
        },
        "id": "84B1ePkeJpXv",
        "outputId": "204c5a86-47e4-4397-9e80-eedaacb6957c"
      },
      "source": [
        "f2 =2021/2**10\r\n",
        "print(f2)"
      ],
      "execution_count": 7,
      "outputs": [
        {
          "output_type": "stream",
          "text": [
            "1.9736328125\n"
          ],
          "name": "stdout"
        }
      ]
    },
    {
      "cell_type": "markdown",
      "metadata": {
        "id": "u1Qg82NuJqbo"
      },
      "source": [
        "En suivant l'exemple donné pour f1 : \r\n",
        "1. écrire la fraction binaire f2 en base 2\r\n",
        "2. écrire la fraction binaire f2 en base 16\r\n",
        "3.  puis vérifier avec le type flottant de Python"
      ]
    },
    {
      "cell_type": "code",
      "metadata": {
        "id": "83eoMW3kbz9_",
        "outputId": "dd47b63f-6d2c-4648-f215-4cfaffe8021e",
        "colab": {
          "base_uri": "https://localhost:8080/",
          "height": 34
        }
      },
      "source": [
        "bin(2021)"
      ],
      "execution_count": 8,
      "outputs": [
        {
          "output_type": "execute_result",
          "data": {
            "application/vnd.google.colaboratory.intrinsic+json": {
              "type": "string"
            },
            "text/plain": [
              "'0b11111100101'"
            ]
          },
          "metadata": {
            "tags": []
          },
          "execution_count": 8
        }
      ]
    },
    {
      "cell_type": "markdown",
      "metadata": {
        "id": "-HTJ--6Yb-6X"
      },
      "source": [
        "1. l'écriture binaire de f2 s'obtient en décalant la virgule de 10 places (division par $2^{10}$)\r\n",
        "\r\n",
        "donc f2 =`1,1111100101`\r\n",
        "\r\n",
        "2. l'écriture binaire de f2 en hexadécimal : on groupe les chiffres par quartet\r\n",
        "donc \r\n",
        "\r\n",
        "f2 =`0001,1111 1001 0100`\r\n",
        "\r\n",
        "f2 =`1, F 9 4` en hexadécimal"
      ]
    },
    {
      "cell_type": "code",
      "metadata": {
        "id": "4X653VaJc2U_",
        "outputId": "6bf52945-c40d-4712-ff7f-098d284926de",
        "colab": {
          "base_uri": "https://localhost:8080/"
        }
      },
      "source": [
        "#3. \r\n",
        "float.fromhex('0x1.f94')"
      ],
      "execution_count": 9,
      "outputs": [
        {
          "output_type": "execute_result",
          "data": {
            "text/plain": [
              "1.9736328125"
            ]
          },
          "metadata": {
            "tags": []
          },
          "execution_count": 9
        }
      ]
    },
    {
      "cell_type": "code",
      "metadata": {
        "id": "aw-sSLwmdg_L",
        "outputId": "9fc56803-0f42-4f94-9355-46d594d09ac5",
        "colab": {
          "base_uri": "https://localhost:8080/"
        }
      },
      "source": [
        "f2"
      ],
      "execution_count": 10,
      "outputs": [
        {
          "output_type": "execute_result",
          "data": {
            "text/plain": [
              "1.9736328125"
            ]
          },
          "metadata": {
            "tags": []
          },
          "execution_count": 10
        }
      ]
    },
    {
      "cell_type": "markdown",
      "metadata": {
        "id": "yP8WbTtRKvYf"
      },
      "source": [
        "# Nombre décimal et fraction binaire"
      ]
    },
    {
      "cell_type": "markdown",
      "metadata": {
        "id": "uYiAqKQWK3Qf"
      },
      "source": [
        "On peut convertir facilement le nombre f1 en binaire, d'après son écriture décimale : `3.84375`\r\n",
        "* la partie entière possède une écriture binaire \"ordinaire\" : $(3)_{10} = (11)_2$\r\n",
        "* on trouve les chiffres de la partie fractionnaire `0.84375` avec la méthode des multiplications par 2 de la succession des parties fractionnaires :  "
      ]
    },
    {
      "cell_type": "code",
      "metadata": {
        "id": "In9Ieuj9LbuJ",
        "outputId": "c73c9a36-6c64-4473-b192-3f3714ef6eb2",
        "colab": {
          "base_uri": "https://localhost:8080/"
        }
      },
      "source": [
        "0.84375 * 2"
      ],
      "execution_count": 12,
      "outputs": [
        {
          "output_type": "execute_result",
          "data": {
            "text/plain": [
              "1.6875"
            ]
          },
          "metadata": {
            "tags": []
          },
          "execution_count": 12
        }
      ]
    },
    {
      "cell_type": "code",
      "metadata": {
        "id": "siC9L9cJLpwp",
        "outputId": "b2560b80-78f8-4894-991c-31c9ec250d96",
        "colab": {
          "base_uri": "https://localhost:8080/"
        }
      },
      "source": [
        "0.6875*2"
      ],
      "execution_count": 13,
      "outputs": [
        {
          "output_type": "execute_result",
          "data": {
            "text/plain": [
              "1.375"
            ]
          },
          "metadata": {
            "tags": []
          },
          "execution_count": 13
        }
      ]
    },
    {
      "cell_type": "code",
      "metadata": {
        "id": "kt66VZOMLuYJ",
        "outputId": "e01a27b5-2d9f-44fc-aa20-e309c46b3525",
        "colab": {
          "base_uri": "https://localhost:8080/"
        }
      },
      "source": [
        "0.375*2"
      ],
      "execution_count": 14,
      "outputs": [
        {
          "output_type": "execute_result",
          "data": {
            "text/plain": [
              "0.75"
            ]
          },
          "metadata": {
            "tags": []
          },
          "execution_count": 14
        }
      ]
    },
    {
      "cell_type": "code",
      "metadata": {
        "id": "bzcQfBvRLwtT",
        "outputId": "66927147-a61f-49fb-c723-f49249532127",
        "colab": {
          "base_uri": "https://localhost:8080/"
        }
      },
      "source": [
        "0.75*2"
      ],
      "execution_count": 15,
      "outputs": [
        {
          "output_type": "execute_result",
          "data": {
            "text/plain": [
              "1.5"
            ]
          },
          "metadata": {
            "tags": []
          },
          "execution_count": 15
        }
      ]
    },
    {
      "cell_type": "code",
      "metadata": {
        "id": "olrS5OEiMEkS",
        "outputId": "707336e5-87fd-480d-dbfa-49efe43c24e1",
        "colab": {
          "base_uri": "https://localhost:8080/"
        }
      },
      "source": [
        "0.5*2"
      ],
      "execution_count": 16,
      "outputs": [
        {
          "output_type": "execute_result",
          "data": {
            "text/plain": [
              "1.0"
            ]
          },
          "metadata": {
            "tags": []
          },
          "execution_count": 16
        }
      ]
    },
    {
      "cell_type": "code",
      "metadata": {
        "id": "YZYLIcKKMFsa",
        "outputId": "3bf19a51-470f-44df-e3c1-cc91505bb6a0",
        "colab": {
          "base_uri": "https://localhost:8080/"
        }
      },
      "source": [
        "0*2"
      ],
      "execution_count": 17,
      "outputs": [
        {
          "output_type": "execute_result",
          "data": {
            "text/plain": [
              "0"
            ]
          },
          "metadata": {
            "tags": []
          },
          "execution_count": 17
        }
      ]
    },
    {
      "cell_type": "markdown",
      "metadata": {
        "id": "JvfPoRKeMNnK"
      },
      "source": [
        "**1**.6875\r\n",
        "\r\n",
        "**1**.375\r\n",
        "\r\n",
        "**0**.75\r\n",
        "\r\n",
        "**1**.5\r\n",
        "\r\n",
        "**1**.0\r\n",
        "\r\n",
        "**0**.0\r\n",
        "\r\n",
        "donne pour `0.84375`  l'écriture en binaire :  **`0.110110`**"
      ]
    },
    {
      "cell_type": "markdown",
      "metadata": {
        "id": "NM1fQC0DNOIS"
      },
      "source": [
        "## Activité"
      ]
    },
    {
      "cell_type": "markdown",
      "metadata": {
        "id": "KJ-0CmDmNQQC"
      },
      "source": [
        "Avec la même méthode, donner une écriture binaire des nombres décimaux : \r\n",
        "\r\n",
        "$a = 0,55078125$ : on trouve `0.10001101`\r\n",
        "\r\n",
        "$b = 0,2$ : **problème** on trouve b environ égal à `0.0011 0011 0011 ... `\r\n",
        "\r\n",
        "$c = \\frac{1}{3}$ : **problème** on trouve c environ égal à  `0.010101010101...`\r\n"
      ]
    },
    {
      "cell_type": "markdown",
      "metadata": {
        "id": "FsUuVHpIfYEy"
      },
      "source": [
        "Calcul de a"
      ]
    },
    {
      "cell_type": "code",
      "metadata": {
        "id": "R9KCyQGIfXa6",
        "outputId": "e46f9f57-1b8e-440a-d0f6-d136d2d8e871",
        "colab": {
          "base_uri": "https://localhost:8080/"
        }
      },
      "source": [
        "0.55078125*2"
      ],
      "execution_count": 18,
      "outputs": [
        {
          "output_type": "execute_result",
          "data": {
            "text/plain": [
              "1.1015625"
            ]
          },
          "metadata": {
            "tags": []
          },
          "execution_count": 18
        }
      ]
    },
    {
      "cell_type": "code",
      "metadata": {
        "id": "O0pDmQ6sfbTk",
        "outputId": "7eacc960-e150-4a18-8db3-9275e722003a",
        "colab": {
          "base_uri": "https://localhost:8080/"
        }
      },
      "source": [
        "0.1015625*2"
      ],
      "execution_count": 19,
      "outputs": [
        {
          "output_type": "execute_result",
          "data": {
            "text/plain": [
              "0.203125"
            ]
          },
          "metadata": {
            "tags": []
          },
          "execution_count": 19
        }
      ]
    },
    {
      "cell_type": "code",
      "metadata": {
        "id": "c7fZUUBEflda",
        "outputId": "e9176769-37e8-430b-b9e6-79b0f7ab3d8c",
        "colab": {
          "base_uri": "https://localhost:8080/"
        }
      },
      "source": [
        "0.203125*2"
      ],
      "execution_count": 21,
      "outputs": [
        {
          "output_type": "execute_result",
          "data": {
            "text/plain": [
              "0.40625"
            ]
          },
          "metadata": {
            "tags": []
          },
          "execution_count": 21
        }
      ]
    },
    {
      "cell_type": "code",
      "metadata": {
        "id": "AkY4-m5Agd1i",
        "outputId": "e19e6160-3872-41b3-e96f-63aa164c7728",
        "colab": {
          "base_uri": "https://localhost:8080/"
        }
      },
      "source": [
        "0.40625*2"
      ],
      "execution_count": 22,
      "outputs": [
        {
          "output_type": "execute_result",
          "data": {
            "text/plain": [
              "0.8125"
            ]
          },
          "metadata": {
            "tags": []
          },
          "execution_count": 22
        }
      ]
    },
    {
      "cell_type": "code",
      "metadata": {
        "id": "qSnku6-zggi6",
        "outputId": "e9e3fe6c-0f03-47a9-ead2-235150cd9a1f",
        "colab": {
          "base_uri": "https://localhost:8080/"
        }
      },
      "source": [
        "0.8125*2"
      ],
      "execution_count": 23,
      "outputs": [
        {
          "output_type": "execute_result",
          "data": {
            "text/plain": [
              "1.625"
            ]
          },
          "metadata": {
            "tags": []
          },
          "execution_count": 23
        }
      ]
    },
    {
      "cell_type": "code",
      "metadata": {
        "id": "amoW0QUPgiBL",
        "outputId": "ec280ef0-35f6-4c17-ee45-dfe2bf5c4517",
        "colab": {
          "base_uri": "https://localhost:8080/"
        }
      },
      "source": [
        "0.625*2"
      ],
      "execution_count": 24,
      "outputs": [
        {
          "output_type": "execute_result",
          "data": {
            "text/plain": [
              "1.25"
            ]
          },
          "metadata": {
            "tags": []
          },
          "execution_count": 24
        }
      ]
    },
    {
      "cell_type": "code",
      "metadata": {
        "id": "ruuyswZ2gjli",
        "outputId": "2eacf222-353c-42ff-bfe0-b2a61e75c51b",
        "colab": {
          "base_uri": "https://localhost:8080/"
        }
      },
      "source": [
        "0.25*2"
      ],
      "execution_count": 25,
      "outputs": [
        {
          "output_type": "execute_result",
          "data": {
            "text/plain": [
              "0.5"
            ]
          },
          "metadata": {
            "tags": []
          },
          "execution_count": 25
        }
      ]
    },
    {
      "cell_type": "code",
      "metadata": {
        "id": "p1utGtafgkw6",
        "outputId": "2768de51-4bb6-4a0a-ac76-c8ef92f0e0dc",
        "colab": {
          "base_uri": "https://localhost:8080/"
        }
      },
      "source": [
        "0.5*2"
      ],
      "execution_count": 26,
      "outputs": [
        {
          "output_type": "execute_result",
          "data": {
            "text/plain": [
              "1.0"
            ]
          },
          "metadata": {
            "tags": []
          },
          "execution_count": 26
        }
      ]
    },
    {
      "cell_type": "code",
      "metadata": {
        "id": "F839oT1Fgleq"
      },
      "source": [
        ""
      ],
      "execution_count": null,
      "outputs": []
    }
  ]
}