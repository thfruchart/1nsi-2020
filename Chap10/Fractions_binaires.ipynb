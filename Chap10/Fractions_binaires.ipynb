{
  "nbformat": 4,
  "nbformat_minor": 0,
  "metadata": {
    "colab": {
      "name": "Chap10_Fractions-binaires.ipynb",
      "provenance": [],
      "collapsed_sections": [],
      "authorship_tag": "ABX9TyOW806uJhqkU72l2TosPupH",
      "include_colab_link": true
    },
    "kernelspec": {
      "name": "python3",
      "display_name": "Python 3"
    }
  },
  "cells": [
    {
      "cell_type": "markdown",
      "metadata": {
        "id": "view-in-github",
        "colab_type": "text"
      },
      "source": [
        "<a href=\"https://colab.research.google.com/github/thfruchart/1nsi-2020/blob/master/Chap10/Fractions_binaires.ipynb\" target=\"_parent\"><img src=\"https://colab.research.google.com/assets/colab-badge.svg\" alt=\"Open In Colab\"/></a>"
      ]
    },
    {
      "cell_type": "markdown",
      "metadata": {
        "id": "AmrXKAVnEvad"
      },
      "source": [
        "# Fraction binaire,  dans différentes bases"
      ]
    },
    {
      "cell_type": "markdown",
      "metadata": {
        "id": "nRN7zuENE27U"
      },
      "source": [
        "Une **fraction binaire** est le quotient d'un nombre entier par une puissance de 2. \r\n",
        "\r\n",
        "Dans la suite on notera une fraction binaire sous la forme : $f =  \\frac{n}{2^k}$ avec n et k entiers naturels"
      ]
    },
    {
      "cell_type": "markdown",
      "metadata": {
        "id": "Q5VlBP6pFTlm"
      },
      "source": [
        "## Exemples en base 10"
      ]
    },
    {
      "cell_type": "code",
      "metadata": {
        "colab": {
          "base_uri": "https://localhost:8080/"
        },
        "id": "MfegVS6cFV9O",
        "outputId": "2004b645-3450-4e9f-af1b-9f09e91b73f0"
      },
      "source": [
        "f1 = 123 / 2**5\r\n",
        "print(f1)"
      ],
      "execution_count": 2,
      "outputs": [
        {
          "output_type": "stream",
          "text": [
            "3.84375\n"
          ],
          "name": "stdout"
        }
      ]
    },
    {
      "cell_type": "code",
      "metadata": {
        "colab": {
          "base_uri": "https://localhost:8080/"
        },
        "id": "KGSCa0fwFc_l",
        "outputId": "85404013-7570-4487-8129-8ae3ba68c6bc"
      },
      "source": [
        "f2 =2021/2**10\r\n",
        "print(f2)"
      ],
      "execution_count": 3,
      "outputs": [
        {
          "output_type": "stream",
          "text": [
            "1.9736328125\n"
          ],
          "name": "stdout"
        }
      ]
    },
    {
      "cell_type": "markdown",
      "metadata": {
        "id": "zgHiQN0JFTh1"
      },
      "source": [
        "## Ecriture de f1 en base 2 (binaire)"
      ]
    },
    {
      "cell_type": "markdown",
      "metadata": {
        "id": "20EUu3fgFsfe"
      },
      "source": [
        "Pour un nombre écrit en binaire, diviser par $2^n$ revient à \"décaler la virgule de $n$ places vers la gauche. "
      ]
    },
    {
      "cell_type": "code",
      "metadata": {
        "id": "_NXQGMv5En6u"
      },
      "source": [
        "bin(123)"
      ],
      "execution_count": null,
      "outputs": []
    },
    {
      "cell_type": "markdown",
      "metadata": {
        "id": "6vfNSqYLF9xR"
      },
      "source": [
        "$f1 =  \\frac{123}{2^5}$  peut donc s'obtenir en décalant la virgule de 5 places vers la gauche, dans le nombre $123 = (1111011)_2$"
      ]
    },
    {
      "cell_type": "markdown",
      "metadata": {
        "id": "rFEQC7nfGluC"
      },
      "source": [
        "On obtient :\r\n",
        "\r\n",
        "$f1 = \\frac{123}{2^5} = (3.84375)_{10} = (11,11011)_2$"
      ]
    },
    {
      "cell_type": "markdown",
      "metadata": {
        "id": "CRP8HLZ4IWxd"
      },
      "source": [
        "#### Vérification :"
      ]
    },
    {
      "cell_type": "markdown",
      "metadata": {
        "id": "0ns3XTeeHGYh"
      },
      "source": [
        "Chaque chiffre binaire représente une puissance de 2\r\n",
        "* pour la partie entière, l'exposant est positif ou nul\r\n",
        "* pour la partie fractionnaire, l'exposant est négatif\r\n",
        "\r\n",
        "|poids|$2^1$|$2^0$||$2^{-1}$|$2^{-2}$|$2^{-3}$|$2^{-4}$|$2^{-5}$|\r\n",
        "|:--|:--:|:--:||:--:|:--:|:--:|||\r\n",
        "|chiffres binaires|1|1|,|1|1|0|1|1|"
      ]
    },
    {
      "cell_type": "code",
      "metadata": {
        "id": "-R8byxofIMuO"
      },
      "source": [
        "2**1 + 2**0 + 2**-1 + 2**-2 +2**-4 + 2**-5"
      ],
      "execution_count": null,
      "outputs": []
    },
    {
      "cell_type": "markdown",
      "metadata": {
        "id": "qUfUvB7ZG68p"
      },
      "source": [
        "## Ecriture de f1 en base 16 (hexadécimal)"
      ]
    },
    {
      "cell_type": "markdown",
      "metadata": {
        "id": "93NgAjwfG_Fh"
      },
      "source": [
        "On peut convertir un nombre écrit en binaire, vers la base 16 en groupant les chiffre par **bloc de quatre** à partir de la virgule : \r\n",
        "\r\n",
        "$f1 =  (11,11011)_2 =  (0011,1101 \\ 1000)_2$"
      ]
    },
    {
      "cell_type": "markdown",
      "metadata": {
        "id": "vSZ1f3HAIwWN"
      },
      "source": [
        "Chaque bloc de quatre chiffre binaire correspond à un chiffre hexadécimal : "
      ]
    },
    {
      "cell_type": "markdown",
      "metadata": {
        "id": "mL37OPF0I27f"
      },
      "source": [
        "$f1 =   (0011,1101 \\ 1000)_2 = ( ... ... ...)_{16}$"
      ]
    },
    {
      "cell_type": "markdown",
      "metadata": {
        "id": "UQu_gDrKJAN3"
      },
      "source": [
        "#### Vérification"
      ]
    },
    {
      "cell_type": "markdown",
      "metadata": {
        "id": "V-pcTAMNJClH"
      },
      "source": [
        "Le type `float` possède une méthode `fromhex()` qui prend en argument un chaîne de caractère décrivant un flottant en hexadécimal. "
      ]
    },
    {
      "cell_type": "code",
      "metadata": {
        "id": "e277KYoRF4Wh"
      },
      "source": [
        "float.fromhex('0x3.B8')"
      ],
      "execution_count": null,
      "outputs": []
    },
    {
      "cell_type": "markdown",
      "metadata": {
        "id": "cMlxh5M7JnUH"
      },
      "source": [
        "## Activité"
      ]
    },
    {
      "cell_type": "code",
      "metadata": {
        "colab": {
          "base_uri": "https://localhost:8080/"
        },
        "id": "84B1ePkeJpXv",
        "outputId": "e09775b6-51a9-4d95-9bed-3c28d35caedd"
      },
      "source": [
        "f2 =2021/2**10\r\n",
        "print(f2)"
      ],
      "execution_count": 9,
      "outputs": [
        {
          "output_type": "stream",
          "text": [
            "1.9736328125\n"
          ],
          "name": "stdout"
        }
      ]
    },
    {
      "cell_type": "markdown",
      "metadata": {
        "id": "u1Qg82NuJqbo"
      },
      "source": [
        "En suivant l'exemple donné pour f1 : \r\n",
        "1. écrire la fraction binaire f2 en base 2\r\n",
        "2. écrire la fraction binaire f2 en base 16\r\n",
        "3.  puis vérifier avec le type flottant de Python"
      ]
    },
    {
      "cell_type": "markdown",
      "metadata": {
        "id": "yP8WbTtRKvYf"
      },
      "source": [
        "# Nombre décimal et fraction binaire"
      ]
    },
    {
      "cell_type": "markdown",
      "metadata": {
        "id": "uYiAqKQWK3Qf"
      },
      "source": [
        "On peut convertir facilement le nombre f1 en binaire, d'après son écriture décimale : `3.84375`\r\n",
        "* la partie entière possède une écriture binaire \"ordinaire\" : $(3)_{10} = (11)_2$\r\n",
        "* on trouve les chiffres de la partie fractionnaire `0.84375` avec la méthode des multiplications par 2 de la succession des parties fractionnaires :  "
      ]
    },
    {
      "cell_type": "code",
      "metadata": {
        "id": "In9Ieuj9LbuJ"
      },
      "source": [
        "0.84375 * 2"
      ],
      "execution_count": null,
      "outputs": []
    },
    {
      "cell_type": "code",
      "metadata": {
        "id": "siC9L9cJLpwp"
      },
      "source": [
        "0.6875*2"
      ],
      "execution_count": null,
      "outputs": []
    },
    {
      "cell_type": "code",
      "metadata": {
        "id": "kt66VZOMLuYJ"
      },
      "source": [
        "0.375*2"
      ],
      "execution_count": null,
      "outputs": []
    },
    {
      "cell_type": "code",
      "metadata": {
        "id": "bzcQfBvRLwtT"
      },
      "source": [
        "0.75*2"
      ],
      "execution_count": null,
      "outputs": []
    },
    {
      "cell_type": "code",
      "metadata": {
        "id": "olrS5OEiMEkS"
      },
      "source": [
        "0.5*2"
      ],
      "execution_count": null,
      "outputs": []
    },
    {
      "cell_type": "code",
      "metadata": {
        "id": "YZYLIcKKMFsa"
      },
      "source": [
        "0*2"
      ],
      "execution_count": null,
      "outputs": []
    },
    {
      "cell_type": "markdown",
      "metadata": {
        "id": "JvfPoRKeMNnK"
      },
      "source": [
        "**1**.6875\r\n",
        "\r\n",
        "**1**.375\r\n",
        "\r\n",
        "**0**.75\r\n",
        "\r\n",
        "**1**.5\r\n",
        "\r\n",
        "**1**.0\r\n",
        "\r\n",
        "**0**.0\r\n",
        "\r\n",
        "donne pour `0.84375`  l'écriture en binaire :  **`0.110110`**"
      ]
    },
    {
      "cell_type": "markdown",
      "metadata": {
        "id": "NM1fQC0DNOIS"
      },
      "source": [
        "## Activité"
      ]
    },
    {
      "cell_type": "markdown",
      "metadata": {
        "id": "KJ-0CmDmNQQC"
      },
      "source": [
        "Avec la même méthode, donner une écriture binaire des nombres décimaux : \r\n",
        "\r\n",
        "$a = 0,55078125$\r\n",
        "\r\n",
        "$b = 0,2$\r\n",
        "\r\n",
        "$c = \\frac{1}{3}$"
      ]
    }
  ]
}