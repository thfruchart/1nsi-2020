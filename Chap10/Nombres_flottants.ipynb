{
  "nbformat": 4,
  "nbformat_minor": 0,
  "metadata": {
    "colab": {
      "name": "Chap10_Nombres-flottants.ipynb",
      "provenance": [],
      "collapsed_sections": [],
      "authorship_tag": "ABX9TyPwqdIH6Sub1Q70/caXTZ+x",
      "include_colab_link": true
    },
    "kernelspec": {
      "name": "python3",
      "display_name": "Python 3"
    }
  },
  "cells": [
    {
      "cell_type": "markdown",
      "metadata": {
        "id": "view-in-github",
        "colab_type": "text"
      },
      "source": [
        "<a href=\"https://colab.research.google.com/github/thfruchart/1nsi-2020/blob/master/Chap10/Nombres_flottants.ipynb\" target=\"_parent\"><img src=\"https://colab.research.google.com/assets/colab-badge.svg\" alt=\"Open In Colab\"/></a>"
      ]
    },
    {
      "cell_type": "markdown",
      "metadata": {
        "id": "EWRgOQCIci5R"
      },
      "source": [
        "# Observations"
      ]
    },
    {
      "cell_type": "code",
      "metadata": {
        "colab": {
          "base_uri": "https://localhost:8080/"
        },
        "id": "18E7Fo6acLnK",
        "outputId": "8ca94ffb-3ac2-464f-a8ee-d96df95eeed6"
      },
      "source": [
        "x = 1.6\r\n",
        "print ( type(x) )"
      ],
      "execution_count": 1,
      "outputs": [
        {
          "output_type": "stream",
          "text": [
            "<class 'float'>\n"
          ],
          "name": "stdout"
        }
      ]
    },
    {
      "cell_type": "code",
      "metadata": {
        "colab": {
          "base_uri": "https://localhost:8080/"
        },
        "id": "1uC4_RKZcxE1",
        "outputId": "560d7475-3b6d-46b2-a1fe-5020cacc5867"
      },
      "source": [
        "y = 1.2e-4\r\n",
        "print(y)"
      ],
      "execution_count": 2,
      "outputs": [
        {
          "output_type": "stream",
          "text": [
            "0.00012\n"
          ],
          "name": "stdout"
        }
      ]
    },
    {
      "cell_type": "code",
      "metadata": {
        "colab": {
          "base_uri": "https://localhost:8080/"
        },
        "id": "3D6tG4yhczjn",
        "outputId": "4fa3adf7-72aa-497e-b676-93fc78920b4e"
      },
      "source": [
        "z = 10/5\r\n",
        "print(z)"
      ],
      "execution_count": 3,
      "outputs": [
        {
          "output_type": "stream",
          "text": [
            "2.0\n"
          ],
          "name": "stdout"
        }
      ]
    },
    {
      "cell_type": "code",
      "metadata": {
        "colab": {
          "base_uri": "https://localhost:8080/"
        },
        "id": "zhQ2PLG7eWUt",
        "outputId": "372a9363-6344-440b-85dd-1c70a402129e"
      },
      "source": [
        "t = float(-2021)\r\n",
        "print(t)"
      ],
      "execution_count": 6,
      "outputs": [
        {
          "output_type": "stream",
          "text": [
            "-2021.0\n"
          ],
          "name": "stdout"
        }
      ]
    },
    {
      "cell_type": "markdown",
      "metadata": {
        "id": "nvID-fB8crCA"
      },
      "source": [
        "##Un nombre flottant peut être défini de différentes manières: \r\n",
        "\r\n",
        "* en utilisant le point comme séparateur décimal :  `1.6`\r\n",
        "* en utilisant la notation scientifique : `1.2e-4`  définit le nombre décimal $1.2 \\times 10^{-4}$\r\n",
        "* par un calcul dont le résultat est un flottant : par exemple une division décimale. Repérer la différence entre \r\n",
        "   * `10 / 5`\r\n",
        "   * `10 // 5`\r\n",
        "* en utilisant explicitement la fonction `float()`"
      ]
    },
    {
      "cell_type": "markdown",
      "metadata": {
        "id": "_QQ8tTRqdeer"
      },
      "source": [
        "# Quelques résultats surprenants"
      ]
    },
    {
      "cell_type": "markdown",
      "metadata": {
        "id": "vlZgG9TMdtiD"
      },
      "source": [
        "Essayer d'expliquer les erreurs suivantes : "
      ]
    },
    {
      "cell_type": "code",
      "metadata": {
        "id": "xSh3mkhhdiTg"
      },
      "source": [
        "a = 10**400\r\n",
        "b = a + 0.5"
      ],
      "execution_count": null,
      "outputs": []
    },
    {
      "cell_type": "code",
      "metadata": {
        "id": "OWZ_3mNXdxm7"
      },
      "source": [
        "(1e30 + 16) - 1e30"
      ],
      "execution_count": null,
      "outputs": []
    },
    {
      "cell_type": "code",
      "metadata": {
        "id": "JoCMmCSFjnJ8"
      },
      "source": [
        "for n in range(300,400,1):\r\n",
        "    print (10.0**n)"
      ],
      "execution_count": null,
      "outputs": []
    },
    {
      "cell_type": "code",
      "metadata": {
        "id": "mP6OAFX2kNtp"
      },
      "source": [
        "y = 1e200\r\n",
        "z = y*y\r\n",
        "print(y)\r\n",
        "print(z)"
      ],
      "execution_count": null,
      "outputs": []
    },
    {
      "cell_type": "code",
      "metadata": {
        "id": "nhMpZDzNkjvE"
      },
      "source": [
        "print(z-y)"
      ],
      "execution_count": null,
      "outputs": []
    },
    {
      "cell_type": "code",
      "metadata": {
        "id": "fDoVUrTrkoXz"
      },
      "source": [
        "print(z-z)"
      ],
      "execution_count": null,
      "outputs": []
    },
    {
      "cell_type": "code",
      "metadata": {
        "id": "uSdmeRvhk3I7"
      },
      "source": [
        "0.1 + 0.2 == 0.3"
      ],
      "execution_count": null,
      "outputs": []
    },
    {
      "cell_type": "markdown",
      "metadata": {
        "id": "aIRf8EKfdh2C"
      },
      "source": [
        "# Précision pour l'affichage d'un flottant"
      ]
    },
    {
      "cell_type": "markdown",
      "metadata": {
        "id": "dfY4HRZLgP-u"
      },
      "source": [
        "La fonction print permet de **formater** l'affichage d'un flottant.\r\n",
        "\r\n",
        "Le format décimal se note `\"%.*f\"` avec le nombre de décimales à la place de `*`\r\n",
        "\r\n",
        "Le symbole \"%\" est remplacé par une valeur dans la chaîne de caractère."
      ]
    },
    {
      "cell_type": "code",
      "metadata": {
        "id": "SkMFrfTWg4iT"
      },
      "source": [
        "x = 1.23456789\r\n",
        "print (\"La valeur de x est %.2f  environ\"  % x)"
      ],
      "execution_count": null,
      "outputs": []
    },
    {
      "cell_type": "code",
      "metadata": {
        "id": "J-aSqPhkhFAr"
      },
      "source": [
        "print (\"La valeur de x est %.5f  environ\"  % x)"
      ],
      "execution_count": null,
      "outputs": []
    },
    {
      "cell_type": "markdown",
      "metadata": {
        "id": "1Gpu2sj_hWrp"
      },
      "source": [
        "A l'aide des exemples suivants, déterminer la précision de $\\pi$ en Python"
      ]
    },
    {
      "cell_type": "code",
      "metadata": {
        "id": "XOcZEFGJfBOa"
      },
      "source": [
        "from math import pi\r\n",
        "print(\"Pi vaut environ : %.2f\"  % pi)"
      ],
      "execution_count": null,
      "outputs": []
    },
    {
      "cell_type": "code",
      "metadata": {
        "id": "8dLtJ5TtfhR7"
      },
      "source": [
        "print(\"Pi vaut environ : %.10f\"  % pi)"
      ],
      "execution_count": null,
      "outputs": []
    },
    {
      "cell_type": "code",
      "metadata": {
        "id": "k1sDFXtZfjP7"
      },
      "source": [
        "print(\"Pi vaut environ : %.20f\"  % pi)"
      ],
      "execution_count": null,
      "outputs": []
    },
    {
      "cell_type": "code",
      "metadata": {
        "id": "DKg-ioxFflF7"
      },
      "source": [
        "print(\"Pi vaut environ : %.30f\" % pi)"
      ],
      "execution_count": null,
      "outputs": []
    },
    {
      "cell_type": "code",
      "metadata": {
        "id": "D-v3tTs0gCDY"
      },
      "source": [
        "print(\"Pi vaut environ : %.100f\"  % pi)"
      ],
      "execution_count": null,
      "outputs": []
    },
    {
      "cell_type": "markdown",
      "metadata": {
        "id": "Olzaf9PRhzU1"
      },
      "source": [
        "# Accès à la valeur stockée en machine"
      ]
    },
    {
      "cell_type": "markdown",
      "metadata": {
        "id": "KgMfvUk-h9TD"
      },
      "source": [
        "Le type `float` possède une méthode `hex()` qui permet d'accéder à une expression en hexadécimal de la valeur stockée en mémoire."
      ]
    },
    {
      "cell_type": "code",
      "metadata": {
        "colab": {
          "base_uri": "https://localhost:8080/",
          "height": 35
        },
        "id": "lCTb2_hjiKDv",
        "outputId": "ebc02671-2855-443c-9f8e-0e22e19412ee"
      },
      "source": [
        "a = 65500.0\r\n",
        "a.hex()"
      ],
      "execution_count": 40,
      "outputs": [
        {
          "output_type": "execute_result",
          "data": {
            "application/vnd.google.colaboratory.intrinsic+json": {
              "type": "string"
            },
            "text/plain": [
              "'0x1.ffb8000000000p+15'"
            ]
          },
          "metadata": {
            "tags": []
          },
          "execution_count": 40
        }
      ]
    },
    {
      "cell_type": "markdown",
      "metadata": {
        "id": "ebVzBpNpiSsb"
      },
      "source": [
        "## Vérifier ce calcul ! \r\n",
        "1. convertir en binaire le nombre entier $(FFB8)_{16}$\r\n",
        "2. en déduire l'écriture binaire du nombre $a = 1.ffb8 \\times 2^{15}$\r\n",
        "3. Calculer ce nombre en base 10"
      ]
    },
    {
      "cell_type": "code",
      "metadata": {
        "colab": {
          "base_uri": "https://localhost:8080/",
          "height": 35
        },
        "id": "JH9ijDuxi9V1",
        "outputId": "a6318091-e2b1-40da-ddb0-58f6940d8912"
      },
      "source": [
        "pi.hex()"
      ],
      "execution_count": 53,
      "outputs": [
        {
          "output_type": "execute_result",
          "data": {
            "application/vnd.google.colaboratory.intrinsic+json": {
              "type": "string"
            },
            "text/plain": [
              "'0x1.921fb54442d18p+1'"
            ]
          },
          "metadata": {
            "tags": []
          },
          "execution_count": 53
        }
      ]
    },
    {
      "cell_type": "markdown",
      "metadata": {
        "id": "8Z6RThMymeGc"
      },
      "source": [
        "# Représentation des flottants avec la norme IEEE 754"
      ]
    },
    {
      "cell_type": "markdown",
      "metadata": {
        "id": "yGi4a2k3nJSF"
      },
      "source": [
        "* Que donne une recherche sur internet au sujet de cette norme ? \r\n",
        "* Pour la suite du travail : [voir ce lien](https://pixees.fr/informatiquelycee/n_site/nsi_prem_float.html)"
      ]
    }
  ]
}