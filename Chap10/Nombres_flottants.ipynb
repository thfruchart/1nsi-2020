{
  "nbformat": 4,
  "nbformat_minor": 0,
  "metadata": {
    "colab": {
      "name": "Chap10_Nombres-flottants.ipynb",
      "provenance": [],
      "collapsed_sections": [],
      "authorship_tag": "ABX9TyNPQ4N1+4vqNH+ibemD0c7F",
      "include_colab_link": true
    },
    "kernelspec": {
      "name": "python3",
      "display_name": "Python 3"
    }
  },
  "cells": [
    {
      "cell_type": "markdown",
      "metadata": {
        "id": "view-in-github",
        "colab_type": "text"
      },
      "source": [
        "<a href=\"https://colab.research.google.com/github/thfruchart/1nsi-2020/blob/master/Chap10/Nombres_flottants.ipynb\" target=\"_parent\"><img src=\"https://colab.research.google.com/assets/colab-badge.svg\" alt=\"Open In Colab\"/></a>"
      ]
    },
    {
      "cell_type": "markdown",
      "metadata": {
        "id": "EWRgOQCIci5R"
      },
      "source": [
        "# Observations"
      ]
    },
    {
      "cell_type": "code",
      "metadata": {
        "id": "18E7Fo6acLnK"
      },
      "source": [
        "x = 1.6\r\n",
        "print ( type(x) )"
      ],
      "execution_count": null,
      "outputs": []
    },
    {
      "cell_type": "code",
      "metadata": {
        "colab": {
          "base_uri": "https://localhost:8080/"
        },
        "id": "1uC4_RKZcxE1",
        "outputId": "8e78299a-701e-4d02-f913-c5a87a248187"
      },
      "source": [
        "y = 1.2e-4\r\n",
        "print(y)"
      ],
      "execution_count": null,
      "outputs": [
        {
          "output_type": "stream",
          "text": [
            "0.00012\n"
          ],
          "name": "stdout"
        }
      ]
    },
    {
      "cell_type": "code",
      "metadata": {
        "colab": {
          "base_uri": "https://localhost:8080/"
        },
        "id": "3D6tG4yhczjn",
        "outputId": "31326fcf-d688-457f-8c6f-d41d22474966"
      },
      "source": [
        "z = 10/5\r\n",
        "print(z)"
      ],
      "execution_count": null,
      "outputs": [
        {
          "output_type": "stream",
          "text": [
            "2.0\n"
          ],
          "name": "stdout"
        }
      ]
    },
    {
      "cell_type": "code",
      "metadata": {
        "id": "zhQ2PLG7eWUt"
      },
      "source": [
        "t = float(-2021)\r\n",
        "print(t)"
      ],
      "execution_count": null,
      "outputs": []
    },
    {
      "cell_type": "markdown",
      "metadata": {
        "id": "nvID-fB8crCA"
      },
      "source": [
        "##Un nombre flottant peut être défini de différentes manières: \r\n",
        "\r\n",
        "* en utilisant le point comme séparateur décimal :  `1.6`\r\n",
        "* en utilisant la notation scientifique : `1.2e-4`  définit le nombre décimal $1.2 \\times 10^{-4}$\r\n",
        "* par un calcul dont le résultat est un flottant : par exemple une division décimale. Repérer la différence entre \r\n",
        "   * `10 / 5`\r\n",
        "   * `10 // 5`\r\n",
        "* en utilisant explicitement la fonction `float()`"
      ]
    },
    {
      "cell_type": "markdown",
      "metadata": {
        "id": "_QQ8tTRqdeer"
      },
      "source": [
        "# Quelques résultats surprenants"
      ]
    },
    {
      "cell_type": "markdown",
      "metadata": {
        "id": "vlZgG9TMdtiD"
      },
      "source": [
        "Essayer d'expliquer les erreurs suivantes : "
      ]
    },
    {
      "cell_type": "code",
      "metadata": {
        "id": "xSh3mkhhdiTg",
        "colab": {
          "base_uri": "https://localhost:8080/",
          "height": 183
        },
        "outputId": "f5300132-70a7-4f86-d075-472ea9464533"
      },
      "source": [
        "a = 10**400\r\n",
        "b = a + 0.5"
      ],
      "execution_count": null,
      "outputs": [
        {
          "output_type": "error",
          "ename": "OverflowError",
          "evalue": "ignored",
          "traceback": [
            "\u001b[0;31m---------------------------------------------------------------------------\u001b[0m",
            "\u001b[0;31mOverflowError\u001b[0m                             Traceback (most recent call last)",
            "\u001b[0;32m<ipython-input-3-7b41911f0446>\u001b[0m in \u001b[0;36m<module>\u001b[0;34m()\u001b[0m\n\u001b[1;32m      1\u001b[0m \u001b[0ma\u001b[0m \u001b[0;34m=\u001b[0m \u001b[0;36m10\u001b[0m\u001b[0;34m**\u001b[0m\u001b[0;36m400\u001b[0m\u001b[0;34m\u001b[0m\u001b[0;34m\u001b[0m\u001b[0m\n\u001b[0;32m----> 2\u001b[0;31m \u001b[0mb\u001b[0m \u001b[0;34m=\u001b[0m \u001b[0ma\u001b[0m \u001b[0;34m+\u001b[0m \u001b[0;36m0.5\u001b[0m\u001b[0;34m\u001b[0m\u001b[0;34m\u001b[0m\u001b[0m\n\u001b[0m",
            "\u001b[0;31mOverflowError\u001b[0m: int too large to convert to float"
          ]
        }
      ]
    },
    {
      "cell_type": "markdown",
      "metadata": {
        "id": "hapR6ju0JdjY"
      },
      "source": [
        "L'addition entre un entier et un flottant exige de convertir l'entier en flottant.\r\n",
        "\r\n",
        "Python essaye de convertir l'entier `a` en flottant.\r\n",
        "\r\n",
        "* en Python : le type `int` est **illimité** \r\n",
        "* mais le type float est **limité** \r\n"
      ]
    },
    {
      "cell_type": "code",
      "metadata": {
        "id": "OWZ_3mNXdxm7",
        "colab": {
          "base_uri": "https://localhost:8080/"
        },
        "outputId": "5362072e-de34-43d8-f804-665ea2aa2d7c"
      },
      "source": [
        "(1e30 + 16) - 1e30"
      ],
      "execution_count": null,
      "outputs": [
        {
          "output_type": "execute_result",
          "data": {
            "text/plain": [
              "0.0"
            ]
          },
          "metadata": {
            "tags": []
          },
          "execution_count": 4
        }
      ]
    },
    {
      "cell_type": "markdown",
      "metadata": {
        "id": "sZeHWLDFKHOv"
      },
      "source": [
        "* `1e30` est une expression de type `float` dont il existe une limite à la capacité de stockage. \r\n",
        "* `1e30 + 16` est représenté en mémoire comme `1e30`"
      ]
    },
    {
      "cell_type": "markdown",
      "metadata": {
        "id": "fWSenu7YKEdY"
      },
      "source": [
        ""
      ]
    },
    {
      "cell_type": "code",
      "metadata": {
        "id": "JoCMmCSFjnJ8",
        "colab": {
          "base_uri": "https://localhost:8080/",
          "height": 339
        },
        "outputId": "6e5643d7-e2d5-4f58-88f3-35f984ea7ffd"
      },
      "source": [
        "for n in range(300,400,1):\r\n",
        "    print (10.0**n)"
      ],
      "execution_count": null,
      "outputs": [
        {
          "output_type": "stream",
          "text": [
            "1e+300\n",
            "1e+301\n",
            "1e+302\n",
            "1e+303\n",
            "1e+304\n",
            "1e+305\n",
            "1e+306\n",
            "1e+307\n",
            "1e+308\n"
          ],
          "name": "stdout"
        },
        {
          "output_type": "error",
          "ename": "OverflowError",
          "evalue": "ignored",
          "traceback": [
            "\u001b[0;31m---------------------------------------------------------------------------\u001b[0m",
            "\u001b[0;31mOverflowError\u001b[0m                             Traceback (most recent call last)",
            "\u001b[0;32m<ipython-input-5-ea200da9010b>\u001b[0m in \u001b[0;36m<module>\u001b[0;34m()\u001b[0m\n\u001b[1;32m      1\u001b[0m \u001b[0;32mfor\u001b[0m \u001b[0mn\u001b[0m \u001b[0;32min\u001b[0m \u001b[0mrange\u001b[0m\u001b[0;34m(\u001b[0m\u001b[0;36m300\u001b[0m\u001b[0;34m,\u001b[0m\u001b[0;36m400\u001b[0m\u001b[0;34m,\u001b[0m\u001b[0;36m1\u001b[0m\u001b[0;34m)\u001b[0m\u001b[0;34m:\u001b[0m\u001b[0;34m\u001b[0m\u001b[0;34m\u001b[0m\u001b[0m\n\u001b[0;32m----> 2\u001b[0;31m     \u001b[0mprint\u001b[0m \u001b[0;34m(\u001b[0m\u001b[0;36m10.0\u001b[0m\u001b[0;34m**\u001b[0m\u001b[0mn\u001b[0m\u001b[0;34m)\u001b[0m\u001b[0;34m\u001b[0m\u001b[0;34m\u001b[0m\u001b[0m\n\u001b[0m",
            "\u001b[0;31mOverflowError\u001b[0m: (34, 'Numerical result out of range')"
          ]
        }
      ]
    },
    {
      "cell_type": "markdown",
      "metadata": {
        "id": "vdPKJHynLk0R"
      },
      "source": [
        "A partir de $10^{309}$ on dépasse la capacité de stockage pour un nombre flottant"
      ]
    },
    {
      "cell_type": "code",
      "metadata": {
        "id": "mP6OAFX2kNtp",
        "colab": {
          "base_uri": "https://localhost:8080/"
        },
        "outputId": "c0b76ec3-1438-40b5-8b62-5219fe5b625d"
      },
      "source": [
        "y = 1e200\r\n",
        "z = y*y\r\n",
        "print(y)\r\n",
        "print(z)"
      ],
      "execution_count": null,
      "outputs": [
        {
          "output_type": "stream",
          "text": [
            "1e+200\n",
            "inf\n"
          ],
          "name": "stdout"
        }
      ]
    },
    {
      "cell_type": "code",
      "metadata": {
        "id": "nhMpZDzNkjvE",
        "colab": {
          "base_uri": "https://localhost:8080/"
        },
        "outputId": "61c989b6-1e06-40ea-8fa8-2ec1f2c77973"
      },
      "source": [
        "print(z-y)"
      ],
      "execution_count": null,
      "outputs": [
        {
          "output_type": "stream",
          "text": [
            "inf\n"
          ],
          "name": "stdout"
        }
      ]
    },
    {
      "cell_type": "code",
      "metadata": {
        "id": "fDoVUrTrkoXz",
        "colab": {
          "base_uri": "https://localhost:8080/"
        },
        "outputId": "7254cfd4-d5d9-4072-fd50-20f11392a821"
      },
      "source": [
        "print(z-z)"
      ],
      "execution_count": null,
      "outputs": [
        {
          "output_type": "stream",
          "text": [
            "nan\n"
          ],
          "name": "stdout"
        }
      ]
    },
    {
      "cell_type": "code",
      "metadata": {
        "id": "uSdmeRvhk3I7",
        "colab": {
          "base_uri": "https://localhost:8080/"
        },
        "outputId": "cd990539-8740-43ca-ad22-fd57cf8213ea"
      },
      "source": [
        "0.1 + 0.2 == 0.3"
      ],
      "execution_count": null,
      "outputs": [
        {
          "output_type": "execute_result",
          "data": {
            "text/plain": [
              "False"
            ]
          },
          "metadata": {
            "tags": []
          },
          "execution_count": 9
        }
      ]
    },
    {
      "cell_type": "markdown",
      "metadata": {
        "id": "c1HZ341IM58y"
      },
      "source": [
        "0.1  0.2  et  0.3  sont des flottants...\r\n",
        "donc stockés sur un nombre limité de bits (64) "
      ]
    },
    {
      "cell_type": "code",
      "metadata": {
        "id": "CztNjamPNDsC",
        "colab": {
          "base_uri": "https://localhost:8080/"
        },
        "outputId": "0c151b80-aef1-44a3-ed03-3cda856f96ff"
      },
      "source": [
        "0.1 + 0.2"
      ],
      "execution_count": null,
      "outputs": [
        {
          "output_type": "execute_result",
          "data": {
            "text/plain": [
              "0.30000000000000004"
            ]
          },
          "metadata": {
            "tags": []
          },
          "execution_count": 10
        }
      ]
    },
    {
      "cell_type": "markdown",
      "metadata": {
        "id": "386tjoDINYUS"
      },
      "source": [
        "Le calcul de 0.1 + 0.2 n'est pas exact ! ! ! \r\n",
        "\r\n",
        "0.2 est un nombre décimal : il n'a qu'un chiffre après la virgule **en base 10**\r\n",
        "\r\n",
        "mais en base 2 ce n'est pas le cas!\r\n",
        "\r\n",
        " `0.2` exigerait un nombre infini de chiffres \"après la virgule\". \r\n",
        "\r\n",
        " **ATTENTION** les valeurs décimales 0.1 ,   0.2,  0.3  sont représentées de manière **approchées** avec le type float. "
      ]
    },
    {
      "cell_type": "code",
      "metadata": {
        "id": "xtaIearFOrSc",
        "colab": {
          "base_uri": "https://localhost:8080/"
        },
        "outputId": "f72ebb1b-35e8-43e9-bcda-e4f833e1f019"
      },
      "source": [
        "0.2+0.2"
      ],
      "execution_count": null,
      "outputs": [
        {
          "output_type": "execute_result",
          "data": {
            "text/plain": [
              "0.4"
            ]
          },
          "metadata": {
            "tags": []
          },
          "execution_count": 11
        }
      ]
    },
    {
      "cell_type": "markdown",
      "metadata": {
        "id": "aIRf8EKfdh2C"
      },
      "source": [
        "# Précision pour l'affichage d'un flottant"
      ]
    },
    {
      "cell_type": "markdown",
      "metadata": {
        "id": "dfY4HRZLgP-u"
      },
      "source": [
        "La fonction print permet de **formater** l'affichage d'un flottant.\r\n",
        "\r\n",
        "Le format décimal se note `\"%.*f\"` avec le nombre de décimales à la place de `*`\r\n",
        "\r\n",
        "Le symbole \"%\" est remplacé par une valeur dans la chaîne de caractère."
      ]
    },
    {
      "cell_type": "code",
      "metadata": {
        "id": "SkMFrfTWg4iT",
        "colab": {
          "base_uri": "https://localhost:8080/"
        },
        "outputId": "1371b908-0a68-45ef-d86a-752e2e5bce3a"
      },
      "source": [
        "x = 1.23456789\r\n",
        "print (\"La valeur de x est %.2f  environ\"  % x)"
      ],
      "execution_count": null,
      "outputs": [
        {
          "output_type": "stream",
          "text": [
            "La valeur de x est 1.23  environ\n"
          ],
          "name": "stdout"
        }
      ]
    },
    {
      "cell_type": "code",
      "metadata": {
        "id": "J-aSqPhkhFAr",
        "colab": {
          "base_uri": "https://localhost:8080/"
        },
        "outputId": "71ab448e-e3bc-420e-ce07-4a65b99a11f6"
      },
      "source": [
        "print (\"La valeur de x est %.5f  environ\"  % x)"
      ],
      "execution_count": null,
      "outputs": [
        {
          "output_type": "stream",
          "text": [
            "La valeur de x est 1.23457  environ\n"
          ],
          "name": "stdout"
        }
      ]
    },
    {
      "cell_type": "markdown",
      "metadata": {
        "id": "1Gpu2sj_hWrp"
      },
      "source": [
        "A l'aide des exemples suivants, déterminer la précision de $\\pi$ en Python"
      ]
    },
    {
      "cell_type": "code",
      "metadata": {
        "id": "XOcZEFGJfBOa",
        "colab": {
          "base_uri": "https://localhost:8080/"
        },
        "outputId": "30211d3a-9907-4911-93e1-9129f9ce6183"
      },
      "source": [
        "from math import pi\r\n",
        "print(\"Pi vaut environ : %.2f\"  % pi)"
      ],
      "execution_count": null,
      "outputs": [
        {
          "output_type": "stream",
          "text": [
            "Pi vaut environ : 3.14\n"
          ],
          "name": "stdout"
        }
      ]
    },
    {
      "cell_type": "code",
      "metadata": {
        "id": "8dLtJ5TtfhR7",
        "colab": {
          "base_uri": "https://localhost:8080/"
        },
        "outputId": "5d6afd23-5794-4d6c-b45d-d93673af4848"
      },
      "source": [
        "print(\"Pi vaut environ : %.10f\"  % pi)"
      ],
      "execution_count": null,
      "outputs": [
        {
          "output_type": "stream",
          "text": [
            "Pi vaut environ : 3.1415926536\n"
          ],
          "name": "stdout"
        }
      ]
    },
    {
      "cell_type": "code",
      "metadata": {
        "id": "k1sDFXtZfjP7",
        "colab": {
          "base_uri": "https://localhost:8080/"
        },
        "outputId": "47c98370-9b32-4302-f6e5-16eea3a841a1"
      },
      "source": [
        "print(\"Pi vaut environ : %.20f\"  % pi)"
      ],
      "execution_count": null,
      "outputs": [
        {
          "output_type": "stream",
          "text": [
            "Pi vaut environ : 3.14159265358979311600\n"
          ],
          "name": "stdout"
        }
      ]
    },
    {
      "cell_type": "code",
      "metadata": {
        "id": "DKg-ioxFflF7",
        "colab": {
          "base_uri": "https://localhost:8080/"
        },
        "outputId": "650fb7e0-b574-49eb-cec0-50400b8efbc5"
      },
      "source": [
        "print(\"Pi vaut environ : %.30f\" % pi)"
      ],
      "execution_count": null,
      "outputs": [
        {
          "output_type": "stream",
          "text": [
            "Pi vaut environ : 3.141592653589793115997963468544\n"
          ],
          "name": "stdout"
        }
      ]
    },
    {
      "cell_type": "code",
      "metadata": {
        "id": "D-v3tTs0gCDY",
        "colab": {
          "base_uri": "https://localhost:8080/"
        },
        "outputId": "2a405bf6-7e22-421f-9794-7965db4f5e43"
      },
      "source": [
        "print(\"Pi vaut environ : %.100f\"  % pi)"
      ],
      "execution_count": null,
      "outputs": [
        {
          "output_type": "stream",
          "text": [
            "Pi vaut environ : 3.1415926535897931159979634685441851615905761718750000000000000000000000000000000000000000000000000000\n"
          ],
          "name": "stdout"
        }
      ]
    },
    {
      "cell_type": "markdown",
      "metadata": {
        "id": "Olzaf9PRhzU1"
      },
      "source": [
        "# Accès à la valeur stockée en machine"
      ]
    },
    {
      "cell_type": "markdown",
      "metadata": {
        "id": "KgMfvUk-h9TD"
      },
      "source": [
        "Le type `float` possède une méthode `hex()` qui permet d'accéder à une expression en hexadécimal de la valeur stockée en mémoire."
      ]
    },
    {
      "cell_type": "code",
      "metadata": {
        "colab": {
          "base_uri": "https://localhost:8080/",
          "height": 34
        },
        "id": "lCTb2_hjiKDv",
        "outputId": "b4768af4-45f7-43ca-f11d-e91ffcf840cb"
      },
      "source": [
        "a = 65500.0\r\n",
        "a.hex()"
      ],
      "execution_count": null,
      "outputs": [
        {
          "output_type": "execute_result",
          "data": {
            "application/vnd.google.colaboratory.intrinsic+json": {
              "type": "string"
            },
            "text/plain": [
              "'0x1.ffb8000000000p+15'"
            ]
          },
          "metadata": {
            "tags": []
          },
          "execution_count": 18
        }
      ]
    },
    {
      "cell_type": "code",
      "metadata": {
        "id": "xTjtBZrZnRY0",
        "colab": {
          "base_uri": "https://localhost:8080/",
          "height": 34
        },
        "outputId": "87446776-280a-45ea-bfa0-0e94fec19e8b"
      },
      "source": [
        "b = a*2\r\n",
        "b.hex()"
      ],
      "execution_count": null,
      "outputs": [
        {
          "output_type": "execute_result",
          "data": {
            "application/vnd.google.colaboratory.intrinsic+json": {
              "type": "string"
            },
            "text/plain": [
              "'0x1.ffb8000000000p+16'"
            ]
          },
          "metadata": {
            "tags": []
          },
          "execution_count": 19
        }
      ]
    },
    {
      "cell_type": "markdown",
      "metadata": {
        "id": "ebVzBpNpiSsb"
      },
      "source": [
        "## Vérifier ce calcul ! \r\n",
        "1. convertir en binaire le nombre entier $(FFB8)_{16}$\r\n",
        "2. en déduire l'écriture binaire du nombre $a = 1.ffb8 \\times 2^{15}$\r\n",
        "3. Calculer ce nombre en base 10"
      ]
    },
    {
      "cell_type": "code",
      "metadata": {
        "colab": {
          "base_uri": "https://localhost:8080/",
          "height": 35
        },
        "id": "JH9ijDuxi9V1",
        "outputId": "a6318091-e2b1-40da-ddb0-58f6940d8912"
      },
      "source": [
        "pi.hex()"
      ],
      "execution_count": null,
      "outputs": [
        {
          "output_type": "execute_result",
          "data": {
            "application/vnd.google.colaboratory.intrinsic+json": {
              "type": "string"
            },
            "text/plain": [
              "'0x1.921fb54442d18p+1'"
            ]
          },
          "metadata": {
            "tags": []
          },
          "execution_count": 53
        }
      ]
    },
    {
      "cell_type": "markdown",
      "metadata": {
        "id": "8Z6RThMymeGc"
      },
      "source": [
        "# Représentation des flottants avec la norme IEEE 754"
      ]
    },
    {
      "cell_type": "markdown",
      "metadata": {
        "id": "yGi4a2k3nJSF"
      },
      "source": [
        "* Que donne une recherche sur internet au sujet de cette norme ? \r\n",
        "* Pour la suite du travail : [voir ce lien](https://pixees.fr/informatiquelycee/n_site/nsi_prem_float.html)"
      ]
    },
    {
      "cell_type": "markdown",
      "metadata": {
        "id": "4aywaaEqRt5K"
      },
      "source": [
        "# Programmer avec des flottants"
      ]
    },
    {
      "cell_type": "markdown",
      "metadata": {
        "id": "pYRrXJAtSY45"
      },
      "source": [
        "## Eviter de tester l'égalité de deux nombres flottants ! "
      ]
    },
    {
      "cell_type": "code",
      "metadata": {
        "id": "DE-nRcqTSiKT",
        "colab": {
          "base_uri": "https://localhost:8080/"
        },
        "outputId": "fcdc6c17-377f-4028-dc7b-f7d885f0b65f"
      },
      "source": [
        "0.2 + 0.2 == 0.4"
      ],
      "execution_count": null,
      "outputs": [
        {
          "output_type": "execute_result",
          "data": {
            "text/plain": [
              "True"
            ]
          },
          "metadata": {
            "tags": []
          },
          "execution_count": 1
        }
      ]
    },
    {
      "cell_type": "code",
      "metadata": {
        "id": "fVRf8Ue5SgAJ",
        "colab": {
          "base_uri": "https://localhost:8080/"
        },
        "outputId": "0454f164-5492-4a82-b7bd-e8c411737ccb"
      },
      "source": [
        "a = 0.1\r\n",
        "b = 0.2\r\n",
        "if a+b == 0.3:\r\n",
        "    print('OK')\r\n",
        "else :\r\n",
        "    print('Dommage!')"
      ],
      "execution_count": null,
      "outputs": [
        {
          "output_type": "stream",
          "text": [
            "Dommage!\n"
          ],
          "name": "stdout"
        }
      ]
    },
    {
      "cell_type": "code",
      "metadata": {
        "id": "F6nB13B1Sk1Z",
        "colab": {
          "base_uri": "https://localhost:8080/"
        },
        "outputId": "65650e52-6ab0-4c62-dd18-319b8b8c27a1"
      },
      "source": [
        "x = 1\r\n",
        "while x != 0:\r\n",
        "    print(x) \r\n",
        "    x = x - 0.1"
      ],
      "execution_count": null,
      "outputs": [
        {
          "output_type": "stream",
          "text": [
            "1\n",
            "0.9\n",
            "0.8\n",
            "0.7000000000000001\n",
            "0.6000000000000001\n",
            "0.5000000000000001\n",
            "0.40000000000000013\n",
            "0.30000000000000016\n",
            "0.20000000000000015\n",
            "0.10000000000000014\n",
            "1.3877787807814457e-16\n",
            "-0.09999999999999987\n",
            "-0.19999999999999987\n",
            "-0.2999999999999999\n",
            "-0.3999999999999999\n",
            "-0.4999999999999999\n",
            "-0.5999999999999999\n",
            "-0.6999999999999998\n",
            "-0.7999999999999998\n",
            "-0.8999999999999998\n",
            "-0.9999999999999998\n"
          ],
          "name": "stdout"
        }
      ]
    },
    {
      "cell_type": "markdown",
      "metadata": {
        "id": "eVF1S_coS4SH"
      },
      "source": [
        "## Pour éviter la comparaison a == b"
      ]
    },
    {
      "cell_type": "markdown",
      "metadata": {
        "id": "GUovaVMsT2gt"
      },
      "source": [
        "on peut remplacer la condition `a==b` par une **comparaison approchée**, avec la précision souhaitée, par exemple  : \r\n",
        "\r\n",
        "$x \\approx y$   lorsque `abs(x-y) < précision`\r\n",
        "\r\n",
        "Rappel mathématique : `abs(x-y)` représente la distance entre les nombres `x` et `y`. "
      ]
    },
    {
      "cell_type": "code",
      "metadata": {
        "id": "1hPBNBZgUYDP",
        "colab": {
          "base_uri": "https://localhost:8080/"
        },
        "outputId": "bbf9697b-8cb0-433b-8c84-9043f91af322"
      },
      "source": [
        "a = 0.1\r\n",
        "b = 0.2\r\n",
        "precision = 1e-12\r\n",
        "\r\n",
        "if abs(a+b - 0.3) < precision:\r\n",
        "    print('OK')\r\n",
        "else :\r\n",
        "    print('Dommage!')"
      ],
      "execution_count": null,
      "outputs": [
        {
          "output_type": "stream",
          "text": [
            "OK\n"
          ],
          "name": "stdout"
        }
      ]
    },
    {
      "cell_type": "code",
      "metadata": {
        "id": "Q717VHxeUl4n",
        "colab": {
          "base_uri": "https://localhost:8080/"
        },
        "outputId": "0f063303-691d-495f-983d-9e7cacd46ff7"
      },
      "source": [
        "a = 0.1\r\n",
        "b = 0.2\r\n",
        "precision = 1e-17\r\n",
        "\r\n",
        "if abs(a+b - 0.3) < precision:\r\n",
        "    print('OK')\r\n",
        "else :\r\n",
        "    print('Dommage!')"
      ],
      "execution_count": 1,
      "outputs": [
        {
          "output_type": "stream",
          "text": [
            "Dommage!\n"
          ],
          "name": "stdout"
        }
      ]
    },
    {
      "cell_type": "code",
      "metadata": {
        "id": "6TRzdBTzlukC",
        "colab": {
          "base_uri": "https://localhost:8080/"
        },
        "outputId": "c75b7243-a34c-4b5e-9f93-ceb52630fbb6"
      },
      "source": [
        "a+b - 0.3"
      ],
      "execution_count": null,
      "outputs": [
        {
          "output_type": "execute_result",
          "data": {
            "text/plain": [
              "5.551115123125783e-17"
            ]
          },
          "metadata": {
            "tags": []
          },
          "execution_count": 9
        }
      ]
    }
  ]
}