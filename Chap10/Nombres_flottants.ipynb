{
  "nbformat": 4,
  "nbformat_minor": 0,
  "metadata": {
    "colab": {
      "name": "Chap10_Nombres-flottants.ipynb",
      "provenance": [],
      "collapsed_sections": [],
      "authorship_tag": "ABX9TyPqhwctsZJc0wmThleiRbHo",
      "include_colab_link": true
    },
    "kernelspec": {
      "name": "python3",
      "display_name": "Python 3"
    }
  },
  "cells": [
    {
      "cell_type": "markdown",
      "metadata": {
        "id": "view-in-github",
        "colab_type": "text"
      },
      "source": [
        "<a href=\"https://colab.research.google.com/github/thfruchart/1nsi-2020/blob/master/Chap10/Nombres_flottants.ipynb\" target=\"_parent\"><img src=\"https://colab.research.google.com/assets/colab-badge.svg\" alt=\"Open In Colab\"/></a>"
      ]
    },
    {
      "cell_type": "markdown",
      "metadata": {
        "id": "EWRgOQCIci5R"
      },
      "source": [
        "# Observations"
      ]
    },
    {
      "cell_type": "code",
      "metadata": {
        "id": "18E7Fo6acLnK"
      },
      "source": [
        "x = 1.6\r\n",
        "print ( type(x) )"
      ],
      "execution_count": null,
      "outputs": []
    },
    {
      "cell_type": "code",
      "metadata": {
        "colab": {
          "base_uri": "https://localhost:8080/"
        },
        "id": "1uC4_RKZcxE1",
        "outputId": "8e78299a-701e-4d02-f913-c5a87a248187"
      },
      "source": [
        "y = 1.2e-4\r\n",
        "print(y)"
      ],
      "execution_count": 1,
      "outputs": [
        {
          "output_type": "stream",
          "text": [
            "0.00012\n"
          ],
          "name": "stdout"
        }
      ]
    },
    {
      "cell_type": "code",
      "metadata": {
        "colab": {
          "base_uri": "https://localhost:8080/"
        },
        "id": "3D6tG4yhczjn",
        "outputId": "31326fcf-d688-457f-8c6f-d41d22474966"
      },
      "source": [
        "z = 10/5\r\n",
        "print(z)"
      ],
      "execution_count": 2,
      "outputs": [
        {
          "output_type": "stream",
          "text": [
            "2.0\n"
          ],
          "name": "stdout"
        }
      ]
    },
    {
      "cell_type": "code",
      "metadata": {
        "id": "zhQ2PLG7eWUt"
      },
      "source": [
        "t = float(-2021)\r\n",
        "print(t)"
      ],
      "execution_count": null,
      "outputs": []
    },
    {
      "cell_type": "markdown",
      "metadata": {
        "id": "nvID-fB8crCA"
      },
      "source": [
        "##Un nombre flottant peut être défini de différentes manières: \r\n",
        "\r\n",
        "* en utilisant le point comme séparateur décimal :  `1.6`\r\n",
        "* en utilisant la notation scientifique : `1.2e-4`  définit le nombre décimal $1.2 \\times 10^{-4}$\r\n",
        "* par un calcul dont le résultat est un flottant : par exemple une division décimale. Repérer la différence entre \r\n",
        "   * `10 / 5`\r\n",
        "   * `10 // 5`\r\n",
        "* en utilisant explicitement la fonction `float()`"
      ]
    },
    {
      "cell_type": "markdown",
      "metadata": {
        "id": "_QQ8tTRqdeer"
      },
      "source": [
        "# Quelques résultats surprenants"
      ]
    },
    {
      "cell_type": "markdown",
      "metadata": {
        "id": "vlZgG9TMdtiD"
      },
      "source": [
        "Essayer d'expliquer les erreurs suivantes : "
      ]
    },
    {
      "cell_type": "code",
      "metadata": {
        "id": "xSh3mkhhdiTg",
        "colab": {
          "base_uri": "https://localhost:8080/",
          "height": 183
        },
        "outputId": "f5300132-70a7-4f86-d075-472ea9464533"
      },
      "source": [
        "a = 10**400\r\n",
        "b = a + 0.5"
      ],
      "execution_count": 3,
      "outputs": [
        {
          "output_type": "error",
          "ename": "OverflowError",
          "evalue": "ignored",
          "traceback": [
            "\u001b[0;31m---------------------------------------------------------------------------\u001b[0m",
            "\u001b[0;31mOverflowError\u001b[0m                             Traceback (most recent call last)",
            "\u001b[0;32m<ipython-input-3-7b41911f0446>\u001b[0m in \u001b[0;36m<module>\u001b[0;34m()\u001b[0m\n\u001b[1;32m      1\u001b[0m \u001b[0ma\u001b[0m \u001b[0;34m=\u001b[0m \u001b[0;36m10\u001b[0m\u001b[0;34m**\u001b[0m\u001b[0;36m400\u001b[0m\u001b[0;34m\u001b[0m\u001b[0;34m\u001b[0m\u001b[0m\n\u001b[0;32m----> 2\u001b[0;31m \u001b[0mb\u001b[0m \u001b[0;34m=\u001b[0m \u001b[0ma\u001b[0m \u001b[0;34m+\u001b[0m \u001b[0;36m0.5\u001b[0m\u001b[0;34m\u001b[0m\u001b[0;34m\u001b[0m\u001b[0m\n\u001b[0m",
            "\u001b[0;31mOverflowError\u001b[0m: int too large to convert to float"
          ]
        }
      ]
    },
    {
      "cell_type": "markdown",
      "metadata": {
        "id": "hapR6ju0JdjY"
      },
      "source": [
        "L'addition entre un entier et un flottant exige de convertir l'entier en flottant.\r\n",
        "\r\n",
        "Python essaye de convertir l'entier `a` en flottant.\r\n",
        "\r\n",
        "* en Python : le type `int` est **illimité** \r\n",
        "* mais le type float est **limité** \r\n"
      ]
    },
    {
      "cell_type": "code",
      "metadata": {
        "id": "OWZ_3mNXdxm7",
        "colab": {
          "base_uri": "https://localhost:8080/"
        },
        "outputId": "5362072e-de34-43d8-f804-665ea2aa2d7c"
      },
      "source": [
        "(1e30 + 16) - 1e30"
      ],
      "execution_count": 4,
      "outputs": [
        {
          "output_type": "execute_result",
          "data": {
            "text/plain": [
              "0.0"
            ]
          },
          "metadata": {
            "tags": []
          },
          "execution_count": 4
        }
      ]
    },
    {
      "cell_type": "markdown",
      "metadata": {
        "id": "sZeHWLDFKHOv"
      },
      "source": [
        "* `1e30` est une expression de type `float` dont il existe une limite à la capacité de stockage. \r\n",
        "* `1e30 + 16` est représenté en mémoire comme `1e30`"
      ]
    },
    {
      "cell_type": "markdown",
      "metadata": {
        "id": "fWSenu7YKEdY"
      },
      "source": [
        ""
      ]
    },
    {
      "cell_type": "code",
      "metadata": {
        "id": "JoCMmCSFjnJ8",
        "colab": {
          "base_uri": "https://localhost:8080/",
          "height": 339
        },
        "outputId": "6e5643d7-e2d5-4f58-88f3-35f984ea7ffd"
      },
      "source": [
        "for n in range(300,400,1):\r\n",
        "    print (10.0**n)"
      ],
      "execution_count": 5,
      "outputs": [
        {
          "output_type": "stream",
          "text": [
            "1e+300\n",
            "1e+301\n",
            "1e+302\n",
            "1e+303\n",
            "1e+304\n",
            "1e+305\n",
            "1e+306\n",
            "1e+307\n",
            "1e+308\n"
          ],
          "name": "stdout"
        },
        {
          "output_type": "error",
          "ename": "OverflowError",
          "evalue": "ignored",
          "traceback": [
            "\u001b[0;31m---------------------------------------------------------------------------\u001b[0m",
            "\u001b[0;31mOverflowError\u001b[0m                             Traceback (most recent call last)",
            "\u001b[0;32m<ipython-input-5-ea200da9010b>\u001b[0m in \u001b[0;36m<module>\u001b[0;34m()\u001b[0m\n\u001b[1;32m      1\u001b[0m \u001b[0;32mfor\u001b[0m \u001b[0mn\u001b[0m \u001b[0;32min\u001b[0m \u001b[0mrange\u001b[0m\u001b[0;34m(\u001b[0m\u001b[0;36m300\u001b[0m\u001b[0;34m,\u001b[0m\u001b[0;36m400\u001b[0m\u001b[0;34m,\u001b[0m\u001b[0;36m1\u001b[0m\u001b[0;34m)\u001b[0m\u001b[0;34m:\u001b[0m\u001b[0;34m\u001b[0m\u001b[0;34m\u001b[0m\u001b[0m\n\u001b[0;32m----> 2\u001b[0;31m     \u001b[0mprint\u001b[0m \u001b[0;34m(\u001b[0m\u001b[0;36m10.0\u001b[0m\u001b[0;34m**\u001b[0m\u001b[0mn\u001b[0m\u001b[0;34m)\u001b[0m\u001b[0;34m\u001b[0m\u001b[0;34m\u001b[0m\u001b[0m\n\u001b[0m",
            "\u001b[0;31mOverflowError\u001b[0m: (34, 'Numerical result out of range')"
          ]
        }
      ]
    },
    {
      "cell_type": "markdown",
      "metadata": {
        "id": "vdPKJHynLk0R"
      },
      "source": [
        "A partir de $10^{309}$ on dépasse la capacité de stockage pour un nombre flottant"
      ]
    },
    {
      "cell_type": "code",
      "metadata": {
        "id": "mP6OAFX2kNtp",
        "colab": {
          "base_uri": "https://localhost:8080/"
        },
        "outputId": "c0b76ec3-1438-40b5-8b62-5219fe5b625d"
      },
      "source": [
        "y = 1e200\r\n",
        "z = y*y\r\n",
        "print(y)\r\n",
        "print(z)"
      ],
      "execution_count": 6,
      "outputs": [
        {
          "output_type": "stream",
          "text": [
            "1e+200\n",
            "inf\n"
          ],
          "name": "stdout"
        }
      ]
    },
    {
      "cell_type": "code",
      "metadata": {
        "id": "nhMpZDzNkjvE",
        "colab": {
          "base_uri": "https://localhost:8080/"
        },
        "outputId": "61c989b6-1e06-40ea-8fa8-2ec1f2c77973"
      },
      "source": [
        "print(z-y)"
      ],
      "execution_count": 7,
      "outputs": [
        {
          "output_type": "stream",
          "text": [
            "inf\n"
          ],
          "name": "stdout"
        }
      ]
    },
    {
      "cell_type": "code",
      "metadata": {
        "id": "fDoVUrTrkoXz",
        "colab": {
          "base_uri": "https://localhost:8080/"
        },
        "outputId": "7254cfd4-d5d9-4072-fd50-20f11392a821"
      },
      "source": [
        "print(z-z)"
      ],
      "execution_count": 8,
      "outputs": [
        {
          "output_type": "stream",
          "text": [
            "nan\n"
          ],
          "name": "stdout"
        }
      ]
    },
    {
      "cell_type": "code",
      "metadata": {
        "id": "uSdmeRvhk3I7",
        "colab": {
          "base_uri": "https://localhost:8080/"
        },
        "outputId": "cd990539-8740-43ca-ad22-fd57cf8213ea"
      },
      "source": [
        "0.1 + 0.2 == 0.3"
      ],
      "execution_count": 9,
      "outputs": [
        {
          "output_type": "execute_result",
          "data": {
            "text/plain": [
              "False"
            ]
          },
          "metadata": {
            "tags": []
          },
          "execution_count": 9
        }
      ]
    },
    {
      "cell_type": "markdown",
      "metadata": {
        "id": "c1HZ341IM58y"
      },
      "source": [
        "0.1  0.2  et  0.3  sont des flottants...\r\n",
        "donc stockés sur un nombre limité de bits (64) "
      ]
    },
    {
      "cell_type": "code",
      "metadata": {
        "id": "CztNjamPNDsC",
        "outputId": "0c151b80-aef1-44a3-ed03-3cda856f96ff",
        "colab": {
          "base_uri": "https://localhost:8080/"
        }
      },
      "source": [
        "0.1 + 0.2"
      ],
      "execution_count": 10,
      "outputs": [
        {
          "output_type": "execute_result",
          "data": {
            "text/plain": [
              "0.30000000000000004"
            ]
          },
          "metadata": {
            "tags": []
          },
          "execution_count": 10
        }
      ]
    },
    {
      "cell_type": "markdown",
      "metadata": {
        "id": "386tjoDINYUS"
      },
      "source": [
        "Le calcul de 0.1 + 0.2 n'est pas exact ! ! ! \r\n",
        "\r\n",
        "0.2 est un nombre décimal : il n'a qu'un chiffre après la virgule **en base 10**\r\n",
        "\r\n",
        "mais en base 2 ce n'est pas le cas!\r\n",
        "\r\n",
        " `0.2` exigerait un nombre infini de chiffres \"après la virgule\". \r\n",
        "\r\n",
        " **ATTENTION** les valeurs décimales 0.1 ,   0.2,  0.3  sont représentées de manière **approchées** avec le type float. "
      ]
    },
    {
      "cell_type": "code",
      "metadata": {
        "id": "xtaIearFOrSc",
        "outputId": "f72ebb1b-35e8-43e9-bcda-e4f833e1f019",
        "colab": {
          "base_uri": "https://localhost:8080/"
        }
      },
      "source": [
        "0.2+0.2"
      ],
      "execution_count": 11,
      "outputs": [
        {
          "output_type": "execute_result",
          "data": {
            "text/plain": [
              "0.4"
            ]
          },
          "metadata": {
            "tags": []
          },
          "execution_count": 11
        }
      ]
    },
    {
      "cell_type": "markdown",
      "metadata": {
        "id": "aIRf8EKfdh2C"
      },
      "source": [
        "# Précision pour l'affichage d'un flottant"
      ]
    },
    {
      "cell_type": "markdown",
      "metadata": {
        "id": "dfY4HRZLgP-u"
      },
      "source": [
        "La fonction print permet de **formater** l'affichage d'un flottant.\r\n",
        "\r\n",
        "Le format décimal se note `\"%.*f\"` avec le nombre de décimales à la place de `*`\r\n",
        "\r\n",
        "Le symbole \"%\" est remplacé par une valeur dans la chaîne de caractère."
      ]
    },
    {
      "cell_type": "code",
      "metadata": {
        "id": "SkMFrfTWg4iT"
      },
      "source": [
        "x = 1.23456789\r\n",
        "print (\"La valeur de x est %.2f  environ\"  % x)"
      ],
      "execution_count": null,
      "outputs": []
    },
    {
      "cell_type": "code",
      "metadata": {
        "id": "J-aSqPhkhFAr"
      },
      "source": [
        "print (\"La valeur de x est %.5f  environ\"  % x)"
      ],
      "execution_count": null,
      "outputs": []
    },
    {
      "cell_type": "markdown",
      "metadata": {
        "id": "1Gpu2sj_hWrp"
      },
      "source": [
        "A l'aide des exemples suivants, déterminer la précision de $\\pi$ en Python"
      ]
    },
    {
      "cell_type": "code",
      "metadata": {
        "id": "XOcZEFGJfBOa"
      },
      "source": [
        "from math import pi\r\n",
        "print(\"Pi vaut environ : %.2f\"  % pi)"
      ],
      "execution_count": null,
      "outputs": []
    },
    {
      "cell_type": "code",
      "metadata": {
        "id": "8dLtJ5TtfhR7"
      },
      "source": [
        "print(\"Pi vaut environ : %.10f\"  % pi)"
      ],
      "execution_count": null,
      "outputs": []
    },
    {
      "cell_type": "code",
      "metadata": {
        "id": "k1sDFXtZfjP7"
      },
      "source": [
        "print(\"Pi vaut environ : %.20f\"  % pi)"
      ],
      "execution_count": null,
      "outputs": []
    },
    {
      "cell_type": "code",
      "metadata": {
        "id": "DKg-ioxFflF7"
      },
      "source": [
        "print(\"Pi vaut environ : %.30f\" % pi)"
      ],
      "execution_count": null,
      "outputs": []
    },
    {
      "cell_type": "code",
      "metadata": {
        "id": "D-v3tTs0gCDY"
      },
      "source": [
        "print(\"Pi vaut environ : %.100f\"  % pi)"
      ],
      "execution_count": null,
      "outputs": []
    },
    {
      "cell_type": "markdown",
      "metadata": {
        "id": "Olzaf9PRhzU1"
      },
      "source": [
        "# Accès à la valeur stockée en machine"
      ]
    },
    {
      "cell_type": "markdown",
      "metadata": {
        "id": "KgMfvUk-h9TD"
      },
      "source": [
        "Le type `float` possède une méthode `hex()` qui permet d'accéder à une expression en hexadécimal de la valeur stockée en mémoire."
      ]
    },
    {
      "cell_type": "code",
      "metadata": {
        "colab": {
          "base_uri": "https://localhost:8080/",
          "height": 35
        },
        "id": "lCTb2_hjiKDv",
        "outputId": "ebc02671-2855-443c-9f8e-0e22e19412ee"
      },
      "source": [
        "a = 65500.0\r\n",
        "a.hex()"
      ],
      "execution_count": null,
      "outputs": [
        {
          "output_type": "execute_result",
          "data": {
            "application/vnd.google.colaboratory.intrinsic+json": {
              "type": "string"
            },
            "text/plain": [
              "'0x1.ffb8000000000p+15'"
            ]
          },
          "metadata": {
            "tags": []
          },
          "execution_count": 40
        }
      ]
    },
    {
      "cell_type": "markdown",
      "metadata": {
        "id": "ebVzBpNpiSsb"
      },
      "source": [
        "## Vérifier ce calcul ! \r\n",
        "1. convertir en binaire le nombre entier $(FFB8)_{16}$\r\n",
        "2. en déduire l'écriture binaire du nombre $a = 1.ffb8 \\times 2^{15}$\r\n",
        "3. Calculer ce nombre en base 10"
      ]
    },
    {
      "cell_type": "code",
      "metadata": {
        "colab": {
          "base_uri": "https://localhost:8080/",
          "height": 35
        },
        "id": "JH9ijDuxi9V1",
        "outputId": "a6318091-e2b1-40da-ddb0-58f6940d8912"
      },
      "source": [
        "pi.hex()"
      ],
      "execution_count": null,
      "outputs": [
        {
          "output_type": "execute_result",
          "data": {
            "application/vnd.google.colaboratory.intrinsic+json": {
              "type": "string"
            },
            "text/plain": [
              "'0x1.921fb54442d18p+1'"
            ]
          },
          "metadata": {
            "tags": []
          },
          "execution_count": 53
        }
      ]
    },
    {
      "cell_type": "markdown",
      "metadata": {
        "id": "8Z6RThMymeGc"
      },
      "source": [
        "# Représentation des flottants avec la norme IEEE 754"
      ]
    },
    {
      "cell_type": "markdown",
      "metadata": {
        "id": "yGi4a2k3nJSF"
      },
      "source": [
        "* Que donne une recherche sur internet au sujet de cette norme ? \r\n",
        "* Pour la suite du travail : [voir ce lien](https://pixees.fr/informatiquelycee/n_site/nsi_prem_float.html)"
      ]
    }
  ]
}