{
  "nbformat": 4,
  "nbformat_minor": 0,
  "metadata": {
    "colab": {
      "name": "Chap09_CORRECTION_Exercice6.ipynb",
      "provenance": [],
      "authorship_tag": "ABX9TyP6h4AAhZpxqxxZNpVSv0yA",
      "include_colab_link": true
    },
    "kernelspec": {
      "name": "python3",
      "display_name": "Python 3"
    }
  },
  "cells": [
    {
      "cell_type": "markdown",
      "metadata": {
        "id": "view-in-github",
        "colab_type": "text"
      },
      "source": [
        "<a href=\"https://colab.research.google.com/github/thfruchart/1nsi-2020/blob/master/Chap09/CORRECTION/Exercice6.ipynb\" target=\"_parent\"><img src=\"https://colab.research.google.com/assets/colab-badge.svg\" alt=\"Open In Colab\"/></a>"
      ]
    },
    {
      "cell_type": "markdown",
      "metadata": {
        "id": "zfXXtQuAz7X8"
      },
      "source": [
        "**Exercice 6**\n",
        "\n",
        "Déterminer la représentation sur 8 bits en complément à deux des nombres relatifs : \n",
        "\n"
      ]
    },
    {
      "cell_type": "markdown",
      "metadata": {
        "id": "dhbioXtF0ALq"
      },
      "source": [
        "#### $a=-4$"
      ]
    },
    {
      "cell_type": "code",
      "metadata": {
        "colab": {
          "base_uri": "https://localhost:8080/"
        },
        "id": "FAd1Baax2GuN",
        "outputId": "1be38b1e-70a5-4107-ef73-b3762bd25be2"
      },
      "source": [
        "-4+128"
      ],
      "execution_count": null,
      "outputs": [
        {
          "output_type": "execute_result",
          "data": {
            "text/plain": [
              "124"
            ]
          },
          "metadata": {
            "tags": []
          },
          "execution_count": 1
        }
      ]
    },
    {
      "cell_type": "code",
      "metadata": {
        "colab": {
          "base_uri": "https://localhost:8080/"
        },
        "id": "sTvqGSM02KN0",
        "outputId": "976b20a0-5f47-42d4-b0fd-f6e6198c9bf8"
      },
      "source": [
        "(124-64, 60-32, 28-16, 12-8)"
      ],
      "execution_count": null,
      "outputs": [
        {
          "output_type": "execute_result",
          "data": {
            "text/plain": [
              "(60, 28, 12, 4)"
            ]
          },
          "metadata": {
            "tags": []
          },
          "execution_count": 10
        }
      ]
    },
    {
      "cell_type": "code",
      "metadata": {
        "colab": {
          "base_uri": "https://localhost:8080/"
        },
        "id": "saULNSBf2bE8",
        "outputId": "4b032634-2391-4071-c37a-6b140aeab982"
      },
      "source": [
        "-128+64+32+16+8+4"
      ],
      "execution_count": null,
      "outputs": [
        {
          "output_type": "execute_result",
          "data": {
            "text/plain": [
              "-4"
            ]
          },
          "metadata": {
            "tags": []
          },
          "execution_count": 11
        }
      ]
    },
    {
      "cell_type": "markdown",
      "metadata": {
        "id": "6i8msFks0DZo"
      },
      "source": [
        "|poids|-128|64|32|16|8|4|2|1|\n",
        "|:--|:--:|:--:|:--:|:--:|:--:|:--:|:--:|:--:|\n",
        "|chiffres binaires|1|1|1|1|1|1|0|0|"
      ]
    },
    {
      "cell_type": "markdown",
      "metadata": {
        "id": "wqNzuFGb1JxG"
      },
      "source": [
        "$-4$= `11111100` en complément à deux sur 8 bits."
      ]
    },
    {
      "cell_type": "code",
      "metadata": {
        "colab": {
          "base_uri": "https://localhost:8080/"
        },
        "id": "wBVqOB9pzuDN",
        "outputId": "ac4d6b1e-0722-44d3-ecf2-9ab0e5f42f15"
      },
      "source": [
        "from numpy import int8\n",
        "print(int8(0b11111100))"
      ],
      "execution_count": null,
      "outputs": [
        {
          "output_type": "stream",
          "text": [
            "-4\n"
          ],
          "name": "stdout"
        }
      ]
    },
    {
      "cell_type": "markdown",
      "metadata": {
        "id": "pGuc_TwGNUBY"
      },
      "source": [
        "#### b = 123\n",
        "\n",
        "123 = 64+32+16+8+2+1\n",
        "\n",
        "donc sur 8 bits en complément à deux\n",
        "\n",
        "b = `01111011`"
      ]
    },
    {
      "cell_type": "code",
      "metadata": {
        "colab": {
          "base_uri": "https://localhost:8080/"
        },
        "id": "2cGKAOPRNeZ7",
        "outputId": "bd69ab73-fbde-415a-ed76-ef0ea29757ba"
      },
      "source": [
        "123-64,59-32, 27-16, 11-8, 3-2"
      ],
      "execution_count": 6,
      "outputs": [
        {
          "output_type": "execute_result",
          "data": {
            "text/plain": [
              "(59, 27, 11, 3, 1)"
            ]
          },
          "metadata": {
            "tags": []
          },
          "execution_count": 6
        }
      ]
    },
    {
      "cell_type": "markdown",
      "metadata": {
        "id": "cczfSojXNWFD"
      },
      "source": [
        "#### c = -123"
      ]
    },
    {
      "cell_type": "markdown",
      "metadata": {
        "id": "Vk4iHYO2OELD"
      },
      "source": [
        "-123 est négatif : donc le premier bit  vaut 1 (et représente la valeur -128) : \n",
        "\n",
        "*  $-123 + 128 = 5$\n",
        "* $-123 = -128 + 5 = -128 + 4 + 1$"
      ]
    },
    {
      "cell_type": "markdown",
      "metadata": {
        "id": "jixUs-SBOBzO"
      },
      "source": [
        "|poids|-128|64|32|16|8|4|2|1|\n",
        "|:--|:--:|:--:|:--:|:--:|:--:|:--:|:--:|:--:|\n",
        "|chiffres binaires|1|0|0|0|0|1|0|1|\n",
        "\n",
        "donc b = -123 est représenté par `10000101`"
      ]
    },
    {
      "cell_type": "markdown",
      "metadata": {
        "id": "nR5CwAGRNYOA"
      },
      "source": [
        "#### d = -16\n"
      ]
    },
    {
      "cell_type": "markdown",
      "metadata": {
        "id": "xAXR0RS7PpYD"
      },
      "source": [
        "-16 est négatif : donc le premier bit  vaut 1 (et représente la valeur -128) : \n",
        "\n",
        "*  $-16 + 128 = 112$\n",
        "* $-16 = -128 + 112 = -128 +64+32+16 $"
      ]
    },
    {
      "cell_type": "markdown",
      "metadata": {
        "id": "LPAKd_BMQWIj"
      },
      "source": [
        "|poids|-128|64|32|16|8|4|2|1|\n",
        "|:--|:--:|:--:|:--:|:--:|:--:|:--:|:--:|:--:|\n",
        "|chiffres binaires|1|1|1|1|0|0|0|0|\n",
        "\n",
        "donc b = -16 est représenté par `11110000`"
      ]
    },
    {
      "cell_type": "code",
      "metadata": {
        "colab": {
          "base_uri": "https://localhost:8080/"
        },
        "id": "UGy3ZRAKPxjg",
        "outputId": "6b6d1019-57ae-4343-9cf7-ce47adec541f"
      },
      "source": [
        "-16+128"
      ],
      "execution_count": 7,
      "outputs": [
        {
          "output_type": "execute_result",
          "data": {
            "text/plain": [
              "112"
            ]
          },
          "metadata": {
            "tags": []
          },
          "execution_count": 7
        }
      ]
    },
    {
      "cell_type": "code",
      "metadata": {
        "colab": {
          "base_uri": "https://localhost:8080/"
        },
        "id": "Gl1_jxwHPyty",
        "outputId": "b6687fd6-7a15-49a8-96d7-a175b41553c1"
      },
      "source": [
        "112-64"
      ],
      "execution_count": 10,
      "outputs": [
        {
          "output_type": "execute_result",
          "data": {
            "text/plain": [
              "48"
            ]
          },
          "metadata": {
            "tags": []
          },
          "execution_count": 10
        }
      ]
    },
    {
      "cell_type": "code",
      "metadata": {
        "colab": {
          "base_uri": "https://localhost:8080/"
        },
        "id": "SIUQrfydQHza",
        "outputId": "dd42b39a-4b4e-4793-b543-75f29a44a452"
      },
      "source": [
        "48-32"
      ],
      "execution_count": 11,
      "outputs": [
        {
          "output_type": "execute_result",
          "data": {
            "text/plain": [
              "16"
            ]
          },
          "metadata": {
            "tags": []
          },
          "execution_count": 11
        }
      ]
    }
  ]
}