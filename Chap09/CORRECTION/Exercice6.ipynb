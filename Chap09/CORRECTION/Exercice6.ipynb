{
  "nbformat": 4,
  "nbformat_minor": 0,
  "metadata": {
    "colab": {
      "name": "Chap09_CORRECTION_Exercice6.ipynb",
      "provenance": [],
      "authorship_tag": "ABX9TyPFJTvKd2x4h8rJ9SD/OwYi",
      "include_colab_link": true
    },
    "kernelspec": {
      "name": "python3",
      "display_name": "Python 3"
    }
  },
  "cells": [
    {
      "cell_type": "markdown",
      "metadata": {
        "id": "view-in-github",
        "colab_type": "text"
      },
      "source": [
        "<a href=\"https://colab.research.google.com/github/thfruchart/1nsi-2020/blob/master/Chap09/CORRECTION/Exercice6.ipynb\" target=\"_parent\"><img src=\"https://colab.research.google.com/assets/colab-badge.svg\" alt=\"Open In Colab\"/></a>"
      ]
    },
    {
      "cell_type": "markdown",
      "metadata": {
        "id": "zfXXtQuAz7X8"
      },
      "source": [
        "**Exercice 6**\n",
        "\n",
        "Déterminer la représentation sur 8 bits en complément à deux des nombres relatifs : \n",
        "\n"
      ]
    },
    {
      "cell_type": "markdown",
      "metadata": {
        "id": "dhbioXtF0ALq"
      },
      "source": [
        "#### $a=-4$"
      ]
    },
    {
      "cell_type": "code",
      "metadata": {
        "colab": {
          "base_uri": "https://localhost:8080/"
        },
        "id": "FAd1Baax2GuN",
        "outputId": "1be38b1e-70a5-4107-ef73-b3762bd25be2"
      },
      "source": [
        "-4+128"
      ],
      "execution_count": null,
      "outputs": [
        {
          "output_type": "execute_result",
          "data": {
            "text/plain": [
              "124"
            ]
          },
          "metadata": {
            "tags": []
          },
          "execution_count": 1
        }
      ]
    },
    {
      "cell_type": "code",
      "metadata": {
        "colab": {
          "base_uri": "https://localhost:8080/"
        },
        "id": "sTvqGSM02KN0",
        "outputId": "976b20a0-5f47-42d4-b0fd-f6e6198c9bf8"
      },
      "source": [
        "(124-64, 60-32, 28-16, 12-8)"
      ],
      "execution_count": null,
      "outputs": [
        {
          "output_type": "execute_result",
          "data": {
            "text/plain": [
              "(60, 28, 12, 4)"
            ]
          },
          "metadata": {
            "tags": []
          },
          "execution_count": 10
        }
      ]
    },
    {
      "cell_type": "code",
      "metadata": {
        "colab": {
          "base_uri": "https://localhost:8080/"
        },
        "id": "saULNSBf2bE8",
        "outputId": "4b032634-2391-4071-c37a-6b140aeab982"
      },
      "source": [
        "-128+64+32+16+8+4"
      ],
      "execution_count": null,
      "outputs": [
        {
          "output_type": "execute_result",
          "data": {
            "text/plain": [
              "-4"
            ]
          },
          "metadata": {
            "tags": []
          },
          "execution_count": 11
        }
      ]
    },
    {
      "cell_type": "markdown",
      "metadata": {
        "id": "6i8msFks0DZo"
      },
      "source": [
        "|poids|-128|64|32|16|8|4|2|1|\n",
        "|:--|:--:|:--:|:--:|:--:|:--:|:--:|:--:|:--:|\n",
        "|chiffres binaires|1|1|1|1|1|1|0|0|"
      ]
    },
    {
      "cell_type": "markdown",
      "metadata": {
        "id": "wqNzuFGb1JxG"
      },
      "source": [
        "$-4$= `11111100` en complément à deux sur 8 bits."
      ]
    },
    {
      "cell_type": "code",
      "metadata": {
        "colab": {
          "base_uri": "https://localhost:8080/"
        },
        "id": "wBVqOB9pzuDN",
        "outputId": "ac4d6b1e-0722-44d3-ecf2-9ab0e5f42f15"
      },
      "source": [
        "from numpy import int8\n",
        "print(int8(0b11111100))"
      ],
      "execution_count": null,
      "outputs": [
        {
          "output_type": "stream",
          "text": [
            "-4\n"
          ],
          "name": "stdout"
        }
      ]
    },
    {
      "cell_type": "markdown",
      "metadata": {
        "id": "CBPUQMNG0OnM"
      },
      "source": [
        "#### f = `0100 1000`"
      ]
    },
    {
      "cell_type": "markdown",
      "metadata": {
        "id": "mQEeJj4Y0UUg"
      },
      "source": [
        "|poids|-128|64|32|16|8|4|2|1|\n",
        "|:--|:--:|:--:|:--:|:--:|:--:|:--:|:--:|:--:|\n",
        "|chiffres binaires|0|1|0|0|1|0|0|0|"
      ]
    },
    {
      "cell_type": "markdown",
      "metadata": {
        "id": "t9AvjRwjL29r"
      },
      "source": [
        "f = 64 + 8 = 72"
      ]
    },
    {
      "cell_type": "code",
      "metadata": {
        "id": "9oLXB7aM0Xjs",
        "colab": {
          "base_uri": "https://localhost:8080/"
        },
        "outputId": "9194eba5-2fd4-4497-f58c-9d4c172760a7"
      },
      "source": [
        "from numpy import int8\n",
        "print(int8(0b01001000))"
      ],
      "execution_count": 1,
      "outputs": [
        {
          "output_type": "stream",
          "text": [
            "72\n"
          ],
          "name": "stdout"
        }
      ]
    },
    {
      "cell_type": "markdown",
      "metadata": {
        "id": "AuCc-Uwi0ddx"
      },
      "source": [
        "#### g = `1111 1111`"
      ]
    },
    {
      "cell_type": "markdown",
      "metadata": {
        "id": "5lDeQF8k0hIo"
      },
      "source": [
        "|poids|-128|64|32|16|8|4|2|1|\n",
        "|:--|:--:|:--:|:--:|:--:|:--:|:--:|:--:|:--:|\n",
        "|chiffres binaires|1|1|1|1|1|1|1|1|"
      ]
    },
    {
      "cell_type": "code",
      "metadata": {
        "colab": {
          "base_uri": "https://localhost:8080/"
        },
        "id": "4K7BEG4QMENi",
        "outputId": "8506d99f-7abb-4894-f727-3a7f8688ea89"
      },
      "source": [
        "-128+64+32+16+8+4+2+1"
      ],
      "execution_count": 2,
      "outputs": [
        {
          "output_type": "execute_result",
          "data": {
            "text/plain": [
              "-1"
            ]
          },
          "metadata": {
            "tags": []
          },
          "execution_count": 2
        }
      ]
    },
    {
      "cell_type": "code",
      "metadata": {
        "colab": {
          "base_uri": "https://localhost:8080/"
        },
        "id": "eRL7sdH0MIWy",
        "outputId": "92fb4093-7966-4baa-ef3a-d1d6c70da33f"
      },
      "source": [
        "int8(0b11111111) + int8(0b00000001)"
      ],
      "execution_count": 4,
      "outputs": [
        {
          "output_type": "execute_result",
          "data": {
            "text/plain": [
              "0"
            ]
          },
          "metadata": {
            "tags": []
          },
          "execution_count": 4
        }
      ]
    }
  ]
}