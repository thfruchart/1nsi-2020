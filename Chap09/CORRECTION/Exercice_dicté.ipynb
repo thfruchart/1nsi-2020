{
  "nbformat": 4,
  "nbformat_minor": 0,
  "metadata": {
    "colab": {
      "name": "Untitled0.ipynb",
      "provenance": [],
      "authorship_tag": "ABX9TyNR5j1vLxqJzXNUJvZ164Ug",
      "include_colab_link": true
    },
    "kernelspec": {
      "name": "python3",
      "display_name": "Python 3"
    }
  },
  "cells": [
    {
      "cell_type": "markdown",
      "metadata": {
        "id": "view-in-github",
        "colab_type": "text"
      },
      "source": [
        "<a href=\"https://colab.research.google.com/github/thfruchart/1nsi-2020/blob/master/Chap09/CORRECTION/Exercice_dict%C3%A9.ipynb\" target=\"_parent\"><img src=\"https://colab.research.google.com/assets/colab-badge.svg\" alt=\"Open In Colab\"/></a>"
      ]
    },
    {
      "cell_type": "markdown",
      "metadata": {
        "id": "Dzhza6bRWhuI"
      },
      "source": [
        "Convertir en décimal les nombres entiers suivants, donnés en binaire: \n",
        "* 110110 = 32+16+4+2=54\n",
        "* 111111 = 32+16+8+4+2+1 = 63"
      ]
    },
    {
      "cell_type": "markdown",
      "metadata": {
        "id": "O2HNNmwkW7qA"
      },
      "source": [
        "|poids|32|16|8|4|2|1|\n",
        "|:--|:--:|:--:|:--:|:--:|:--:|:--:|\n",
        "|chiffres binaires|1|1|0| 1|1|0|"
      ]
    },
    {
      "cell_type": "markdown",
      "metadata": {
        "id": "sxW9AhqIXcyJ"
      },
      "source": [
        "|poids|32|16|8|4|2|1|\n",
        "|:--|:--:|:--:|:--:|:--:|:--:|:--:|\n",
        "|chiffres binaires|1|1|1| 1|1|1|"
      ]
    },
    {
      "cell_type": "code",
      "metadata": {
        "id": "VgBAJUkIWf18"
      },
      "source": [
        ""
      ],
      "execution_count": null,
      "outputs": []
    },
    {
      "cell_type": "markdown",
      "metadata": {
        "id": "2zVtvQ6lWtf_"
      },
      "source": [
        "Convertir en binaire les nombres entiers suivants, donnés en décimal: \n",
        "* 111 = 64+32+8+4+2+1\n",
        "* 1234"
      ]
    },
    {
      "cell_type": "markdown",
      "metadata": {
        "id": "3M9JrQXjXHO1"
      },
      "source": [
        "|poids|1024|512|256|128|64|32|16|8|4|2|1|\n",
        "|:--|:--:|:--:|:--:|:--:|:--:|:--:|:--:|:--:|:--:|:--:|:--:|\n",
        "|chiffres binaires|||||1|1|0|1|1 |1|1|"
      ]
    },
    {
      "cell_type": "code",
      "metadata": {
        "colab": {
          "base_uri": "https://localhost:8080/"
        },
        "id": "8KAza_FXX7sq",
        "outputId": "595769f7-e5e5-4652-fb53-90f3a3f8bf3a"
      },
      "source": [
        "111-64"
      ],
      "execution_count": 1,
      "outputs": [
        {
          "output_type": "execute_result",
          "data": {
            "text/plain": [
              "47"
            ]
          },
          "metadata": {
            "tags": []
          },
          "execution_count": 1
        }
      ]
    },
    {
      "cell_type": "code",
      "metadata": {
        "colab": {
          "base_uri": "https://localhost:8080/"
        },
        "id": "NEYjs_55X9N5",
        "outputId": "aa528d2e-c110-42a1-9883-471f3439b982"
      },
      "source": [
        "47-32\n"
      ],
      "execution_count": 2,
      "outputs": [
        {
          "output_type": "execute_result",
          "data": {
            "text/plain": [
              "15"
            ]
          },
          "metadata": {
            "tags": []
          },
          "execution_count": 2
        }
      ]
    },
    {
      "cell_type": "code",
      "metadata": {
        "colab": {
          "base_uri": "https://localhost:8080/"
        },
        "id": "AM1uIuw0YImx",
        "outputId": "de4fd05d-a62b-4106-a5da-b43e79563c8e"
      },
      "source": [
        "15-8"
      ],
      "execution_count": 3,
      "outputs": [
        {
          "output_type": "execute_result",
          "data": {
            "text/plain": [
              "7"
            ]
          },
          "metadata": {
            "tags": []
          },
          "execution_count": 3
        }
      ]
    },
    {
      "cell_type": "code",
      "metadata": {
        "colab": {
          "base_uri": "https://localhost:8080/"
        },
        "id": "Q5PLj8fBYTDp",
        "outputId": "5d438bc3-9fbc-49b9-9d7b-21c1d8110748"
      },
      "source": [
        "7-4"
      ],
      "execution_count": 4,
      "outputs": [
        {
          "output_type": "execute_result",
          "data": {
            "text/plain": [
              "3"
            ]
          },
          "metadata": {
            "tags": []
          },
          "execution_count": 4
        }
      ]
    },
    {
      "cell_type": "code",
      "metadata": {
        "colab": {
          "base_uri": "https://localhost:8080/"
        },
        "id": "igu5qLZWYUrR",
        "outputId": "b69837d8-845d-49a0-afd8-85e26d43ddf3"
      },
      "source": [
        "3-2"
      ],
      "execution_count": 5,
      "outputs": [
        {
          "output_type": "execute_result",
          "data": {
            "text/plain": [
              "1"
            ]
          },
          "metadata": {
            "tags": []
          },
          "execution_count": 5
        }
      ]
    },
    {
      "cell_type": "markdown",
      "metadata": {
        "id": "rK20neI9X5J5"
      },
      "source": [
        "|poids|1024|512|256|128|64|32|16|8|4|2|1|\n",
        "|:--|:--:|:--:|:--:|:--:|:--:|:--:|:--:|:--:|:--:|:--:|:--:|\n",
        "|chiffres binaires|1|0|0|1|1|0|1|0|0|1|0|"
      ]
    },
    {
      "cell_type": "code",
      "metadata": {
        "colab": {
          "base_uri": "https://localhost:8080/"
        },
        "id": "dGxz4RMWYg0B",
        "outputId": "13e4e7d3-c55a-4379-b1d6-7a5b2eff7543"
      },
      "source": [
        "(1234-1024, 210-128, 82-64, 18-16)"
      ],
      "execution_count": 9,
      "outputs": [
        {
          "output_type": "execute_result",
          "data": {
            "text/plain": [
              "(210, 82, 18, 2)"
            ]
          },
          "metadata": {
            "tags": []
          },
          "execution_count": 9
        }
      ]
    },
    {
      "cell_type": "code",
      "metadata": {
        "colab": {
          "base_uri": "https://localhost:8080/",
          "height": 35
        },
        "id": "3uxrl7hLYiX5",
        "outputId": "64c5662d-a8a0-4648-b0d8-5876c063bbf7"
      },
      "source": [
        "bin(1234)"
      ],
      "execution_count": 10,
      "outputs": [
        {
          "output_type": "execute_result",
          "data": {
            "application/vnd.google.colaboratory.intrinsic+json": {
              "type": "string"
            },
            "text/plain": [
              "'0b10011010010'"
            ]
          },
          "metadata": {
            "tags": []
          },
          "execution_count": 10
        }
      ]
    },
    {
      "cell_type": "code",
      "metadata": {
        "id": "v8J4xnCNY8w8"
      },
      "source": [
        ""
      ],
      "execution_count": null,
      "outputs": []
    }
  ]
}