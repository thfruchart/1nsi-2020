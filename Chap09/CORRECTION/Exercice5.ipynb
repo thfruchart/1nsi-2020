{
  "nbformat": 4,
  "nbformat_minor": 0,
  "metadata": {
    "colab": {
      "name": "Chap09_CORRECTION_Exercice5.ipynb",
      "provenance": [],
      "collapsed_sections": [
        "dhbioXtF0ALq",
        "CBPUQMNG0OnM",
        "AuCc-Uwi0ddx"
      ],
      "authorship_tag": "ABX9TyN29lB+JuMeeGrV5G89kzkH",
      "include_colab_link": true
    },
    "kernelspec": {
      "name": "python3",
      "display_name": "Python 3"
    }
  },
  "cells": [
    {
      "cell_type": "markdown",
      "metadata": {
        "id": "view-in-github",
        "colab_type": "text"
      },
      "source": [
        "<a href=\"https://colab.research.google.com/github/thfruchart/1nsi-2020/blob/master/Chap09/CORRECTION/Exercice5.ipynb\" target=\"_parent\"><img src=\"https://colab.research.google.com/assets/colab-badge.svg\" alt=\"Open In Colab\"/></a>"
      ]
    },
    {
      "cell_type": "markdown",
      "metadata": {
        "id": "LClwgDrTnZcI"
      },
      "source": [
        "**Exercice 5**\n",
        "\n",
        "Donner l’écriture décimale des nombres suivants, stockés sur 8 bits au format binaire « complément à deux ».\n",
        "\n"
      ]
    },
    {
      "cell_type": "markdown",
      "metadata": {
        "id": "dhbioXtF0ALq"
      },
      "source": [
        "#### e = `1000 0010`"
      ]
    },
    {
      "cell_type": "markdown",
      "metadata": {
        "id": "6i8msFks0DZo"
      },
      "source": [
        "|poids|-128|64|32|16|8|4|2|1|\n",
        "|:--|:--:|:--:|:--:|:--:|:--:|:--:|:--:|:--:|\n",
        "|chiffres binaires|1|0|0|0|0|0|1|0|"
      ]
    },
    {
      "cell_type": "markdown",
      "metadata": {
        "id": "wqNzuFGb1JxG"
      },
      "source": [
        "e = $-128 + 2 = -126$"
      ]
    },
    {
      "cell_type": "code",
      "metadata": {
        "colab": {
          "base_uri": "https://localhost:8080/"
        },
        "id": "wBVqOB9pzuDN",
        "outputId": "3fa637d0-b055-442b-b6d2-69a7016b3e86"
      },
      "source": [
        "from numpy import int8\n",
        "print(int8(0b10000010))"
      ],
      "execution_count": null,
      "outputs": [
        {
          "output_type": "stream",
          "text": [
            "-126\n"
          ],
          "name": "stdout"
        }
      ]
    },
    {
      "cell_type": "markdown",
      "metadata": {
        "id": "CBPUQMNG0OnM"
      },
      "source": [
        "#### f = `0100 1000`"
      ]
    },
    {
      "cell_type": "markdown",
      "metadata": {
        "id": "mQEeJj4Y0UUg"
      },
      "source": [
        "|poids|-128|64|32|16|8|4|2|1|\n",
        "|:--|:--:|:--:|:--:|:--:|:--:|:--:|:--:|:--:|\n",
        "|chiffres binaires|0|1|0|0|1|0|0|0|"
      ]
    },
    {
      "cell_type": "markdown",
      "metadata": {
        "id": "t9AvjRwjL29r"
      },
      "source": [
        "f = 64 + 8 = 72"
      ]
    },
    {
      "cell_type": "code",
      "metadata": {
        "id": "9oLXB7aM0Xjs",
        "colab": {
          "base_uri": "https://localhost:8080/"
        },
        "outputId": "9194eba5-2fd4-4497-f58c-9d4c172760a7"
      },
      "source": [
        "from numpy import int8\n",
        "print(int8(0b01001000))"
      ],
      "execution_count": 1,
      "outputs": [
        {
          "output_type": "stream",
          "text": [
            "72\n"
          ],
          "name": "stdout"
        }
      ]
    },
    {
      "cell_type": "markdown",
      "metadata": {
        "id": "AuCc-Uwi0ddx"
      },
      "source": [
        "#### g = `1111 1111`"
      ]
    },
    {
      "cell_type": "markdown",
      "metadata": {
        "id": "5lDeQF8k0hIo"
      },
      "source": [
        "|poids|-128|64|32|16|8|4|2|1|\n",
        "|:--|:--:|:--:|:--:|:--:|:--:|:--:|:--:|:--:|\n",
        "|chiffres binaires|1|1|1|1|1|1|1|1|"
      ]
    },
    {
      "cell_type": "code",
      "metadata": {
        "colab": {
          "base_uri": "https://localhost:8080/"
        },
        "id": "4K7BEG4QMENi",
        "outputId": "8506d99f-7abb-4894-f727-3a7f8688ea89"
      },
      "source": [
        "-128+64+32+16+8+4+2+1"
      ],
      "execution_count": 2,
      "outputs": [
        {
          "output_type": "execute_result",
          "data": {
            "text/plain": [
              "-1"
            ]
          },
          "metadata": {
            "tags": []
          },
          "execution_count": 2
        }
      ]
    },
    {
      "cell_type": "code",
      "metadata": {
        "colab": {
          "base_uri": "https://localhost:8080/"
        },
        "id": "eRL7sdH0MIWy",
        "outputId": "92fb4093-7966-4baa-ef3a-d1d6c70da33f"
      },
      "source": [
        "int8(0b11111111) + int8(0b00000001)"
      ],
      "execution_count": 4,
      "outputs": [
        {
          "output_type": "execute_result",
          "data": {
            "text/plain": [
              "0"
            ]
          },
          "metadata": {
            "tags": []
          },
          "execution_count": 4
        }
      ]
    }
  ]
}