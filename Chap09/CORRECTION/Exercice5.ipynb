{
  "nbformat": 4,
  "nbformat_minor": 0,
  "metadata": {
    "colab": {
      "name": "Chap09_CORRECTION_Exercice5.ipynb",
      "provenance": [],
      "authorship_tag": "ABX9TyMH62yAJUHHdSt/zTGSiet6",
      "include_colab_link": true
    },
    "kernelspec": {
      "name": "python3",
      "display_name": "Python 3"
    }
  },
  "cells": [
    {
      "cell_type": "markdown",
      "metadata": {
        "id": "view-in-github",
        "colab_type": "text"
      },
      "source": [
        "<a href=\"https://colab.research.google.com/github/thfruchart/1nsi-2020/blob/master/Chap09/CORRECTION/Exercice5.ipynb\" target=\"_parent\"><img src=\"https://colab.research.google.com/assets/colab-badge.svg\" alt=\"Open In Colab\"/></a>"
      ]
    },
    {
      "cell_type": "markdown",
      "metadata": {
        "id": "zfXXtQuAz7X8"
      },
      "source": [
        "**Exercice 5**\n",
        "\n",
        "Donner l’écriture décimale des nombres suivants, stockés sur 8 bits au format binaire « complément à deux ».\n",
        "\n"
      ]
    },
    {
      "cell_type": "markdown",
      "metadata": {
        "id": "dhbioXtF0ALq"
      },
      "source": [
        "#### e = `1000 0010`"
      ]
    },
    {
      "cell_type": "markdown",
      "metadata": {
        "id": "6i8msFks0DZo"
      },
      "source": [
        "|poids|-128|64|32|16|8|4|2|1|\n",
        "|:--|:--:|:--:|:--:|:--:|:--:|:--:|:--:|:--:|\n",
        "|chiffres binaires|1|0|0|0|0|0|1|0|"
      ]
    },
    {
      "cell_type": "markdown",
      "metadata": {
        "id": "wqNzuFGb1JxG"
      },
      "source": [
        "e = $-128 + 2 = -126$"
      ]
    },
    {
      "cell_type": "code",
      "metadata": {
        "colab": {
          "base_uri": "https://localhost:8080/"
        },
        "id": "wBVqOB9pzuDN",
        "outputId": "3fa637d0-b055-442b-b6d2-69a7016b3e86"
      },
      "source": [
        "from numpy import int8\n",
        "print(int8(0b10000010))"
      ],
      "execution_count": 2,
      "outputs": [
        {
          "output_type": "stream",
          "text": [
            "-126\n"
          ],
          "name": "stdout"
        }
      ]
    },
    {
      "cell_type": "markdown",
      "metadata": {
        "id": "CBPUQMNG0OnM"
      },
      "source": [
        "#### f = `0100 1000`"
      ]
    },
    {
      "cell_type": "markdown",
      "metadata": {
        "id": "mQEeJj4Y0UUg"
      },
      "source": [
        "|poids|-128|64|32|16|8|4|2|1|\n",
        "|:--|:--:|:--:|:--:|:--:|:--:|:--:|:--:|:--:|\n",
        "|chiffres binaires|0|1|0|0|1|0|0|0|"
      ]
    },
    {
      "cell_type": "code",
      "metadata": {
        "id": "9oLXB7aM0Xjs"
      },
      "source": [
        ""
      ],
      "execution_count": null,
      "outputs": []
    },
    {
      "cell_type": "markdown",
      "metadata": {
        "id": "ruvaFlFM0bIn"
      },
      "source": [
        ""
      ]
    },
    {
      "cell_type": "markdown",
      "metadata": {
        "id": "AuCc-Uwi0ddx"
      },
      "source": [
        "#### g = `1111 1111`"
      ]
    },
    {
      "cell_type": "markdown",
      "metadata": {
        "id": "5lDeQF8k0hIo"
      },
      "source": [
        "|poids|-128|64|32|16|8|4|2|1|\n",
        "|:--|:--:|:--:|:--:|:--:|:--:|:--:|:--:|:--:|\n",
        "|chiffres binaires|1|1|1|1|1|1|1|1|"
      ]
    }
  ]
}