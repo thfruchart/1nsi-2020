{
  "nbformat": 4,
  "nbformat_minor": 0,
  "metadata": {
    "colab": {
      "name": "Chap09_COURS_ENTIERS_Binaire_Hexa.ipynb",
      "provenance": [],
      "collapsed_sections": [],
      "authorship_tag": "ABX9TyNuCO/XQMretNSxVLWzt2iI",
      "include_colab_link": true
    },
    "kernelspec": {
      "name": "python3",
      "display_name": "Python 3"
    }
  },
  "cells": [
    {
      "cell_type": "markdown",
      "metadata": {
        "id": "view-in-github",
        "colab_type": "text"
      },
      "source": [
        "<a href=\"https://colab.research.google.com/github/thfruchart/1nsi-2020/blob/master/Chap09/COURS_ENTIERS_Binaire_Hexa.ipynb\" target=\"_parent\"><img src=\"https://colab.research.google.com/assets/colab-badge.svg\" alt=\"Open In Colab\"/></a>"
      ]
    },
    {
      "cell_type": "markdown",
      "metadata": {
        "id": "i85hH6UyYwY8"
      },
      "source": [
        "L'information traitée par un ordinateur est de nature **binaire** : soit le courant passe, soit il ne passe pas!\n",
        "\n",
        "Ces deux états peuvent être représentés par les nombres **1** et **0**.\n",
        "\n",
        "En informatique, les données numériques sont représentées avec des suites de chiffres binaires (*binary digit* ou *bit*).\n",
        "\n",
        "Dans ce chapitre, on s'intéresse à la représentation des **nombres entiers** en binaire. "
      ]
    },
    {
      "cell_type": "markdown",
      "metadata": {
        "id": "bSnMBHhLhrqm"
      },
      "source": [
        "# Nombres écrits en binaire (ou en base 2)"
      ]
    },
    {
      "cell_type": "markdown",
      "metadata": {
        "id": "eE6EG0hNigis"
      },
      "source": [
        "Pour écrire un nombre en binaire, on n'utilise uniquement les deux chiffres 0 et 1.\n",
        "\n",
        "En Python, le préfixe `0b`... sert à écrire un nombre en binaire. \n",
        "\n",
        "En mathématiques, on notera plutôt $(...)_2$.\n",
        "\n",
        "Par exemple : le nombre entier 7 écrit en binaire, sera noté :\n",
        "*  $(111)_2$ en mathématiques\n",
        "* `0b111` en Python\n",
        "\n",
        "Pour comprendre comment fonctionne cette écriture des nombres, exécuter les cellules suivantes  :"
      ]
    },
    {
      "cell_type": "code",
      "metadata": {
        "id": "xdF8_4NTSFgk",
        "outputId": "4585fc7c-f649-44ed-a4ff-877a22c678f0",
        "colab": {
          "base_uri": "https://localhost:8080/"
        }
      },
      "source": [
        "0b111"
      ],
      "execution_count": 1,
      "outputs": [
        {
          "output_type": "execute_result",
          "data": {
            "text/plain": [
              "7"
            ]
          },
          "metadata": {
            "tags": []
          },
          "execution_count": 1
        }
      ]
    },
    {
      "cell_type": "code",
      "metadata": {
        "id": "kT9Sf4XzhqQv",
        "outputId": "78258ea1-2e79-4456-83e8-cffc32b9c273",
        "colab": {
          "base_uri": "https://localhost:8080/"
        }
      },
      "source": [
        "0b10"
      ],
      "execution_count": 2,
      "outputs": [
        {
          "output_type": "execute_result",
          "data": {
            "text/plain": [
              "2"
            ]
          },
          "metadata": {
            "tags": []
          },
          "execution_count": 2
        }
      ]
    },
    {
      "cell_type": "code",
      "metadata": {
        "id": "OFeLMKdhicT8",
        "outputId": "c7adf8d8-6109-47ff-e3d8-af65392df27d",
        "colab": {
          "base_uri": "https://localhost:8080/"
        }
      },
      "source": [
        "0b100"
      ],
      "execution_count": 3,
      "outputs": [
        {
          "output_type": "execute_result",
          "data": {
            "text/plain": [
              "4"
            ]
          },
          "metadata": {
            "tags": []
          },
          "execution_count": 3
        }
      ]
    },
    {
      "cell_type": "code",
      "metadata": {
        "id": "wsFQ_P-CieZr",
        "outputId": "7fc9b777-18ea-42f8-88ea-e46d12494ee0",
        "colab": {
          "base_uri": "https://localhost:8080/"
        }
      },
      "source": [
        "0b1000"
      ],
      "execution_count": 4,
      "outputs": [
        {
          "output_type": "execute_result",
          "data": {
            "text/plain": [
              "8"
            ]
          },
          "metadata": {
            "tags": []
          },
          "execution_count": 4
        }
      ]
    },
    {
      "cell_type": "code",
      "metadata": {
        "id": "3dLX6refjmBN",
        "outputId": "6a45a9e1-c099-4e9b-93fe-6c4af4ad6d85",
        "colab": {
          "base_uri": "https://localhost:8080/"
        }
      },
      "source": [
        "0b10000"
      ],
      "execution_count": 5,
      "outputs": [
        {
          "output_type": "execute_result",
          "data": {
            "text/plain": [
              "16"
            ]
          },
          "metadata": {
            "tags": []
          },
          "execution_count": 5
        }
      ]
    },
    {
      "cell_type": "markdown",
      "metadata": {
        "id": "ao00n9AejopS"
      },
      "source": [
        "#### Question\n"
      ]
    },
    {
      "cell_type": "markdown",
      "metadata": {
        "id": "f9vCr3yKj7J3"
      },
      "source": [
        "Comment calculer `0b10000000000`  soit $(10000000000)_2$ c'est à dire 1 suivi de dix 0?\n",
        "\n",
        "* 2 puissance 10"
      ]
    },
    {
      "cell_type": "code",
      "metadata": {
        "id": "tSmMzE8rj8uA",
        "outputId": "ed87a2f3-0a99-4510-f1b8-014f47d36be5",
        "colab": {
          "base_uri": "https://localhost:8080/"
        }
      },
      "source": [
        "0b10000000000"
      ],
      "execution_count": 6,
      "outputs": [
        {
          "output_type": "execute_result",
          "data": {
            "text/plain": [
              "1024"
            ]
          },
          "metadata": {
            "tags": []
          },
          "execution_count": 6
        }
      ]
    },
    {
      "cell_type": "code",
      "metadata": {
        "id": "3Qq-0VOSSmRj",
        "outputId": "1f197911-aa8d-4c09-eb99-02b1a8997970",
        "colab": {
          "base_uri": "https://localhost:8080/"
        }
      },
      "source": [
        "2**10"
      ],
      "execution_count": 7,
      "outputs": [
        {
          "output_type": "execute_result",
          "data": {
            "text/plain": [
              "1024"
            ]
          },
          "metadata": {
            "tags": []
          },
          "execution_count": 7
        }
      ]
    },
    {
      "cell_type": "markdown",
      "metadata": {
        "id": "iyWTQvA7kZZz"
      },
      "source": [
        "#### quelques calculs\n",
        "\n",
        "Pour chaque cellule : calculer d'abord le résultat de l'opération, puis vérifier en exécutant la cellule. "
      ]
    },
    {
      "cell_type": "code",
      "metadata": {
        "id": "nIoETBuWkb2-",
        "outputId": "ba6d053b-404f-48db-9c3a-e1de07fc4e57",
        "colab": {
          "base_uri": "https://localhost:8080/"
        }
      },
      "source": [
        "0b1000 + 0b10"
      ],
      "execution_count": 8,
      "outputs": [
        {
          "output_type": "execute_result",
          "data": {
            "text/plain": [
              "10"
            ]
          },
          "metadata": {
            "tags": []
          },
          "execution_count": 8
        }
      ]
    },
    {
      "cell_type": "code",
      "metadata": {
        "id": "PUCHTuaJkrWF"
      },
      "source": [
        "0b10000 + 0b100"
      ],
      "execution_count": null,
      "outputs": []
    },
    {
      "cell_type": "code",
      "metadata": {
        "id": "7oU69UZKkyTQ"
      },
      "source": [
        "0b100 +0b10 +0b1"
      ],
      "execution_count": null,
      "outputs": []
    },
    {
      "cell_type": "markdown",
      "metadata": {
        "id": "YEFZ2KCWltBu"
      },
      "source": [
        "**Application**:\n",
        "\n",
        "En décomposant sous forme d'une somme de nombre de la forme 10...0, calculer:\n",
        "\n",
        "* $(101010)_2$\n",
        "* $(1111)_2$"
      ]
    },
    {
      "cell_type": "markdown",
      "metadata": {
        "id": "QIt2WLAGTfjF"
      },
      "source": [
        "* $(101010)_2 = (100000)_2 + (1000)_2 +(10)_2 $ = 32+8+2 =**42**\n",
        "* $(1111)_2 = (1000)_2 + (100)_2+ (10)_2+1 $ = 8+4+2+1 = **15**"
      ]
    },
    {
      "cell_type": "markdown",
      "metadata": {
        "id": "lfRvuetGkXjH"
      },
      "source": [
        "## Conversion vers la base 10 : décimal"
      ]
    },
    {
      "cell_type": "markdown",
      "metadata": {
        "id": "DQSQCh90lO4_"
      },
      "source": [
        "**Principe** : chaque chiffre d'un nombre binaire représente une puissance de 2\n",
        "\n",
        "On peut repérer le \"poids\" de chaque chiffre, en lui faisant correspondre une puissance de 2:\n",
        "\n",
        "|poids|$2^4$|$2^3$|$2^2$|$2^1$|$2^0$|\n",
        "|:--|:--:|:--:|:--:|:--:|:--:|\n",
        "|chiffres binaires|1|1|0|1|0|\n",
        "\n",
        "ce qui donne : \n",
        "\n",
        "|poids|16|8|4|2|1|\n",
        "|:--|:--:|:--:|:--:|:--:|:--:|\n",
        "|chiffres binaires|1|1|0|1|0|\n",
        "\n",
        "donc : $(11010)_2 =  16+ 8+ 2  = 26$ "
      ]
    },
    {
      "cell_type": "code",
      "metadata": {
        "colab": {
          "base_uri": "https://localhost:8080/"
        },
        "id": "nN5WhkJiwdwU",
        "outputId": "26db38fc-65b7-422f-808e-21bf127ffc5f"
      },
      "source": [
        "0b11010"
      ],
      "execution_count": null,
      "outputs": [
        {
          "output_type": "execute_result",
          "data": {
            "text/plain": [
              "26"
            ]
          },
          "metadata": {
            "tags": []
          },
          "execution_count": 5
        }
      ]
    },
    {
      "cell_type": "markdown",
      "metadata": {
        "id": "R8461XG4womT"
      },
      "source": [
        "## Conversion depuis la base 10"
      ]
    },
    {
      "cell_type": "markdown",
      "metadata": {
        "id": "kt22rRBw1S-3"
      },
      "source": [
        "On cherche à décomposer un nombre N en somme de puissance de 2\n",
        "* écrire les puissances de 2 jusqu'à atteindre (au moins la moitié de) N\n",
        "* par soustractions successives, écrire N comme somme de puissances de 2.\n"
      ]
    },
    {
      "cell_type": "markdown",
      "metadata": {
        "id": "emSvG8VYWwcv"
      },
      "source": [
        "Exemple : 183 peut se décomposer en somme de puissances de 2\n",
        "\n",
        "\n",
        "|poids|128|64|32|16|8|4|2|1|\n",
        "|:--|:--:|:--:|:--:|:--:|:--:|:--:|:--:|:--:|\n",
        "|chiffres binaires|1|0|1|1|0|1|1|1|\n",
        "\n",
        "$183 = 128+32+16+4+2+1 = (10110111)_2$"
      ]
    },
    {
      "cell_type": "code",
      "metadata": {
        "colab": {
          "base_uri": "https://localhost:8080/"
        },
        "id": "o6tUvtISXfzZ",
        "outputId": "605f4db8-0a9c-4f76-bcfe-50434df1bb47"
      },
      "source": [
        "(183-128, 55-32, 23-16, 7-4, 3-2)"
      ],
      "execution_count": null,
      "outputs": [
        {
          "output_type": "execute_result",
          "data": {
            "text/plain": [
              "(55, 23, 7, 3, 1)"
            ]
          },
          "metadata": {
            "tags": []
          },
          "execution_count": 12
        }
      ]
    },
    {
      "cell_type": "markdown",
      "metadata": {
        "id": "xCdBpJWpYcbL"
      },
      "source": [
        "Avec Python, on peut vérifier à l'aide de la fonction `bin`"
      ]
    },
    {
      "cell_type": "code",
      "metadata": {
        "colab": {
          "base_uri": "https://localhost:8080/",
          "height": 35
        },
        "id": "LextGuQPYgcL",
        "outputId": "fd130c67-a014-42a0-e45a-213f2719754e"
      },
      "source": [
        "bin(183)"
      ],
      "execution_count": null,
      "outputs": [
        {
          "output_type": "execute_result",
          "data": {
            "application/vnd.google.colaboratory.intrinsic+json": {
              "type": "string"
            },
            "text/plain": [
              "'0b10110111'"
            ]
          },
          "metadata": {
            "tags": []
          },
          "execution_count": 6
        }
      ]
    },
    {
      "cell_type": "markdown",
      "metadata": {
        "id": "JvW_YFHjh1PO"
      },
      "source": [
        "# Nombres écrits en hexadécimal (base 16)"
      ]
    },
    {
      "cell_type": "markdown",
      "metadata": {
        "id": "JbvlWgipaFdu"
      },
      "source": [
        "En Python, le préfixe `0x`... sert à écrire un nombre au format hexadécimal.\n",
        "\n",
        "En mathématiques, on utilise la notation $(...)_{16}$\n",
        "\n",
        "La notation hexadécimale repose sur le fait que chaque chiffre représente une puissance de 16.\n",
        "\n",
        "Observer les exemples suivants : "
      ]
    },
    {
      "cell_type": "code",
      "metadata": {
        "id": "b_5frha1advK",
        "outputId": "fbaa48b9-1f31-4105-80c8-7a7eb2ff5b96",
        "colab": {
          "base_uri": "https://localhost:8080/"
        }
      },
      "source": [
        "0x10"
      ],
      "execution_count": 9,
      "outputs": [
        {
          "output_type": "execute_result",
          "data": {
            "text/plain": [
              "16"
            ]
          },
          "metadata": {
            "tags": []
          },
          "execution_count": 9
        }
      ]
    },
    {
      "cell_type": "code",
      "metadata": {
        "id": "qb_3I0HMagKL",
        "outputId": "133c2d21-7c38-4465-cd9c-c9c345875560",
        "colab": {
          "base_uri": "https://localhost:8080/"
        }
      },
      "source": [
        "0x100"
      ],
      "execution_count": 10,
      "outputs": [
        {
          "output_type": "execute_result",
          "data": {
            "text/plain": [
              "256"
            ]
          },
          "metadata": {
            "tags": []
          },
          "execution_count": 10
        }
      ]
    },
    {
      "cell_type": "code",
      "metadata": {
        "id": "0AvLsMLIai-t",
        "outputId": "4201a61c-443f-4665-cc2d-d978148ca26f",
        "colab": {
          "base_uri": "https://localhost:8080/"
        }
      },
      "source": [
        "16**2"
      ],
      "execution_count": 11,
      "outputs": [
        {
          "output_type": "execute_result",
          "data": {
            "text/plain": [
              "256"
            ]
          },
          "metadata": {
            "tags": []
          },
          "execution_count": 11
        }
      ]
    },
    {
      "cell_type": "code",
      "metadata": {
        "id": "hVz-KDsdalNK",
        "outputId": "b6a915bb-c73a-4781-f07d-0e4470569a89",
        "colab": {
          "base_uri": "https://localhost:8080/"
        }
      },
      "source": [
        "0x1000"
      ],
      "execution_count": 12,
      "outputs": [
        {
          "output_type": "execute_result",
          "data": {
            "text/plain": [
              "4096"
            ]
          },
          "metadata": {
            "tags": []
          },
          "execution_count": 12
        }
      ]
    },
    {
      "cell_type": "code",
      "metadata": {
        "id": "d_yqD7BAan2T",
        "outputId": "d181d4ef-460e-44d4-a6b2-2968ab67212e",
        "colab": {
          "base_uri": "https://localhost:8080/"
        }
      },
      "source": [
        "16**3"
      ],
      "execution_count": 13,
      "outputs": [
        {
          "output_type": "execute_result",
          "data": {
            "text/plain": [
              "4096"
            ]
          },
          "metadata": {
            "tags": []
          },
          "execution_count": 13
        }
      ]
    },
    {
      "cell_type": "code",
      "metadata": {
        "id": "D4PNuN98apob",
        "outputId": "d801bcc8-56dd-46fd-e0e5-a306c374c958",
        "colab": {
          "base_uri": "https://localhost:8080/"
        }
      },
      "source": [
        "0x10000 == 16**4"
      ],
      "execution_count": 14,
      "outputs": [
        {
          "output_type": "execute_result",
          "data": {
            "text/plain": [
              "True"
            ]
          },
          "metadata": {
            "tags": []
          },
          "execution_count": 14
        }
      ]
    },
    {
      "cell_type": "markdown",
      "metadata": {
        "id": "cJyef_iNiAq7"
      },
      "source": [
        "## Conversion vers la base 10 : hexadécimal =>  décimal"
      ]
    },
    {
      "cell_type": "markdown",
      "metadata": {
        "id": "IS93p56xa9LK"
      },
      "source": [
        "**Principe** : chaque chiffre d'un nombre écrit en hexadécimal représente une puissance de 16.\n",
        "\n",
        "On peut repérer le \"poids\" de chaque chiffre, en lui faisant correspondre une puissance de 2:\n",
        "\n",
        "|poids|$16^4$|$16^3$|$16^2$|$16^1$|$16^0$|calcul|écriture décimale\n",
        "|:--|:--:|:--:|:--:|:--:|:--:|:----------:|:--|\n",
        "|chiffres hexadécimaux|||1|1|1|$16^2+16^1+16^0$|273|"
      ]
    },
    {
      "cell_type": "code",
      "metadata": {
        "colab": {
          "base_uri": "https://localhost:8080/"
        },
        "id": "gootSWKFbmxK",
        "outputId": "04ad43b4-b92f-487c-dc14-cf63f92c2f7b"
      },
      "source": [
        "0x111"
      ],
      "execution_count": null,
      "outputs": [
        {
          "output_type": "execute_result",
          "data": {
            "text/plain": [
              "273"
            ]
          },
          "metadata": {
            "tags": []
          },
          "execution_count": 14
        }
      ]
    },
    {
      "cell_type": "markdown",
      "metadata": {
        "id": "5dg4VcSx6jK-"
      },
      "source": [
        "**ATTENTION** \n",
        "\n",
        "Pour écrire les nombres en hexadécimal (base 16), on utilise **16 chiffres** : \n",
        "* les chiffres habituels de 0 à 9\n",
        "* les \"chiffres\" de A à F :\n",
        "   * A pour dix\n",
        "   * B pour onze\n",
        "   * C pour douze\n",
        "   * D pour treize\n",
        "   * E pour quatorze\n",
        "   * F pour quinze"
      ]
    },
    {
      "cell_type": "markdown",
      "metadata": {
        "id": "dtV6mVxv7Ayq"
      },
      "source": [
        "On peut repérer le \"poids\" de chaque chiffre, en lui faisant correspondre une puissance de 2:\n",
        "\n",
        "|poids|$16^4$|$16^3$|$16^2$|$16^1$|$16^0$|calcul|écriture décimale\n",
        "|:--|:--:|:--:|:--:|:--:|:--:|:----------:|:--|\n",
        "|chiffres hexadécimaux|1|0|A|8|F|65536+0+2560+128+15 |68239|\n",
        "|calculs|1x$16^4$|0|10x$16^2$|8x$16^1$|15x$16^0$| ||\n",
        "\n",
        "* $(10A8F)_{16}=68 239$"
      ]
    },
    {
      "cell_type": "code",
      "metadata": {
        "id": "3cT2PU8l9Nvw"
      },
      "source": [
        "0x10A8F"
      ],
      "execution_count": null,
      "outputs": []
    },
    {
      "cell_type": "markdown",
      "metadata": {
        "id": "q3yp_pdXiFmS"
      },
      "source": [
        "## Conversion vers la base 2 : hexadécimal => binaire"
      ]
    },
    {
      "cell_type": "markdown",
      "metadata": {
        "id": "KUE865i296u7"
      },
      "source": [
        "**Propriété**\n",
        "\n",
        "Puisque $16 = 2^4$, **un** chiffre en base 16 correspond à **quatre** chiffres en base 2 (un \"quartet\"). \n",
        "\n",
        "| décimal|hexadécimal| binaire|\n",
        "|:---------:|:------:|:------:|\n",
        "|0|0|0000|\n",
        "|1|1|0001|\n",
        "|2|2|0010|\n",
        "|3|3|0011|\n",
        "|4|4|0100|\n",
        "|5|5|0101|\n",
        "|6|6|0110|\n",
        "|7|7|0111|\n",
        "|8|8|1000|\n",
        "|9|9|1001|\n",
        "|10|A|1010|\n",
        "|11|B|1011|\n",
        "|12|C|1100|\n",
        "|13|D|1101|\n",
        "|14|E|1110|\n",
        "|15|F|1111|"
      ]
    },
    {
      "cell_type": "markdown",
      "metadata": {
        "id": "eKGOTbEC_DFR"
      },
      "source": [
        "Pour convertir un nombre entier naturel depuis la base 16 (hexadécimal) vers la base 2 (binaire), il suffit de convertir chaque chiffre hexadécimal en quatre chiffres binaires.\n",
        "\n",
        "Exemple : $(F01)_{16} = (1111 \\, 0000 \\, 0001)_2$"
      ]
    },
    {
      "cell_type": "code",
      "metadata": {
        "id": "e9QJYgizAA-H"
      },
      "source": [
        "0xF01 == 0b111100000001"
      ],
      "execution_count": null,
      "outputs": []
    },
    {
      "cell_type": "markdown",
      "metadata": {
        "id": "v94Wzp5xZxyL"
      },
      "source": [
        "## Conversion depuis la base 2 : binaire => hexadécimal"
      ]
    },
    {
      "cell_type": "markdown",
      "metadata": {
        "id": "BK7VPKdV_jsE"
      },
      "source": [
        "Le même principe permet de convertir directement un nombre écrit en binaire, vers la base 16 (hexadécimal) : \n",
        "il s'agit de grouper les chiffres binaires par quatre **à partir du chiffre des unités**."
      ]
    },
    {
      "cell_type": "markdown",
      "metadata": {
        "id": "a1fCpHzD_5GS"
      },
      "source": [
        "Exemple 1:\n",
        "\n",
        "$(1010101)_2 = (0101 \\, 0101)_2 =(55)_{16}$"
      ]
    }
  ]
}