{
  "nbformat": 4,
  "nbformat_minor": 0,
  "metadata": {
    "colab": {
      "name": "Chap09_PRATIQUE_Arbres_Binaires_de_Recherche.ipynb",
      "provenance": [],
      "collapsed_sections": [],
      "authorship_tag": "ABX9TyMon4jPiXwIvVfk0opKcqIr",
      "include_colab_link": true
    },
    "kernelspec": {
      "name": "python3",
      "display_name": "Python 3"
    }
  },
  "cells": [
    {
      "cell_type": "markdown",
      "metadata": {
        "id": "view-in-github",
        "colab_type": "text"
      },
      "source": [
        "<a href=\"https://colab.research.google.com/github/thfruchart/1nsi-2020/blob/master/Chap09/PRATIQUE_Arbres_Binaires_de_Recherche.ipynb\" target=\"_parent\"><img src=\"https://colab.research.google.com/assets/colab-badge.svg\" alt=\"Open In Colab\"/></a>"
      ]
    },
    {
      "cell_type": "markdown",
      "metadata": {
        "id": "A5RumsIH7mFi"
      },
      "source": [
        "# Insertion dans un arbre binaire de recherche"
      ]
    },
    {
      "cell_type": "markdown",
      "metadata": {
        "id": "gmpQmMzG8IeX"
      },
      "source": [
        "On donne ci-dessous la définition d'une classe ABR :"
      ]
    },
    {
      "cell_type": "code",
      "metadata": {
        "id": "gXHDSogO7Yge"
      },
      "source": [
        "class ABR:\n",
        "    def __init__(self, val):\n",
        "        self.valeur = val\n",
        "        self.gauche = None\n",
        "        self.droit = None\n",
        "    \n",
        "    def texte(self):\n",
        "        if self is None : \n",
        "            return ''\n",
        "        else : \n",
        "            return self.gauche.texte() + str(self.valeur) +' '+  self.droit.texte()\n",
        "    \n",
        "    def __str__(self):\n",
        "        return self.texte()\n"
      ],
      "execution_count": null,
      "outputs": []
    },
    {
      "cell_type": "markdown",
      "metadata": {
        "id": "ZFqD7P9z8Meg"
      },
      "source": [
        "Ecrire une fonction `insere(x, a)` qui\n",
        "\n",
        "* prend deux arguments : \n",
        "   * `a` un objet de la classe ABR\n",
        "   * `x` un objet du même type que les valeurs contenues dans a\n",
        "* insère dans l'arbre `a` la valeur `x` à sa place, c'est à dire en respectant la propriété des arbres binaires **de recherche**."
      ]
    },
    {
      "cell_type": "code",
      "metadata": {
        "id": "mN11bGF-8wfg"
      },
      "source": [
        ""
      ],
      "execution_count": null,
      "outputs": []
    },
    {
      "cell_type": "markdown",
      "metadata": {
        "id": "kCHtnsO6x0O0"
      },
      "source": [
        "# Recherche dans un arbre binaire de recherche"
      ]
    },
    {
      "cell_type": "markdown",
      "metadata": {
        "id": "R2_QdcgnbwFJ"
      },
      "source": [
        "Ecrire une fonction `recherche(abr, x)` qui \n",
        "* prend en arguments un arbre binaire de recherche `abr` et une valeur `x`\n",
        "* renvoie `True` si `x` est l'une des valeurs contenues dans `abr`\n",
        "* renvoie `False` sinon\n",
        "\n",
        "On suggère d'écrire cette fonction de manière récursive. "
      ]
    },
    {
      "cell_type": "code",
      "metadata": {
        "id": "e72_qKZFyB9U"
      },
      "source": [
        ""
      ],
      "execution_count": null,
      "outputs": []
    }
  ]
}