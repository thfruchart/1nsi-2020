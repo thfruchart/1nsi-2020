{
  "nbformat": 4,
  "nbformat_minor": 0,
  "metadata": {
    "colab": {
      "name": "Chap09_COURS_ENTIERS_RELATIFS.ipynb",
      "provenance": [],
      "collapsed_sections": [
        "xH5FrZr0NyKO",
        "ccF7123ANmTy",
        "LVfIaFNhTE44",
        "KNevaDrQTIjO",
        "QhVAylEtTNHa",
        "0SfhlIJ-P7Pb",
        "3qy3b2O9Tb5D",
        "qA32zyF4Tb5D",
        "uwXWnfzMTb5D"
      ],
      "toc_visible": true,
      "authorship_tag": "ABX9TyMaH53cfPSPnSrnzJ5ta42P",
      "include_colab_link": true
    },
    "kernelspec": {
      "name": "python3",
      "display_name": "Python 3"
    }
  },
  "cells": [
    {
      "cell_type": "markdown",
      "metadata": {
        "id": "view-in-github",
        "colab_type": "text"
      },
      "source": [
        "<a href=\"https://colab.research.google.com/github/thfruchart/1nsi-2020/blob/master/Chap09/COURS_ENTIERS_RELATIFS.ipynb\" target=\"_parent\"><img src=\"https://colab.research.google.com/assets/colab-badge.svg\" alt=\"Open In Colab\"/></a>"
      ]
    },
    {
      "cell_type": "markdown",
      "metadata": {
        "id": "bWTzHvRQMOSf"
      },
      "source": [
        "# Nombre de bits pour stocker un entier positif"
      ]
    },
    {
      "cell_type": "markdown",
      "metadata": {
        "id": "puQfm-ZyMU8W"
      },
      "source": [
        "Dans la mémoire d'un ordinateur, toutes les informations sont stockées sous forme d'une suite de bits (binary digits) qui valent 0 ou 1.\n",
        "\n",
        "Le nombre de bits nécéssaires pour stocker un nombre entier est donné par la longueur de son écriture binaire. "
      ]
    },
    {
      "cell_type": "code",
      "metadata": {
        "id": "b_M5-mfmNRSE"
      },
      "source": [
        "bin(15)"
      ],
      "execution_count": null,
      "outputs": []
    },
    {
      "cell_type": "code",
      "metadata": {
        "id": "RmRX7WDiMJHu"
      },
      "source": [
        "bin(16)"
      ],
      "execution_count": null,
      "outputs": []
    },
    {
      "cell_type": "code",
      "metadata": {
        "id": "qk2RTx-XM3xg"
      },
      "source": [
        "def nombre_de_bits(n):\n",
        "    '''retourne le nombre de chiffres de l'écriture de l'entier n en binaire'''\n",
        "    return len(bin(n))-2"
      ],
      "execution_count": 3,
      "outputs": []
    },
    {
      "cell_type": "code",
      "metadata": {
        "id": "ax2ULamgNCgE"
      },
      "source": [
        "nombre_de_bits(15)"
      ],
      "execution_count": null,
      "outputs": []
    },
    {
      "cell_type": "code",
      "metadata": {
        "id": "a1gdfiLVNE-3"
      },
      "source": [
        "nombre_de_bits(2**14)"
      ],
      "execution_count": null,
      "outputs": []
    },
    {
      "cell_type": "code",
      "metadata": {
        "id": "JTSyuBc7NI7Q"
      },
      "source": [
        "nombre_de_bits(2**14 - 1)"
      ],
      "execution_count": null,
      "outputs": []
    },
    {
      "cell_type": "markdown",
      "metadata": {
        "id": "xH5FrZr0NyKO"
      },
      "source": [
        "#### **Propriété 1**"
      ]
    },
    {
      "cell_type": "markdown",
      "metadata": {
        "id": "qU_ZZfxyNWea"
      },
      "source": [
        "Le plus grand entier naturel qui peut être stocké sur  bits vaut : $(11...1)_2 =  2 ^n –  1$\n"
      ]
    },
    {
      "cell_type": "markdown",
      "metadata": {
        "id": "ccF7123ANmTy"
      },
      "source": [
        "#### **Propriété 2**"
      ]
    },
    {
      "cell_type": "markdown",
      "metadata": {
        "id": "1uCpCu3CNk28"
      },
      "source": [
        "\n",
        "Un  entier naturel  $A$  peut être stocké sur $n$  bits à condition que :  $A < 2^ n$ "
      ]
    },
    {
      "cell_type": "markdown",
      "metadata": {
        "id": "P0aOOgdyOJUr"
      },
      "source": [
        "# Calculs avec un nombre de bits fixé"
      ]
    },
    {
      "cell_type": "markdown",
      "metadata": {
        "id": "e8tKEERzOTrJ"
      },
      "source": [
        "Python permet de travailler avec des entiers naturels arbitrairement grands, mais de nombreux langages imposent de travailler avec des entiers dont on a fixé la taille (maximale) dans la mémoire : par exemple C++, ou SQL !"
      ]
    },
    {
      "cell_type": "markdown",
      "metadata": {
        "id": "jjo-GRkzOsaG"
      },
      "source": [
        "## Observation n°1"
      ]
    },
    {
      "cell_type": "markdown",
      "metadata": {
        "id": "LVfIaFNhTE44"
      },
      "source": [
        "#### Voici un programme écrit en C++"
      ]
    },
    {
      "cell_type": "markdown",
      "metadata": {
        "id": "Fxoc1aOTOwS8"
      },
      "source": [
        "\n",
        "\n",
        "```\n",
        "#include <iostream>\n",
        "using namespace std;\n",
        "int main () // fonction principale\n",
        "{ \n",
        "short x = 1;\n",
        "short n, i;\n",
        "\n",
        "cout << \"Entrer n\" << endl;\n",
        "cin >> n;\n",
        "\n",
        "for (i=1 ; i<n+1 ; i++ )\n",
        "{x = x*2;\n",
        "cout <<i <<\" : \" << x << endl;\n",
        "}\n",
        "return 0;\n",
        "}\n",
        "```\n",
        "\n"
      ]
    },
    {
      "cell_type": "markdown",
      "metadata": {
        "id": "KNevaDrQTIjO"
      },
      "source": [
        "#### Voici un programme \"équivalent\" écrit en Python"
      ]
    },
    {
      "cell_type": "markdown",
      "metadata": {
        "id": "5hokfhWmO_Fs"
      },
      "source": [
        "\n",
        "\n",
        "    x = 1\n",
        "\n",
        "    print(\"Entrer n\")\n",
        "    n = int(input())\n",
        "\n",
        "    for i in range(1, n+1):\n",
        "        x = x*2\n",
        "        print(i, \":\", x)"
      ]
    },
    {
      "cell_type": "markdown",
      "metadata": {
        "id": "QhVAylEtTNHa"
      },
      "source": [
        "#### Ces deux programmes réalisent l'algorithme :"
      ]
    },
    {
      "cell_type": "markdown",
      "metadata": {
        "id": "6ESKYCbcPRne"
      },
      "source": [
        "\n",
        "    x <- 1\n",
        "    Afficher \"entrer n\"\n",
        "    Saisir n\n",
        "    Pour i allant de 1 à n : \n",
        "        x <- x*2\n",
        "        Afficher  i  \":\"  x\n",
        "\n",
        "Cet algorithme affiche les puissances de 2, depuis $2^ 1$ jusqu'à $2^ n$. "
      ]
    },
    {
      "cell_type": "markdown",
      "metadata": {
        "id": "0SfhlIJ-P7Pb"
      },
      "source": [
        "### 1) Exécuter le programme Python en donnant à n la valeur 16"
      ]
    },
    {
      "cell_type": "code",
      "metadata": {
        "id": "0zxJjwrtQCtE"
      },
      "source": [
        "x = 1\n",
        " \n",
        "print(\"Entrer n\")\n",
        "n = int(input())\n",
        " \n",
        "for i in range(1, n+1):\n",
        "    x = x*2\n",
        "    print(i, \":\", x)"
      ],
      "execution_count": null,
      "outputs": []
    },
    {
      "cell_type": "markdown",
      "metadata": {
        "id": "2HaA5zrWQFOQ"
      },
      "source": [
        "### 2) Comparer avec l'exécution du programme C++\n",
        "\n",
        "Pour exécuter le programme C++, [suivre ce lien](http://cpp.sh/5ujae)"
      ]
    },
    {
      "cell_type": "markdown",
      "metadata": {
        "id": "N80HOzSBQUzr"
      },
      "source": [
        "### Que peut-on en déduire?"
      ]
    },
    {
      "cell_type": "code",
      "metadata": {
        "id": "A0TDQcF4SV0w"
      },
      "source": [
        "bin(32768)"
      ],
      "execution_count": null,
      "outputs": []
    },
    {
      "cell_type": "code",
      "metadata": {
        "id": "bSwVWt9VQdHp"
      },
      "source": [
        "nombre_de_bits(32768)"
      ],
      "execution_count": null,
      "outputs": []
    },
    {
      "cell_type": "code",
      "metadata": {
        "id": "xxEgo9NnScvN"
      },
      "source": [
        "bin(65536)"
      ],
      "execution_count": null,
      "outputs": []
    },
    {
      "cell_type": "code",
      "metadata": {
        "id": "a0ikLSHFQf9b"
      },
      "source": [
        "nombre_de_bits(65536)"
      ],
      "execution_count": null,
      "outputs": []
    },
    {
      "cell_type": "markdown",
      "metadata": {
        "id": "6aRsfT36Slwv"
      },
      "source": [
        "#### conclusion"
      ]
    },
    {
      "cell_type": "markdown",
      "metadata": {
        "id": "aHPjwp1eQj1M"
      },
      "source": [
        "En C++, le type `short` permet de stocker les nombres entiers sur un nombre de bits fixé et limité à **16**\n",
        "\n",
        "On observe que le **mot binaire** \n",
        "`1000000000000000` est associé à l'entier négatif `-32768`"
      ]
    },
    {
      "cell_type": "markdown",
      "metadata": {
        "id": "jEj5fJfFTb5D"
      },
      "source": [
        "## Observation n°2"
      ]
    },
    {
      "cell_type": "markdown",
      "metadata": {
        "id": "oJhcxHIwTb5D"
      },
      "source": [
        "#### Voici un programme écrit en C++"
      ]
    },
    {
      "cell_type": "markdown",
      "metadata": {
        "id": "wrTb2QntTb5D"
      },
      "source": [
        "\n",
        "\n",
        "```\n",
        "#include <iostream>\n",
        "using namespace std;\n",
        "int main () \n",
        "{ \n",
        "short x = 32760;\n",
        "int n, i;\n",
        "\n",
        "cout << \"Entrer n\" << endl;\n",
        "cin >> n;\n",
        "for (i=0 ; i<n ; i++ )\n",
        "{x = x+1;\n",
        "cout << x << endl;\n",
        "}\n",
        "return 0;\n",
        "}\n",
        "```\n",
        "\n"
      ]
    },
    {
      "cell_type": "markdown",
      "metadata": {
        "id": "3qy3b2O9Tb5D"
      },
      "source": [
        "#### Voici un programme \"équivalent\" écrit en Python"
      ]
    },
    {
      "cell_type": "markdown",
      "metadata": {
        "id": "gAGvMvtmTb5D"
      },
      "source": [
        "    x = 32760\n",
        "\n",
        "    print(\"Entrer n\")\n",
        "    n = int(input())\n",
        "\n",
        "    for i in range(n):\n",
        "        x = x+1\n",
        "        print(x)"
      ]
    },
    {
      "cell_type": "markdown",
      "metadata": {
        "id": "qA32zyF4Tb5D"
      },
      "source": [
        "#### Ces deux programmes réalisent l'algorithme :"
      ]
    },
    {
      "cell_type": "markdown",
      "metadata": {
        "id": "rHKQevYlTb5D"
      },
      "source": [
        "\n",
        "    x <- 32760\n",
        "    Afficher \"entrer n\"\n",
        "    Saisir n\n",
        "    Pour i allant de 0 à n-1 : \n",
        "        x <- x+1\n",
        "        Afficher  x\n",
        "\n",
        "Cet algorithme affiche n valeurs successives de x, obtenues en additionnant 1 à chaque étape. "
      ]
    },
    {
      "cell_type": "markdown",
      "metadata": {
        "id": "uwXWnfzMTb5D"
      },
      "source": [
        "### 1) Exécuter le programme Python en donnant à n la valeur 10"
      ]
    },
    {
      "cell_type": "code",
      "metadata": {
        "id": "k_brRtRYTb5D"
      },
      "source": [
        "x = 32760\n",
        " \n",
        "print(\"Entrer n\")\n",
        "n = int(input())\n",
        " \n",
        "for i in range(n):\n",
        "    x = x+1\n",
        "    print(x)"
      ],
      "execution_count": null,
      "outputs": []
    },
    {
      "cell_type": "markdown",
      "metadata": {
        "id": "kWgpGXiyTb5E"
      },
      "source": [
        "### 2) Comparer avec l'exécution du programme C++\n",
        "\n",
        "Pour exécuter le programme C++, [suivre ce lien](http://cpp.sh/2374f)"
      ]
    },
    {
      "cell_type": "markdown",
      "metadata": {
        "id": "e5LNlbySTb5E"
      },
      "source": [
        "### Que peut-on en déduire?"
      ]
    },
    {
      "cell_type": "code",
      "metadata": {
        "colab": {
          "base_uri": "https://localhost:8080/",
          "height": 35
        },
        "id": "IswA-bMxUn1C",
        "outputId": "611831d9-f66a-498d-b84b-664ac02e710b"
      },
      "source": [
        "bin(32767)"
      ],
      "execution_count": 16,
      "outputs": [
        {
          "output_type": "execute_result",
          "data": {
            "application/vnd.google.colaboratory.intrinsic+json": {
              "type": "string"
            },
            "text/plain": [
              "'0b111111111111111'"
            ]
          },
          "metadata": {
            "tags": []
          },
          "execution_count": 16
        }
      ]
    },
    {
      "cell_type": "code",
      "metadata": {
        "colab": {
          "base_uri": "https://localhost:8080/",
          "height": 35
        },
        "id": "TnI36ythTb5E",
        "outputId": "062bab18-7d7b-447a-8fff-ab6bea3a9404"
      },
      "source": [
        "bin(32768)"
      ],
      "execution_count": 17,
      "outputs": [
        {
          "output_type": "execute_result",
          "data": {
            "application/vnd.google.colaboratory.intrinsic+json": {
              "type": "string"
            },
            "text/plain": [
              "'0b1000000000000000'"
            ]
          },
          "metadata": {
            "tags": []
          },
          "execution_count": 17
        }
      ]
    },
    {
      "cell_type": "code",
      "metadata": {
        "colab": {
          "base_uri": "https://localhost:8080/",
          "height": 35
        },
        "id": "ap6LMGi6Tb5E",
        "outputId": "f858393b-6cfb-4cb9-dc32-5961fd94e85d"
      },
      "source": [
        "bin(32769)"
      ],
      "execution_count": 18,
      "outputs": [
        {
          "output_type": "execute_result",
          "data": {
            "application/vnd.google.colaboratory.intrinsic+json": {
              "type": "string"
            },
            "text/plain": [
              "'0b1000000000000001'"
            ]
          },
          "metadata": {
            "tags": []
          },
          "execution_count": 18
        }
      ]
    },
    {
      "cell_type": "code",
      "metadata": {
        "colab": {
          "base_uri": "https://localhost:8080/",
          "height": 35
        },
        "id": "HxvF3mG-Tb5E",
        "outputId": "8f23b8a9-40e8-4bed-90da-b96c237cb9c9"
      },
      "source": [
        "bin(32770)"
      ],
      "execution_count": 19,
      "outputs": [
        {
          "output_type": "execute_result",
          "data": {
            "application/vnd.google.colaboratory.intrinsic+json": {
              "type": "string"
            },
            "text/plain": [
              "'0b1000000000000010'"
            ]
          },
          "metadata": {
            "tags": []
          },
          "execution_count": 19
        }
      ]
    },
    {
      "cell_type": "markdown",
      "metadata": {
        "id": "rrbQtNDgTb5E"
      },
      "source": [
        "#### conclusion"
      ]
    },
    {
      "cell_type": "markdown",
      "metadata": {
        "id": "N0xO0vZ2Tb5E"
      },
      "source": [
        "En C++, avec le type `short` le bit de rang **16** est associé à la valeur `-32768`\n",
        "\n",
        "Sur 16 bits, le type `short` de C++ permet de stocker les entiers compris entre `-32768` et `+32767`"
      ]
    },
    {
      "cell_type": "markdown",
      "metadata": {
        "id": "FvKAfa44VyE-"
      },
      "source": [
        "# Réprésentation des entiers relatifs : méthode du \"complément à deux\""
      ]
    },
    {
      "cell_type": "markdown",
      "metadata": {
        "id": "ahnkUUeEZJf2"
      },
      "source": [
        "## On présente d'abord le principe du \"complément à 2\" sur 8 bits"
      ]
    },
    {
      "cell_type": "markdown",
      "metadata": {
        "id": "PfjueceYZRF0"
      },
      "source": [
        "* Chaque bit représente une puissance de 2, \n",
        "* mais le \"bit de poids fort\" représente **l'opposé** d'une puissance de 2 : \n",
        "\n",
        "|poids|-128|64|32|16|8|4|2|1|\n",
        "|:--|:--:|:--:|:--:|:--:|:--:|:--:|:--:|:--:|\n",
        "|chiffres binaires|1|0|1|1|0|1|1|1|"
      ]
    },
    {
      "cell_type": "markdown",
      "metadata": {
        "id": "chCxuHXeZ9lF"
      },
      "source": [
        "Exemple : le mot binaire `10110111` :   \n",
        "* est l'écriture binaire du nombre positif 183, car\n",
        "   * $183 = 128+32+16+4+2+1$\n",
        "* en **complément à deux sur 8 bits**, ce même mot binaire **représente** l'entier relatif $-73$ car \n",
        "   * $-73 = -128+32+16+4+2+1$"
      ]
    },
    {
      "cell_type": "markdown",
      "metadata": {
        "id": "Hb-QIlU8bJdm"
      },
      "source": [
        "La fonction `int8` du module `numpy` permet de représenter les entiers au format \"complément à 2 sur 8 bits\" : "
      ]
    },
    {
      "cell_type": "code",
      "metadata": {
        "colab": {
          "base_uri": "https://localhost:8080/"
        },
        "id": "t8lZGnMsamxm",
        "outputId": "5417d220-32d8-4bba-c2c8-b2cb517038be"
      },
      "source": [
        "from numpy import int8\n",
        "int8(0b10110111)"
      ],
      "execution_count": 46,
      "outputs": [
        {
          "output_type": "execute_result",
          "data": {
            "text/plain": [
              "-73"
            ]
          },
          "metadata": {
            "tags": []
          },
          "execution_count": 46
        }
      ]
    },
    {
      "cell_type": "code",
      "metadata": {
        "id": "YlS3dxfAbyeN"
      },
      "source": [
        "int8(127)+int8(1)"
      ],
      "execution_count": null,
      "outputs": []
    },
    {
      "cell_type": "markdown",
      "metadata": {
        "id": "JJpme21KfT12"
      },
      "source": [
        "A RETENIR : en représentation \"complément à deux sur 8 bits\"\n",
        "* si le premier bit vaut 0, on peut représenter tous les entiers de 0 à 127\n",
        "* si le premier bit vaut 1, on peut représenter tous les entiers de -128 à -1\n",
        "* cette représentation permet de stocker les entiers relatifs de -128 à +127"
      ]
    },
    {
      "cell_type": "markdown",
      "metadata": {
        "id": "pEqXBTq-d_7j"
      },
      "source": [
        "#### Exercice \n",
        "Déterminer le nombre relatif représenté en complément à deux sur 8 bits par `10101010`"
      ]
    },
    {
      "cell_type": "markdown",
      "metadata": {
        "id": "fJHdOd4reVcG"
      },
      "source": [
        "## Compétences à travailler\n",
        "1. **Calculer** un nombre relatif à partir de son écriture binaire en complément à deux sur 8 bits. \n",
        "2. **Écrire en complément à deux sur 8 bits** un nombre relatif donné en écriture décimale\n",
        "3. **Écrire en complément à deux sur 8 bits** l'opposé d'un nombre naturel donné  en écriture binaire"
      ]
    },
    {
      "cell_type": "markdown",
      "metadata": {
        "id": "I2vri8nog2g9"
      },
      "source": [
        "### Méthode 1"
      ]
    },
    {
      "cell_type": "markdown",
      "metadata": {
        "id": "gQR5ceCqgjrQ"
      },
      "source": [
        "\n",
        "Pour **calculer** un nombre relatif à partir de son écriture binaire en complément à deux sur 8 bits.\n",
        "\n",
        "Il suffit d'associer à chaque bit la puissance de 2 qui lui correspond, en tenant compte du signe pour le bit de poids fort: -128 et non +128.\n"
      ]
    },
    {
      "cell_type": "markdown",
      "metadata": {
        "id": "OCdKX0-MheOJ"
      },
      "source": [
        "### Méthode 2\n"
      ]
    },
    {
      "cell_type": "markdown",
      "metadata": {
        "id": "WxxbNnlHhit4"
      },
      "source": [
        "Pour écrire en complément à deux sur 8 bits un nombre relatif **N** donné en écriture **décimale** : \n",
        "* si le nombre est positif... le bit de poids fort est 0 et il suffit d'ajouter l'écriture binaire du nombre N sur 7 bits.\n",
        "* si le nombre est négatif, le bit de poids fort est 1 (et représente -128)\n",
        "   * on calcule **N+128**\n",
        "   * on cherche l'écriture binaire de N+128 sur 7 bits."
      ]
    },
    {
      "cell_type": "markdown",
      "metadata": {
        "id": "2o8yfRj_iiWo"
      },
      "source": [
        "**Exemple** : représenter en complément à deux sur 8 bits l'entier relatif $N = -70$\n",
        "\n",
        "* N est négatif => représenté avec un bit de poids fort **1**\n",
        "* $N+128 = -70 + 128 = +58$ \n",
        "   * on va donc écrire $N= -70  = -128 + 58$\n",
        "   * on décompose 58 en somme de puissances de 2\n",
        "   * $58 = 32 + 16+8+2 = (111010)_2$\n",
        "\n",
        "\n",
        "On en déduit l'écriture sur 8 bits : **`10111010`**\n",
        "\n",
        "|poids|-128|64|32|16|8|4|2|1|\n",
        "|:--|:--:|:--:|:--:|:--:|:--:|:--:|:--:|:--:|\n",
        "|chiffres binaires|1|0|1|1|1|0|1|0|"
      ]
    },
    {
      "cell_type": "markdown",
      "metadata": {
        "id": "95tADBNCke6k"
      },
      "source": [
        "### Méthode 3\n"
      ]
    },
    {
      "cell_type": "markdown",
      "metadata": {
        "id": "ah1sqrHwke6k"
      },
      "source": [
        "Pour écrire en complément à deux sur 8 bits **l'opposé** un nombre relatif **N** donné en écriture **binaire**, on utilise le \"complément à 1\" plus 1!\n",
        "* on écrit N sur 8 bits\n",
        "* on  **inverse chaque bit** du nombre N => \"complément à 1\".\n",
        "* puis on **ajoute 1** au résultat. "
      ]
    },
    {
      "cell_type": "markdown",
      "metadata": {
        "id": "vWwzn5oike6k"
      },
      "source": [
        "**Exemple** : représenter en complément à deux sur 8 bits l'opposé de $N = (1010100)_2$\n",
        "\n",
        "* sur 8 bits N s'écrit `01010100`\n",
        "* le \"complément à un de N\" est `10101011`\n",
        "* l'opposé de N est représenté par la somme `10101011`+`1` = `10101100`\n",
        "\n",
        "On en déduit l'écriture sur 8 bits : **`10101100`**"
      ]
    },
    {
      "cell_type": "code",
      "metadata": {
        "colab": {
          "base_uri": "https://localhost:8080/"
        },
        "id": "PF0OJVcPk5tS",
        "outputId": "0f4c199e-b73b-4cae-bf34-e46dec6629ac"
      },
      "source": [
        "from numpy import int8 \n",
        "int8(0b01010100)"
      ],
      "execution_count": 62,
      "outputs": [
        {
          "output_type": "execute_result",
          "data": {
            "text/plain": [
              "84"
            ]
          },
          "metadata": {
            "tags": []
          },
          "execution_count": 62
        }
      ]
    },
    {
      "cell_type": "code",
      "metadata": {
        "colab": {
          "base_uri": "https://localhost:8080/"
        },
        "id": "4ur_7ZvGrcxv",
        "outputId": "3e7ade30-dc9c-41c6-f455-b689292c693c"
      },
      "source": [
        "int8(0b10101100)"
      ],
      "execution_count": 63,
      "outputs": [
        {
          "output_type": "execute_result",
          "data": {
            "text/plain": [
              "-84"
            ]
          },
          "metadata": {
            "tags": []
          },
          "execution_count": 63
        }
      ]
    }
  ]
}