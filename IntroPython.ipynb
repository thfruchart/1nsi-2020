{
  "nbformat": 4,
  "nbformat_minor": 0,
  "metadata": {
    "colab": {
      "name": "IntroPython.ipynb",
      "provenance": [],
      "collapsed_sections": [],
      "authorship_tag": "ABX9TyNJQQ0dxJ2QAbEnWUS7INkV",
      "include_colab_link": true
    },
    "kernelspec": {
      "name": "python3",
      "display_name": "Python 3"
    }
  },
  "cells": [
    {
      "cell_type": "markdown",
      "metadata": {
        "id": "view-in-github",
        "colab_type": "text"
      },
      "source": [
        "<a href=\"https://colab.research.google.com/github/thfruchart/1nsi-2020/blob/master/IntroPython.ipynb\" target=\"_parent\"><img src=\"https://colab.research.google.com/assets/colab-badge.svg\" alt=\"Open In Colab\"/></a>"
      ]
    },
    {
      "cell_type": "markdown",
      "metadata": {
        "id": "wDMm6nZM9mWQ",
        "colab_type": "text"
      },
      "source": [
        "# I.  Python en mode interactif"
      ]
    },
    {
      "cell_type": "markdown",
      "metadata": {
        "id": "2fqnc8_r-CFe",
        "colab_type": "text"
      },
      "source": [
        "Il existe plusieur manières d'exécuter python : la plus élémentaire est le mode interactif.\n",
        "\n",
        "Ce mode est caractérisé par l'invite de commande  `>>>`\n",
        "\n",
        "L'utilisateur doit saisir une commande, et cette commande est immédiatement exécutée."
      ]
    },
    {
      "cell_type": "markdown",
      "metadata": {
        "id": "iBGq1WIo-WhD",
        "colab_type": "text"
      },
      "source": [
        "## 1. Expressions\n",
        "\n",
        "Une expression est un texte auquel python peut attibuer une valeur. \n",
        "\n",
        "En mode interactif, python affiche comme résultat la valeur calculée pour l'expression.\n",
        "\n",
        "Dans ce notebook, on peut travailler \"en mode interactif\" en n'écrivant qu'une seule commande dans une cellule de code. \n",
        "\n",
        "Voir les exemples suivants :"
      ]
    },
    {
      "cell_type": "code",
      "metadata": {
        "id": "PY-MkPRo-4y7",
        "colab_type": "code",
        "colab": {}
      },
      "source": [
        "1+1"
      ],
      "execution_count": null,
      "outputs": []
    },
    {
      "cell_type": "code",
      "metadata": {
        "id": "YeDCur8U-7Ct",
        "colab_type": "code",
        "colab": {}
      },
      "source": [
        "7*8"
      ],
      "execution_count": null,
      "outputs": []
    },
    {
      "cell_type": "code",
      "metadata": {
        "id": "zMcIsIvH-_B5",
        "colab_type": "code",
        "colab": {}
      },
      "source": [
        "10-(2-3)"
      ],
      "execution_count": null,
      "outputs": []
    },
    {
      "cell_type": "code",
      "metadata": {
        "id": "8gBfpFIZ_A9R",
        "colab_type": "code",
        "colab": {}
      },
      "source": [
        "1 +* 2"
      ],
      "execution_count": null,
      "outputs": []
    },
    {
      "cell_type": "code",
      "metadata": {
        "id": "VKH_ZdIg_FvL",
        "colab_type": "code",
        "colab": {}
      },
      "source": [
        "10-10/2"
      ],
      "execution_count": null,
      "outputs": []
    },
    {
      "cell_type": "markdown",
      "metadata": {
        "id": "8VMntWxe_L4z",
        "colab_type": "text"
      },
      "source": [
        "## 2. Instructions\n",
        "\n",
        "Certaines commandes ne sont pas associées à une valeur. Elles effectuent quelque chose, mais ne sont pas des expressions.\n",
        "\n",
        "Voir les exemples suivants :"
      ]
    },
    {
      "cell_type": "code",
      "metadata": {
        "id": "8aAimFek_oe7",
        "colab_type": "code",
        "colab": {}
      },
      "source": [
        "a = 3"
      ],
      "execution_count": null,
      "outputs": []
    },
    {
      "cell_type": "code",
      "metadata": {
        "id": "EUks83Pj_qEC",
        "colab_type": "code",
        "colab": {}
      },
      "source": [
        "s = input()"
      ],
      "execution_count": null,
      "outputs": []
    },
    {
      "cell_type": "code",
      "metadata": {
        "id": "mFzjHZbr_vra",
        "colab_type": "code",
        "colab": {}
      },
      "source": [
        "print('Hello')"
      ],
      "execution_count": null,
      "outputs": []
    },
    {
      "cell_type": "markdown",
      "metadata": {
        "id": "KmL7bMFE_ylD",
        "colab_type": "text"
      },
      "source": [
        "L'instruction la plus élémentaire est l'**affectation** : une variable reçoit une valeur. \n",
        "\n",
        "* si cette variable n'existait pas, elle est créée par l'instruction d'affectation\n",
        "* si cette variable existait, sa valeur est modifiée par l'affectation"
      ]
    },
    {
      "cell_type": "markdown",
      "metadata": {
        "id": "OrwOEOJKALWq",
        "colab_type": "text"
      },
      "source": [
        "ATTENTION : en mode interactif, il ne faut pas confondre une **instruction** d'affichage `print` avec le résultat de l'évaluation d'une **expression**"
      ]
    },
    {
      "cell_type": "code",
      "metadata": {
        "id": "Tyfi0bN5EnQ9",
        "colab_type": "code",
        "colab": {}
      },
      "source": [
        "annee = 2020 #instruction"
      ],
      "execution_count": null,
      "outputs": []
    },
    {
      "cell_type": "code",
      "metadata": {
        "id": "hv769H6yExmc",
        "colab_type": "code",
        "colab": {}
      },
      "source": [
        "annee+1 #expression"
      ],
      "execution_count": null,
      "outputs": []
    },
    {
      "cell_type": "code",
      "metadata": {
        "id": "csquOeVrEuoo",
        "colab_type": "code",
        "colab": {}
      },
      "source": [
        "print(annee+1) #instruction"
      ],
      "execution_count": null,
      "outputs": []
    },
    {
      "cell_type": "markdown",
      "metadata": {
        "id": "c1B6dXQ-E3_6",
        "colab_type": "text"
      },
      "source": [
        "Les **noms de variables** doivent  comporter uniquement \n",
        "* des lettres majuscules ou minuscules (sans accent)\n",
        "*  des chiffres \n",
        "*  le caractère `_` (tiret du 8)"
      ]
    },
    {
      "cell_type": "markdown",
      "metadata": {
        "id": "6_bQbsWAobVF",
        "colab_type": "text"
      },
      "source": [
        "Voici quelques exemples de noms de variables correct : \n",
        "* `a`\n",
        "* `x1`\n",
        "* `taux_de_croissance`"
      ]
    },
    {
      "cell_type": "markdown",
      "metadata": {
        "id": "OgnXoaHIodUf",
        "colab_type": "text"
      },
      "source": [
        "## 3. Types"
      ]
    },
    {
      "cell_type": "markdown",
      "metadata": {
        "id": "ZfsA-b1R90U0",
        "colab_type": "text"
      },
      "source": [
        "Le **type** d'une expression est calculé par python, en fonction du contenu de cette expression\n",
        "\n",
        "Le **type** d'une variable est déterminé (dynamiquement) par python au moment où cette variable est créée.\n",
        "\n"
      ]
    },
    {
      "cell_type": "code",
      "metadata": {
        "id": "gBITENHDEDzS",
        "colab_type": "code",
        "colab": {}
      },
      "source": [
        ""
      ],
      "execution_count": null,
      "outputs": []
    },
    {
      "cell_type": "markdown",
      "metadata": {
        "id": "988egZ9g93El",
        "colab_type": "text"
      },
      "source": [
        "# II. Python en mode programme"
      ]
    },
    {
      "cell_type": "markdown",
      "metadata": {
        "id": "mCJez5ukAfia",
        "colab_type": "text"
      },
      "source": [
        "La seconde utilisation de python est le mode programme : un **ensemble d'instructions** est écrit dans un **fichier** dont l'extension est `.py`\n",
        "\n",
        "Ce fichier contient normalement une instruction par ligne.\n",
        "\n",
        "L'exécution de ce fichier consiste à exécuter **chaque ligne** du fichier, à la suite : \"séquentiellement\".\n",
        "\n",
        "Dans un notebook, on peut travailler \"en mode programme\" en saisissant toutes les instructions du programme dans la même cellule de code. \n",
        "\n",
        "Par commodité, on peut aussi \"découper\" le programme en plusieurs cellules, pour pouvoir le tester plus facilement : il faut alors exécuter séquentiellement l'ensemble des cellules dans lequel le programme est réparti. \n"
      ]
    },
    {
      "cell_type": "markdown",
      "metadata": {
        "id": "e7HRCXx64whF",
        "colab_type": "text"
      },
      "source": [
        "## Etat de la mémoire\n",
        "\n",
        "Chaque variable occupe un espace réservé à cet effet dans la mémoire. \n",
        "\n",
        "Un même variable peut contenir différentes valeurs au cours de l'exécution d'un programme. \n",
        "\n",
        "On peut visualiser l'état de la mémoire en cours d'exécution à l'aide de l'outil [PythonTutor](http://www.pythontutor.com/visualize.html#code=a%20%3D%2010%0Acopie_de_a%20%3D%20a%0Ab%20%3D%20a%20*%20a%0Aa%20%3D%20b%20%2B%20b%0Ab%20%3D%20b%20%2B%20a%0Aa%20%3D%20a%20/%2010&cumulative=false&curInstr=6&heapPrimitives=nevernest&mode=display&origin=opt-frontend.js&py=3&rawInputLstJSON=%5B%5D&textReferences=false)"
      ]
    },
    {
      "cell_type": "markdown",
      "metadata": {
        "id": "eDRENxrR4vQe",
        "colab_type": "text"
      },
      "source": [
        "L'exécution d'un programme consiste à **faire évoluer l'état** de la mémoire dédiée aux variables de ce programme. \n",
        "C'est l'aspect *dynamique* du processus : \n",
        "- le proramme lui-même reste inchangé, du début à la fin\n",
        "- c'est l'état de la mémoire qui évolue en cours d'exécution"
      ]
    },
    {
      "cell_type": "markdown",
      "metadata": {
        "id": "0DktGaL2BnHL",
        "colab_type": "text"
      },
      "source": [
        "## Interruptions de programme\n",
        "\n",
        "Plusieurs choses peuvent interrompre l'exécution d'un programmen, soit temporairement, soit définitivement.\n",
        "\n"
      ]
    },
    {
      "cell_type": "markdown",
      "metadata": {
        "id": "Y6qEn7QACjDz",
        "colab_type": "text"
      },
      "source": [
        "- interruption temporaire : saisir une valeur"
      ]
    },
    {
      "cell_type": "code",
      "metadata": {
        "id": "e5oF93BLCnWE",
        "colab_type": "code",
        "colab": {}
      },
      "source": [
        "variable = input()"
      ],
      "execution_count": null,
      "outputs": []
    },
    {
      "cell_type": "markdown",
      "metadata": {
        "id": "WWVHlcpNCp2T",
        "colab_type": "text"
      },
      "source": [
        "Dans cette instruction d'affectation, l'appel à `input()` interrompt temporairement le programme, afin que l'utilisateur puisse saisir la **valeur** qui sera affectée à la `variable` "
      ]
    },
    {
      "cell_type": "markdown",
      "metadata": {
        "id": "PN7QYzlFC-QQ",
        "colab_type": "text"
      },
      "source": [
        "- interruption définitive : message d'erreur\n",
        "\n",
        "Lorsqu'une erreur est rencontrée, l'exécution du programme s'arrête, et un affichage permet de décrire le type d'erreur qui s'est produite, afin de corriger le programme.\n",
        "\n",
        "Comprendre les messages d'erreur est fondamental pour l'apprentissage de la programmation\n",
        "\n",
        "Expliquer les messages d'erreurs suivants :"
      ]
    },
    {
      "cell_type": "code",
      "metadata": {
        "id": "0rRiNyIREAQR",
        "colab_type": "code",
        "colab": {}
      },
      "source": [
        "a = 1\n",
        "x = a\n",
        "2 = b"
      ],
      "execution_count": null,
      "outputs": []
    },
    {
      "cell_type": "code",
      "metadata": {
        "id": "RZXctugXEPdB",
        "colab_type": "code",
        "colab": {}
      },
      "source": [
        "b = 3\n",
        "a = b + c"
      ],
      "execution_count": null,
      "outputs": []
    },
    {
      "cell_type": "code",
      "metadata": {
        "id": "RtRc9IF2EU1w",
        "colab_type": "code",
        "colab": {}
      },
      "source": [
        "1+1 = 2"
      ],
      "execution_count": null,
      "outputs": []
    },
    {
      "cell_type": "code",
      "metadata": {
        "id": "MESKDqbVEZMi",
        "colab_type": "code",
        "colab": {}
      },
      "source": [
        "n = input(\"Entrer un nombre : \")\n",
        "m = n+1\n",
        "print('le successeur de', n, 'est' , m)"
      ],
      "execution_count": null,
      "outputs": []
    },
    {
      "cell_type": "markdown",
      "metadata": {
        "id": "oByOy4kxE0K_",
        "colab_type": "text"
      },
      "source": [
        "## Attention au type des variables et expressions\n",
        "\n",
        "* un appel à `input()` retourne un résultat de type `str`.\n",
        "\n",
        "* python peut convertir un texte en nombre avec des fonctions appropriées\n",
        "  * `int()` pour convertir au format entier\n",
        "  * `float()` pour convertir au format flottant"
      ]
    },
    {
      "cell_type": "code",
      "metadata": {
        "id": "4bEv-FyUFis1",
        "colab_type": "code",
        "colab": {}
      },
      "source": [
        "int(\"3\")"
      ],
      "execution_count": null,
      "outputs": []
    },
    {
      "cell_type": "code",
      "metadata": {
        "id": "BkBGEGTNFoHL",
        "colab_type": "code",
        "colab": {}
      },
      "source": [
        "int(\"3e5\")"
      ],
      "execution_count": null,
      "outputs": []
    },
    {
      "cell_type": "code",
      "metadata": {
        "id": "TnDnnGYXFcWB",
        "colab_type": "code",
        "colab": {}
      },
      "source": [
        "int(\"3+2\")"
      ],
      "execution_count": null,
      "outputs": []
    },
    {
      "cell_type": "code",
      "metadata": {
        "id": "Erx7LLD5Fu6z",
        "colab_type": "code",
        "colab": {}
      },
      "source": [
        "float(\"3.5\")"
      ],
      "execution_count": null,
      "outputs": []
    },
    {
      "cell_type": "code",
      "metadata": {
        "id": "DZu8Mg5qF0WL",
        "colab_type": "code",
        "colab": {}
      },
      "source": [
        "float(\"3e5\")"
      ],
      "execution_count": null,
      "outputs": []
    },
    {
      "cell_type": "markdown",
      "metadata": {
        "id": "29_vhGuiF7DA",
        "colab_type": "text"
      },
      "source": [
        "https://docs.python.org/fr/3.6/library/functions.html#int\n",
        "\n",
        "\n",
        "https://docs.python.org/fr/3.8/library/functions.html#float\n"
      ]
    },
    {
      "cell_type": "code",
      "metadata": {
        "id": "jSW15yttVw5J",
        "colab_type": "code",
        "colab": {}
      },
      "source": [
        "# la fonction int() peut convertir le texte d'un nombre en binaire (ou en un autre base comprise entre 2 et 36)\n",
        "int(\"1001\", 2)"
      ],
      "execution_count": null,
      "outputs": []
    },
    {
      "cell_type": "markdown",
      "metadata": {
        "id": "VI5HiuiSH2gn",
        "colab_type": "text"
      },
      "source": [
        "## Syntaxe pour la saisie de variable par l'utilisateur"
      ]
    },
    {
      "cell_type": "markdown",
      "metadata": {
        "id": "sNAHc58PH9DE",
        "colab_type": "text"
      },
      "source": [
        "* Pour saisir une variable de type texte (str) : `txt = input()`\n",
        "* Pour saisir une variable de type entier (int) : `n  = int(input())`\n",
        "* Pour saisir une variable de type décimal (float) : `x = float(input())`\n"
      ]
    },
    {
      "cell_type": "markdown",
      "metadata": {
        "id": "5BgPkS2pIYFM",
        "colab_type": "text"
      },
      "source": [
        "Remarque : la commande input() accepte un **paramètre** de type texte, qui est affiché lorsque l'utilisateur doit effectuer la saisie.\n",
        "\n",
        "Voir l'exemple ci-dessous"
      ]
    },
    {
      "cell_type": "code",
      "metadata": {
        "id": "esuwaOnBIj6B",
        "colab_type": "code",
        "colab": {}
      },
      "source": [
        "nom = input(\"Entrer votre nom\")\n",
        "annee = int input('Entrer votre année de naissance')\n",
        "\n",
        "print('En 2030, vous aurez', 2030-annee, 'ans')"
      ],
      "execution_count": null,
      "outputs": []
    },
    {
      "cell_type": "markdown",
      "metadata": {
        "id": "0YwQFyATJHDN",
        "colab_type": "text"
      },
      "source": [
        "La commande print, possède des **arguments nommés par défaut**.\n",
        "\n",
        "https://docs.python.org/fr/3.6/library/functions.html#print\n",
        "\n",
        "On se limite ici aux deux arguments : `sep=' ', end='\\n'`\n",
        "\n",
        "Observer l'exécution des cellules suivantes :\n",
        "\n"
      ]
    },
    {
      "cell_type": "code",
      "metadata": {
        "id": "H1t-Ci6LJp45",
        "colab_type": "code",
        "colab": {}
      },
      "source": [
        "print('Bonjour','Bob', 'ça va ?', sep='***')"
      ],
      "execution_count": null,
      "outputs": []
    },
    {
      "cell_type": "code",
      "metadata": {
        "id": "eLrmXpQeJ5xs",
        "colab_type": "code",
        "colab": {}
      },
      "source": [
        "print('Merci', end='*')\n",
        "print('Et toi', end='*')\n",
        "print('?')\n",
        "print('---'')"
      ],
      "execution_count": null,
      "outputs": []
    },
    {
      "cell_type": "code",
      "metadata": {
        "id": "SOwEcz3fKKR7",
        "colab_type": "code",
        "colab": {}
      },
      "source": [
        "print('Pas mal', 'merci', sep='\\n', end='! ! !')"
      ],
      "execution_count": null,
      "outputs": []
    },
    {
      "cell_type": "markdown",
      "metadata": {
        "id": "Tivpku_PKeer",
        "colab_type": "text"
      },
      "source": [
        "Quel est le rôle de l'argument nommé `sep` ?\n",
        "\n",
        "... \n",
        "\n",
        "Quel est le rôle de  l'argument nommé `end` ?\n",
        "\n",
        "...\n",
        "\n",
        "A quel caractère correspond `'\\n'` ?\n",
        "\n",
        "... \n"
      ]
    },
    {
      "cell_type": "markdown",
      "metadata": {
        "id": "Nw-6JzHJ98WN",
        "colab_type": "text"
      },
      "source": [
        "# III.  Utilisation d'une bibliotheque"
      ]
    },
    {
      "cell_type": "markdown",
      "metadata": {
        "id": "S4XbscVaSGwo",
        "colab_type": "text"
      },
      "source": [
        "Python possède de nombreuses bibliothèques (ou **modules**) qui donnent accès à des fonctionnalités qui ne sont pas présente de le module standard. \n",
        "\n",
        "Un exemple de module très connu est `random`. Dans ce module, on trouve notamment une fonction randint et une fonction random :\n",
        "* randint(a,b) retourne un nombre entier aléatoire entre les entiers a et b (inclus)\n",
        "* random() retourne un nombre flottant aléatoire entre 0 inclus et 1 exclu.\n",
        "\n"
      ]
    },
    {
      "cell_type": "markdown",
      "metadata": {
        "id": "GPvOX3mlSyvP",
        "colab_type": "text"
      },
      "source": [
        "## Chargement d'un module\n",
        "\n",
        "Avant d'utiliser certaines commandes d'un module, il faut d'abord **charger** ce module avec la commande `import`, souvent au début du programme. Cette commande peut s'utiliser de trois manières, détaillées ici avec l'exemple du module random. \n",
        "\n",
        "- `import random` charge le module random. Pour accéder à une fonction du module, comme **randint**, on doit \"préfixer\" cette fonction avec le nom du module chargé, ce qui donne par exemple : `random.randint(a,b)`\n",
        "- `from random import randint` charge le module random, et le nom de la fonction randint : dans ce cas, on peut utiliser directement la commande `randint(a,b)`\n",
        "- `from random import *` charge le module random, et tous les noms définis dans ce module. Cette solution est très simple, **à condition de ne charger qu'un seul module**. En effet, il est possible que deux modules différents possèdent de noms communs... ce serait alors source de confusion."
      ]
    },
    {
      "cell_type": "markdown",
      "metadata": {
        "id": "JLR6bO1PcK3z",
        "colab_type": "text"
      },
      "source": [
        "Parmi les cellules suivantes, quelles sont celles où l'importation et l'usage des fonction est cohérent ?\n",
        "\n",
        "Expliquer les erreurs éventuelles. "
      ]
    },
    {
      "cell_type": "code",
      "metadata": {
        "id": "w62YoqLnU-pl",
        "colab_type": "code",
        "colab": {}
      },
      "source": [
        "import random\n",
        "\n",
        "a = randint(1,6)"
      ],
      "execution_count": null,
      "outputs": []
    },
    {
      "cell_type": "code",
      "metadata": {
        "id": "Cr5jCKKOUVAA",
        "colab_type": "code",
        "colab": {}
      },
      "source": [
        "import random\n",
        "\n",
        "a = random.randint(1,6)\n",
        "\n",
        "print(a)"
      ],
      "execution_count": null,
      "outputs": []
    },
    {
      "cell_type": "code",
      "metadata": {
        "id": "_YVcGUFSUgTZ",
        "colab_type": "code",
        "colab": {}
      },
      "source": [
        "from random import randint\n",
        "\n",
        "print(randint(1,6))\n",
        "\n",
        "print(random())"
      ],
      "execution_count": null,
      "outputs": []
    },
    {
      "cell_type": "code",
      "metadata": {
        "id": "9pqmtznrUnz6",
        "colab_type": "code",
        "colab": {}
      },
      "source": [
        "from random import *\n",
        "\n",
        "b = random()\n",
        "c = randint(10,20)\n",
        "\n",
        "print(b,c)"
      ],
      "execution_count": null,
      "outputs": []
    }
  ]
}