{
  "nbformat": 4,
  "nbformat_minor": 0,
  "metadata": {
    "colab": {
      "name": "03-TRAVAIL_PERSO_if_elif_else.ipynb",
      "provenance": [],
      "collapsed_sections": [],
      "authorship_tag": "ABX9TyOwGXqPBVf2rR9mjLJNAXnk",
      "include_colab_link": true
    },
    "kernelspec": {
      "name": "python3",
      "display_name": "Python 3"
    }
  },
  "cells": [
    {
      "cell_type": "markdown",
      "metadata": {
        "id": "view-in-github",
        "colab_type": "text"
      },
      "source": [
        "<a href=\"https://colab.research.google.com/github/thfruchart/1nsi-2020/blob/master/Chap03/TRAVAIL_PERSO_if_elif_else.ipynb\" target=\"_parent\"><img src=\"https://colab.research.google.com/assets/colab-badge.svg\" alt=\"Open In Colab\"/></a>"
      ]
    },
    {
      "cell_type": "markdown",
      "metadata": {
        "id": "-Yzhwnd7dfJ4",
        "colab_type": "text"
      },
      "source": [
        "# Travail personnel\n",
        "\n",
        "* avant d'excuter chaque cellule, essayer d'évaluer la réponse (au brouillon, ou mentalement).\n",
        "* préparer des questions à poser en cours si l'exécution d'une cellule ne produit pas la réponse attendue !"
      ]
    },
    {
      "cell_type": "code",
      "metadata": {
        "id": "840UzmJUery7",
        "colab_type": "code",
        "colab": {}
      },
      "source": [
        "n = 12\n",
        "if n > 0 :\n",
        "    print(\"positif\")\n",
        "if n > 10 :\n",
        "    print(\"moyen\")\n",
        "if n > 20 : \n",
        "    print(\"grand\")\n",
        "print('terminé !')"
      ],
      "execution_count": null,
      "outputs": []
    },
    {
      "cell_type": "markdown",
      "metadata": {
        "id": "c261SEdIfgzk",
        "colab_type": "text"
      },
      "source": [
        "## Tester le code ci-dessous avec différentes valeurs de `n`\n",
        "* 30\n",
        "* 20\n",
        "* 10\n",
        "* 5 \n",
        "* -2"
      ]
    },
    {
      "cell_type": "code",
      "metadata": {
        "id": "ZypVkS-QfQ9s",
        "colab_type": "code",
        "colab": {}
      },
      "source": [
        "n = int(input(\"Entrer n : \"))\n",
        "if n > 20 : \n",
        "    print(\"grand\")\n",
        "elif n >= 10 :\n",
        "    print(\"moyen\")\n",
        "elif n > 0 :\n",
        "    print(\"positif\")\n",
        "else : \n",
        "    print('terminé !')"
      ],
      "execution_count": null,
      "outputs": []
    },
    {
      "cell_type": "markdown",
      "metadata": {
        "id": "15A4jfxlf2Wf",
        "colab_type": "text"
      },
      "source": [
        "## conditions imbriquées\n",
        "\n",
        "Attention à l'indentation"
      ]
    },
    {
      "cell_type": "code",
      "metadata": {
        "id": "BE73kVQfdXIZ",
        "colab_type": "code",
        "colab": {}
      },
      "source": [
        "a = 5\n",
        "b = 7\n",
        "\n",
        "if a > 10 :\n",
        "    print('Un')\n",
        "    if b < 10 :\n",
        "        print('Deux')\n",
        "else : \n",
        "    print('Trois')\n",
        "    if b < 8:\n",
        "        print('Quatre')\n"
      ],
      "execution_count": null,
      "outputs": []
    },
    {
      "cell_type": "markdown",
      "metadata": {
        "id": "t-H8kFi4ekkh",
        "colab_type": "text"
      },
      "source": [
        "[visualiser l'exécution ci-dessus sur python tutor](http://www.pythontutor.com/visualize.html#code=a%20%3D%205%0Ab%20%3D%207%0A%0Aif%20a%3E10%20%3A%0A%20%20%20%20print%28'Un'%29%0A%20%20%20%20if%20b%20%3C10%20%3A%0A%20%20%20%20%20%20%20%20print%28'Deux'%29%0Aelse%20%3A%20%0A%20%20%20%20print%28'Trois'%29%0A%20%20%20%20if%20b%20%3C%208%3A%0A%20%20%20%20%20%20%20%20print%28'Quatre'%29&cumulative=false&curInstr=0&heapPrimitives=nevernest&mode=display&origin=opt-frontend.js&py=3&rawInputLstJSON=%5B%5D&textReferences=false)"
      ]
    },
    {
      "cell_type": "markdown",
      "metadata": {
        "id": "fpCwG1aif_dO",
        "colab_type": "text"
      },
      "source": [
        "## modification de la variable"
      ]
    },
    {
      "cell_type": "code",
      "metadata": {
        "id": "F-Gpo_RFgG8L",
        "colab_type": "code",
        "colab": {}
      },
      "source": [
        "a = 50\n",
        "\n",
        "if a < 20 : \n",
        "    a = 200\n",
        "elif a < 40:\n",
        "    a = 400\n",
        "elif a < 60:\n",
        "    a = 600\n",
        "else : \n",
        "    a = 1000\n",
        "\n",
        "print(a)"
      ],
      "execution_count": null,
      "outputs": []
    },
    {
      "cell_type": "code",
      "metadata": {
        "id": "Y0PvyqnAgkEo",
        "colab_type": "code",
        "colab": {}
      },
      "source": [
        "a = 1\n",
        "\n",
        "if a <= 2 : \n",
        "    a = 3\n",
        "elif a <=4:\n",
        "    a = 5\n",
        "elif a <= 6:\n",
        "    a = 7\n",
        "else : \n",
        "    a = 0\n",
        "\n",
        "print(a)"
      ],
      "execution_count": null,
      "outputs": []
    }
  ]
}