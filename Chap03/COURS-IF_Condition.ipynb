{
  "nbformat": 4,
  "nbformat_minor": 0,
  "metadata": {
    "colab": {
      "name": "03-IF-Condition.ipynb",
      "provenance": [],
      "collapsed_sections": [
        "XuhsCo3e3n1W",
        "WpoeotbX8HlV"
      ],
      "authorship_tag": "ABX9TyPU5V4UdMPj0Uo0+HJnX9vz",
      "include_colab_link": true
    },
    "kernelspec": {
      "name": "python3",
      "display_name": "Python 3"
    }
  },
  "cells": [
    {
      "cell_type": "markdown",
      "metadata": {
        "id": "view-in-github",
        "colab_type": "text"
      },
      "source": [
        "<a href=\"https://colab.research.google.com/github/thfruchart/1nsi-2020/blob/master/Chap03/COURS-IF_Condition.ipynb\" target=\"_parent\"><img src=\"https://colab.research.google.com/assets/colab-badge.svg\" alt=\"Open In Colab\"/></a>"
      ]
    },
    {
      "cell_type": "markdown",
      "metadata": {
        "id": "eIqsGx4Xw1je",
        "colab_type": "text"
      },
      "source": [
        "# Instruction conditionnelle, ou \"branchement\""
      ]
    },
    {
      "cell_type": "markdown",
      "metadata": {
        "id": "zirOrHz7w-r_",
        "colab_type": "text"
      },
      "source": [
        "Dans un programme contenant une suite d'instructions, l'exécution s'effectue séquentiellement : chaque instruction à la suite de la précédente.\n",
        "\n",
        "Une structure conditionnelle permet de n'exécuter certaines instruction que dans un cas précis. \n",
        "\n",
        "Observer les exemples suivants"
      ]
    },
    {
      "cell_type": "code",
      "metadata": {
        "id": "FE7utV2YwKwa",
        "colab_type": "code",
        "colab": {}
      },
      "source": [
        "n = int(input(\"Entrer un nombre entier\"))\n",
        "if n>0 :\n",
        "    print(\"strictement positif\")"
      ],
      "execution_count": null,
      "outputs": []
    },
    {
      "cell_type": "code",
      "metadata": {
        "id": "iu7m9DvVxt2n",
        "colab_type": "code",
        "colab": {}
      },
      "source": [
        "n = int(input(\"Entrer un nombre entier\"))\n",
        "if n>0 :\n",
        "    print(\"strictement positif\")"
      ],
      "execution_count": null,
      "outputs": []
    },
    {
      "cell_type": "markdown",
      "metadata": {
        "id": "kSU3qiy2yyKM",
        "colab_type": "text"
      },
      "source": [
        "## syntaxe"
      ]
    },
    {
      "cell_type": "markdown",
      "metadata": {
        "id": "4hMsZEgOx2hC",
        "colab_type": "text"
      },
      "source": [
        "L'instruction conditionnelle \n",
        "* débute avec le mot clé **`if`**\n",
        "* suivi d'une expression booléenne, c'est à dire une expression qui a la valeur `True` ou `False` en python\n",
        "* suivie de**` : `**(deux points) \n",
        "\n",
        "Comme avec l'instruction for, il est possible de marquer un **bloc d'instructions** avec l'indentation. Ce bloc d'instruction n'est exécuté que lorsque la condition booléenne est évaluée à `True`. "
      ]
    },
    {
      "cell_type": "code",
      "metadata": {
        "id": "-Xf4jn3JyiEn",
        "colab_type": "code",
        "colab": {}
      },
      "source": [
        "n = int(input(\"Entrer un nombre entier\"))\n",
        "if n>0 :\n",
        "    print(\"L'entier\", n )\n",
        "    print(\"est strictement positif\")\n",
        "print(\"Fin du programme\")"
      ],
      "execution_count": null,
      "outputs": []
    },
    {
      "cell_type": "code",
      "metadata": {
        "id": "IskMTxbSyqVb",
        "colab_type": "code",
        "colab": {}
      },
      "source": [
        "n = int(input(\"Entrer un nombre entier\"))\n",
        "if n>0 :\n",
        "    print(\"L'entier\", n )\n",
        "    print(\"est strictement positif\")\n",
        "print(\"Fin du programme\")"
      ],
      "execution_count": null,
      "outputs": []
    },
    {
      "cell_type": "markdown",
      "metadata": {
        "id": "5KsCjzPSy1S7",
        "colab_type": "text"
      },
      "source": [
        "## syntaxe if ... else\n",
        "\n",
        "    if condition_booleenne : \n",
        "        bloc_execute_si_condition_VRAIE\n",
        "    else : \n",
        "        bloc_execute_si_condition_FAUSSE"
      ]
    },
    {
      "cell_type": "code",
      "metadata": {
        "id": "UCDqk-KlzNX6",
        "colab_type": "code",
        "colab": {}
      },
      "source": [
        "n = int(input(\"Entrer un nombre entier\"))\n",
        "if n>100 :\n",
        "    print(\"L'entier\", n )\n",
        "    print(\"est strictement supérieur à 100\")\n",
        "else : \n",
        "    print(\"L'entier\", n )\n",
        "    print(\"n'est PAS strictement supérieur à 100\") \n",
        "print(\"Fin du programme\")"
      ],
      "execution_count": null,
      "outputs": []
    },
    {
      "cell_type": "code",
      "metadata": {
        "id": "h1p0MkhjzYZF",
        "colab_type": "code",
        "colab": {}
      },
      "source": [
        "n = int(input(\"Entrer un nombre entier\"))\n",
        "if n>100 :\n",
        "    print(\"L'entier\", n )\n",
        "    print(\"est strictement supérieur à 100\")\n",
        "else : \n",
        "    print(\"L'entier\", n )\n",
        "    print(\"n'est PAS strictement supérieur à 100\") \n",
        "print(\"Fin du programme\")"
      ],
      "execution_count": null,
      "outputs": []
    },
    {
      "cell_type": "code",
      "metadata": {
        "id": "JEO2TtNMzZ6u",
        "colab_type": "code",
        "colab": {}
      },
      "source": [
        "n = int(input(\"Entrer un nombre entier\"))\n",
        "if n>100 :\n",
        "    print(\"L'entier\", n )\n",
        "    print(\"est strictement supérieur à 100\")\n",
        "else : \n",
        "    print(\"L'entier\", n )\n",
        "    print(\"n'est PAS strictement supérieur à 100\") \n",
        "print(\"Fin du programme\")"
      ],
      "execution_count": null,
      "outputs": []
    },
    {
      "cell_type": "markdown",
      "metadata": {
        "id": "C7Y85BQCzx0X",
        "colab_type": "text"
      },
      "source": [
        "## syntaxe if... elif... else "
      ]
    },
    {
      "cell_type": "markdown",
      "metadata": {
        "id": "tzhPyjuNz1yn",
        "colab_type": "text"
      },
      "source": [
        "elif est la contraction de else + if\n",
        "\n"
      ]
    },
    {
      "cell_type": "code",
      "metadata": {
        "id": "KN-f9GUA0J8o",
        "colab_type": "code",
        "colab": {}
      },
      "source": [
        "n = int(input(\"Entrer un nombre entier\"))\n",
        "if n>0 :\n",
        "    print(\"L'entier\", n )\n",
        "    print(\"est strictement positif\")\n",
        "elif n<0 :\n",
        "    print(\"L'entier\", n )\n",
        "    print(\"est strictement positif\")\n",
        "else : \n",
        "    print(\"L'entier\", n )\n",
        "    print(\"est nul\") \n",
        "print(\"Fin du programme\")"
      ],
      "execution_count": null,
      "outputs": []
    },
    {
      "cell_type": "markdown",
      "metadata": {
        "id": "8gcaVMk7y3w0",
        "colab_type": "text"
      },
      "source": [
        "Si plusieurs elif sont utilisés, les conditions qu'ils commandent sont évaluées dans l'ordre de l'écriture du programme.\n",
        "\n",
        "Comparer les trois programmes suivants"
      ]
    },
    {
      "cell_type": "code",
      "metadata": {
        "id": "60iixh5q1FUv",
        "colab_type": "code",
        "colab": {
          "base_uri": "https://localhost:8080/",
          "height": 102
        },
        "outputId": "37a5b475-d34f-4fdb-dace-48b473864af5"
      },
      "source": [
        "#programme 1 : mentions du bac\n",
        "note = float(input(\"Entrer la note\"))\n",
        "if note >= 16:\n",
        "    print(\"mention TB\")\n",
        "if note >=14 :\n",
        "    print(\"mention B\")\n",
        "if note >=12:\n",
        "    print(\"mention AB\")\n",
        "if note >=10:\n",
        "    print(\"reçu à l'examen\")\n",
        "else :\n",
        "    print(\"recalé à l'examen\")"
      ],
      "execution_count": null,
      "outputs": [
        {
          "output_type": "stream",
          "text": [
            "Entrer la note18\n",
            "mention TB\n",
            "mention B\n",
            "mention AB\n",
            "reçu à l'examen\n"
          ],
          "name": "stdout"
        }
      ]
    },
    {
      "cell_type": "code",
      "metadata": {
        "id": "IGSDB8hr1VTJ",
        "colab_type": "code",
        "colab": {
          "base_uri": "https://localhost:8080/",
          "height": 51
        },
        "outputId": "480e551e-37da-4ec9-cc00-e7d0f706107d"
      },
      "source": [
        "#programme 2 : mentions du bac\n",
        "note = float(input(\"Entrer la note\"))\n",
        "if note >=10:\n",
        "    print(\"reçu à l'examen\")\n",
        "elif note >=12:\n",
        "    print(\"mention AB\")\n",
        "elif note >=14 :\n",
        "    print(\"mention B\")\n",
        "elif note >= 16:\n",
        "    print(\"mention TB\")\n",
        "else :\n",
        "    print(\"recalé à l'examen\")"
      ],
      "execution_count": null,
      "outputs": [
        {
          "output_type": "stream",
          "text": [
            "Entrer la note4\n",
            "recalé à l'examen\n"
          ],
          "name": "stdout"
        }
      ]
    },
    {
      "cell_type": "code",
      "metadata": {
        "id": "Xn6KHQcx0inA",
        "colab_type": "code",
        "colab": {}
      },
      "source": [
        "#programme 3 : mentions du bac\n",
        "note = float(input(\"Entrer la note\"))\n",
        "if note >= 16:\n",
        "    print(\"mention TB\")\n",
        "elif note >=14 :\n",
        "    print(\"mention B\")\n",
        "elif note >=12:\n",
        "    print(\"mention AB\")\n",
        "elif note >=10:\n",
        "    print(\"reçu à l'examen\")\n",
        "else :\n",
        "    print(\"recalé à l'examen\")"
      ],
      "execution_count": null,
      "outputs": []
    },
    {
      "cell_type": "markdown",
      "metadata": {
        "id": "azLTIoIT2RUC",
        "colab_type": "text"
      },
      "source": [
        "## conditionnelles imbriquées"
      ]
    },
    {
      "cell_type": "markdown",
      "metadata": {
        "id": "0f0EOViB2VFj",
        "colab_type": "text"
      },
      "source": [
        "On souhaite améliorer l'affichage du programme ci-dessus.\n",
        "\n",
        "1. Afficher soit \"reçu\" soit \"recalé\"\n",
        "2. En cas de réussite, préciser la mention"
      ]
    },
    {
      "cell_type": "code",
      "metadata": {
        "id": "QmLBxged2pCu",
        "colab_type": "code",
        "colab": {}
      },
      "source": [
        "# Structure de base\n",
        "#programme : mentions du bac\n",
        "note = float(input(\"Entrer la note\"))\n",
        "if note >=10:\n",
        "    print(\"reçu à l'examen\")\n",
        "else :\n",
        "    print(\"recalé à l'examen\")\n"
      ],
      "execution_count": null,
      "outputs": []
    },
    {
      "cell_type": "markdown",
      "metadata": {
        "id": "_VfSm8Cg25HN",
        "colab_type": "text"
      },
      "source": [
        "Détail des mentions, dans le cas où l'examen est réussi"
      ]
    },
    {
      "cell_type": "code",
      "metadata": {
        "id": "kSj77A6z24Ik",
        "colab_type": "code",
        "colab": {}
      },
      "source": [
        "# Structure de base\n",
        "#programme : mentions du bac\n",
        "note = float(input(\"Entrer la note\"))\n",
        "if note >=10:\n",
        "    print(\"reçu à l'examen\")\n",
        "    # ajout de la mention\n",
        "    if note >= 16:\n",
        "        print(\"mention TB\")\n",
        "    elif note >=14 :\n",
        "        print(\"mention B\")\n",
        "    elif note >=12:\n",
        "        print(\"mention AB\")\n",
        "\n",
        "else :\n",
        "    print(\"recalé à l'examen\")\n"
      ],
      "execution_count": null,
      "outputs": []
    },
    {
      "cell_type": "markdown",
      "metadata": {
        "id": "Fac4SvDu3gwi",
        "colab_type": "text"
      },
      "source": [
        "# Expressions booléennes"
      ]
    },
    {
      "cell_type": "markdown",
      "metadata": {
        "id": "XuhsCo3e3n1W",
        "colab_type": "text"
      },
      "source": [
        "## Opérateurs de comparaison"
      ]
    },
    {
      "cell_type": "markdown",
      "metadata": {
        "id": "xHKDquLZ3taP",
        "colab_type": "text"
      },
      "source": [
        "|Comparaison|en python|\n",
        "|:----------:|:-------:|\n",
        "|égalité entre a et b | `a == b`|\n",
        "|$ a \\neq b$| `a != b`|\n",
        "|$a \\leq b$| `a <= b`|\n",
        "|$a \\geq b$| `a >= b`|\n"
      ]
    },
    {
      "cell_type": "markdown",
      "metadata": {
        "id": "-4sZKCZy4aNf",
        "colab_type": "text"
      },
      "source": [
        "Un opérateur de comparaison produit un résultat de type booléen : en python `bool`. "
      ]
    },
    {
      "cell_type": "code",
      "metadata": {
        "id": "mJXLu_lr7JBI",
        "colab_type": "code",
        "colab": {}
      },
      "source": [
        "5 < 7"
      ],
      "execution_count": null,
      "outputs": []
    },
    {
      "cell_type": "code",
      "metadata": {
        "id": "xjOyMT4U7OKF",
        "colab_type": "code",
        "colab": {}
      },
      "source": [
        "5 != 7"
      ],
      "execution_count": null,
      "outputs": []
    },
    {
      "cell_type": "code",
      "metadata": {
        "id": "zPXtUsgq7Pzg",
        "colab_type": "code",
        "colab": {}
      },
      "source": [
        "5 = 7"
      ],
      "execution_count": null,
      "outputs": []
    },
    {
      "cell_type": "code",
      "metadata": {
        "id": "gEzi5HX17RQb",
        "colab_type": "code",
        "colab": {}
      },
      "source": [
        "5 == 7"
      ],
      "execution_count": null,
      "outputs": []
    },
    {
      "cell_type": "code",
      "metadata": {
        "id": "b-J8xmZ073Gr",
        "colab_type": "code",
        "colab": {}
      },
      "source": [
        "1+1 == 2"
      ],
      "execution_count": null,
      "outputs": []
    },
    {
      "cell_type": "code",
      "metadata": {
        "id": "whk4uwxw742Q",
        "colab_type": "code",
        "colab": {}
      },
      "source": [
        "1+1 <= 3"
      ],
      "execution_count": null,
      "outputs": []
    },
    {
      "cell_type": "code",
      "metadata": {
        "id": "lz0lsf8t8Df_",
        "colab_type": "code",
        "colab": {}
      },
      "source": [
        "1+1 <=2"
      ],
      "execution_count": null,
      "outputs": []
    },
    {
      "cell_type": "markdown",
      "metadata": {
        "id": "WpoeotbX8HlV",
        "colab_type": "text"
      },
      "source": [
        "## comparaison et type `str`"
      ]
    },
    {
      "cell_type": "markdown",
      "metadata": {
        "id": "ZE5kWMnZ8NpA",
        "colab_type": "text"
      },
      "source": [
        "Les opérateurs de comparaison peuvent être appliqués\n",
        "*  à des types numériques int ou float\n",
        "* ou au type str (ordre lexicographique)"
      ]
    },
    {
      "cell_type": "code",
      "metadata": {
        "id": "3hre80-38cit",
        "colab_type": "code",
        "colab": {}
      },
      "source": [
        "'bon' + 'jour' == 'bonjour'"
      ],
      "execution_count": null,
      "outputs": []
    },
    {
      "cell_type": "code",
      "metadata": {
        "id": "Btc4JvTR8hci",
        "colab_type": "code",
        "colab": {}
      },
      "source": [
        "'bon' + 'jour' == 'Bonjour'"
      ],
      "execution_count": null,
      "outputs": []
    },
    {
      "cell_type": "code",
      "metadata": {
        "id": "CX0Tw8jV8k3D",
        "colab_type": "code",
        "colab": {}
      },
      "source": [
        "'a' < 'b'"
      ],
      "execution_count": null,
      "outputs": []
    },
    {
      "cell_type": "code",
      "metadata": {
        "id": "Kr3-bPF38nX6",
        "colab_type": "code",
        "colab": {}
      },
      "source": [
        "'a' < 'B'"
      ],
      "execution_count": null,
      "outputs": []
    },
    {
      "cell_type": "markdown",
      "metadata": {
        "id": "uKjoM9Yl8qqh",
        "colab_type": "text"
      },
      "source": [
        "Les caractères sont classés dans l'ordre de leur code ASCII (qui sera expliqué dans un chapitre ultérieur)\n",
        "\n",
        "Pour les lettres non accentuées, cela correspond à l'ordre alphabétique, avec les MAJUSCULES avant les minuscules.\n",
        "\n",
        "Les lettre accentuées ne sont pas classées dans l'ordre alphabétique."
      ]
    },
    {
      "cell_type": "code",
      "metadata": {
        "id": "EO4OkrlE9RHC",
        "colab_type": "code",
        "colab": {
          "base_uri": "https://localhost:8080/",
          "height": 34
        },
        "outputId": "daaf203a-3634-4919-f15a-cae2176cdd37"
      },
      "source": [
        "'aAAA' < 'Zzzz'"
      ],
      "execution_count": null,
      "outputs": [
        {
          "output_type": "execute_result",
          "data": {
            "text/plain": [
              "False"
            ]
          },
          "metadata": {
            "tags": []
          },
          "execution_count": 14
        }
      ]
    },
    {
      "cell_type": "code",
      "metadata": {
        "id": "XjLVtre99AOm",
        "colab_type": "code",
        "colab": {
          "base_uri": "https://localhost:8080/",
          "height": 34
        },
        "outputId": "d5533713-5c06-4a07-af6a-636aacad3092"
      },
      "source": [
        "'éléphant' < 'mamouth'"
      ],
      "execution_count": null,
      "outputs": [
        {
          "output_type": "execute_result",
          "data": {
            "text/plain": [
              "False"
            ]
          },
          "metadata": {
            "tags": []
          },
          "execution_count": 13
        }
      ]
    },
    {
      "cell_type": "code",
      "metadata": {
        "id": "lEMEJnOB9k8G",
        "colab_type": "code",
        "colab": {
          "base_uri": "https://localhost:8080/",
          "height": 34
        },
        "outputId": "5b78f3bf-3bca-400a-a31c-6a5e0d1ccc6c"
      },
      "source": [
        "'100' > '5'"
      ],
      "execution_count": null,
      "outputs": [
        {
          "output_type": "execute_result",
          "data": {
            "text/plain": [
              "False"
            ]
          },
          "metadata": {
            "tags": []
          },
          "execution_count": 15
        }
      ]
    },
    {
      "cell_type": "markdown",
      "metadata": {
        "id": "y2MRwgHe9wSt",
        "colab_type": "text"
      },
      "source": [
        "## Opérations booléennes"
      ]
    },
    {
      "cell_type": "markdown",
      "metadata": {
        "id": "IR1Y4KM49-l_",
        "colab_type": "text"
      },
      "source": [
        "|connecteur logique|nom|condition|\n",
        "|:----------:|:-------:|:------------|\n",
        "| `and`  |conjonction| `c1 and c2` est vrai lorsque les deux conditions c1 et c2 sont toutes les deux vraies|\n",
        "|or | disjonction|`c1 or c2` est vrai lorsqu'au moins une des deux conditions c1 ou c2 est vraie|\n",
        "|not|négation|`not c` est vrai si et seulement si c est faux|"
      ]
    },
    {
      "cell_type": "markdown",
      "metadata": {
        "id": "U6ZJjgme_LDk",
        "colab_type": "text"
      },
      "source": [
        "Tester différentes valeurs de n en exécutant les cellules suivantes.\n",
        "\n",
        "Quelles-sont celles qui rendent la condition vraie ?"
      ]
    },
    {
      "cell_type": "code",
      "metadata": {
        "id": "9ysIHRnv_Uso",
        "colab_type": "code",
        "colab": {}
      },
      "source": [
        "n = int(input('Entrer n : '))\n",
        "print(n==2 or n>2)"
      ],
      "execution_count": null,
      "outputs": []
    },
    {
      "cell_type": "code",
      "metadata": {
        "id": "k-AhEL29_eHH",
        "colab_type": "code",
        "colab": {}
      },
      "source": [
        "n = int(input('Entrer n : '))\n",
        "print(n!=2 and n>0)"
      ],
      "execution_count": null,
      "outputs": []
    },
    {
      "cell_type": "code",
      "metadata": {
        "id": "dYu9vPq__nAx",
        "colab_type": "code",
        "colab": {}
      },
      "source": [
        "n = int(input('Entrer n : '))\n",
        "print(n!=2 or n>0)"
      ],
      "execution_count": null,
      "outputs": []
    },
    {
      "cell_type": "code",
      "metadata": {
        "id": "9PDAeo73_sWf",
        "colab_type": "code",
        "colab": {}
      },
      "source": [
        "n = int(input('Entrer n : '))\n",
        "print( not n!=2 )"
      ],
      "execution_count": null,
      "outputs": []
    }
  ]
}