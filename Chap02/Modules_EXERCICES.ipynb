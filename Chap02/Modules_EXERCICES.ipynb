{
  "nbformat": 4,
  "nbformat_minor": 0,
  "metadata": {
    "colab": {
      "name": "Copie de 02-Modules_EXERCICES.ipynb",
      "provenance": [],
      "collapsed_sections": [],
      "authorship_tag": "ABX9TyNa0FSbWOh0J7Jpkkn1MBP0",
      "include_colab_link": true
    },
    "kernelspec": {
      "name": "python3",
      "display_name": "Python 3"
    }
  },
  "cells": [
    {
      "cell_type": "markdown",
      "metadata": {
        "id": "view-in-github",
        "colab_type": "text"
      },
      "source": [
        "<a href=\"https://colab.research.google.com/github/thfruchart/1nsi-2020/blob/master/Chap02/Modules_EXERCICES.ipynb\" target=\"_parent\"><img src=\"https://colab.research.google.com/assets/colab-badge.svg\" alt=\"Open In Colab\"/></a>"
      ]
    },
    {
      "cell_type": "markdown",
      "metadata": {
        "id": "aSukDRc14W38",
        "colab_type": "text"
      },
      "source": [
        "#Exercice 1"
      ]
    },
    {
      "cell_type": "markdown",
      "metadata": {
        "id": "Zu46WlGk4Zav",
        "colab_type": "text"
      },
      "source": [
        "1. Ecrire un module stats qui réalise l'interface minimale suivante :  \n",
        "\n",
        "\n",
        "|fonction           |description|\n",
        "| :--------------- :| :-------- :|\n",
        "|total(t)| retourne la somme des valeurs contenues dans le tableau t, supposé non vide|\n",
        "|moyenne(t)|retourne la moyenne des valeurs contenues dans le tableau t, supposé non vide|\n",
        "\n",
        "2. Tester ce module, en l'important depuis un autre fichier"
      ]
    },
    {
      "cell_type": "markdown",
      "metadata": {
        "id": "X4HsBupm5LbA",
        "colab_type": "text"
      },
      "source": [
        "# Données utile pour les exercices 2 et 3"
      ]
    },
    {
      "cell_type": "markdown",
      "metadata": {
        "id": "iul-znpgekB_",
        "colab_type": "text"
      },
      "source": [
        "Dans les exercices deux exercices suivants, on prendra comme base les modules :"
      ]
    },
    {
      "cell_type": "code",
      "metadata": {
        "id": "oxv92K_Y6dSR",
        "colab_type": "code",
        "colab": {}
      },
      "source": [
        "##################\n",
        "##  ensemble1   ##\n",
        "################## \n",
        "def cree_ensemble():\n",
        "    ''' crée un ensemble vide, pouvant contenir des entiers entre 0 et 366\n",
        "    implémenté sous la forme d'un tableau de booléens'''\n",
        "    return [False for i in range(367)]\n",
        "\n",
        "def appartient(v,s):\n",
        "    ''' teste si une valeur v (de 0 à 366) appartient à l'ensemble s'''\n",
        "    if type(v) != int :\n",
        "        return False\n",
        "    if v<1 or v>366 :\n",
        "        return False\n",
        "    return s[v]\n",
        "\n",
        "def ajoute(v,s):\n",
        "    ''' ajoute la valeur v (de 0 à 366) à l'ensemble s'''\n",
        "    if type(v) != int :\n",
        "        raise TypeError(\"la valeur n'est pas de type int\")\n",
        "    if v<1 or v>366 :\n",
        "        raise ValueError(\"valeurs entre 1 et 366 uniquement\")\n",
        "    s[v]=True"
      ],
      "execution_count": null,
      "outputs": []
    },
    {
      "cell_type": "code",
      "metadata": {
        "id": "r_3SZaI4e_8E",
        "colab_type": "code",
        "colab": {}
      },
      "source": [
        "##################\n",
        "##  ensemble2   ##\n",
        "##################\n",
        "\n",
        "def cree_ensemble():\n",
        "    ''' crée un ensemble vide, pouvant contenir des entiers ou des textes\n",
        "    implémenté sous la forme d'un dictionnaire de booléens'''\n",
        "    return {}\n",
        "\n",
        "def appartient(v,s):\n",
        "    ''' teste si une valeur v appartient à l'ensemble s'''\n",
        "    return v in s\n",
        "\n",
        "def ajoute(v,s):\n",
        "    ''' ajoute la valeur v à l'ensemble s'''\n",
        "    s[v]=True"
      ],
      "execution_count": null,
      "outputs": []
    },
    {
      "cell_type": "code",
      "metadata": {
        "id": "wa5v-mPOfMhF",
        "colab_type": "code",
        "colab": {}
      },
      "source": [
        "##################\n",
        "##  ensemble3   ##\n",
        "##################\n",
        "\n",
        "def cree_ensemble():\n",
        "    ''' crée un ensemble vide, pouvant contenir des entiers \n",
        "    implémenté sous la forme d'une liste de listes'''\n",
        "    return [ [] for i in range(23) ]\n",
        "\n",
        "def appartient(v,s):\n",
        "    ''' teste si une valeur v appartient à l'ensemble s'''\n",
        "    indice = v%23\n",
        "    return v in s[indice]\n",
        "\n",
        "def ajoute(v,s):\n",
        "    ''' ajoute la valeur v à l'ensemble s'''\n",
        "    indice = v%23\n",
        "    s[indice].append(v)"
      ],
      "execution_count": null,
      "outputs": []
    },
    {
      "cell_type": "markdown",
      "metadata": {
        "id": "Qb7HSIixeUJw",
        "colab_type": "text"
      },
      "source": [
        "# Exercice 2"
      ]
    },
    {
      "cell_type": "markdown",
      "metadata": {
        "id": "RFDK7QlVeWWb",
        "colab_type": "text"
      },
      "source": [
        "Ajouter, dans chacun des modules ensemble1, ensemble2, ensemble3  une fonction `enumere`  correspondant à l'interface :\n",
        "\n",
        "|fonction           |description|\n",
        "| :--------------- :| :-------- :|\n",
        "|enumere(s)| retourne une liste contenant toutes les valeurs de l'ensemble s|"
      ]
    },
    {
      "cell_type": "markdown",
      "metadata": {
        "id": "o632Or57grWR",
        "colab_type": "text"
      },
      "source": [
        "# Exercice 3"
      ]
    },
    {
      "cell_type": "markdown",
      "metadata": {
        "id": "jyjDao86gtQW",
        "colab_type": "text"
      },
      "source": [
        "Ajouter, dans chacun des modules ensemble1, ensemble2, ensemble3  deux fonctions union et intersection correspondant à l'interface :\n",
        "\n",
        "|fonction           |description|\n",
        "| :--------------- :| :-------- :|\n",
        "|`union(s1,s2)`| retourne un nouvel ensemble composé des éléments de s1 réunis avec ceux de s2|\n",
        "|intersection(s1,s2)|retourne un nouvel ensemble composé des éléments communs entre s1 et s2|\n"
      ]
    },
    {
      "cell_type": "markdown",
      "metadata": {
        "id": "hZrPkEPTjcwP",
        "colab_type": "text"
      },
      "source": [
        "# Exercice 4"
      ]
    },
    {
      "cell_type": "markdown",
      "metadata": {
        "id": "4cg23loqjfej",
        "colab_type": "text"
      },
      "source": [
        "On donne ci-dessous une interface minimale pour un dictionnaire.\n",
        "\n",
        "|fonction           |description|\n",
        "| :--------------- :| :-------- :|\n",
        "|`cree()`| retourne un dictionnaire vide|\n",
        "|`cle(d, k)`| retourne `True` si et seulement si le dictionnaire `d` contient la clé `k`|\n",
        "|`lire(d, k)`| retourne la valeur associée à la clé `k` si `k` est une clé du dictionnaire `d`, et retoune `None` sinon|\n",
        "|`ecrire(d, k, v)`| ajoute au dictionnaire `d` l'association entre la clé `k` et la valeur `v`, en remplaçant éventuellement une association antérieure| \n"
      ]
    },
    {
      "cell_type": "markdown",
      "metadata": {
        "id": "NLZrTOhOmIkD",
        "colab_type": "text"
      },
      "source": [
        "1. Pour chacune des fonctions de l'interface, donner la syntaxe correspondante pour les dictionnaires de python.\n",
        "\n",
        "2. Réaliser cette interface sans utiliser les dictionnaires de python, mais à la place des listes de couples (tuples de longueur 2). Ainsi le dictionnaire `{'un':1 , 'deux' : 2}` sera implémenté par la liste `[('un',1), ('deux', 2)]`\n",
        "\n",
        "3. Modifier la fonction `lire(d,k)` pour implémenter l'interface suivante :\n",
        "\n",
        "|fonction           |description|\n",
        "| :--------------- :| :-------- :|\n",
        "|`lire(d, k)`| retourne la valeur associée à la clé `k` si `k` est une clé du dictionnaire `d`, et lève une exception `ValueError` sinon|"
      ]
    }
  ]
}