{
  "nbformat": 4,
  "nbformat_minor": 0,
  "metadata": {
    "colab": {
      "name": "02-BoucleFOR.ipynb",
      "provenance": [],
      "collapsed_sections": [
        "-XuZPEzlkMMi"
      ],
      "authorship_tag": "ABX9TyMITxRqvIhZdIk0STpoSVYk",
      "include_colab_link": true
    },
    "kernelspec": {
      "name": "python3",
      "display_name": "Python 3"
    }
  },
  "cells": [
    {
      "cell_type": "markdown",
      "metadata": {
        "id": "view-in-github",
        "colab_type": "text"
      },
      "source": [
        "<a href=\"https://colab.research.google.com/github/thfruchart/1nsi-2020/blob/master/Chap02/BoucleFOR.ipynb\" target=\"_parent\"><img src=\"https://colab.research.google.com/assets/colab-badge.svg\" alt=\"Open In Colab\"/></a>"
      ]
    },
    {
      "cell_type": "markdown",
      "metadata": {
        "id": "FyNJ5qs0kD5c",
        "colab_type": "text"
      },
      "source": [
        "# Boucles bornées simples\n",
        "\n"
      ]
    },
    {
      "cell_type": "markdown",
      "metadata": {
        "id": "JCyZaPKWmm8p",
        "colab_type": "text"
      },
      "source": [
        "Une **boucle** permet de répéter plusieurs fois un même bloc d'instructions. \n",
        "\n",
        "On parle de boucle **bornée**, lorsque le nombre de répétition est fixé dès le départ. \n",
        "\n",
        "Voir les exemples suivants : "
      ]
    },
    {
      "cell_type": "code",
      "metadata": {
        "id": "A4X4x1ZekDO2",
        "colab_type": "code",
        "colab": {
          "base_uri": "https://localhost:8080/",
          "height": 102
        },
        "outputId": "dedb2572-beb0-4fd7-b084-28eeb142d9da"
      },
      "source": [
        "for _ in range(5) : print(\"bonjour\")"
      ],
      "execution_count": 1,
      "outputs": [
        {
          "output_type": "stream",
          "text": [
            "bonjour\n",
            "bonjour\n",
            "bonjour\n",
            "bonjour\n",
            "bonjour\n"
          ],
          "name": "stdout"
        }
      ]
    },
    {
      "cell_type": "code",
      "metadata": {
        "id": "iIPbbl72mzVO",
        "colab_type": "code",
        "colab": {
          "base_uri": "https://localhost:8080/",
          "height": 119
        },
        "outputId": "ed758ec3-c617-4952-eef2-c15fcdd0c6dc"
      },
      "source": [
        "for _ in range(3) : \n",
        "    print('A')\n",
        "    print('B')\n"
      ],
      "execution_count": 2,
      "outputs": [
        {
          "output_type": "stream",
          "text": [
            "A\n",
            "B\n",
            "A\n",
            "B\n",
            "A\n",
            "B\n"
          ],
          "name": "stdout"
        }
      ]
    },
    {
      "cell_type": "code",
      "metadata": {
        "id": "-5aIWbX4muNe",
        "colab_type": "code",
        "colab": {
          "base_uri": "https://localhost:8080/",
          "height": 136
        },
        "outputId": "6dbfd41a-b423-4f1f-e736-e209e14945cd"
      },
      "source": [
        "for _ in range(3) : \n",
        "    print('A')\n",
        "    print('B')\n",
        "print('C')"
      ],
      "execution_count": 3,
      "outputs": [
        {
          "output_type": "stream",
          "text": [
            "A\n",
            "B\n",
            "A\n",
            "B\n",
            "A\n",
            "B\n",
            "C\n"
          ],
          "name": "stdout"
        }
      ]
    },
    {
      "cell_type": "markdown",
      "metadata": {
        "id": "-XuZPEzlkMMi",
        "colab_type": "text"
      },
      "source": [
        "\n",
        "\n",
        "## Instruction `for`\n",
        "En python, \n",
        "\n",
        "* une boucle bornée est introduite par le mot réservé `for`\n",
        "* le nombre de répétitions est donné dans la commande `range()` suivie de `:`\n",
        "* si plusieurs instructions sont répétées, elles forment un **bloc** qui est marqué par l'**indentation**,  c'est à dire que chaque ligne du bloc commence par le même nombre d'espaces (4 par défaut).\n",
        "\n",
        "\n",
        "La syntaxe d'une boucle pour en python est la suivante :\n",
        "\n",
        "\n",
        "\n",
        "    for _ in range(n) :\n",
        "        instruction 1\n",
        "        instruction 2\n",
        "        ...\n",
        "    # fin de boucle for\n"
      ]
    },
    {
      "cell_type": "markdown",
      "metadata": {
        "id": "JMeZgUarnJ_v",
        "colab_type": "text"
      },
      "source": [
        "## Observer les erreurs dans les cellules suivantes. "
      ]
    },
    {
      "cell_type": "code",
      "metadata": {
        "id": "3IGx3c9_nQvu",
        "colab_type": "code",
        "colab": {
          "base_uri": "https://localhost:8080/",
          "height": 181
        },
        "outputId": "58c162c3-83c4-4679-eeb0-22a6fa7227fc"
      },
      "source": [
        "for _ in range(2.5) : \n",
        "    print('OK')\n"
      ],
      "execution_count": 4,
      "outputs": [
        {
          "output_type": "error",
          "ename": "TypeError",
          "evalue": "ignored",
          "traceback": [
            "\u001b[0;31m---------------------------------------------------------------------------\u001b[0m",
            "\u001b[0;31mTypeError\u001b[0m                                 Traceback (most recent call last)",
            "\u001b[0;32m<ipython-input-4-76829d9f197f>\u001b[0m in \u001b[0;36m<module>\u001b[0;34m()\u001b[0m\n\u001b[0;32m----> 1\u001b[0;31m \u001b[0;32mfor\u001b[0m \u001b[0m_\u001b[0m \u001b[0;32min\u001b[0m \u001b[0mrange\u001b[0m\u001b[0;34m(\u001b[0m\u001b[0;36m2.5\u001b[0m\u001b[0;34m)\u001b[0m \u001b[0;34m:\u001b[0m\u001b[0;34m\u001b[0m\u001b[0;34m\u001b[0m\u001b[0m\n\u001b[0m\u001b[1;32m      2\u001b[0m     \u001b[0mprint\u001b[0m\u001b[0;34m(\u001b[0m\u001b[0;34m'OK'\u001b[0m\u001b[0;34m)\u001b[0m\u001b[0;34m\u001b[0m\u001b[0;34m\u001b[0m\u001b[0m\n",
            "\u001b[0;31mTypeError\u001b[0m: 'float' object cannot be interpreted as an integer"
          ]
        }
      ]
    },
    {
      "cell_type": "code",
      "metadata": {
        "id": "yuxf7qQLoRSr",
        "colab_type": "code",
        "colab": {
          "base_uri": "https://localhost:8080/",
          "height": 130
        },
        "outputId": "55f162db-d5a6-4a76-e56f-388863cb3964"
      },
      "source": [
        "for _ in range(4):\n",
        "    print('A')\n",
        "     print('B')\n"
      ],
      "execution_count": 5,
      "outputs": [
        {
          "output_type": "error",
          "ename": "IndentationError",
          "evalue": "ignored",
          "traceback": [
            "\u001b[0;36m  File \u001b[0;32m\"<ipython-input-5-f861e689cff1>\"\u001b[0;36m, line \u001b[0;32m3\u001b[0m\n\u001b[0;31m    print('B')\u001b[0m\n\u001b[0m    ^\u001b[0m\n\u001b[0;31mIndentationError\u001b[0m\u001b[0;31m:\u001b[0m unexpected indent\n"
          ]
        }
      ]
    },
    {
      "cell_type": "markdown",
      "metadata": {
        "id": "0a6vJHELoxvg",
        "colab_type": "text"
      },
      "source": [
        "# Utilisation de l'indice de boucle"
      ]
    },
    {
      "cell_type": "markdown",
      "metadata": {
        "id": "ksfDPXl9pH5Q",
        "colab_type": "text"
      },
      "source": [
        "Lorsque les tours de boucles ont besoin d'être numérottés, on utilise une variable \"à la place de\" `_` dans la syntaxe de la boucle `for`"
      ]
    },
    {
      "cell_type": "code",
      "metadata": {
        "id": "hE4TsS0VpdvU",
        "colab_type": "code",
        "colab": {
          "base_uri": "https://localhost:8080/",
          "height": 102
        },
        "outputId": "ca006c0f-7d2e-4c6b-da11-5e18d660be63"
      },
      "source": [
        "for i in range(5) : print(i)"
      ],
      "execution_count": 6,
      "outputs": [
        {
          "output_type": "stream",
          "text": [
            "0\n",
            "1\n",
            "2\n",
            "3\n",
            "4\n"
          ],
          "name": "stdout"
        }
      ]
    },
    {
      "cell_type": "markdown",
      "metadata": {
        "id": "CqqdXPhepgiv",
        "colab_type": "text"
      },
      "source": [
        "Remarque : \n",
        "\n",
        "Dans le programme\n",
        "\n",
        "    for _ in range(4) : print('Hello')\n",
        "\n",
        "`_` est déjà une variable.\n",
        "\n",
        "En pratique, si cette variable de boucle est utilisée, on lui donne un nom plus commode. "
      ]
    },
    {
      "cell_type": "markdown",
      "metadata": {
        "id": "0d-UqaBhqG81",
        "colab_type": "text"
      },
      "source": [
        "Dans l'exemple suivant, la variable k sert d'indice de boucle :"
      ]
    },
    {
      "cell_type": "code",
      "metadata": {
        "id": "fBrm8N9xqO-C",
        "colab_type": "code",
        "colab": {
          "base_uri": "https://localhost:8080/",
          "height": 153
        },
        "outputId": "1d06ea8a-0026-49d1-b1ae-0ee37b78c862"
      },
      "source": [
        "for k in range(4) :\n",
        "    print( \"Entrer la valeur n° \", k)\n",
        "    x = input()\n"
      ],
      "execution_count": 7,
      "outputs": [
        {
          "output_type": "stream",
          "text": [
            "Entrer la valeur n°  0\n",
            "a\n",
            "Entrer la valeur n°  1\n",
            "b\n",
            "Entrer la valeur n°  2\n",
            "c\n",
            "Entrer la valeur n°  3\n",
            "d\n"
          ],
          "name": "stdout"
        }
      ]
    },
    {
      "cell_type": "markdown",
      "metadata": {
        "id": "boG_y9lPqeCl",
        "colab_type": "text"
      },
      "source": [
        "# Utilisation d'un accumulateur\n",
        "\n",
        "Observer l'exécution de l'exemple suivant sur [python tutor](http://www.pythontutor.com/visualize.html#code=a%20%3D%205%0Afor%20_%20in%20range%284%29%20%3A%20%0A%20%20%20%20a%20%3D%20a%2B10%0A%0Aprint%28a%29&cumulative=false&curInstr=0&heapPrimitives=nevernest&mode=display&origin=opt-frontend.js&py=3&rawInputLstJSON=%5B%5D&textReferences=false)"
      ]
    },
    {
      "cell_type": "code",
      "metadata": {
        "id": "GbI2kg6xqp2E",
        "colab_type": "code",
        "colab": {
          "base_uri": "https://localhost:8080/",
          "height": 34
        },
        "outputId": "e5c4ef88-bfac-4eab-b584-2f77d16b358f"
      },
      "source": [
        "a = 5\n",
        "for _ in range(4) : \n",
        "    a = a+10\n",
        "\n",
        "print(a)"
      ],
      "execution_count": 8,
      "outputs": [
        {
          "output_type": "stream",
          "text": [
            "45\n"
          ],
          "name": "stdout"
        }
      ]
    },
    {
      "cell_type": "markdown",
      "metadata": {
        "id": "6-K8qWU0rfYk",
        "colab_type": "text"
      },
      "source": [
        "\n",
        "* la variable a est créée avant le début de la boucle for : on dit qu'elle est **initialisée**\n",
        "* A chaque tour de boucle, la variable a est modifiée. On opère une addition : on dit que a est **incrémentée** (de 10 en 10 dans le cas présent)\n",
        "\n",
        "Ici a jour le rôle d'un accumulateur. A chaque tour de boucle, on accumule la valeur 10 en plus de la valeur précédente. "
      ]
    },
    {
      "cell_type": "markdown",
      "metadata": {
        "id": "aWoZF9OXsHqy",
        "colab_type": "text"
      },
      "source": [
        "## Exemple, calculer la moyenne de plusieurs élèves\n",
        "\n",
        "Compléter le programme pour qu'il affiche la moyenne de tous les élèves dont on saisit la note.\n",
        "\n",
        "1. Créer un accumulateur pour calculer le total de toutes les notes\n",
        "2. Calculer et afficher la moyenne dans une nouvelle variable"
      ]
    },
    {
      "cell_type": "code",
      "metadata": {
        "id": "s2xUqOmJsQjX",
        "colab_type": "code",
        "colab": {
          "base_uri": "https://localhost:8080/",
          "height": 153
        },
        "outputId": "d7aa36df-2394-4a93-ba93-3d1cfea476ba"
      },
      "source": [
        "n = int(input(\"Saisir le nombre d'élèves\"))\n",
        "total = 0\n",
        "\n",
        "for i in range(n) : \n",
        "    print('Entrer la note n°', i)\n",
        "    note = float(input())\n",
        "    total = note + total\n",
        "\n",
        "print(\"La moyenne vaut : \", total /n )"
      ],
      "execution_count": 12,
      "outputs": [
        {
          "output_type": "stream",
          "text": [
            "Saisir le nombre d'élèves3\n",
            "Entrer la note n° 0\n",
            "10\n",
            "Entrer la note n° 1\n",
            "5\n",
            "Entrer la note n° 2\n",
            "0\n",
            "La moyenne vaut :  5.0\n"
          ],
          "name": "stdout"
        }
      ]
    },
    {
      "cell_type": "markdown",
      "metadata": {
        "id": "SlTMf8kZted6",
        "colab_type": "text"
      },
      "source": [
        "Remarques : on peut réduire le code, et n'utiliser qu'un accumulateur avec la syntaxe suivante."
      ]
    },
    {
      "cell_type": "code",
      "metadata": {
        "id": "65rz8K_mtrAP",
        "colab_type": "code",
        "colab": {
          "base_uri": "https://localhost:8080/",
          "height": 102
        },
        "outputId": "9c86aab1-bf1b-4391-e1f2-af387e601471"
      },
      "source": [
        "n = int(input(\"Saisir le nombre d'élèves : \"))\n",
        "\n",
        "x = 0\n",
        "for i in range(n) : \n",
        "    x = x+float(input(\"Entrer la note n°\" + str(i+1) + ' :  '))\n",
        "\n",
        "print(\"La moyenne vaut : \", x/n)"
      ],
      "execution_count": 13,
      "outputs": [
        {
          "output_type": "stream",
          "text": [
            "Saisir le nombre d'élèves : 3\n",
            "Entrer la note n°1 :  10\n",
            "Entrer la note n°2 :  20\n",
            "Entrer la note n°3 :  15\n",
            "La moyenne vaut :  15.0\n"
          ],
          "name": "stdout"
        }
      ]
    },
    {
      "cell_type": "markdown",
      "metadata": {
        "id": "X16bZ5Jaujdh",
        "colab_type": "text"
      },
      "source": [
        "# Quelques erreurs à éviter"
      ]
    },
    {
      "cell_type": "code",
      "metadata": {
        "id": "i8Ael9XjunkG",
        "colab_type": "code",
        "colab": {
          "base_uri": "https://localhost:8080/",
          "height": 181
        },
        "outputId": "d8c32173-2798-4c4b-e91d-19de87c65345"
      },
      "source": [
        "for i in range(4) : \n",
        "    y = y+2"
      ],
      "execution_count": 15,
      "outputs": [
        {
          "output_type": "error",
          "ename": "NameError",
          "evalue": "ignored",
          "traceback": [
            "\u001b[0;31m---------------------------------------------------------------------------\u001b[0m",
            "\u001b[0;31mNameError\u001b[0m                                 Traceback (most recent call last)",
            "\u001b[0;32m<ipython-input-15-5ec00acf1c1a>\u001b[0m in \u001b[0;36m<module>\u001b[0;34m()\u001b[0m\n\u001b[1;32m      1\u001b[0m \u001b[0;32mfor\u001b[0m \u001b[0mi\u001b[0m \u001b[0;32min\u001b[0m \u001b[0mrange\u001b[0m\u001b[0;34m(\u001b[0m\u001b[0;36m4\u001b[0m\u001b[0;34m)\u001b[0m \u001b[0;34m:\u001b[0m\u001b[0;34m\u001b[0m\u001b[0;34m\u001b[0m\u001b[0m\n\u001b[0;32m----> 2\u001b[0;31m     \u001b[0my\u001b[0m \u001b[0;34m=\u001b[0m \u001b[0my\u001b[0m\u001b[0;34m+\u001b[0m\u001b[0;36m2\u001b[0m\u001b[0;34m\u001b[0m\u001b[0;34m\u001b[0m\u001b[0m\n\u001b[0m",
            "\u001b[0;31mNameError\u001b[0m: name 'y' is not defined"
          ]
        }
      ]
    },
    {
      "cell_type": "markdown",
      "metadata": {
        "id": "Cb7q5EutC9Si",
        "colab_type": "text"
      },
      "source": [
        "Il faut d'abord initialiser y"
      ]
    },
    {
      "cell_type": "code",
      "metadata": {
        "id": "iUsf1ym9u47G",
        "colab_type": "code",
        "colab": {
          "base_uri": "https://localhost:8080/",
          "height": 130
        },
        "outputId": "5fd69efd-541d-48db-80e8-f2606fb58892"
      },
      "source": [
        "for k in range(4):\n",
        "    print('Bonjour')\n",
        "     print(k)\n"
      ],
      "execution_count": 16,
      "outputs": [
        {
          "output_type": "error",
          "ename": "IndentationError",
          "evalue": "ignored",
          "traceback": [
            "\u001b[0;36m  File \u001b[0;32m\"<ipython-input-16-56624b18ebc9>\"\u001b[0;36m, line \u001b[0;32m3\u001b[0m\n\u001b[0;31m    print(k)\u001b[0m\n\u001b[0m    ^\u001b[0m\n\u001b[0;31mIndentationError\u001b[0m\u001b[0;31m:\u001b[0m unexpected indent\n"
          ]
        }
      ]
    },
    {
      "cell_type": "markdown",
      "metadata": {
        "id": "_LKl3EZ1vyvX",
        "colab_type": "text"
      },
      "source": [
        "Même s'il ne produit pas d'erreur, le code suivant est à éviter!\n",
        "\n",
        "\n",
        "[voir python tutor](http://www.pythontutor.com/visualize.html#code=for%20x%20in%20range%285%29%3A%0A%20%20%20%20x%20%3D%20x**2%0A%20%20%20%20print%28x%29&cumulative=false&curInstr=0&heapPrimitives=nevernest&mode=display&origin=opt-frontend.js&py=3&rawInputLstJSON=%5B%5D&textReferences=false)"
      ]
    },
    {
      "cell_type": "code",
      "metadata": {
        "id": "0oTigwXAvJMt",
        "colab_type": "code",
        "colab": {
          "base_uri": "https://localhost:8080/",
          "height": 102
        },
        "outputId": "3bd00a5b-aacf-4eb8-afb4-a6a02bc13d9c"
      },
      "source": [
        "for x in range(5):\n",
        "    x = x**2\n",
        "    print(x)"
      ],
      "execution_count": 17,
      "outputs": [
        {
          "output_type": "stream",
          "text": [
            "0\n",
            "1\n",
            "4\n",
            "9\n",
            "16\n"
          ],
          "name": "stdout"
        }
      ]
    },
    {
      "cell_type": "markdown",
      "metadata": {
        "id": "-JZ7_VbKwCzE",
        "colab_type": "text"
      },
      "source": [
        "# Les subtilités de la commande `range`"
      ]
    },
    {
      "cell_type": "markdown",
      "metadata": {
        "id": "n86yXE0cwHWj",
        "colab_type": "text"
      },
      "source": [
        "La commande range accepte jusqu'à 3 arguments. \n",
        "\n",
        "* `range(n)` => indice de boucle de `0` inclus à `n` exclu \n",
        "* `range(n, k)` => indice de boucle de `n` inclus à `k` exclu \n",
        "* `range(n, k, p)` => indice de boucle de `n` inclus à `k` exclu par sauts de `p`\n",
        "\n",
        "On peut visualiser facilement le valeurs de l'indice de boucle, en les faisant aficher\n"
      ]
    },
    {
      "cell_type": "code",
      "metadata": {
        "id": "7Y6jyRr4wCHJ",
        "colab_type": "code",
        "colab": {}
      },
      "source": [
        "for i in range(5) : \n",
        "    print(i)\n"
      ],
      "execution_count": null,
      "outputs": []
    },
    {
      "cell_type": "code",
      "metadata": {
        "id": "iqNyZ8NWw_2L",
        "colab_type": "code",
        "colab": {}
      },
      "source": [
        "for j in range(2, 12) : \n",
        "    print(j)\n",
        "\n"
      ],
      "execution_count": null,
      "outputs": []
    },
    {
      "cell_type": "code",
      "metadata": {
        "id": "jURs6fF5xEu6",
        "colab_type": "code",
        "colab": {}
      },
      "source": [
        "for x in range(10, 40, 5) : \n",
        "    print(x)\n"
      ],
      "execution_count": null,
      "outputs": []
    },
    {
      "cell_type": "code",
      "metadata": {
        "id": "E4JWtFzuxgAE",
        "colab_type": "code",
        "colab": {}
      },
      "source": [
        "for z in range(5, 0, -1) :\n",
        "    print(z)"
      ],
      "execution_count": null,
      "outputs": []
    },
    {
      "cell_type": "markdown",
      "metadata": {
        "id": "aYG3CWP9xNRm",
        "colab_type": "text"
      },
      "source": [
        "On peut enfin visualiser les valeurs de range(...) en les mettant dans une liste"
      ]
    },
    {
      "cell_type": "code",
      "metadata": {
        "id": "XG-lVnHixUpp",
        "colab_type": "code",
        "colab": {}
      },
      "source": [
        "list(range(10,  0, -2 ))"
      ],
      "execution_count": null,
      "outputs": []
    },
    {
      "cell_type": "markdown",
      "metadata": {
        "id": "KbIUlNdiFgHt",
        "colab_type": "text"
      },
      "source": [
        "# Une boucle dans une boucle"
      ]
    },
    {
      "cell_type": "markdown",
      "metadata": {
        "id": "DtGkV3eEFi5-",
        "colab_type": "text"
      },
      "source": [
        "Il est possible d'écrire une boucle à l'intérieur du corps d'une autre boucle. Cet usage sera approfondi par la suite, maie en voici déjà un exemple :"
      ]
    },
    {
      "cell_type": "code",
      "metadata": {
        "id": "gYjnjzGGFsfN",
        "colab_type": "code",
        "colab": {}
      },
      "source": [
        "for i in range(1,5) :\n",
        "    print(\"i = \", i)\n",
        "    for j in range(i) : \n",
        "        print('    j =', j)\n",
        "    print(\"    fin de boucle sur j\")\n",
        "print(\"fin de boucle sur i\")"
      ],
      "execution_count": null,
      "outputs": []
    }
  ]
}