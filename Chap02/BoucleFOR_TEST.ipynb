{
  "nbformat": 4,
  "nbformat_minor": 0,
  "metadata": {
    "colab": {
      "name": "02-BoucleFOR_TEST.ipynb",
      "provenance": [],
      "collapsed_sections": [],
      "authorship_tag": "ABX9TyPkiAj0DrYtn5hbBbOQCk3k",
      "include_colab_link": true
    },
    "kernelspec": {
      "name": "python3",
      "display_name": "Python 3"
    }
  },
  "cells": [
    {
      "cell_type": "markdown",
      "metadata": {
        "id": "view-in-github",
        "colab_type": "text"
      },
      "source": [
        "<a href=\"https://colab.research.google.com/github/thfruchart/1nsi-2020/blob/master/Chap02/BoucleFOR_TEST.ipynb\" target=\"_parent\"><img src=\"https://colab.research.google.com/assets/colab-badge.svg\" alt=\"Open In Colab\"/></a>"
      ]
    },
    {
      "cell_type": "markdown",
      "metadata": {
        "id": "b1MrPNmBl0Ru",
        "colab_type": "text"
      },
      "source": [
        "# Déterminer de tête les affichages produits par les programmes suivants.\n",
        "\n",
        "Vérifier ensuite, en exécutant chaque cellule."
      ]
    },
    {
      "cell_type": "code",
      "metadata": {
        "id": "rCcPEIdvluTB",
        "colab_type": "code",
        "colab": {}
      },
      "source": [
        "for _ in range(5): print('Hello')"
      ],
      "execution_count": null,
      "outputs": []
    },
    {
      "cell_type": "code",
      "metadata": {
        "id": "lPls927pmEJw",
        "colab_type": "code",
        "colab": {}
      },
      "source": [
        "for i in range(3) : \n",
        "    print('Hello')\n",
        "    print(i)\n",
        "print('fin')"
      ],
      "execution_count": null,
      "outputs": []
    },
    {
      "cell_type": "code",
      "metadata": {
        "id": "d_6vz96wmVhy",
        "colab_type": "code",
        "colab": {}
      },
      "source": [
        "for k in range(1,10) :\n",
        "    print(k)"
      ],
      "execution_count": null,
      "outputs": []
    },
    {
      "cell_type": "code",
      "metadata": {
        "id": "85oJo0VimYcD",
        "colab_type": "code",
        "colab": {}
      },
      "source": [
        "for z in range(0,12,4) :\n",
        "    print(z)"
      ],
      "execution_count": null,
      "outputs": []
    },
    {
      "cell_type": "code",
      "metadata": {
        "id": "yyQ-xQfKmlTr",
        "colab_type": "code",
        "colab": {}
      },
      "source": [
        "for cpt in range(5,0,-1) : \n",
        "    print(cpt)\n",
        "print('Feu')"
      ],
      "execution_count": null,
      "outputs": []
    },
    {
      "cell_type": "code",
      "metadata": {
        "id": "I430EFoZmx9b",
        "colab_type": "code",
        "colab": {}
      },
      "source": [
        "for cpt in range(5,-1,-1) : \n",
        "    print(cpt)\n",
        "    print('...')"
      ],
      "execution_count": null,
      "outputs": []
    }
  ]
}