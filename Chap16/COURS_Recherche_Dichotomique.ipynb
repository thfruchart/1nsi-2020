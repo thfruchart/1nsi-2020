{
  "nbformat": 4,
  "nbformat_minor": 0,
  "metadata": {
    "colab": {
      "name": "Chap16_COURS_Recherche_Dichotomique.ipynb",
      "provenance": [],
      "collapsed_sections": [],
      "authorship_tag": "ABX9TyMo1f+Tnz3OGt3x9I0vmZOe",
      "include_colab_link": true
    },
    "kernelspec": {
      "name": "python3",
      "display_name": "Python 3"
    },
    "language_info": {
      "name": "python"
    }
  },
  "cells": [
    {
      "cell_type": "markdown",
      "metadata": {
        "id": "view-in-github",
        "colab_type": "text"
      },
      "source": [
        "<a href=\"https://colab.research.google.com/github/thfruchart/1nsi-2020/blob/master/Chap16/COURS_Recherche_Dichotomique.ipynb\" target=\"_parent\"><img src=\"https://colab.research.google.com/assets/colab-badge.svg\" alt=\"Open In Colab\"/></a>"
      ]
    },
    {
      "cell_type": "markdown",
      "metadata": {
        "id": "QvNlP_2QGs-2"
      },
      "source": [
        "# Recherche dichotomique dans un tableau trié"
      ]
    },
    {
      "cell_type": "markdown",
      "metadata": {
        "id": "D26JU7CCHuL9"
      },
      "source": [
        "## 1. Recherche en temps linéaire"
      ]
    },
    {
      "cell_type": "markdown",
      "metadata": {
        "id": "YoHs4mYAGv-j"
      },
      "source": [
        "Pour rechercher si une valeur v appartient ou non à un tableau t, il faut parfois parcourir **toutes** les valeurs de t : c'est le cas lorsque\n",
        "1. on souhaite compter le nombre total d'occurrences de la valeur v dans t\n",
        "2. et lorsque v ne figure **pas** dans le tableau : dans ce cas la vérification doit se faire jusqu'à la dernière cellule de t.\n",
        "\n"
      ]
    },
    {
      "cell_type": "code",
      "metadata": {
        "id": "7emQa19YLKqF"
      },
      "source": [
        "def est_present(t, v) :\n",
        "    for i in range(len(t)):\n",
        "        if t[i] == v :\n",
        "            return True\n",
        "    return False"
      ],
      "execution_count": null,
      "outputs": []
    },
    {
      "cell_type": "markdown",
      "metadata": {
        "id": "N_LbPBaoLFZt"
      },
      "source": [
        "Le temps d'exécution (dans le pire des cas) est alors proportionnel à la taille du tableau.\n",
        "* on dit que la complexité en temps de la recherche est **linéaire**.\n",
        "*  Si on note $n$ la taille du tableau, on dit que le temps d'execution $T(n)$ est de l'ordre de n, et on note $T(n) = O(n)$."
      ]
    },
    {
      "cell_type": "markdown",
      "metadata": {
        "id": "e-Dynx4zHzFW"
      },
      "source": [
        "## 2. Amélioration si le tableau est trié"
      ]
    },
    {
      "cell_type": "markdown",
      "metadata": {
        "id": "ZygN4nl1H3OD"
      },
      "source": [
        "Pour améliorer l'efficacité de la recherche, on peut trier le tableau t.\n",
        "\n",
        "Dans ce cas, la recherche d'une valeur v dans t peut se faire suivant une méthode dichotomique : le principe consiste à \"couper en deux\" la zone de recherche à chaque étape. \n",
        "\n",
        "Principe de la recherche dichotomique:\n",
        "* initialement la zone de recherche contient la totalité du tableau.\n",
        "* à chaque étape :\n",
        "   * on détermine la cellule médiane de la zone de recherche\n",
        "   * on compare la valeur v avec cette valeur médiane : \n",
        "   * si elles sont indentiques, la recherche s'arrête.\n",
        "   * sinon on restreint la zone de recherche, soit à gauche, soit à droite de la valeur médiane. \n",
        "\n",
        "\n",
        "\n",
        "\n",
        "```\n",
        "tableau trié t |. . .      . . .|. . .      . . .|. . .      |\n",
        "    indice      0                g       m      d             len(t)\n",
        "```\n",
        "\n"
      ]
    },
    {
      "cell_type": "markdown",
      "metadata": {
        "id": "DpIvg2eMSPKG"
      },
      "source": [
        "### Fonction recherche dichotomique"
      ]
    },
    {
      "cell_type": "code",
      "metadata": {
        "id": "O6E2WPFyGfD4"
      },
      "source": [
        "def recherche_dicho(t, v):\n",
        "    g = 0 # indice gauche de la zone de recherche\n",
        "    d = len(t) - 1  # indice droit de la zone de recherche\n",
        "    while (g <= d) :\n",
        "        m = (g + d) // 2  # indice médian de la zone de recherche\n",
        "        if t[m] == v:\n",
        "                return True\n",
        "        elif t[m] < v:\n",
        "                g = m + 1\n",
        "        else:# v < t[m]\n",
        "                d = m - 1\n",
        "    return False"
      ],
      "execution_count": null,
      "outputs": []
    },
    {
      "cell_type": "markdown",
      "metadata": {
        "id": "5dxszx9EJVuD"
      },
      "source": [
        "### a) Terminaison de l'algorithme"
      ]
    },
    {
      "cell_type": "markdown",
      "metadata": {
        "id": "cZ7hvq9zJbIV"
      },
      "source": [
        "L'algorithme utilise une boucle non bornée, `while`. A priori, cette boucle pourrait ne pas se terminer.\n",
        "\n",
        "Pour prouver la terminaison de cette boucle, on utilise la technique du **variant**.\n",
        "\n",
        "**Travail à faire** :\n",
        "Déterminer une expression qui est un variant de cette boucle, c'est à dire\n",
        "* un nombre entier naturel\n",
        "* qui décroît strictement à chaque itération de la boucle"
      ]
    },
    {
      "cell_type": "markdown",
      "metadata": {
        "id": "lY4vNU4kJ4oc"
      },
      "source": [
        "**Réponse** : **`d-g`** est un variant de la boucle while."
      ]
    },
    {
      "cell_type": "markdown",
      "metadata": {
        "id": "cztYHlgtQE8w"
      },
      "source": [
        "**Raisonnement** : on prouve que c'est bien un variant de boucle en deux temps.\n",
        "\n",
        "1. C'est un entier car g et d sont deux entiers naturels et m est le résultat de la **division entière** de (g+d) par 2. \n",
        "\n",
        "\n",
        "\n",
        "2. cet entier décroît strictement dans la boucle `while` car... \n",
        "\n",
        "\n",
        "* la boucle while s'exécute à condition que ` g<=d` \n",
        "*  `m =(g+d)//2` donc `m` est un nombre compris entre `g` et `d` au sens large : `g <= m <= d`\n",
        "\n",
        "Ensuite 3 cas sont possibles : \n",
        "* if t[m] == v: on sort de la boucle . Il n'y a rien à démontrer, car la fonction se termine immédiatement.\n",
        "* sinon, soit g = m + 1 donc g augmente  => (d-g) diminue strictement\n",
        "* sinon, d = m-1, donc d diminue => (d-g) diminue strictement\n"
      ]
    },
    {
      "cell_type": "markdown",
      "metadata": {
        "id": "PiVM1HVzKZXn"
      },
      "source": [
        "### b) Correction de l'algorithme"
      ]
    },
    {
      "cell_type": "markdown",
      "metadata": {
        "id": "GC_iI_WqKcA3"
      },
      "source": [
        "Pour vérifier que l'algorithme est **correct**, on peut bien sûr élaborer des tests.\n",
        "\n",
        "Ici, on va **prouver** la correction de cet algorithme avec un **invariant de boucle**, c'est à dire une propriété\n",
        "* qui est vraie avant le début de la boucle, \n",
        "* et qui reste vraie à chaque itération. "
      ]
    },
    {
      "cell_type": "code",
      "metadata": {
        "id": "0rTzENlqK2f7"
      },
      "source": [
        "def recherche_dicho(t, v):\n",
        "    g = 0 \n",
        "    d = len(t) - 1  \n",
        "    # invariant  :  v ne figure pas dans le tableau en dehors de la zone de recherche\n",
        "    # c'est à dire que t[:g] ne contient pas v\n",
        "    # et que t[d+1:] ne contient pas v\n",
        "    while (g <= d) :\n",
        "        m = (g + d) // 2  \n",
        "        if t[m] == v:\n",
        "                return True\n",
        "        elif t[m] < v:\n",
        "                g = m + 1\n",
        "        else:#t[m] > v\n",
        "                d = m - 1\n",
        "    return False"
      ],
      "execution_count": null,
      "outputs": []
    },
    {
      "cell_type": "markdown",
      "metadata": {
        "id": "QUHBvearSlSs"
      },
      "source": [
        "```\n",
        "                      t[:g]                           t[d+1:]              \n",
        "                ________________                  ___________\n",
        "tableau trié t |. . .      . . .|. . .      . . .|. . .      |\n",
        "    indice      0                g       m      d \n",
        "```"
      ]
    },
    {
      "cell_type": "markdown",
      "metadata": {
        "id": "EewVVs9pNAeC"
      },
      "source": [
        "* avant le début de la boucle, `g = 0` et\n",
        "`d = len(t)-1` donc `t[:g]` et `t[d+1:`] sont des tableaux vides. On en déduit que `v` n'y figure pas !\n",
        "\n",
        "* à chaque itération, la condition ` g<=d` est vérifiée,  et  on calcule `m =(g+d)//2` donc `m` est un nombre compris entre `g` et `d` au sens large : `g <= m <= d`\n",
        "   * si `t[m] == v` alors la fonction prend fin et la valeur renvoyée, `True`,  est évidemment correcte puisque `v` figure dans le tableau `t` à l'indice `m` !\n",
        "   * sinon, si `t[m] < v`, puisque le tableau t est **trié**, on peut dire que `v` ne figure pas dans `t[:m+1]`. En fin de boucle, m+1 est la nouvelle valeur de g donc v en figure pas dans `t[:g]`\n",
        "   * enfin, dans le dernier cas, `t[m] > v` autrement dit `v<t[m]`et  puisque le tableau t est **trié**, on peut dire que `v` ne figure pas dans `t[m:]`. En fin de boucle, `d = m - 1` donc `m= d + 1`. On en déduit que `v` ne figure pas dans `t[d+1:]`\n",
        "\n",
        "* ceci permet de conclure qu'à la sortie de la boucle while, \n",
        "   * on a : `g > d` donc `g>= d+1`\n",
        "   * v ne figure ni dans `t[:g]` ni dans `t[d+1:]`\n",
        "   * donc `v` ne figure à aucun des indices du tableau `t` : dans ce cas, la fonction renvoie False, qui est donc la valeur correcte. \n",
        "\n"
      ]
    },
    {
      "cell_type": "markdown",
      "metadata": {
        "id": "57ez5WivUW_v"
      },
      "source": [
        "## Complexité en temps de la recherche dichotomique"
      ]
    },
    {
      "cell_type": "markdown",
      "metadata": {
        "id": "clCYpIYZUc7p"
      },
      "source": [
        "**Propriété** :\n",
        "Si la taille  du tableau est  $n < 2^k$, alors la recherche dichotomique nécessite au maximum $k$ passages dans la boucle while. \n",
        "\n",
        "Chaque passage dans la boucle while s'exécute en \"temps constant\", donc la complexité en temps de la recherche dichotomique est de l'ordre de $k$ pour un tableau de taille $n < 2^k$\n",
        "\n"
      ]
    },
    {
      "cell_type": "code",
      "metadata": {
        "id": "cTxhP9xdWnip"
      },
      "source": [
        "from math import log2\n",
        "\n",
        "for k in range(1,9):\n",
        "    n = 2**k\n",
        "    print(\"k =\",k,\"et n=\", n,\"ou\", bin(n), f\" et log2({n}) =\", log2(n))"
      ],
      "execution_count": null,
      "outputs": []
    },
    {
      "cell_type": "code",
      "metadata": {
        "id": "kiOkKYZ9I7q_"
      },
      "source": [
        "bin(2021), log2(2021)"
      ],
      "execution_count": null,
      "outputs": []
    },
    {
      "cell_type": "markdown",
      "metadata": {
        "id": "J0QRne8KJq3M"
      },
      "source": [
        "Pour $x>0$,  $log_2(x)$ est **environ** égal au **nombre de chiffres de l'écriture binaire de x** (à une unité près). "
      ]
    },
    {
      "cell_type": "markdown",
      "metadata": {
        "id": "vWVpALnlXhIO"
      },
      "source": [
        "Vocabulaire : \n",
        "* $n = 2^k$  est appelé exponentielle (base 2) de k\n",
        "* $k$ est appelé logarithme (base 2) de $n$\n",
        "\n",
        "#### **PROPRIÉTÉ :**\n",
        "on dit que la **complexité en temps** de la recherche **dichotomique** sur un tableau trié de taille $n$ est **logarithmique** et on note $T(n) = O(log_2 (n))$"
      ]
    },
    {
      "cell_type": "markdown",
      "metadata": {
        "id": "7W-4gW6WZF7g"
      },
      "source": [
        "#### Chronométrage"
      ]
    },
    {
      "cell_type": "markdown",
      "metadata": {
        "id": "aEFwSEl2ZIu0"
      },
      "source": [
        "Recherche dichotomique vs recherche linéaire dans le pire des cas."
      ]
    },
    {
      "cell_type": "code",
      "metadata": {
        "id": "15794NeSMEsR",
        "colab": {
          "base_uri": "https://localhost:8080/",
          "height": 265
        },
        "outputId": "af658698-078d-4df9-85e7-8625d424a5e9"
      },
      "source": [
        "import numpy as np\n",
        "import matplotlib.pyplot as plt\n",
        "from time import perf_counter\n",
        "from math import log2\n",
        "\n",
        "def chrono_recherche_dicho_sur_taille(n):\n",
        "    ''' renvoie le temps (en milliseconde) d'exécution de \n",
        "    la recherche dichotomique dans le PIRE des cas\n",
        "    sur un tableau de taille n '''\n",
        "    t = [0 for i in range(n)]\n",
        "    start = perf_counter()\n",
        "    recherche_dicho(t,1)\n",
        "    stop = perf_counter()\n",
        "    return 1000*(stop - start)\n",
        "\n",
        "\n",
        "def chrono_est_present_sur_taille(n):\n",
        "    ''' renvoie le temps (en milliseconde) d'exécution de \n",
        "    la recherche linéaire dans le PIRE des cas\n",
        "    sur un tableau de taille n '''\n",
        "    t = [0 for i in range(n)]\n",
        "    start = perf_counter()\n",
        "    est_present(t,1)\n",
        "    stop = perf_counter()\n",
        "    return 1000*(stop - start)\n",
        "# Tri sur des tableaux de taille 100, 200, ... 1000\n",
        "abs = []\n",
        "ord_dicho = []\n",
        "ord_lin = []\n",
        "debut = 10000\n",
        "fin = 200000\n",
        "pas = 10000\n",
        "for n in range(debut,fin + 1,pas):\n",
        "    abs.append(n)\n",
        "    ord_dicho.append(chrono_recherche_dicho_sur_taille(n))\n",
        "    ord_lin.append(chrono_est_present_sur_taille(n))\n",
        "# graphique\n",
        "plt.plot(np.array(abs), np.array(ord_dicho),  \"b:o\",label=\"recherche dichotomique\")\n",
        "plt.plot(np.array(abs), np.array(ord_lin),\"r:o\",label=\"recherche linéaire\")\n",
        "plt.legend()\n",
        "plt.show() # affiche la figure a l'ecran"
      ],
      "execution_count": null,
      "outputs": [
        {
          "output_type": "display_data",
          "data": {
            "image/png": "[encoded data removed]",
            "text/plain": [
              "<Figure size 432x288 with 1 Axes>"
            ]
          },
          "metadata": {
            "tags": [],
            "needs_background": "light"
          }
        }
      ]
    },
    {
      "cell_type": "markdown",
      "metadata": {
        "id": "i4nDiIdMV8wr"
      },
      "source": [
        "# Que retenir ?\n",
        "### Au moins... \n",
        "\n",
        "* Une recherche dichotomique ne peut se faire que sur un tableau trié.\n",
        "* Une recherche dichotomique consiste à systématiquement découper la zone de recherche en deux jusqu'à trouver (ou non) la valeur cherchée :\n",
        "   * La zone de recherche est délimitée par un indice de début et un indice de fin.\n",
        "   * On teste si la valeur médiane de cette valeur de recherche est égale à la valeur cherchée.\n",
        "   * Tant que l'on n'a pas trouvé la valeur cherchée, on restreint la zone de recherche en déplaçant l'indice de début ou l'indice de fin.\n",
        "   * Si, à l'issue de ces redécoupages successifs, la zone de recherche se réduit à une seule valeur et qu'on a toujours pas trouvé la valeur cherchée, c'est que la valeur est absente du tableau.\n",
        "* Le **variant** permettant de prouver la **terminaison** de l'algorithme est la différence (indice_de_fin - indice_debut).\n",
        "\n",
        "### Au mieux...\n",
        "\n",
        "* Savoir démontrer la terminaison de l'algorithme dichotomique.\n",
        "* Comprendre la correction de l'algorithme dichotomique.\n",
        "* La complexité d'un algorithme dichotomique est de O(Log(n))."
      ]
    }
  ]
}