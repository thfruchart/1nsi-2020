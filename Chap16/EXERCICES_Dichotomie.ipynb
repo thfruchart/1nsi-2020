{
  "nbformat": 4,
  "nbformat_minor": 0,
  "metadata": {
    "colab": {
      "name": "Chap16_EXERCICES_Dichotomie.ipynb",
      "provenance": [],
      "collapsed_sections": [],
      "authorship_tag": "ABX9TyNc7zjdUv45QETEQ11LaroT",
      "include_colab_link": true
    },
    "kernelspec": {
      "name": "python3",
      "display_name": "Python 3"
    }
  },
  "cells": [
    {
      "cell_type": "markdown",
      "metadata": {
        "id": "view-in-github",
        "colab_type": "text"
      },
      "source": [
        "<a href=\"https://colab.research.google.com/github/thfruchart/1nsi-2020/blob/master/Chap16/EXERCICES_Dichotomie.ipynb\" target=\"_parent\"><img src=\"https://colab.research.google.com/assets/colab-badge.svg\" alt=\"Open In Colab\"/></a>"
      ]
    },
    {
      "cell_type": "markdown",
      "metadata": {
        "id": "LwbJo5rP3MU9"
      },
      "source": [
        "## Exercice 1"
      ]
    },
    {
      "cell_type": "markdown",
      "metadata": {
        "id": "6AfdSWuo2u0u"
      },
      "source": [
        "On donne la fonction suivante : "
      ]
    },
    {
      "cell_type": "code",
      "metadata": {
        "id": "iKQCE9Lp2rLd"
      },
      "source": [
        "def recherche_dicho(t, v):\n",
        "    g = 0 # indice gauche de la zone de recherche\n",
        "    d = len(t) - 1  # indice droit de la zone de recherche\n",
        "    while (g <= d) :\n",
        "        m = (g + d) // 2  # indice médian de la zone de recherche\n",
        "        if t[m] == v:\n",
        "                return True\n",
        "        elif t[m] < v:\n",
        "                g = m + 1\n",
        "        else:\n",
        "                d = m - 1\n",
        "    return False\n",
        "\n",
        "def compte_recherche_dicho(t, v):\n",
        "    cpt = 0\n",
        "    g = 0 # indice gauche de la zone de recherche\n",
        "    d = len(t) - 1  # indice droit de la zone de recherche\n",
        "    while (g <= d) :\n",
        "        cpt += 1\n",
        "        m = (g + d) // 2  # indice médian de la zone de recherche\n",
        "        if t[m] == v:\n",
        "                return cpt\n",
        "        elif t[m] < v:\n",
        "                g = m + 1\n",
        "        else:\n",
        "                d = m - 1\n",
        "    return cpt"
      ],
      "execution_count": null,
      "outputs": []
    },
    {
      "cell_type": "markdown",
      "metadata": {
        "id": "p9E6lfcv28ua"
      },
      "source": [
        "#### Combien de fois la boucle while de la fonction `recherche_dicho`  sera-t-elle exécutée dans chacun des cas suivants ? \n",
        "\n",
        "1. on cherche si 5  est présent dans `[1,2,3,4,5,6,7,8,9,10]`\n",
        "2. on cherche si 5  est présent dans `[1,2,3,4,5,6,7,8,9,10,11]`\n",
        "3. on cherche si 5 est présent dans ` [0,0,0,0,0,0,0,0,0,0]`\n",
        "4. on cherche si 1 est présent dans : `[0 for i in range(1000)]`"
      ]
    },
    {
      "cell_type": "markdown",
      "metadata": {
        "id": "1eGMTyOFVTZ_"
      },
      "source": [
        "Tester vos réponses en utilisant la fonction `compte_recherche_dicho`"
      ]
    },
    {
      "cell_type": "code",
      "metadata": {
        "id": "WVVGvKMyVYfy"
      },
      "source": [
        ""
      ],
      "execution_count": null,
      "outputs": []
    },
    {
      "cell_type": "markdown",
      "metadata": {
        "id": "jCGdy2Zl3VSQ"
      },
      "source": [
        "## Exercice 2"
      ]
    },
    {
      "cell_type": "code",
      "metadata": {
        "id": "mGd5d1O23ZEu"
      },
      "source": [
        "def recherche_incorrecte(t, v):\n",
        "    g = 0 # indice gauche de la zone de recherche\n",
        "    d = len(t) - 1  # indice droit de la zone de recherche\n",
        "    while (g <= d) :\n",
        "        m = (g + d) // 2  # indice médian de la zone de recherche\n",
        "        if t[m] == v:\n",
        "                return True\n",
        "        elif t[m] < v:\n",
        "                g = m + 2\n",
        "        else:\n",
        "                d = m - 2\n",
        "    return False"
      ],
      "execution_count": null,
      "outputs": []
    },
    {
      "cell_type": "markdown",
      "metadata": {
        "id": "CjCYwuGVWj2G"
      },
      "source": [
        "Trouver un tableau `t` et une valeur `v` pour lequels la fonction ci-dessus ne renvoie pas la valeur attendue.\n",
        "\n",
        "On pourra choisir une valeur v qui figure dans le tableau t, et pour laquelle `recherche_incorrecte(t, v)` renvoie `False`"
      ]
    },
    {
      "cell_type": "markdown",
      "metadata": {
        "id": "kzMnYI24Wbnl"
      },
      "source": [
        "## Exercice 3"
      ]
    },
    {
      "cell_type": "code",
      "metadata": {
        "id": "cJaTIpPhWbnm"
      },
      "source": [
        "def recherche_presque_correcte(t, v):\n",
        "    g = 0 # indice gauche de la zone de recherche\n",
        "    d = len(t) - 1  # indice droit de la zone de recherche\n",
        "    while (g <= d) :\n",
        "        m = (g + d) // 2  # indice médian de la zone de recherche\n",
        "        if t[m] == v:\n",
        "                return True\n",
        "        elif t[m] < v:\n",
        "                g = m \n",
        "        else:\n",
        "                d = m \n",
        "    return False"
      ],
      "execution_count": null,
      "outputs": []
    },
    {
      "cell_type": "markdown",
      "metadata": {
        "id": "Goe98weUW9XF"
      },
      "source": [
        "Trouver un tableau `t` et une valeur `v` pour lequels la fonction ci-dessus ne renvoie pas la valeur attendue.\n",
        "\n",
        "On pourra choisir une valeur v qui ne figure pas dans le tableau t, et pour laquelle `recherche_incorrecte(t, v)` ... ne renvoie rien !"
      ]
    }
  ]
}