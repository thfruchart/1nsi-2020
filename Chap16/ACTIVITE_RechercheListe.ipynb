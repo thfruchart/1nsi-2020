{
  "nbformat": 4,
  "nbformat_minor": 0,
  "metadata": {
    "colab": {
      "name": "Chap16_ACTIVITE_RechercheListe.ipynb",
      "provenance": [],
      "collapsed_sections": [],
      "authorship_tag": "ABX9TyMWXrEwIzzCVH7xa3zAsooa",
      "include_colab_link": true
    },
    "kernelspec": {
      "name": "python3",
      "display_name": "Python 3"
    }
  },
  "cells": [
    {
      "cell_type": "markdown",
      "metadata": {
        "id": "view-in-github",
        "colab_type": "text"
      },
      "source": [
        "<a href=\"https://colab.research.google.com/github/thfruchart/1nsi-2020/blob/master/Chap16/ACTIVITE_RechercheListe.ipynb\" target=\"_parent\"><img src=\"https://colab.research.google.com/assets/colab-badge.svg\" alt=\"Open In Colab\"/></a>"
      ]
    },
    {
      "cell_type": "markdown",
      "metadata": {
        "id": "0NCZOOSj2rwn"
      },
      "source": [
        "# Rechercher une valeur dans une liste"
      ]
    },
    {
      "cell_type": "markdown",
      "metadata": {
        "id": "LwbJo5rP3MU9"
      },
      "source": [
        "## Exemple 1"
      ]
    },
    {
      "cell_type": "markdown",
      "metadata": {
        "id": "6AfdSWuo2u0u"
      },
      "source": [
        "On donne la fonction suivante : "
      ]
    },
    {
      "cell_type": "code",
      "metadata": {
        "id": "iKQCE9Lp2rLd",
        "outputId": "b50ce668-c632-4a90-ab57-47c635564983",
        "colab": {
          "base_uri": "https://localhost:8080/"
        }
      },
      "source": [
        "def est_present(t, e) :\n",
        "    for i in range(len(t)):\n",
        "        if t[i] == e :\n",
        "            return True\n",
        "    return False\n",
        "    \n",
        "print(est_present([3,5,12,15,48],4))\n",
        "print(est_present([3,5,12,15,48],3))"
      ],
      "execution_count": 1,
      "outputs": [
        {
          "output_type": "stream",
          "text": [
            "False\n",
            "True\n"
          ],
          "name": "stdout"
        }
      ]
    },
    {
      "cell_type": "markdown",
      "metadata": {
        "id": "BrLfxTGCWMlJ"
      },
      "source": [
        "1. effectuer le suivi des variables lorsqu'on exécute : \n",
        "`est_present([3,5,12,15,48],4)`\n",
        "1. effectuer le suivi des variables lorsqu'on exécute : \n",
        "`est_present([3,5,12,15,48],3)`\n",
        "\n",
        "Vérifier sur PythonTutor:\n",
        "* [est_present([3,5,12,15,48],4)](http://www.pythontutor.com/visualize.html#code=def%20est_present%28t,%20e%29%20%3A%0A%20%20%20%20for%20i%20in%20range%28len%28t%29%29%3A%0A%20%20%20%20%20%20%20%20if%20t%5Bi%5D%20%3D%3D%20e%20%3A%0A%20%20%20%20%20%20%20%20%20%20%20%20return%20True%0A%20%20%20%20return%20False%0A%20%20%20%20%0Aprint%28est_present%28%5B3,5,12,15,48%5D,4%29%29&cumulative=false&curInstr=0&heapPrimitives=nevernest&mode=display&origin=opt-frontend.js&py=3&rawInputLstJSON=%5B%5D&textReferences=false)\n",
        "* [est_present([3,5,12,15,48],3)](http://www.pythontutor.com/visualize.html#code=def%20est_present%28t,%20e%29%20%3A%0A%20%20%20%20for%20i%20in%20range%28len%28t%29%29%3A%0A%20%20%20%20%20%20%20%20if%20t%5Bi%5D%20%3D%3D%20e%20%3A%0A%20%20%20%20%20%20%20%20%20%20%20%20return%20True%0A%20%20%20%20return%20False%0A%20%20%20%20%0Aprint%28est_present%28%5B3,5,12,15,48%5D,3%29%29&cumulative=false&curInstr=0&heapPrimitives=nevernest&mode=display&origin=opt-frontend.js&py=3&rawInputLstJSON=%5B%5D&textReferences=false)"
      ]
    },
    {
      "cell_type": "markdown",
      "metadata": {
        "id": "p9E6lfcv28ua"
      },
      "source": [
        "#### Combien de fois la boucle for de la fonction `est_present`  sera-t-elle exécutée dans chacun des cas suivants ? \n",
        "\n",
        "1. on cherche si 5  est présent dans `[1,2,3,4,5,6,7,8,9,10]`  => 5 fois\n",
        "2. on cherche si 10 est présent dans `[1,2,3,4,5,6,7,8,9,10]`  => 10 fois\n",
        "3. on cherche si 5 est présent dans `[0,0,0,0,0,0,0,0,0,0]` => 10 fois\n",
        "4. on cherche si 1 est présent dans : `[0 for i in range(1000)] ` => 1000 fois"
      ]
    },
    {
      "cell_type": "markdown",
      "metadata": {
        "id": "jCGdy2Zl3VSQ"
      },
      "source": [
        "## Exemple 2"
      ]
    },
    {
      "cell_type": "code",
      "metadata": {
        "id": "mGd5d1O23ZEu",
        "outputId": "09e20a17-d460-4b03-e351-8d751e14f666",
        "colab": {
          "base_uri": "https://localhost:8080/"
        }
      },
      "source": [
        "def mystere(t, e):\n",
        "    indiceGauche = 0\n",
        "    indiceDroite = len(t) - 1\n",
        "    while (indiceGauche <= indiceDroite) :\n",
        "        indiceMedian = (indiceGauche + indiceDroite) // 2\n",
        "        if t[indiceMedian] == e:\n",
        "                return True\n",
        "        elif t[indiceMedian] < e:\n",
        "                indiceGauche = indiceMedian + 1\n",
        "        else:\n",
        "                indiceDroite = indiceMedian - 1\n",
        "    return False\n",
        "\n",
        "\n",
        "print(mystere([2, 12, 17, 25, 33, 35, 44, 54, 77, 91], 35))\n",
        "print(mystere([2, 12, 17, 25, 33, 35, 44, 54, 77, 91], 50))"
      ],
      "execution_count": 2,
      "outputs": [
        {
          "output_type": "stream",
          "text": [
            "True\n",
            "False\n"
          ],
          "name": "stdout"
        }
      ]
    },
    {
      "cell_type": "markdown",
      "metadata": {
        "id": "EwTtiQiaYS-N"
      },
      "source": [
        "1. effectuer le suivi des variables lorsqu'on exécute : \n",
        "`mystere([2, 12, 17, 25, 33, 35, 44, 54, 77, 91], 35))`\n",
        "1. effectuer le suivi des variables lorsqu'on exécute : \n",
        "`mystere([2, 12, 17, 25, 33, 35, 44, 54, 77, 91], 50))`\n",
        "\n",
        "Vérifier sur PythonTutor:\n",
        "* [mystere([2, 12, 17, 25, 33, 35, 44, 54, 77, 91], 35)](http://www.pythontutor.com/visualize.html#code=def%20mystere%28t,%20e%29%3A%0A%20%20%20%20indiceGauche%20%3D%200%0A%20%20%20%20indiceDroite%20%3D%20len%28t%29%20-%201%0A%20%20%20%20while%20%28indiceGauche%20%3C%3D%20indiceDroite%29%20%3A%0A%20%20%20%20%20%20%20%20indiceMedian%20%3D%20%28indiceGauche%20%2B%20indiceDroite%29%20//%202%0A%20%20%20%20%20%20%20%20if%20t%5BindiceMedian%5D%20%3D%3D%20e%3A%0A%20%20%20%20%20%20%20%20%20%20%20%20%20%20%20%20return%20True%0A%20%20%20%20%20%20%20%20elif%20t%5BindiceMedian%5D%20%3C%20e%3A%0A%20%20%20%20%20%20%20%20%20%20%20%20%20%20%20%20indiceGauche%20%3D%20indiceMedian%20%2B%201%0A%20%20%20%20%20%20%20%20else%3A%0A%20%20%20%20%20%20%20%20%20%20%20%20%20%20%20%20indiceDroite%20%3D%20indiceMedian%20-%201%0A%20%20%20%20return%20False%0A%0A%0Aprint%28mystere%28%5B2,%2012,%2017,%2025,%2033,%2035,%2044,%2054,%2077,%2091%5D,%2035%29%29&cumulative=false&curInstr=0&heapPrimitives=nevernest&mode=display&origin=opt-frontend.js&py=3&rawInputLstJSON=%5B%5D&textReferences=false)\n",
        "* [mystere([2, 12, 17, 25, 33, 35, 44, 54, 77, 91], 50))](http://www.pythontutor.com/visualize.html#code=def%20mystere%28t,%20e%29%3A%0A%20%20%20%20indiceGauche%20%3D%200%0A%20%20%20%20indiceDroite%20%3D%20len%28t%29%20-%201%0A%20%20%20%20while%20%28indiceGauche%20%3C%3D%20indiceDroite%29%20%3A%0A%20%20%20%20%20%20%20%20indiceMedian%20%3D%20%28indiceGauche%20%2B%20indiceDroite%29%20//%202%0A%20%20%20%20%20%20%20%20if%20t%5BindiceMedian%5D%20%3D%3D%20e%3A%0A%20%20%20%20%20%20%20%20%20%20%20%20%20%20%20%20return%20True%0A%20%20%20%20%20%20%20%20elif%20t%5BindiceMedian%5D%20%3C%20e%3A%0A%20%20%20%20%20%20%20%20%20%20%20%20%20%20%20%20indiceGauche%20%3D%20indiceMedian%20%2B%201%0A%20%20%20%20%20%20%20%20else%3A%0A%20%20%20%20%20%20%20%20%20%20%20%20%20%20%20%20indiceDroite%20%3D%20indiceMedian%20-%201%0A%20%20%20%20return%20False%0A%0A%0Aprint%28mystere%28%5B2,%2012,%2017,%2025,%2033,%2035,%2044,%2054,%2077,%2091%5D,%2050%29%29&cumulative=false&curInstr=0&heapPrimitives=nevernest&mode=display&origin=opt-frontend.js&py=3&rawInputLstJSON=%5B%5D&textReferences=false)"
      ]
    },
    {
      "cell_type": "markdown",
      "metadata": {
        "id": "CLlgl9643kAb"
      },
      "source": [
        "#### Questions sur cette fonction `mystere`\n",
        "* A quelle précondition sur le tableau t la fonction mystère permet-elle de détecter la présence d'un élément e dans t ? => **le tableau t doit être trié (dans l'ordre croissant)**\n",
        "* Dans quel cas l'exécution de `mystere(t, e)` est-elle la plus longue possible ? => **quand la valeur cherchée n'est PAS dans le tableau** (ou à l'une des extrémités)"
      ]
    },
    {
      "cell_type": "code",
      "metadata": {
        "id": "AUQga9pvs_2F",
        "outputId": "4f8c7f7e-45e8-4d2a-a046-7efdbf771655",
        "colab": {
          "base_uri": "https://localhost:8080/"
        }
      },
      "source": [
        "mystere([15,18,3,7,0,2021,5,14], 15)"
      ],
      "execution_count": 7,
      "outputs": [
        {
          "output_type": "execute_result",
          "data": {
            "text/plain": [
              "False"
            ]
          },
          "metadata": {
            "tags": []
          },
          "execution_count": 7
        }
      ]
    },
    {
      "cell_type": "markdown",
      "metadata": {
        "id": "3qiPIVJ74Q0Z"
      },
      "source": [
        "## Approche de la complexité en temps de ces deux fonctions"
      ]
    },
    {
      "cell_type": "markdown",
      "metadata": {
        "id": "bJKC5E5zZSV8"
      },
      "source": [
        "## fonction `est_present`"
      ]
    },
    {
      "cell_type": "code",
      "metadata": {
        "id": "DoMV8UQ94XPR",
        "outputId": "88490afe-aa85-4c6e-8a52-c913735576ed",
        "colab": {
          "base_uri": "https://localhost:8080/"
        }
      },
      "source": [
        "def nb_boucles_est_present(t, e) :\n",
        "    cpt = 0\n",
        "    for i in range(len(t)):\n",
        "        cpt += 1\n",
        "        if t[i] == e :\n",
        "            return cpt\n",
        "    return cpt \n",
        "\n",
        "e = int(input('Entrer un entier : '))\n",
        "print(nb_boucles_est_present([10,20,30,40,50,60,70,80,90,100],e))"
      ],
      "execution_count": 12,
      "outputs": [
        {
          "output_type": "stream",
          "text": [
            "Entrer un entier : 2021\n",
            "10\n"
          ],
          "name": "stdout"
        }
      ]
    },
    {
      "cell_type": "markdown",
      "metadata": {
        "id": "PE7pFQpH4mqp"
      },
      "source": [
        "1. Comparer le code de la fonction `est_present` avec celui de `nb_boucles_est_present` => **une nouvelle variable cpt est créée** mais la structure de la fonction est inchangée. La **valeur renvoyée** par la fonction n'est plus True/False, mais la valeur de cpt.\n",
        "2. A quoi correspond la valeur renvoyée par `nb_boucles_est_present(t, e)` ?\n",
        "3. Déterminer pour quelle valeur de `e` le programme de la cellule ci-dessus renvoie :\n",
        "   * 5  => **e=50**\n",
        "   * 2  => **e=20**\n",
        "   * 10  => **e=2021**"
      ]
    },
    {
      "cell_type": "markdown",
      "metadata": {
        "id": "OjDouyLjaowu"
      },
      "source": [
        "## fonction mystere"
      ]
    },
    {
      "cell_type": "markdown",
      "metadata": {
        "id": "PlRpbZ6Wd1j5"
      },
      "source": [
        "1. Ecrire une fonction `nb_boucles_mystere(t, e)` qui renvoie le nombre de boucles effecutées lors de l'exécution de `mystere(t, e)`\n",
        "2. Dans chaque cas, donner une  valeur de `e` telle que : \n",
        "   * `nb_boucles_mystere([10,20,30,40,50,60,70,80,90,100], e)` renvoie 1\n",
        "   * `nb_boucles_mystere([10,20,30,40,50,60,70,80,90,100], e)` renvoie 2\n",
        "   * `nb_boucles_mystere([10,20,30,40,50,60,70,80,90,100], e)` renvoie 3\n",
        "   * `nb_boucles_mystere([10,20,30,40,50,60,70,80,90,100], e)` renvoie la plus grande valeur possible"
      ]
    },
    {
      "cell_type": "code",
      "metadata": {
        "id": "AEkUou-bezG5"
      },
      "source": [
        "def nb_boucles_mystere(t, e):\n",
        "    cpt = 0\n",
        "    indiceGauche = 0\n",
        "    indiceDroite = len(t) - 1\n",
        "    while (indiceGauche <= indiceDroite) :\n",
        "        indiceMedian = (indiceGauche + indiceDroite) // 2\n",
        "        if t[indiceMedian] == e:\n",
        "                return True\n",
        "        elif t[indiceMedian] < e:\n",
        "                indiceGauche = indiceMedian + 1\n",
        "        else:\n",
        "                indiceDroite = indiceMedian - 1\n",
        "    return False"
      ],
      "execution_count": null,
      "outputs": []
    }
  ]
}