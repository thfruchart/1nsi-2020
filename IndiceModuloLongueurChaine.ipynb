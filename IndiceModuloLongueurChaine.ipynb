{
  "nbformat": 4,
  "nbformat_minor": 0,
  "metadata": {
    "colab": {
      "name": "IndiceModuloLongueurChaine.ipynb",
      "provenance": [],
      "authorship_tag": "ABX9TyMbWUwJOvvuAifIlyTWvrc/",
      "include_colab_link": true
    },
    "kernelspec": {
      "name": "python3",
      "display_name": "Python 3"
    }
  },
  "cells": [
    {
      "cell_type": "markdown",
      "metadata": {
        "id": "view-in-github",
        "colab_type": "text"
      },
      "source": [
        "<a href=\"https://colab.research.google.com/github/thfruchart/1nsi-2020/blob/master/IndiceModuloLongueurChaine.ipynb\" target=\"_parent\"><img src=\"https://colab.research.google.com/assets/colab-badge.svg\" alt=\"Open In Colab\"/></a>"
      ]
    },
    {
      "cell_type": "code",
      "metadata": {
        "id": "22kDET8qiedj",
        "colab_type": "code",
        "colab": {}
      },
      "source": [
        "chn = 'BONJOUR'\n",
        "n = len(chn)\n",
        "i = 0\n",
        "while i<n :\n",
        "    car = chn[i*5]\n",
        "    print(car)\n",
        "    i = i+1\n",
        "\n"
      ],
      "execution_count": null,
      "outputs": []
    },
    {
      "cell_type": "code",
      "metadata": {
        "id": "RN54ojPAi_Wo",
        "colab_type": "code",
        "colab": {}
      },
      "source": [
        "chn = 'BONJOUR'\n",
        "n = len(chn)\n",
        "i = 0\n",
        "while i<n :\n",
        "    indice = (i*5)%n\n",
        "    car = chn[indice]\n",
        "    print(car)\n",
        "    i = i+1\n",
        "\n"
      ],
      "execution_count": null,
      "outputs": []
    }
  ]
}