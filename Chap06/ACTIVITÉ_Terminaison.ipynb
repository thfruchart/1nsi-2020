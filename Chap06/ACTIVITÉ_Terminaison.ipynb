{
  "nbformat": 4,
  "nbformat_minor": 0,
  "metadata": {
    "colab": {
      "name": "06-ACTIVITÉ-Terminaison.ipynb",
      "provenance": [],
      "collapsed_sections": [],
      "authorship_tag": "ABX9TyOJTi0oN1RLBqPkpfpQpBhb",
      "include_colab_link": true
    },
    "kernelspec": {
      "name": "python3",
      "display_name": "Python 3"
    }
  },
  "cells": [
    {
      "cell_type": "markdown",
      "metadata": {
        "id": "view-in-github",
        "colab_type": "text"
      },
      "source": [
        "<a href=\"https://colab.research.google.com/github/thfruchart/1nsi-2020/blob/master/Chap06/ACTIVIT%C3%89_Terminaison.ipynb\" target=\"_parent\"><img src=\"https://colab.research.google.com/assets/colab-badge.svg\" alt=\"Open In Colab\"/></a>"
      ]
    },
    {
      "cell_type": "markdown",
      "metadata": {
        "id": "6niFKxf2B5Vt"
      },
      "source": [
        "# Exercice 5  \n",
        "\n",
        "Pour chacun des programmes suivants : \n",
        "\n",
        "**a)** Déterminer une valeur de n pour laquelle le programme termine\n",
        "\n",
        "**b)** Déterminer une valeur de n pour laquelle le programme ne termine pas"
      ]
    },
    {
      "cell_type": "code",
      "metadata": {
        "id": "SAj8If_lCNE4",
        "outputId": "0ed6b0bc-89f1-458f-9d2c-941a901e9154",
        "colab": {
          "base_uri": "https://localhost:8080/"
        }
      },
      "source": [
        "#1\n",
        "n = int(input(\"Entrer n :\"))\n",
        "while n != 0:\n",
        "    n = n-1\n",
        "    print(n)\n",
        "print('Fin')"
      ],
      "execution_count": null,
      "outputs": [
        {
          "output_type": "stream",
          "text": [
            "Entrer n :3\n",
            "2\n",
            "1\n",
            "0\n",
            "Fin\n"
          ],
          "name": "stdout"
        }
      ]
    },
    {
      "cell_type": "code",
      "metadata": {
        "id": "TDZV3m-99iGl"
      },
      "source": [
        "#1\n",
        "n = int(input(\"Entrer n :\"))\n",
        "while n != 0: # arrêt lorsque n==0\n",
        "    n = n-1\n",
        "    print(n)\n",
        "print('Fin')"
      ],
      "execution_count": null,
      "outputs": []
    },
    {
      "cell_type": "code",
      "metadata": {
        "id": "tIeW3Guq-gBG",
        "outputId": "e9d73520-d83c-4aa3-d0c9-e529d903a7b5",
        "colab": {
          "base_uri": "https://localhost:8080/"
        }
      },
      "source": [
        "#2\n",
        "n = int(input(\"Entrer n :\"))\n",
        "while n<0: # arrêt si n>=0\n",
        "    n = int(input(\"Entrer n :\"))\n",
        "\n",
        "while n != 0: # arrêt si n==0\n",
        "    n = n-2\n",
        "    print(n)\n",
        "print('Fin')"
      ],
      "execution_count": null,
      "outputs": [
        {
          "output_type": "stream",
          "text": [
            "Entrer n :-2\n",
            "Entrer n :-3\n",
            "Entrer n :6\n",
            "4\n",
            "2\n",
            "0\n",
            "Fin\n"
          ],
          "name": "stdout"
        }
      ]
    },
    {
      "cell_type": "code",
      "metadata": {
        "id": "4Z0iQGdICiF7"
      },
      "source": [
        "#2\n",
        "n = int(input(\"Entrer n :\"))\n",
        "while n<0:\n",
        "    n = int(input(\"Entrer n :\"))\n",
        "\n",
        "while n != 0:\n",
        "    n = n-2\n",
        "    print(n)\n",
        "print('Fin')"
      ],
      "execution_count": null,
      "outputs": []
    },
    {
      "cell_type": "markdown",
      "metadata": {
        "id": "0C2P9DJni8XW"
      },
      "source": [
        "si n est impair le programme ne s'arrête pas"
      ]
    },
    {
      "cell_type": "code",
      "metadata": {
        "id": "vbCzNpri-5wl",
        "outputId": "b8f200b8-8746-4be7-9b43-be88c1fd9648",
        "colab": {
          "base_uri": "https://localhost:8080/"
        }
      },
      "source": [
        "#3\n",
        "n = int(input(\"Entrer n :\"))\n",
        "while n != 0:\n",
        "    n = n // 2\n",
        "    print(n)\n",
        "print('Fin')"
      ],
      "execution_count": null,
      "outputs": [
        {
          "output_type": "stream",
          "text": [
            "Entrer n :5314\n",
            "2657\n",
            "1328\n",
            "664\n",
            "332\n",
            "166\n",
            "83\n",
            "41\n",
            "20\n",
            "10\n",
            "5\n",
            "2\n",
            "1\n",
            "0\n",
            "Fin\n"
          ],
          "name": "stdout"
        }
      ]
    },
    {
      "cell_type": "code",
      "metadata": {
        "id": "KMvqHm99Cgeo"
      },
      "source": [
        "#3\n",
        "n = int(input(\"Entrer n :\"))\n",
        "while n != 0:\n",
        "    n = n // 2\n",
        "    print(n)\n",
        "print('Fin')"
      ],
      "execution_count": null,
      "outputs": []
    },
    {
      "cell_type": "markdown",
      "metadata": {
        "id": "XyMcUd53jnw6"
      },
      "source": [
        "si n est négatif, par n=-1, alors n//2 reste égale à -1"
      ]
    },
    {
      "cell_type": "code",
      "metadata": {
        "id": "hoKWIGEWALCm",
        "outputId": "9d06db9d-836a-4381-807b-23afad742eb7",
        "colab": {
          "base_uri": "https://localhost:8080/"
        }
      },
      "source": [
        "#4\n",
        "t = [10,20,30,40]\n",
        "n = int(input(\"Entrer n :\"))\n",
        "i=0\n",
        "while i < len(t): # arrêt si i >= len(t) soit 4\n",
        "    if n == t[i]:\n",
        "        print(n, 'est une valeur du tableau', t)\n",
        "        break\n"
      ],
      "execution_count": null,
      "outputs": [
        {
          "output_type": "stream",
          "text": [
            "Entrer n :10\n",
            "10 est une valeur du tableau [10, 20, 30, 40]\n"
          ],
          "name": "stdout"
        }
      ]
    },
    {
      "cell_type": "code",
      "metadata": {
        "id": "YwkvgqPvlUCM"
      },
      "source": [
        ""
      ],
      "execution_count": null,
      "outputs": []
    },
    {
      "cell_type": "code",
      "metadata": {
        "id": "rLoHydjQCfBd",
        "outputId": "bc8ee7cb-60f6-4288-b9bb-b4f9fb4e505d",
        "colab": {
          "base_uri": "https://localhost:8080/"
        }
      },
      "source": [
        "#4 AMELIORATION DU PROGRAMME\n",
        "t = [10,20,30,40]\n",
        "n = int(input(\"Entrer n :\"))\n",
        "i=0\n",
        "while i < len(t):  # arrêt si i >= len(t) soit 4\n",
        "    if n == t[i]:\n",
        "        print(n, 'est une valeur du tableau', t)\n",
        "        break\n",
        "    i += 1\n"
      ],
      "execution_count": null,
      "outputs": [
        {
          "output_type": "stream",
          "text": [
            "Entrer n :5\n"
          ],
          "name": "stdout"
        }
      ]
    },
    {
      "cell_type": "markdown",
      "metadata": {
        "id": "1aswMqHiCq1p"
      },
      "source": [
        "# Exercice 6"
      ]
    },
    {
      "cell_type": "markdown",
      "metadata": {
        "id": "I1GvgIYlDFDT"
      },
      "source": [
        "On prétend que les deux programmes suivants effectuent la multiplication de a par b, si a et b sont des entiers positifs. \n",
        " \n",
        " Ces programmes terminent-ils ?  Identifier, pour chacun d’eux, un variant de boucle. \n"
      ]
    },
    {
      "cell_type": "code",
      "metadata": {
        "id": "0oSUaqh8DHAr"
      },
      "source": [
        "#1\n",
        "a = int(input(\"a =\"))\n",
        "b = int(input(\"b =\"))  # b est un nombre entier\n",
        "m = 0\n",
        "while b > 0: # arrêt si b<=0 \n",
        "    m += a\n",
        "    b -= 1  # b diminue strictement \n",
        "print(\"a * b =\", m)"
      ],
      "execution_count": null,
      "outputs": []
    },
    {
      "cell_type": "markdown",
      "metadata": {
        "id": "TLrpYqcKnqqr"
      },
      "source": [
        "* si b est négatif, la boucle while n'est pas exécutée.\n",
        "* sinon, b est un entier positif, strictement décroissant donc c'est un **variant de boucle**"
      ]
    },
    {
      "cell_type": "code",
      "metadata": {
        "id": "j4HUM-RZDqx7",
        "outputId": "a74e5b6e-4a60-42b6-bdec-0d0abcef2834",
        "colab": {
          "base_uri": "https://localhost:8080/"
        }
      },
      "source": [
        "#2\n",
        "a = int(input(\"a =\"))\n",
        "b = int(input(\"b =\"))\n",
        "i=0\n",
        "m = 0\n",
        "while i < b:\n",
        "    m += a\n",
        "    i += 1\n",
        "print(\"a * b =\", m)"
      ],
      "execution_count": null,
      "outputs": [
        {
          "output_type": "stream",
          "text": [
            "a =4\n",
            "b =5\n",
            "a * b = 20\n"
          ],
          "name": "stdout"
        }
      ]
    },
    {
      "cell_type": "markdown",
      "metadata": {
        "id": "NtNcugU5EdOb"
      },
      "source": [
        "# Exercice 7"
      ]
    },
    {
      "cell_type": "markdown",
      "metadata": {
        "id": "13_2yKhJEexq"
      },
      "source": [
        "On prétend que les deux programmes suivants calculent le nombre de chiffres d’un entier saisi par l’utilisateur : \n",
        "\n",
        "ces programmes terminent-ils ?  Identifier, pour chacun d’eux, un variant de boucle. "
      ]
    },
    {
      "cell_type": "code",
      "metadata": {
        "id": "vuEYtxTKn2lr",
        "outputId": "9d846ed1-19d4-45fa-f061-567e40d6ddcc",
        "colab": {
          "base_uri": "https://localhost:8080/"
        }
      },
      "source": [
        "print(123%10 , 3%10)"
      ],
      "execution_count": 4,
      "outputs": [
        {
          "output_type": "stream",
          "text": [
            "3 3\n"
          ],
          "name": "stdout"
        }
      ]
    },
    {
      "cell_type": "code",
      "metadata": {
        "id": "CcCsZs15Emm-"
      },
      "source": [
        "#1\n",
        "n = int(input(\"Entrer un entier strictement positif:\"))\n",
        "i = 0\n",
        "while n > 0:\n",
        "    print('entrée:', n, end='-')\n",
        "    n //=  10\n",
        "    i += 1\n",
        "    print('sortie', n, end='\\n')\n",
        "print(\"nombre de chiffres :\", i)"
      ],
      "execution_count": null,
      "outputs": []
    },
    {
      "cell_type": "code",
      "metadata": {
        "id": "2bOYkrTDFIpd",
        "outputId": "b17610bb-7864-4dc0-dcb2-588109ad6933",
        "colab": {
          "base_uri": "https://localhost:8080/"
        }
      },
      "source": [
        "#2\n",
        "n = int(input(\"Entrer un entier strictement positif:\"))\n",
        "i = 0\n",
        "k = 1\n",
        "while k <= n: #  0 <= n - k\n",
        "    k = k*10\n",
        "    i += 1\n",
        "print(\"nombre de chiffres :\", i)"
      ],
      "execution_count": 6,
      "outputs": [
        {
          "output_type": "stream",
          "text": [
            "Entrer un entier strictement positif:123456789\n",
            "nombre de chiffres : 9\n"
          ],
          "name": "stdout"
        }
      ]
    },
    {
      "cell_type": "markdown",
      "metadata": {
        "id": "hIwuN9_9H5gg"
      },
      "source": [
        "#Exercice 8"
      ]
    },
    {
      "cell_type": "code",
      "metadata": {
        "id": "xMS4w8n4H8VL",
        "outputId": "a98ad5b1-e897-47ff-a266-fa825c8fa59b",
        "colab": {
          "base_uri": "https://localhost:8080/"
        }
      },
      "source": [
        "def mystere(t, v):\n",
        "    i = 0\n",
        "    while i < len(t) and t[i] != v :\n",
        "        i += 1\n",
        "    return i == len(t)\n",
        "\n",
        "print(mystere([10,20,30], 20))\n",
        "print(mystere([10,20,30], 40))"
      ],
      "execution_count": 7,
      "outputs": [
        {
          "output_type": "stream",
          "text": [
            "False\n",
            "True\n"
          ],
          "name": "stdout"
        }
      ]
    },
    {
      "cell_type": "markdown",
      "metadata": {
        "id": "CQBS33TOKUma"
      },
      "source": [
        "### Attention\n"
      ]
    },
    {
      "cell_type": "code",
      "metadata": {
        "id": "GAMweXw5KPso",
        "outputId": "81fa8015-53d7-4fe3-b87f-a19846ccd4e5",
        "colab": {
          "base_uri": "https://localhost:8080/",
          "height": 339
        }
      },
      "source": [
        "def mystere(t, v):\n",
        "    i = 0\n",
        "    while t[i] != v and i < len(t) :\n",
        "        i += 1\n",
        "    return i == len(t)\n",
        "\n",
        "print(mystere([10,20,30], 20))\n",
        "print(mystere([10,20,30], 40))"
      ],
      "execution_count": 8,
      "outputs": [
        {
          "output_type": "stream",
          "text": [
            "False\n"
          ],
          "name": "stdout"
        },
        {
          "output_type": "error",
          "ename": "IndexError",
          "evalue": "ignored",
          "traceback": [
            "\u001b[0;31m---------------------------------------------------------------------------\u001b[0m",
            "\u001b[0;31mIndexError\u001b[0m                                Traceback (most recent call last)",
            "\u001b[0;32m<ipython-input-8-a164345b4412>\u001b[0m in \u001b[0;36m<module>\u001b[0;34m()\u001b[0m\n\u001b[1;32m      6\u001b[0m \u001b[0;34m\u001b[0m\u001b[0m\n\u001b[1;32m      7\u001b[0m \u001b[0mprint\u001b[0m\u001b[0;34m(\u001b[0m\u001b[0mmystere\u001b[0m\u001b[0;34m(\u001b[0m\u001b[0;34m[\u001b[0m\u001b[0;36m10\u001b[0m\u001b[0;34m,\u001b[0m\u001b[0;36m20\u001b[0m\u001b[0;34m,\u001b[0m\u001b[0;36m30\u001b[0m\u001b[0;34m]\u001b[0m\u001b[0;34m,\u001b[0m \u001b[0;36m20\u001b[0m\u001b[0;34m)\u001b[0m\u001b[0;34m)\u001b[0m\u001b[0;34m\u001b[0m\u001b[0;34m\u001b[0m\u001b[0m\n\u001b[0;32m----> 8\u001b[0;31m \u001b[0mprint\u001b[0m\u001b[0;34m(\u001b[0m\u001b[0mmystere\u001b[0m\u001b[0;34m(\u001b[0m\u001b[0;34m[\u001b[0m\u001b[0;36m10\u001b[0m\u001b[0;34m,\u001b[0m\u001b[0;36m20\u001b[0m\u001b[0;34m,\u001b[0m\u001b[0;36m30\u001b[0m\u001b[0;34m]\u001b[0m\u001b[0;34m,\u001b[0m \u001b[0;36m40\u001b[0m\u001b[0;34m)\u001b[0m\u001b[0;34m)\u001b[0m\u001b[0;34m\u001b[0m\u001b[0;34m\u001b[0m\u001b[0m\n\u001b[0m",
            "\u001b[0;32m<ipython-input-8-a164345b4412>\u001b[0m in \u001b[0;36mmystere\u001b[0;34m(t, v)\u001b[0m\n\u001b[1;32m      1\u001b[0m \u001b[0;32mdef\u001b[0m \u001b[0mmystere\u001b[0m\u001b[0;34m(\u001b[0m\u001b[0mt\u001b[0m\u001b[0;34m,\u001b[0m \u001b[0mv\u001b[0m\u001b[0;34m)\u001b[0m\u001b[0;34m:\u001b[0m\u001b[0;34m\u001b[0m\u001b[0;34m\u001b[0m\u001b[0m\n\u001b[1;32m      2\u001b[0m     \u001b[0mi\u001b[0m \u001b[0;34m=\u001b[0m \u001b[0;36m0\u001b[0m\u001b[0;34m\u001b[0m\u001b[0;34m\u001b[0m\u001b[0m\n\u001b[0;32m----> 3\u001b[0;31m     \u001b[0;32mwhile\u001b[0m \u001b[0mt\u001b[0m\u001b[0;34m[\u001b[0m\u001b[0mi\u001b[0m\u001b[0;34m]\u001b[0m \u001b[0;34m!=\u001b[0m \u001b[0mv\u001b[0m \u001b[0;32mand\u001b[0m \u001b[0mi\u001b[0m \u001b[0;34m<\u001b[0m \u001b[0mlen\u001b[0m\u001b[0;34m(\u001b[0m\u001b[0mt\u001b[0m\u001b[0;34m)\u001b[0m \u001b[0;34m:\u001b[0m\u001b[0;34m\u001b[0m\u001b[0;34m\u001b[0m\u001b[0m\n\u001b[0m\u001b[1;32m      4\u001b[0m         \u001b[0mi\u001b[0m \u001b[0;34m+=\u001b[0m \u001b[0;36m1\u001b[0m\u001b[0;34m\u001b[0m\u001b[0;34m\u001b[0m\u001b[0m\n\u001b[1;32m      5\u001b[0m     \u001b[0;32mreturn\u001b[0m \u001b[0mi\u001b[0m \u001b[0;34m==\u001b[0m \u001b[0mlen\u001b[0m\u001b[0;34m(\u001b[0m\u001b[0mt\u001b[0m\u001b[0;34m)\u001b[0m\u001b[0;34m\u001b[0m\u001b[0;34m\u001b[0m\u001b[0m\n",
            "\u001b[0;31mIndexError\u001b[0m: list index out of range"
          ]
        }
      ]
    },
    {
      "cell_type": "markdown",
      "metadata": {
        "id": "m6TbZc2TKq_G"
      },
      "source": [
        "#### \"paresse\" de l'évaluation des opérations booléennes"
      ]
    },
    {
      "cell_type": "code",
      "metadata": {
        "id": "739wncmMKaYH",
        "outputId": "8cf2f881-371c-4910-afca-152b854558cd",
        "colab": {
          "base_uri": "https://localhost:8080/"
        }
      },
      "source": [
        "False and x"
      ],
      "execution_count": 9,
      "outputs": [
        {
          "output_type": "execute_result",
          "data": {
            "text/plain": [
              "False"
            ]
          },
          "metadata": {
            "tags": []
          },
          "execution_count": 9
        }
      ]
    },
    {
      "cell_type": "code",
      "metadata": {
        "id": "_2uViPV1KcsM",
        "outputId": "96f17f40-965a-4e04-afc7-42e317aaaea0",
        "colab": {
          "base_uri": "https://localhost:8080/",
          "height": 165
        }
      },
      "source": [
        "x and False "
      ],
      "execution_count": 10,
      "outputs": [
        {
          "output_type": "error",
          "ename": "NameError",
          "evalue": "ignored",
          "traceback": [
            "\u001b[0;31m---------------------------------------------------------------------------\u001b[0m",
            "\u001b[0;31mNameError\u001b[0m                                 Traceback (most recent call last)",
            "\u001b[0;32m<ipython-input-10-40901c069c32>\u001b[0m in \u001b[0;36m<module>\u001b[0;34m()\u001b[0m\n\u001b[0;32m----> 1\u001b[0;31m \u001b[0mx\u001b[0m \u001b[0;32mand\u001b[0m \u001b[0;32mFalse\u001b[0m\u001b[0;34m\u001b[0m\u001b[0;34m\u001b[0m\u001b[0m\n\u001b[0m",
            "\u001b[0;31mNameError\u001b[0m: name 'x' is not defined"
          ]
        }
      ]
    },
    {
      "cell_type": "code",
      "metadata": {
        "id": "wsWifzJ2Kfde",
        "outputId": "620c054d-cba1-40b3-fb2e-9665f40846f0",
        "colab": {
          "base_uri": "https://localhost:8080/"
        }
      },
      "source": [
        "True or x "
      ],
      "execution_count": 11,
      "outputs": [
        {
          "output_type": "execute_result",
          "data": {
            "text/plain": [
              "True"
            ]
          },
          "metadata": {
            "tags": []
          },
          "execution_count": 11
        }
      ]
    },
    {
      "cell_type": "code",
      "metadata": {
        "id": "dLLNVFs2Khm3",
        "outputId": "078a38f0-abda-406e-dc10-106fbb96871d",
        "colab": {
          "base_uri": "https://localhost:8080/",
          "height": 165
        }
      },
      "source": [
        "x or True "
      ],
      "execution_count": 12,
      "outputs": [
        {
          "output_type": "error",
          "ename": "NameError",
          "evalue": "ignored",
          "traceback": [
            "\u001b[0;31m---------------------------------------------------------------------------\u001b[0m",
            "\u001b[0;31mNameError\u001b[0m                                 Traceback (most recent call last)",
            "\u001b[0;32m<ipython-input-12-46f3e664fd50>\u001b[0m in \u001b[0;36m<module>\u001b[0;34m()\u001b[0m\n\u001b[0;32m----> 1\u001b[0;31m \u001b[0mx\u001b[0m \u001b[0;32mor\u001b[0m \u001b[0;32mTrue\u001b[0m\u001b[0;34m\u001b[0m\u001b[0;34m\u001b[0m\u001b[0m\n\u001b[0m",
            "\u001b[0;31mNameError\u001b[0m: name 'x' is not defined"
          ]
        }
      ]
    },
    {
      "cell_type": "code",
      "metadata": {
        "id": "T7xi1-a1K6iV",
        "outputId": "d5aff15e-9e4f-4844-ccda-b1ae40e67589",
        "colab": {
          "base_uri": "https://localhost:8080/",
          "height": 35
        }
      },
      "source": [
        "True and \"Autre\""
      ],
      "execution_count": 13,
      "outputs": [
        {
          "output_type": "execute_result",
          "data": {
            "application/vnd.google.colaboratory.intrinsic+json": {
              "type": "string"
            },
            "text/plain": [
              "'Autre'"
            ]
          },
          "metadata": {
            "tags": []
          },
          "execution_count": 13
        }
      ]
    },
    {
      "cell_type": "code",
      "metadata": {
        "id": "HP-5caDzK82R",
        "outputId": "52758f6c-8463-4c8d-df25-521092046058",
        "colab": {
          "base_uri": "https://localhost:8080/",
          "height": 35
        }
      },
      "source": [
        "False or \"Expression\""
      ],
      "execution_count": 14,
      "outputs": [
        {
          "output_type": "execute_result",
          "data": {
            "application/vnd.google.colaboratory.intrinsic+json": {
              "type": "string"
            },
            "text/plain": [
              "'Expression'"
            ]
          },
          "metadata": {
            "tags": []
          },
          "execution_count": 14
        }
      ]
    }
  ]
}