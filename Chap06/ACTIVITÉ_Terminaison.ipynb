{
  "nbformat": 4,
  "nbformat_minor": 0,
  "metadata": {
    "colab": {
      "name": "06-ACTIVITÉ-Terminaison.ipynb",
      "provenance": [],
      "collapsed_sections": [],
      "authorship_tag": "ABX9TyM5gO3z5/IQqbjUgJ/jHWPF",
      "include_colab_link": true
    },
    "kernelspec": {
      "name": "python3",
      "display_name": "Python 3"
    }
  },
  "cells": [
    {
      "cell_type": "markdown",
      "metadata": {
        "id": "view-in-github",
        "colab_type": "text"
      },
      "source": [
        "<a href=\"https://colab.research.google.com/github/thfruchart/1nsi-2020/blob/master/Chap06/ACTIVIT%C3%89_Terminaison.ipynb\" target=\"_parent\"><img src=\"https://colab.research.google.com/assets/colab-badge.svg\" alt=\"Open In Colab\"/></a>"
      ]
    },
    {
      "cell_type": "markdown",
      "metadata": {
        "id": "6niFKxf2B5Vt"
      },
      "source": [
        "# Exercice 5  \n",
        "\n",
        "Pour chacun des programmes suivants : \n",
        "\n",
        "**a)** Déterminer une valeur de n pour laquelle le programme termine\n",
        "\n",
        "**b)** Déterminer une valeur de n pour laquelle le programme ne termine pas"
      ]
    },
    {
      "cell_type": "code",
      "metadata": {
        "id": "SAj8If_lCNE4"
      },
      "source": [
        "#1\n",
        "n = int(input(\"Entrer n :\"))\n",
        "while n != 0:\n",
        "    n = n-1\n",
        "    print(n)\n",
        "print('Fin')"
      ],
      "execution_count": null,
      "outputs": []
    },
    {
      "cell_type": "code",
      "metadata": {
        "id": "TDZV3m-99iGl"
      },
      "source": [
        "#1\n",
        "n = int(input(\"Entrer n :\"))\n",
        "while n != 0:\n",
        "    n = n-1\n",
        "    print(n)\n",
        "print('Fin')"
      ],
      "execution_count": null,
      "outputs": []
    },
    {
      "cell_type": "code",
      "metadata": {
        "id": "tIeW3Guq-gBG"
      },
      "source": [
        "#2\n",
        "n = int(input(\"Entrer n :\"))\n",
        "while n<0:\n",
        "    n = int(input(\"Entrer n :\"))\n",
        "\n",
        "while n != 0:\n",
        "    n = n-2\n",
        "    print(n)\n",
        "print('Fin')"
      ],
      "execution_count": null,
      "outputs": []
    },
    {
      "cell_type": "code",
      "metadata": {
        "id": "4Z0iQGdICiF7"
      },
      "source": [
        "#2\n",
        "n = int(input(\"Entrer n :\"))\n",
        "while n<0:\n",
        "    n = int(input(\"Entrer n :\"))\n",
        "\n",
        "while n != 0:\n",
        "    n = n-2\n",
        "    print(n)\n",
        "print('Fin')"
      ],
      "execution_count": null,
      "outputs": []
    },
    {
      "cell_type": "code",
      "metadata": {
        "id": "vbCzNpri-5wl"
      },
      "source": [
        "#3\n",
        "n = int(input(\"Entrer n :\"))\n",
        "while n != 0:\n",
        "    n = n // 2\n",
        "    print(n)\n",
        "print('Fin')"
      ],
      "execution_count": null,
      "outputs": []
    },
    {
      "cell_type": "code",
      "metadata": {
        "id": "KMvqHm99Cgeo"
      },
      "source": [
        "#3\n",
        "n = int(input(\"Entrer n :\"))\n",
        "while n != 0:\n",
        "    n = n // 2\n",
        "    print(n)\n",
        "print('Fin')"
      ],
      "execution_count": null,
      "outputs": []
    },
    {
      "cell_type": "code",
      "metadata": {
        "id": "hoKWIGEWALCm"
      },
      "source": [
        "#4\n",
        "t = [10,20,30,40]\n",
        "n = int(input(\"Entrer n :\"))\n",
        "i=0\n",
        "while i < len(t):\n",
        "    if n == t[i]:\n",
        "        print(n, 'est une valeur du tableau', t)\n",
        "        break\n"
      ],
      "execution_count": null,
      "outputs": []
    },
    {
      "cell_type": "code",
      "metadata": {
        "id": "rLoHydjQCfBd"
      },
      "source": [
        "#4\n",
        "t = [10,20,30,40]\n",
        "n = int(input(\"Entrer n :\"))\n",
        "i=0\n",
        "while i < len(t):\n",
        "    if n == t[i]:\n",
        "        print(n, 'est une valeur du tableau', t)\n",
        "        break\n"
      ],
      "execution_count": null,
      "outputs": []
    },
    {
      "cell_type": "markdown",
      "metadata": {
        "id": "1aswMqHiCq1p"
      },
      "source": [
        "# Exercice 6"
      ]
    },
    {
      "cell_type": "markdown",
      "metadata": {
        "id": "I1GvgIYlDFDT"
      },
      "source": [
        "On prétend que les deux programmes suivants effectuent la multiplication de a par b, si a et b sont des entiers positifs. \n",
        " \n",
        " Ces programmes terminent-ils ?  Identifier, pour chacun d’eux, un variant de boucle. \n"
      ]
    },
    {
      "cell_type": "code",
      "metadata": {
        "id": "0oSUaqh8DHAr"
      },
      "source": [
        "#1\n",
        "a = int(input(\"a =\"))\n",
        "b = int(input(\"b =\"))\n",
        "m = 0\n",
        "while b > 0:\n",
        "    m += a\n",
        "    b -= 1\n",
        "print(\"a * b =\", m)"
      ],
      "execution_count": null,
      "outputs": []
    },
    {
      "cell_type": "code",
      "metadata": {
        "id": "j4HUM-RZDqx7",
        "outputId": "a74e5b6e-4a60-42b6-bdec-0d0abcef2834",
        "colab": {
          "base_uri": "https://localhost:8080/"
        }
      },
      "source": [
        "#2\n",
        "a = int(input(\"a =\"))\n",
        "b = int(input(\"b =\"))\n",
        "i=0\n",
        "m = 0\n",
        "while i < b:\n",
        "    m += a\n",
        "    i += 1\n",
        "print(\"a * b =\", m)"
      ],
      "execution_count": 14,
      "outputs": [
        {
          "output_type": "stream",
          "text": [
            "a =4\n",
            "b =5\n",
            "a * b = 20\n"
          ],
          "name": "stdout"
        }
      ]
    },
    {
      "cell_type": "markdown",
      "metadata": {
        "id": "NtNcugU5EdOb"
      },
      "source": [
        "# Exercice 7"
      ]
    },
    {
      "cell_type": "markdown",
      "metadata": {
        "id": "13_2yKhJEexq"
      },
      "source": [
        "On prétend que les deux programmes suivants calculent le nombre de chiffres d’un entier saisi par l’utilisateur : \n",
        "\n",
        "ces programmes terminent-ils ?  Identifier, pour chacun d’eux, un variant de boucle. "
      ]
    },
    {
      "cell_type": "code",
      "metadata": {
        "id": "CcCsZs15Emm-"
      },
      "source": [
        "#1\n",
        "n = int(input(\"Entrer un entier strictement positif:\"))\n",
        "i = 0\n",
        "while n > 0:\n",
        "    n = n // 10\n",
        "    i += 1\n",
        "print(\"nombre de chiffres :\", i)"
      ],
      "execution_count": null,
      "outputs": []
    },
    {
      "cell_type": "code",
      "metadata": {
        "id": "2bOYkrTDFIpd"
      },
      "source": [
        "#2\n",
        "n = int(input(\"Entrer un entier strictement positif:\"))\n",
        "i = 0\n",
        "k = 1\n",
        "while k <= n:\n",
        "    k = k*10\n",
        "    i += 1\n",
        "print(\"nombre de chiffres :\", i)"
      ],
      "execution_count": null,
      "outputs": []
    },
    {
      "cell_type": "markdown",
      "metadata": {
        "id": "hIwuN9_9H5gg"
      },
      "source": [
        "#Exercice 8"
      ]
    },
    {
      "cell_type": "code",
      "metadata": {
        "id": "xMS4w8n4H8VL"
      },
      "source": [
        "def mystere(t, v):\n",
        "    i = 0\n",
        "    while i < len(t) and t[i] != v :\n",
        "        i += 1\n",
        "    return i == len(t)\n",
        "\n",
        "print(mystere([10,20,30], 20))\n",
        "print(mystere([10,20,30], 40))"
      ],
      "execution_count": null,
      "outputs": []
    },
    {
      "cell_type": "markdown",
      "metadata": {
        "id": "CQBS33TOKUma"
      },
      "source": [
        "### Attention\n"
      ]
    },
    {
      "cell_type": "code",
      "metadata": {
        "id": "GAMweXw5KPso"
      },
      "source": [
        "def mystere(t, v):\n",
        "    i = 0\n",
        "    while t[i] != v and i < len(t) :\n",
        "        i += 1\n",
        "    return i == len(t)\n",
        "\n",
        "print(mystere([10,20,30], 20))\n",
        "print(mystere([10,20,30], 40))"
      ],
      "execution_count": null,
      "outputs": []
    },
    {
      "cell_type": "markdown",
      "metadata": {
        "id": "m6TbZc2TKq_G"
      },
      "source": [
        "#### \"paresse\" de l'évaluation des opérations booléennes"
      ]
    },
    {
      "cell_type": "code",
      "metadata": {
        "id": "739wncmMKaYH"
      },
      "source": [
        "False and x"
      ],
      "execution_count": null,
      "outputs": []
    },
    {
      "cell_type": "code",
      "metadata": {
        "id": "_2uViPV1KcsM"
      },
      "source": [
        "x and False "
      ],
      "execution_count": null,
      "outputs": []
    },
    {
      "cell_type": "code",
      "metadata": {
        "id": "wsWifzJ2Kfde"
      },
      "source": [
        "True or x "
      ],
      "execution_count": null,
      "outputs": []
    },
    {
      "cell_type": "code",
      "metadata": {
        "id": "dLLNVFs2Khm3"
      },
      "source": [
        "x or True "
      ],
      "execution_count": null,
      "outputs": []
    },
    {
      "cell_type": "code",
      "metadata": {
        "id": "T7xi1-a1K6iV"
      },
      "source": [
        "True and \"Autre\""
      ],
      "execution_count": null,
      "outputs": []
    },
    {
      "cell_type": "code",
      "metadata": {
        "id": "HP-5caDzK82R"
      },
      "source": [
        "False or \"Expression\""
      ],
      "execution_count": null,
      "outputs": []
    }
  ]
}