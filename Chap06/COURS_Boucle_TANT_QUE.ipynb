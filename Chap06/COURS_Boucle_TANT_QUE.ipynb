{
  "nbformat": 4,
  "nbformat_minor": 0,
  "metadata": {
    "colab": {
      "name": "06-COURS-Boucle-TANT_QUE.ipynb",
      "provenance": [],
      "collapsed_sections": [
        "dOD38NNCOWhV",
        "Sk-sPRwiOf8_",
        "66FVAkLWOsnV",
        "1J3fnZ05fxbw",
        "LofuzArIgBYV",
        "TMcHo3ldgoUR",
        "HsxPiiIkgoUc",
        "UEzt2ciujFva",
        "rGXM2mwDh0ps",
        "4vX4jAxWOy1-",
        "mtPmT-SikZ4i",
        "k9zCuh04O2jG",
        "LKde7asDPET_",
        "X6VNoplzw0tO",
        "Qbj9DD9dxc5a"
      ],
      "authorship_tag": "ABX9TyM1bBO76hGBOgGED8Hp8uT5",
      "include_colab_link": true
    },
    "kernelspec": {
      "name": "python3",
      "display_name": "Python 3"
    }
  },
  "cells": [
    {
      "cell_type": "markdown",
      "metadata": {
        "id": "view-in-github",
        "colab_type": "text"
      },
      "source": [
        "<a href=\"https://colab.research.google.com/github/thfruchart/1nsi-2020/blob/master/Chap06/COURS_Boucle_TANT_QUE.ipynb\" target=\"_parent\"><img src=\"https://colab.research.google.com/assets/colab-badge.svg\" alt=\"Open In Colab\"/></a>"
      ]
    },
    {
      "cell_type": "markdown",
      "metadata": {
        "id": "dOD38NNCOWhV"
      },
      "source": [
        "# Boucles \"TANT QUE\""
      ]
    },
    {
      "cell_type": "markdown",
      "metadata": {
        "id": "Sk-sPRwiOf8_"
      },
      "source": [
        "## Principe d'une boucle TANT QUE"
      ]
    },
    {
      "cell_type": "markdown",
      "metadata": {
        "id": "elfkBJRAfemV"
      },
      "source": [
        "Un premier exemple : "
      ]
    },
    {
      "cell_type": "code",
      "metadata": {
        "id": "rX0UsQ5tPLCZ"
      },
      "source": [
        "n = 0\n",
        "while n < 5:\n",
        "    print(n)\n",
        "    n += 2   # cette instruction est synonyme de   n = n+2\n",
        "print('fin : n=', n)"
      ],
      "execution_count": null,
      "outputs": []
    },
    {
      "cell_type": "markdown",
      "metadata": {
        "id": "R68UxQPuPigf"
      },
      "source": [
        "Syntaxe :\n",
        "\n",
        "    while expression_booleenne : \n",
        "        bloc_instruction\n",
        "    # fin_de_boucle\n",
        "\n",
        "Point commun avec une instruction **conditionnelle** `if`\n",
        "* présence d'une expression conditionnelle\n",
        "\n",
        "Point commun avec une **boucle bornée** `for`\n",
        "* le bloc d'instruction peut être exécuté plusieurs fois\n",
        "\n"
      ]
    },
    {
      "cell_type": "markdown",
      "metadata": {
        "id": "_z4VIubnfhlS"
      },
      "source": [
        "Un deuxième exemple : "
      ]
    },
    {
      "cell_type": "code",
      "metadata": {
        "id": "gxauzmf-QmSF"
      },
      "source": [
        "n = 0\n",
        "while n<5:\n",
        "    n += 2  # cette instruction est synonyme de   n = n+2\n",
        "    print(n)\n",
        "print('fin : n=', n)"
      ],
      "execution_count": null,
      "outputs": []
    },
    {
      "cell_type": "markdown",
      "metadata": {
        "id": "66FVAkLWOsnV"
      },
      "source": [
        "## Comparaison avec une boucle POUR"
      ]
    },
    {
      "cell_type": "markdown",
      "metadata": {
        "id": "mgmT42yrflrp"
      },
      "source": [
        "Un programme écrit avec une boucle POUR peut toujours s'écrire avec une boucle TANT QUE\n",
        "\n",
        "Voir les exemples ci-dessous : "
      ]
    },
    {
      "cell_type": "markdown",
      "metadata": {
        "id": "1J3fnZ05fxbw"
      },
      "source": [
        "### Exemple 1 : `for i in range(n)`"
      ]
    },
    {
      "cell_type": "code",
      "metadata": {
        "id": "x0kj6rh9f3LG"
      },
      "source": [
        "n  = 5\n",
        "for i in range(5):\n",
        "    print(i)"
      ],
      "execution_count": null,
      "outputs": []
    },
    {
      "cell_type": "markdown",
      "metadata": {
        "id": "LofuzArIgBYV"
      },
      "source": [
        "#### avec un TANT QUE"
      ]
    },
    {
      "cell_type": "code",
      "metadata": {
        "id": "V6tjsPZOgEoi"
      },
      "source": [
        "n = 5\n",
        "\n",
        "i = 0\n",
        "while i < n :\n",
        "    print(i)\n",
        "    i = i+1   # on peut aussi écrire :  i += 1"
      ],
      "execution_count": null,
      "outputs": []
    },
    {
      "cell_type": "markdown",
      "metadata": {
        "id": "TMcHo3ldgoUR"
      },
      "source": [
        "### Exemple 2 : `for i in range(4, 10, 2)`"
      ]
    },
    {
      "cell_type": "code",
      "metadata": {
        "id": "NDGvWYfFgoUV"
      },
      "source": [
        "for i in range(4, 10, 2):\n",
        "    print(i)"
      ],
      "execution_count": null,
      "outputs": []
    },
    {
      "cell_type": "markdown",
      "metadata": {
        "id": "HsxPiiIkgoUc"
      },
      "source": [
        "#### avec un TANT QUE"
      ]
    },
    {
      "cell_type": "code",
      "metadata": {
        "id": "5wb2_JrIgoUd"
      },
      "source": [
        "i = ... \n",
        "while i < ... :\n",
        "    print(i)\n",
        "    ..."
      ],
      "execution_count": null,
      "outputs": []
    },
    {
      "cell_type": "markdown",
      "metadata": {
        "id": "UEzt2ciujFva"
      },
      "source": [
        "### Valeur en sortie de boucle : "
      ]
    },
    {
      "cell_type": "markdown",
      "metadata": {
        "id": "WhY5h_USg9F3"
      },
      "source": [
        "Dans les exemples donnés ci-dessus, il existe une différence entre POUR et TANT_QUE : la valeur de la variable après la fin de la boucle.\n",
        "\n",
        "Voir les exemples ci-dessous"
      ]
    },
    {
      "cell_type": "code",
      "metadata": {
        "id": "FRrR1Whrhj7c"
      },
      "source": [
        "### boucle FOR  ###\n",
        "for k in range(4):\n",
        "    print('*')\n",
        "###################\n",
        "print(k)"
      ],
      "execution_count": null,
      "outputs": []
    },
    {
      "cell_type": "code",
      "metadata": {
        "id": "alcnVcujhsdx"
      },
      "source": [
        "### boucle WHILE ###\n",
        "k = 0\n",
        "while k < 4:\n",
        "    print('*')\n",
        "    k += 1\n",
        "#####################\n",
        "print(k)"
      ],
      "execution_count": null,
      "outputs": []
    },
    {
      "cell_type": "markdown",
      "metadata": {
        "id": "rGXM2mwDh0ps"
      },
      "source": [
        "#### Pour obtenir exactement le même comportement qu'avec une boule FOR, \n",
        "il faut donc écrire"
      ]
    },
    {
      "cell_type": "code",
      "metadata": {
        "id": "gPLULi9fh-Fc"
      },
      "source": [
        "### boucle WHILE ###\n",
        "k = 0\n",
        "while k < 4:\n",
        "    print('*')\n",
        "    k += 1\n",
        "...\n",
        "####################\n",
        "print(k)"
      ],
      "execution_count": null,
      "outputs": []
    },
    {
      "cell_type": "markdown",
      "metadata": {
        "id": "4vX4jAxWOy1-"
      },
      "source": [
        "# Divergence"
      ]
    },
    {
      "cell_type": "markdown",
      "metadata": {
        "id": "96QXfeG6kLWN"
      },
      "source": [
        "Quel sera l'effet de ce programme ?"
      ]
    },
    {
      "cell_type": "code",
      "metadata": {
        "id": "-rf2dG-qkNyQ"
      },
      "source": [
        "while True :\n",
        "    print('*')"
      ],
      "execution_count": null,
      "outputs": []
    },
    {
      "cell_type": "markdown",
      "metadata": {
        "id": "mtPmT-SikZ4i"
      },
      "source": [
        "#### Dans certains programmes, on utilise une *boucle infinie*. "
      ]
    },
    {
      "cell_type": "markdown",
      "metadata": {
        "id": "A1U0UY1knpfp"
      },
      "source": [
        "Par exemple, un **gestionnaire d'événement** est un programme qui :\n",
        "* attend que l'utilisateur déclenche un événement (au clavier, ou à la souris) \n",
        "* lance le traitement de l'événement choisi\n",
        "* puis attend l'événement suivant...\n",
        "\n",
        "Un tel programme ne doit pas s'arrêter, sinon l'utilisateur ne peut plus \"agir\" : il utilise donc une boucle infinie.\n",
        "\n",
        "Vocabulaire : dans ce cas on parle aussi de\n",
        "* **divergence** du programme\n",
        "* **non terminaison **\n",
        "\n"
      ]
    },
    {
      "cell_type": "markdown",
      "metadata": {
        "id": "k9zCuh04O2jG"
      },
      "source": [
        "## Sortir d'une boucle avec `break`"
      ]
    },
    {
      "cell_type": "markdown",
      "metadata": {
        "id": "pE24g1FqotbB"
      },
      "source": [
        "Dans la plupart des cas, nous aurons à écrire des programme qui **terminent** ! \n",
        "\n",
        "L'instruction `break` permet de mettre fin immédiatement à une boucle (divergente ou non). \n",
        "\n",
        "On présente deux exemples ci-dessous :"
      ]
    },
    {
      "cell_type": "code",
      "metadata": {
        "id": "MpV4mGPlpBQA"
      },
      "source": [
        "while True:\n",
        "    n = int(input('entrer un entier strictement positif :'))\n",
        "    if n > 0 :\n",
        "        break\n",
        "print(\"Vous avez choisi l'entier\", n )"
      ],
      "execution_count": null,
      "outputs": []
    },
    {
      "cell_type": "code",
      "metadata": {
        "id": "IYCRQLzzpvD1"
      },
      "source": [
        "for i in range(100000):\n",
        "    print(i)\n",
        "    if i > 5:\n",
        "        break"
      ],
      "execution_count": null,
      "outputs": []
    },
    {
      "cell_type": "markdown",
      "metadata": {
        "id": "1BBgKECep82F"
      },
      "source": [
        "Attention : ne pas abuser de l'instruction `break`...\n",
        "\n",
        "Il existe parfois d'autres solutions simples !"
      ]
    },
    {
      "cell_type": "code",
      "metadata": {
        "id": "jTpF1LcAqJbU"
      },
      "source": [
        "boucle = True\n",
        "while boucle :\n",
        "    n = int(input('entrer un entier strictement positif :'))\n",
        "    if n > 0 :\n",
        "        boucle = False\n",
        "print(\"Vous avez choisi l'entier\", n )"
      ],
      "execution_count": null,
      "outputs": []
    },
    {
      "cell_type": "markdown",
      "metadata": {
        "id": "LKde7asDPET_"
      },
      "source": [
        "## Terminaison d'une boucle : notion de **variant**"
      ]
    },
    {
      "cell_type": "markdown",
      "metadata": {
        "id": "xwUsc_DMv5w1"
      },
      "source": [
        "On propose le programme suivant, contenant une boucle non bornée : **while**"
      ]
    },
    {
      "cell_type": "code",
      "metadata": {
        "id": "XbLrRgR0wREP"
      },
      "source": [
        "n = int(input(\"Entrer un entier : \"))\n",
        "q = 0\n",
        "\n",
        "while n >= 3:\n",
        "    n -= 3  # qui revient à : n = n-3\n",
        "    q += 1  # qui revient à : q = q+1\n",
        "\n",
        "print(q)"
      ],
      "execution_count": null,
      "outputs": []
    },
    {
      "cell_type": "markdown",
      "metadata": {
        "id": "qHezgg3WwnOa"
      },
      "source": [
        "1. tester ce programme pour différentes valeurs de l'entier n.\n",
        "\n",
        "2. Expliquer pourquoi on est certain que le programme termine, quelle que soit la valeur entière de n ! "
      ]
    },
    {
      "cell_type": "markdown",
      "metadata": {
        "id": "X6VNoplzw0tO"
      },
      "source": [
        "### Variant de boucle"
      ]
    },
    {
      "cell_type": "markdown",
      "metadata": {
        "id": "ix3l3kq7w4CM"
      },
      "source": [
        "On appelle \"variant de boucle\" une expression  \n",
        "* entière\n",
        "* positive\n",
        "* qui diminue strictement à chaque tour de boucle\n",
        "\n",
        "Si un tel variant existe, alors la boucle termine! "
      ]
    },
    {
      "cell_type": "markdown",
      "metadata": {
        "id": "Qbj9DD9dxc5a"
      },
      "source": [
        "### dans l'exemple proposé : "
      ]
    },
    {
      "cell_type": "markdown",
      "metadata": {
        "id": "sTARUjZQxfrL"
      },
      "source": [
        "    while n >= 3:\n",
        "        n -= 3  # qui revient à : n = n-3\n",
        "        q += 1  # qui revient à : q = q+1"
      ]
    },
    {
      "cell_type": "markdown",
      "metadata": {
        "id": "wTFXNNuixjO4"
      },
      "source": [
        "* Si la valeur initiale de n est négative... alors la boucle n'est jamais exécutée, donc elle termine ! \n",
        "* Sinon, n est un entier positif, et c'est un variant de boucle. Donc la boucle termine\n",
        "\n",
        "Conclusion : on peut justifier que la boucle termine dans tous les cas."
      ]
    }
  ]
}