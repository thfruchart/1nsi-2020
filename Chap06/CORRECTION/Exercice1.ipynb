{
  "nbformat": 4,
  "nbformat_minor": 0,
  "metadata": {
    "colab": {
      "name": "06-CORRECTION-Exercice1.ipynb",
      "provenance": [],
      "collapsed_sections": [],
      "authorship_tag": "ABX9TyMtdH6/JIJs4ZRy8QPH6dKI",
      "include_colab_link": true
    },
    "kernelspec": {
      "name": "python3",
      "display_name": "Python 3"
    }
  },
  "cells": [
    {
      "cell_type": "markdown",
      "metadata": {
        "id": "view-in-github",
        "colab_type": "text"
      },
      "source": [
        "<a href=\"https://colab.research.google.com/github/thfruchart/1nsi-2020/blob/master/Chap06/CORRECTION/Exercice1.ipynb\" target=\"_parent\"><img src=\"https://colab.research.google.com/assets/colab-badge.svg\" alt=\"Open In Colab\"/></a>"
      ]
    },
    {
      "cell_type": "markdown",
      "metadata": {
        "id": "ZdLZPdahLN_w"
      },
      "source": [
        "Ecrire un programme qui demande à l’utilisateur d’entrer un entier n , puis affiche cet entier n et\n",
        "recommence jusqu’à ce que l’utilisateur saisisse la valeur 0."
      ]
    },
    {
      "cell_type": "markdown",
      "metadata": {
        "id": "87zj9_nmLP_R"
      },
      "source": [
        "### Première solution, avec `break`"
      ]
    },
    {
      "cell_type": "code",
      "metadata": {
        "id": "qSjv_q9xKnxp",
        "outputId": "d8cd43c8-7111-41fa-b642-387cede8437c",
        "colab": {
          "base_uri": "https://localhost:8080/"
        }
      },
      "source": [
        "while True:\n",
        "    n = int(input(\"Entrer un entier :\"))\n",
        "    print('n =', n)\n",
        "    if n == 0:\n",
        "        break\n"
      ],
      "execution_count": 1,
      "outputs": [
        {
          "output_type": "stream",
          "text": [
            "Entrer un entier :5\n",
            "n = 5\n",
            "Entrer un entier :2\n",
            "n = 2\n",
            "Entrer un entier :1\n",
            "n = 1\n",
            "Entrer un entier :0\n",
            "n = 0\n"
          ],
          "name": "stdout"
        }
      ]
    },
    {
      "cell_type": "markdown",
      "metadata": {
        "id": "D1QjwZzbLpfB"
      },
      "source": [
        "### Deuxième solution, avec un \"drapeau\""
      ]
    },
    {
      "cell_type": "code",
      "metadata": {
        "id": "nFY3ZAi5LuvQ",
        "outputId": "aacefc61-0bc2-4abc-b464-c13d0b1c43bd",
        "colab": {
          "base_uri": "https://localhost:8080/"
        }
      },
      "source": [
        "boucle = True\n",
        "while boucle:\n",
        "    n = int(input(\"Entrer un entier :\"))\n",
        "    print('n =', n)\n",
        "    if n == 0:\n",
        "        boucle = False"
      ],
      "execution_count": null,
      "outputs": [
        {
          "output_type": "stream",
          "text": [
            "Entrer un entier :5\n",
            "n = 5\n",
            "Entrer un entier :2\n",
            "n = 2\n",
            "Entrer un entier :0\n",
            "n = 0\n"
          ],
          "name": "stdout"
        }
      ]
    },
    {
      "cell_type": "markdown",
      "metadata": {
        "id": "sx-UKLE1L-rD"
      },
      "source": [
        "### Troisième solution : avec la condition `n!=0`"
      ]
    },
    {
      "cell_type": "code",
      "metadata": {
        "id": "msq5j1NbMFGO",
        "outputId": "542d5d08-9d7c-42a7-d80f-7a42d555c136",
        "colab": {
          "base_uri": "https://localhost:8080/"
        }
      },
      "source": [
        "n = int(input(\"Entrer un entier :\"))\n",
        "print('n =', n)\n",
        "\n",
        "while n != 0: # ARRET si n == 0\n",
        "    n = int(input(\"Entrer un entier :\"))\n",
        "    print('n =', n)"
      ],
      "execution_count": null,
      "outputs": [
        {
          "output_type": "stream",
          "text": [
            "Entrer un entier :5\n",
            "n = 5\n",
            "Entrer un entier :1\n",
            "n = 1\n",
            "Entrer un entier :0\n",
            "n = 0\n"
          ],
          "name": "stdout"
        }
      ]
    }
  ]
}