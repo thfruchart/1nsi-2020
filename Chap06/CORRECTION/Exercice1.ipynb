{
  "nbformat": 4,
  "nbformat_minor": 0,
  "metadata": {
    "colab": {
      "name": "06-CORRECTION-Exercice1.ipynb",
      "provenance": [],
      "authorship_tag": "ABX9TyNAX1f6QBajoxCMEb8knFRu",
      "include_colab_link": true
    },
    "kernelspec": {
      "name": "python3",
      "display_name": "Python 3"
    }
  },
  "cells": [
    {
      "cell_type": "markdown",
      "metadata": {
        "id": "view-in-github",
        "colab_type": "text"
      },
      "source": [
        "<a href=\"https://colab.research.google.com/github/thfruchart/1nsi-2020/blob/master/Chap06/CORRECTION/Exercice1.ipynb\" target=\"_parent\"><img src=\"https://colab.research.google.com/assets/colab-badge.svg\" alt=\"Open In Colab\"/></a>"
      ]
    },
    {
      "cell_type": "markdown",
      "metadata": {
        "id": "IZmmwKfdeo-O"
      },
      "source": [
        "# Exercice 1"
      ]
    },
    {
      "cell_type": "markdown",
      "metadata": {
        "id": "SqPVLPdreqzH"
      },
      "source": [
        "question 1) \n",
        "\n",
        "Une seule instruction permet d'ajoute un nouveau maillon : \n",
        "\n",
        "\n",
        "`lst.suivant = Maillon(15, lst.suivant)`\n",
        "\n",
        "Voir sur [PythonTutor](http://www.pythontutor.com/visualize.html#code=class%20Maillon%3A%20%20%23%20identique%20%C3%A0%20celle%20du%20cours%0A%20%20%20%20def%20__init__%28self,%20val,%20suiv%3DNone%29%3A%0A%20%20%20%20%20%20%20%20self.valeur%20%3D%20val%0A%20%20%20%20%20%20%20%20self.suivant%20%3D%20suiv%0A%0Alst%20%3D%20Maillon%2810,%20Maillon%2820%29%29%0A%0Alst.suivant%20%3D%20Maillon%2815,%20lst.suivant%29&cumulative=false&curInstr=15&heapPrimitives=nevernest&mode=display&origin=opt-frontend.js&py=3&rawInputLstJSON=%5B%5D&textReferences=false)"
      ]
    },
    {
      "cell_type": "code",
      "metadata": {
        "id": "WsVGvkhXeoh1"
      },
      "source": [
        ""
      ],
      "execution_count": null,
      "outputs": []
    }
  ]
}