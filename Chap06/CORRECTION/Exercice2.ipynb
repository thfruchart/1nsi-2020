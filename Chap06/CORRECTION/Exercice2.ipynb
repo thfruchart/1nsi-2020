{
  "nbformat": 4,
  "nbformat_minor": 0,
  "metadata": {
    "colab": {
      "name": "06-CORRECTION-Exercice2.ipynb",
      "provenance": [],
      "collapsed_sections": [],
      "authorship_tag": "ABX9TyN4BUTos/cbzeOLo9PZejLO",
      "include_colab_link": true
    },
    "kernelspec": {
      "name": "python3",
      "display_name": "Python 3"
    }
  },
  "cells": [
    {
      "cell_type": "markdown",
      "metadata": {
        "id": "view-in-github",
        "colab_type": "text"
      },
      "source": [
        "<a href=\"https://colab.research.google.com/github/thfruchart/1nsi-2020/blob/master/Chap06/CORRECTION/Exercice2.ipynb\" target=\"_parent\"><img src=\"https://colab.research.google.com/assets/colab-badge.svg\" alt=\"Open In Colab\"/></a>"
      ]
    },
    {
      "cell_type": "markdown",
      "metadata": {
        "id": "i-16y6bVOlK1"
      },
      "source": [
        "Si n est un entier strictement positif, on note image( n) le nombre entier tel que :\n",
        "\n",
        "* si n est pair : image( n)= n //2\n",
        "\n",
        "* si n est impair : image( n)=3×n+ 1\n",
        "\n",
        "\n",
        "Par exemple, \n",
        "\n",
        "`image(4) = 2` puisque 4 est pair ; \n",
        "\n",
        "`image(3) = 10` puisque 3 est impair et 3*3+1 = 10\n",
        "\n",
        "\n",
        "**a)** programmer en python la fonction image(n)"
      ]
    },
    {
      "cell_type": "code",
      "metadata": {
        "id": "8c0uemKWObWL",
        "outputId": "10c0a760-a2a5-41e9-9cf7-21819d0f8798",
        "colab": {
          "base_uri": "https://localhost:8080/"
        }
      },
      "source": [
        "def image(n):\n",
        "    if n%2 == 0: # n est pair\n",
        "        return n // 2\n",
        "    else :  # n est impair\n",
        "        return 3*n+1\n",
        "\n",
        "print(image(4))\n",
        "print(image(3))"
      ],
      "execution_count": 1,
      "outputs": [
        {
          "output_type": "stream",
          "text": [
            "2\n",
            "10\n"
          ],
          "name": "stdout"
        }
      ]
    },
    {
      "cell_type": "markdown",
      "metadata": {
        "id": "vz8reORKPWnj"
      },
      "source": [
        "b) écrire un programme qui :\n",
        "*  demande à l’utilisateur de saisir un nombre entier n strictement positif.\n",
        "*  Affiche l’image de n, puis l’image de l’image de n, et ainsi de suite, jusqu’à ce que la valeur affichée\n",
        "soit 1."
      ]
    },
    {
      "cell_type": "code",
      "metadata": {
        "id": "eqDOmwshPatR",
        "outputId": "15b6907c-b208-4537-fafb-cd8c2fa9d68c",
        "colab": {
          "base_uri": "https://localhost:8080/"
        }
      },
      "source": [
        "n = int(input('Entrer un entier strictement positif :'))\n",
        "while n!=1: # ARRET si n == 1\n",
        "    n = image(n)\n",
        "    print(n)"
      ],
      "execution_count": null,
      "outputs": [
        {
          "output_type": "stream",
          "text": [
            "Entrer un entier strictement positif :3\n",
            "10\n",
            "5\n",
            "16\n",
            "8\n",
            "4\n",
            "2\n",
            "1\n"
          ],
          "name": "stdout"
        }
      ]
    }
  ]
}