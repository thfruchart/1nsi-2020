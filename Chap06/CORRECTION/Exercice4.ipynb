{
  "nbformat": 4,
  "nbformat_minor": 0,
  "metadata": {
    "colab": {
      "name": "06-CORRECTION-Exercice4.ipynb",
      "provenance": [],
      "collapsed_sections": [],
      "authorship_tag": "ABX9TyPoMPuAg7JaqJNBeBMNAQZz",
      "include_colab_link": true
    },
    "kernelspec": {
      "name": "python3",
      "display_name": "Python 3"
    }
  },
  "cells": [
    {
      "cell_type": "markdown",
      "metadata": {
        "id": "view-in-github",
        "colab_type": "text"
      },
      "source": [
        "<a href=\"https://colab.research.google.com/github/thfruchart/1nsi-2020/blob/master/Chap06/CORRECTION/Exercice4.ipynb\" target=\"_parent\"><img src=\"https://colab.research.google.com/assets/colab-badge.svg\" alt=\"Open In Colab\"/></a>"
      ]
    },
    {
      "cell_type": "markdown",
      "metadata": {
        "id": "E3wI4jEzUSpB"
      },
      "source": [
        "# Exercice 4"
      ]
    },
    {
      "cell_type": "markdown",
      "metadata": {
        "id": "geWeygyBUUjv"
      },
      "source": [
        "Devine le nombre est un jeu dont le but est de deviner un nombre secret.\n",
        "\n",
        "A chaque tour, le joueur propose une valeur et le maître du jeu (ici l’ordinateur) indique si le nombre secret\n",
        "est plus petit, plus grand, ou si la partie est gagnée."
      ]
    },
    {
      "cell_type": "code",
      "metadata": {
        "id": "eTdRXbU7UK4T",
        "outputId": "a19867ab-e456-4047-9f1a-53624bc83667",
        "colab": {
          "base_uri": "https://localhost:8080/"
        }
      },
      "source": [
        "from random import randint\n",
        "\n",
        "secret = randint(1,100)\n",
        "\n",
        "# par commodité, pour le test du programme, on choisit un nombre secret connu\n",
        "secret = 5\n",
        "\n",
        "print('Devine le nombre !')\n",
        "n = int(input())\n",
        "while n != secret : # ARRET si n==secret\n",
        "    if n > secret :\n",
        "        print(\"plus petit\")\n",
        "    else :\n",
        "        print(\"plus grand\")\n",
        "    n = int(input())\n",
        "\n",
        "print(\"Gagné !\")"
      ],
      "execution_count": null,
      "outputs": [
        {
          "output_type": "stream",
          "text": [
            "Devine le nombre !\n",
            "8\n",
            "plus petit\n",
            "4\n",
            "plus grand\n",
            "6\n",
            "plus petit\n",
            "5\n",
            "Gagné !\n"
          ],
          "name": "stdout"
        }
      ]
    },
    {
      "cell_type": "markdown",
      "metadata": {
        "id": "e3UOgXKOVSgF"
      },
      "source": [
        "#### Modifier le programme pour limiter le nombre de tours, par exemple à 8 tours au maximum."
      ]
    },
    {
      "cell_type": "code",
      "metadata": {
        "id": "8HdUJYpFVV2C",
        "outputId": "a7ac1508-fbc2-4293-8a5f-4e1211e73e85",
        "colab": {
          "base_uri": "https://localhost:8080/"
        }
      },
      "source": [
        "from random import randint\n",
        "\n",
        "secret = randint(1,100)\n",
        "\n",
        "# par commodité, pour le test du programme, on choisit un nombre secret connu\n",
        "secret = 5\n",
        "\n",
        "print('Devine le nombre !')\n",
        "n = int(input())\n",
        "cpt = 1\n",
        "\n",
        "while n != secret and cpt < 8 : # ARRET si n==secret  ou cpt >= 8\n",
        "    if n > secret :\n",
        "        print(\"plus petit\")\n",
        "    else :\n",
        "        print(\"plus grand\")\n",
        "    n = int(input())\n",
        "    cpt += 1\n",
        "\n",
        "if n == secret : \n",
        "    print(\"Gagné au bout de\", cpt, \"essai(s)\")\n",
        "else : \n",
        "    print('Perdu, le nombre secret était : ', secret)"
      ],
      "execution_count": null,
      "outputs": [
        {
          "output_type": "stream",
          "text": [
            "Devine le nombre !\n",
            "100\n",
            "plus petit\n",
            "90\n",
            "plus petit\n",
            "80\n",
            "plus petit\n",
            "70\n",
            "plus petit\n",
            "60\n",
            "plus petit\n",
            "50\n",
            "plus petit\n",
            "40\n",
            "plus petit\n",
            "30\n",
            "Perdu, le nombre secret était :  5\n"
          ],
          "name": "stdout"
        }
      ]
    }
  ]
}