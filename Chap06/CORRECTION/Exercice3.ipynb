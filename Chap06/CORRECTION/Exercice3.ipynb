{
  "nbformat": 4,
  "nbformat_minor": 0,
  "metadata": {
    "colab": {
      "name": "06/CORRECTION/Exercice3.ipynb",
      "provenance": [],
      "collapsed_sections": [],
      "authorship_tag": "ABX9TyO5pRxf6XRnhT+bBGbqlmCq",
      "include_colab_link": true
    },
    "kernelspec": {
      "name": "python3",
      "display_name": "Python 3"
    }
  },
  "cells": [
    {
      "cell_type": "markdown",
      "metadata": {
        "id": "view-in-github",
        "colab_type": "text"
      },
      "source": [
        "<a href=\"https://colab.research.google.com/github/thfruchart/1nsi-2020/blob/master/Chap06/CORRECTION/Exercice3.ipynb\" target=\"_parent\"><img src=\"https://colab.research.google.com/assets/colab-badge.svg\" alt=\"Open In Colab\"/></a>"
      ]
    },
    {
      "cell_type": "code",
      "metadata": {
        "id": "exwnprf5_4wA",
        "outputId": "a89da00f-c1a1-4e41-f97b-2cad2833f40c",
        "colab": {
          "base_uri": "https://localhost:8080/"
        }
      },
      "source": [
        "class Maillon:\n",
        "    def __init__(self, val, suiv=None):\n",
        "        self.valeur = val\n",
        "        self.suivant = suiv\n",
        "\n",
        "    def __str__(self):\n",
        "        if self.suivant is None:\n",
        "            return str(self.valeur)\n",
        "        return str(self.valeur) + '-' + str(self.suivant)\n",
        "\n",
        "def insere_tri(x, lst):\n",
        "    ''' renvoie une nouvelle chaîne de maillons dans laquelle x est inséré à sa place'''\n",
        "    if lst is None or x < lst.valeur :\n",
        "        return Maillon(x, lst)\n",
        "    return Maillon(lst.valeur, insere_tri(x, lst.suivant))\n",
        "\n",
        "lst1 = Maillon(1, Maillon(2,Maillon(5, Maillon(8,None ))))\n",
        "lst2 = insere_tri(3, lst1)\n",
        "print(lst1)\n",
        "print(lst2)\n"
      ],
      "execution_count": 2,
      "outputs": [
        {
          "output_type": "stream",
          "text": [
            "1-2-3-5-8\n",
            "1-2-5-8\n"
          ],
          "name": "stdout"
        }
      ]
    }
  ]
}