{
  "nbformat": 4,
  "nbformat_minor": 0,
  "metadata": {
    "colab": {
      "name": "06-CORRECTION-Exercice3.ipynb",
      "provenance": [],
      "collapsed_sections": [],
      "authorship_tag": "ABX9TyP8WvvCoZKUMawpmYJpKRxL",
      "include_colab_link": true
    },
    "kernelspec": {
      "name": "python3",
      "display_name": "Python 3"
    }
  },
  "cells": [
    {
      "cell_type": "markdown",
      "metadata": {
        "id": "view-in-github",
        "colab_type": "text"
      },
      "source": [
        "<a href=\"https://colab.research.google.com/github/thfruchart/1nsi-2020/blob/master/Chap06/CORRECTION/Exercice3.ipynb\" target=\"_parent\"><img src=\"https://colab.research.google.com/assets/colab-badge.svg\" alt=\"Open In Colab\"/></a>"
      ]
    },
    {
      "cell_type": "markdown",
      "metadata": {
        "id": "ha2DOWyfRZtS"
      },
      "source": [
        "# Exercice 3"
      ]
    },
    {
      "cell_type": "markdown",
      "metadata": {
        "id": "nl9VKEfsRbVw"
      },
      "source": [
        "#### 1) En utilisant l’exercice 2, écrire un programme qui fait la même chose que dans l’exercice 2, en affichant en plus :"
      ]
    },
    {
      "cell_type": "markdown",
      "metadata": {
        "id": "HiGTO6nYQSnL"
      },
      "source": [
        "\n",
        "*  le nombre d’étapes pour arriver au nombre 1\n",
        "*  la valeur maximale qui a été rencontrée en chemin.\n",
        "\n",
        "\n",
        "Pour le nombre de départ 7, le nombre d’étapes doit être 16 et le nombre maximal obtenu doit être 52."
      ]
    },
    {
      "cell_type": "code",
      "metadata": {
        "id": "sQ-gwaHZQGnu",
        "outputId": "accf6d6e-c149-4a59-c78e-8297ca0eff16",
        "colab": {
          "base_uri": "https://localhost:8080/"
        }
      },
      "source": [
        "def image(n):\n",
        "    if n%2 == 0:\n",
        "        return n // 2\n",
        "    else : \n",
        "        return 3*n+1\n",
        "    \n",
        "\n",
        "n = int(input('Entrer un entier strictement positif :'))\n",
        "cpt = 0\n",
        "valeur_max = n\n",
        "\n",
        "while n!=1:\n",
        "    cpt += 1\n",
        "    n = image(n)\n",
        "    print(n)\n",
        "    if n > valeur_max:\n",
        "        valeur_max = n\n",
        "\n",
        "\n",
        "print(\"\\n Nombre d'étapes : \", cpt)\n",
        "print(\" Valeur maximale : \", valeur_max)"
      ],
      "execution_count": null,
      "outputs": [
        {
          "output_type": "stream",
          "text": [
            "Entrer un entier strictement positif :3\n",
            "10\n",
            "5\n",
            "16\n",
            "8\n",
            "4\n",
            "2\n",
            "1\n",
            "\n",
            " Nombre d'étapes :  7\n",
            "Valeur maximale :  16\n"
          ],
          "name": "stdout"
        }
      ]
    },
    {
      "cell_type": "markdown",
      "metadata": {
        "id": "fq5CXeIsRp4Y"
      },
      "source": [
        "#### 2)  parmi tous les entiers de 1 à 20 : "
      ]
    },
    {
      "cell_type": "markdown",
      "metadata": {
        "id": "Pax-whx6RPcS"
      },
      "source": [
        "\n",
        "*  quel est l’entier de départ qui donne le nombre maximal d’étapes pour arriver à la valeur 1\n",
        "* quel est l’entier de départ qui donne la plus grande valeur maximale rencontrée en chemin."
      ]
    },
    {
      "cell_type": "code",
      "metadata": {
        "id": "tITt25aVRtbY",
        "outputId": "f82701de-4c6d-450e-ea7d-6c3cb5c58fd7",
        "colab": {
          "base_uri": "https://localhost:8080/"
        }
      },
      "source": [
        "def image(n):\n",
        "    if n%2 == 0:\n",
        "        return n // 2\n",
        "    else : \n",
        "        return 3*n+1\n",
        "\n",
        "max_cpt = 0\n",
        "max_cpt_si_n_egale = 0\n",
        "max_valeur_max = 0    \n",
        "max_valeur_max_si_n_egale = 0\n",
        "\n",
        "for k in range(1, 21):\n",
        "    n = k\n",
        "    cpt = 0\n",
        "    valeur_max = n\n",
        "\n",
        "    while n!=1:\n",
        "        cpt += 1\n",
        "        n = image(n)\n",
        "        #print(n)\n",
        "        if n > valeur_max:\n",
        "            valeur_max = n\n",
        "\n",
        "    if cpt > max_cpt:\n",
        "        max_cpt = cpt\n",
        "        max_cpt_si_n_egale = k\n",
        "    \n",
        "    if valeur_max > max_valeur_max :\n",
        "        max_valeur_max = valeur_max\n",
        "        max_valeur_max_si_n_egale = k\n",
        "\n",
        "\n",
        "\n",
        "print(\"Nombre maximal d'étapes  : \", max_cpt, \"pour n = \", max_cpt_si_n_egale)\n",
        "print(\"Valeur maximale atteinte : \", max_valeur_max, \"pour n =\", max_valeur_max_si_n_egale)"
      ],
      "execution_count": null,
      "outputs": [
        {
          "output_type": "stream",
          "text": [
            "Nombre maximal d'étapes  :  20 pour n =  18\n",
            "Valeur maximale atteinte :  160 pour n = 15\n"
          ],
          "name": "stdout"
        }
      ]
    }
  ]
}