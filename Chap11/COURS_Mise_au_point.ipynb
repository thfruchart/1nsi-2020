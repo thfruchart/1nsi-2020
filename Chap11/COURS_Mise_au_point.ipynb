{
  "nbformat": 4,
  "nbformat_minor": 0,
  "metadata": {
    "colab": {
      "name": "Chap11_COURS_Mise_au_point.ipynb",
      "provenance": [],
      "collapsed_sections": [],
      "authorship_tag": "ABX9TyOxDUDD0SVm94r9uDdcZxPD",
      "include_colab_link": true
    },
    "kernelspec": {
      "name": "python3",
      "display_name": "Python 3"
    }
  },
  "cells": [
    {
      "cell_type": "markdown",
      "metadata": {
        "id": "view-in-github",
        "colab_type": "text"
      },
      "source": [
        "<a href=\"https://colab.research.google.com/github/thfruchart/1nsi-2020/blob/master/Chap11/COURS_Mise_au_point.ipynb\" target=\"_parent\"><img src=\"https://colab.research.google.com/assets/colab-badge.svg\" alt=\"Open In Colab\"/></a>"
      ]
    },
    {
      "cell_type": "markdown",
      "metadata": {
        "id": "H-3Og4uyBm1w"
      },
      "source": [
        "# Variant de boucle, et invariant de boucle"
      ]
    },
    {
      "cell_type": "markdown",
      "metadata": {
        "id": "Du8iS9RVBrEP"
      },
      "source": [
        "## 1. Rappel : notion de variant de boucle"
      ]
    },
    {
      "cell_type": "markdown",
      "metadata": {
        "id": "-7OqgIjaBt13"
      },
      "source": [
        "Un variant de boucle sert à prouver qu'une boucle termine. Il s'agit : \r\n",
        "* d'une expression de type **entier naturel**\r\n",
        "* qui **décroît strictement** dans le corps de la boucle\r\n",
        "\r\n",
        "La technique du variant permet de prouver la **terminaison** d'un programme."
      ]
    },
    {
      "cell_type": "markdown",
      "metadata": {
        "id": "pHlt9Gy6EK_o"
      },
      "source": [
        "#### Exemple"
      ]
    },
    {
      "cell_type": "code",
      "metadata": {
        "id": "p4VyjrFXBga1"
      },
      "source": [
        "def division_euclidienne(a,b):\r\n",
        "    ''' a et b sont deux entiers naturels, b est non nul\r\n",
        "    renvoie le couple (q,r) tel que : \r\n",
        "    q est le quotient et r est le reste de la division entière de a par b, \r\n",
        "    c'est à dire :  a = b*q+r  et  0 <= r < b'''\r\n",
        "    q = 0\r\n",
        "    r = a\r\n",
        "    while r>=b :\r\n",
        "        q += 1\r\n",
        "        r -= b\r\n",
        "    return (q,r)\r\n"
      ],
      "execution_count": null,
      "outputs": []
    },
    {
      "cell_type": "markdown",
      "metadata": {
        "id": "wEjb7QsXCBAH"
      },
      "source": [
        "**1)** Décrire un variant de la boucle `while` de la fonction `division_euclidienne` : "
      ]
    },
    {
      "cell_type": "markdown",
      "metadata": {
        "id": "0DcyeYGjESeH"
      },
      "source": [
        "**2)** Ecrire un jeu de tests pour cette fonction, en utilisant des assertions"
      ]
    },
    {
      "cell_type": "code",
      "metadata": {
        "id": "izZOz9HMDI7s"
      },
      "source": [
        ""
      ],
      "execution_count": null,
      "outputs": []
    },
    {
      "cell_type": "markdown",
      "metadata": {
        "id": "DELgIgZWEZvv"
      },
      "source": [
        "## 2. Notion d'invariant de boucle"
      ]
    },
    {
      "cell_type": "markdown",
      "metadata": {
        "id": "iHWKrMZ1EfrH"
      },
      "source": [
        "On appelle *invariant de boucle*, une propriété  : \r\n",
        "* qui est vérifiée initialement, à l'entrée dans la boucle\r\n",
        "* et qui est maintenue vraie à chaque itération de la boucle. \r\n",
        "\r\n",
        "Un **invariant de boucle** sert à **prouver**  qu'une propriété est vérifiée tout au long de l'exécution de la boucle, et en particulier, en sortie de boucle.\r\n",
        "\r\n",
        "On dit qu'on justifie ainsi la **correction** du programme. "
      ]
    },
    {
      "cell_type": "markdown",
      "metadata": {
        "id": "C4V6Fz2TFJJg"
      },
      "source": [
        "#### exemple 1 : `r >= 0`"
      ]
    },
    {
      "cell_type": "markdown",
      "metadata": {
        "id": "0wf_4hygFRvP"
      },
      "source": [
        "Expliquer pourquoi la propriété `r >= 0` est un invariant de la boucle while dans cette fonction.\r\n",
        "\r\n",
        "* initialement : \r\n",
        "* lors de chaque itération : "
      ]
    },
    {
      "cell_type": "code",
      "metadata": {
        "id": "R6kJyEPTFLMX"
      },
      "source": [
        "def division_euclidienne(a,b):\r\n",
        "    ''' a et b sont deux entiers naturels, b est non nul\r\n",
        "    renvoie le couple (q,r) tel que : \r\n",
        "    q est le quotient et r est le reste de la division entière de a par b, \r\n",
        "    c'est à dire :  a = b*q+r  et  0 <= r < b'''\r\n",
        "    q = 0\r\n",
        "    r = a\r\n",
        "    while r>=b :\r\n",
        "        # invariant : r >= 0\r\n",
        "        q += 1\r\n",
        "        r -= b\r\n",
        "    return (q,r)"
      ],
      "execution_count": null,
      "outputs": []
    },
    {
      "cell_type": "markdown",
      "metadata": {
        "id": "DtFSLQ-NFknW"
      },
      "source": [
        "#### exemple 2 : `a = b*q+r`"
      ]
    },
    {
      "cell_type": "markdown",
      "metadata": {
        "id": "XIXjDQLcFuJM"
      },
      "source": [
        "Expliquer pourquoi la propriété `a = b*q+r` est un invariant de la boucle while dans cette fonction.\r\n",
        "\r\n",
        "* initialement : \r\n",
        "* lors de chaque itération : "
      ]
    },
    {
      "cell_type": "code",
      "metadata": {
        "id": "RcqHK8UWF0OD"
      },
      "source": [
        "def division_euclidienne(a,b):\r\n",
        "    ''' a et b sont deux entiers naturels, b est non nul\r\n",
        "    renvoie le couple (q,r) tel que : \r\n",
        "    q est le quotient et r est le reste de la division entière de a par b, \r\n",
        "    c'est à dire :  a = b*q+r  et  0 <= r < b'''\r\n",
        "    q = 0\r\n",
        "    r = a\r\n",
        "    while r>=b :\r\n",
        "        # invariant : a = b*q + r\r\n",
        "        q += 1\r\n",
        "        r -= b\r\n",
        "    return (q,r)"
      ],
      "execution_count": null,
      "outputs": []
    },
    {
      "cell_type": "markdown",
      "metadata": {
        "id": "wqqdWYI8Ftb5"
      },
      "source": [
        "#### Conclusion"
      ]
    },
    {
      "cell_type": "markdown",
      "metadata": {
        "id": "BU_n-u1JF5vn"
      },
      "source": [
        "1. A la fin de la boucle `while r>=b :`  la condition de boucle devient fausse, donc ...\r\n",
        "2. A chaque itération de la boucle : les deux invariants sont maintenus vrais : \r\n",
        "   * `0 <= r`\r\n",
        "   * `a = b*q+r`\r\n",
        "\r\n",
        "On peut donc affirmer que le couple `(q,r)` renvoyé par la fonction vérifie les deux conditions **`a = b*q+r` et `0 <= r < b`**\r\n",
        "\r\n",
        "Ceci prouve la **correction** de cette fonction, c'est à dire l'ensemble de propriétés décrites dans la spécification. "
      ]
    },
    {
      "cell_type": "markdown",
      "metadata": {
        "id": "bECM1AykHjTP"
      },
      "source": [
        "## 3. Invariant d'une boucle `for`"
      ]
    },
    {
      "cell_type": "markdown",
      "metadata": {
        "id": "TSGS7K7NHp8P"
      },
      "source": [
        "Pour prouver la correction d'un programme utilisant une boucle `for`, on peut utiliser un invariant de boucle qui fait référence à l'indice de boucle. \r\n",
        "\r\n",
        "Voir l'exemple suivant : "
      ]
    },
    {
      "cell_type": "code",
      "metadata": {
        "colab": {
          "base_uri": "https://localhost:8080/"
        },
        "id": "P_4XqFTYH31s",
        "outputId": "1567ef0e-42ba-4be3-c2e3-d122433d4465"
      },
      "source": [
        "def somme_premiers_entiers(n):\r\n",
        "    ''' renvoie la somme des entiers naturels de 0 à n inclus'''\r\n",
        "    s = 0\r\n",
        "    for i in range(1, n+1):\r\n",
        "        s = s+i\r\n",
        "    return s\r\n",
        "\r\n",
        "assert somme_premiers_entiers(3)==1+2+3\r\n",
        "assert somme_premiers_entiers(4)==1+2+3+4\r\n",
        "assert somme_premiers_entiers(0)==0\r\n",
        "print('test ok')"
      ],
      "execution_count": 8,
      "outputs": [
        {
          "output_type": "stream",
          "text": [
            "test ok\n"
          ],
          "name": "stdout"
        }
      ]
    },
    {
      "cell_type": "markdown",
      "metadata": {
        "id": "iZbc85oTIZZ-"
      },
      "source": [
        "On souhaite écrire un invariant de boucle, permettant de prouver la correction de cette fonction \"pour tout entier naturel n\".\r\n",
        "\r\n",
        "On choisit d'écrire cet invariant sous la forme : \r\n",
        "`à l'entrée de la boucle, s est la somme des entiers de 0 à (i-1)`\r\n",
        "\r\n",
        "* initialement, s = 0, et lorsque la boucle `for` s'exécute pour la première fois, i = 1, donc la \"somme des entiers de 0 à i-1\" vaut 0 également. \r\n",
        "* à chaque itération de la boucle, \r\n",
        "   * la précondition est :   `s = 0 + ... + (i-1)` \r\n",
        "   * on exécute : `s = s+i`  \r\n",
        "   * donc après cette instruction :  `s = 0 + ... + (i-1)+i`\r\n",
        "   * donc la postcondition est `s = 0 + ... + (i-1)+i` \r\n",
        "   * cette postcondition correspond exactement à la précondition de l'itération suivante dans la boucle => c'est donc un **invariant** de boucle"
      ]
    },
    {
      "cell_type": "code",
      "metadata": {
        "id": "hCdNsOoDIi_8"
      },
      "source": [
        "def somme_premiers_entiers(n):\r\n",
        "    ''' renvoie la somme des entiers naturels de 0 à n inclus'''\r\n",
        "    s = 0\r\n",
        "    for i in range(1, n+1):\r\n",
        "        # précondition s = 0 + ... + (i-1) : somme des entiers de 0 à (i-1)\r\n",
        "        s = s+i\r\n",
        "        # postcondition s = 0 + ... + (i-1)+i  : somme des entiers de 0 à i \r\n",
        "    return s"
      ],
      "execution_count": null,
      "outputs": []
    },
    {
      "cell_type": "markdown",
      "metadata": {
        "id": "wSW2l1gNMG4H"
      },
      "source": [
        "Conclusion : \r\n",
        "\r\n",
        "* la valeur **renvoyée** par la fonction est obtenue à la sortie de la boucle for, pour **i = n**\r\n",
        "* c'est donc la valeur `s = somme des entiers de 0 à n` "
      ]
    },
    {
      "cell_type": "markdown",
      "metadata": {
        "id": "kcFtF7EEOmlf"
      },
      "source": [
        "## Exercice 1"
      ]
    },
    {
      "cell_type": "code",
      "metadata": {
        "id": "6t9R0XjuO0Zd"
      },
      "source": [
        "def puissance(x,n):\r\n",
        "    r = 1\r\n",
        "    for i in range(n):\r\n",
        "        # \r\n",
        "        r = r * x\r\n",
        "        # \r\n",
        "    return r"
      ],
      "execution_count": null,
      "outputs": []
    },
    {
      "cell_type": "markdown",
      "metadata": {
        "id": "1ZrXa4glOo1g"
      },
      "source": [
        "1. Ecrire une chaîne de documentation pour cette fonction\r\n",
        "2. Donner un invariant de boucle pour cette fonction, pour prouver qu'elle est correcte.  "
      ]
    },
    {
      "cell_type": "markdown",
      "metadata": {
        "id": "ig6nUUzHPDJN"
      },
      "source": [
        "## Exercice 2"
      ]
    },
    {
      "cell_type": "code",
      "metadata": {
        "id": "ytxm4du8PJPd"
      },
      "source": [
        "def f(t):\r\n",
        "    ''' t est un tableau de nombres,\r\n",
        "    la fonction renvoie ...  '''\r\n",
        "    s = 0\r\n",
        "    for i in range(len(t)):\r\n",
        "        # \r\n",
        "        s = s+ t[i]\r\n",
        "        # \r\n",
        "    return s"
      ],
      "execution_count": null,
      "outputs": []
    },
    {
      "cell_type": "markdown",
      "metadata": {
        "id": "7ptvb-WmPS6Z"
      },
      "source": [
        "1. Compléter la chaîne de documentation pour cette fonction\r\n",
        "2. Donner un invariant de boucle pour cette fonction, pour prouver qu'elle est correcte. "
      ]
    }
  ]
}