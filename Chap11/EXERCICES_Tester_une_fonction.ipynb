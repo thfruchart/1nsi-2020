{
  "nbformat": 4,
  "nbformat_minor": 0,
  "metadata": {
    "colab": {
      "name": "Chap11_EXERCICES_Tester-une-fonction.ipynb",
      "provenance": [],
      "collapsed_sections": [],
      "authorship_tag": "ABX9TyPrlYkkvGfM+OclLWk0vi+V",
      "include_colab_link": true
    },
    "kernelspec": {
      "name": "python3",
      "display_name": "Python 3"
    }
  },
  "cells": [
    {
      "cell_type": "markdown",
      "metadata": {
        "id": "view-in-github",
        "colab_type": "text"
      },
      "source": [
        "<a href=\"https://colab.research.google.com/github/thfruchart/1nsi-2020/blob/master/Chap11/EXERCICES_Tester_une_fonction.ipynb\" target=\"_parent\"><img src=\"https://colab.research.google.com/assets/colab-badge.svg\" alt=\"Open In Colab\"/></a>"
      ]
    },
    {
      "cell_type": "markdown",
      "metadata": {
        "id": "2zeZsba5slvz"
      },
      "source": [
        "# Exercice 1"
      ]
    },
    {
      "cell_type": "markdown",
      "metadata": {
        "id": "nuI7pCK4somz"
      },
      "source": [
        "La fonction suivante doit tester si une valeur `v` appartient à un tableau `t`."
      ]
    },
    {
      "cell_type": "code",
      "metadata": {
        "id": "ShtkmKC5sdOF"
      },
      "source": [
        "def appartient(v, t): \r\n",
        "        for i in range(len(t)):\r\n",
        "            if v == t[i]:\r\n",
        "                trouvee = True\r\n",
        "            else:\r\n",
        "                trouvee = False\r\n",
        "        return trouvee\r\n"
      ],
      "execution_count": null,
      "outputs": []
    },
    {
      "cell_type": "markdown",
      "metadata": {
        "id": "LlPRwB0BsxCz"
      },
      "source": [
        "1. Proposer un jeu de tests pour cette fonction, en particulier un test qui montre qu’elle est incorrecte.\r\n",
        "2. Ecrire une spécification pour cette fonction, sous forme de chaîne de documentation.\r\n",
        "3. Proposer une correction de cette fonction."
      ]
    },
    {
      "cell_type": "markdown",
      "metadata": {
        "id": "NUOWGQ8Gs2B7"
      },
      "source": [
        "# Exercice 2"
      ]
    },
    {
      "cell_type": "markdown",
      "metadata": {
        "id": "WnhOoKTvs3wz"
      },
      "source": [
        "La fonction suivante doit tester si une valeur `v` appartient à un tableau `t`."
      ]
    },
    {
      "cell_type": "code",
      "metadata": {
        "id": "gIuT06ivtB1q"
      },
      "source": [
        "def appartient(v, t): \r\n",
        "    i = 0\r\n",
        "    while (i < len(t)-1) and (t[i] != v) :\r\n",
        "        i = i+1\r\n",
        "    return i<len(t)\r\n"
      ],
      "execution_count": null,
      "outputs": []
    },
    {
      "cell_type": "markdown",
      "metadata": {
        "id": "aKtsLxQhtEnM"
      },
      "source": [
        "1. Effectuer le suivi des variables lorsqu’on exécute : `appartient(20,[10,20,30])` => voir sur [PythonTutuor](http://www.pythontutor.com/visualize.html#code=def%20appartient%28v,%20t%29%3A%20%23%20version%20initiale%0A%20%20%20%20i%20%3D%200%0A%20%20%20%20while%20%28i%20%3C%20len%28t%29-1%29%20and%20%28t%5Bi%5D%20!%3D%20v%29%20%3A%0A%20%20%20%20%20%20%20%20i%20%3D%20i%2B1%0A%20%20%20%20return%20i%3Clen%28t%29%0A%0Aprint%28%20appartient%2820,%5B10,20,30%5D%29%29&cumulative=false&curInstr=2&heapPrimitives=nevernest&mode=display&origin=opt-frontend.js&py=3&rawInputLstJSON=%5B%5D&textReferences=false)\r\n",
        "\r\n",
        "2. Proposer un jeu de tests pour cette fonction, en particulier un test qui montre qu’elle est incorrecte.\r\n",
        "\r\n",
        "3. Proposer une correction de cette fonction => voir sur [PythonTutuor](http://www.pythontutor.com/visualize.html#code=def%20appartient%28v,%20t%29%3A%0A%20%20%20%20i%20%3D%200%0A%20%20%20%20while%20%28i%20%3C%20len%28t%29%29%20and%20%28t%5Bi%5D%20!%3D%20v%29%20%3A%0A%20%20%20%20%20%20%20%20i%20%3D%20i%2B1%0A%20%20%20%20return%20i%3Clen%28t%29%0A%0Aprint%28%20appartient%286,%20%5B1,2,3%5D%29%29&cumulative=false&curInstr=12&heapPrimitives=nevernest&mode=display&origin=opt-frontend.js&py=3&rawInputLstJSON=%5B%5D&textReferences=false)\r\n"
      ]
    },
    {
      "cell_type": "markdown",
      "metadata": {
        "id": "SIeR9c0htTts"
      },
      "source": [
        "# Exercice 3"
      ]
    },
    {
      "cell_type": "markdown",
      "metadata": {
        "id": "P-OMB51xvZWt"
      },
      "source": [
        "On donne la spécification d'une fontion `est_croissant`"
      ]
    },
    {
      "cell_type": "code",
      "metadata": {
        "id": "YUMQkL8DviT3"
      },
      "source": [
        "def est_croissant(t):\r\n",
        "    ''' t est un tableau dont les valeurs sont toutes comparables entre elles\r\n",
        "    la fonction renvoie True si t est trié par ordre croissant, et False sinon'''\r\n",
        "    \r\n",
        "    return\r\n"
      ],
      "execution_count": null,
      "outputs": []
    },
    {
      "cell_type": "markdown",
      "metadata": {
        "id": "PRSanS4SvyVx"
      },
      "source": [
        "1. Proposer un jeu de tests pour cette fonction, en utilisant des assertions. \r\n",
        "2. Coder la fonction.\r\n",
        "3. Tester la fonction, et corriger les éventuelles erreurs. "
      ]
    },
    {
      "cell_type": "markdown",
      "metadata": {
        "id": "PHty5KynvXX1"
      },
      "source": [
        "# Exercice 4 : pour aller plus loin !"
      ]
    },
    {
      "cell_type": "markdown",
      "metadata": {
        "id": "zobzlF-ItWjk"
      },
      "source": [
        "Les deux fonctions suivantes ont la même spécification."
      ]
    },
    {
      "cell_type": "code",
      "metadata": {
        "id": "DQ8jco53tYd8"
      },
      "source": [
        "def positive_copy(tab1,tab2):\r\n",
        "    '''tab1 et tab2 sont deux listes de MEME LONGUEUR\r\n",
        "    la fonction copie dans tab2 les valeurs POSITIVES de tab1\r\n",
        "    et copie la valeur 0 à la place des valeurs négatives'''\r\n",
        "    for i in range(len(tab1)):\r\n",
        "        if tab1[i] > 0 :\r\n",
        "            tab2[i] = tab1[i]\r\n",
        "        else :\r\n",
        "            tab2[i] = 0\r\n",
        "    return tab2\r\n",
        "\r\n",
        "\r\n",
        "def positive_copy_bis(tab1,tab2):\r\n",
        "    '''tab1 et tab2 sont deux listes de MEME LONGUEUR\r\n",
        "    la fonction copie dans tab2 les valeurs POSITIVES de tab1\r\n",
        "    et copie la valeur 0 à la place des valeurs négatives'''\r\n",
        "    for i in range(len(tab2)):\r\n",
        "        tab2[i] = 0\r\n",
        "    for i in range(len(tab1)):\r\n",
        "        if tab1[i] > 0 :\r\n",
        "            tab2[i] = tab1[i]\r\n",
        "    return tab2\r\n",
        "\r\n",
        "# tests pour la fonction positive_copy\r\n",
        "f = positive_copy\r\n",
        "t0 = [0,0,0]\r\n",
        "t1 = [2,3,4]\r\n",
        "t2 = [-2,-3,-4]\r\n",
        "t3 = [-1,2,-3]\r\n",
        "t4 = [4,-5,6]\r\n",
        "assert f(t1,t0)==[2,3,4]\r\n",
        "assert f(t2,t0)==[0,0,0]\r\n",
        "assert f(t3,t0)==[0,2,0]\r\n",
        "assert f(t4,t0)==[4,0,6]\r\n",
        "print(\"test OK pour\", f)\r\n"
      ],
      "execution_count": null,
      "outputs": []
    },
    {
      "cell_type": "markdown",
      "metadata": {
        "id": "0zEZBmaYtepV"
      },
      "source": [
        "1. Compléter l'ensemble de TESTS pour ces fonctions\r\n",
        "2. Montrer que `positive_copy_bis` est incorrecte."
      ]
    },
    {
      "cell_type": "code",
      "metadata": {
        "id": "xZamj0reLrqI"
      },
      "source": [
        ""
      ],
      "execution_count": null,
      "outputs": []
    }
  ]
}