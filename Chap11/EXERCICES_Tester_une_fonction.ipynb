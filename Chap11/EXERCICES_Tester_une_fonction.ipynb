{
  "nbformat": 4,
  "nbformat_minor": 0,
  "metadata": {
    "colab": {
      "name": "Chap11_EXERCICES_Tester-une-fonction.ipynb",
      "provenance": [],
      "collapsed_sections": [],
      "authorship_tag": "ABX9TyP3xgYe/UpnRUh8s4pPbQ6e",
      "include_colab_link": true
    },
    "kernelspec": {
      "name": "python3",
      "display_name": "Python 3"
    }
  },
  "cells": [
    {
      "cell_type": "markdown",
      "metadata": {
        "id": "view-in-github",
        "colab_type": "text"
      },
      "source": [
        "<a href=\"https://colab.research.google.com/github/thfruchart/1nsi-2020/blob/master/Chap11/EXERCICES_Tester_une_fonction.ipynb\" target=\"_parent\"><img src=\"https://colab.research.google.com/assets/colab-badge.svg\" alt=\"Open In Colab\"/></a>"
      ]
    },
    {
      "cell_type": "markdown",
      "metadata": {
        "id": "2zeZsba5slvz"
      },
      "source": [
        "# Exercice 1"
      ]
    },
    {
      "cell_type": "markdown",
      "metadata": {
        "id": "nuI7pCK4somz"
      },
      "source": [
        "La fonction suivante doit tester si une valeur `v` appartient à un tableau `t`."
      ]
    },
    {
      "cell_type": "code",
      "metadata": {
        "id": "ShtkmKC5sdOF"
      },
      "source": [
        "def appartient(v, t): \r\n",
        "        for i in range(len(t)):\r\n",
        "            if v == t[i]:\r\n",
        "                trouvee = True\r\n",
        "            else:\r\n",
        "                trouvee = False\r\n",
        "    return trouvee"
      ],
      "execution_count": null,
      "outputs": []
    },
    {
      "cell_type": "markdown",
      "metadata": {
        "id": "LlPRwB0BsxCz"
      },
      "source": [
        "1. Proposer un jeu de tests pour cette fonction, en particulier un test qui montre qu’elle est incorrecte.\r\n",
        "2. Ecrire une spécification pour cette fonction, sous forme de chaîne de documentation.\r\n",
        "3. Proposer une correction de cette fonction."
      ]
    },
    {
      "cell_type": "markdown",
      "metadata": {
        "id": "NUOWGQ8Gs2B7"
      },
      "source": [
        "# Exercice 2"
      ]
    },
    {
      "cell_type": "markdown",
      "metadata": {
        "id": "WnhOoKTvs3wz"
      },
      "source": [
        "La fonction suivante doit tester si une valeur `v` appartient à un tableau `t`."
      ]
    },
    {
      "cell_type": "code",
      "metadata": {
        "id": "gIuT06ivtB1q"
      },
      "source": [
        "def appartient(v, t):\r\n",
        "    i = 0\r\n",
        "    while (i < len(t)-1) and (t[i] != v) :\r\n",
        "        i = i+1\r\n",
        "    return i<len(t)"
      ],
      "execution_count": null,
      "outputs": []
    },
    {
      "cell_type": "markdown",
      "metadata": {
        "id": "aKtsLxQhtEnM"
      },
      "source": [
        "1. Effectuer le suivi des variables lorsqu’on exécute : `appartient(20,[10,20,30])`\r\n",
        "\r\n",
        "2. Proposer un jeu de tests pour cette fonction, en particulier un test qui montre qu’elle est incorrecte.\r\n",
        "\r\n",
        "3. Proposer une correction de cette fonction\r\n"
      ]
    },
    {
      "cell_type": "markdown",
      "metadata": {
        "id": "SIeR9c0htTts"
      },
      "source": [
        "# Exercice 3"
      ]
    },
    {
      "cell_type": "markdown",
      "metadata": {
        "id": "P-OMB51xvZWt"
      },
      "source": [
        "On donne la spécification d'une fontion `est_croissant`"
      ]
    },
    {
      "cell_type": "code",
      "metadata": {
        "id": "YUMQkL8DviT3"
      },
      "source": [
        "def est_croissant(t):\r\n",
        "    ''' t est un tableau dont les valeurs sont toutes comparables entre elles\r\n",
        "    la fonction renvoie True si t est trié par ordre croissant, et False sinon'''"
      ],
      "execution_count": null,
      "outputs": []
    },
    {
      "cell_type": "markdown",
      "metadata": {
        "id": "PRSanS4SvyVx"
      },
      "source": [
        "1. Proposer un jeu de tests pour cette fonction, en utilisant des assertions. \r\n",
        "2. Coder la fonction.\r\n",
        "3. Tester la fonction, et corriger les éventuelles erreurs. "
      ]
    },
    {
      "cell_type": "markdown",
      "metadata": {
        "id": "PHty5KynvXX1"
      },
      "source": [
        "# Exercice 4"
      ]
    },
    {
      "cell_type": "markdown",
      "metadata": {
        "id": "zobzlF-ItWjk"
      },
      "source": [
        "Les deux fonctions suivantes ont la même spécification."
      ]
    },
    {
      "cell_type": "code",
      "metadata": {
        "id": "DQ8jco53tYd8"
      },
      "source": [
        "def positive_copy(list1,list2):\r\n",
        "    '''list1 et list2 sont deux listes de MEME LONGUEUR\r\n",
        "    la fonction copie dans list2 les valeurs POSITIVES de list1\r\n",
        "    et copie la valeur 0 à la place des valeurs négatives'''\r\n",
        "    for i in range(len(list1)):\r\n",
        "        if list1[i] > 0 :\r\n",
        "            list2[i] = list1[i]\r\n",
        "        else :\r\n",
        "            list2[i] = 0\r\n",
        "    return list2"
      ],
      "execution_count": null,
      "outputs": []
    },
    {
      "cell_type": "code",
      "metadata": {
        "id": "-bEdyfQXtcf9"
      },
      "source": [
        "def positive_copy_bis(list1,list2):\r\n",
        "    '''list1 et list2 sont deux listes de MEME LONGUEUR\r\n",
        "    la fonction copie dans list2 les valeurs POSITIVES de list1\r\n",
        "    et copie la valeur 0 à la place des valeurs négatives'''\r\n",
        "    for i in range(len(list2)):\r\n",
        "        list2[i] = 0\r\n",
        "    for i in range(len(list1)):\r\n",
        "        if list1[i] > 0 :\r\n",
        "            list2[i] = list1[i]\r\n",
        "    return list2"
      ],
      "execution_count": null,
      "outputs": []
    },
    {
      "cell_type": "markdown",
      "metadata": {
        "id": "0zEZBmaYtepV"
      },
      "source": [
        "1. Proposer un ensemble de TESTS pour ces deux fonctions\r\n",
        "2. Montrer que `positive_copy_bis` est incorrecte."
      ]
    }
  ]
}