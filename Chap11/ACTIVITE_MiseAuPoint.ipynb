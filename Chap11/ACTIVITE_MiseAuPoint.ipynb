{
  "nbformat": 4,
  "nbformat_minor": 0,
  "metadata": {
    "colab": {
      "name": "Chap11_ACTIVITE-MiseAuPoint.ipynb",
      "provenance": [],
      "collapsed_sections": [
        "CTaq3lWyFkaK",
        "CMP7Aw_0F9SC"
      ],
      "authorship_tag": "ABX9TyMQTWJ0LFzXWKg4Lj1jbnKA",
      "include_colab_link": true
    },
    "kernelspec": {
      "name": "python3",
      "display_name": "Python 3"
    }
  },
  "cells": [
    {
      "cell_type": "markdown",
      "metadata": {
        "id": "view-in-github",
        "colab_type": "text"
      },
      "source": [
        "<a href=\"https://colab.research.google.com/github/thfruchart/1nsi-2020/blob/master/Chap11/ACTIVITE_MiseAuPoint.ipynb\" target=\"_parent\"><img src=\"https://colab.research.google.com/assets/colab-badge.svg\" alt=\"Open In Colab\"/></a>"
      ]
    },
    {
      "cell_type": "markdown",
      "metadata": {
        "id": "9UcX8sqvEPcj"
      },
      "source": [
        "# Quel est l'effet de ce programme ?"
      ]
    },
    {
      "cell_type": "code",
      "metadata": {
        "id": "CVlOYxZeEJmA",
        "outputId": "1cd839ae-497f-4819-9694-b27b8c7c9372",
        "colab": {
          "base_uri": "https://localhost:8080/"
        }
      },
      "source": [
        "def maxi(t):\r\n",
        "    m = 0\r\n",
        "    for i in range(len(t)):\r\n",
        "        if t[i] > t[m]:\r\n",
        "            m = i\r\n",
        "    return m\r\n",
        "\r\n",
        "print(maxi([4,2,0,1,3,5,-1,-2]))"
      ],
      "execution_count": 1,
      "outputs": [
        {
          "output_type": "stream",
          "text": [
            "5\n"
          ],
          "name": "stdout"
        }
      ]
    },
    {
      "cell_type": "markdown",
      "metadata": {
        "id": "jrsxplmpE9wq"
      },
      "source": [
        "### Décrire en une phrase le rôle de la fonction `maxi`"
      ]
    },
    {
      "cell_type": "markdown",
      "metadata": {
        "id": "XhAEzn9_FMhq"
      },
      "source": [
        "La fonction renvoie l'indice de la plus grande valeur du tableau"
      ]
    },
    {
      "cell_type": "markdown",
      "metadata": {
        "id": "ZIOPRwhmFNA2"
      },
      "source": [
        "# Documenter une fonction"
      ]
    },
    {
      "cell_type": "markdown",
      "metadata": {
        "id": "CTaq3lWyFkaK"
      },
      "source": [
        "## Choix du nom de la fonction et des variables locales"
      ]
    },
    {
      "cell_type": "code",
      "metadata": {
        "id": "b5G_7lrbFjXH",
        "outputId": "04856fd2-8829-457e-8637-de7285ab4f8a",
        "colab": {
          "base_uri": "https://localhost:8080/"
        }
      },
      "source": [
        "def indice_du_maximum(t):\r\n",
        "    i_max = 0\r\n",
        "    for i in range(len(t)):\r\n",
        "        if t[i] > t[i_max]:\r\n",
        "            i_max = i\r\n",
        "    return i_max\r\n",
        "\r\n",
        "print(indice_du_maximum([4,2,0,100,3,5,-1,-2]))"
      ],
      "execution_count": 2,
      "outputs": [
        {
          "output_type": "stream",
          "text": [
            "3\n"
          ],
          "name": "stdout"
        }
      ]
    },
    {
      "cell_type": "markdown",
      "metadata": {
        "id": "CMP7Aw_0F9SC"
      },
      "source": [
        "## Chaîne de documentation"
      ]
    },
    {
      "cell_type": "code",
      "metadata": {
        "id": "_E6QNuY9GDfS",
        "outputId": "e23a94e1-1c65-498e-bb66-34d4ede589cb",
        "colab": {
          "base_uri": "https://localhost:8080/"
        }
      },
      "source": [
        "def indice_du_maximum(t):\r\n",
        "    '''renvoie l'indice de la valeur maximale du tableau t\r\n",
        "    '''\r\n",
        "    i_max = 0\r\n",
        "    for i in range(len(t)):\r\n",
        "        if t[i] > t[i_max]:\r\n",
        "            i_max = i\r\n",
        "    return i_max\r\n",
        "\r\n",
        "print(indice_du_maximum([4,2,0,100,3,5,-1,-2]))"
      ],
      "execution_count": 6,
      "outputs": [
        {
          "output_type": "stream",
          "text": [
            "3\n"
          ],
          "name": "stdout"
        }
      ]
    },
    {
      "cell_type": "markdown",
      "metadata": {
        "id": "BklHDxKOGf-8"
      },
      "source": [
        "## Test de la fonction"
      ]
    },
    {
      "cell_type": "markdown",
      "metadata": {
        "id": "pZC9EXreGt9S"
      },
      "source": [
        "* La fonction est-elle correcte ?\r\n",
        "* Comment s'en assurer ?"
      ]
    },
    {
      "cell_type": "markdown",
      "metadata": {
        "id": "eVP_6zQVHj16"
      },
      "source": [
        "#### Trouver pour quelle(s) valeur(s) le programme suivant provoque une erreur : "
      ]
    },
    {
      "cell_type": "code",
      "metadata": {
        "id": "rpn9phpmGz-M",
        "outputId": "e07a8e89-8a69-4c3f-afa7-0144ec56d635",
        "colab": {
          "base_uri": "https://localhost:8080/",
          "height": 223
        }
      },
      "source": [
        "a = int(input('Entrer un entier : '))\r\n",
        "tab = [ i for i in range(10,a,-1)]\r\n",
        "im = indice_du_maximum(tab)\r\n",
        "print(\"maximum : \",  tab[im], \"à l'indice\", im)"
      ],
      "execution_count": 10,
      "outputs": [
        {
          "output_type": "stream",
          "text": [
            "Entrer un entier : 10\n"
          ],
          "name": "stdout"
        },
        {
          "output_type": "error",
          "ename": "IndexError",
          "evalue": "ignored",
          "traceback": [
            "\u001b[0;31m---------------------------------------------------------------------------\u001b[0m",
            "\u001b[0;31mIndexError\u001b[0m                                Traceback (most recent call last)",
            "\u001b[0;32m<ipython-input-10-f55c0a83ca55>\u001b[0m in \u001b[0;36m<module>\u001b[0;34m()\u001b[0m\n\u001b[1;32m      2\u001b[0m \u001b[0mtab\u001b[0m \u001b[0;34m=\u001b[0m \u001b[0;34m[\u001b[0m \u001b[0mi\u001b[0m \u001b[0;32mfor\u001b[0m \u001b[0mi\u001b[0m \u001b[0;32min\u001b[0m \u001b[0mrange\u001b[0m\u001b[0;34m(\u001b[0m\u001b[0;36m10\u001b[0m\u001b[0;34m,\u001b[0m\u001b[0ma\u001b[0m\u001b[0;34m,\u001b[0m\u001b[0;34m-\u001b[0m\u001b[0;36m1\u001b[0m\u001b[0;34m)\u001b[0m\u001b[0;34m]\u001b[0m\u001b[0;34m\u001b[0m\u001b[0;34m\u001b[0m\u001b[0m\n\u001b[1;32m      3\u001b[0m \u001b[0mim\u001b[0m \u001b[0;34m=\u001b[0m \u001b[0mindice_du_maximum\u001b[0m\u001b[0;34m(\u001b[0m\u001b[0mtab\u001b[0m\u001b[0;34m)\u001b[0m\u001b[0;34m\u001b[0m\u001b[0;34m\u001b[0m\u001b[0m\n\u001b[0;32m----> 4\u001b[0;31m \u001b[0mprint\u001b[0m\u001b[0;34m(\u001b[0m\u001b[0;34m\"maximum : \"\u001b[0m\u001b[0;34m,\u001b[0m  \u001b[0mtab\u001b[0m\u001b[0;34m[\u001b[0m\u001b[0mim\u001b[0m\u001b[0;34m]\u001b[0m\u001b[0;34m,\u001b[0m \u001b[0;34m\"à l'indice\"\u001b[0m\u001b[0;34m,\u001b[0m \u001b[0mim\u001b[0m\u001b[0;34m)\u001b[0m\u001b[0;34m\u001b[0m\u001b[0;34m\u001b[0m\u001b[0m\n\u001b[0m",
            "\u001b[0;31mIndexError\u001b[0m: list index out of range"
          ]
        }
      ]
    },
    {
      "cell_type": "markdown",
      "metadata": {
        "id": "SMI3Nv72Hp_b"
      },
      "source": [
        "#### Expliquer l'erreur repérée\r\n",
        "\r\n",
        "Si a est supérieur à 10, le tableau tab est vide.\r\n",
        "\r\n",
        "mais `im = indice_du_maximum(tab)` prend la valeur 0. \r\n",
        "\r\n",
        "le problème vient du fait que `tab[0]` n'est pas défini. "
      ]
    },
    {
      "cell_type": "markdown",
      "metadata": {
        "id": "ZRx7iDumHzZM"
      },
      "source": [
        "# Notion de précondition"
      ]
    },
    {
      "cell_type": "markdown",
      "metadata": {
        "id": "TcW-5487H1dU"
      },
      "source": [
        "Dans notre exemple, la fonction `indice_du_maximum` renvoie 0 **lorsque ce tableau est vide** : cette valeur n'est **pas** un indice du tableau (et donc ce n'est pas l'indice du maximum !)\r\n",
        "\r\n",
        "On ne devrait utiliser cette fonction que lorsque le tableau `t` n'est pas vide :  on dit que la propriété `\"t est un tableau non vide\"` est une **précondition** :\r\n",
        "* cette condition doit être vérifiée **avant** l'exécution de la fonction\r\n",
        "* si cette condition n'est pas vérifiée, le résultat produit par la fonction n'est pas garanti.\r\n",
        "\r\n",
        "La chaîne de documentation indique :\r\n",
        "*  `renvoie l'indice de la valeur maximale du tableau t`\r\n",
        "* cette condition porte sur la valeur renvoyée à la fin de l'exécution de la fonction : elle est appelée **postcondition**\r\n",
        "\r\n",
        "Il est souhaitable d'ajouter également la précondition dans la chaîne de documentation.\r\n"
      ]
    },
    {
      "cell_type": "code",
      "metadata": {
        "id": "DxPyt6qUJOad"
      },
      "source": [
        "def indice_du_maximum(t):\r\n",
        "    '''précondition : t est un tableau non vide\r\n",
        "    postcondition : cette fonction renvoie l'indice de la valeur maximale du tableau t\r\n",
        "    '''\r\n",
        "    i_max = 0\r\n",
        "    for i in range(len(t)):\r\n",
        "        if t[i] > t[i_max]:\r\n",
        "            i_max = i\r\n",
        "    return i_max\r\n",
        "\r\n",
        "print(indice_du_maximum([4,2,0,100,3,5,-1,-2]))"
      ],
      "execution_count": null,
      "outputs": []
    },
    {
      "cell_type": "markdown",
      "metadata": {
        "id": "OhP04LZaJqFd"
      },
      "source": [
        "# Programmation défensive"
      ]
    },
    {
      "cell_type": "markdown",
      "metadata": {
        "id": "i3PvbJadJsfX"
      },
      "source": [
        "Si un programmeur lit bien la chaîne de documentation, il ne devrait pas appeler la fonction `indice_du_maximum` sur un tableau vide.\r\n",
        "\r\n",
        "Mais sinon? "
      ]
    },
    {
      "cell_type": "code",
      "metadata": {
        "id": "GuHPlNmQJ5B1"
      },
      "source": [
        "t1 = []\r\n",
        "i1 = indice_du_maximum(t1)"
      ],
      "execution_count": 12,
      "outputs": []
    },
    {
      "cell_type": "markdown",
      "metadata": {
        "id": "I3HHYd43J8vV"
      },
      "source": [
        "L'appel à la fonction ne provoque pas d'erreur. Mais ... "
      ]
    },
    {
      "cell_type": "code",
      "metadata": {
        "id": "Y5OtQiEaKI3c",
        "outputId": "8dbfeb1c-e76e-4430-9646-303f580318fe",
        "colab": {
          "base_uri": "https://localhost:8080/",
          "height": 169
        }
      },
      "source": [
        "print(t1[i1])"
      ],
      "execution_count": 13,
      "outputs": [
        {
          "output_type": "error",
          "ename": "IndexError",
          "evalue": "ignored",
          "traceback": [
            "\u001b[0;31m---------------------------------------------------------------------------\u001b[0m",
            "\u001b[0;31mIndexError\u001b[0m                                Traceback (most recent call last)",
            "\u001b[0;32m<ipython-input-13-1aad8972c2cb>\u001b[0m in \u001b[0;36m<module>\u001b[0;34m()\u001b[0m\n\u001b[0;32m----> 1\u001b[0;31m \u001b[0mprint\u001b[0m\u001b[0;34m(\u001b[0m\u001b[0mt1\u001b[0m\u001b[0;34m[\u001b[0m\u001b[0mi1\u001b[0m\u001b[0;34m]\u001b[0m\u001b[0;34m)\u001b[0m\u001b[0;34m\u001b[0m\u001b[0;34m\u001b[0m\u001b[0m\n\u001b[0m",
            "\u001b[0;31mIndexError\u001b[0m: list index out of range"
          ]
        }
      ]
    },
    {
      "cell_type": "markdown",
      "metadata": {
        "id": "rMhSGIHCKOjM"
      },
      "source": [
        "Pour faciliter la recherche d'erreur, on préfèrera éviter d'exécuter la fonction sur un tableau vide ! \r\n",
        "\r\n",
        "C'est possible avec l'instruction `assert`"
      ]
    },
    {
      "cell_type": "markdown",
      "metadata": {
        "id": "eov9Y_HEKleh"
      },
      "source": [
        "## Assertion"
      ]
    },
    {
      "cell_type": "markdown",
      "metadata": {
        "id": "WMcr4SCLKoCz"
      },
      "source": [
        "L'instruction **`assert`** doit être suivie d'une **expression booléenne** : \r\n",
        "* si l'expression est **vraie**, le programme continue à s'exécuter normalement\r\n",
        "* **sinon**, une `AssertionError` est levée. \r\n",
        "* on peut ajouter une virgule suivie d'une chaîne de caractères pour préciser un message d'erreur. "
      ]
    },
    {
      "cell_type": "code",
      "metadata": {
        "id": "0ifNHU_9LERv"
      },
      "source": [
        "print(\"première assertion... \")\r\n",
        "assert True\r\n",
        "print(\"suite du programme \")\r\n",
        "\r\n",
        "print(\"deuxième assertion... \")\r\n",
        "assert False\r\n",
        "print(\"fin du programme \")"
      ],
      "execution_count": null,
      "outputs": []
    },
    {
      "cell_type": "code",
      "metadata": {
        "id": "Pcy0xs-ILcQj",
        "outputId": "d7456c5e-4228-40d8-c193-91d5e1e0603e",
        "colab": {
          "base_uri": "https://localhost:8080/",
          "height": 277
        }
      },
      "source": [
        "print(\"première assertion... \")\r\n",
        "assert True, \"message d'erreur 1\"\r\n",
        "print(\"suite du programme \")\r\n",
        "\r\n",
        "print(\"deuxième assertion... \")\r\n",
        "assert False, \"message d'erreur 2\"\r\n",
        "print(\"fin du programme \")"
      ],
      "execution_count": 15,
      "outputs": [
        {
          "output_type": "stream",
          "text": [
            "première assertion... \n",
            "suite du programme \n",
            "deuxième assertion... \n"
          ],
          "name": "stdout"
        },
        {
          "output_type": "error",
          "ename": "AssertionError",
          "evalue": "ignored",
          "traceback": [
            "\u001b[0;31m---------------------------------------------------------------------------\u001b[0m",
            "\u001b[0;31mAssertionError\u001b[0m                            Traceback (most recent call last)",
            "\u001b[0;32m<ipython-input-15-e4a5c84a9f73>\u001b[0m in \u001b[0;36m<module>\u001b[0;34m()\u001b[0m\n\u001b[1;32m      4\u001b[0m \u001b[0;34m\u001b[0m\u001b[0m\n\u001b[1;32m      5\u001b[0m \u001b[0mprint\u001b[0m\u001b[0;34m(\u001b[0m\u001b[0;34m\"deuxième assertion... \"\u001b[0m\u001b[0;34m)\u001b[0m\u001b[0;34m\u001b[0m\u001b[0;34m\u001b[0m\u001b[0m\n\u001b[0;32m----> 6\u001b[0;31m \u001b[0;32massert\u001b[0m \u001b[0;32mFalse\u001b[0m\u001b[0;34m,\u001b[0m \u001b[0;34m\"message d'erreur 2\"\u001b[0m\u001b[0;34m\u001b[0m\u001b[0;34m\u001b[0m\u001b[0m\n\u001b[0m\u001b[1;32m      7\u001b[0m \u001b[0mprint\u001b[0m\u001b[0;34m(\u001b[0m\u001b[0;34m\"fin du programme \"\u001b[0m\u001b[0;34m)\u001b[0m\u001b[0;34m\u001b[0m\u001b[0;34m\u001b[0m\u001b[0m\n",
            "\u001b[0;31mAssertionError\u001b[0m: message d'erreur 2"
          ]
        }
      ]
    },
    {
      "cell_type": "markdown",
      "metadata": {
        "id": "4ia3s6GHLpBW"
      },
      "source": [
        "Dans notre exemple, on peut utiliser une **assertion**\r\n",
        "* pour vérifier que t est bien un tableau non vide\r\n",
        "* pour renvoyer un message d'erreur en interrompant le programme dans le cas contraire"
      ]
    },
    {
      "cell_type": "code",
      "metadata": {
        "id": "Dp1sxeeEL6jj",
        "outputId": "3573a81b-8f7f-4027-8425-d820503e9bba",
        "colab": {
          "base_uri": "https://localhost:8080/",
          "height": 403
        }
      },
      "source": [
        "def indice_du_maximum(t):\r\n",
        "    '''précondition : t est un tableau non vide\r\n",
        "    postcondition : la fonction renvoie l'indice de la valeur maximale du tableau t\r\n",
        "    '''\r\n",
        "    assert len(t)>0, \"Le tableau ne doit pas être vide !\"\r\n",
        "    i_max = 0\r\n",
        "    for i in range(len(t)):\r\n",
        "        if t[i] > t[i_max]:\r\n",
        "            i_max = i\r\n",
        "    return i_max\r\n",
        "\r\n",
        "print('---Essai 1---')\r\n",
        "print(indice_du_maximum([4,2,0,100,3,5,-1,-2]))\r\n",
        "print('---Essai 2---')\r\n",
        "t1 = []\r\n",
        "i1 = indice_du_maximum(t1)\r\n",
        "print(t1[i1])"
      ],
      "execution_count": 16,
      "outputs": [
        {
          "output_type": "stream",
          "text": [
            "---Essai 1---\n",
            "3\n",
            "---Essai 2---\n"
          ],
          "name": "stdout"
        },
        {
          "output_type": "error",
          "ename": "AssertionError",
          "evalue": "ignored",
          "traceback": [
            "\u001b[0;31m---------------------------------------------------------------------------\u001b[0m",
            "\u001b[0;31mAssertionError\u001b[0m                            Traceback (most recent call last)",
            "\u001b[0;32m<ipython-input-16-0573d64e38e7>\u001b[0m in \u001b[0;36m<module>\u001b[0;34m()\u001b[0m\n\u001b[1;32m     14\u001b[0m \u001b[0mprint\u001b[0m\u001b[0;34m(\u001b[0m\u001b[0;34m'---Essai 2---'\u001b[0m\u001b[0;34m)\u001b[0m\u001b[0;34m\u001b[0m\u001b[0;34m\u001b[0m\u001b[0m\n\u001b[1;32m     15\u001b[0m \u001b[0mt1\u001b[0m \u001b[0;34m=\u001b[0m \u001b[0;34m[\u001b[0m\u001b[0;34m]\u001b[0m\u001b[0;34m\u001b[0m\u001b[0;34m\u001b[0m\u001b[0m\n\u001b[0;32m---> 16\u001b[0;31m \u001b[0mi1\u001b[0m \u001b[0;34m=\u001b[0m \u001b[0mindice_du_maximum\u001b[0m\u001b[0;34m(\u001b[0m\u001b[0mt1\u001b[0m\u001b[0;34m)\u001b[0m\u001b[0;34m\u001b[0m\u001b[0;34m\u001b[0m\u001b[0m\n\u001b[0m\u001b[1;32m     17\u001b[0m \u001b[0mprint\u001b[0m\u001b[0;34m(\u001b[0m\u001b[0mt1\u001b[0m\u001b[0;34m[\u001b[0m\u001b[0mi1\u001b[0m\u001b[0;34m]\u001b[0m\u001b[0;34m)\u001b[0m\u001b[0;34m\u001b[0m\u001b[0;34m\u001b[0m\u001b[0m\n",
            "\u001b[0;32m<ipython-input-16-0573d64e38e7>\u001b[0m in \u001b[0;36mindice_du_maximum\u001b[0;34m(t)\u001b[0m\n\u001b[1;32m      3\u001b[0m     \u001b[0mpostcondition\u001b[0m \u001b[0;34m:\u001b[0m \u001b[0mla\u001b[0m \u001b[0mfonction\u001b[0m \u001b[0mrenvoie\u001b[0m \u001b[0ml\u001b[0m\u001b[0;31m'\u001b[0m\u001b[0mindice\u001b[0m \u001b[0mde\u001b[0m \u001b[0mla\u001b[0m \u001b[0mvaleur\u001b[0m \u001b[0mmaximale\u001b[0m \u001b[0mdu\u001b[0m \u001b[0mtableau\u001b[0m \u001b[0mt\u001b[0m\u001b[0;34m\u001b[0m\u001b[0;34m\u001b[0m\u001b[0m\n\u001b[1;32m      4\u001b[0m     '''\n\u001b[0;32m----> 5\u001b[0;31m     \u001b[0;32massert\u001b[0m \u001b[0mlen\u001b[0m\u001b[0;34m(\u001b[0m\u001b[0mt\u001b[0m\u001b[0;34m)\u001b[0m\u001b[0;34m>\u001b[0m\u001b[0;36m0\u001b[0m\u001b[0;34m,\u001b[0m \u001b[0;34m\"Le tableau ne doit pas être vide !\"\u001b[0m\u001b[0;34m\u001b[0m\u001b[0;34m\u001b[0m\u001b[0m\n\u001b[0m\u001b[1;32m      6\u001b[0m     \u001b[0mi_max\u001b[0m \u001b[0;34m=\u001b[0m \u001b[0;36m0\u001b[0m\u001b[0;34m\u001b[0m\u001b[0;34m\u001b[0m\u001b[0m\n\u001b[1;32m      7\u001b[0m     \u001b[0;32mfor\u001b[0m \u001b[0mi\u001b[0m \u001b[0;32min\u001b[0m \u001b[0mrange\u001b[0m\u001b[0;34m(\u001b[0m\u001b[0mlen\u001b[0m\u001b[0;34m(\u001b[0m\u001b[0mt\u001b[0m\u001b[0;34m)\u001b[0m\u001b[0;34m)\u001b[0m\u001b[0;34m:\u001b[0m\u001b[0;34m\u001b[0m\u001b[0;34m\u001b[0m\u001b[0m\n",
            "\u001b[0;31mAssertionError\u001b[0m: Le tableau ne doit pas être vide !"
          ]
        }
      ]
    },
    {
      "cell_type": "markdown",
      "metadata": {
        "id": "vhKMWl6BnCBn"
      },
      "source": [
        "# Tester une fonction (ou un programme)"
      ]
    },
    {
      "cell_type": "markdown",
      "metadata": {
        "id": "Psg_9ZpvnGC-"
      },
      "source": [
        "**Méthode** : pour tester une fonction, on va exécuter cette fonction sur un ensemble de valeurs qui :\r\n",
        "* vérifient la précondition \r\n",
        "* et représentent autant que possible l'ensemble de \"cas de figure\" envisageables.\r\n",
        " \r\n",
        "\r\n",
        "Par exemple : \r\n",
        "* si un des arguments et un **entier** n, on veillera à tester les cas où\r\n",
        "   * n est strictement positif\r\n",
        "   * n est nul\r\n",
        "   * n est strictement négatif\r\n",
        "* si un des arguments est un  **tableau**, on veillera à tester : \r\n",
        "   * un tableau vide\r\n",
        "   * un tableau contenant des valeurs identiques\r\n",
        "   * penser à tester le comportement aux \"bords\" du tableau (première, et dernière valeur). \r\n",
        "* si une fonction renvoie un résultat **booléen**, l'ensemble de tests doit prévoir des cas où:\r\n",
        "   * la valeur renvoyée est : `True`\r\n",
        "   * la valeur renvoyée est : `False`\r\n",
        "* *etc*. \r\n",
        "\r\n",
        "On appelle **\"jeu de tests\"** un ensemble de tests \"suffisants\" pour mettre en évidence d'éventuelles erreurs dans la fonction."
      ]
    },
    {
      "cell_type": "markdown",
      "metadata": {
        "id": "fR6LS-wlpmzS"
      },
      "source": [
        "## En pratique : on peut utiliser des assertions pour écrire un **jeu de tests**"
      ]
    },
    {
      "cell_type": "code",
      "metadata": {
        "id": "M2Pze6W8ptHe",
        "outputId": "6d45d3b0-8384-4e9e-f7d4-fc6bd6d5ecc0",
        "colab": {
          "base_uri": "https://localhost:8080/"
        }
      },
      "source": [
        "def indice_du_maximum(t):\r\n",
        "    '''précondition : t est un tableau non vide\r\n",
        "    postcondition : la fonction renvoie l'indice de la valeur maximale du tableau t\r\n",
        "    '''\r\n",
        "    assert len(t)>0, \"Le tableau ne doit pas être vide !\"\r\n",
        "    i_max = 0\r\n",
        "    for i in range(len(t)):\r\n",
        "        if t[i] > t[i_max]:\r\n",
        "            i_max = i\r\n",
        "    return i_max\r\n",
        "\r\n",
        "assert indice_du_maximum([100,0,0,0,0]) == 0\r\n",
        "assert indice_du_maximum([0,0,0,0,100]) == 4\r\n",
        "assert indice_du_maximum([-100,-100,-50,-100,-100]) == 2\r\n",
        "print('Tests OK')"
      ],
      "execution_count": 17,
      "outputs": [
        {
          "output_type": "stream",
          "text": [
            "Tests OK\n"
          ],
          "name": "stdout"
        }
      ]
    },
    {
      "cell_type": "markdown",
      "metadata": {
        "id": "ol8qwi1lp-SC"
      },
      "source": [
        "#### En écrivant l'ensemble des tests... on trouve souvent que certains cas particulier n'ont pas été prévus dans la spécification de la fonction, par exemple... "
      ]
    },
    {
      "cell_type": "markdown",
      "metadata": {
        "id": "nK1-AKvlqL1h"
      },
      "source": [
        "le cas où le maximum du tableau figure à plusieurs indices : \r\n",
        "\r\n",
        "    [100,0,0,0,100]\r\n",
        "\r\n",
        "ou même : \r\n",
        "\r\n",
        "    [0,0,0,0,0]"
      ]
    }
  ]
}