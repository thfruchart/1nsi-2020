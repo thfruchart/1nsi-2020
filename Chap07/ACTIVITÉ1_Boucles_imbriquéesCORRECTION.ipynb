{
  "nbformat": 4,
  "nbformat_minor": 0,
  "metadata": {
    "colab": {
      "name": "Chap07_ACTIVITÉ1_Boucles_imbriquées.ipynb",
      "provenance": [],
      "collapsed_sections": [
        "RWmhOFw_pdDY"
      ],
      "authorship_tag": "ABX9TyPgdaxbE2t1iDF1UK+akaTv",
      "include_colab_link": true
    },
    "kernelspec": {
      "name": "python3",
      "display_name": "Python 3"
    }
  },
  "cells": [
    {
      "cell_type": "markdown",
      "metadata": {
        "id": "view-in-github",
        "colab_type": "text"
      },
      "source": [
        "<a href=\"https://colab.research.google.com/github/thfruchart/1nsi-2020/blob/master/Chap07/ACTIVIT%C3%891_Boucles_imbriqu%C3%A9esCORRECTION.ipynb\" target=\"_parent\"><img src=\"https://colab.research.google.com/assets/colab-badge.svg\" alt=\"Open In Colab\"/></a>"
      ]
    },
    {
      "cell_type": "markdown",
      "metadata": {
        "id": "mSeRBavJocWg"
      },
      "source": [
        "# Activité 1"
      ]
    },
    {
      "cell_type": "markdown",
      "metadata": {
        "id": "tctn_ODvoftw"
      },
      "source": [
        "On souaite écrire une fonction qui teste si deux tableaux ont au moins un élément en commun.\n",
        "\n",
        "Que penser du code suivant ? "
      ]
    },
    {
      "cell_type": "code",
      "metadata": {
        "id": "t0YqQyeNoStt",
        "outputId": "72a7b8e4-e081-4499-8497-84ee7a57723d",
        "colab": {
          "base_uri": "https://localhost:8080/"
        }
      },
      "source": [
        "def element_commun(t1, t2):\n",
        "    for i in range(len(t1)):\n",
        "        if t1[i] == t2[i]:\n",
        "            return True\n",
        "    return False\n",
        "\n",
        "print(element_commun([10,20,30],[15,20,25]))\n",
        "print(element_commun([10,20,30],[1, 2, 3]))"
      ],
      "execution_count": 1,
      "outputs": [
        {
          "output_type": "stream",
          "text": [
            "True\n",
            "False\n"
          ],
          "name": "stdout"
        }
      ]
    },
    {
      "cell_type": "markdown",
      "metadata": {
        "id": "j4J9ruWVpXFq"
      },
      "source": [
        "#### question1"
      ]
    },
    {
      "cell_type": "markdown",
      "metadata": {
        "id": "1DhogtJ2pGu6"
      },
      "source": [
        "Trouver un exemple de tableaux `t1, t2`  à passer en paramètres à la fonction `element_commun` tels que la fonction renvoie `False` alors que t1 et t2 ont une valeur commune. "
      ]
    },
    {
      "cell_type": "code",
      "metadata": {
        "id": "DpCitw3Spsm8",
        "outputId": "f8aaf1ad-43cc-4606-f336-b9a017a996ab",
        "colab": {
          "base_uri": "https://localhost:8080/"
        }
      },
      "source": [
        "element_commun([10,20,30], [30, 10, 20])"
      ],
      "execution_count": 2,
      "outputs": [
        {
          "output_type": "execute_result",
          "data": {
            "text/plain": [
              "False"
            ]
          },
          "metadata": {
            "tags": []
          },
          "execution_count": 2
        }
      ]
    },
    {
      "cell_type": "markdown",
      "metadata": {
        "id": "RWmhOFw_pdDY"
      },
      "source": [
        "#### question2"
      ]
    },
    {
      "cell_type": "markdown",
      "metadata": {
        "id": "7UB8p7ncpdDc"
      },
      "source": [
        "Trouver un exemple de tableaux `t1, t2`  à passer en paramètres à la fonction `element_commun` tels que l'exécution de la fonction provoque une erreur. "
      ]
    },
    {
      "cell_type": "code",
      "metadata": {
        "id": "6jotr4oNpt2z",
        "outputId": "1b07ad1f-9e71-490d-bd15-b09aeb292a61",
        "colab": {
          "base_uri": "https://localhost:8080/",
          "height": 285
        }
      },
      "source": [
        "element_commun([10,20,30, 40], [30, 10, 20])"
      ],
      "execution_count": 3,
      "outputs": [
        {
          "output_type": "error",
          "ename": "IndexError",
          "evalue": "ignored",
          "traceback": [
            "\u001b[0;31m---------------------------------------------------------------------------\u001b[0m",
            "\u001b[0;31mIndexError\u001b[0m                                Traceback (most recent call last)",
            "\u001b[0;32m<ipython-input-3-3c14d2adbc12>\u001b[0m in \u001b[0;36m<module>\u001b[0;34m()\u001b[0m\n\u001b[0;32m----> 1\u001b[0;31m \u001b[0melement_commun\u001b[0m\u001b[0;34m(\u001b[0m\u001b[0;34m[\u001b[0m\u001b[0;36m10\u001b[0m\u001b[0;34m,\u001b[0m\u001b[0;36m20\u001b[0m\u001b[0;34m,\u001b[0m\u001b[0;36m30\u001b[0m\u001b[0;34m,\u001b[0m \u001b[0;36m40\u001b[0m\u001b[0;34m]\u001b[0m\u001b[0;34m,\u001b[0m \u001b[0;34m[\u001b[0m\u001b[0;36m30\u001b[0m\u001b[0;34m,\u001b[0m \u001b[0;36m10\u001b[0m\u001b[0;34m,\u001b[0m \u001b[0;36m20\u001b[0m\u001b[0;34m]\u001b[0m\u001b[0;34m)\u001b[0m\u001b[0;34m\u001b[0m\u001b[0;34m\u001b[0m\u001b[0m\n\u001b[0m",
            "\u001b[0;32m<ipython-input-1-f185e4c678be>\u001b[0m in \u001b[0;36melement_commun\u001b[0;34m(t1, t2)\u001b[0m\n\u001b[1;32m      1\u001b[0m \u001b[0;32mdef\u001b[0m \u001b[0melement_commun\u001b[0m\u001b[0;34m(\u001b[0m\u001b[0mt1\u001b[0m\u001b[0;34m,\u001b[0m \u001b[0mt2\u001b[0m\u001b[0;34m)\u001b[0m\u001b[0;34m:\u001b[0m\u001b[0;34m\u001b[0m\u001b[0;34m\u001b[0m\u001b[0m\n\u001b[1;32m      2\u001b[0m     \u001b[0;32mfor\u001b[0m \u001b[0mi\u001b[0m \u001b[0;32min\u001b[0m \u001b[0mrange\u001b[0m\u001b[0;34m(\u001b[0m\u001b[0mlen\u001b[0m\u001b[0;34m(\u001b[0m\u001b[0mt1\u001b[0m\u001b[0;34m)\u001b[0m\u001b[0;34m)\u001b[0m\u001b[0;34m:\u001b[0m\u001b[0;34m\u001b[0m\u001b[0;34m\u001b[0m\u001b[0m\n\u001b[0;32m----> 3\u001b[0;31m         \u001b[0;32mif\u001b[0m \u001b[0mt1\u001b[0m\u001b[0;34m[\u001b[0m\u001b[0mi\u001b[0m\u001b[0;34m]\u001b[0m \u001b[0;34m==\u001b[0m \u001b[0mt2\u001b[0m\u001b[0;34m[\u001b[0m\u001b[0mi\u001b[0m\u001b[0;34m]\u001b[0m\u001b[0;34m:\u001b[0m\u001b[0;34m\u001b[0m\u001b[0;34m\u001b[0m\u001b[0m\n\u001b[0m\u001b[1;32m      4\u001b[0m             \u001b[0;32mreturn\u001b[0m \u001b[0;32mTrue\u001b[0m\u001b[0;34m\u001b[0m\u001b[0;34m\u001b[0m\u001b[0m\n\u001b[1;32m      5\u001b[0m     \u001b[0;32mreturn\u001b[0m \u001b[0;32mFalse\u001b[0m\u001b[0;34m\u001b[0m\u001b[0;34m\u001b[0m\u001b[0m\n",
            "\u001b[0;31mIndexError\u001b[0m: list index out of range"
          ]
        }
      ]
    },
    {
      "cell_type": "markdown",
      "metadata": {
        "id": "q60OZ5eJp_vi"
      },
      "source": [
        "#### question3"
      ]
    },
    {
      "cell_type": "markdown",
      "metadata": {
        "id": "O9kLIZnfp_vm"
      },
      "source": [
        "Proposer une nouvelle définition de la fonction element_commun pour corriger les problèmes rencontrés. \n",
        "\n",
        "On pourra modifier le code ci-dessous."
      ]
    },
    {
      "cell_type": "code",
      "metadata": {
        "id": "NTYFB8XHp_vo"
      },
      "source": [
        "def element_commun(t1, t2):\n",
        "    for i in range(len(t1)):\n",
        "        for j in range(len(t2)):\n",
        "            if t1[i] == t2[j]:\n",
        "                return True\n",
        "    return False"
      ],
      "execution_count": 4,
      "outputs": []
    },
    {
      "cell_type": "code",
      "metadata": {
        "id": "fJfpOCcG4nlS",
        "outputId": "9899fef1-0b85-416b-cb48-fdc466555a7c",
        "colab": {
          "base_uri": "https://localhost:8080/"
        }
      },
      "source": [
        "element_commun([10,20,30, 40], [5, 15, 25])"
      ],
      "execution_count": 8,
      "outputs": [
        {
          "output_type": "execute_result",
          "data": {
            "text/plain": [
              "False"
            ]
          },
          "metadata": {
            "tags": []
          },
          "execution_count": 8
        }
      ]
    }
  ]
}