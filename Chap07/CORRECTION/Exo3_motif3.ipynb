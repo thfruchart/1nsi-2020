{
  "nbformat": 4,
  "nbformat_minor": 0,
  "metadata": {
    "colab": {
      "name": "Chap07_CORRECTION_Exo3_motif3.ipynb",
      "provenance": [],
      "collapsed_sections": [],
      "authorship_tag": "ABX9TyNep+tEElUoOSrXSds7QSSM",
      "include_colab_link": true
    },
    "kernelspec": {
      "name": "python3",
      "display_name": "Python 3"
    }
  },
  "cells": [
    {
      "cell_type": "markdown",
      "metadata": {
        "id": "view-in-github",
        "colab_type": "text"
      },
      "source": [
        "<a href=\"https://colab.research.google.com/github/thfruchart/1nsi-2020/blob/master/Chap07/CORRECTION/Exo3_motif3.ipynb\" target=\"_parent\"><img src=\"https://colab.research.google.com/assets/colab-badge.svg\" alt=\"Open In Colab\"/></a>"
      ]
    },
    {
      "cell_type": "markdown",
      "metadata": {
        "id": "m9kSqvdOkYQ_"
      },
      "source": [
        "# Exercice 3 : motif 3"
      ]
    },
    {
      "cell_type": "markdown",
      "metadata": {
        "id": "rx642TZbkjMd"
      },
      "source": [
        "Pour n = 4, il faut obtenir : \n",
        "\n",
        "    Entrer un nombre entier positif : 4\n",
        "    . . . 0 \n",
        "    . . 0 1 \n",
        "    . 0 1 2 \n",
        "    0 1 2 3 "
      ]
    },
    {
      "cell_type": "markdown",
      "metadata": {
        "id": "_ARdVHQ8U1Xb"
      },
      "source": [
        "#### Brouillon 1"
      ]
    },
    {
      "cell_type": "code",
      "metadata": {
        "colab": {
          "base_uri": "https://localhost:8080/"
        },
        "id": "7WFS24AOUFJj",
        "outputId": "dbbfa33c-6676-4d95-d3b9-b35f0ba1ccd8"
      },
      "source": [
        "n = int(input('Entrer un nombre entier positif : '))\n",
        "for i in range(n):\n",
        "    for x in range(n - i):\n",
        "        print('.', end=' ')\n",
        "    print()"
      ],
      "execution_count": null,
      "outputs": [
        {
          "output_type": "stream",
          "text": [
            "Entrer un nombre entier positif : 4\n",
            ". . . . \n",
            ". . . \n",
            ". . \n",
            ". \n"
          ],
          "name": "stdout"
        }
      ]
    },
    {
      "cell_type": "markdown",
      "metadata": {
        "id": "UWaoPcGuUYcL"
      },
      "source": [
        "## SOLUTION"
      ]
    }
  ]
}