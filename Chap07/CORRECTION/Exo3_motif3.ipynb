{
  "nbformat": 4,
  "nbformat_minor": 0,
  "metadata": {
    "colab": {
      "name": "Chap07_CORRECTION_Exo3_motif3.ipynb",
      "provenance": [],
      "collapsed_sections": [],
      "authorship_tag": "ABX9TyN3odm7FQQubrmM7WlPq3W3",
      "include_colab_link": true
    },
    "kernelspec": {
      "name": "python3",
      "display_name": "Python 3"
    }
  },
  "cells": [
    {
      "cell_type": "markdown",
      "metadata": {
        "id": "view-in-github",
        "colab_type": "text"
      },
      "source": [
        "<a href=\"https://colab.research.google.com/github/thfruchart/1nsi-2020/blob/master/Chap07/CORRECTION/Exo3_motif3.ipynb\" target=\"_parent\"><img src=\"https://colab.research.google.com/assets/colab-badge.svg\" alt=\"Open In Colab\"/></a>"
      ]
    },
    {
      "cell_type": "markdown",
      "metadata": {
        "id": "m9kSqvdOkYQ_"
      },
      "source": [
        "# Exercice 3 : motif 3"
      ]
    },
    {
      "cell_type": "markdown",
      "metadata": {
        "id": "rx642TZbkjMd"
      },
      "source": [
        "Pour n = 4, il faut obtenir : \n",
        "\n",
        "    Entrer un nombre entier positif : 4\n",
        "    . . . 0 \n",
        "    . . 0 1 \n",
        "    . 0 1 2 \n",
        "    0 1 2 3 "
      ]
    },
    {
      "cell_type": "markdown",
      "metadata": {
        "id": "_ARdVHQ8U1Xb"
      },
      "source": [
        "#### Brouillon 1"
      ]
    },
    {
      "cell_type": "markdown",
      "metadata": {
        "id": "pVzI3LHmYb_v"
      },
      "source": [
        "Dans le motif 2 on avait :"
      ]
    },
    {
      "cell_type": "markdown",
      "metadata": {
        "id": "LvgeYvI6Xj2u"
      },
      "source": [
        "    . . . .  i = 0\n",
        "    . . .    i = 1\n",
        "    . .      i = 2\n",
        "    .        i = 3"
      ]
    },
    {
      "cell_type": "markdown",
      "metadata": {
        "id": "Om1R_p5AYhWw"
      },
      "source": [
        "    . . .    i = 0  -> 3point\n",
        "    . .      i = 1  -> 2point\n",
        "    .        i = 2  -> 1point\n",
        "             i = 3  -> 0point"
      ]
    },
    {
      "cell_type": "code",
      "metadata": {
        "colab": {
          "base_uri": "https://localhost:8080/"
        },
        "id": "7WFS24AOUFJj",
        "outputId": "26a5d7ff-dd89-48f9-ff1c-54fcb6d7e7c5"
      },
      "source": [
        "n = int(input('Entrer un nombre entier positif : '))\n",
        "for i in range(n):\n",
        "    for x in range(n-1 - i):\n",
        "        print('.', end=' ')\n",
        "    print()"
      ],
      "execution_count": 2,
      "outputs": [
        {
          "output_type": "stream",
          "text": [
            "Entrer un nombre entier positif : 4\n",
            ". . . \n",
            ". . \n",
            ". \n",
            "\n"
          ],
          "name": "stdout"
        }
      ]
    },
    {
      "cell_type": "markdown",
      "metadata": {
        "id": "UWaoPcGuUYcL"
      },
      "source": [
        "## SOLUTION"
      ]
    },
    {
      "cell_type": "markdown",
      "metadata": {
        "id": "Oc__c4GPYyr0"
      },
      "source": [
        "derrière les points... on ajoute des chiffres\n",
        "\n",
        "    i = 0 : on affiche 0  => range(1)\n",
        "    i = 1 : on affiche 0 1 => range(2)\n",
        "    i = 2 : on affiche 0 1 2 => range(3)\n",
        "    i = 3 : on affiche 0 1 2 3 => range(4)"
      ]
    },
    {
      "cell_type": "code",
      "metadata": {
        "colab": {
          "base_uri": "https://localhost:8080/"
        },
        "id": "zv9HFtPAYyDb",
        "outputId": "00a454f7-7c06-41a9-f4b3-9cc6d5024e62"
      },
      "source": [
        "n = int(input('Entrer un nombre entier positif : '))\n",
        "for i in range(n):\n",
        "    # on affiche d'abord des points\n",
        "    for x in range(n-1 - i):\n",
        "        print('.', end=' ')\n",
        "    # on affiche ensuite les chiffres\n",
        "    for x in range(i+1):\n",
        "        print(x, end=' ')\n",
        "    print() # on passe à la ligne suivante"
      ],
      "execution_count": 9,
      "outputs": [
        {
          "output_type": "stream",
          "text": [
            "Entrer un nombre entier positif : 4\n",
            ". . . 0 \n",
            ". . 0 1 \n",
            ". 0 1 2 \n",
            "0 1 2 3 \n"
          ],
          "name": "stdout"
        }
      ]
    }
  ]
}