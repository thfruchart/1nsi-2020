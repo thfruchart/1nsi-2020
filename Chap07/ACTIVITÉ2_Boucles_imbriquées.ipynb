{
  "nbformat": 4,
  "nbformat_minor": 0,
  "metadata": {
    "colab": {
      "name": "Chap07_ACTIVITÉ2_Boucles_imbriquées.ipynb",
      "provenance": [],
      "collapsed_sections": [
        "uWodJu7-rxXg"
      ],
      "authorship_tag": "ABX9TyOeNyzwLE6iJUTF/urMJChs",
      "include_colab_link": true
    },
    "kernelspec": {
      "name": "python3",
      "display_name": "Python 3"
    }
  },
  "cells": [
    {
      "cell_type": "markdown",
      "metadata": {
        "id": "view-in-github",
        "colab_type": "text"
      },
      "source": [
        "<a href=\"https://colab.research.google.com/github/thfruchart/1nsi-2020/blob/master/Chap07/ACTIVIT%C3%892_Boucles_imbriqu%C3%A9es.ipynb\" target=\"_parent\"><img src=\"https://colab.research.google.com/assets/colab-badge.svg\" alt=\"Open In Colab\"/></a>"
      ]
    },
    {
      "cell_type": "markdown",
      "metadata": {
        "id": "mSeRBavJocWg"
      },
      "source": [
        "# Activité 2"
      ]
    },
    {
      "cell_type": "markdown",
      "metadata": {
        "id": "FSB-Im4wrJoa"
      },
      "source": [
        "#### question1"
      ]
    },
    {
      "cell_type": "markdown",
      "metadata": {
        "id": "tctn_ODvoftw"
      },
      "source": [
        "Avant d'exécuter le code suivant, déterminer ce qui sera affiché à l'écran, puis tester en exécutant la cellule."
      ]
    },
    {
      "cell_type": "code",
      "metadata": {
        "id": "t0YqQyeNoStt"
      },
      "source": [
        "for i in range(3):\n",
        "    print('i =',i)\n",
        "    for j in range(4):\n",
        "        print(' |  j =', j)"
      ],
      "execution_count": null,
      "outputs": []
    },
    {
      "cell_type": "markdown",
      "metadata": {
        "id": "j4J9ruWVpXFq"
      },
      "source": [
        "#### question2"
      ]
    },
    {
      "cell_type": "markdown",
      "metadata": {
        "id": "1DhogtJ2pGu6"
      },
      "source": [
        "Avant d'exécuter le code suivant, **déterminer** quelle sera la valeur affichée pour la variable `cpt` à la fin du programme,  puis vérifier en exécutant la cellule."
      ]
    },
    {
      "cell_type": "code",
      "metadata": {
        "id": "DpCitw3Spsm8"
      },
      "source": [
        "cpt = 0\n",
        "for i in range(5): \n",
        "    for j in range(3):\n",
        "        cpt += 1\n",
        "print(cpt)"
      ],
      "execution_count": null,
      "outputs": []
    },
    {
      "cell_type": "markdown",
      "metadata": {
        "id": "uWodJu7-rxXg"
      },
      "source": [
        "#### question3"
      ]
    },
    {
      "cell_type": "markdown",
      "metadata": {
        "id": "RoffvDaerxXu"
      },
      "source": [
        "Avant d'exécuter le code suivant, **déterminer** quelle sera la valeur affichée pour la variable `cpt` à la fin du programme,  puis vérifier en exécutant la cellule."
      ]
    },
    {
      "cell_type": "code",
      "metadata": {
        "id": "gSdf1U4PrxXw"
      },
      "source": [
        "cpt = 0\n",
        "for i in range(10):\n",
        "    cpt += 1 \n",
        "for j in range(20):\n",
        "    cpt += 1\n",
        "print(cpt)"
      ],
      "execution_count": null,
      "outputs": []
    },
    {
      "cell_type": "markdown",
      "metadata": {
        "id": "jbmanvKBr7ln"
      },
      "source": [
        "#### question4"
      ]
    },
    {
      "cell_type": "markdown",
      "metadata": {
        "id": "-g1DE8dVr7lq"
      },
      "source": [
        "Avant d'exécuter le code suivant, **déterminer** quelle sera la valeur affichée pour la variable `cpt` à la fin du programme,  puis vérifier en exécutant la cellule."
      ]
    },
    {
      "cell_type": "code",
      "metadata": {
        "id": "ntB6slwYr7lt"
      },
      "source": [
        "cpt = 0\n",
        "for i in range(1,6): \n",
        "    for j in range(i):\n",
        "        cpt += 1\n",
        "print(cpt)"
      ],
      "execution_count": null,
      "outputs": []
    }
  ]
}