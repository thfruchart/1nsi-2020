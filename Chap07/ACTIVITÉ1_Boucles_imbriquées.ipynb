{
  "nbformat": 4,
  "nbformat_minor": 0,
  "metadata": {
    "colab": {
      "name": "Chap07_ACTIVITÉ1_Boucles_imbriquées.ipynb",
      "provenance": [],
      "collapsed_sections": [
        "RWmhOFw_pdDY"
      ],
      "authorship_tag": "ABX9TyNeItRg22PmCmyffy3zzX9F",
      "include_colab_link": true
    },
    "kernelspec": {
      "name": "python3",
      "display_name": "Python 3"
    }
  },
  "cells": [
    {
      "cell_type": "markdown",
      "metadata": {
        "id": "view-in-github",
        "colab_type": "text"
      },
      "source": [
        "<a href=\"https://colab.research.google.com/github/thfruchart/1nsi-2020/blob/master/Chap07/ACTIVIT%C3%891_Boucles_imbriqu%C3%A9es.ipynb\" target=\"_parent\"><img src=\"https://colab.research.google.com/assets/colab-badge.svg\" alt=\"Open In Colab\"/></a>"
      ]
    },
    {
      "cell_type": "markdown",
      "metadata": {
        "id": "mSeRBavJocWg"
      },
      "source": [
        "# Activité 1"
      ]
    },
    {
      "cell_type": "markdown",
      "metadata": {
        "id": "tctn_ODvoftw"
      },
      "source": [
        "On souaite écrire une fonction qui teste si deux tableaux ont au moins un élément en commun.\n",
        "\n",
        "Que penser du code suivant ? "
      ]
    },
    {
      "cell_type": "code",
      "metadata": {
        "id": "t0YqQyeNoStt",
        "outputId": "97217ea3-0c64-4474-d6b0-241e5c6da276",
        "colab": {
          "base_uri": "https://localhost:8080/"
        }
      },
      "source": [
        "def element_commun(t1, t2):\n",
        "    for i in range(len(t1)):\n",
        "        if t1[i] == t2[i]:\n",
        "            return True\n",
        "    return False\n",
        "\n",
        "print(element_commun([10,20,30],[15,20,25]))\n",
        "print(element_commun([10,20,30],[1, 2, 3]))"
      ],
      "execution_count": null,
      "outputs": [
        {
          "output_type": "stream",
          "text": [
            "True\n",
            "False\n"
          ],
          "name": "stdout"
        }
      ]
    },
    {
      "cell_type": "markdown",
      "metadata": {
        "id": "j4J9ruWVpXFq"
      },
      "source": [
        "#### question1"
      ]
    },
    {
      "cell_type": "markdown",
      "metadata": {
        "id": "1DhogtJ2pGu6"
      },
      "source": [
        "Trouver un exemple de tableaux `t1, t2`  à passer en paramètres à la fonction `element_commun` tels que la fonction renvoie `False` alors que t1 et t2 ont une valeur commune. "
      ]
    },
    {
      "cell_type": "code",
      "metadata": {
        "id": "DpCitw3Spsm8"
      },
      "source": [
        ""
      ],
      "execution_count": null,
      "outputs": []
    },
    {
      "cell_type": "markdown",
      "metadata": {
        "id": "RWmhOFw_pdDY"
      },
      "source": [
        "#### question2"
      ]
    },
    {
      "cell_type": "markdown",
      "metadata": {
        "id": "7UB8p7ncpdDc"
      },
      "source": [
        "Trouver un exemple de tableaux `t1, t2`  à passer en paramètres à la fonction `element_commun` tels que l'exécution de la fonction provoque une erreur. "
      ]
    },
    {
      "cell_type": "code",
      "metadata": {
        "id": "6jotr4oNpt2z"
      },
      "source": [
        ""
      ],
      "execution_count": null,
      "outputs": []
    },
    {
      "cell_type": "markdown",
      "metadata": {
        "id": "q60OZ5eJp_vi"
      },
      "source": [
        "#### question3"
      ]
    },
    {
      "cell_type": "markdown",
      "metadata": {
        "id": "O9kLIZnfp_vm"
      },
      "source": [
        "Proposer une nouvelle définition de la fonction element_commun pour corriger les problèmes rencontrés. \n",
        "\n",
        "On pourra modifier le code ci-dessous."
      ]
    },
    {
      "cell_type": "code",
      "metadata": {
        "id": "NTYFB8XHp_vo"
      },
      "source": [
        "def element_commun(t1, t2):\n",
        "    for i in range(len(t1)):\n",
        "        if t1[i] == t2[i]:\n",
        "            return True\n",
        "    return False"
      ],
      "execution_count": null,
      "outputs": []
    }
  ]
}