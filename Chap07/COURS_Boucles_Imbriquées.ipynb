{
  "nbformat": 4,
  "nbformat_minor": 0,
  "metadata": {
    "colab": {
      "name": "Chap07_COURS_Boucles_Imbriquées.ipynb",
      "provenance": [],
      "collapsed_sections": [
        "gTqnp0CAJeW8",
        "75WcLcWpJnp9",
        "xIYaJRS7KR1v",
        "-oB5RM9oPywD",
        "xZQDqgSbLxBp",
        "SWrJYKYjNFQ_",
        "xyVvCRq4QYxX"
      ],
      "authorship_tag": "ABX9TyNjAePfCVMonI9nBwhQV/RL",
      "include_colab_link": true
    },
    "kernelspec": {
      "name": "python3",
      "display_name": "Python 3"
    }
  },
  "cells": [
    {
      "cell_type": "markdown",
      "metadata": {
        "id": "view-in-github",
        "colab_type": "text"
      },
      "source": [
        "<a href=\"https://colab.research.google.com/github/thfruchart/1nsi-2020/blob/master/Chap07/COURS_Boucles_Imbriqu%C3%A9es.ipynb\" target=\"_parent\"><img src=\"https://colab.research.google.com/assets/colab-badge.svg\" alt=\"Open In Colab\"/></a>"
      ]
    },
    {
      "cell_type": "markdown",
      "metadata": {
        "id": "WPaUm4WcJQ-T"
      },
      "source": [
        "# Boucles imbriquées"
      ]
    },
    {
      "cell_type": "markdown",
      "metadata": {
        "id": "jV1K0dpcJTwN"
      },
      "source": [
        "Le corps d'une boucle `for`, ou d'une boucle `while` peut contenir n'importe quelle instruction Python, en particulier une autre boucle : dans ce cas on parle de \"boucles imbriquées\". "
      ]
    },
    {
      "cell_type": "markdown",
      "metadata": {
        "id": "gTqnp0CAJeW8"
      },
      "source": [
        "## Nombre d'itérations"
      ]
    },
    {
      "cell_type": "markdown",
      "metadata": {
        "id": "EXw3nT_lJqSt"
      },
      "source": [
        "Déterminer la valeur finale de la variable cpt en fonction de n et de p dans chaque cas : "
      ]
    },
    {
      "cell_type": "markdown",
      "metadata": {
        "id": "75WcLcWpJnp9"
      },
      "source": [
        "### boucles successives"
      ]
    },
    {
      "cell_type": "code",
      "metadata": {
        "id": "JTENnuE-uNrx"
      },
      "source": [
        "n = int(input('Entrer un entier n : '))\n",
        "p = int(input('Entrer un entier p : '))\n",
        "\n",
        "cpt = 0\n",
        "for i in range(n):\n",
        "    cpt += 1\n",
        "for j in range(p) : \n",
        "    cpt += 1\n",
        "\n",
        "print(cpt)\n",
        "# remarque : cpt vaut ... "
      ],
      "execution_count": null,
      "outputs": []
    },
    {
      "cell_type": "code",
      "metadata": {
        "id": "eZG0znbBKGZ9"
      },
      "source": [
        "n = int(input('Entrer un entier n : '))\n",
        "p = int(input('Entrer un entier p : '))\n",
        "\n",
        "cpt = 0\n",
        "for i in range(n):\n",
        "    cpt += 2\n",
        "for j in range(p) : \n",
        "    cpt += 3\n",
        "\n",
        "print(cpt)\n",
        "# remarque : cpt vaut ... "
      ],
      "execution_count": null,
      "outputs": []
    },
    {
      "cell_type": "markdown",
      "metadata": {
        "id": "xIYaJRS7KR1v"
      },
      "source": [
        "### boucles imbriquées"
      ]
    },
    {
      "cell_type": "code",
      "metadata": {
        "id": "L5ifx9vyKR1x"
      },
      "source": [
        "n = int(input('Entrer un entier n : '))\n",
        "p = int(input('Entrer un entier p : '))\n",
        "\n",
        "cpt = 0\n",
        "for i in range(n):\n",
        "    for j in range(p) : \n",
        "        cpt += 1\n",
        "\n",
        "print(cpt)\n",
        "# remarque : cpt vaut ... "
      ],
      "execution_count": null,
      "outputs": []
    },
    {
      "cell_type": "code",
      "metadata": {
        "id": "GF5TitS-KR11"
      },
      "source": [
        "n = int(input('Entrer un entier n : '))\n",
        "p = int(input('Entrer un entier p : '))\n",
        "\n",
        "cpt = 0\n",
        "for i in range(n):\n",
        "    cpt += 1\n",
        "    for j in range(p) : \n",
        "        cpt += 1\n",
        "\n",
        "print(cpt)\n",
        "# remarque : cpt vaut ... "
      ],
      "execution_count": null,
      "outputs": []
    },
    {
      "cell_type": "markdown",
      "metadata": {
        "id": "BNPT0kxVKU1w"
      },
      "source": [
        "### A RETENIR"
      ]
    },
    {
      "cell_type": "markdown",
      "metadata": {
        "id": "R8tbSvKgKz2F"
      },
      "source": [
        "Dans le cas où une boucle exécutée **`n`** fois contient une boucle **imbriquée** exécutée **`p`** fois, le nombre total d'itérations est **`n x p`**"
      ]
    },
    {
      "cell_type": "markdown",
      "metadata": {
        "id": "-oB5RM9oPywD"
      },
      "source": [
        "### boucles imbriquées dépendantes"
      ]
    },
    {
      "cell_type": "code",
      "metadata": {
        "id": "2QClEclVPywV"
      },
      "source": [
        "n = int(input('Entrer un entier n : '))\n",
        "p = int(input('Entrer un entier p : '))\n",
        "\n",
        "cpt = 0\n",
        "for i in range(n):\n",
        "    for j in range( n - i ) : \n",
        "        cpt += 1\n",
        "\n",
        "print(cpt)\n",
        "# remarque : cpt vaut ... "
      ],
      "execution_count": null,
      "outputs": []
    },
    {
      "cell_type": "markdown",
      "metadata": {
        "id": "xZQDqgSbLxBp"
      },
      "source": [
        "# Temps d'exécution : première approche de la complexité"
      ]
    },
    {
      "cell_type": "code",
      "metadata": {
        "id": "x4bBbcLNKU1z",
        "outputId": "8d6552aa-ef75-4742-96aa-6d4340e5b688",
        "colab": {
          "base_uri": "https://localhost:8080/"
        }
      },
      "source": [
        "n = int(input('Entrer un entier n : '))\n",
        "cpt = 0\n",
        "\n",
        "for i in range(n):\n",
        "    for j in range(n) : \n",
        "        for k in range(n):\n",
        "            cpt += 1\n",
        "\n",
        "print(cpt) # remarque : cpt vaut n*n*n"
      ],
      "execution_count": 11,
      "outputs": [
        {
          "output_type": "stream",
          "text": [
            "Entrer un entier n : 100\n",
            "1000000\n"
          ],
          "name": "stdout"
        }
      ]
    },
    {
      "cell_type": "markdown",
      "metadata": {
        "id": "Pda1Z-YNMs0G"
      },
      "source": [
        "#### [fonction `perf_counter` du module time](https://docs.python.org/fr/3/library/time.html#time.perf_counter)\n",
        "\n",
        "\n"
      ]
    },
    {
      "cell_type": "code",
      "metadata": {
        "id": "_FzDL-kVKU2A"
      },
      "source": [
        "from time import perf_counter\n",
        "print(perf_counter())\n",
        "input()\n",
        "print(perf_counter())"
      ],
      "execution_count": null,
      "outputs": []
    },
    {
      "cell_type": "markdown",
      "metadata": {
        "id": "SWrJYKYjNFQ_"
      },
      "source": [
        "### Activité"
      ]
    },
    {
      "cell_type": "markdown",
      "metadata": {
        "id": "-rmCCjGoM3zd"
      },
      "source": [
        "1. Ajouter dans la cellule suivante les commandes utiles pour mesurer le temps d'exécution des trois boucles for imbriquées"
      ]
    },
    {
      "cell_type": "code",
      "metadata": {
        "id": "wm_JR0BkM_Rj"
      },
      "source": [
        "from time import perf_counter\n",
        "n = int(input('Entrer un entier n : '))\n",
        "cpt = 0\n",
        "for i in range(n):\n",
        "    for j in range(n) : \n",
        "        for k in range(n):\n",
        "            cpt += 1\n",
        "print(cpt) # remarque : cpt vaut n*n*n"
      ],
      "execution_count": null,
      "outputs": []
    },
    {
      "cell_type": "markdown",
      "metadata": {
        "id": "7cWvpl3nOMxH"
      },
      "source": [
        "2. Ecrire une fonction chrono(n) qui renvoie le temps d'exécution des trois boucles for imbriquées : \n",
        "\n",
        "    for i in range(n):\n",
        "        for j in range(n) : \n",
        "            for k in range(n):\n",
        "                cpt += 1"
      ]
    },
    {
      "cell_type": "code",
      "metadata": {
        "id": "YbXSTy6COZfF"
      },
      "source": [
        ""
      ],
      "execution_count": null,
      "outputs": []
    },
    {
      "cell_type": "markdown",
      "metadata": {
        "id": "7VaO7Zg-NWBL"
      },
      "source": [
        "3. A l'aide de la fonction chrono, estimer la variation du temps de calcul des trois boucles imbriquées  : \n",
        "\n",
        "* lorsque `n` est doublé\n",
        "* lorsque `n` est triplé\n",
        "*  lorsque`n` est décuplé"
      ]
    },
    {
      "cell_type": "markdown",
      "metadata": {
        "id": "xyVvCRq4QYxX"
      },
      "source": [
        "# Instruction `continue`"
      ]
    },
    {
      "cell_type": "markdown",
      "metadata": {
        "id": "gxYHnTW9Qb0K"
      },
      "source": [
        "Dans une boucle en Python,  l'instruction `continue` permet de passer directement à l'itération suivante. \n",
        "\n",
        "Voir l'exemple ci-dessous"
      ]
    },
    {
      "cell_type": "code",
      "metadata": {
        "id": "CG5FR7vhQXy7",
        "outputId": "803cb22a-e41d-43a9-febc-ca0a75392d99",
        "colab": {
          "base_uri": "https://localhost:8080/"
        }
      },
      "source": [
        "for i in range(-3,4):\n",
        "    if i ==0 : continue\n",
        "    print(i)"
      ],
      "execution_count": 14,
      "outputs": [
        {
          "output_type": "stream",
          "text": [
            "-3\n",
            "-2\n",
            "-1\n",
            "1\n",
            "2\n",
            "3\n"
          ],
          "name": "stdout"
        }
      ]
    },
    {
      "cell_type": "markdown",
      "metadata": {
        "id": "Xijnu9YYQ8py"
      },
      "source": [
        "Remarques : \n",
        "* cette instruction permet de \"mettre à part\" un cas particulier\n",
        "* on peut très bien remplacer cette instruction par une conditionnelle"
      ]
    },
    {
      "cell_type": "code",
      "metadata": {
        "id": "ro_65n9DRKO0",
        "outputId": "6728c7fe-891d-48ae-c142-862eefd485e8",
        "colab": {
          "base_uri": "https://localhost:8080/"
        }
      },
      "source": [
        "for i in range(-3,4):\n",
        "    if not i==0 : \n",
        "        print(i)"
      ],
      "execution_count": 15,
      "outputs": [
        {
          "output_type": "stream",
          "text": [
            "-3\n",
            "-2\n",
            "-1\n",
            "1\n",
            "2\n",
            "3\n"
          ],
          "name": "stdout"
        }
      ]
    }
  ]
}