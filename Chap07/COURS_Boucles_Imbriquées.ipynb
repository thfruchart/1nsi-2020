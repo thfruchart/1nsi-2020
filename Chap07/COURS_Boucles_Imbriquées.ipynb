{
  "nbformat": 4,
  "nbformat_minor": 0,
  "metadata": {
    "colab": {
      "name": "Chap07_COURS_Boucles_Imbriquées.ipynb",
      "provenance": [],
      "collapsed_sections": [
        "gTqnp0CAJeW8",
        "75WcLcWpJnp9",
        "xIYaJRS7KR1v",
        "-oB5RM9oPywD",
        "xZQDqgSbLxBp",
        "SWrJYKYjNFQ_",
        "xyVvCRq4QYxX"
      ],
      "authorship_tag": "ABX9TyPWcAkAgeOFs5eyOyp96KZ2",
      "include_colab_link": true
    },
    "kernelspec": {
      "name": "python3",
      "display_name": "Python 3"
    }
  },
  "cells": [
    {
      "cell_type": "markdown",
      "metadata": {
        "id": "view-in-github",
        "colab_type": "text"
      },
      "source": [
        "<a href=\"https://colab.research.google.com/github/thfruchart/1nsi-2020/blob/master/Chap07/COURS_Boucles_Imbriqu%C3%A9es.ipynb\" target=\"_parent\"><img src=\"https://colab.research.google.com/assets/colab-badge.svg\" alt=\"Open In Colab\"/></a>"
      ]
    },
    {
      "cell_type": "markdown",
      "metadata": {
        "id": "WPaUm4WcJQ-T"
      },
      "source": [
        "# Boucles imbriquées"
      ]
    },
    {
      "cell_type": "markdown",
      "metadata": {
        "id": "jV1K0dpcJTwN"
      },
      "source": [
        "Le corps d'une boucle `for`, ou d'une boucle `while` peut contenir n'importe quelle instruction Python, en particulier une autre boucle : dans ce cas on parle de \"boucles imbriquées\". "
      ]
    },
    {
      "cell_type": "markdown",
      "metadata": {
        "id": "gTqnp0CAJeW8"
      },
      "source": [
        "## Nombre d'itérations"
      ]
    },
    {
      "cell_type": "markdown",
      "metadata": {
        "id": "EXw3nT_lJqSt"
      },
      "source": [
        "Déterminer la valeur finale de la variable cpt en fonction de n et de p dans chaque cas : "
      ]
    },
    {
      "cell_type": "markdown",
      "metadata": {
        "id": "75WcLcWpJnp9"
      },
      "source": [
        "### boucles successives"
      ]
    },
    {
      "cell_type": "code",
      "metadata": {
        "id": "JTENnuE-uNrx",
        "outputId": "137d5875-9d8b-482f-9ca2-3331d4666f4e",
        "colab": {
          "base_uri": "https://localhost:8080/"
        }
      },
      "source": [
        "n = int(input('Entrer un entier n : '))\n",
        "p = int(input('Entrer un entier p : '))\n",
        "\n",
        "cpt = 0\n",
        "for i in range(n):\n",
        "    cpt += 1\n",
        "for j in range(p) : \n",
        "    cpt += 1\n",
        "\n",
        "print(cpt)\n",
        "# remarque : cpt vaut n + p\n",
        "print(n + p)"
      ],
      "execution_count": 2,
      "outputs": [
        {
          "output_type": "stream",
          "text": [
            "Entrer un entier n : 34\n",
            "Entrer un entier p : 17\n",
            "51\n",
            "51\n"
          ],
          "name": "stdout"
        }
      ]
    },
    {
      "cell_type": "code",
      "metadata": {
        "id": "eZG0znbBKGZ9",
        "outputId": "31f47409-6419-4fe9-cad4-2a5c3e619468",
        "colab": {
          "base_uri": "https://localhost:8080/"
        }
      },
      "source": [
        "n = int(input('Entrer un entier n : '))\n",
        "p = int(input('Entrer un entier p : '))\n",
        "\n",
        "cpt = 0\n",
        "for i in range(n):\n",
        "    cpt += 2\n",
        "for j in range(p) : \n",
        "    cpt += 3\n",
        "\n",
        "print(cpt == 2*n + 3*p)\n",
        "# remarque : cpt vaut 2*n + 3*p"
      ],
      "execution_count": 4,
      "outputs": [
        {
          "output_type": "stream",
          "text": [
            "Entrer un entier n : 50\n",
            "Entrer un entier p : 30\n",
            "True\n"
          ],
          "name": "stdout"
        }
      ]
    },
    {
      "cell_type": "markdown",
      "metadata": {
        "id": "xIYaJRS7KR1v"
      },
      "source": [
        "### boucles imbriquées"
      ]
    },
    {
      "cell_type": "code",
      "metadata": {
        "id": "L5ifx9vyKR1x",
        "outputId": "b8757e26-36d0-4af1-9a81-0a2194af7e9c",
        "colab": {
          "base_uri": "https://localhost:8080/"
        }
      },
      "source": [
        "n = int(input('Entrer un entier n : '))\n",
        "p = int(input('Entrer un entier p : '))\n",
        "\n",
        "cpt = 0\n",
        "for i in range(n):\n",
        "    for j in range(p) : \n",
        "        cpt += 1\n",
        "\n",
        "print(cpt == n*p)\n",
        "# remarque : cpt vaut n*p"
      ],
      "execution_count": 5,
      "outputs": [
        {
          "output_type": "stream",
          "text": [
            "Entrer un entier n : 45\n",
            "Entrer un entier p : 126\n",
            "True\n"
          ],
          "name": "stdout"
        }
      ]
    },
    {
      "cell_type": "code",
      "metadata": {
        "id": "GF5TitS-KR11",
        "outputId": "a459de3b-9670-4db3-91da-bfc0833b614b",
        "colab": {
          "base_uri": "https://localhost:8080/"
        }
      },
      "source": [
        "n = int(input('Entrer un entier n : '))\n",
        "p = int(input('Entrer un entier p : '))\n",
        "\n",
        "cpt = 0\n",
        "for i in range(n):\n",
        "    cpt += 1 # exécuté n fois\n",
        "    for j in range(p) : \n",
        "        cpt += 1 # exécuté n*p fois\n",
        "\n",
        "print(cpt == n +n*p)\n",
        "# remarque : cpt vaut ... "
      ],
      "execution_count": 6,
      "outputs": [
        {
          "output_type": "stream",
          "text": [
            "Entrer un entier n : 12\n",
            "Entrer un entier p : 45\n",
            "True\n"
          ],
          "name": "stdout"
        }
      ]
    },
    {
      "cell_type": "markdown",
      "metadata": {
        "id": "BNPT0kxVKU1w"
      },
      "source": [
        "### A RETENIR"
      ]
    },
    {
      "cell_type": "markdown",
      "metadata": {
        "id": "R8tbSvKgKz2F"
      },
      "source": [
        "Dans le cas où une boucle exécutée **`n`** fois contient une boucle **imbriquée** exécutée **`p`** fois, le nombre total d'itérations est **`n x p`**"
      ]
    },
    {
      "cell_type": "markdown",
      "metadata": {
        "id": "-oB5RM9oPywD"
      },
      "source": [
        "### boucles imbriquées dépendantes"
      ]
    },
    {
      "cell_type": "code",
      "metadata": {
        "id": "2QClEclVPywV",
        "outputId": "14f28a29-d85d-40c7-c1f2-ce3ecac614c8",
        "colab": {
          "base_uri": "https://localhost:8080/"
        }
      },
      "source": [
        "n = int(input('Entrer un entier n : '))\n",
        "\n",
        "cpt = 0\n",
        "for i in range(n): # exécuté n fois\n",
        "    for j in range( n - i ) : # nombre d'itérations : n-0, n-1, n-2 ... 0\n",
        "        cpt += 1\n",
        "\n",
        "print(cpt == n*(n+1)/2)\n",
        "# remarque : cpt vaut 0+1+2+...+n = n(n+1)/2 = (n**2 + n)/2"
      ],
      "execution_count": 7,
      "outputs": [
        {
          "output_type": "stream",
          "text": [
            "Entrer un entier n : 10\n",
            "Entrer un entier p : 0\n",
            "True\n"
          ],
          "name": "stdout"
        }
      ]
    },
    {
      "cell_type": "markdown",
      "metadata": {
        "id": "xZQDqgSbLxBp"
      },
      "source": [
        "# Temps d'exécution : première approche de la complexité"
      ]
    },
    {
      "cell_type": "code",
      "metadata": {
        "id": "x4bBbcLNKU1z",
        "colab": {
          "base_uri": "https://localhost:8080/"
        },
        "outputId": "58b4de96-011d-46ca-ab68-4b063e316b19"
      },
      "source": [
        "n = int(input('Entrer un entier n : '))\n",
        "cpt = 0\n",
        "\n",
        "for i in range(n):\n",
        "    for j in range(n) : \n",
        "        for k in range(n):\n",
        "            cpt += 1\n",
        "\n",
        "print(cpt) # remarque : cpt vaut n*n*n"
      ],
      "execution_count": 12,
      "outputs": [
        {
          "output_type": "stream",
          "text": [
            "Entrer un entier n : 100\n",
            "1000000\n"
          ],
          "name": "stdout"
        }
      ]
    },
    {
      "cell_type": "markdown",
      "metadata": {
        "id": "Pda1Z-YNMs0G"
      },
      "source": [
        "#### [fonction `perf_counter` du module time](https://docs.python.org/fr/3/library/time.html#time.perf_counter)\n",
        "\n",
        "\n"
      ]
    },
    {
      "cell_type": "code",
      "metadata": {
        "id": "_FzDL-kVKU2A",
        "outputId": "3c44d648-476b-43eb-b4f5-528b8a2cfd86",
        "colab": {
          "base_uri": "https://localhost:8080/"
        }
      },
      "source": [
        "from time import perf_counter\n",
        "print(perf_counter())\n",
        "input()\n",
        "print(perf_counter())"
      ],
      "execution_count": 13,
      "outputs": [
        {
          "output_type": "stream",
          "text": [
            "893.838967508\n",
            "\n",
            "936.207925151\n"
          ],
          "name": "stdout"
        }
      ]
    },
    {
      "cell_type": "markdown",
      "metadata": {
        "id": "SWrJYKYjNFQ_"
      },
      "source": [
        "### Activité"
      ]
    },
    {
      "cell_type": "markdown",
      "metadata": {
        "id": "-rmCCjGoM3zd"
      },
      "source": [
        "1. Ajouter dans la cellule suivante les commandes utiles pour mesurer le temps d'exécution des trois boucles for imbriquées"
      ]
    },
    {
      "cell_type": "code",
      "metadata": {
        "id": "wm_JR0BkM_Rj",
        "outputId": "de95c8cf-5464-48eb-c770-bd0db65645f6",
        "colab": {
          "base_uri": "https://localhost:8080/"
        }
      },
      "source": [
        "from time import perf_counter\n",
        "n = int(input('Entrer un entier n : '))\n",
        "cpt = 0\n",
        "#### démarrer le chrono  ####\n",
        "debut = perf_counter()\n",
        "for i in range(n):\n",
        "    for j in range(n) : \n",
        "        for k in range(n):\n",
        "            cpt += 1\n",
        "#### arrêter le chrono  ####\n",
        "fin = perf_counter()\n",
        "print((fin - debut) * 1000, \"ms\")\n",
        "\n",
        "print(cpt) # remarque : cpt vaut n*n*n"
      ],
      "execution_count": 19,
      "outputs": [
        {
          "output_type": "stream",
          "text": [
            "Entrer un entier n : 200\n",
            "635.5057850000776 ms\n",
            "8000000\n"
          ],
          "name": "stdout"
        }
      ]
    },
    {
      "cell_type": "markdown",
      "metadata": {
        "id": "7cWvpl3nOMxH"
      },
      "source": [
        "2. Ecrire une fonction chrono(n) qui renvoie le temps d'exécution des trois boucles for imbriquées : \n",
        "\n",
        "    for i in range(n):\n",
        "        for j in range(n) : \n",
        "            for k in range(n):\n",
        "                cpt += 1"
      ]
    },
    {
      "cell_type": "code",
      "metadata": {
        "id": "YbXSTy6COZfF"
      },
      "source": [
        "def chrono(n) :\n",
        "    '''renvoie le nombre de millisecondes nécessaires à l'exécution\n",
        "    de trois boucles for de taille n  '''\n",
        "    cpt = 0\n",
        "    #### démarrer le chrono  ####\n",
        "    debut = perf_counter()\n",
        "    for i in range(n):\n",
        "        for j in range(n) : \n",
        "            for k in range(n):\n",
        "                cpt += 1\n",
        "    #### arrêter le chrono  ####\n",
        "    fin = perf_counter()\n",
        "    return (fin - debut) * 1000"
      ],
      "execution_count": 22,
      "outputs": []
    },
    {
      "cell_type": "code",
      "metadata": {
        "id": "2C7mVPDsHcB_",
        "outputId": "3921a98f-1c11-4c74-9848-38d6c387b16b",
        "colab": {
          "base_uri": "https://localhost:8080/"
        }
      },
      "source": [
        "chrono(100)"
      ],
      "execution_count": 23,
      "outputs": [
        {
          "output_type": "execute_result",
          "data": {
            "text/plain": [
              "48.970679999911226"
            ]
          },
          "metadata": {
            "tags": []
          },
          "execution_count": 23
        }
      ]
    },
    {
      "cell_type": "markdown",
      "metadata": {
        "id": "7VaO7Zg-NWBL"
      },
      "source": [
        "3. A l'aide de la fonction chrono, estimer la variation du temps de calcul des trois boucles imbriquées  : \n",
        "\n",
        "* lorsque `n` est doublé\n",
        "* lorsque `n` est triplé\n",
        "*  lorsque`n` est décuplé"
      ]
    },
    {
      "cell_type": "code",
      "metadata": {
        "id": "fTgPmzQxKqpQ",
        "outputId": "c95885a9-eacf-4cc6-a178-548581ed3e90",
        "colab": {
          "base_uri": "https://localhost:8080/"
        }
      },
      "source": [
        "n = 22\n",
        "# si n est doublé : \n",
        "print(chrono(n*2) / chrono(n))\n",
        "# si n est triplé: \n",
        "print(chrono(n*3) / chrono(n))\n",
        "# si n est décuplé: \n",
        "print(chrono(n*10) / chrono(n))"
      ],
      "execution_count": 29,
      "outputs": [
        {
          "output_type": "stream",
          "text": [
            "16.957695314638116\n",
            "26.189741641046062\n",
            "852.8754422261758\n"
          ],
          "name": "stdout"
        }
      ]
    },
    {
      "cell_type": "markdown",
      "metadata": {
        "id": "xyVvCRq4QYxX"
      },
      "source": [
        "# Instruction `continue`"
      ]
    },
    {
      "cell_type": "markdown",
      "metadata": {
        "id": "gxYHnTW9Qb0K"
      },
      "source": [
        "Dans une boucle en Python,  l'instruction `continue` permet de passer directement à l'itération suivante. \n",
        "\n",
        "Voir l'exemple ci-dessous"
      ]
    },
    {
      "cell_type": "code",
      "metadata": {
        "id": "CG5FR7vhQXy7",
        "colab": {
          "base_uri": "https://localhost:8080/"
        },
        "outputId": "803cb22a-e41d-43a9-febc-ca0a75392d99"
      },
      "source": [
        "for i in range(-3,4):\n",
        "    if i ==0 : continue\n",
        "    print(i)"
      ],
      "execution_count": null,
      "outputs": [
        {
          "output_type": "stream",
          "text": [
            "-3\n",
            "-2\n",
            "-1\n",
            "1\n",
            "2\n",
            "3\n"
          ],
          "name": "stdout"
        }
      ]
    },
    {
      "cell_type": "markdown",
      "metadata": {
        "id": "Xijnu9YYQ8py"
      },
      "source": [
        "Remarques : \n",
        "* cette instruction permet de \"mettre à part\" un cas particulier\n",
        "* on peut très bien remplacer cette instruction par une conditionnelle"
      ]
    },
    {
      "cell_type": "code",
      "metadata": {
        "id": "ro_65n9DRKO0",
        "colab": {
          "base_uri": "https://localhost:8080/"
        },
        "outputId": "6728c7fe-891d-48ae-c142-862eefd485e8"
      },
      "source": [
        "for i in range(-3,4):\n",
        "    if not i==0 : \n",
        "        print(i)"
      ],
      "execution_count": null,
      "outputs": [
        {
          "output_type": "stream",
          "text": [
            "-3\n",
            "-2\n",
            "-1\n",
            "1\n",
            "2\n",
            "3\n"
          ],
          "name": "stdout"
        }
      ]
    }
  ]
}