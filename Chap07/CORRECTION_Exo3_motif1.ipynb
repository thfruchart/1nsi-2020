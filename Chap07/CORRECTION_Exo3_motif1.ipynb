{
  "nbformat": 4,
  "nbformat_minor": 0,
  "metadata": {
    "colab": {
      "name": "Chap07_CORRECTION_Exo3_motif1.ipynb",
      "provenance": [],
      "collapsed_sections": [],
      "authorship_tag": "ABX9TyM5fArAZzRpiPX84OGUdswL",
      "include_colab_link": true
    },
    "kernelspec": {
      "name": "python3",
      "display_name": "Python 3"
    }
  },
  "cells": [
    {
      "cell_type": "markdown",
      "metadata": {
        "id": "view-in-github",
        "colab_type": "text"
      },
      "source": [
        "<a href=\"https://colab.research.google.com/github/thfruchart/1nsi-2020/blob/master/Chap07/CORRECTION_Exo3_motif1.ipynb\" target=\"_parent\"><img src=\"https://colab.research.google.com/assets/colab-badge.svg\" alt=\"Open In Colab\"/></a>"
      ]
    },
    {
      "cell_type": "markdown",
      "metadata": {
        "id": "_ARdVHQ8U1Xb"
      },
      "source": [
        "Brouillon 1"
      ]
    },
    {
      "cell_type": "code",
      "metadata": {
        "colab": {
          "base_uri": "https://localhost:8080/"
        },
        "id": "7WFS24AOUFJj",
        "outputId": "85904a35-6fad-4a4d-c878-f2f848bc1ec0"
      },
      "source": [
        "n = int(input(\"Entrer n :\"))\n",
        "for i in range(n):\n",
        "    print(0)"
      ],
      "execution_count": null,
      "outputs": [
        {
          "output_type": "stream",
          "text": [
            "Entrer n :4\n",
            "0\n",
            "0\n",
            "0\n",
            "0\n"
          ],
          "name": "stdout"
        }
      ]
    },
    {
      "cell_type": "markdown",
      "metadata": {
        "id": "6vWxw0SOU8F6"
      },
      "source": [
        "Brouillon 2"
      ]
    },
    {
      "cell_type": "code",
      "metadata": {
        "colab": {
          "base_uri": "https://localhost:8080/"
        },
        "id": "csTW6HxyVGCO",
        "outputId": "8939843b-63de-4777-8feb-debdb7527fb4"
      },
      "source": [
        "n = int(input(\"Entrer n :\"))\n",
        "for i in range(n):\n",
        "    print(i)"
      ],
      "execution_count": null,
      "outputs": [
        {
          "output_type": "stream",
          "text": [
            "Entrer n :4\n",
            "0\n",
            "1\n",
            "2\n",
            "3\n"
          ],
          "name": "stdout"
        }
      ]
    },
    {
      "cell_type": "markdown",
      "metadata": {
        "id": "Rfa7vf-lVp-w"
      },
      "source": [
        "Brouillon 3"
      ]
    },
    {
      "cell_type": "code",
      "metadata": {
        "colab": {
          "base_uri": "https://localhost:8080/"
        },
        "id": "EHJZSPdnVr_8",
        "outputId": "6980b07c-42ce-412b-8b19-25704e60c380"
      },
      "source": [
        "i = 3\n",
        "print(0, end = ' ')\n",
        "print(1, end = ' ')\n",
        "print(2, end = ' ')\n",
        "print(3, end = ' ')"
      ],
      "execution_count": null,
      "outputs": [
        {
          "output_type": "stream",
          "text": [
            "0 1 2 3 "
          ],
          "name": "stdout"
        }
      ]
    },
    {
      "cell_type": "code",
      "metadata": {
        "colab": {
          "base_uri": "https://localhost:8080/"
        },
        "id": "7uK8jKXtWC7G",
        "outputId": "f0baf060-a644-47d1-bfd1-e33282213878"
      },
      "source": [
        "i = 3\n",
        "for x in range(i+1):\n",
        "    print(x, end = ' ')"
      ],
      "execution_count": null,
      "outputs": [
        {
          "output_type": "stream",
          "text": [
            "0 1 2 3 "
          ],
          "name": "stdout"
        }
      ]
    },
    {
      "cell_type": "markdown",
      "metadata": {
        "id": "HnIpORKWi76S"
      },
      "source": [
        "### SOLUTION\n"
      ]
    },
    {
      "cell_type": "code",
      "metadata": {
        "id": "88h2AMLJZEDY",
        "colab": {
          "base_uri": "https://localhost:8080/"
        },
        "outputId": "8e3d3e43-e222-4f6d-f737-39b40b4256b9"
      },
      "source": [
        "n = int(input('Entrer un nombre entier positif : '))\n",
        "for i in range(n):\n",
        "    for x in range(i+1):\n",
        "        print(x, end=' ')\n",
        "    print()"
      ],
      "execution_count": 1,
      "outputs": [
        {
          "output_type": "stream",
          "text": [
            "Entrer un nombre entier positif : 4\n",
            "0 \n",
            "0 1 \n",
            "0 1 2 \n",
            "0 1 2 3 \n"
          ],
          "name": "stdout"
        }
      ]
    }
  ]
}