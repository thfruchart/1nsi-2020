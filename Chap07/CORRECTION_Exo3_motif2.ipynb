{
  "nbformat": 4,
  "nbformat_minor": 0,
  "metadata": {
    "colab": {
      "name": "Chap07_CORRECTION_Exo3_motif2.ipynb",
      "provenance": [],
      "collapsed_sections": [
        "_ARdVHQ8U1Xb",
        "6vWxw0SOU8F6",
        "UWaoPcGuUYcL"
      ],
      "authorship_tag": "ABX9TyPHCd4X9JyexFIUoE2PhaJU",
      "include_colab_link": true
    },
    "kernelspec": {
      "name": "python3",
      "display_name": "Python 3"
    }
  },
  "cells": [
    {
      "cell_type": "markdown",
      "metadata": {
        "id": "view-in-github",
        "colab_type": "text"
      },
      "source": [
        "<a href=\"https://colab.research.google.com/github/thfruchart/1nsi-2020/blob/master/Chap07/CORRECTION_Exo3_motif2.ipynb\" target=\"_parent\"><img src=\"https://colab.research.google.com/assets/colab-badge.svg\" alt=\"Open In Colab\"/></a>"
      ]
    },
    {
      "cell_type": "markdown",
      "metadata": {
        "id": "6BBD-uzJTgI1"
      },
      "source": [
        "Objectif : pour n = 4 on doit obtenir :\n",
        "\n",
        "    Entrer un nombre entier positif : 4\n",
        "    0 1 2 3 \n",
        "    0 1 2 \n",
        "    0 1 \n",
        "    0"
      ]
    },
    {
      "cell_type": "markdown",
      "metadata": {
        "id": "_ARdVHQ8U1Xb"
      },
      "source": [
        "#### Brouillon 1"
      ]
    },
    {
      "cell_type": "code",
      "metadata": {
        "colab": {
          "base_uri": "https://localhost:8080/"
        },
        "id": "7WFS24AOUFJj",
        "outputId": "c1cb33fa-2e5d-43c1-a573-82bfb809fdbb"
      },
      "source": [
        "n = int(input(\"Entrer n :\"))\n",
        "for i in range(n):\n",
        "    print(i)"
      ],
      "execution_count": 1,
      "outputs": [
        {
          "output_type": "stream",
          "text": [
            "Entrer n :4\n",
            "0\n",
            "1\n",
            "2\n",
            "3\n"
          ],
          "name": "stdout"
        }
      ]
    },
    {
      "cell_type": "markdown",
      "metadata": {
        "id": "VClT-IyFTrnD"
      },
      "source": [
        "Par rapport à l'objectif : \n",
        "\n",
        "    0 1 2 3 \n",
        "    0 1 2 \n",
        "    0 1 \n",
        "    0\n",
        "\n",
        "* lorsque i = 0, on doit afficher 4 valeurs\n",
        "* lorsque i = 1, on doit afficher 3 valeurs\n",
        "* lorsque i = 2, on doit afficher 2 valeurs\n",
        "* lorsque i = 3, on doit afficher 1 valeurs"
      ]
    },
    {
      "cell_type": "markdown",
      "metadata": {
        "id": "6vWxw0SOU8F6"
      },
      "source": [
        "#### Brouillon 2"
      ]
    },
    {
      "cell_type": "code",
      "metadata": {
        "colab": {
          "base_uri": "https://localhost:8080/"
        },
        "id": "7uK8jKXtWC7G",
        "outputId": "d30f7fd3-9f03-42b0-f5c3-a1b757af0929"
      },
      "source": [
        "i = int(input('i = '))\n",
        "for x in range(4-i):\n",
        "    print(x, end = ' ')"
      ],
      "execution_count": 9,
      "outputs": [
        {
          "output_type": "stream",
          "text": [
            "i = 3\n",
            "0 "
          ],
          "name": "stdout"
        }
      ]
    },
    {
      "cell_type": "markdown",
      "metadata": {
        "id": "UWaoPcGuUYcL"
      },
      "source": [
        "## SOLUTION"
      ]
    },
    {
      "cell_type": "code",
      "metadata": {
        "colab": {
          "base_uri": "https://localhost:8080/"
        },
        "id": "iBrEfn8sJRmX",
        "outputId": "f77e0703-2a3e-4ab4-b07d-a510ad6841d1"
      },
      "source": [
        "n = int(input('Entrer un nombre entier positif : '))\n",
        "for i in range(n):\n",
        "    for x in range(n - i):\n",
        "        print(x, end=' ')\n",
        "    print()"
      ],
      "execution_count": 10,
      "outputs": [
        {
          "output_type": "stream",
          "text": [
            "Entrer un nombre entier positif : 4\n",
            "0 1 2 3 \n",
            "0 1 2 \n",
            "0 1 \n",
            "0 \n"
          ],
          "name": "stdout"
        }
      ]
    }
  ]
}