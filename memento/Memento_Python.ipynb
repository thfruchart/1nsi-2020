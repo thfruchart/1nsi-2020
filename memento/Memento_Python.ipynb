{
  "nbformat": 4,
  "nbformat_minor": 0,
  "metadata": {
    "colab": {
      "name": "Memento-Python.ipynb",
      "provenance": [],
      "authorship_tag": "ABX9TyNhec+tb6YOsKhhLk+6K1ZK",
      "include_colab_link": true
    },
    "kernelspec": {
      "name": "python3",
      "display_name": "Python 3"
    }
  },
  "cells": [
    {
      "cell_type": "markdown",
      "metadata": {
        "id": "view-in-github",
        "colab_type": "text"
      },
      "source": [
        "<a href=\"https://colab.research.google.com/github/thfruchart/1nsi-2020/blob/master/memento/Memento_Python.ipynb\" target=\"_parent\"><img src=\"https://colab.research.google.com/assets/colab-badge.svg\" alt=\"Open In Colab\"/></a>"
      ]
    },
    {
      "cell_type": "markdown",
      "metadata": {
        "id": "B8FhVpvGU_fj",
        "colab_type": "text"
      },
      "source": [
        "##  Expressions arithmétiques"
      ]
    },
    {
      "cell_type": "code",
      "metadata": {
        "id": "wLOsxtnZRi09",
        "colab_type": "code",
        "colab": {}
      },
      "source": [
        "5**2"
      ],
      "execution_count": null,
      "outputs": []
    },
    {
      "cell_type": "code",
      "metadata": {
        "id": "sWWJ6ufURmfD",
        "colab_type": "code",
        "colab": {}
      },
      "source": [
        "13/2"
      ],
      "execution_count": null,
      "outputs": []
    },
    {
      "cell_type": "code",
      "metadata": {
        "id": "SIj3zZAQRkUe",
        "colab_type": "code",
        "colab": {}
      },
      "source": [
        "13//2"
      ],
      "execution_count": null,
      "outputs": []
    },
    {
      "cell_type": "code",
      "metadata": {
        "id": "FUHqYp6KRpl5",
        "colab_type": "code",
        "colab": {}
      },
      "source": [
        "13%2"
      ],
      "execution_count": null,
      "outputs": []
    },
    {
      "cell_type": "markdown",
      "metadata": {
        "id": "haaXx26eS3Pk",
        "colab_type": "text"
      },
      "source": [
        "A RETENIR : \n",
        "\n",
        "en python, $x^n$ s'écrit : \n",
        "\n",
        "```\n",
        "x ** n\n",
        "```\n",
        "\n"
      ]
    },
    {
      "cell_type": "markdown",
      "metadata": {
        "id": "31pQQ8r7SPe_",
        "colab_type": "text"
      },
      "source": [
        "A RETENIR : \n",
        "\n",
        "Si a et b sont deux entiers positifs, alors la **division euclidienne** (entière) de a par b définit le quotient q et le reste r tels que \n",
        "$a = b \\times q +r$ et $0 \\leq r <b$. \n",
        "\n",
        "En python, on a :\n",
        "* q = a // b\n",
        "* r = a%b\n",
        "\n",
        "On évitera d'utiliser ces instructions avec des entiers négatifs... "
      ]
    }
  ]
}