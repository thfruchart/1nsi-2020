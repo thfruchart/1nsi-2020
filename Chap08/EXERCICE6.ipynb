{
  "nbformat": 4,
  "nbformat_minor": 0,
  "metadata": {
    "colab": {
      "name": "Chap08_EXERCICE6.ipynb",
      "provenance": [],
      "collapsed_sections": [],
      "authorship_tag": "ABX9TyPwPqRhxnItlAbmTzgKvh3L",
      "include_colab_link": true
    },
    "kernelspec": {
      "name": "python3",
      "display_name": "Python 3"
    }
  },
  "cells": [
    {
      "cell_type": "markdown",
      "metadata": {
        "id": "view-in-github",
        "colab_type": "text"
      },
      "source": [
        "<a href=\"https://colab.research.google.com/github/thfruchart/1nsi-2020/blob/master/Chap08/EXERCICE6.ipynb\" target=\"_parent\"><img src=\"https://colab.research.google.com/assets/colab-badge.svg\" alt=\"Open In Colab\"/></a>"
      ]
    },
    {
      "cell_type": "markdown",
      "metadata": {
        "id": "AgHSTLPemcQa"
      },
      "source": [
        "# Exercice 6"
      ]
    },
    {
      "cell_type": "markdown",
      "metadata": {
        "id": "vIg8pynkmedi"
      },
      "source": [
        "## Ranger en 8 colonnes"
      ]
    },
    {
      "cell_type": "markdown",
      "metadata": {
        "id": "xcL6AWFpmi3K"
      },
      "source": [
        "On donne le tableau `t_32` défini par : "
      ]
    },
    {
      "cell_type": "code",
      "metadata": {
        "id": "IWPXgb8zmz2C"
      },
      "source": [
        "t_32 = [50, 102, 165, 114, 47, 4, 41, 198, 114, 182, 43, 186, 20, 106, 7, 110, 113, 28, 199, 129, 126, 144, 67, 165, 183, 130, 90, 39, 182, 194, 106, 90]"
      ],
      "execution_count": 2,
      "outputs": []
    },
    {
      "cell_type": "code",
      "metadata": {
        "colab": {
          "base_uri": "https://localhost:8080/"
        },
        "id": "gIwyt9FtlxPf",
        "outputId": "2184f928-efe3-4489-c83e-fef851e98b5d"
      },
      "source": [
        "len(t)"
      ],
      "execution_count": 3,
      "outputs": [
        {
          "output_type": "execute_result",
          "data": {
            "text/plain": [
              "32"
            ]
          },
          "metadata": {
            "tags": []
          },
          "execution_count": 3
        }
      ]
    },
    {
      "cell_type": "markdown",
      "metadata": {
        "id": "8d8LfwwMm-Ji"
      },
      "source": [
        "Le tableau `t_4_8` est défini par : \n"
      ]
    },
    {
      "cell_type": "code",
      "metadata": {
        "id": "xhakMi64nUDL"
      },
      "source": [
        "t_4_8 = [ [ 0 for j in range(8)] for i in range (4)]"
      ],
      "execution_count": 4,
      "outputs": []
    },
    {
      "cell_type": "markdown",
      "metadata": {
        "id": "kCR-zi0UndzL"
      },
      "source": [
        "Quelles sont les dimensions de t_4_8 : \n",
        "\n",
        "* nombre de lignes\n",
        "* nombre de colonnes"
      ]
    },
    {
      "cell_type": "markdown",
      "metadata": {
        "id": "5cspmxY-nkab"
      },
      "source": [
        "Ecrire un programme qui recopie dans t_4_8 les 32 valeurs du tableau t_32 de sorte que : \n",
        "\n",
        "* les 8 premières valeurs de `t_32` forment la première ligne de `t_4_8`\n",
        "* les 8 valeurs suivantes forment la deuxième ligne\n",
        "* et ainsi de suite...\n",
        "\n",
        "Il y a deux méthodes possibles : "
      ]
    },
    {
      "cell_type": "code",
      "metadata": {
        "id": "dUp-OiGOouZt"
      },
      "source": [
        "for i in range(4) :\n",
        "    for j in range(8):\n",
        "        # A compléter\n"
      ],
      "execution_count": null,
      "outputs": []
    },
    {
      "cell_type": "code",
      "metadata": {
        "id": "biQhUEtYpGmn"
      },
      "source": [
        "for k in range(32) :\n",
        "    # A compléter\n"
      ],
      "execution_count": null,
      "outputs": []
    }
  ]
}