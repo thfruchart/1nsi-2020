{
  "nbformat": 4,
  "nbformat_minor": 0,
  "metadata": {
    "colab": {
      "name": "Chap08_TRAVAIL_PERSONNEL.ipynb",
      "provenance": [],
      "collapsed_sections": [],
      "authorship_tag": "ABX9TyNYVZBGe56d1EGjQJRZT2Vv",
      "include_colab_link": true
    },
    "kernelspec": {
      "name": "python3",
      "display_name": "Python 3"
    }
  },
  "cells": [
    {
      "cell_type": "markdown",
      "metadata": {
        "id": "view-in-github",
        "colab_type": "text"
      },
      "source": [
        "<a href=\"https://colab.research.google.com/github/thfruchart/1nsi-2020/blob/master/Chap08/TRAVAIL_PERSONNEL.ipynb\" target=\"_parent\"><img src=\"https://colab.research.google.com/assets/colab-badge.svg\" alt=\"Open In Colab\"/></a>"
      ]
    },
    {
      "cell_type": "markdown",
      "metadata": {
        "id": "0o0UTDtZzmoi"
      },
      "source": [
        "* **Déterminer** ce qui sera affiché à l'exécution de chaque cellule\r\n",
        "* **puis vérifier** en éxécutant la cellule\r\n",
        "* En cas de difficulté : \r\n",
        "   * exécuter le code sur [PythonTutor](http://www.pythontutor.com/visualize.html#mode=edit)\r\n",
        "   * préparer une question à poser en classe\r\n"
      ]
    },
    {
      "cell_type": "code",
      "metadata": {
        "colab": {
          "base_uri": "https://localhost:8080/"
        },
        "id": "EBslCK7IwWYK",
        "outputId": "fbfb5d28-f8d1-4fff-e714-6c7b3c8acacb"
      },
      "source": [
        "[i+4 for i in range(1,10)]"
      ],
      "execution_count": 3,
      "outputs": [
        {
          "output_type": "execute_result",
          "data": {
            "text/plain": [
              "[5, 6, 7, 8, 9, 10, 11, 12, 13]"
            ]
          },
          "metadata": {
            "tags": []
          },
          "execution_count": 3
        }
      ]
    },
    {
      "cell_type": "code",
      "metadata": {
        "colab": {
          "base_uri": "https://localhost:8080/"
        },
        "id": "jrqvJgBTweQM",
        "outputId": "287c4ed3-3d02-4df2-bb2c-441bfb14759c"
      },
      "source": [
        "[i for i in range(10,0,-2)]"
      ],
      "execution_count": 2,
      "outputs": [
        {
          "output_type": "execute_result",
          "data": {
            "text/plain": [
              "[10, 8, 6, 4, 2]"
            ]
          },
          "metadata": {
            "tags": []
          },
          "execution_count": 2
        }
      ]
    },
    {
      "cell_type": "code",
      "metadata": {
        "colab": {
          "base_uri": "https://localhost:8080/"
        },
        "id": "4JgeRuzmwz2N",
        "outputId": "0077166b-71b0-4ff3-d5f7-f1cc12e8cdf9"
      },
      "source": [
        "[i for i in range(5,10)]"
      ],
      "execution_count": 4,
      "outputs": [
        {
          "output_type": "execute_result",
          "data": {
            "text/plain": [
              "[5, 6, 7, 8, 9]"
            ]
          },
          "metadata": {
            "tags": []
          },
          "execution_count": 4
        }
      ]
    },
    {
      "cell_type": "code",
      "metadata": {
        "id": "TT369En9w84k"
      },
      "source": [
        "[ [i, i+1, i+2]  for i in range(2,9,3)]"
      ],
      "execution_count": null,
      "outputs": []
    },
    {
      "cell_type": "code",
      "metadata": {
        "id": "XJXDdosQzPX0"
      },
      "source": [
        "t = [10, 20, 30]\r\n",
        "tab = [ [ u , 2*u]  for u in t]\r\n",
        "print(tab)"
      ],
      "execution_count": null,
      "outputs": []
    },
    {
      "cell_type": "code",
      "metadata": {
        "colab": {
          "base_uri": "https://localhost:8080/"
        },
        "id": "au_0ol9MxK2L",
        "outputId": "f029329e-c838-4def-a8a1-df31f520c420"
      },
      "source": [
        "A = [ [1,2,3], [4,5,6], [7,8,9] ]\r\n",
        "B = [ [0,0,0], [0,0,0], [0,0,0] ]\r\n",
        "for k in range(3):\r\n",
        "    B[k][2] = A[2][k]\r\n",
        "print(B)"
      ],
      "execution_count": 6,
      "outputs": [
        {
          "output_type": "stream",
          "text": [
            "[[0, 0, 7], [0, 0, 8], [0, 0, 9]]\n"
          ],
          "name": "stdout"
        }
      ]
    },
    {
      "cell_type": "code",
      "metadata": {
        "id": "rzLe6WUaxaos"
      },
      "source": [
        "A = [ [1,2,3], [4,5,6], [7,8,9] ]\r\n",
        "B = [ [0,0,0], [0,0,0], [0,0,0] ]\r\n",
        "for k in range(3):\r\n",
        "    B[1][k] = A[k][k]\r\n",
        "print(B)"
      ],
      "execution_count": null,
      "outputs": []
    },
    {
      "cell_type": "code",
      "metadata": {
        "id": "8dU2ER3Xxg0M"
      },
      "source": [
        "A = [ [1,2,3], [4,5,6], [7,8,9] ]\r\n",
        "B = [ [0,0,0], [0,0,0], [0,0,0] ]\r\n",
        "for k in range(3):\r\n",
        "    B[k][k] = A[2-k][k]\r\n",
        "print(B)"
      ],
      "execution_count": null,
      "outputs": []
    },
    {
      "cell_type": "code",
      "metadata": {
        "id": "xuXTgONdx1nM"
      },
      "source": [
        "A = [ [1,2,3], [4,5,6], [7,8,9] ]\r\n",
        "B = [ [0,0,0], [0,0,0], [0,0,0] ]\r\n",
        "for i in range(3):\r\n",
        "    for j in range(3):\r\n",
        "        B[i][j] = A[2-i][2-j]\r\n",
        "print(B)"
      ],
      "execution_count": null,
      "outputs": []
    },
    {
      "cell_type": "code",
      "metadata": {
        "id": "HkD4NilkyioV"
      },
      "source": [
        "M = [ [1,2,3], [4,5,6], [7,8,9] ]\r\n",
        "N = [ [0,0,0], [0,0,0], [0,0,0] ]\r\n",
        "for a in range(3):\r\n",
        "    for b in range(3):\r\n",
        "        N[a][b] = M[b][2-a]\r\n",
        "print(N)"
      ],
      "execution_count": null,
      "outputs": []
    }
  ]
}