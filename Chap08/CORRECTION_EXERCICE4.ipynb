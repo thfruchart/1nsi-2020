{
  "nbformat": 4,
  "nbformat_minor": 0,
  "metadata": {
    "colab": {
      "name": "Chap08_CORRECTION_EXERCICE4.ipynb",
      "provenance": [],
      "authorship_tag": "ABX9TyNPQqQUTMcwUFZDUFNb+crw",
      "include_colab_link": true
    },
    "kernelspec": {
      "name": "python3",
      "display_name": "Python 3"
    }
  },
  "cells": [
    {
      "cell_type": "markdown",
      "metadata": {
        "id": "view-in-github",
        "colab_type": "text"
      },
      "source": [
        "<a href=\"https://colab.research.google.com/github/thfruchart/1nsi-2020/blob/master/Chap08/CORRECTION_EXERCICE4.ipynb\" target=\"_parent\"><img src=\"https://colab.research.google.com/assets/colab-badge.svg\" alt=\"Open In Colab\"/></a>"
      ]
    },
    {
      "cell_type": "markdown",
      "metadata": {
        "id": "XZUR4UsqqdJA"
      },
      "source": [
        "#### brouillon 0"
      ]
    },
    {
      "cell_type": "code",
      "metadata": {
        "id": "bBTUQhsLow_D"
      },
      "source": [
        "def doublon(t):\n",
        "    return False"
      ],
      "execution_count": 1,
      "outputs": []
    },
    {
      "cell_type": "markdown",
      "metadata": {
        "id": "tgjl-GE0pD0R"
      },
      "source": [
        "pour tester la fonction doublon, on pourra écrire :"
      ]
    },
    {
      "cell_type": "code",
      "metadata": {
        "colab": {
          "base_uri": "https://localhost:8080/"
        },
        "id": "e9G_26pnpDg7",
        "outputId": "04c94be3-9b95-4933-a8dc-116c32ab504d"
      },
      "source": [
        "doublon([10,20,30,40]) # doit renvoyer False"
      ],
      "execution_count": 2,
      "outputs": [
        {
          "output_type": "execute_result",
          "data": {
            "text/plain": [
              "False"
            ]
          },
          "metadata": {
            "tags": []
          },
          "execution_count": 2
        }
      ]
    },
    {
      "cell_type": "code",
      "metadata": {
        "colab": {
          "base_uri": "https://localhost:8080/"
        },
        "id": "F8kJeTlipwwk",
        "outputId": "d5368276-efbc-4e32-e72d-1dd52e860231"
      },
      "source": [
        "doublon([10,10,30,40]) # doit renvoyer True"
      ],
      "execution_count": 3,
      "outputs": [
        {
          "output_type": "execute_result",
          "data": {
            "text/plain": [
              "False"
            ]
          },
          "metadata": {
            "tags": []
          },
          "execution_count": 3
        }
      ]
    },
    {
      "cell_type": "markdown",
      "metadata": {
        "id": "6rd6TzRvqB5x"
      },
      "source": [
        "Pour tester si une valeur apparaît deux fois dans le tableau, on peut : \n",
        "* parcourir toutes les valeurs `v` du tableau avec une boucle `for`\n",
        "* chercher si la valeur v apparaît une deuxième fois dans le tableau..."
      ]
    },
    {
      "cell_type": "markdown",
      "metadata": {
        "id": "O25o7XAAqgEw"
      },
      "source": [
        "#### brouillon 1"
      ]
    },
    {
      "cell_type": "code",
      "metadata": {
        "colab": {
          "base_uri": "https://localhost:8080/"
        },
        "id": "vG_uSknqqhrQ",
        "outputId": "8750ec21-ead1-4bce-ce99-7084d975c431"
      },
      "source": [
        "def doublon(t):\n",
        "    for i in range(len(t)):\n",
        "        v = t[i]\n",
        "        print('i=',i,'v=', v)\n",
        "    return False\n",
        "\n",
        "doublon([10,20,30,40,50])"
      ],
      "execution_count": 7,
      "outputs": [
        {
          "output_type": "stream",
          "text": [
            "i= 0 v= 10\n",
            "i= 1 v= 20\n",
            "i= 2 v= 30\n",
            "i= 3 v= 40\n",
            "i= 4 v= 50\n"
          ],
          "name": "stdout"
        },
        {
          "output_type": "execute_result",
          "data": {
            "text/plain": [
              "False"
            ]
          },
          "metadata": {
            "tags": []
          },
          "execution_count": 7
        }
      ]
    },
    {
      "cell_type": "markdown",
      "metadata": {
        "id": "G76G23jIrG2v"
      },
      "source": [
        "     [10,20,30,40,50]\n",
        "    i= 0  1  2  3  4"
      ]
    },
    {
      "cell_type": "markdown",
      "metadata": {
        "id": "_AqiWdhesLgN"
      },
      "source": [
        "#### brouillon 2"
      ]
    },
    {
      "cell_type": "code",
      "metadata": {
        "id": "mcK3VoZysNBw"
      },
      "source": [
        "def doublon(t) :\n",
        "    for u in range(len(t)) :\n",
        "        a=t[u]\n",
        "        for i in range(len(t)):\n",
        "            v=t[i]\n",
        "            if a==v :\n",
        "                print('u=',u, 'i=',i, 'a=',a, 'v=',v)\n",
        "                return True\n",
        "    return False"
      ],
      "execution_count": 13,
      "outputs": []
    },
    {
      "cell_type": "code",
      "metadata": {
        "colab": {
          "base_uri": "https://localhost:8080/"
        },
        "id": "4lsPkTD_saqc",
        "outputId": "e41e90f3-edfa-4b4e-e564-e13731e650d4"
      },
      "source": [
        "doublon([ 10,10,30,40])"
      ],
      "execution_count": 9,
      "outputs": [
        {
          "output_type": "execute_result",
          "data": {
            "text/plain": [
              "True"
            ]
          },
          "metadata": {
            "tags": []
          },
          "execution_count": 9
        }
      ]
    },
    {
      "cell_type": "code",
      "metadata": {
        "colab": {
          "base_uri": "https://localhost:8080/"
        },
        "id": "6Zf_jfRdsjAJ",
        "outputId": "fdc12726-b75a-4572-cd5b-d764dee2c664"
      },
      "source": [
        "doublon([ 10,20,30,40])"
      ],
      "execution_count": 14,
      "outputs": [
        {
          "output_type": "stream",
          "text": [
            "u= 0 i= 0 a= 10 v= 10\n"
          ],
          "name": "stdout"
        },
        {
          "output_type": "execute_result",
          "data": {
            "text/plain": [
              "True"
            ]
          },
          "metadata": {
            "tags": []
          },
          "execution_count": 14
        }
      ]
    },
    {
      "cell_type": "markdown",
      "metadata": {
        "id": "Orbg8dA9uOXy"
      },
      "source": [
        "un **doublon** est une valeur qui figure dans le tableau à deux **indices différents**"
      ]
    },
    {
      "cell_type": "code",
      "metadata": {
        "colab": {
          "base_uri": "https://localhost:8080/"
        },
        "id": "wSbkaxX5txi8",
        "outputId": "9418ee7e-c516-4b1b-aae4-0c407ecec927"
      },
      "source": [
        "def doublon(t) :\n",
        "    for u in range(len(t)) :\n",
        "        a=t[u]\n",
        "        for i in range(len(t)):\n",
        "            v=t[i]\n",
        "            print('a=', a, 'v=', v)\n",
        "doublon([ 10,20,30,40])"
      ],
      "execution_count": 15,
      "outputs": [
        {
          "output_type": "stream",
          "text": [
            "a= 10 v= 10\n",
            "a= 10 v= 20\n",
            "a= 10 v= 30\n",
            "a= 10 v= 40\n",
            "a= 20 v= 10\n",
            "a= 20 v= 20\n",
            "a= 20 v= 30\n",
            "a= 20 v= 40\n",
            "a= 30 v= 10\n",
            "a= 30 v= 20\n",
            "a= 30 v= 30\n",
            "a= 30 v= 40\n",
            "a= 40 v= 10\n",
            "a= 40 v= 20\n",
            "a= 40 v= 30\n",
            "a= 40 v= 40\n"
          ],
          "name": "stdout"
        }
      ]
    },
    {
      "cell_type": "markdown",
      "metadata": {
        "id": "EpzxKClgukzG"
      },
      "source": [
        "### Solution"
      ]
    },
    {
      "cell_type": "code",
      "metadata": {
        "id": "zQohF3zgumFZ"
      },
      "source": [
        "def doublon(t) :\n",
        "    for i in range(len(t)) :\n",
        "        print('i = ', i)\n",
        "        for j in range(len(t)):\n",
        "            print('   j =',j)\n",
        "            if t[j]==t[i] and i!=j:\n",
        "                return True\n",
        "    return False\n"
      ],
      "execution_count": 23,
      "outputs": []
    },
    {
      "cell_type": "code",
      "metadata": {
        "colab": {
          "base_uri": "https://localhost:8080/"
        },
        "id": "wfHHoY8yxUUS",
        "outputId": "a7eb2f0c-55ef-402b-f5ce-22ac586baac3"
      },
      "source": [
        "doublon([10,20,10])"
      ],
      "execution_count": 24,
      "outputs": [
        {
          "output_type": "stream",
          "text": [
            "i =  0\n",
            "   j = 0\n",
            "   j = 1\n",
            "   j = 2\n"
          ],
          "name": "stdout"
        },
        {
          "output_type": "execute_result",
          "data": {
            "text/plain": [
              "True"
            ]
          },
          "metadata": {
            "tags": []
          },
          "execution_count": 24
        }
      ]
    },
    {
      "cell_type": "code",
      "metadata": {
        "colab": {
          "base_uri": "https://localhost:8080/"
        },
        "id": "pLZMhi-KxV4V",
        "outputId": "cc6dbd2c-f7ca-4685-9e09-baa3d3434891"
      },
      "source": [
        "doublon([10,20,30])"
      ],
      "execution_count": 25,
      "outputs": [
        {
          "output_type": "stream",
          "text": [
            "i =  0\n",
            "   j = 0\n",
            "   j = 1\n",
            "   j = 2\n",
            "i =  1\n",
            "   j = 0\n",
            "   j = 1\n",
            "   j = 2\n",
            "i =  2\n",
            "   j = 0\n",
            "   j = 1\n",
            "   j = 2\n"
          ],
          "name": "stdout"
        },
        {
          "output_type": "execute_result",
          "data": {
            "text/plain": [
              "False"
            ]
          },
          "metadata": {
            "tags": []
          },
          "execution_count": 25
        }
      ]
    }
  ]
}