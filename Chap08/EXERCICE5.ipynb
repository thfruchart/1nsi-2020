{
  "nbformat": 4,
  "nbformat_minor": 0,
  "metadata": {
    "colab": {
      "name": "Chap08_EXERCICE5.ipynb",
      "provenance": [],
      "collapsed_sections": [],
      "authorship_tag": "ABX9TyMJLsgOjKaF5MN/Y8QADckO",
      "include_colab_link": true
    },
    "kernelspec": {
      "name": "python3",
      "display_name": "Python 3"
    }
  },
  "cells": [
    {
      "cell_type": "markdown",
      "metadata": {
        "id": "view-in-github",
        "colab_type": "text"
      },
      "source": [
        "<a href=\"https://colab.research.google.com/github/thfruchart/1nsi-2020/blob/master/Chap08/EXERCICE5.ipynb\" target=\"_parent\"><img src=\"https://colab.research.google.com/assets/colab-badge.svg\" alt=\"Open In Colab\"/></a>"
      ]
    },
    {
      "cell_type": "markdown",
      "metadata": {
        "id": "im5iq6IxgFbr"
      },
      "source": [
        "# Exercice 5"
      ]
    },
    {
      "cell_type": "markdown",
      "metadata": {
        "id": "erIOvtgPhCCq"
      },
      "source": [
        "#### question 1"
      ]
    },
    {
      "cell_type": "markdown",
      "metadata": {
        "id": "O_LSRnmLgHFO"
      },
      "source": [
        "Ecrire un programme qui crée un tableau `tab` de 20 lignes et 20 colonnes, contenant des entiers choisis au hasard entre 0 et 1000.\n",
        "\n",
        "On rappelle que, dans le module `random`, `random.randint(a,b)` renvoie un entier aléatoire entre a (inclus) et b (inclus).\n",
        "\n",
        "[cours du CHAP1 sur l'importation d'un module](https://colab.research.google.com/github/thfruchart/1nsi-2020/blob/master/Chap01/IntroPython.ipynb#scrollTo=GPvOX3mlSyvP)"
      ]
    },
    {
      "cell_type": "code",
      "metadata": {
        "id": "DEhjhoEbgBv8"
      },
      "source": [
        "tab = [ ]"
      ],
      "execution_count": null,
      "outputs": []
    },
    {
      "cell_type": "markdown",
      "metadata": {
        "id": "Hc-MEbC_hEGC"
      },
      "source": [
        "#### question 2"
      ]
    },
    {
      "cell_type": "markdown",
      "metadata": {
        "id": "LBrglq4XhGJL"
      },
      "source": [
        "Ajouter les instructions qui permettent de calculer dans la variable `v_max` le  **maximum** des valeurs contenues dans le tableau `tab`. "
      ]
    },
    {
      "cell_type": "code",
      "metadata": {
        "id": "onaGY73_hFoQ"
      },
      "source": [
        "v_max = 0"
      ],
      "execution_count": null,
      "outputs": []
    },
    {
      "cell_type": "markdown",
      "metadata": {
        "id": "_J_78fDdhyJD"
      },
      "source": [
        "#### question 3"
      ]
    },
    {
      "cell_type": "markdown",
      "metadata": {
        "id": "zEWc_JAhh0Ta"
      },
      "source": [
        "comment modifier le code ci-dessus dans le cas où les valeurs du tableau tab ne sont pas forcément positives?"
      ]
    }
  ]
}