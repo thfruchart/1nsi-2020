{
  "nbformat": 4,
  "nbformat_minor": 0,
  "metadata": {
    "colab": {
      "name": "Chap08_COURS_Tableaux_avancés.ipynb",
      "provenance": [],
      "collapsed_sections": [
        "UFJT4N4rMbPV",
        "JzDD_1NRLIIv",
        "oMsEIsM3LkbT",
        "iJQcoh7fNT_9",
        "-PvRlLKdNX8O",
        "QZdIm1gZNeL2",
        "amsRVqMTjFd3"
      ],
      "authorship_tag": "ABX9TyMnR70kJ6jadfL7Nd+Rq1kn",
      "include_colab_link": true
    },
    "kernelspec": {
      "name": "python3",
      "display_name": "Python 3"
    }
  },
  "cells": [
    {
      "cell_type": "markdown",
      "metadata": {
        "id": "view-in-github",
        "colab_type": "text"
      },
      "source": [
        "<a href=\"https://colab.research.google.com/github/thfruchart/1nsi-2020/blob/master/Chap08/COURS_Tableaux_avanc%C3%A9s.ipynb\" target=\"_parent\"><img src=\"https://colab.research.google.com/assets/colab-badge.svg\" alt=\"Open In Colab\"/></a>"
      ]
    },
    {
      "cell_type": "markdown",
      "metadata": {
        "id": "UFJT4N4rMbPV"
      },
      "source": [
        "# Itérer sur les éléments d'un tableau"
      ]
    },
    {
      "cell_type": "markdown",
      "metadata": {
        "id": "JzDD_1NRLIIv"
      },
      "source": [
        "### Quel sera l'effet du code suivant ?\n"
      ]
    },
    {
      "cell_type": "code",
      "metadata": {
        "id": "1f7OEdVdK81w"
      },
      "source": [
        "t = [10, 20, 30, 40]\n",
        "\n",
        "for i in range(len(t)):\n",
        "    e = t[i]\n",
        "    print(e)"
      ],
      "execution_count": null,
      "outputs": []
    },
    {
      "cell_type": "markdown",
      "metadata": {
        "id": "oMsEIsM3LkbT"
      },
      "source": [
        "### Comparer avec le code : "
      ]
    },
    {
      "cell_type": "code",
      "metadata": {
        "id": "UyqigztrLmat",
        "colab": {
          "base_uri": "https://localhost:8080/"
        },
        "outputId": "a3ae4fb8-6415-4719-a589-98226b6b6827"
      },
      "source": [
        "t = [10, 20, 30, 40]\n",
        "\n",
        "for e in t :\n",
        "    print(e)"
      ],
      "execution_count": null,
      "outputs": [
        {
          "output_type": "stream",
          "text": [
            "10\n",
            "20\n",
            "30\n",
            "40\n"
          ],
          "name": "stdout"
        }
      ]
    },
    {
      "cell_type": "markdown",
      "metadata": {
        "id": "D1tKwOkALxD7"
      },
      "source": [
        "Dans cet exemple, la variable e définie dans la boucle for prend successivement toutes la valeurs du tableau t. \n",
        "\n",
        "Dans ce cas, on n'a pas besoin de faire référence à l'indice de chaque valeur dans le tableau. \n",
        "\n",
        "On dit qu'on itère directement sur les éléments du tableau."
      ]
    },
    {
      "cell_type": "markdown",
      "metadata": {
        "id": "Em3sokMAMK5c"
      },
      "source": [
        "Remarque : ce fonctionnement est possible avec tous les **types itérables** de Python, en particulier les chaînes de caractère.\n",
        "\n",
        " Autrement dit : le type `str` est itérable de même que le type `list` est itérable"
      ]
    },
    {
      "cell_type": "code",
      "metadata": {
        "id": "remijQ_WMU8w"
      },
      "source": [
        "for c in 'ABCDEF':\n",
        "    print(c)"
      ],
      "execution_count": null,
      "outputs": []
    },
    {
      "cell_type": "markdown",
      "metadata": {
        "id": "ZeD_uDKWM615"
      },
      "source": [
        "Cette construction est utile lorsqu'on a besoin de parcourir tous les éléments d'un tableau ou d'une chaîne de caractère, sans se préoccuper de leur indice. "
      ]
    },
    {
      "cell_type": "markdown",
      "metadata": {
        "id": "CGPAMk-BNGNy"
      },
      "source": [
        "# Construire un tableau par compréhension"
      ]
    },
    {
      "cell_type": "markdown",
      "metadata": {
        "id": "ltkVHrQ0NLaw"
      },
      "source": [
        "On souhaite définir un tableau de longueur 21 contenant les entiers pairs de 0 à 40."
      ]
    },
    {
      "cell_type": "markdown",
      "metadata": {
        "id": "iJQcoh7fNT_9"
      },
      "source": [
        "#### méthode 1 : lister tous les éléments"
      ]
    },
    {
      "cell_type": "code",
      "metadata": {
        "id": "OvBJCVmfOW9G"
      },
      "source": [
        "t = [0, 2, 4, 6, 8, 10, 12, 14, 16, 18, 20, 22, 24, 26, 28, 30, 32, 34, 36, 38, 40]"
      ],
      "execution_count": null,
      "outputs": []
    },
    {
      "cell_type": "markdown",
      "metadata": {
        "id": "-PvRlLKdNX8O"
      },
      "source": [
        "#### méthode 2 : créer un tableau de longueur 21, puis le remplir avec les valeurs correctes"
      ]
    },
    {
      "cell_type": "code",
      "metadata": {
        "colab": {
          "base_uri": "https://localhost:8080/"
        },
        "id": "PTSPh8h-ONDz",
        "outputId": "1eb215d9-28cb-4480-bfba-0d3315933fe0"
      },
      "source": [
        "t = [0] * 21\n",
        "for i in range(21):\n",
        "    t[i] = 2*i\n",
        "print(t)"
      ],
      "execution_count": null,
      "outputs": [
        {
          "output_type": "stream",
          "text": [
            "[0, 2, 4, 6, 8, 10, 12, 14, 16, 18, 20, 22, 24, 26, 28, 30, 32, 34, 36, 38, 40]\n"
          ],
          "name": "stdout"
        }
      ]
    },
    {
      "cell_type": "markdown",
      "metadata": {
        "id": "QZdIm1gZNeL2"
      },
      "source": [
        "#### méthode 3 : définir le tableau **par compréhension**"
      ]
    },
    {
      "cell_type": "code",
      "metadata": {
        "id": "wt8w0KexOZ8H",
        "colab": {
          "base_uri": "https://localhost:8080/"
        },
        "outputId": "cfcbcc0f-6044-4010-98c1-e47a5c420581"
      },
      "source": [
        "t = [ 2*i for i in range(21)]\n",
        "print(t)"
      ],
      "execution_count": null,
      "outputs": [
        {
          "output_type": "stream",
          "text": [
            "[0, 2, 4, 6, 8, 10, 12, 14, 16, 18, 20, 22, 24, 26, 28, 30, 32, 34, 36, 38, 40]\n"
          ],
          "name": "stdout"
        }
      ]
    },
    {
      "cell_type": "markdown",
      "metadata": {
        "id": "zGLY0RDiOhJo"
      },
      "source": [
        "#### Syntaxe"
      ]
    },
    {
      "cell_type": "markdown",
      "metadata": {
        "id": "ODJmwA8-Oj8v"
      },
      "source": [
        "* ` [ ` marque le début du tableau\n",
        "* `2*i` est l'expression qui définit la valeur de la cellule en fonction de i\n",
        "* `for i in range(21)` décrit les valeurs de i permettant de construire le tableau\n",
        "* ` ] ` marque la fin du tableau"
      ]
    },
    {
      "cell_type": "markdown",
      "metadata": {
        "id": "zU5gzFaLPx9n"
      },
      "source": [
        "### Activité 1\n",
        "Déterminer quel sera le contenu des tableaux ci-dessous, puis vérifier en exécutant la cellule qui affiche le tableau correspondant."
      ]
    },
    {
      "cell_type": "code",
      "metadata": {
        "id": "77hKirSkP8Jy"
      },
      "source": [
        "a = [ 55 for i in range(4) ]\n",
        "b = [ \"X\"+str(i)  for i in range(3) ]\n",
        "c = [ i for i in range(2,6) ]\n",
        "d = [ v*v for v in c ]"
      ],
      "execution_count": null,
      "outputs": []
    },
    {
      "cell_type": "code",
      "metadata": {
        "id": "AbiqZofzQsIF",
        "colab": {
          "base_uri": "https://localhost:8080/"
        },
        "outputId": "94f66dea-c1b4-4163-97f6-c644e09d2d0d"
      },
      "source": [
        "print(a)"
      ],
      "execution_count": null,
      "outputs": [
        {
          "output_type": "stream",
          "text": [
            "[55, 55, 55, 55]\n"
          ],
          "name": "stdout"
        }
      ]
    },
    {
      "cell_type": "code",
      "metadata": {
        "id": "LOIoM3c4QtMn",
        "colab": {
          "base_uri": "https://localhost:8080/"
        },
        "outputId": "91bbe932-1a16-410f-ea36-8e6c5e1cb318"
      },
      "source": [
        "print(b)"
      ],
      "execution_count": null,
      "outputs": [
        {
          "output_type": "stream",
          "text": [
            "['X0', 'X1', 'X2']\n"
          ],
          "name": "stdout"
        }
      ]
    },
    {
      "cell_type": "code",
      "metadata": {
        "id": "ZdeWBYWzQt_2",
        "colab": {
          "base_uri": "https://localhost:8080/"
        },
        "outputId": "f769cc4b-8858-4cc8-d10f-2fd4fa7bcd42"
      },
      "source": [
        "print(c)"
      ],
      "execution_count": null,
      "outputs": [
        {
          "output_type": "stream",
          "text": [
            "[2, 3, 4, 5]\n"
          ],
          "name": "stdout"
        }
      ]
    },
    {
      "cell_type": "code",
      "metadata": {
        "id": "R8OmIehGJ12w",
        "colab": {
          "base_uri": "https://localhost:8080/"
        },
        "outputId": "a71699da-3064-42f2-8c85-a37cff482349"
      },
      "source": [
        "for v in c :\n",
        "    print(v, v*v)"
      ],
      "execution_count": null,
      "outputs": [
        {
          "output_type": "stream",
          "text": [
            "2 4\n",
            "3 9\n",
            "4 16\n",
            "5 25\n"
          ],
          "name": "stdout"
        }
      ]
    },
    {
      "cell_type": "code",
      "metadata": {
        "id": "UpMQqm29QywD",
        "colab": {
          "base_uri": "https://localhost:8080/"
        },
        "outputId": "da330078-7553-4661-8ad8-b743270ded64"
      },
      "source": [
        "print(d)"
      ],
      "execution_count": null,
      "outputs": [
        {
          "output_type": "stream",
          "text": [
            "[4, 9, 16, 25]\n"
          ],
          "name": "stdout"
        }
      ]
    },
    {
      "cell_type": "markdown",
      "metadata": {
        "id": "tp9B7ka7aiEQ"
      },
      "source": [
        "### Remarque \n",
        "on peut ajouter une condition, pour n'écrire dans le tableau que certaines valeurs\n",
        "\n",
        "Par exemple, le tableau suivant contient tous les multiples de 13 compris entre 100 (inclus) et 200 (exclu) :"
      ]
    },
    {
      "cell_type": "code",
      "metadata": {
        "colab": {
          "base_uri": "https://localhost:8080/"
        },
        "id": "J4xWV1kVatxA",
        "outputId": "7e70ff33-eb19-475d-aa4b-5f910f3a3039"
      },
      "source": [
        "tab = [ i for i in range(100, 200) if i%13 == 0]\n",
        "print(tab)"
      ],
      "execution_count": null,
      "outputs": [
        {
          "output_type": "stream",
          "text": [
            "[104, 117, 130, 143, 156, 169, 182, 195]\n"
          ],
          "name": "stdout"
        }
      ]
    },
    {
      "cell_type": "markdown",
      "metadata": {
        "id": "lz90AnXySJZM"
      },
      "source": [
        "### Activité 2\n"
      ]
    },
    {
      "cell_type": "markdown",
      "metadata": {
        "id": "xShG94beThki"
      },
      "source": [
        "#### Observer l'exécution des deux cellules suivantes :"
      ]
    },
    {
      "cell_type": "code",
      "metadata": {
        "id": "oDO9NGoKSS7d",
        "colab": {
          "base_uri": "https://localhost:8080/"
        },
        "outputId": "93dcf135-893a-4d64-adf3-088cabbae75c"
      },
      "source": [
        "t = [ 'ABC', 'DEF', 'GHI']\n",
        "print(t[1])"
      ],
      "execution_count": null,
      "outputs": [
        {
          "output_type": "stream",
          "text": [
            "DEF\n"
          ],
          "name": "stdout"
        }
      ]
    },
    {
      "cell_type": "code",
      "metadata": {
        "id": "YmDAXrRsSdsp",
        "colab": {
          "base_uri": "https://localhost:8080/"
        },
        "outputId": "d6440ea9-5619-4345-d94b-1678db8c3c2e"
      },
      "source": [
        "print( t[1][2] )"
      ],
      "execution_count": null,
      "outputs": [
        {
          "output_type": "stream",
          "text": [
            "F\n"
          ],
          "name": "stdout"
        }
      ]
    },
    {
      "cell_type": "code",
      "metadata": {
        "id": "3zDoIgdiMUiM",
        "colab": {
          "base_uri": "https://localhost:8080/",
          "height": 35
        },
        "outputId": "8e3c78b1-0e23-42f0-a6b2-9539c2b213bc"
      },
      "source": [
        "t[2][1]"
      ],
      "execution_count": null,
      "outputs": [
        {
          "output_type": "execute_result",
          "data": {
            "application/vnd.google.colaboratory.intrinsic+json": {
              "type": "string"
            },
            "text/plain": [
              "'H'"
            ]
          },
          "metadata": {
            "tags": []
          },
          "execution_count": 18
        }
      ]
    },
    {
      "cell_type": "markdown",
      "metadata": {
        "id": "7MdnO8quSvDq"
      },
      "source": [
        "le tableau `t` contient trois valeurs, indexées de 0 à 2 : \n",
        "* `t[0]` contient la chaîne `'ABC'`\n",
        "* `t[1]` contient la chaîne `'DEF'`\n",
        "* `t[2]` contient la chaîne `'GHI'`\n",
        "\n",
        "L'expression `t[1][2]` fait donc référence à la valeur d'indice 2 dans `t[1]` : \n",
        "\n",
        "Ceci revient à évaluer `'DEF'[2]`, ce qui donne `'F'`\n"
      ]
    },
    {
      "cell_type": "markdown",
      "metadata": {
        "id": "igxYAcpPStE8"
      },
      "source": [
        "#### Estimer la valeur qui sera affichée dans chacun des cas suivants, puis vérifier en exécutant la cellule."
      ]
    },
    {
      "cell_type": "code",
      "metadata": {
        "id": "JBm-oKwzTmoG",
        "colab": {
          "base_uri": "https://localhost:8080/"
        },
        "outputId": "174d2bd4-a233-4dca-ea0c-4d3dcb502697"
      },
      "source": [
        "t = [ 'AZERT', 'QSDFG', 'WXCVB' ]\n",
        "print(t[0][0])"
      ],
      "execution_count": null,
      "outputs": [
        {
          "output_type": "stream",
          "text": [
            "A\n"
          ],
          "name": "stdout"
        }
      ]
    },
    {
      "cell_type": "code",
      "metadata": {
        "id": "q0RwaXh-Um6J",
        "colab": {
          "base_uri": "https://localhost:8080/"
        },
        "outputId": "63482f07-0091-4409-c43e-7befe2d9ad5c"
      },
      "source": [
        "t = [ 'AZERT', 'QSDFG', 'WXCVB' ]\n",
        "print(t[1][1])"
      ],
      "execution_count": null,
      "outputs": [
        {
          "output_type": "stream",
          "text": [
            "S\n"
          ],
          "name": "stdout"
        }
      ]
    },
    {
      "cell_type": "code",
      "metadata": {
        "id": "sv4k04HHUjnJ",
        "colab": {
          "base_uri": "https://localhost:8080/"
        },
        "outputId": "0d606417-04f3-481c-8220-e77827c45c16"
      },
      "source": [
        "t = [ 'AZERT', 'QSDFG', 'WXCVB' ]\n",
        "print(t[2][2])"
      ],
      "execution_count": null,
      "outputs": [
        {
          "output_type": "stream",
          "text": [
            "C\n"
          ],
          "name": "stdout"
        }
      ]
    },
    {
      "cell_type": "markdown",
      "metadata": {
        "id": "E_YGs2ZNUrX8"
      },
      "source": [
        "#### quelles valeurs faut-il donner à `i` et à `j` pour que le programme suivant affiche `T` ?"
      ]
    },
    {
      "cell_type": "code",
      "metadata": {
        "id": "nQ2KhLGeU0sE",
        "colab": {
          "base_uri": "https://localhost:8080/"
        },
        "outputId": "09942540-74df-44d6-f3a2-fd78da6e9b94"
      },
      "source": [
        "t = [ 'AZERT', 'QSDFG', 'WXCVB' ]\n",
        "i = int(input(\"entrer i : \"))\n",
        "j = int(input(\"entrer j : \"))\n",
        "print(t[i][j])"
      ],
      "execution_count": null,
      "outputs": [
        {
          "output_type": "stream",
          "text": [
            "entrer i : 0\n",
            "entrer j : 4\n",
            "T\n"
          ],
          "name": "stdout"
        }
      ]
    },
    {
      "cell_type": "markdown",
      "metadata": {
        "id": "ZYYtEXZyR7fL"
      },
      "source": [
        "# Tableaux à deux dimensions\n"
      ]
    },
    {
      "cell_type": "markdown",
      "metadata": {
        "id": "KwPUNzkTfvTY"
      },
      "source": [
        "En Python, on peut utiliser stocker un tableau à deux dimensions dans un \"tableau de tableaux\".\n",
        "\n",
        "Voici un premier exemple : "
      ]
    },
    {
      "cell_type": "code",
      "metadata": {
        "id": "d3V4w_V-gAj_"
      },
      "source": [
        "tab = [[1,2,3,4], [5,6,7,8], [9,10,11,12]]"
      ],
      "execution_count": null,
      "outputs": []
    },
    {
      "cell_type": "code",
      "metadata": {
        "id": "IQKIuSYxNz4B",
        "colab": {
          "base_uri": "https://localhost:8080/"
        },
        "outputId": "8668dc24-ea72-466c-b1ba-b5949f28fccc"
      },
      "source": [
        "len(tab)"
      ],
      "execution_count": null,
      "outputs": [
        {
          "output_type": "execute_result",
          "data": {
            "text/plain": [
              "3"
            ]
          },
          "metadata": {
            "tags": []
          },
          "execution_count": 24
        }
      ]
    },
    {
      "cell_type": "code",
      "metadata": {
        "id": "4LIU3s2wgIiX",
        "colab": {
          "base_uri": "https://localhost:8080/"
        },
        "outputId": "f63a356a-1426-491a-80a9-a0a0994bd56b"
      },
      "source": [
        "tab[0]"
      ],
      "execution_count": null,
      "outputs": [
        {
          "output_type": "execute_result",
          "data": {
            "text/plain": [
              "[1, 2, 3, 4]"
            ]
          },
          "metadata": {
            "tags": []
          },
          "execution_count": 25
        }
      ]
    },
    {
      "cell_type": "code",
      "metadata": {
        "id": "XwrWhrTigKhP",
        "colab": {
          "base_uri": "https://localhost:8080/"
        },
        "outputId": "680dbb02-8e53-4058-e03d-7be2b320c6d6"
      },
      "source": [
        "tab[1]"
      ],
      "execution_count": null,
      "outputs": [
        {
          "output_type": "execute_result",
          "data": {
            "text/plain": [
              "[5, 6, 7, 8]"
            ]
          },
          "metadata": {
            "tags": []
          },
          "execution_count": 26
        }
      ]
    },
    {
      "cell_type": "code",
      "metadata": {
        "id": "3xbcJ7k7gM_P",
        "colab": {
          "base_uri": "https://localhost:8080/"
        },
        "outputId": "fcb80362-0386-4ce4-fd15-a09055501187"
      },
      "source": [
        "tab[2]"
      ],
      "execution_count": null,
      "outputs": [
        {
          "output_type": "execute_result",
          "data": {
            "text/plain": [
              "[9, 10, 11, 12]"
            ]
          },
          "metadata": {
            "tags": []
          },
          "execution_count": 27
        }
      ]
    },
    {
      "cell_type": "markdown",
      "metadata": {
        "id": "leJQJEc1gO0G"
      },
      "source": [
        "On accède à chacune des valeurs entières contenues dans le tableau avec une syntaxe de la forme `tab[i][j]`\n",
        "Dans l'exemple, ci-dessus :\n",
        "* i est un indice compris entre 0 et 2\n",
        "* j est un indice compris entre 0 et 3"
      ]
    },
    {
      "cell_type": "code",
      "metadata": {
        "id": "3pNnWDvNOSG-"
      },
      "source": [
        "tab = [[1,2,3,4], [5,6,7,8], [9,10,11,12]]"
      ],
      "execution_count": null,
      "outputs": []
    },
    {
      "cell_type": "code",
      "metadata": {
        "id": "9i6-vsthgN0n",
        "colab": {
          "base_uri": "https://localhost:8080/"
        },
        "outputId": "ee238bf6-d6eb-4cb2-fa34-7198f4433607"
      },
      "source": [
        "tab[0][0]"
      ],
      "execution_count": null,
      "outputs": [
        {
          "output_type": "execute_result",
          "data": {
            "text/plain": [
              "1"
            ]
          },
          "metadata": {
            "tags": []
          },
          "execution_count": 29
        }
      ]
    },
    {
      "cell_type": "code",
      "metadata": {
        "id": "YHRLT_5rgpP_",
        "colab": {
          "base_uri": "https://localhost:8080/"
        },
        "outputId": "7b068873-4d88-4902-a745-b68988f49fe4"
      },
      "source": [
        "tab[2][3]"
      ],
      "execution_count": null,
      "outputs": [
        {
          "output_type": "execute_result",
          "data": {
            "text/plain": [
              "12"
            ]
          },
          "metadata": {
            "tags": []
          },
          "execution_count": 30
        }
      ]
    },
    {
      "cell_type": "markdown",
      "metadata": {
        "id": "5Jy3a6F7gwBw"
      },
      "source": [
        "Remarque : Python permet d'écrire le contenu d'un tableau sur plusieurs lignes. Les deux instructions suivantes sont donc équivalentes.\n",
        "\n",
        "\n",
        "\n",
        "```\n",
        "tab = [[1,2,3,4], [5,6,7,8], [9,10,11,12]]\n",
        "```\n",
        "revient au même que :\n",
        "\n",
        "\n",
        "```\n",
        "tab = [ [1,2,3,4], \n",
        "        [5,6,7,8], \n",
        "        [9,10,11,12] ]\n",
        "```\n",
        "\n",
        "\n",
        "\n",
        "\n"
      ]
    },
    {
      "cell_type": "code",
      "metadata": {
        "id": "tlJ18FhIhKpq"
      },
      "source": [
        "tab = [[1, 2, 3, 4], # i = 0\n",
        "       [5, 6, 7, 8], # i = 1\n",
        "       [9,10,11,12]] # i = 2\n",
        "# j =   0  1  2  3"
      ],
      "execution_count": null,
      "outputs": []
    },
    {
      "cell_type": "code",
      "metadata": {
        "id": "Zry1_fHOOh-3",
        "colab": {
          "base_uri": "https://localhost:8080/"
        },
        "outputId": "608de84b-22cc-4070-8ed4-0ee36b214d4a"
      },
      "source": [
        "tab[1][2]"
      ],
      "execution_count": null,
      "outputs": [
        {
          "output_type": "execute_result",
          "data": {
            "text/plain": [
              "7"
            ]
          },
          "metadata": {
            "tags": []
          },
          "execution_count": 33
        }
      ]
    },
    {
      "cell_type": "markdown",
      "metadata": {
        "id": "CoTdvqkxhkeA"
      },
      "source": [
        "#### Application \n",
        "Déterminer la valeur de `i` et la valeur de \n",
        "`j` pour lesquelles le programme suivant affiche `7`"
      ]
    },
    {
      "cell_type": "code",
      "metadata": {
        "id": "_6JOl2dOiIWW",
        "colab": {
          "base_uri": "https://localhost:8080/"
        },
        "outputId": "c34f107e-631b-4e17-92b6-692a2286e347"
      },
      "source": [
        "tab = [[1,2,3], # i = 0\n",
        "       [4,5,6], # i = 1\n",
        "       [7,8,9]] # i = 2\n",
        "    #j= 0 1 2\n",
        "i = int(input('Entrer i : '))\n",
        "j = int(input('Entrer j : '))\n",
        "print(tab[i][j])"
      ],
      "execution_count": null,
      "outputs": [
        {
          "output_type": "stream",
          "text": [
            "Entrer i : 2\n",
            "Entrer j : 0\n",
            "7\n"
          ],
          "name": "stdout"
        }
      ]
    },
    {
      "cell_type": "markdown",
      "metadata": {
        "id": "VwVfDR2KieuK"
      },
      "source": [
        "Déterminer la valeur de **`p`** et la valeur de **`k`** pour lesquelles le programme suivant affiche `7`"
      ]
    },
    {
      "cell_type": "code",
      "metadata": {
        "id": "XmP5ikBkipTz",
        "colab": {
          "base_uri": "https://localhost:8080/"
        },
        "outputId": "2122acb3-c070-4481-a4e7-52c906be2651"
      },
      "source": [
        "tab = [[0, 1, 2, 3], # k = 0\n",
        "       [4, 5, 6, 7], # k = 1\n",
        "       [8, 9,10,11]] # k = 2\n",
        "    #p= 0  1  2  3\n",
        "p = int(input('Entrer p : '))\n",
        "k = int(input('Entrer k : '))\n",
        "\n",
        "print(tab[k][p])"
      ],
      "execution_count": null,
      "outputs": [
        {
          "output_type": "stream",
          "text": [
            "Entrer p : 3\n",
            "Entrer k : 1\n",
            "7\n"
          ],
          "name": "stdout"
        }
      ]
    },
    {
      "cell_type": "markdown",
      "metadata": {
        "id": "CmyoeFRTjNf6"
      },
      "source": [
        "## Tableaux de dimension 2 définis par compréhension"
      ]
    },
    {
      "cell_type": "markdown",
      "metadata": {
        "id": "Sail2mmAjSQA"
      },
      "source": [
        "On peut définir par compréhension un tableau de dimension 2 avec la syntaxe : \n",
        "\n",
        "    [ [ expression_cellule_i_j  for j in range(nb_colonnes)] for i in range(nb_lignes) ]\n",
        "\n",
        "Voir les exemples ci-dessous :"
      ]
    },
    {
      "cell_type": "code",
      "metadata": {
        "colab": {
          "base_uri": "https://localhost:8080/"
        },
        "id": "vuntH4zLjplO",
        "outputId": "86c5b6f1-9d8a-4f55-ae4a-b871f0270e89"
      },
      "source": [
        "t1 = [ 0 for j in range(3)]\n",
        "print(t1)"
      ],
      "execution_count": 1,
      "outputs": [
        {
          "output_type": "stream",
          "text": [
            "[0, 0, 0]\n"
          ],
          "name": "stdout"
        }
      ]
    },
    {
      "cell_type": "code",
      "metadata": {
        "colab": {
          "base_uri": "https://localhost:8080/"
        },
        "id": "WfXdM8UIjvZQ",
        "outputId": "65f9dd44-a105-4b84-e5b2-f071353c50b7"
      },
      "source": [
        "t2 = [ [0 for j in range(3)] for i in range(4) ]\n",
        "print(t2)"
      ],
      "execution_count": 2,
      "outputs": [
        {
          "output_type": "stream",
          "text": [
            "[[0, 0, 0], [0, 0, 0], [0, 0, 0], [0, 0, 0]]\n"
          ],
          "name": "stdout"
        }
      ]
    },
    {
      "cell_type": "markdown",
      "metadata": {
        "id": "rkyLfr73j_q7"
      },
      "source": [
        "\n",
        "    j=0  1  2  j=0  1  2  j=0  1  2  j=0  1  2\n",
        "    [[0, 0, 0], [0, 0, 0], [0, 0, 0], [0, 0, 0]]\n",
        "    i = 0       i = 1      i = 2      i = 3\n",
        "\n"
      ]
    },
    {
      "cell_type": "markdown",
      "metadata": {
        "id": "Dj8g5yPFlV5A"
      },
      "source": [
        "Calculer \"à la main\" le contenu du tableau `tab`,  puis vérifier avec Python"
      ]
    },
    {
      "cell_type": "code",
      "metadata": {
        "id": "UzKZUTCLleb5"
      },
      "source": [
        "tab = [ [1+3*i+j for j in range(3)] for i in range(4)]"
      ],
      "execution_count": 4,
      "outputs": []
    },
    {
      "cell_type": "markdown",
      "metadata": {
        "id": "pXw3kGdWn-AT"
      },
      "source": [
        "    ____________\n",
        "    |   |   |   |  i = 0\n",
        "    ____________\n",
        "    |   |   |   |  i = 1\n",
        "    ____________\n",
        "    |   |   |   |  i = 2\n",
        "    ____________\n",
        "    |   |   |   |  i = 3\n",
        "    ____________\n",
        "    j=0 , 1 , 2"
      ]
    },
    {
      "cell_type": "code",
      "metadata": {
        "id": "9ID64IhClr8h",
        "outputId": "2381e371-b3c4-4c32-a1e5-5ce0815d1712",
        "colab": {
          "base_uri": "https://localhost:8080/"
        }
      },
      "source": [
        "print(tab)"
      ],
      "execution_count": 5,
      "outputs": [
        {
          "output_type": "stream",
          "text": [
            "[[1, 2, 3], [4, 5, 6], [7, 8, 9], [10, 11, 12]]\n"
          ],
          "name": "stdout"
        }
      ]
    },
    {
      "cell_type": "markdown",
      "metadata": {
        "id": "amsRVqMTjFd3"
      },
      "source": [
        "# Quelques subtilités de python"
      ]
    },
    {
      "cell_type": "markdown",
      "metadata": {
        "id": "AR7TTnMelIgL"
      },
      "source": [
        "Comparer l'exécution [sur python tutor](http://www.pythontutor.com/visualize.html#code=t%20%3D%20%5B%20%5B0%20for%20j%20in%20range%283%29%5D%20for%20i%20in%20range%282%29%5D%0Au%20%3D%20%5B%5B0%5D*3%5D%20*2%0A&cumulative=false&curInstr=19&heapPrimitives=nevernest&mode=display&origin=opt-frontend.js&py=3&rawInputLstJSON=%5B%5D&textReferences=false) des deux cellules suivantes, puis expliquer la différence entre les deux résultats. "
      ]
    },
    {
      "cell_type": "code",
      "metadata": {
        "colab": {
          "base_uri": "https://localhost:8080/"
        },
        "id": "lM_J9171nEGq",
        "outputId": "75b1982c-1188-493e-9ff9-42923464ac29"
      },
      "source": [
        "t = [ [0 for j in range(3)] for i in range(2)]\n",
        "u = [[0]*3] *2\n",
        "\n",
        "print(t)\n",
        "print(u)"
      ],
      "execution_count": 6,
      "outputs": [
        {
          "output_type": "stream",
          "text": [
            "[[0, 0, 0], [0, 0, 0]]\n",
            "[[0, 0, 0], [0, 0, 0]]\n"
          ],
          "name": "stdout"
        }
      ]
    },
    {
      "cell_type": "code",
      "metadata": {
        "colab": {
          "base_uri": "https://localhost:8080/"
        },
        "id": "R4VIjRD_nRGT",
        "outputId": "159a70b9-a570-4d19-95df-f47f32554ae7"
      },
      "source": [
        "t[0][0] = 1\n",
        "u[0][0] = 1\n",
        "\n",
        "print(t)\n",
        "print(u)"
      ],
      "execution_count": 7,
      "outputs": [
        {
          "output_type": "stream",
          "text": [
            "[[1, 0, 0], [0, 0, 0]]\n",
            "[[1, 0, 0], [1, 0, 0]]\n"
          ],
          "name": "stdout"
        }
      ]
    }
  ]
}