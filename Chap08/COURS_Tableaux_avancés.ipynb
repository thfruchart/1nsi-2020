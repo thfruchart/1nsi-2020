{
  "nbformat": 4,
  "nbformat_minor": 0,
  "metadata": {
    "colab": {
      "name": "Chap08_COURS_Tableaux_avancés.ipynb",
      "provenance": [],
      "collapsed_sections": [
        "UFJT4N4rMbPV",
        "JzDD_1NRLIIv",
        "oMsEIsM3LkbT",
        "iJQcoh7fNT_9",
        "-PvRlLKdNX8O",
        "QZdIm1gZNeL2",
        "amsRVqMTjFd3"
      ],
      "authorship_tag": "ABX9TyP3fDCV+IG4OtZE4Xcbgh/A",
      "include_colab_link": true
    },
    "kernelspec": {
      "name": "python3",
      "display_name": "Python 3"
    }
  },
  "cells": [
    {
      "cell_type": "markdown",
      "metadata": {
        "id": "view-in-github",
        "colab_type": "text"
      },
      "source": [
        "<a href=\"https://colab.research.google.com/github/thfruchart/1nsi-2020/blob/master/Chap08/COURS_Tableaux_avanc%C3%A9s.ipynb\" target=\"_parent\"><img src=\"https://colab.research.google.com/assets/colab-badge.svg\" alt=\"Open In Colab\"/></a>"
      ]
    },
    {
      "cell_type": "markdown",
      "metadata": {
        "id": "UFJT4N4rMbPV"
      },
      "source": [
        "# Itérer sur les éléments d'un tableau"
      ]
    },
    {
      "cell_type": "markdown",
      "metadata": {
        "id": "JzDD_1NRLIIv"
      },
      "source": [
        "### Quel sera l'effet du code suivant ?\n"
      ]
    },
    {
      "cell_type": "code",
      "metadata": {
        "id": "1f7OEdVdK81w"
      },
      "source": [
        "t = [10, 20, 30, 40]\n",
        "\n",
        "for i in range(len(t)):\n",
        "    e = t[i]\n",
        "    print(e)"
      ],
      "execution_count": null,
      "outputs": []
    },
    {
      "cell_type": "markdown",
      "metadata": {
        "id": "oMsEIsM3LkbT"
      },
      "source": [
        "### Comparer avec le code : "
      ]
    },
    {
      "cell_type": "code",
      "metadata": {
        "id": "UyqigztrLmat"
      },
      "source": [
        "t = [10, 20, 30, 40]\n",
        "\n",
        "for e in t :\n",
        "    print(e)"
      ],
      "execution_count": null,
      "outputs": []
    },
    {
      "cell_type": "markdown",
      "metadata": {
        "id": "D1tKwOkALxD7"
      },
      "source": [
        "Dans cet exemple, la variable e définie dans la boucle for prend successivement toutes la valeurs du tableau t. \n",
        "\n",
        "Dans ce cas, on n'a pas besoin de faire référence à l'indice de chaque valeur dans le tableau. \n",
        "\n",
        "On dit qu'on itère directement sur les éléments du tableau."
      ]
    },
    {
      "cell_type": "markdown",
      "metadata": {
        "id": "Em3sokMAMK5c"
      },
      "source": [
        "Remarque : ce fonctionnement est possible avec tous les **types itérables** de Python, en particulier les chaînes de caractère.\n",
        "\n",
        " Autrement dit : le type `str` est itérable de même que le type `list` est itérable"
      ]
    },
    {
      "cell_type": "code",
      "metadata": {
        "id": "remijQ_WMU8w"
      },
      "source": [
        "for c in 'ABCDEF':\n",
        "    print(c)"
      ],
      "execution_count": null,
      "outputs": []
    },
    {
      "cell_type": "markdown",
      "metadata": {
        "id": "ZeD_uDKWM615"
      },
      "source": [
        "Cette construction est utile lorsqu'on a besoin de parcourir tous les éléments d'un tableau ou d'une chaîne de caractère, sans se préoccuper de leur indice. "
      ]
    },
    {
      "cell_type": "markdown",
      "metadata": {
        "id": "CGPAMk-BNGNy"
      },
      "source": [
        "# Construire un tableau par compréhension"
      ]
    },
    {
      "cell_type": "markdown",
      "metadata": {
        "id": "ltkVHrQ0NLaw"
      },
      "source": [
        "On souhaite définir un tableau de longueur 21 contenant les entiers pairs de 0 à 40."
      ]
    },
    {
      "cell_type": "markdown",
      "metadata": {
        "id": "iJQcoh7fNT_9"
      },
      "source": [
        "#### méthode 1 : lister tous les éléments"
      ]
    },
    {
      "cell_type": "code",
      "metadata": {
        "id": "OvBJCVmfOW9G"
      },
      "source": [
        "t = [0, 2, 4, 6, 8, 10, 12, 14, 16, 18, 20, 22, 24, 26, 28, 30, 32, 34, 36, 38, 40]"
      ],
      "execution_count": null,
      "outputs": []
    },
    {
      "cell_type": "markdown",
      "metadata": {
        "id": "-PvRlLKdNX8O"
      },
      "source": [
        "#### méthode 2 : créer un tableau de longueur 21, puis le remplir avec les valeurs correctes"
      ]
    },
    {
      "cell_type": "code",
      "metadata": {
        "colab": {
          "base_uri": "https://localhost:8080/"
        },
        "id": "PTSPh8h-ONDz",
        "outputId": "1eb215d9-28cb-4480-bfba-0d3315933fe0"
      },
      "source": [
        "t = [0] * 21\n",
        "for i in range(21):\n",
        "    t[i] = 2*i\n",
        "print(t)"
      ],
      "execution_count": null,
      "outputs": [
        {
          "output_type": "stream",
          "text": [
            "[0, 2, 4, 6, 8, 10, 12, 14, 16, 18, 20, 22, 24, 26, 28, 30, 32, 34, 36, 38, 40]\n"
          ],
          "name": "stdout"
        }
      ]
    },
    {
      "cell_type": "markdown",
      "metadata": {
        "id": "QZdIm1gZNeL2"
      },
      "source": [
        "#### méthode 3 : définir le tableau **par compréhension**"
      ]
    },
    {
      "cell_type": "code",
      "metadata": {
        "id": "wt8w0KexOZ8H"
      },
      "source": [
        "t = [ 2*i for i in range(21)]\n",
        "print(t)"
      ],
      "execution_count": null,
      "outputs": []
    },
    {
      "cell_type": "markdown",
      "metadata": {
        "id": "zGLY0RDiOhJo"
      },
      "source": [
        "#### Syntaxe"
      ]
    },
    {
      "cell_type": "markdown",
      "metadata": {
        "id": "ODJmwA8-Oj8v"
      },
      "source": [
        "* ` [ ` marque le début du tableau\n",
        "* `2*i` est l'expression qui définit la valeur de la cellule en fonction de i\n",
        "* `for i in range(21)` décrit les valeurs de i permettant de construire le tableau\n",
        "* ` ] ` marque la fin du tableau"
      ]
    },
    {
      "cell_type": "markdown",
      "metadata": {
        "id": "zU5gzFaLPx9n"
      },
      "source": [
        "### Activité 1\n",
        "Déterminer quel sera le contenu des tableaux ci-dessous, puis vérifier en exécutant la cellule qui affiche le tableau correspondant."
      ]
    },
    {
      "cell_type": "code",
      "metadata": {
        "id": "77hKirSkP8Jy"
      },
      "source": [
        "a = [ 55 for i in range(4) ]\n",
        "b = [ \"X\"+str(i)  for i in range(3) ]\n",
        "c = [ i for i in range(2,6) ]\n",
        "d = [ v*v for v in c ]"
      ],
      "execution_count": null,
      "outputs": []
    },
    {
      "cell_type": "code",
      "metadata": {
        "id": "AbiqZofzQsIF"
      },
      "source": [
        "print(a)"
      ],
      "execution_count": null,
      "outputs": []
    },
    {
      "cell_type": "code",
      "metadata": {
        "id": "LOIoM3c4QtMn"
      },
      "source": [
        "print(b)"
      ],
      "execution_count": null,
      "outputs": []
    },
    {
      "cell_type": "code",
      "metadata": {
        "id": "ZdeWBYWzQt_2"
      },
      "source": [
        "print(c)"
      ],
      "execution_count": null,
      "outputs": []
    },
    {
      "cell_type": "code",
      "metadata": {
        "id": "UpMQqm29QywD"
      },
      "source": [
        "print(d)"
      ],
      "execution_count": null,
      "outputs": []
    },
    {
      "cell_type": "markdown",
      "metadata": {
        "id": "lz90AnXySJZM"
      },
      "source": [
        "### Activité 2\n"
      ]
    },
    {
      "cell_type": "markdown",
      "metadata": {
        "id": "xShG94beThki"
      },
      "source": [
        "#### Observer l'exécution des deux cellules suivantes :"
      ]
    },
    {
      "cell_type": "code",
      "metadata": {
        "id": "oDO9NGoKSS7d"
      },
      "source": [
        "t = [ 'ABC', 'DEF', 'GHI']\n",
        "print(t[1])"
      ],
      "execution_count": null,
      "outputs": []
    },
    {
      "cell_type": "code",
      "metadata": {
        "id": "YmDAXrRsSdsp"
      },
      "source": [
        "print( t[1][2] )"
      ],
      "execution_count": null,
      "outputs": []
    },
    {
      "cell_type": "markdown",
      "metadata": {
        "id": "7MdnO8quSvDq"
      },
      "source": [
        "le tableau `t` contient trois valeurs, indexées de 0 à 2 : \n",
        "* `t[0]` contient la chaîne `'ABC'`\n",
        "* `t[1]` contient la chaîne `'DEF'`\n",
        "* `t[2]` contient la chaîne `'GHI'`\n",
        "\n",
        "L'expression `t[1][2]` fait donc référence à la valeur d'indice 2 dans `t[1]` : \n",
        "\n",
        "Ceci revient à évaluer `'DEF'[2]`, ce qui donne `'F'`\n"
      ]
    },
    {
      "cell_type": "markdown",
      "metadata": {
        "id": "igxYAcpPStE8"
      },
      "source": [
        "#### Estimer la valeur qui sera affichée dans chacun des cas suivants, puis vérifier en exécutant la cellule."
      ]
    },
    {
      "cell_type": "code",
      "metadata": {
        "id": "JBm-oKwzTmoG"
      },
      "source": [
        "t = [ 'AZERT', 'QSDFG', 'WXCVB' ]\n",
        "print(t[0][0])"
      ],
      "execution_count": null,
      "outputs": []
    },
    {
      "cell_type": "code",
      "metadata": {
        "id": "q0RwaXh-Um6J"
      },
      "source": [
        "t = [ 'AZERT', 'QSDFG', 'WXCVB' ]\n",
        "print(t[1][1])"
      ],
      "execution_count": null,
      "outputs": []
    },
    {
      "cell_type": "code",
      "metadata": {
        "id": "sv4k04HHUjnJ"
      },
      "source": [
        "t = [ 'AZERT', 'QSDFG', 'WXCVB' ]\n",
        "print(t[2][2])"
      ],
      "execution_count": null,
      "outputs": []
    },
    {
      "cell_type": "markdown",
      "metadata": {
        "id": "E_YGs2ZNUrX8"
      },
      "source": [
        "#### quelles valeurs faut-il donner à `i` et à `j` pour que le programme suivant affiche `T` ?"
      ]
    },
    {
      "cell_type": "code",
      "metadata": {
        "id": "nQ2KhLGeU0sE"
      },
      "source": [
        "t = [ 'AZERT', 'QSDFG', 'WXCVB' ]\n",
        "i = int(input(\"entrer i : \"))\n",
        "j = int(input(\"entrer j : \"))\n",
        "print(t[i][j])"
      ],
      "execution_count": null,
      "outputs": []
    },
    {
      "cell_type": "markdown",
      "metadata": {
        "id": "ZYYtEXZyR7fL"
      },
      "source": [
        "# Tableaux à deux dimensions\n"
      ]
    },
    {
      "cell_type": "markdown",
      "metadata": {
        "id": "KwPUNzkTfvTY"
      },
      "source": [
        "En Python, on peut utiliser stocker un tableau à deux dimensions dans un \"tableau de tableaux\".\n",
        "\n",
        "Voici un premier exemple : "
      ]
    },
    {
      "cell_type": "code",
      "metadata": {
        "id": "d3V4w_V-gAj_"
      },
      "source": [
        "tab = [[1,2,3,4], [5,6,7,8], [9,10,11,12]]"
      ],
      "execution_count": null,
      "outputs": []
    },
    {
      "cell_type": "code",
      "metadata": {
        "id": "4LIU3s2wgIiX"
      },
      "source": [
        "tab[0]"
      ],
      "execution_count": null,
      "outputs": []
    },
    {
      "cell_type": "code",
      "metadata": {
        "id": "XwrWhrTigKhP"
      },
      "source": [
        "tab[1]"
      ],
      "execution_count": null,
      "outputs": []
    },
    {
      "cell_type": "code",
      "metadata": {
        "id": "3xbcJ7k7gM_P"
      },
      "source": [
        "tab[2]"
      ],
      "execution_count": null,
      "outputs": []
    },
    {
      "cell_type": "markdown",
      "metadata": {
        "id": "leJQJEc1gO0G"
      },
      "source": [
        "On accède à chacune des valeurs entières contenues dans le tableau avec une syntaxe de la forme `tab[i][j]`\n",
        "Dans l'exemple, ci-dessus :\n",
        "* i est un indice compris entre 0 et 2\n",
        "* j est un indice compris entre 0 et 3"
      ]
    },
    {
      "cell_type": "code",
      "metadata": {
        "id": "9i6-vsthgN0n"
      },
      "source": [
        "tab[0][0]"
      ],
      "execution_count": null,
      "outputs": []
    },
    {
      "cell_type": "code",
      "metadata": {
        "id": "YHRLT_5rgpP_"
      },
      "source": [
        "tab[2][3]"
      ],
      "execution_count": null,
      "outputs": []
    },
    {
      "cell_type": "markdown",
      "metadata": {
        "id": "5Jy3a6F7gwBw"
      },
      "source": [
        "Remarque : Python permet d'écrire le contenu d'un tableau sur plusieurs lignes. Les deux instructions suivantes sont donc équivalentes.\n",
        "\n",
        "\n",
        "\n",
        "```\n",
        "tab = [[1,2,3,4], [5,6,7,8], [9,10,11,12]]\n",
        "```\n",
        "revient au même que :\n",
        "\n",
        "\n",
        "```\n",
        "tab = [ [1,2,3,4], \n",
        "        [5,6,7,8], \n",
        "        [9,10,11,12] ]\n",
        "```\n",
        "\n",
        "\n",
        "\n",
        "\n"
      ]
    },
    {
      "cell_type": "code",
      "metadata": {
        "id": "tlJ18FhIhKpq"
      },
      "source": [
        "tab = [[1, 2, 3, 4], # i = 0\n",
        "       [5, 6, 7, 8], # i = 1\n",
        "       [9,10,11,12]] # i = 2\n",
        "# j =   0  1  2  3"
      ],
      "execution_count": null,
      "outputs": []
    },
    {
      "cell_type": "markdown",
      "metadata": {
        "id": "CoTdvqkxhkeA"
      },
      "source": [
        "#### Application \n",
        "Déterminer la valeur de `i` et la valeur de \n",
        "`j` pour lesquelles le programme suivant affiche `7`"
      ]
    },
    {
      "cell_type": "code",
      "metadata": {
        "id": "_6JOl2dOiIWW"
      },
      "source": [
        "tab = [[1,2,3],\n",
        "       [4,5,6],\n",
        "       [7,8,9]]\n",
        "i = int(input('Entrer i : '))\n",
        "j = int(input('Entrer j : '))\n",
        "print(tab[i][j])"
      ],
      "execution_count": null,
      "outputs": []
    },
    {
      "cell_type": "markdown",
      "metadata": {
        "id": "VwVfDR2KieuK"
      },
      "source": [
        "Déterminer la valeur de **`p`** et la valeur de **`k`** pour lesquelles le programme suivant affiche `7`"
      ]
    },
    {
      "cell_type": "code",
      "metadata": {
        "id": "XmP5ikBkipTz"
      },
      "source": [
        "tab = [[0, 1, 2, 3],\n",
        "       [4, 5, 6, 7],\n",
        "       [8, 9,10,11]]\n",
        "p = int(input('Entrer p : '))\n",
        "k = int(input('Entrer k : '))\n",
        "print(tab[k][p])"
      ],
      "execution_count": null,
      "outputs": []
    },
    {
      "cell_type": "markdown",
      "metadata": {
        "id": "CmyoeFRTjNf6"
      },
      "source": [
        "## Tableaux de dimension 2 définis par compréhension"
      ]
    },
    {
      "cell_type": "markdown",
      "metadata": {
        "id": "Sail2mmAjSQA"
      },
      "source": [
        "On peut définir par compréhension un tableau de dimension 2 avec la syntaxe : \n",
        "\n",
        "    [ [ expression_cellule_i_j  for j in range(nb_colonnes)] for i in range(nb_lignes) ]\n",
        "\n",
        "Voir les exemples ci-dessous :"
      ]
    },
    {
      "cell_type": "code",
      "metadata": {
        "colab": {
          "base_uri": "https://localhost:8080/"
        },
        "id": "vuntH4zLjplO",
        "outputId": "414ca8eb-704f-44c9-886e-be6c0ad51a85"
      },
      "source": [
        "t1 = [ 0 for j in range(3)]\n",
        "print(t1)"
      ],
      "execution_count": null,
      "outputs": [
        {
          "output_type": "stream",
          "text": [
            "[0, 0, 0]\n"
          ],
          "name": "stdout"
        }
      ]
    },
    {
      "cell_type": "code",
      "metadata": {
        "colab": {
          "base_uri": "https://localhost:8080/"
        },
        "id": "WfXdM8UIjvZQ",
        "outputId": "07f0861f-8764-4c3c-f3e0-d47aafad9d7d"
      },
      "source": [
        "t2 = [ [0 for j in range(3)] for i in range(4) ]\n",
        "print(t2)"
      ],
      "execution_count": null,
      "outputs": [
        {
          "output_type": "stream",
          "text": [
            "[[0, 0, 0], [0, 0, 0], [0, 0, 0], [0, 0, 0]]\n"
          ],
          "name": "stdout"
        }
      ]
    },
    {
      "cell_type": "markdown",
      "metadata": {
        "id": "rkyLfr73j_q7"
      },
      "source": [
        "\n",
        "    j=0  1  2  j=0  1  2  j=0  1  2  j=0  1  2\n",
        "    [[0, 0, 0], [0, 0, 0], [0, 0, 0], [0, 0, 0]]\n",
        "    i = 0       i = 1      i = 2      i = 3\n",
        "\n"
      ]
    },
    {
      "cell_type": "markdown",
      "metadata": {
        "id": "Dj8g5yPFlV5A"
      },
      "source": [
        "Calculer \"à la main\" le contenu du tableau `tab`,  puis vérifier avec Python"
      ]
    },
    {
      "cell_type": "code",
      "metadata": {
        "id": "UzKZUTCLleb5"
      },
      "source": [
        "tab = [ [1+3*i+j for j in range(3)] for i in range(4)]"
      ],
      "execution_count": null,
      "outputs": []
    },
    {
      "cell_type": "markdown",
      "metadata": {
        "id": "pXw3kGdWn-AT"
      },
      "source": [
        "    ____________\n",
        "    |   |   |   |  i = 0\n",
        "    ____________\n",
        "    |   |   |   |  i = 1\n",
        "    ____________\n",
        "    |   |   |   |  i = 2\n",
        "    ____________\n",
        "    |   |   |   |  i = 3\n",
        "    ____________\n",
        "    j=0 , 1 , 2"
      ]
    },
    {
      "cell_type": "code",
      "metadata": {
        "id": "9ID64IhClr8h"
      },
      "source": [
        "print(tab)"
      ],
      "execution_count": null,
      "outputs": []
    },
    {
      "cell_type": "markdown",
      "metadata": {
        "id": "amsRVqMTjFd3"
      },
      "source": [
        "# Quelques subtilités de python"
      ]
    },
    {
      "cell_type": "markdown",
      "metadata": {
        "id": "AR7TTnMelIgL"
      },
      "source": [
        "Comparer l'exécution [sur python tutor](http://www.pythontutor.com/visualize.html#code=t%20%3D%20%5B%20%5B0%20for%20j%20in%20range%283%29%5D%20for%20i%20in%20range%282%29%5D%0Au%20%3D%20%5B%5B0%5D*3%5D%20*2%0A&cumulative=false&curInstr=19&heapPrimitives=nevernest&mode=display&origin=opt-frontend.js&py=3&rawInputLstJSON=%5B%5D&textReferences=false) des deux cellules suivantes, puis expliquer la différence entre les deux résultats. "
      ]
    },
    {
      "cell_type": "code",
      "metadata": {
        "colab": {
          "base_uri": "https://localhost:8080/"
        },
        "id": "lM_J9171nEGq",
        "outputId": "19bc50d6-8ab6-46d8-e437-0fa6445a55f2"
      },
      "source": [
        "t = [ [0 for j in range(3)] for i in range(2)]\n",
        "u = [[0]*3] *2\n",
        "\n",
        "print(t)\n",
        "print(u)"
      ],
      "execution_count": null,
      "outputs": [
        {
          "output_type": "stream",
          "text": [
            "[[0, 0, 0], [0, 0, 0]]\n",
            "[[0, 0, 0], [0, 0, 0]]\n"
          ],
          "name": "stdout"
        }
      ]
    },
    {
      "cell_type": "code",
      "metadata": {
        "colab": {
          "base_uri": "https://localhost:8080/"
        },
        "id": "R4VIjRD_nRGT",
        "outputId": "1c04187a-83e4-480c-f80f-39a913019f7b"
      },
      "source": [
        "t[0][0] = 1\n",
        "u[0][0] = 1\n",
        "\n",
        "print(t)\n",
        "print(u)"
      ],
      "execution_count": null,
      "outputs": [
        {
          "output_type": "stream",
          "text": [
            "[[1, 0, 0], [0, 0, 0]]\n",
            "[[1, 0, 0], [1, 0, 0]]\n"
          ],
          "name": "stdout"
        }
      ]
    }
  ]
}