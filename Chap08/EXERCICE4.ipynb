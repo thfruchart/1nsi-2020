{
  "nbformat": 4,
  "nbformat_minor": 0,
  "metadata": {
    "colab": {
      "name": "Chap08_EXERCICE4.ipynb",
      "provenance": [],
      "collapsed_sections": [],
      "authorship_tag": "ABX9TyPNHAP6Lrbi+fNI6qase60D",
      "include_colab_link": true
    },
    "kernelspec": {
      "name": "python3",
      "display_name": "Python 3"
    }
  },
  "cells": [
    {
      "cell_type": "markdown",
      "metadata": {
        "id": "view-in-github",
        "colab_type": "text"
      },
      "source": [
        "<a href=\"https://colab.research.google.com/github/thfruchart/1nsi-2020/blob/master/Chap08/EXERCICE4.ipynb\" target=\"_parent\"><img src=\"https://colab.research.google.com/assets/colab-badge.svg\" alt=\"Open In Colab\"/></a>"
      ]
    },
    {
      "cell_type": "markdown",
      "metadata": {
        "id": "ug4d574ucFIB"
      },
      "source": [
        "# Exercice 4"
      ]
    },
    {
      "cell_type": "markdown",
      "metadata": {
        "id": "IOZ7Na8ec95G"
      },
      "source": [
        "On donne le tableau t suivant : "
      ]
    },
    {
      "cell_type": "code",
      "metadata": {
        "id": "TPHPvDhvcciW"
      },
      "source": [
        "t = [[0,  0,  0,  0,  0,  0,  0,  0,  0,  0, 0],\n",
        "     [0,  1,  2,  3,  4,  5,  6,  7,  8,  9, 10], \n",
        "     [0,  2,  4,  6,  8, 10, 12, 14, 16, 18, 20], \n",
        "     [0,  3,  6,  9, 12, 15, 18, 21, 24, 27, 30], \n",
        "     [0,  4,  8, 12, 16, 20, 24, 28, 32, 36, 40], \n",
        "     [0,  5, 10, 15, 20, 25, 30, 35, 40, 45, 50], \n",
        "     [0,  6, 12, 18, 24, 30, 36, 42, 48, 54, 55], \n",
        "     [0,  7, 14, 21, 28, 35, 42, 49, 56, 63, 70], \n",
        "     [0,  8, 16, 24, 32, 40, 48, 56, 64, 72, 80], \n",
        "     [0,  9, 18, 27, 36, 45, 56, 63, 72, 81, 90], \n",
        "     [0, 10, 20, 30, 40, 50, 60, 70, 80, 90, 100]]"
      ],
      "execution_count": 7,
      "outputs": []
    },
    {
      "cell_type": "markdown",
      "metadata": {
        "id": "EFZqO25ndB4u"
      },
      "source": [
        "####  Déteminer la valeur de `i` et la valeur de `j` pour lesquelles le programme suivant affiche 49"
      ]
    },
    {
      "cell_type": "code",
      "metadata": {
        "id": "9aN5adhScBd3"
      },
      "source": [
        "i = int(input('Entrer i : '))\n",
        "j = int(input('Entrer j : '))\n",
        "print(t[i][j])"
      ],
      "execution_count": null,
      "outputs": []
    },
    {
      "cell_type": "markdown",
      "metadata": {
        "id": "zocC4OXtdicO"
      },
      "source": [
        "####  Déteminer la valeur de `i` et la valeur de `j` pour lesquelles le programme suivant affiche 27\n",
        "\n",
        "Y a-t-il plusieurs solutions ? Si oui, les donner toutes !"
      ]
    },
    {
      "cell_type": "code",
      "metadata": {
        "id": "Z8Q4-VuCdicP"
      },
      "source": [
        "i = int(input('Entrer i : '))\n",
        "j = int(input('Entrer j : '))\n",
        "print(t[i][j])"
      ],
      "execution_count": null,
      "outputs": []
    },
    {
      "cell_type": "markdown",
      "metadata": {
        "id": "JlTMD71HdiyV"
      },
      "source": [
        "####  Le programme suivant se propose de vérifier que le tableau t contient bien une \"table de multiplication\"\n",
        "\n",
        "Compléter le programme, puis l'exécuter pour déterminer les deux cellules qui contiennent une valeur incorrecte. "
      ]
    },
    {
      "cell_type": "code",
      "metadata": {
        "colab": {
          "base_uri": "https://localhost:8080/"
        },
        "id": "AKc80U0AdiyV",
        "outputId": "0bf6462a-1573-4d5b-f60a-a8e909e7a81c"
      },
      "source": [
        "for i in range(11) :\n",
        "    for j in range(11) :\n",
        "        if t[i][j]  != i*j:\n",
        "            print('erreur')"
      ],
      "execution_count": 8,
      "outputs": [
        {
          "output_type": "stream",
          "text": [
            "erreur\n",
            "erreur\n"
          ],
          "name": "stdout"
        }
      ]
    },
    {
      "cell_type": "markdown",
      "metadata": {
        "id": "JmTaGIRodjEl"
      },
      "source": [
        "####  Plutôt que de corriger une par une les cellules incorrectes, on décide de définir directement le tableau t par compréhension\n",
        "\n",
        "Compléter le code ci-dessous pour que t contienne une table de multiplication correcte pour les entiers compris entre 0 et 10 inclus. "
      ]
    },
    {
      "cell_type": "code",
      "metadata": {
        "id": "5Z7wF-NTdjEl"
      },
      "source": [
        "t = [ [ ] ]"
      ],
      "execution_count": null,
      "outputs": []
    }
  ]
}