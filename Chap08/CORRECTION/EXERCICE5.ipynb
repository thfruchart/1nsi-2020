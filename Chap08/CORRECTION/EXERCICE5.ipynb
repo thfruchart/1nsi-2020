{
  "nbformat": 4,
  "nbformat_minor": 0,
  "metadata": {
    "colab": {
      "name": "Chap08_EXERCICE5.ipynb",
      "provenance": [],
      "collapsed_sections": [],
      "authorship_tag": "ABX9TyM1eViKeXASTI0LJeB9+TtS",
      "include_colab_link": true
    },
    "kernelspec": {
      "name": "python3",
      "display_name": "Python 3"
    }
  },
  "cells": [
    {
      "cell_type": "markdown",
      "metadata": {
        "id": "view-in-github",
        "colab_type": "text"
      },
      "source": [
        "<a href=\"https://colab.research.google.com/github/thfruchart/1nsi-2020/blob/master/Chap08/CORRECTION/EXERCICE5.ipynb\" target=\"_parent\"><img src=\"https://colab.research.google.com/assets/colab-badge.svg\" alt=\"Open In Colab\"/></a>"
      ]
    },
    {
      "cell_type": "markdown",
      "metadata": {
        "id": "im5iq6IxgFbr"
      },
      "source": [
        "# Exercice 5"
      ]
    },
    {
      "cell_type": "markdown",
      "metadata": {
        "id": "erIOvtgPhCCq"
      },
      "source": [
        "#### question 1"
      ]
    },
    {
      "cell_type": "markdown",
      "metadata": {
        "id": "O_LSRnmLgHFO"
      },
      "source": [
        "Ecrire un programme qui crée un tableau `tab` de 20 lignes et 20 colonnes, contenant des entiers choisis au hasard entre 0 et 1000.\n",
        "\n",
        "On rappelle que, dans le module `random`, `random.randint(a,b)` renvoie un entier aléatoire entre a (inclus) et b (inclus).\n",
        "\n",
        "[cours du CHAP1 sur l'importation d'un module](https://colab.research.google.com/github/thfruchart/1nsi-2020/blob/master/Chap01/IntroPython.ipynb#scrollTo=GPvOX3mlSyvP)"
      ]
    },
    {
      "cell_type": "markdown",
      "metadata": {
        "id": "HPJCsm8OHfCi"
      },
      "source": [
        "solution"
      ]
    },
    {
      "cell_type": "code",
      "metadata": {
        "id": "DEhjhoEbgBv8"
      },
      "source": [
        "from random import randint\n",
        "tab = [ [randint(0,1000) for j in range(20) ] for i in range(20) ]"
      ],
      "execution_count": 1,
      "outputs": []
    },
    {
      "cell_type": "markdown",
      "metadata": {
        "id": "z4CXQJWhHbtV"
      },
      "source": [
        "Brouillon"
      ]
    },
    {
      "cell_type": "code",
      "metadata": {
        "id": "mOlstKBZFm-e",
        "outputId": "f15cdbb5-14b7-4ed5-8303-fd11cea460f4",
        "colab": {
          "base_uri": "https://localhost:8080/"
        }
      },
      "source": [
        "print([randint(0,1000) for j in range(20) ])"
      ],
      "execution_count": 8,
      "outputs": [
        {
          "output_type": "stream",
          "text": [
            "[790, 657, 610, 652, 514, 702, 726, 128, 479, 607, 961, 90, 101, 702, 924, 109, 785, 845, 478, 118]\n"
          ],
          "name": "stdout"
        }
      ]
    },
    {
      "cell_type": "code",
      "metadata": {
        "id": "nXa1uOFGGTv2",
        "outputId": "2edeefad-46c8-4126-8505-9c0d9f160327",
        "colab": {
          "base_uri": "https://localhost:8080/"
        }
      },
      "source": [
        "print([ [randint(0,1000) for j in range(20) ] ])"
      ],
      "execution_count": 9,
      "outputs": [
        {
          "output_type": "stream",
          "text": [
            "[[132, 668, 612, 192, 881, 286, 26, 866, 355, 744, 476, 328, 625, 339, 659, 178, 380, 223, 769, 477]]\n"
          ],
          "name": "stdout"
        }
      ]
    },
    {
      "cell_type": "code",
      "metadata": {
        "id": "ZSrqqqdQGvn-"
      },
      "source": [
        "t =  [ [randint(0,1000) for j in range(10) ] for i in range(4) ]"
      ],
      "execution_count": 13,
      "outputs": []
    },
    {
      "cell_type": "code",
      "metadata": {
        "id": "clfwJYbGHOqI",
        "outputId": "553d1532-2755-429e-b6e8-66f406fb83da",
        "colab": {
          "base_uri": "https://localhost:8080/"
        }
      },
      "source": [
        "t"
      ],
      "execution_count": 14,
      "outputs": [
        {
          "output_type": "execute_result",
          "data": {
            "text/plain": [
              "[[51, 614, 451, 34, 931, 592, 188, 775, 541, 636],\n",
              " [715, 346, 152, 165, 513, 274, 351, 59, 694, 481],\n",
              " [406, 872, 866, 728, 800, 471, 468, 889, 716, 465],\n",
              " [939, 911, 729, 979, 37, 368, 197, 644, 580, 633]]"
            ]
          },
          "metadata": {
            "tags": []
          },
          "execution_count": 14
        }
      ]
    },
    {
      "cell_type": "markdown",
      "metadata": {
        "id": "Hc-MEbC_hEGC"
      },
      "source": [
        "#### question 2"
      ]
    },
    {
      "cell_type": "markdown",
      "metadata": {
        "id": "LBrglq4XhGJL"
      },
      "source": [
        "Ajouter les instructions qui permettent de calculer dans la variable `v_max` le  **maximum** des valeurs contenues dans le tableau `tab`. "
      ]
    },
    {
      "cell_type": "code",
      "metadata": {
        "id": "onaGY73_hFoQ",
        "colab": {
          "base_uri": "https://localhost:8080/"
        },
        "outputId": "1829501b-f33f-40c5-b113-199282c2c224"
      },
      "source": [
        "from random import randint\n",
        "tab = [ [randint(0,1000) for j in range(20) ] for i in range(20) ]\n",
        "\n",
        "v_max = 0\n",
        "for i in range(20): # i : indice de ligne entre 0 et 19\n",
        "    for j in range(20) : # j : indice de colonne entre 0 et 19\n",
        "        if tab[i][j] > v_max :\n",
        "            v_max = tab[i][j]\n",
        "print(v_max)\n"
      ],
      "execution_count": 19,
      "outputs": [
        {
          "output_type": "stream",
          "text": [
            "998\n"
          ],
          "name": "stdout"
        }
      ]
    },
    {
      "cell_type": "markdown",
      "metadata": {
        "id": "6ufLm_A-Lgul"
      },
      "source": [
        "Remarque : pour un tableau avec **5** lignes et **10** colonnes, on a : "
      ]
    },
    {
      "cell_type": "code",
      "metadata": {
        "colab": {
          "base_uri": "https://localhost:8080/"
        },
        "id": "zaaZrpgALm0w",
        "outputId": "d55ecc04-90c9-4bba-97df-d3243f424cd8"
      },
      "source": [
        "from random import randint\n",
        "tab = [ [randint(0,1000) for j in range(10) ] for i in range(5) ]\n",
        "\n",
        "v_max = 0\n",
        "for i in range(5): # i : indice de ligne entre 0 et 19\n",
        "    for j in range(10) : # j : indice de colonne entre 0 et 19\n",
        "        if tab[i][j] > v_max :\n",
        "            v_max = tab[i][j]\n",
        "print(v_max)\n"
      ],
      "execution_count": 20,
      "outputs": [
        {
          "output_type": "stream",
          "text": [
            "972\n"
          ],
          "name": "stdout"
        }
      ]
    },
    {
      "cell_type": "markdown",
      "metadata": {
        "id": "_J_78fDdhyJD"
      },
      "source": [
        "#### question 3"
      ]
    },
    {
      "cell_type": "markdown",
      "metadata": {
        "id": "zEWc_JAhh0Ta"
      },
      "source": [
        "comment modifier le code ci-dessus dans le cas où les valeurs du tableau tab ne sont pas forcément positives?"
      ]
    },
    {
      "cell_type": "markdown",
      "metadata": {
        "id": "mSxN8Dr3Ngu_"
      },
      "source": [
        "=> il est pertinent d'initialiser `v_max` avec la première valeur du tableau tab !\n",
        "\n",
        "`v_max = tab[0][0]`"
      ]
    },
    {
      "cell_type": "code",
      "metadata": {
        "colab": {
          "base_uri": "https://localhost:8080/"
        },
        "id": "ZSpRqotCLyrr",
        "outputId": "a450257e-3fe5-4786-c221-507562e0cf75"
      },
      "source": [
        "from random import randint\n",
        "tab = [ [randint(-1000,-100) for j in range(20) ] for i in range(20) ]\n",
        "\n",
        "v_max = tab[0][0] # première valeur du tableau \n",
        "for i in range(20): # i : indice de ligne entre 0 et 19\n",
        "    for j in range(20) : # j : indice de colonne entre 0 et 19\n",
        "        if tab[i][j] > v_max :\n",
        "            v_max = tab[i][j]\n",
        "print(v_max)\n"
      ],
      "execution_count": 26,
      "outputs": [
        {
          "output_type": "stream",
          "text": [
            "-104\n"
          ],
          "name": "stdout"
        }
      ]
    }
  ]
}