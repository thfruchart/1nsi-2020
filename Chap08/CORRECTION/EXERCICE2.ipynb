{
  "nbformat": 4,
  "nbformat_minor": 0,
  "metadata": {
    "colab": {
      "name": "Chap08_EXERCICE2.ipynb",
      "provenance": [],
      "collapsed_sections": [],
      "authorship_tag": "ABX9TyN53mI6c7Vp//Dy8xlVOBt6",
      "include_colab_link": true
    },
    "kernelspec": {
      "name": "python3",
      "display_name": "Python 3"
    }
  },
  "cells": [
    {
      "cell_type": "markdown",
      "metadata": {
        "id": "view-in-github",
        "colab_type": "text"
      },
      "source": [
        "<a href=\"https://colab.research.google.com/github/thfruchart/1nsi-2020/blob/master/Chap08/CORRECTION/EXERCICE2.ipynb\" target=\"_parent\"><img src=\"https://colab.research.google.com/assets/colab-badge.svg\" alt=\"Open In Colab\"/></a>"
      ]
    },
    {
      "cell_type": "markdown",
      "metadata": {
        "id": "mIrptlrQWAFU"
      },
      "source": [
        "# Exercice 2\n"
      ]
    },
    {
      "cell_type": "markdown",
      "metadata": {
        "id": "bowwm5Q6WDXq"
      },
      "source": [
        "Modifier la définition de la fonction `somme(t)` donnée dans la cellule suivante, pour que cette fonction renvoie la somme des valeurs contenues dans le tableau t. "
      ]
    },
    {
      "cell_type": "code",
      "metadata": {
        "id": "x9m9Pl_KVskP"
      },
      "source": [
        "def somme(t):\n",
        "    total = 0\n",
        "    for v in t : \n",
        "        total += v # total = v+total \n",
        "        print(v, total)\n",
        "    return total"
      ],
      "execution_count": 6,
      "outputs": []
    },
    {
      "cell_type": "code",
      "metadata": {
        "id": "1PjLst8wwn3Y",
        "outputId": "b04691e2-900e-4fc6-a012-0780a2baaa3d",
        "colab": {
          "base_uri": "https://localhost:8080/"
        }
      },
      "source": [
        "somme([10,20,30,40, 50])"
      ],
      "execution_count": 7,
      "outputs": [
        {
          "output_type": "stream",
          "text": [
            "10 10\n",
            "20 30\n",
            "30 60\n",
            "40 100\n",
            "50 150\n"
          ],
          "name": "stdout"
        },
        {
          "output_type": "execute_result",
          "data": {
            "text/plain": [
              "150"
            ]
          },
          "metadata": {
            "tags": []
          },
          "execution_count": 7
        }
      ]
    },
    {
      "cell_type": "markdown",
      "metadata": {
        "id": "VlnbEgInX0FU"
      },
      "source": [
        "On pourra tester cette fonction en exécutant\n",
        "\n",
        "`>>> somme( [10,20,30,40] )`\n",
        "\n",
        "qui doit renvoyer `100`"
      ]
    }
  ]
}