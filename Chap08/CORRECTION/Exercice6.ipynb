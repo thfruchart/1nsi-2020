{
  "nbformat": 4,
  "nbformat_minor": 0,
  "metadata": {
    "colab": {
      "name": "Chap08_CORRECTION_Exercice6.ipynb",
      "provenance": [],
      "collapsed_sections": [],
      "authorship_tag": "ABX9TyNuWbCsdN/9SMjObvBpUd1r",
      "include_colab_link": true
    },
    "kernelspec": {
      "name": "python3",
      "display_name": "Python 3"
    }
  },
  "cells": [
    {
      "cell_type": "markdown",
      "metadata": {
        "id": "view-in-github",
        "colab_type": "text"
      },
      "source": [
        "<a href=\"https://colab.research.google.com/github/thfruchart/1nsi-2020/blob/master/Chap08/CORRECTION/Exercice6.ipynb\" target=\"_parent\"><img src=\"https://colab.research.google.com/assets/colab-badge.svg\" alt=\"Open In Colab\"/></a>"
      ]
    },
    {
      "cell_type": "markdown",
      "metadata": {
        "id": "hYY85bfNnI2F"
      },
      "source": [
        "### Brouillon 1"
      ]
    },
    {
      "cell_type": "markdown",
      "metadata": {
        "id": "tdGYlnHRnMj0"
      },
      "source": [
        "indices du tableau t_32"
      ]
    },
    {
      "cell_type": "code",
      "metadata": {
        "colab": {
          "base_uri": "https://localhost:8080/"
        },
        "id": "EL41ONwIm8Xz",
        "outputId": "7bc2ec62-59e1-45eb-d42f-6964762a6d3d"
      },
      "source": [
        "t_32 = [50, 102, 165, 114, 47, 4, 41, 198, 114, 182, 43, 186, 20, 106, 7, 110, 113, 28, 199, 129, 126, 144, 67, 165, 183, 130, 90, 39, 182, 194, 106, 90]\n",
        "\n",
        "for i in range(len(t_32)):\n",
        "    print(i, end=';')"
      ],
      "execution_count": 1,
      "outputs": [
        {
          "output_type": "stream",
          "text": [
            "0;1;2;3;4;5;6;7;8;9;10;11;12;13;14;15;16;17;18;19;20;21;22;23;24;25;26;27;28;29;30;31;"
          ],
          "name": "stdout"
        }
      ]
    },
    {
      "cell_type": "markdown",
      "metadata": {
        "id": "TW_vXTP6nbqs"
      },
      "source": [
        "indices du tableau t_4_8"
      ]
    },
    {
      "cell_type": "code",
      "metadata": {
        "colab": {
          "base_uri": "https://localhost:8080/"
        },
        "id": "LheTlDOjngdC",
        "outputId": "9b8a0938-6e24-47b4-d48d-a3442b5b7a65"
      },
      "source": [
        "t_4_8 = [ [ 0 for j in range(8)] for i in range (4)]\n",
        "\n",
        "for i in range(len(t_4_8)):\n",
        "    for j in range( len(t_4_8[i]) ):\n",
        "        print(i,j, sep=':', end='; ')\n",
        "    print()"
      ],
      "execution_count": 2,
      "outputs": [
        {
          "output_type": "stream",
          "text": [
            "0:0; 0:1; 0:2; 0:3; 0:4; 0:5; 0:6; 0:7; \n",
            "1:0; 1:1; 1:2; 1:3; 1:4; 1:5; 1:6; 1:7; \n",
            "2:0; 2:1; 2:2; 2:3; 2:4; 2:5; 2:6; 2:7; \n",
            "3:0; 3:1; 3:2; 3:3; 3:4; 3:5; 3:6; 3:7; \n"
          ],
          "name": "stdout"
        }
      ]
    },
    {
      "cell_type": "markdown",
      "metadata": {
        "id": "qY7YTKp9oVUm"
      },
      "source": [
        "# Solution 1"
      ]
    },
    {
      "cell_type": "code",
      "metadata": {
        "id": "w2yqLhVroXX9"
      },
      "source": [
        "for i in range(4) :\n",
        "    for j in range(8):\n",
        "        # A compléter"
      ],
      "execution_count": null,
      "outputs": []
    },
    {
      "cell_type": "markdown",
      "metadata": {
        "id": "gWjkI-89oYaV"
      },
      "source": [
        "# Solution 2"
      ]
    },
    {
      "cell_type": "code",
      "metadata": {
        "id": "SLPz5AUMob0N"
      },
      "source": [
        "for k in range(32) :\n",
        "    # A compléter"
      ],
      "execution_count": null,
      "outputs": []
    }
  ]
}