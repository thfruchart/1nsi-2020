{
  "nbformat": 4,
  "nbformat_minor": 0,
  "metadata": {
    "colab": {
      "name": "Chap08_CORRECTION_Exercice6.ipynb",
      "provenance": [],
      "collapsed_sections": [],
      "authorship_tag": "ABX9TyMV+og+V13zSTRPLE+31Ni4",
      "include_colab_link": true
    },
    "kernelspec": {
      "name": "python3",
      "display_name": "Python 3"
    }
  },
  "cells": [
    {
      "cell_type": "markdown",
      "metadata": {
        "id": "view-in-github",
        "colab_type": "text"
      },
      "source": [
        "<a href=\"https://colab.research.google.com/github/thfruchart/1nsi-2020/blob/master/Chap08/CORRECTION/Exercice6.ipynb\" target=\"_parent\"><img src=\"https://colab.research.google.com/assets/colab-badge.svg\" alt=\"Open In Colab\"/></a>"
      ]
    },
    {
      "cell_type": "markdown",
      "metadata": {
        "id": "hYY85bfNnI2F"
      },
      "source": [
        "### Brouillon 1"
      ]
    },
    {
      "cell_type": "markdown",
      "metadata": {
        "id": "tdGYlnHRnMj0"
      },
      "source": [
        "indices du tableau t_32"
      ]
    },
    {
      "cell_type": "code",
      "metadata": {
        "colab": {
          "base_uri": "https://localhost:8080/"
        },
        "id": "EL41ONwIm8Xz",
        "outputId": "35aa48fc-adb6-428d-ccd1-803391c4bd6d"
      },
      "source": [
        "t_32 = [50, 102, 165, 114, 47, 4, 41, 198, 114, 182, 43, 186, 20, 106, 7, 110, 113, 28, 199, 129, 126, 144, 67, 165, 183, 130, 90, 39, 182, 194, 106, 90]\n",
        "\n",
        "for k in range(len(t_32)):\n",
        "    print(k, end=';')"
      ],
      "execution_count": 2,
      "outputs": [
        {
          "output_type": "stream",
          "text": [
            "0;1;2;3;4;5;6;7;8;9;10;11;12;13;14;15;16;17;18;19;20;21;22;23;24;25;26;27;28;29;30;31;"
          ],
          "name": "stdout"
        }
      ]
    },
    {
      "cell_type": "markdown",
      "metadata": {
        "id": "TW_vXTP6nbqs"
      },
      "source": [
        "indices du tableau t_4_8"
      ]
    },
    {
      "cell_type": "code",
      "metadata": {
        "colab": {
          "base_uri": "https://localhost:8080/"
        },
        "id": "LheTlDOjngdC",
        "outputId": "acf46eb8-c676-4ef2-b38a-ccaf61206952"
      },
      "source": [
        "t_4_8 = [ [ 0 for j in range(8)] for i in range (4)]\n",
        "\n",
        "for i in range(len(t_4_8)):\n",
        "    for j in range( len(t_4_8[i]) ):\n",
        "        print(i,j, sep=':', end='; ')\n",
        "    print()"
      ],
      "execution_count": 3,
      "outputs": [
        {
          "output_type": "stream",
          "text": [
            "0:0; 0:1; 0:2; 0:3; 0:4; 0:5; 0:6; 0:7; \n",
            "1:0; 1:1; 1:2; 1:3; 1:4; 1:5; 1:6; 1:7; \n",
            "2:0; 2:1; 2:2; 2:3; 2:4; 2:5; 2:6; 2:7; \n",
            "3:0; 3:1; 3:2; 3:3; 3:4; 3:5; 3:6; 3:7; \n"
          ],
          "name": "stdout"
        }
      ]
    },
    {
      "cell_type": "markdown",
      "metadata": {
        "id": "qY7YTKp9oVUm"
      },
      "source": [
        "# Solution 1"
      ]
    },
    {
      "cell_type": "code",
      "metadata": {
        "id": "w2yqLhVroXX9",
        "outputId": "68ed0163-70de-439d-b843-736793dd88e6",
        "colab": {
          "base_uri": "https://localhost:8080/"
        }
      },
      "source": [
        "for i in range(4) :\n",
        "    for j in range(8):\n",
        "        k = 8*i + j\n",
        "        t_4_8[i][j] = t_32[k]\n",
        "t_4_8"
      ],
      "execution_count": 4,
      "outputs": [
        {
          "output_type": "execute_result",
          "data": {
            "text/plain": [
              "[[50, 102, 165, 114, 47, 4, 41, 198],\n",
              " [114, 182, 43, 186, 20, 106, 7, 110],\n",
              " [113, 28, 199, 129, 126, 144, 67, 165],\n",
              " [183, 130, 90, 39, 182, 194, 106, 90]]"
            ]
          },
          "metadata": {
            "tags": []
          },
          "execution_count": 4
        }
      ]
    },
    {
      "cell_type": "code",
      "metadata": {
        "id": "4E3OTAAz_VpJ",
        "outputId": "63b4133b-620e-4788-c22a-dfebf5ea8feb",
        "colab": {
          "base_uri": "https://localhost:8080/"
        }
      },
      "source": [
        "[ [t_32[8*i+j] for j in range(8)] for i in range(4)]"
      ],
      "execution_count": 5,
      "outputs": [
        {
          "output_type": "execute_result",
          "data": {
            "text/plain": [
              "[[50, 102, 165, 114, 47, 4, 41, 198],\n",
              " [114, 182, 43, 186, 20, 106, 7, 110],\n",
              " [113, 28, 199, 129, 126, 144, 67, 165],\n",
              " [183, 130, 90, 39, 182, 194, 106, 90]]"
            ]
          },
          "metadata": {
            "tags": []
          },
          "execution_count": 5
        }
      ]
    },
    {
      "cell_type": "markdown",
      "metadata": {
        "id": "gWjkI-89oYaV"
      },
      "source": [
        "# Solution 2"
      ]
    },
    {
      "cell_type": "code",
      "metadata": {
        "id": "SLPz5AUMob0N",
        "outputId": "1894b4bc-6a1b-4b38-a1a4-b32ba3ba5e2f",
        "colab": {
          "base_uri": "https://localhost:8080/"
        }
      },
      "source": [
        "for k in range(32) :\n",
        "    i = k // 8\n",
        "    j = k%8 \n",
        "    t_4_8[i][j] = t_32[k]\n",
        "t_4_8"
      ],
      "execution_count": 7,
      "outputs": [
        {
          "output_type": "execute_result",
          "data": {
            "text/plain": [
              "[[50, 102, 165, 114, 47, 4, 41, 198],\n",
              " [114, 182, 43, 186, 20, 106, 7, 110],\n",
              " [113, 28, 199, 129, 126, 144, 67, 165],\n",
              " [183, 130, 90, 39, 182, 194, 106, 90]]"
            ]
          },
          "metadata": {
            "tags": []
          },
          "execution_count": 7
        }
      ]
    }
  ]
}