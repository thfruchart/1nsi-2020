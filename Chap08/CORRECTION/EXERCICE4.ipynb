{
  "nbformat": 4,
  "nbformat_minor": 0,
  "metadata": {
    "colab": {
      "name": "Chap08_EXERCICE4.ipynb",
      "provenance": [],
      "collapsed_sections": [],
      "authorship_tag": "ABX9TyMv8IbZJNHB+ANN2qH/X92K",
      "include_colab_link": true
    },
    "kernelspec": {
      "name": "python3",
      "display_name": "Python 3"
    }
  },
  "cells": [
    {
      "cell_type": "markdown",
      "metadata": {
        "id": "view-in-github",
        "colab_type": "text"
      },
      "source": [
        "<a href=\"https://colab.research.google.com/github/thfruchart/1nsi-2020/blob/master/Chap08/CORRECTION/EXERCICE4.ipynb\" target=\"_parent\"><img src=\"https://colab.research.google.com/assets/colab-badge.svg\" alt=\"Open In Colab\"/></a>"
      ]
    },
    {
      "cell_type": "markdown",
      "metadata": {
        "id": "ug4d574ucFIB"
      },
      "source": [
        "# Exercice 4"
      ]
    },
    {
      "cell_type": "markdown",
      "metadata": {
        "id": "IOZ7Na8ec95G"
      },
      "source": [
        "On donne le tableau t suivant : "
      ]
    },
    {
      "cell_type": "code",
      "metadata": {
        "id": "TPHPvDhvcciW"
      },
      "source": [
        "t = [[0,  0,  0,  0,  0,  0,  0,  0,  0,  0, 0],\n",
        "     [0,  1,  2,  3,  4,  5,  6,  7,  8,  9, 10], \n",
        "     [0,  2,  4,  6,  8, 10, 12, 14, 16, 18, 20], \n",
        "     [0,  3,  6,  9, 12, 15, 18, 21, 24, 27, 30], \n",
        "     [0,  4,  8, 12, 16, 20, 24, 28, 32, 36, 40], \n",
        "     [0,  5, 10, 15, 20, 25, 30, 35, 40, 45, 50], \n",
        "     [0,  6, 12, 18, 24, 30, 36, 42, 48, 54, 55], \n",
        "     [0,  7, 14, 21, 28, 35, 42, 49, 56, 63, 70], \n",
        "     [0,  8, 16, 24, 32, 40, 48, 56, 64, 72, 80], \n",
        "     [0,  9, 18, 27, 36, 45, 56, 63, 72, 81, 90], \n",
        "     [0, 10, 20, 30, 40, 50, 60, 70, 80, 90, 100]]"
      ],
      "execution_count": 1,
      "outputs": []
    },
    {
      "cell_type": "markdown",
      "metadata": {
        "id": "EFZqO25ndB4u"
      },
      "source": [
        "####  Déteminer la valeur de `i` et la valeur de `j` pour lesquelles le programme suivant affiche 49"
      ]
    },
    {
      "cell_type": "code",
      "metadata": {
        "id": "9aN5adhScBd3",
        "outputId": "0d06520b-7140-4814-c586-4add4af03a5f",
        "colab": {
          "base_uri": "https://localhost:8080/"
        }
      },
      "source": [
        "i = int(input('Entrer i : '))\n",
        "j = int(input('Entrer j : '))\n",
        "print(t[i][j])"
      ],
      "execution_count": 2,
      "outputs": [
        {
          "output_type": "stream",
          "text": [
            "Entrer i : 7\n",
            "Entrer j : 7\n",
            "49\n"
          ],
          "name": "stdout"
        }
      ]
    },
    {
      "cell_type": "markdown",
      "metadata": {
        "id": "zocC4OXtdicO"
      },
      "source": [
        "####  Déteminer la valeur de `i` et la valeur de `j` pour lesquelles le programme suivant affiche 27\n",
        "\n",
        "Y a-t-il plusieurs solutions ? Si oui, les donner toutes !"
      ]
    },
    {
      "cell_type": "code",
      "metadata": {
        "id": "Z8Q4-VuCdicP",
        "outputId": "8d562926-bf34-4bd4-9e24-670e29716933",
        "colab": {
          "base_uri": "https://localhost:8080/"
        }
      },
      "source": [
        "i = int(input('Entrer i : '))\n",
        "j = int(input('Entrer j : '))\n",
        "print(t[i][j])"
      ],
      "execution_count": 3,
      "outputs": [
        {
          "output_type": "stream",
          "text": [
            "Entrer i : 3\n",
            "Entrer j : 9\n",
            "27\n"
          ],
          "name": "stdout"
        }
      ]
    },
    {
      "cell_type": "markdown",
      "metadata": {
        "id": "JlTMD71HdiyV"
      },
      "source": [
        "####  Le programme suivant se propose de vérifier que le tableau t contient bien une \"table de multiplication\"\n",
        "\n",
        "Compléter le programme, puis l'exécuter pour déterminer les deux cellules qui contiennent une valeur incorrecte. "
      ]
    },
    {
      "cell_type": "code",
      "metadata": {
        "colab": {
          "base_uri": "https://localhost:8080/"
        },
        "id": "AKc80U0AdiyV",
        "outputId": "c4a56405-d55b-4279-d754-283578f26502"
      },
      "source": [
        "for i in range(11) :\n",
        "    for j in range(11) :\n",
        "        if t[i][j]  != i*j:\n",
        "            print('erreur à la ligne n°', i  , \"colonne n°\", j)"
      ],
      "execution_count": 5,
      "outputs": [
        {
          "output_type": "stream",
          "text": [
            "erreur à la ligne n° 6 colonne n° 10\n",
            "erreur à la ligne n° 9 colonne n° 6\n"
          ],
          "name": "stdout"
        }
      ]
    },
    {
      "cell_type": "markdown",
      "metadata": {
        "id": "JmTaGIRodjEl"
      },
      "source": [
        "####  Plutôt que de corriger une par une les cellules incorrectes, on décide de définir directement le tableau t par compréhension\n",
        "\n",
        "Compléter le code ci-dessous pour que t contienne une table de multiplication correcte pour les entiers compris entre 0 et 10 inclus. "
      ]
    },
    {
      "cell_type": "code",
      "metadata": {
        "id": "5Z7wF-NTdjEl"
      },
      "source": [
        "t = [ [ i*j  for j in range(11) ]  for i in range(11)]"
      ],
      "execution_count": 6,
      "outputs": []
    },
    {
      "cell_type": "code",
      "metadata": {
        "id": "KbKqHmgs-uem",
        "outputId": "46c583e3-541d-451c-ac26-1498a2a7957c",
        "colab": {
          "base_uri": "https://localhost:8080/"
        }
      },
      "source": [
        "t"
      ],
      "execution_count": 8,
      "outputs": [
        {
          "output_type": "execute_result",
          "data": {
            "text/plain": [
              "[[0, 0, 0, 0, 0, 0, 0, 0, 0, 0, 0],\n",
              " [0, 1, 2, 3, 4, 5, 6, 7, 8, 9, 10],\n",
              " [0, 2, 4, 6, 8, 10, 12, 14, 16, 18, 20],\n",
              " [0, 3, 6, 9, 12, 15, 18, 21, 24, 27, 30],\n",
              " [0, 4, 8, 12, 16, 20, 24, 28, 32, 36, 40],\n",
              " [0, 5, 10, 15, 20, 25, 30, 35, 40, 45, 50],\n",
              " [0, 6, 12, 18, 24, 30, 36, 42, 48, 54, 60],\n",
              " [0, 7, 14, 21, 28, 35, 42, 49, 56, 63, 70],\n",
              " [0, 8, 16, 24, 32, 40, 48, 56, 64, 72, 80],\n",
              " [0, 9, 18, 27, 36, 45, 54, 63, 72, 81, 90],\n",
              " [0, 10, 20, 30, 40, 50, 60, 70, 80, 90, 100]]"
            ]
          },
          "metadata": {
            "tags": []
          },
          "execution_count": 8
        }
      ]
    }
  ]
}