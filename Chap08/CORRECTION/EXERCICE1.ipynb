{
  "nbformat": 4,
  "nbformat_minor": 0,
  "metadata": {
    "colab": {
      "name": "Chap08_EXERCICE1.ipynb",
      "provenance": [],
      "collapsed_sections": [],
      "authorship_tag": "ABX9TyMYz68RLZzd/z6lUPUqfuEt",
      "include_colab_link": true
    },
    "kernelspec": {
      "name": "python3",
      "display_name": "Python 3"
    }
  },
  "cells": [
    {
      "cell_type": "markdown",
      "metadata": {
        "id": "view-in-github",
        "colab_type": "text"
      },
      "source": [
        "<a href=\"https://colab.research.google.com/github/thfruchart/1nsi-2020/blob/master/Chap08/CORRECTION/EXERCICE1.ipynb\" target=\"_parent\"><img src=\"https://colab.research.google.com/assets/colab-badge.svg\" alt=\"Open In Colab\"/></a>"
      ]
    },
    {
      "cell_type": "markdown",
      "metadata": {
        "id": "mIrptlrQWAFU"
      },
      "source": [
        "# Exercice 1\n"
      ]
    },
    {
      "cell_type": "markdown",
      "metadata": {
        "id": "bowwm5Q6WDXq"
      },
      "source": [
        "On définit la variable t par le code suivant : "
      ]
    },
    {
      "cell_type": "code",
      "metadata": {
        "id": "x9m9Pl_KVskP"
      },
      "source": [
        "t = [[2,5], [4,3]]"
      ],
      "execution_count": 1,
      "outputs": []
    },
    {
      "cell_type": "markdown",
      "metadata": {
        "id": "VlnbEgInX0FU"
      },
      "source": [
        "que vaut `len(t)` ?\n",
        "\n",
        "Vérifier en exécutant la cellule suivante : "
      ]
    },
    {
      "cell_type": "code",
      "metadata": {
        "id": "7JU1h-6GX53z",
        "outputId": "061ede39-f396-47e6-b85c-3fb3d6487ff0",
        "colab": {
          "base_uri": "https://localhost:8080/"
        }
      },
      "source": [
        "print(len(t))"
      ],
      "execution_count": 2,
      "outputs": [
        {
          "output_type": "stream",
          "text": [
            "2\n"
          ],
          "name": "stdout"
        }
      ]
    },
    {
      "cell_type": "markdown",
      "metadata": {
        "id": "115BkywhWMtS"
      },
      "source": [
        "#### question 1"
      ]
    },
    {
      "cell_type": "markdown",
      "metadata": {
        "id": "G8NSzo3GWOxC"
      },
      "source": [
        "Avant d'exécuter la cellule suivante, déterminer ce qui sera affiché... puis vérifier en exécutant la cellule."
      ]
    },
    {
      "cell_type": "code",
      "metadata": {
        "id": "4NaWLfrOWJnK",
        "outputId": "f61d1b62-1ea2-4161-cbb7-34c54ad039b2",
        "colab": {
          "base_uri": "https://localhost:8080/"
        }
      },
      "source": [
        "for e in t:\n",
        "    print(e)"
      ],
      "execution_count": 3,
      "outputs": [
        {
          "output_type": "stream",
          "text": [
            "[2, 5]\n",
            "[4, 3]\n"
          ],
          "name": "stdout"
        }
      ]
    },
    {
      "cell_type": "markdown",
      "metadata": {
        "id": "4xNNO_Y9WdLi"
      },
      "source": [
        "#### question 2"
      ]
    },
    {
      "cell_type": "markdown",
      "metadata": {
        "id": "bklTB2wCWdLi"
      },
      "source": [
        "Avant d'exécuter la cellule suivante, déterminer ce qui sera affiché... puis vérifier en exécutant la cellule."
      ]
    },
    {
      "cell_type": "code",
      "metadata": {
        "id": "U3z9YQdcWdLi",
        "outputId": "90356a2a-e7dd-4f84-dde8-a5c2eb380690",
        "colab": {
          "base_uri": "https://localhost:8080/"
        }
      },
      "source": [
        "for e in t:\n",
        "    for x in e : \n",
        "        print(x)"
      ],
      "execution_count": 4,
      "outputs": [
        {
          "output_type": "stream",
          "text": [
            "2\n",
            "5\n",
            "4\n",
            "3\n"
          ],
          "name": "stdout"
        }
      ]
    },
    {
      "cell_type": "markdown",
      "metadata": {
        "id": "fVdt1OHcWn34"
      },
      "source": [
        "#### question 3"
      ]
    },
    {
      "cell_type": "markdown",
      "metadata": {
        "id": "FXhL81SuWn34"
      },
      "source": [
        "Avant d'exécuter la cellule suivante, déterminer ce qui sera affiché... puis vérifier en exécutant la cellule."
      ]
    },
    {
      "cell_type": "code",
      "metadata": {
        "id": "yOO2ugPqWn34",
        "outputId": "3f3debf9-0b37-49f4-d524-6e20f9a6fa39",
        "colab": {
          "base_uri": "https://localhost:8080/",
          "height": 246
        }
      },
      "source": [
        "for e in t: \n",
        "    print('e =', e)\n",
        "    for x in e :\n",
        "        print('... x =', x)\n",
        "        for v in x :  \n",
        "            print(v)"
      ],
      "execution_count": 10,
      "outputs": [
        {
          "output_type": "stream",
          "text": [
            "e = [2, 5]\n",
            "... x = 2\n"
          ],
          "name": "stdout"
        },
        {
          "output_type": "error",
          "ename": "TypeError",
          "evalue": "ignored",
          "traceback": [
            "\u001b[0;31m---------------------------------------------------------------------------\u001b[0m",
            "\u001b[0;31mTypeError\u001b[0m                                 Traceback (most recent call last)",
            "\u001b[0;32m<ipython-input-10-749135564d4f>\u001b[0m in \u001b[0;36m<module>\u001b[0;34m()\u001b[0m\n\u001b[1;32m      3\u001b[0m     \u001b[0;32mfor\u001b[0m \u001b[0mx\u001b[0m \u001b[0;32min\u001b[0m \u001b[0me\u001b[0m \u001b[0;34m:\u001b[0m\u001b[0;34m\u001b[0m\u001b[0;34m\u001b[0m\u001b[0m\n\u001b[1;32m      4\u001b[0m         \u001b[0mprint\u001b[0m\u001b[0;34m(\u001b[0m\u001b[0;34m'... x ='\u001b[0m\u001b[0;34m,\u001b[0m \u001b[0mx\u001b[0m\u001b[0;34m)\u001b[0m\u001b[0;34m\u001b[0m\u001b[0;34m\u001b[0m\u001b[0m\n\u001b[0;32m----> 5\u001b[0;31m         \u001b[0;32mfor\u001b[0m \u001b[0mv\u001b[0m \u001b[0;32min\u001b[0m \u001b[0mx\u001b[0m \u001b[0;34m:\u001b[0m\u001b[0;34m\u001b[0m\u001b[0;34m\u001b[0m\u001b[0m\n\u001b[0m\u001b[1;32m      6\u001b[0m             \u001b[0mprint\u001b[0m\u001b[0;34m(\u001b[0m\u001b[0mv\u001b[0m\u001b[0;34m)\u001b[0m\u001b[0;34m\u001b[0m\u001b[0;34m\u001b[0m\u001b[0m\n",
            "\u001b[0;31mTypeError\u001b[0m: 'int' object is not iterable"
          ]
        }
      ]
    },
    {
      "cell_type": "markdown",
      "metadata": {
        "id": "Isxg3EwGXU9M"
      },
      "source": [
        "expliquer le résultat observé"
      ]
    },
    {
      "cell_type": "markdown",
      "metadata": {
        "id": "ic03znxKWXD6"
      },
      "source": [
        "Une boucle `for` permet de parcourir un **tableau** comme `t` ou `e`  mais pas un entier.\n",
        "\n",
        "Ici, x est de type `int` donc il n'est pas **itérable**\n",
        "\n",
        "Les seuls types **itérables** que nous connaissons sont : \n",
        "* tableau de type `list`\n",
        "* chaînes de caractères de type `str`"
      ]
    },
    {
      "cell_type": "code",
      "metadata": {
        "id": "E_XQXXN3Vfos",
        "outputId": "c39599fe-5517-419f-8a42-9ae613848cb3",
        "colab": {
          "base_uri": "https://localhost:8080/",
          "height": 178
        }
      },
      "source": [
        "for x in 2:\n",
        "    print(x)"
      ],
      "execution_count": 8,
      "outputs": [
        {
          "output_type": "error",
          "ename": "TypeError",
          "evalue": "ignored",
          "traceback": [
            "\u001b[0;31m---------------------------------------------------------------------------\u001b[0m",
            "\u001b[0;31mTypeError\u001b[0m                                 Traceback (most recent call last)",
            "\u001b[0;32m<ipython-input-8-02df0c8f439b>\u001b[0m in \u001b[0;36m<module>\u001b[0;34m()\u001b[0m\n\u001b[0;32m----> 1\u001b[0;31m \u001b[0;32mfor\u001b[0m \u001b[0mx\u001b[0m \u001b[0;32min\u001b[0m \u001b[0;36m2\u001b[0m\u001b[0;34m:\u001b[0m\u001b[0;34m\u001b[0m\u001b[0;34m\u001b[0m\u001b[0m\n\u001b[0m\u001b[1;32m      2\u001b[0m     \u001b[0mprint\u001b[0m\u001b[0;34m(\u001b[0m\u001b[0mx\u001b[0m\u001b[0;34m)\u001b[0m\u001b[0;34m\u001b[0m\u001b[0;34m\u001b[0m\u001b[0m\n",
            "\u001b[0;31mTypeError\u001b[0m: 'int' object is not iterable"
          ]
        }
      ]
    },
    {
      "cell_type": "code",
      "metadata": {
        "id": "SSPH8_ZdVks0",
        "outputId": "bf137e55-6515-4920-bddd-9d68ab9eabb5",
        "colab": {
          "base_uri": "https://localhost:8080/"
        }
      },
      "source": [
        "for x in range(2) :\n",
        "    print(x)"
      ],
      "execution_count": 9,
      "outputs": [
        {
          "output_type": "stream",
          "text": [
            "0\n",
            "1\n"
          ],
          "name": "stdout"
        }
      ]
    }
  ]
}