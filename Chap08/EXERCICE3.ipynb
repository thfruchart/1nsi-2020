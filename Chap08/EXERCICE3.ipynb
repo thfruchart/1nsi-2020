{
  "nbformat": 4,
  "nbformat_minor": 0,
  "metadata": {
    "colab": {
      "name": "Chap08_EXERCICE3.ipynb",
      "provenance": [],
      "collapsed_sections": [],
      "authorship_tag": "ABX9TyOGHXi70CP6z9SlWq6+eI/1",
      "include_colab_link": true
    },
    "kernelspec": {
      "name": "python3",
      "display_name": "Python 3"
    }
  },
  "cells": [
    {
      "cell_type": "markdown",
      "metadata": {
        "id": "view-in-github",
        "colab_type": "text"
      },
      "source": [
        "<a href=\"https://colab.research.google.com/github/thfruchart/1nsi-2020/blob/master/Chap08/EXERCICE3.ipynb\" target=\"_parent\"><img src=\"https://colab.research.google.com/assets/colab-badge.svg\" alt=\"Open In Colab\"/></a>"
      ]
    },
    {
      "cell_type": "markdown",
      "metadata": {
        "id": "MR57cPzoZnA9"
      },
      "source": [
        "# Exercice 3"
      ]
    },
    {
      "cell_type": "markdown",
      "metadata": {
        "id": "8fuGrPjeZobf"
      },
      "source": [
        "AVANT d'exécuter chaque cellule, déterminer quel sera le contenu du tableau t. \n",
        "\n",
        "Ecrire votre réponse sur feuille, puis VÉRFIER en exécutant la cellule."
      ]
    },
    {
      "cell_type": "code",
      "metadata": {
        "id": "29D-jVCGZjn_"
      },
      "source": [
        "# question 1\n",
        "\n",
        "t = [ i+1 for i in range(4) ]\n",
        "\n",
        "print(t)"
      ],
      "execution_count": 1,
      "outputs": []
    },
    {
      "cell_type": "code",
      "metadata": {
        "id": "r4kq2xVgZ-ka"
      },
      "source": [
        "# question 2\n",
        "\n",
        "t = [ i%3 for i in range(6) ]\n",
        "\n",
        "print(t)"
      ],
      "execution_count": null,
      "outputs": []
    },
    {
      "cell_type": "code",
      "metadata": {
        "id": "_OhZGOExaBIq"
      },
      "source": [
        "# question 3\n",
        "\n",
        "t = [ i // 2 for i in range(5)]\n",
        "\n",
        "print(t)"
      ],
      "execution_count": null,
      "outputs": []
    },
    {
      "cell_type": "code",
      "metadata": {
        "id": "rca9fbQDbgcN"
      },
      "source": [
        "# question 4\n",
        "\n",
        "t = [ i+3 for i in range(100) if i%10 == 0]\n",
        "\n",
        "print(t)"
      ],
      "execution_count": null,
      "outputs": []
    }
  ]
}