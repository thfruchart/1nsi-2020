{
  "nbformat": 4,
  "nbformat_minor": 0,
  "metadata": {
    "colab": {
      "name": "Chap08_EXERCICE1.ipynb",
      "provenance": [],
      "collapsed_sections": [],
      "authorship_tag": "ABX9TyMwGS7KKZBPcWU5k1ivJXys",
      "include_colab_link": true
    },
    "kernelspec": {
      "name": "python3",
      "display_name": "Python 3"
    }
  },
  "cells": [
    {
      "cell_type": "markdown",
      "metadata": {
        "id": "view-in-github",
        "colab_type": "text"
      },
      "source": [
        "<a href=\"https://colab.research.google.com/github/thfruchart/1nsi-2020/blob/master/Chap08/EXERCICE1.ipynb\" target=\"_parent\"><img src=\"https://colab.research.google.com/assets/colab-badge.svg\" alt=\"Open In Colab\"/></a>"
      ]
    },
    {
      "cell_type": "markdown",
      "metadata": {
        "id": "mIrptlrQWAFU"
      },
      "source": [
        "# Exercice 1\n"
      ]
    },
    {
      "cell_type": "markdown",
      "metadata": {
        "id": "bowwm5Q6WDXq"
      },
      "source": [
        "On définit la variable t par le code suivant : "
      ]
    },
    {
      "cell_type": "code",
      "metadata": {
        "id": "x9m9Pl_KVskP"
      },
      "source": [
        "t = [[2,5], [4,3]]"
      ],
      "execution_count": 1,
      "outputs": []
    },
    {
      "cell_type": "markdown",
      "metadata": {
        "id": "VlnbEgInX0FU"
      },
      "source": [
        "que vaut `len(t)` ?\n",
        "\n",
        "Vérifier en exécutant la cellule suivante : "
      ]
    },
    {
      "cell_type": "code",
      "metadata": {
        "id": "7JU1h-6GX53z"
      },
      "source": [
        "print(len(t))"
      ],
      "execution_count": null,
      "outputs": []
    },
    {
      "cell_type": "markdown",
      "metadata": {
        "id": "115BkywhWMtS"
      },
      "source": [
        "#### question 1"
      ]
    },
    {
      "cell_type": "markdown",
      "metadata": {
        "id": "G8NSzo3GWOxC"
      },
      "source": [
        "Avant d'exécuter la cellule suivante, déterminer ce qui sera affiché... puis vérifier en exécutant la cellule."
      ]
    },
    {
      "cell_type": "code",
      "metadata": {
        "id": "4NaWLfrOWJnK"
      },
      "source": [
        "for e in t:\n",
        "    print(e)"
      ],
      "execution_count": null,
      "outputs": []
    },
    {
      "cell_type": "markdown",
      "metadata": {
        "id": "4xNNO_Y9WdLi"
      },
      "source": [
        "#### question 2"
      ]
    },
    {
      "cell_type": "markdown",
      "metadata": {
        "id": "bklTB2wCWdLi"
      },
      "source": [
        "Avant d'exécuter la cellule suivante, déterminer ce qui sera affiché... puis vérifier en exécutant la cellule."
      ]
    },
    {
      "cell_type": "code",
      "metadata": {
        "id": "U3z9YQdcWdLi"
      },
      "source": [
        "for e in t:\n",
        "    for x in e : \n",
        "        print(x)"
      ],
      "execution_count": null,
      "outputs": []
    },
    {
      "cell_type": "markdown",
      "metadata": {
        "id": "fVdt1OHcWn34"
      },
      "source": [
        "#### question 3"
      ]
    },
    {
      "cell_type": "markdown",
      "metadata": {
        "id": "FXhL81SuWn34"
      },
      "source": [
        "Avant d'exécuter la cellule suivante, déterminer ce qui sera affiché... puis vérifier en exécutant la cellule."
      ]
    },
    {
      "cell_type": "code",
      "metadata": {
        "id": "yOO2ugPqWn34"
      },
      "source": [
        "for e in t: \n",
        "    print('e =', e)\n",
        "    for x in e :\n",
        "        print('... x =', x)\n",
        "        for v in x :  \n",
        "            print(v)"
      ],
      "execution_count": null,
      "outputs": []
    },
    {
      "cell_type": "markdown",
      "metadata": {
        "id": "Isxg3EwGXU9M"
      },
      "source": [
        "expliquer le résultat observé"
      ]
    }
  ]
}