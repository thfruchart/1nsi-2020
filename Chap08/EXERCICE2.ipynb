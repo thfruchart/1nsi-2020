{
  "nbformat": 4,
  "nbformat_minor": 0,
  "metadata": {
    "colab": {
      "name": "Chap08_EXERCICE2.ipynb",
      "provenance": [],
      "collapsed_sections": [],
      "authorship_tag": "ABX9TyP3Q08fZIZ1EFF19aOTI9R4",
      "include_colab_link": true
    },
    "kernelspec": {
      "name": "python3",
      "display_name": "Python 3"
    }
  },
  "cells": [
    {
      "cell_type": "markdown",
      "metadata": {
        "id": "view-in-github",
        "colab_type": "text"
      },
      "source": [
        "<a href=\"https://colab.research.google.com/github/thfruchart/1nsi-2020/blob/master/Chap08/EXERCICE2.ipynb\" target=\"_parent\"><img src=\"https://colab.research.google.com/assets/colab-badge.svg\" alt=\"Open In Colab\"/></a>"
      ]
    },
    {
      "cell_type": "markdown",
      "metadata": {
        "id": "mIrptlrQWAFU"
      },
      "source": [
        "# Exercice 2\n"
      ]
    },
    {
      "cell_type": "markdown",
      "metadata": {
        "id": "bowwm5Q6WDXq"
      },
      "source": [
        "Modifier la définition de la fonction `somme(t)` donnée dans la cellule suivante, pour que cette fonction renvoie la somme des valeurs contenues dans le tableau t. "
      ]
    },
    {
      "cell_type": "code",
      "metadata": {
        "id": "x9m9Pl_KVskP"
      },
      "source": [
        "def somme(t):\n",
        "    for v in t : \n",
        "        print(v)\n",
        "    return 0"
      ],
      "execution_count": null,
      "outputs": []
    },
    {
      "cell_type": "markdown",
      "metadata": {
        "id": "VlnbEgInX0FU"
      },
      "source": [
        "On pourra tester cette fonction en exécutant\n",
        "\n",
        "`>>> somme( [10,20,30,40] )`\n",
        "\n",
        "qui doit renvoyer `100`"
      ]
    }
  ]
}