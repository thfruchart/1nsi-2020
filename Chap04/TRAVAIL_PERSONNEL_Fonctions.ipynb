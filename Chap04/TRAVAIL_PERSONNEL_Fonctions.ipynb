{
  "nbformat": 4,
  "nbformat_minor": 0,
  "metadata": {
    "colab": {
      "name": "04-TRAVAIL_PERSONNEL_Fonctions.ipynb",
      "provenance": [],
      "collapsed_sections": [],
      "authorship_tag": "ABX9TyO56KQg6X5DKIwm+osugAUv",
      "include_colab_link": true
    },
    "kernelspec": {
      "name": "python3",
      "display_name": "Python 3"
    }
  },
  "cells": [
    {
      "cell_type": "markdown",
      "metadata": {
        "id": "view-in-github",
        "colab_type": "text"
      },
      "source": [
        "<a href=\"https://colab.research.google.com/github/thfruchart/1nsi-2020/blob/master/Chap04/TRAVAIL_PERSONNEL_Fonctions.ipynb\" target=\"_parent\"><img src=\"https://colab.research.google.com/assets/colab-badge.svg\" alt=\"Open In Colab\"/></a>"
      ]
    },
    {
      "cell_type": "markdown",
      "metadata": {
        "id": "oWMWKrTnwQSc"
      },
      "source": [
        "# Travail personnel sur les Fonctions\n",
        "\n",
        "**Avant** d'exécuter chaque cellule, déterminer (sans l'ordinateur) le résultat qui sera affiché. Puis vérifier en exécutant la cellule!\n",
        "\n",
        "En cas de difficulté : \n",
        "* visualiser l'exécution sur [PythonTutor](http://www.pythontutor.com/visualize.html#mode=edit)\n",
        "* préparer des questions à poser en classe"
      ]
    },
    {
      "cell_type": "markdown",
      "metadata": {
        "id": "1HUwpblb0POk"
      },
      "source": [
        "# Ex 1\n",
        "\n",
        "1. Déterminer un nombre entier tel que le programme suivant affiche : C\n",
        "2. Déterminer un nombre entier tel que le programme suivant affiche : D\n"
      ]
    },
    {
      "cell_type": "code",
      "metadata": {
        "id": "SVVHUBI80POl"
      },
      "source": [
        "def f(v):\n",
        "    if v > 16:\n",
        "        return 'A'\n",
        "    if v < 12 :\n",
        "        return 'B'\n",
        "    if v < 8 :\n",
        "        return 'C'\n",
        "    else : \n",
        "        return 'D'\n",
        "\n",
        "a = int(input('Entrer un nombre entier : '))\n",
        "print(f(a))"
      ],
      "execution_count": null,
      "outputs": []
    },
    {
      "cell_type": "markdown",
      "metadata": {
        "id": "84In5iZixhQS"
      },
      "source": [
        "## Ex 2"
      ]
    },
    {
      "cell_type": "code",
      "metadata": {
        "id": "DWBIJkP0w5OK"
      },
      "source": [
        "def f(x):\n",
        "    x = 2 * x\n",
        "    return x\n",
        "\n",
        "x = 5\n",
        "y = f(x)\n",
        "print(x, y)"
      ],
      "execution_count": null,
      "outputs": []
    },
    {
      "cell_type": "markdown",
      "metadata": {
        "id": "xTtn7ov2xlhK"
      },
      "source": [
        "## Ex 3"
      ]
    },
    {
      "cell_type": "code",
      "metadata": {
        "id": "-LQyATPpxnZ5"
      },
      "source": [
        "def ajoute(x,y):\n",
        "    return x+y\n",
        "\n",
        "a = ajoute(2,3)\n",
        "b = ajoute(5,a)\n",
        "a = ajoute(a,b)\n",
        "print(a , b)"
      ],
      "execution_count": null,
      "outputs": []
    },
    {
      "cell_type": "markdown",
      "metadata": {
        "id": "IIkFtuIoyJ55"
      },
      "source": [
        "## Ex 4"
      ]
    },
    {
      "cell_type": "code",
      "metadata": {
        "id": "Qax2gzE-yLf6"
      },
      "source": [
        "def compare(x, v):\n",
        "    if x < v:\n",
        "        resu = 'inférieur'\n",
        "    elif x > v:\n",
        "        resu = 'supérieur'\n",
        "    else :\n",
        "        resu = 'identiques'\n",
        "    return resu\n",
        "\n",
        "print(compare(1+1,2))"
      ],
      "execution_count": null,
      "outputs": []
    },
    {
      "cell_type": "markdown",
      "metadata": {
        "id": "Q1RfPlayypPC"
      },
      "source": [
        "# Ex 5"
      ]
    },
    {
      "cell_type": "code",
      "metadata": {
        "id": "52LMHpk9yq0r"
      },
      "source": [
        "def f(x):\n",
        "    y = 2*x\n",
        "    return y \n",
        "\n",
        "def g(x):\n",
        "    y = x + 2\n",
        "    return f(y)\n",
        "\n",
        "print(g(8))"
      ],
      "execution_count": null,
      "outputs": []
    },
    {
      "cell_type": "markdown",
      "metadata": {
        "id": "kipud6-hzAWK"
      },
      "source": [
        "# Ex 6"
      ]
    },
    {
      "cell_type": "code",
      "metadata": {
        "id": "iJ7zrJuNwLz4"
      },
      "source": [
        "def f(a, b):\n",
        "    if a>=b : \n",
        "        return True\n",
        "    else :\n",
        "        return False\n",
        "\n",
        "x = f(4,10)\n",
        "print(x)"
      ],
      "execution_count": null,
      "outputs": []
    }
  ]
}