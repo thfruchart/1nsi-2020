{
  "nbformat": 4,
  "nbformat_minor": 0,
  "metadata": {
    "colab": {
      "name": "04-COURS-Fonctions.ipynb",
      "provenance": [],
      "collapsed_sections": [],
      "authorship_tag": "ABX9TyOeIT7SieSX8kEmNKfpJMUz",
      "include_colab_link": true
    },
    "kernelspec": {
      "name": "python3",
      "display_name": "Python 3"
    }
  },
  "cells": [
    {
      "cell_type": "markdown",
      "metadata": {
        "id": "view-in-github",
        "colab_type": "text"
      },
      "source": [
        "<a href=\"https://colab.research.google.com/github/thfruchart/1nsi-2020/blob/master/Chap04/COURS_Fonctions.ipynb\" target=\"_parent\"><img src=\"https://colab.research.google.com/assets/colab-badge.svg\" alt=\"Open In Colab\"/></a>"
      ]
    },
    {
      "cell_type": "markdown",
      "metadata": {
        "id": "A88hxfsC2XKF"
      },
      "source": [
        "# Définir une fonction\n",
        "\n"
      ]
    },
    {
      "cell_type": "markdown",
      "metadata": {
        "id": "GP81K6nh2bls"
      },
      "source": [
        "Lorsque certaines portions de code se répètent à l'identique, il est pratique de donner un nom à une suite d'instructions.\n",
        "\n",
        "La notion de fonction permet de le faire simplement. "
      ]
    },
    {
      "cell_type": "markdown",
      "metadata": {
        "id": "_KeD3F097zK3"
      },
      "source": [
        "## Exemple : dessiner plusieurs carrés"
      ]
    },
    {
      "cell_type": "code",
      "metadata": {
        "id": "43jdO1z0oo0t",
        "outputId": "e10dcf80-b99f-4fcd-a8d3-885f1388d5a4",
        "colab": {
          "base_uri": "https://localhost:8080/",
          "height": 695
        }
      },
      "source": [
        "!pip3 install ColabTurtle\n",
        "from ColabTurtle.Turtle import *\n",
        "\n",
        "initializeTurtle(initial_speed=10)\n",
        "width(2)\n",
        "left(-90)\n",
        "\n",
        "\n",
        "# Dessin du grand carré\n",
        "penup()\n",
        "goto(200,450)\n",
        "pendown()\n",
        "for _ in range(4) :\n",
        "    forward(400)\n",
        "    left(90)\n",
        "\n",
        "#premier petit carré\n",
        "penup()\n",
        "goto(250,400)\n",
        "pendown()\n",
        "for _ in range(4):\n",
        "    forward(100)\n",
        "    left(90)\n",
        "\n",
        "#deuxième petit carré\n",
        "penup()\n",
        "goto(450,400)\n",
        "pendown()\n",
        "for _ in range(4):\n",
        "    forward(100)\n",
        "    left(90)\n",
        "\n",
        "#troisième petit carré\n",
        "penup()\n",
        "goto(450,200)\n",
        "pendown()\n",
        "for _ in range(4):\n",
        "    forward(100)\n",
        "    left(90)\n",
        "\n",
        "#quatrième petit carré\n",
        "penup()\n",
        "goto(250,200)\n",
        "pendown()\n",
        "for _ in range(4):\n",
        "    forward(100)\n",
        "    left(90)\n",
        "\n"
      ],
      "execution_count": 1,
      "outputs": [
        {
          "output_type": "stream",
          "text": [
            "Collecting ColabTurtle\n",
            "  Downloading https://files.pythonhosted.org/packages/49/01/6da7091c2c6c917cce99c000b89acb6aa27b66ef6eafc0c0ccf59b98694f/ColabTurtle-2.0.0.tar.gz\n",
            "Building wheels for collected packages: ColabTurtle\n",
            "  Building wheel for ColabTurtle (setup.py) ... \u001b[?25l\u001b[?25hdone\n",
            "  Created wheel for ColabTurtle: filename=ColabTurtle-2.0.0-cp36-none-any.whl size=4032 sha256=a1fcec9911086a52c511bfdb728b18e7fd1114839552c8b7622aaa02281fe8b8\n",
            "  Stored in directory: /root/.cache/pip/wheels/a8/29/ec/ad346f0042ae467cc74f4378916348faf975b07890651dcae7\n",
            "Successfully built ColabTurtle\n",
            "Installing collected packages: ColabTurtle\n",
            "Successfully installed ColabTurtle-2.0.0\n"
          ],
          "name": "stdout"
        },
        {
          "output_type": "display_data",
          "data": {
            "text/html": [
              "\n",
              "      <svg width=\"800\" height=\"500\">\n",
              "        <rect width=\"100%\" height=\"100%\" fill=\"black\"/>\n",
              "        <line x1=\"200\" y1=\"450\" x2=\"600.0\" y2=\"450.0\" stroke-linecap=\"round\" style=\"stroke:white;stroke-width:2\"/><line x1=\"600.0\" y1=\"450.0\" x2=\"599.9999999999999\" y2=\"50.0\" stroke-linecap=\"round\" style=\"stroke:white;stroke-width:2\"/><line x1=\"599.9999999999999\" y1=\"50.0\" x2=\"199.9999999999999\" y2=\"50.00000000000005\" stroke-linecap=\"round\" style=\"stroke:white;stroke-width:2\"/><line x1=\"199.9999999999999\" y1=\"50.00000000000005\" x2=\"199.99999999999991\" y2=\"450.00000000000006\" stroke-linecap=\"round\" style=\"stroke:white;stroke-width:2\"/><line x1=\"250\" y1=\"400\" x2=\"350.0\" y2=\"400.0\" stroke-linecap=\"round\" style=\"stroke:white;stroke-width:2\"/><line x1=\"350.0\" y1=\"400.0\" x2=\"350.0\" y2=\"300.0\" stroke-linecap=\"round\" style=\"stroke:white;stroke-width:2\"/><line x1=\"350.0\" y1=\"300.0\" x2=\"250.0\" y2=\"300.0\" stroke-linecap=\"round\" style=\"stroke:white;stroke-width:2\"/><line x1=\"250.0\" y1=\"300.0\" x2=\"250.0\" y2=\"400.0\" stroke-linecap=\"round\" style=\"stroke:white;stroke-width:2\"/><line x1=\"450\" y1=\"400\" x2=\"550.0\" y2=\"400.0\" stroke-linecap=\"round\" style=\"stroke:white;stroke-width:2\"/><line x1=\"550.0\" y1=\"400.0\" x2=\"550.0\" y2=\"300.0\" stroke-linecap=\"round\" style=\"stroke:white;stroke-width:2\"/><line x1=\"550.0\" y1=\"300.0\" x2=\"450.0\" y2=\"300.0\" stroke-linecap=\"round\" style=\"stroke:white;stroke-width:2\"/><line x1=\"450.0\" y1=\"300.0\" x2=\"450.0\" y2=\"400.0\" stroke-linecap=\"round\" style=\"stroke:white;stroke-width:2\"/><line x1=\"450\" y1=\"200\" x2=\"550.0\" y2=\"200.0\" stroke-linecap=\"round\" style=\"stroke:white;stroke-width:2\"/><line x1=\"550.0\" y1=\"200.0\" x2=\"550.0\" y2=\"100.0\" stroke-linecap=\"round\" style=\"stroke:white;stroke-width:2\"/><line x1=\"550.0\" y1=\"100.0\" x2=\"450.0\" y2=\"100.00000000000001\" stroke-linecap=\"round\" style=\"stroke:white;stroke-width:2\"/><line x1=\"450.0\" y1=\"100.00000000000001\" x2=\"450.0\" y2=\"200.0\" stroke-linecap=\"round\" style=\"stroke:white;stroke-width:2\"/><line x1=\"250\" y1=\"200\" x2=\"350.0\" y2=\"200.0\" stroke-linecap=\"round\" style=\"stroke:white;stroke-width:2\"/><line x1=\"350.0\" y1=\"200.0\" x2=\"350.0\" y2=\"100.0\" stroke-linecap=\"round\" style=\"stroke:white;stroke-width:2\"/><line x1=\"350.0\" y1=\"100.0\" x2=\"250.0\" y2=\"100.00000000000001\" stroke-linecap=\"round\" style=\"stroke:white;stroke-width:2\"/><line x1=\"250.0\" y1=\"100.00000000000001\" x2=\"250.0\" y2=\"200.0\" stroke-linecap=\"round\" style=\"stroke:white;stroke-width:2\"/>\n",
              "        \n",
              "      <g visibility=visible transform=\"rotate(-90,250.0,200.0) translate(250.0, 200.0)\">\n",
              "        <circle stroke=\"white\" stroke-width=\"3\" fill=\"transparent\" r=\"12\" cx=\"0\" cy=\"0\"/>\n",
              "        <polygon points=\"0,19 3,16 -3,16\" style=\"fill:white;stroke:white;stroke-width:2\"/>\n",
              "      </g>\n",
              "    \n",
              "      </svg>\n",
              "    "
            ],
            "text/plain": [
              "<IPython.core.display.HTML object>"
            ]
          },
          "metadata": {
            "tags": []
          }
        }
      ]
    },
    {
      "cell_type": "markdown",
      "metadata": {
        "id": "IHtbJ9gi8slI"
      },
      "source": [
        "## Simplifier le code avec une fonction"
      ]
    },
    {
      "cell_type": "code",
      "metadata": {
        "id": "aE7cN0Au8vyF"
      },
      "source": [
        "def dessine_petit_carre():\n",
        "    for _ in range(4):\n",
        "        forward(100)\n",
        "        left(90)\n"
      ],
      "execution_count": 3,
      "outputs": []
    },
    {
      "cell_type": "markdown",
      "metadata": {
        "id": "ZSBAZ1qL88Tm"
      },
      "source": [
        "##Syntaxe d'une fonction\n",
        "\n",
        "* mot clé `def`\n",
        "* suivi du `nom_de_la_fonction`\n",
        "* suivi de `()`\n",
        "* suivi de ` : `\n",
        "\n",
        "Le corps de la fonction est **indenté**"
      ]
    },
    {
      "cell_type": "code",
      "metadata": {
        "id": "Yc_4cJj69atH",
        "outputId": "9f096998-09db-46c6-8de0-b38a54a54893",
        "colab": {
          "base_uri": "https://localhost:8080/",
          "height": 541
        }
      },
      "source": [
        "initializeTurtle(initial_speed=10)\n",
        "width(2)\n",
        "left(-90)\n",
        "\n",
        "# Dessin du grand carré\n",
        "penup()\n",
        "goto(200,450)\n",
        "pendown()\n",
        "for _ in range(4) :\n",
        "    forward(400)\n",
        "    left(90)\n",
        "\n",
        "#premier petit carré\n",
        "penup()\n",
        "goto(250,400)\n",
        "pendown()\n",
        "dessine_petit_carre()\n",
        "\n",
        "#deuxième petit carré\n",
        "penup()\n",
        "goto(450,400)\n",
        "pendown()\n",
        "dessine_petit_carre()\n",
        "\n",
        "#troisième petit carré\n",
        "penup()\n",
        "goto(450,200)\n",
        "pendown()\n",
        "dessine_petit_carre()\n",
        "\n",
        "#quatrième petit carré\n",
        "penup()\n",
        "goto(250,200)\n",
        "pendown()\n",
        "dessine_petit_carre()\n",
        "\n"
      ],
      "execution_count": 4,
      "outputs": [
        {
          "output_type": "display_data",
          "data": {
            "text/html": [
              "\n",
              "      <svg width=\"800\" height=\"500\">\n",
              "        <rect width=\"100%\" height=\"100%\" fill=\"black\"/>\n",
              "        <line x1=\"200\" y1=\"450\" x2=\"600.0\" y2=\"450.0\" stroke-linecap=\"round\" style=\"stroke:white;stroke-width:2\"/><line x1=\"600.0\" y1=\"450.0\" x2=\"599.9999999999999\" y2=\"50.0\" stroke-linecap=\"round\" style=\"stroke:white;stroke-width:2\"/><line x1=\"599.9999999999999\" y1=\"50.0\" x2=\"199.9999999999999\" y2=\"50.00000000000005\" stroke-linecap=\"round\" style=\"stroke:white;stroke-width:2\"/><line x1=\"199.9999999999999\" y1=\"50.00000000000005\" x2=\"199.99999999999991\" y2=\"450.00000000000006\" stroke-linecap=\"round\" style=\"stroke:white;stroke-width:2\"/><line x1=\"250\" y1=\"400\" x2=\"350.0\" y2=\"400.0\" stroke-linecap=\"round\" style=\"stroke:white;stroke-width:2\"/><line x1=\"350.0\" y1=\"400.0\" x2=\"350.0\" y2=\"300.0\" stroke-linecap=\"round\" style=\"stroke:white;stroke-width:2\"/><line x1=\"350.0\" y1=\"300.0\" x2=\"250.0\" y2=\"300.0\" stroke-linecap=\"round\" style=\"stroke:white;stroke-width:2\"/><line x1=\"250.0\" y1=\"300.0\" x2=\"250.0\" y2=\"400.0\" stroke-linecap=\"round\" style=\"stroke:white;stroke-width:2\"/><line x1=\"450\" y1=\"400\" x2=\"550.0\" y2=\"400.0\" stroke-linecap=\"round\" style=\"stroke:white;stroke-width:2\"/><line x1=\"550.0\" y1=\"400.0\" x2=\"550.0\" y2=\"300.0\" stroke-linecap=\"round\" style=\"stroke:white;stroke-width:2\"/><line x1=\"550.0\" y1=\"300.0\" x2=\"450.0\" y2=\"300.0\" stroke-linecap=\"round\" style=\"stroke:white;stroke-width:2\"/><line x1=\"450.0\" y1=\"300.0\" x2=\"450.0\" y2=\"400.0\" stroke-linecap=\"round\" style=\"stroke:white;stroke-width:2\"/><line x1=\"450\" y1=\"200\" x2=\"550.0\" y2=\"200.0\" stroke-linecap=\"round\" style=\"stroke:white;stroke-width:2\"/><line x1=\"550.0\" y1=\"200.0\" x2=\"550.0\" y2=\"100.0\" stroke-linecap=\"round\" style=\"stroke:white;stroke-width:2\"/><line x1=\"550.0\" y1=\"100.0\" x2=\"450.0\" y2=\"100.00000000000001\" stroke-linecap=\"round\" style=\"stroke:white;stroke-width:2\"/><line x1=\"450.0\" y1=\"100.00000000000001\" x2=\"450.0\" y2=\"200.0\" stroke-linecap=\"round\" style=\"stroke:white;stroke-width:2\"/><line x1=\"250\" y1=\"200\" x2=\"350.0\" y2=\"200.0\" stroke-linecap=\"round\" style=\"stroke:white;stroke-width:2\"/><line x1=\"350.0\" y1=\"200.0\" x2=\"350.0\" y2=\"100.0\" stroke-linecap=\"round\" style=\"stroke:white;stroke-width:2\"/><line x1=\"350.0\" y1=\"100.0\" x2=\"250.0\" y2=\"100.00000000000001\" stroke-linecap=\"round\" style=\"stroke:white;stroke-width:2\"/><line x1=\"250.0\" y1=\"100.00000000000001\" x2=\"250.0\" y2=\"200.0\" stroke-linecap=\"round\" style=\"stroke:white;stroke-width:2\"/>\n",
              "        \n",
              "      <g visibility=visible transform=\"rotate(-90,250.0,200.0) translate(250.0, 200.0)\">\n",
              "        <circle stroke=\"white\" stroke-width=\"3\" fill=\"transparent\" r=\"12\" cx=\"0\" cy=\"0\"/>\n",
              "        <polygon points=\"0,19 3,16 -3,16\" style=\"fill:white;stroke:white;stroke-width:2\"/>\n",
              "      </g>\n",
              "    \n",
              "      </svg>\n",
              "    "
            ],
            "text/plain": [
              "<IPython.core.display.HTML object>"
            ]
          },
          "metadata": {
            "tags": []
          }
        }
      ]
    },
    {
      "cell_type": "markdown",
      "metadata": {
        "id": "WbliZ5Ix9sWU"
      },
      "source": [
        "Pour exécuter une fonction, on fait **appel** à la fonction en écrivant son nom suivi des parentèses.\n",
        "\n",
        "Ainsi : `dessine_petit_carre()`  devient une instruction comme `penup()` ou `pendown()`"
      ]
    },
    {
      "cell_type": "markdown",
      "metadata": {
        "id": "ZsBhkt0R-NC3"
      },
      "source": [
        "# Définir une fonction avec paramètres"
      ]
    },
    {
      "cell_type": "markdown",
      "metadata": {
        "id": "ha_k3pRg-S23"
      },
      "source": [
        "On peut encore améliorer notre définition de fonction en observant les similitudes de construction du grand carré et des petits carrés.\n",
        "\n",
        "    # Dessin du grand carré\n",
        "    penup()\n",
        "    goto(200,450)\n",
        "    pendown()\n",
        "    for _ in range(4) :\n",
        "        forward(400)\n",
        "        left(90)\n",
        "\n",
        "    #premier petit carré\n",
        "    penup()\n",
        "    goto(250,400)\n",
        "    pendown()\n",
        "    for _ in range(4):\n",
        "        forward(100)\n",
        "        left(90)"
      ]
    },
    {
      "cell_type": "markdown",
      "metadata": {
        "id": "KS4eBPnG-8Yt"
      },
      "source": [
        "Presque tout le code est indentique sauf : \n",
        "* les coordonnées du point de départ\n",
        "* la valeur du paramètre de forward()\n",
        "\n",
        "On peut définir une nouvelle fonction `dessine_carre` de la manière suivante."
      ]
    },
    {
      "cell_type": "code",
      "metadata": {
        "id": "iDg0LwJw_Q4h"
      },
      "source": [
        "def dessine_carre(x,y,long) : \n",
        "    penup()\n",
        "    goto(x,y)\n",
        "    pendown()\n",
        "    for _ in range(4) :\n",
        "        forward(long)\n",
        "        left(90)"
      ],
      "execution_count": 9,
      "outputs": []
    },
    {
      "cell_type": "code",
      "metadata": {
        "id": "PscYjaDPAfLr",
        "outputId": "3c34cf2e-c035-4b55-a11a-929e72b5f280",
        "colab": {
          "base_uri": "https://localhost:8080/",
          "height": 541
        }
      },
      "source": [
        "initializeTurtle(initial_speed=10)\n",
        "width(2)\n",
        "left(-90)\n",
        "\n",
        "# Dessin du grand carré\n",
        "dessine_carre(200,450,400)\n",
        "\n",
        "#premier petit carré\n",
        "dessine_carre(250,400,100)\n",
        "\n",
        "#deuxième petit carré\n",
        "dessine_carre(450,400,100)\n",
        "\n",
        "#troisième petit carré\n",
        "dessine_carre(450,200,100)\n",
        "\n",
        "#quatrième petit carré\n",
        "dessine_carre(250,200,100)\n"
      ],
      "execution_count": 12,
      "outputs": [
        {
          "output_type": "display_data",
          "data": {
            "text/html": [
              "\n",
              "      <svg width=\"800\" height=\"500\">\n",
              "        <rect width=\"100%\" height=\"100%\" fill=\"black\"/>\n",
              "        <line x1=\"200\" y1=\"450\" x2=\"600.0\" y2=\"450.0\" stroke-linecap=\"round\" style=\"stroke:white;stroke-width:2\"/><line x1=\"600.0\" y1=\"450.0\" x2=\"599.9999999999999\" y2=\"50.0\" stroke-linecap=\"round\" style=\"stroke:white;stroke-width:2\"/><line x1=\"599.9999999999999\" y1=\"50.0\" x2=\"199.9999999999999\" y2=\"50.00000000000005\" stroke-linecap=\"round\" style=\"stroke:white;stroke-width:2\"/><line x1=\"199.9999999999999\" y1=\"50.00000000000005\" x2=\"199.99999999999991\" y2=\"450.00000000000006\" stroke-linecap=\"round\" style=\"stroke:white;stroke-width:2\"/><line x1=\"250\" y1=\"400\" x2=\"350.0\" y2=\"400.0\" stroke-linecap=\"round\" style=\"stroke:white;stroke-width:2\"/><line x1=\"350.0\" y1=\"400.0\" x2=\"350.0\" y2=\"300.0\" stroke-linecap=\"round\" style=\"stroke:white;stroke-width:2\"/><line x1=\"350.0\" y1=\"300.0\" x2=\"250.0\" y2=\"300.0\" stroke-linecap=\"round\" style=\"stroke:white;stroke-width:2\"/><line x1=\"250.0\" y1=\"300.0\" x2=\"250.0\" y2=\"400.0\" stroke-linecap=\"round\" style=\"stroke:white;stroke-width:2\"/><line x1=\"450\" y1=\"400\" x2=\"550.0\" y2=\"400.0\" stroke-linecap=\"round\" style=\"stroke:white;stroke-width:2\"/><line x1=\"550.0\" y1=\"400.0\" x2=\"550.0\" y2=\"300.0\" stroke-linecap=\"round\" style=\"stroke:white;stroke-width:2\"/><line x1=\"550.0\" y1=\"300.0\" x2=\"450.0\" y2=\"300.0\" stroke-linecap=\"round\" style=\"stroke:white;stroke-width:2\"/><line x1=\"450.0\" y1=\"300.0\" x2=\"450.0\" y2=\"400.0\" stroke-linecap=\"round\" style=\"stroke:white;stroke-width:2\"/><line x1=\"450\" y1=\"200\" x2=\"550.0\" y2=\"200.0\" stroke-linecap=\"round\" style=\"stroke:white;stroke-width:2\"/><line x1=\"550.0\" y1=\"200.0\" x2=\"550.0\" y2=\"100.0\" stroke-linecap=\"round\" style=\"stroke:white;stroke-width:2\"/><line x1=\"550.0\" y1=\"100.0\" x2=\"450.0\" y2=\"100.00000000000001\" stroke-linecap=\"round\" style=\"stroke:white;stroke-width:2\"/><line x1=\"450.0\" y1=\"100.00000000000001\" x2=\"450.0\" y2=\"200.0\" stroke-linecap=\"round\" style=\"stroke:white;stroke-width:2\"/><line x1=\"250\" y1=\"200\" x2=\"350.0\" y2=\"200.0\" stroke-linecap=\"round\" style=\"stroke:white;stroke-width:2\"/><line x1=\"350.0\" y1=\"200.0\" x2=\"350.0\" y2=\"100.0\" stroke-linecap=\"round\" style=\"stroke:white;stroke-width:2\"/><line x1=\"350.0\" y1=\"100.0\" x2=\"250.0\" y2=\"100.00000000000001\" stroke-linecap=\"round\" style=\"stroke:white;stroke-width:2\"/><line x1=\"250.0\" y1=\"100.00000000000001\" x2=\"250.0\" y2=\"200.0\" stroke-linecap=\"round\" style=\"stroke:white;stroke-width:2\"/>\n",
              "        \n",
              "      <g visibility=visible transform=\"rotate(-90,250.0,200.0) translate(250.0, 200.0)\">\n",
              "        <circle stroke=\"white\" stroke-width=\"3\" fill=\"transparent\" r=\"12\" cx=\"0\" cy=\"0\"/>\n",
              "        <polygon points=\"0,19 3,16 -3,16\" style=\"fill:white;stroke:white;stroke-width:2\"/>\n",
              "      </g>\n",
              "    \n",
              "      </svg>\n",
              "    "
            ],
            "text/plain": [
              "<IPython.core.display.HTML object>"
            ]
          },
          "metadata": {
            "tags": []
          }
        }
      ]
    },
    {
      "cell_type": "markdown",
      "metadata": {
        "id": "Gl2T06BkCS2w"
      },
      "source": [
        "## Vocabulaire\n",
        "\n",
        "* La fonction `dessine_carre(x,y,long)` possède trois **paramètres** : `x` `y` et `long`\n",
        "* Ces **paramètres formels** sont des **variables** utilisées pour **définir** la fonction.\n",
        "* lorsqu'on fait **appel** à la fonction, des **valeurs** sont fournies pour chacun des paramètres formels :  `x y long`. \n",
        "* Ces valeurs sont parfois appelées **paramètres réels** ou **arguments**. \n",
        "\n",
        "Ainsi:\n",
        "* pour dessiner un \"petit carré\" la valeur du paramètre `long` vaut 100.\n",
        "* pour dessiner un \"grand carré\" la valeur du paramètre `long` vaut 400."
      ]
    },
    {
      "cell_type": "markdown",
      "metadata": {
        "id": "A8TlfcCMDtao"
      },
      "source": [
        "# Fonction qui renvoie un résultat"
      ]
    },
    {
      "cell_type": "markdown",
      "metadata": {
        "id": "knTLaNM7Dxb3"
      },
      "source": [
        "On peut définir une fonction en python, qui renvoie un résultat (comme le fait une fonction mathématique)."
      ]
    },
    {
      "cell_type": "code",
      "metadata": {
        "id": "GZWevgtZD3-X"
      },
      "source": [
        "def f(x):\n",
        "    y =  3*x+5\n",
        "    return y "
      ],
      "execution_count": 22,
      "outputs": []
    },
    {
      "cell_type": "markdown",
      "metadata": {
        "id": "3b_hPof1D8oX"
      },
      "source": [
        "Lorsqu'on fait appel à cette fonction, python calcule la valeur qui suit l'expression **`return`**"
      ]
    },
    {
      "cell_type": "code",
      "metadata": {
        "id": "TaD2VqFOEE8S",
        "outputId": "316e9d35-c4f7-42fe-cd93-60024d4df91b",
        "colab": {
          "base_uri": "https://localhost:8080/",
          "height": 34
        }
      },
      "source": [
        "a = f(0)\n",
        "print(a)"
      ],
      "execution_count": 25,
      "outputs": [
        {
          "output_type": "stream",
          "text": [
            "5\n"
          ],
          "name": "stdout"
        }
      ]
    },
    {
      "cell_type": "code",
      "metadata": {
        "id": "ugcQZ4ABEIyn",
        "outputId": "4047e9e6-2966-470e-c7b5-41f30f3ab236",
        "colab": {
          "base_uri": "https://localhost:8080/",
          "height": 34
        }
      },
      "source": [
        "b = f(10)\n",
        "print(b)"
      ],
      "execution_count": 15,
      "outputs": [
        {
          "output_type": "stream",
          "text": [
            "35\n"
          ],
          "name": "stdout"
        }
      ]
    },
    {
      "cell_type": "markdown",
      "metadata": {
        "id": "A5GDave6EPhQ"
      },
      "source": [
        "## A retenir : \n",
        "\n",
        "Lorsqu'une fonction **renvoie un résultat** (avec l'instruction return) un appel à cette fonction définit une **VALEUR**. Exemple : `f(0)` vaut 5\n",
        "\n",
        "Lorsqu'une fonction **ne renvoie aucun résultat**, un appel à cette fonction définit une **INSTRUCTION**. Exemple : `dessine_carre(250,200,100)`. En algorithmique, une telle instruction est appelée **procédure** plutôt que \"fonction\". \n",
        "\n",
        "En python, la même syntaxe permet de définir aussi bien une fonction qu'une procédure : on pourra parler de 'fonction' dans tous les cas. \n",
        "\n",
        "En python, une procédure est simplement une fonction qui ne renvoie aucun résultat. En fait, une telle fonction renvoie le resultat `None` : qui représente justement l'absence de résultat !"
      ]
    },
    {
      "cell_type": "markdown",
      "metadata": {
        "id": "kXQmNd5oGKjs"
      },
      "source": [
        "Exemples : dire si chaque code suivant définit une fonction ou une procédure."
      ]
    },
    {
      "cell_type": "code",
      "metadata": {
        "id": "UdHrVLbIGS2n"
      },
      "source": [
        "def suivant(n): # procédure\n",
        "    print(n+1)"
      ],
      "execution_count": 26,
      "outputs": []
    },
    {
      "cell_type": "code",
      "metadata": {
        "id": "GjZafuVRGWKP"
      },
      "source": [
        "def successeur(n): # fonction\n",
        "    return n+1"
      ],
      "execution_count": 27,
      "outputs": []
    },
    {
      "cell_type": "markdown",
      "metadata": {
        "id": "rrQ-sx7dGdw4"
      },
      "source": [
        "En mode interactif (console) la différence entre suivant et successeur n'est pas toujours visible..."
      ]
    },
    {
      "cell_type": "code",
      "metadata": {
        "id": "x41VbC6LGmqB",
        "outputId": "cec3f943-d25d-4409-c9dd-5a28b0b08edb",
        "colab": {
          "base_uri": "https://localhost:8080/",
          "height": 34
        }
      },
      "source": [
        "suivant(4)"
      ],
      "execution_count": 28,
      "outputs": [
        {
          "output_type": "stream",
          "text": [
            "5\n"
          ],
          "name": "stdout"
        }
      ]
    },
    {
      "cell_type": "code",
      "metadata": {
        "id": "no407W0wGpxQ",
        "outputId": "56acb616-d558-4d75-9495-d80edc63c152",
        "colab": {
          "base_uri": "https://localhost:8080/",
          "height": 34
        }
      },
      "source": [
        "successeur(4)"
      ],
      "execution_count": 29,
      "outputs": [
        {
          "output_type": "execute_result",
          "data": {
            "text/plain": [
              "5"
            ]
          },
          "metadata": {
            "tags": []
          },
          "execution_count": 29
        }
      ]
    },
    {
      "cell_type": "markdown",
      "metadata": {
        "id": "4GBwjqryGs2C"
      },
      "source": [
        "Mais les deux instructions ne sont pas équivalentes"
      ]
    },
    {
      "cell_type": "code",
      "metadata": {
        "id": "mAI_xVQtGuwZ",
        "outputId": "ab79488b-bcd3-4685-edb4-fad3e02f512e",
        "colab": {
          "base_uri": "https://localhost:8080/",
          "height": 34
        }
      },
      "source": [
        "def successeur(n): # fonction\n",
        "    return n+1\n",
        "    \n",
        "a = successeur(4)\n",
        "print(a)"
      ],
      "execution_count": 30,
      "outputs": [
        {
          "output_type": "stream",
          "text": [
            "5\n"
          ],
          "name": "stdout"
        }
      ]
    },
    {
      "cell_type": "code",
      "metadata": {
        "id": "5J1VRFARHUh_",
        "outputId": "84ba48ba-6530-4564-9382-24216ef6a548",
        "colab": {
          "base_uri": "https://localhost:8080/",
          "height": 51
        }
      },
      "source": [
        "def suivant(n): # procédure\n",
        "    print(n+1)\n",
        "\n",
        "a = suivant(4)\n",
        "print(a)"
      ],
      "execution_count": 31,
      "outputs": [
        {
          "output_type": "stream",
          "text": [
            "5\n",
            "None\n"
          ],
          "name": "stdout"
        }
      ]
    },
    {
      "cell_type": "markdown",
      "metadata": {
        "id": "5qna57R6G5XF"
      },
      "source": [
        "## Une fonction qui renvoie plusieurs résultats ?"
      ]
    },
    {
      "cell_type": "code",
      "metadata": {
        "id": "rEUSgqbIG9Wg",
        "outputId": "63da8569-0c4b-4f41-8101-6aa0bf151acf",
        "colab": {
          "base_uri": "https://localhost:8080/",
          "height": 51
        }
      },
      "source": [
        "def division_euclidienne(a,b):\n",
        "    quotient = a // b\n",
        "    reste = a % b\n",
        "    return (quotient, reste)\n",
        "\n",
        "(q,r) = division_euclidienne (2020, 500)\n",
        "\n",
        "print(q)\n",
        "print(r)"
      ],
      "execution_count": 32,
      "outputs": [
        {
          "output_type": "stream",
          "text": [
            "4\n",
            "20\n"
          ],
          "name": "stdout"
        }
      ]
    },
    {
      "cell_type": "markdown",
      "metadata": {
        "id": "lVftlGF9Go-j"
      },
      "source": [
        "# `return` met fin à l'exécution de la fonction"
      ]
    },
    {
      "cell_type": "markdown",
      "metadata": {
        "id": "eRJZGW5SRAfZ"
      },
      "source": [
        "Lors de l'exécution d'une fonction, si une instruction return est exécutée, elle met fin automatiquement à l'exécution de la fonction.\n",
        "\n",
        "Voir l'exemple ci-dessous"
      ]
    },
    {
      "cell_type": "code",
      "metadata": {
        "id": "fGO2Q77mRJ6w"
      },
      "source": [
        "def premier(n):\n",
        "    for d in range(2,n):\n",
        "        r = n % d\n",
        "        if r == 0 :\n",
        "            return False\n",
        "    return True"
      ],
      "execution_count": null,
      "outputs": []
    },
    {
      "cell_type": "markdown",
      "metadata": {
        "id": "j2tBnZpmSCJS"
      },
      "source": [
        "[Visualiser l'exécution de premier(5) sur PythonTutor](http://www.pythontutor.com/visualize.html#code=def%20premier%28n%29%3A%0A%20%20%20%20for%20d%20in%20range%282,n%29%3A%0A%20%20%20%20%20%20%20%20r%20%3D%20n%20%25%20d%0A%20%20%20%20%20%20%20%20if%20r%20%3D%3D%200%20%3A%0A%20%20%20%20%20%20%20%20%20%20%20%20return%20False%0A%20%20%20%20return%20True%0A%0Aprint%28premier%285%29%29&cumulative=false&curInstr=0&heapPrimitives=nevernest&mode=display&origin=opt-frontend.js&py=3&rawInputLstJSON=%5B%5D&textReferences=false)"
      ]
    },
    {
      "cell_type": "markdown",
      "metadata": {
        "id": "4Q984xhRRYJQ"
      },
      "source": [
        "[Visualiser l'exécution de premier(8) sur PythonTutor](http://www.pythontutor.com/visualize.html#code=def%20premier%28n%29%3A%0A%20%20%20%20for%20d%20in%20range%282,n%29%3A%0A%20%20%20%20%20%20%20%20r%20%3D%20n%20%25%20d%0A%20%20%20%20%20%20%20%20if%20r%20%3D%3D%200%20%3A%0A%20%20%20%20%20%20%20%20%20%20%20%20return%20False%0A%20%20%20%20return%20True%0A%0Aprint%28premier%288%29%29&cumulative=false&curInstr=0&heapPrimitives=nevernest&mode=display&origin=opt-frontend.js&py=3&rawInputLstJSON=%5B%5D&textReferences=false)"
      ]
    },
    {
      "cell_type": "markdown",
      "metadata": {
        "id": "b2I23notGznU"
      },
      "source": [
        "# Gestion des variables lors des appels de fonction"
      ]
    },
    {
      "cell_type": "markdown",
      "metadata": {
        "id": "SdCb22cGTR_x"
      },
      "source": [
        "Les paramètres d'une fonction, et les variables qui sont définies dans le corps de la fonction sont appelées **variables locales à la fonction**\n",
        "\n",
        "Principe général : une variable locale à une fonction n'existe que pendant que cette fonction est exécutée. Ensuite, elle disparaît. "
      ]
    },
    {
      "cell_type": "code",
      "metadata": {
        "id": "M9p4XZ6LT-Tz"
      },
      "source": [
        "def f(x):\n",
        "    y = x**2\n",
        "    return y\n",
        "\n",
        "a = 10\n",
        "print(f(a))"
      ],
      "execution_count": null,
      "outputs": []
    },
    {
      "cell_type": "code",
      "metadata": {
        "id": "4RS2hNn3UHNm"
      },
      "source": [
        "print(a)"
      ],
      "execution_count": null,
      "outputs": []
    },
    {
      "cell_type": "code",
      "metadata": {
        "id": "rHmvKwyLUJwP"
      },
      "source": [
        "print(x)"
      ],
      "execution_count": null,
      "outputs": []
    },
    {
      "cell_type": "code",
      "metadata": {
        "id": "bOpp_6oOUoM-"
      },
      "source": [
        "print(y)"
      ],
      "execution_count": null,
      "outputs": []
    },
    {
      "cell_type": "markdown",
      "metadata": {
        "id": "N_rg1tKcUN5l"
      },
      "source": [
        "[visualiser l'exécution](http://www.pythontutor.com/visualize.html#code=def%20f%28x%29%3A%0A%20%20%20%20y%20%3D%20x**2%0A%20%20%20%20return%20y%0A%0Aa%20%3D%2010%0Aprint%28f%28a%29%29&cumulative=false&curInstr=0&heapPrimitives=nevernest&mode=display&origin=opt-frontend.js&py=3&rawInputLstJSON=%5B%5D&textReferences=false)"
      ]
    },
    {
      "cell_type": "markdown",
      "metadata": {
        "id": "IuUTqjeXWTik"
      },
      "source": [
        "## variable locale, variable globale"
      ]
    },
    {
      "cell_type": "markdown",
      "metadata": {
        "id": "4ffA-LDYVgfp"
      },
      "source": [
        "Il faut comprendre que tout se passe de la même manière, même lorsqu'une variable globale et une variable locale portent le même nom !\n",
        "\n",
        "Voir l'exemple ci-dessous"
      ]
    },
    {
      "cell_type": "code",
      "metadata": {
        "id": "VMGlXlo2VtiR"
      },
      "source": [
        "def f(x):\n",
        "    a = x**2\n",
        "    return a\n",
        "\n",
        "a = 10\n",
        "print(f(a))"
      ],
      "execution_count": null,
      "outputs": []
    },
    {
      "cell_type": "code",
      "metadata": {
        "id": "2d-s9NjvVzTJ"
      },
      "source": [
        "print(a)"
      ],
      "execution_count": null,
      "outputs": []
    },
    {
      "cell_type": "markdown",
      "metadata": {
        "id": "2CCetFarV7KT"
      },
      "source": [
        "[Visualiser l'exécution](http://www.pythontutor.com/visualize.html#code=def%20f%28x%29%3A%0A%20%20%20%20a%20%3D%20x**2%0A%20%20%20%20return%20a%0A%0Aa%20%3D%2010%0Aprint%28f%28a%29%29&cumulative=false&curInstr=0&heapPrimitives=nevernest&mode=display&origin=opt-frontend.js&py=3&rawInputLstJSON=%5B%5D&textReferences=false)"
      ]
    },
    {
      "cell_type": "markdown",
      "metadata": {
        "id": "Yufe2hHtWXrP"
      },
      "source": [
        "## variable locale et paramètre /  variable globale"
      ]
    },
    {
      "cell_type": "markdown",
      "metadata": {
        "id": "Qsig3rchWZZh"
      },
      "source": [
        "On peut utiliser le même nom de variable plusieurs fois : python distingue \n",
        "* les variables globales d'un côté\n",
        "*  les variables locales ou paramètres d'un autre côté"
      ]
    },
    {
      "cell_type": "code",
      "metadata": {
        "id": "IOQxeFCIWm0Q"
      },
      "source": [
        "def f(x):\n",
        "    x = x**2\n",
        "    return x\n",
        "\n",
        "x = 10\n",
        "print(f(x))"
      ],
      "execution_count": null,
      "outputs": []
    },
    {
      "cell_type": "code",
      "metadata": {
        "id": "eE2i1jndWvUw"
      },
      "source": [
        "print(x)"
      ],
      "execution_count": null,
      "outputs": []
    },
    {
      "cell_type": "markdown",
      "metadata": {
        "id": "SdLdxHmUXR7Q"
      },
      "source": [
        "[Visualiser l'exécution](http://www.pythontutor.com/visualize.html#code=def%20f%28x%29%3A%0A%20%20%20%20x%20%3D%20x**2%0A%20%20%20%20return%20x%0A%0Ax%20%3D%2010%0Aprint%28f%28x%29%29&cumulative=false&curInstr=0&heapPrimitives=nevernest&mode=display&origin=opt-frontend.js&py=3&rawInputLstJSON=%5B%5D&textReferences=false)"
      ]
    }
  ]
}