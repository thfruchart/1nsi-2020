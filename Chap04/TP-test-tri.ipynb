{
  "nbformat": 4,
  "nbformat_minor": 0,
  "metadata": {
    "colab": {
      "name": "Untitled0.ipynb",
      "provenance": [],
      "authorship_tag": "ABX9TyNEYDFfPW5xUJfBlTtsJMQ3",
      "include_colab_link": true
    },
    "kernelspec": {
      "name": "python3",
      "display_name": "Python 3"
    }
  },
  "cells": [
    {
      "cell_type": "markdown",
      "metadata": {
        "id": "view-in-github",
        "colab_type": "text"
      },
      "source": [
        "<a href=\"https://colab.research.google.com/github/thfruchart/1nsi-2020/blob/master/Chap04/TP-test-tri.ipynb\" target=\"_parent\"><img src=\"https://colab.research.google.com/assets/colab-badge.svg\" alt=\"Open In Colab\"/></a>"
      ]
    },
    {
      "cell_type": "markdown",
      "metadata": {
        "id": "MDeLx98aymRy"
      },
      "source": [
        "# TP du chapitre 4"
      ]
    },
    {
      "cell_type": "markdown",
      "metadata": {
        "id": "X-b92JZz16kN"
      },
      "source": [
        "## question 1"
      ]
    },
    {
      "cell_type": "code",
      "metadata": {
        "id": "wNKNcW2_yl1N",
        "outputId": "adde3113-b8e1-49b7-f5ec-baba99feee8c",
        "colab": {
          "base_uri": "https://localhost:8080/",
          "height": 35
        }
      },
      "source": [
        "def occurrences(t):\n",
        "    d = dict() #ou d = {}\n",
        "    for v in t:\n",
        "        if v in d: #ou v in d.keys()\n",
        "            d[v] += 1\n",
        "        else : \n",
        "            d[v] = 1\n",
        "    return d \n",
        "    \n",
        "\n",
        "t = [10,20,30,20,10,20]\n",
        "print(occurrences(t))"
      ],
      "execution_count": 5,
      "outputs": [
        {
          "output_type": "stream",
          "text": [
            "{10: 2, 20: 3, 30: 1}\n"
          ],
          "name": "stdout"
        }
      ]
    },
    {
      "cell_type": "markdown",
      "metadata": {
        "id": "WvN11DAd19B7"
      },
      "source": [
        "## question 2"
      ]
    },
    {
      "cell_type": "code",
      "metadata": {
        "id": "0a7f-l0z5Bdc"
      },
      "source": [
        "def compare_dico(d1, d2):\n",
        "    for k in d1:\n",
        "        if k in d2:\n",
        "            if d1[k] != d2[k]:\n",
        "                return False  \n",
        "        else :\n",
        "            return False\n",
        "    for k in d2:\n",
        "        if k in d1:\n",
        "            if d1[k] != d2[k]:\n",
        "                return False  \n",
        "        else :\n",
        "            return False\n",
        "    return True      \n"
      ],
      "execution_count": null,
      "outputs": []
    },
    {
      "cell_type": "code",
      "metadata": {
        "id": "LfZVu7yn5ac2",
        "outputId": "9fbe7266-39f8-4587-ded6-cf78f9351e77",
        "colab": {
          "base_uri": "https://localhost:8080/",
          "height": 35
        }
      },
      "source": [
        "{10:1,20:2 } == {20:2, 10:1}"
      ],
      "execution_count": 6,
      "outputs": [
        {
          "output_type": "execute_result",
          "data": {
            "text/plain": [
              "True"
            ]
          },
          "metadata": {
            "tags": []
          },
          "execution_count": 6
        }
      ]
    }
  ]
}