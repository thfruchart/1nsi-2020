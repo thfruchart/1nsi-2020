{
  "nbformat": 4,
  "nbformat_minor": 0,
  "metadata": {
    "colab": {
      "name": "Chap13_ACTIVITE_RechercheListe.ipynb",
      "provenance": [],
      "collapsed_sections": [],
      "authorship_tag": "ABX9TyNvkU6k1QbE66jUq6aJR19x",
      "include_colab_link": true
    },
    "kernelspec": {
      "name": "python3",
      "display_name": "Python 3"
    }
  },
  "cells": [
    {
      "cell_type": "markdown",
      "metadata": {
        "id": "view-in-github",
        "colab_type": "text"
      },
      "source": [
        "<a href=\"https://colab.research.google.com/github/thfruchart/1nsi-2020/blob/master/Chap13/ACTIVITE_RechercheListe.ipynb\" target=\"_parent\"><img src=\"https://colab.research.google.com/assets/colab-badge.svg\" alt=\"Open In Colab\"/></a>"
      ]
    },
    {
      "cell_type": "markdown",
      "metadata": {
        "id": "0NCZOOSj2rwn"
      },
      "source": [
        "# Rechercher une valeur dans une liste"
      ]
    },
    {
      "cell_type": "markdown",
      "metadata": {
        "id": "LwbJo5rP3MU9"
      },
      "source": [
        "## Exemple 1"
      ]
    },
    {
      "cell_type": "markdown",
      "metadata": {
        "id": "6AfdSWuo2u0u"
      },
      "source": [
        "On donne la fonction suivante : "
      ]
    },
    {
      "cell_type": "code",
      "metadata": {
        "id": "iKQCE9Lp2rLd"
      },
      "source": [
        "def est_present(t, e) :\r\n",
        "    for i in range(len(t)):\r\n",
        "        if t[i] == e :\r\n",
        "            return True\r\n",
        "    return False\r\n",
        "    \r\n",
        "print(est_present([3,5,12,15,48],4))\r\n",
        "print(est_present([3,5,12,15,48],3))"
      ],
      "execution_count": null,
      "outputs": []
    },
    {
      "cell_type": "markdown",
      "metadata": {
        "id": "BrLfxTGCWMlJ"
      },
      "source": [
        "1. effectuer le suivi des variables lorsqu'on exécute : \r\n",
        "`est_present([3,5,12,15,48],4)`\r\n",
        "1. effectuer le suivi des variables lorsqu'on exécute : \r\n",
        "`est_present([3,5,12,15,48],3)`\r\n",
        "\r\n",
        "Vérifier sur PythonTutor:\r\n",
        "* [est_present([3,5,12,15,48],4)](http://www.pythontutor.com/visualize.html#code=def%20est_present%28t,%20e%29%20%3A%0A%20%20%20%20for%20i%20in%20range%28len%28t%29%29%3A%0A%20%20%20%20%20%20%20%20if%20t%5Bi%5D%20%3D%3D%20e%20%3A%0A%20%20%20%20%20%20%20%20%20%20%20%20return%20True%0A%20%20%20%20return%20False%0A%20%20%20%20%0Aprint%28est_present%28%5B3,5,12,15,48%5D,4%29%29&cumulative=false&curInstr=0&heapPrimitives=nevernest&mode=display&origin=opt-frontend.js&py=3&rawInputLstJSON=%5B%5D&textReferences=false)\r\n",
        "* [est_present([3,5,12,15,48],3)](http://www.pythontutor.com/visualize.html#code=def%20est_present%28t,%20e%29%20%3A%0A%20%20%20%20for%20i%20in%20range%28len%28t%29%29%3A%0A%20%20%20%20%20%20%20%20if%20t%5Bi%5D%20%3D%3D%20e%20%3A%0A%20%20%20%20%20%20%20%20%20%20%20%20return%20True%0A%20%20%20%20return%20False%0A%20%20%20%20%0Aprint%28est_present%28%5B3,5,12,15,48%5D,3%29%29&cumulative=false&curInstr=0&heapPrimitives=nevernest&mode=display&origin=opt-frontend.js&py=3&rawInputLstJSON=%5B%5D&textReferences=false)"
      ]
    },
    {
      "cell_type": "markdown",
      "metadata": {
        "id": "p9E6lfcv28ua"
      },
      "source": [
        "#### Combien de fois la boucle for de la fonction `est_present`  sera-t-elle exécutée dans chacun des cas suivants ? \r\n",
        "\r\n",
        "1. on cherche si 5  est présent dans `[1,2,3,4,5,6,7,8,9,10]`\r\n",
        "2. on cherche si 10 est présent dans `[1,2,3,4,5,6,7,8,9,10]`\r\n",
        "3. on cherche si 5 est présent dans ` [0,0,0,0,0,0,0,0,0,0]`\r\n",
        "4. on cherche si 1 est présent dans : `[0 for i in range(1000)] `"
      ]
    },
    {
      "cell_type": "markdown",
      "metadata": {
        "id": "jCGdy2Zl3VSQ"
      },
      "source": [
        "## Exemple 2"
      ]
    },
    {
      "cell_type": "code",
      "metadata": {
        "id": "mGd5d1O23ZEu"
      },
      "source": [
        "def mystere(t, e):\r\n",
        "    indiceGauche = 0\r\n",
        "    indiceDroite = len(t) - 1\r\n",
        "    while (indiceGauche <= indiceDroite) :\r\n",
        "        indiceMedian = (indiceGauche + indiceDroite) // 2\r\n",
        "        if t[indiceMedian] == e:\r\n",
        "                return True\r\n",
        "        elif t[indiceMedian] < e:\r\n",
        "                indiceGauche = indiceMedian + 1\r\n",
        "        else:\r\n",
        "                indiceDroite = indiceMedian - 1\r\n",
        "    return False\r\n",
        "\r\n",
        "\r\n",
        "print(mystere([2, 12, 17, 25, 33, 35, 44, 54, 77, 91], 35))\r\n",
        "print(mystere([2, 12, 17, 25, 33, 35, 44, 54, 77, 91], 50))"
      ],
      "execution_count": null,
      "outputs": []
    },
    {
      "cell_type": "markdown",
      "metadata": {
        "id": "EwTtiQiaYS-N"
      },
      "source": [
        "1. effectuer le suivi des variables lorsqu'on exécute : \r\n",
        "`mystere([2, 12, 17, 25, 33, 35, 44, 54, 77, 91], 35))`\r\n",
        "1. effectuer le suivi des variables lorsqu'on exécute : \r\n",
        "`mystere([2, 12, 17, 25, 33, 35, 44, 54, 77, 91], 50))`\r\n",
        "\r\n",
        "Vérifier sur PythonTutor:\r\n",
        "* [mystere([2, 12, 17, 25, 33, 35, 44, 54, 77, 91], 35)](http://www.pythontutor.com/visualize.html#code=def%20mystere%28t,%20e%29%3A%0A%20%20%20%20indiceGauche%20%3D%200%0A%20%20%20%20indiceDroite%20%3D%20len%28t%29%20-%201%0A%20%20%20%20while%20%28indiceGauche%20%3C%3D%20indiceDroite%29%20%3A%0A%20%20%20%20%20%20%20%20indiceMedian%20%3D%20%28indiceGauche%20%2B%20indiceDroite%29%20//%202%0A%20%20%20%20%20%20%20%20if%20t%5BindiceMedian%5D%20%3D%3D%20e%3A%0A%20%20%20%20%20%20%20%20%20%20%20%20%20%20%20%20return%20True%0A%20%20%20%20%20%20%20%20elif%20t%5BindiceMedian%5D%20%3C%20e%3A%0A%20%20%20%20%20%20%20%20%20%20%20%20%20%20%20%20indiceGauche%20%3D%20indiceMedian%20%2B%201%0A%20%20%20%20%20%20%20%20else%3A%0A%20%20%20%20%20%20%20%20%20%20%20%20%20%20%20%20indiceDroite%20%3D%20indiceMedian%20-%201%0A%20%20%20%20return%20False%0A%0A%0Aprint%28mystere%28%5B2,%2012,%2017,%2025,%2033,%2035,%2044,%2054,%2077,%2091%5D,%2035%29%29&cumulative=false&curInstr=0&heapPrimitives=nevernest&mode=display&origin=opt-frontend.js&py=3&rawInputLstJSON=%5B%5D&textReferences=false)\r\n",
        "* [mystere([2, 12, 17, 25, 33, 35, 44, 54, 77, 91], 50))](http://www.pythontutor.com/visualize.html#code=def%20mystere%28t,%20e%29%3A%0A%20%20%20%20indiceGauche%20%3D%200%0A%20%20%20%20indiceDroite%20%3D%20len%28t%29%20-%201%0A%20%20%20%20while%20%28indiceGauche%20%3C%3D%20indiceDroite%29%20%3A%0A%20%20%20%20%20%20%20%20indiceMedian%20%3D%20%28indiceGauche%20%2B%20indiceDroite%29%20//%202%0A%20%20%20%20%20%20%20%20if%20t%5BindiceMedian%5D%20%3D%3D%20e%3A%0A%20%20%20%20%20%20%20%20%20%20%20%20%20%20%20%20return%20True%0A%20%20%20%20%20%20%20%20elif%20t%5BindiceMedian%5D%20%3C%20e%3A%0A%20%20%20%20%20%20%20%20%20%20%20%20%20%20%20%20indiceGauche%20%3D%20indiceMedian%20%2B%201%0A%20%20%20%20%20%20%20%20else%3A%0A%20%20%20%20%20%20%20%20%20%20%20%20%20%20%20%20indiceDroite%20%3D%20indiceMedian%20-%201%0A%20%20%20%20return%20False%0A%0A%0Aprint%28mystere%28%5B2,%2012,%2017,%2025,%2033,%2035,%2044,%2054,%2077,%2091%5D,%2050%29%29&cumulative=false&curInstr=0&heapPrimitives=nevernest&mode=display&origin=opt-frontend.js&py=3&rawInputLstJSON=%5B%5D&textReferences=false)"
      ]
    },
    {
      "cell_type": "markdown",
      "metadata": {
        "id": "CLlgl9643kAb"
      },
      "source": [
        "#### Questions sur cette fonction `mystere`\r\n",
        "* A quelle précondition sur le tableau t la fonction mystère permet-elle de détecter la présence d'un élément e dans t ?\r\n",
        "* Dans quel cas l'exécution de `mystere(t, e)` est-elle la plus longue possible ? "
      ]
    },
    {
      "cell_type": "markdown",
      "metadata": {
        "id": "3qiPIVJ74Q0Z"
      },
      "source": [
        "## Approche de la complexité en temps de ces deux fonctions"
      ]
    },
    {
      "cell_type": "markdown",
      "metadata": {
        "id": "bJKC5E5zZSV8"
      },
      "source": [
        "## fonction `est_present`"
      ]
    },
    {
      "cell_type": "code",
      "metadata": {
        "id": "DoMV8UQ94XPR"
      },
      "source": [
        "def nb_boucles_est_present(t, e) :\r\n",
        "    cpt = 0\r\n",
        "    for i in range(len(t)):\r\n",
        "        cpt += 1\r\n",
        "        if t[i] == e :\r\n",
        "            return cpt\r\n",
        "    return cpt \r\n",
        "\r\n",
        "e = int(input('Entrer un entier : '))\r\n",
        "print(nb_boucles_est_present([10,20,30,40,50,60,70,80,90,100],e))"
      ],
      "execution_count": null,
      "outputs": []
    },
    {
      "cell_type": "markdown",
      "metadata": {
        "id": "PE7pFQpH4mqp"
      },
      "source": [
        "1. Comparer le code de la fonction `est_present` avec celui de `nb_boucles_est_present`\r\n",
        "2. A quoi correspond la valeur renvoyée par `nb_boucles_est_present(t, e)` ?\r\n",
        "3. Déterminer pour quelle valeur de `e` le programme de la cellule ci-dessus renvoie :\r\n",
        "   * 5\r\n",
        "   * 2\r\n",
        "   * 10"
      ]
    },
    {
      "cell_type": "markdown",
      "metadata": {
        "id": "OjDouyLjaowu"
      },
      "source": [
        "## fonction mystere"
      ]
    },
    {
      "cell_type": "markdown",
      "metadata": {
        "id": "PlRpbZ6Wd1j5"
      },
      "source": [
        "1. Ecrire une fonction `nb_boucles_mystere(t, e)` qui renvoie le nombre de boucles effecutées lors de l'exécution de `mystere(t, e)`\r\n",
        "2. Dans chaque cas, donner une  valeur de `e` telle que : \r\n",
        "   * `nb_boucles_mystere([10,20,30,40,50,60,70,80,90,100], e)` renvoie 1\r\n",
        "   * `nb_boucles_mystere([10,20,30,40,50,60,70,80,90,100], e)` renvoie 2\r\n",
        "   * `nb_boucles_mystere([10,20,30,40,50,60,70,80,90,100], e)` renvoie 3\r\n",
        "   * `nb_boucles_mystere([10,20,30,40,50,60,70,80,90,100], e)` renvoie la plus grande valeur possible"
      ]
    },
    {
      "cell_type": "code",
      "metadata": {
        "id": "AEkUou-bezG5"
      },
      "source": [
        ""
      ],
      "execution_count": null,
      "outputs": []
    }
  ]
}