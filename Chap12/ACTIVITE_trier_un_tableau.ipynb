{
  "nbformat": 4,
  "nbformat_minor": 0,
  "metadata": {
    "colab": {
      "name": "Chap12_ACTIVITE_trier_un_tableau.ipynb",
      "provenance": [],
      "authorship_tag": "ABX9TyO1/cIKyb7O9ikYbia+F+5D",
      "include_colab_link": true
    },
    "kernelspec": {
      "name": "python3",
      "display_name": "Python 3"
    }
  },
  "cells": [
    {
      "cell_type": "markdown",
      "metadata": {
        "id": "view-in-github",
        "colab_type": "text"
      },
      "source": [
        "<a href=\"https://colab.research.google.com/github/thfruchart/1nsi-2020/blob/master/Chap12/ACTIVITE_trier_un_tableau.ipynb\" target=\"_parent\"><img src=\"https://colab.research.google.com/assets/colab-badge.svg\" alt=\"Open In Colab\"/></a>"
      ]
    },
    {
      "cell_type": "markdown",
      "metadata": {
        "id": "vRLR0k9NTnyj"
      },
      "source": [
        "# Objectif"
      ]
    },
    {
      "cell_type": "markdown",
      "metadata": {
        "id": "7ZT9E3xITpxx"
      },
      "source": [
        "Dans cet activité, on va chercher à trier un tableau \"en place\" : cela signifie qu'on va modifier le contenu du tableau afin de le trier.\r\n",
        "\r\n",
        "On utilise pour cela la fonction `echange(t,i,j)` définie ci-dessous"
      ]
    },
    {
      "cell_type": "code",
      "metadata": {
        "id": "Stg_m766ThY-"
      },
      "source": [
        "def echange(t, i, j):\r\n",
        "    tmp = t[i]\r\n",
        "    t[i] = t[j]\r\n",
        "    t[j] = tmp\r\n",
        "    return t"
      ],
      "execution_count": 1,
      "outputs": []
    },
    {
      "cell_type": "markdown",
      "metadata": {
        "id": "3b7sQiGeU6-t"
      },
      "source": [
        "1. Effectuer le suivi des variables lorsqu'on exécute `echange([50,40,30,20],1,2)`\r\n",
        "2. Expliquer l'effet produit par `echange(t, i, j)`\r\n",
        "3. Utiliser autant de fois que nécessaire cette fonction échange pour trier le tableau `tab= [50,10,40,30]` en complétant le programme ci-dessous\r\n"
      ]
    },
    {
      "cell_type": "code",
      "metadata": {
        "colab": {
          "base_uri": "https://localhost:8080/"
        },
        "id": "_63S8FW0WLS7",
        "outputId": "117581bf-9c27-4bc3-93cc-eb00c1fff0d8"
      },
      "source": [
        "tab= [50,10,40,30,0,60,20]\r\n",
        "echange(tab,0,4)"
      ],
      "execution_count": 8,
      "outputs": [
        {
          "output_type": "execute_result",
          "data": {
            "text/plain": [
              "[0, 10, 40, 30, 50, 60, 20]"
            ]
          },
          "metadata": {
            "tags": []
          },
          "execution_count": 8
        }
      ]
    },
    {
      "cell_type": "markdown",
      "metadata": {
        "id": "9DWs2ctDW5TG"
      },
      "source": [
        "#### Remarque : Echange en Python\r\n",
        "Python permet de faire simplement l'échange entre deux variables, avec la notion de tuple comme le montre l'exemple suivant"
      ]
    },
    {
      "cell_type": "code",
      "metadata": {
        "colab": {
          "base_uri": "https://localhost:8080/"
        },
        "id": "6wodQVvMWru7",
        "outputId": "f34dc9e8-e852-43e1-d5b5-ce584f60220e"
      },
      "source": [
        "a, b = 5, 7\r\n",
        "print(a)\r\n",
        "print(b)"
      ],
      "execution_count": 10,
      "outputs": [
        {
          "output_type": "stream",
          "text": [
            "5\n",
            "7\n"
          ],
          "name": "stdout"
        }
      ]
    },
    {
      "cell_type": "code",
      "metadata": {
        "colab": {
          "base_uri": "https://localhost:8080/"
        },
        "id": "H7EaGNLbXxr4",
        "outputId": "245488c6-7c5f-4f58-d419-34f5c25ca3ab"
      },
      "source": [
        "a,b = b,a \r\n",
        "print(a)\r\n",
        "print(b)"
      ],
      "execution_count": 11,
      "outputs": [
        {
          "output_type": "stream",
          "text": [
            "7\n",
            "5\n"
          ],
          "name": "stdout"
        }
      ]
    },
    {
      "cell_type": "markdown",
      "metadata": {
        "id": "8_L4BygxX9Zo"
      },
      "source": [
        "L'instruction `echange(t,i,j)`  peut aussi s'écrire en Python : \r\n",
        "`t[i], t[j] = t[j], t[i]`"
      ]
    },
    {
      "cell_type": "markdown",
      "metadata": {
        "id": "CMJveW-OYSfJ"
      },
      "source": [
        "# Exercice 1\r\n",
        "Ecrire une fonction `indice_du_minimum(t,i)` qui renvoie l'indice de la plus petite valeur contenue dans le tableau `t[i:]`.\r\n",
        "\r\n",
        "On suppose que `t` n'est pas vide, et que `i` est un indice valide pour le tableau `t` (donc `i < len(t)` )\r\n"
      ]
    },
    {
      "cell_type": "code",
      "metadata": {
        "id": "M223f_Z2Yobi"
      },
      "source": [
        ""
      ],
      "execution_count": null,
      "outputs": []
    },
    {
      "cell_type": "markdown",
      "metadata": {
        "id": "8npTiS6qYrLh"
      },
      "source": [
        "Pour **tester** cette fonction, on pourra utiliser les assertions suivantes"
      ]
    },
    {
      "cell_type": "code",
      "metadata": {
        "id": "q09I-J2NYq75"
      },
      "source": [
        "assert indice_du_minimum([60,10,20,50,30,40],0)==1\r\n",
        "assert indice_du_minimum([60,10,20,50,30,40],1)==1\r\n",
        "assert indice_du_minimum([60,10,20,50,30,40],2)==2\r\n",
        "assert indice_du_minimum([60,10,20,50,30,40],3)==4\r\n",
        "assert indice_du_minimum([60,10,20,50,30,40],5)==5"
      ],
      "execution_count": null,
      "outputs": []
    },
    {
      "cell_type": "markdown",
      "metadata": {
        "id": "qCIm86uvZvAk"
      },
      "source": [
        "# Exercice 2\r\n",
        "En utilisant l'exercice 1, proposer une fonction `tri(t)` qui permet de trier le tableau t en appelant la fonction echange de manière pertinente. "
      ]
    },
    {
      "cell_type": "markdown",
      "metadata": {
        "id": "9MfGF5hLbgzy"
      },
      "source": [
        "# Lien utile : [visualiser plusieurs méthodes de tri sur un tableau](https://interstices.info/les-algorithmes-de-tri/)"
      ]
    }
  ]
}