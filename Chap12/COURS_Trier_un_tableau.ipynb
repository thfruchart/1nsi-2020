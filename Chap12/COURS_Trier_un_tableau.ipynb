{
  "nbformat": 4,
  "nbformat_minor": 0,
  "metadata": {
    "colab": {
      "name": "Chap12_COURS_Trier_un_tableau.ipynb",
      "provenance": [],
      "collapsed_sections": [],
      "authorship_tag": "ABX9TyO3LU63v9UYx7ABTzwqIuOV",
      "include_colab_link": true
    },
    "kernelspec": {
      "name": "python3",
      "display_name": "Python 3"
    }
  },
  "cells": [
    {
      "cell_type": "markdown",
      "metadata": {
        "id": "view-in-github",
        "colab_type": "text"
      },
      "source": [
        "<a href=\"https://colab.research.google.com/github/thfruchart/1nsi-2020/blob/master/Chap12/COURS_Trier_un_tableau.ipynb\" target=\"_parent\"><img src=\"https://colab.research.google.com/assets/colab-badge.svg\" alt=\"Open In Colab\"/></a>"
      ]
    },
    {
      "cell_type": "markdown",
      "metadata": {
        "id": "SG6sgf6Kno9g"
      },
      "source": [
        "# Trier un tableau"
      ]
    },
    {
      "cell_type": "markdown",
      "metadata": {
        "id": "29sKU0-3nxMf"
      },
      "source": [
        "Dans ce chapitre, on va travailler avec des tableaux de dimension 1 (type list en Python), contenant des valeurs comparables entre elles.\r\n",
        "* soit des tableaux de valeurs numériques (`int` ou `float`)\r\n",
        "* soit des tableaux de chaînes de caractères (`str`)\r\n",
        "\r\n",
        "On rappelle qu'en Python : `'A' < 'B'` est évalué à `True`"
      ]
    },
    {
      "cell_type": "code",
      "metadata": {
        "id": "0KSzEbyNnoTD",
        "colab": {
          "base_uri": "https://localhost:8080/"
        },
        "outputId": "e8151356-d241-4b30-c793-fbaf9e095490"
      },
      "source": [
        "'A'<'B'"
      ],
      "execution_count": null,
      "outputs": [
        {
          "output_type": "execute_result",
          "data": {
            "text/plain": [
              "True"
            ]
          },
          "metadata": {
            "tags": []
          },
          "execution_count": 1
        }
      ]
    },
    {
      "cell_type": "code",
      "metadata": {
        "id": "ED4Mb-1foIN9",
        "colab": {
          "base_uri": "https://localhost:8080/"
        },
        "outputId": "8eb442af-ba49-4dd7-dc8a-e8110b676c73"
      },
      "source": [
        "'a'<'B'"
      ],
      "execution_count": null,
      "outputs": [
        {
          "output_type": "execute_result",
          "data": {
            "text/plain": [
              "False"
            ]
          },
          "metadata": {
            "tags": []
          },
          "execution_count": 2
        }
      ]
    },
    {
      "cell_type": "code",
      "metadata": {
        "id": "Q9ApqqkEoKin",
        "colab": {
          "base_uri": "https://localhost:8080/"
        },
        "outputId": "6174cfd0-b4e1-469b-b0c8-7760b4aaa0d4"
      },
      "source": [
        "'ABC' < 'AS'"
      ],
      "execution_count": null,
      "outputs": [
        {
          "output_type": "execute_result",
          "data": {
            "text/plain": [
              "True"
            ]
          },
          "metadata": {
            "tags": []
          },
          "execution_count": 3
        }
      ]
    },
    {
      "cell_type": "code",
      "metadata": {
        "id": "TAIEC684oWQo"
      },
      "source": [
        ""
      ],
      "execution_count": null,
      "outputs": []
    },
    {
      "cell_type": "markdown",
      "metadata": {
        "id": "LKp4X-jUoW4A"
      },
      "source": [
        "Trier un tableau **en place** consiste à modifier les cellules du tableau afin d'obtenir à la fin un tableau **trié**. \r\n",
        "\r\n",
        "Dans tout le chapitre, on triera les tableaux par ordre **croissant**.\r\n",
        "\r\n",
        "Pour le type `str`, l'ordre croissant correspond le plus souvent à l'ordre **alphabétique** (attention cependant à la casse : majuscule/minuscule, et aux caractères accentués). "
      ]
    },
    {
      "cell_type": "markdown",
      "metadata": {
        "id": "i7zqnTEepIHn"
      },
      "source": [
        "#### On a déjà écrit une fonction qui permet de **tester si un tableau est trié** : "
      ]
    },
    {
      "cell_type": "code",
      "metadata": {
        "id": "2R0jEduqp3mI"
      },
      "source": [
        "def est_croissant(t):\r\n",
        "    ''' t est un tableau dont les valeurs sont toutes comparables entre elles\r\n",
        "    la fonction renvoie True si t est trié par ordre croissant, et False sinon'''\r\n",
        "    \r\n",
        "    for i in range(len(t)-1):\r\n",
        "        if t[i] > t[i+1]: # deux valeurs sont \"mal rangées\"\r\n",
        "            return False\r\n",
        "    return True "
      ],
      "execution_count": null,
      "outputs": []
    },
    {
      "cell_type": "code",
      "metadata": {
        "id": "kW5z7Jwip7ZH",
        "colab": {
          "base_uri": "https://localhost:8080/"
        },
        "outputId": "dfb13175-475f-4013-bd69-c69720eede21"
      },
      "source": [
        "est_croissant( [10,20,30] )"
      ],
      "execution_count": null,
      "outputs": [
        {
          "output_type": "execute_result",
          "data": {
            "text/plain": [
              "True"
            ]
          },
          "metadata": {
            "tags": []
          },
          "execution_count": 5
        }
      ]
    },
    {
      "cell_type": "code",
      "metadata": {
        "id": "tJBVpJZ9qAI4",
        "colab": {
          "base_uri": "https://localhost:8080/"
        },
        "outputId": "a6705c70-c260-4b8e-fbc7-eb90fa15944a"
      },
      "source": [
        "est_croissant( ['A','B','C'] )"
      ],
      "execution_count": null,
      "outputs": [
        {
          "output_type": "execute_result",
          "data": {
            "text/plain": [
              "True"
            ]
          },
          "metadata": {
            "tags": []
          },
          "execution_count": 6
        }
      ]
    },
    {
      "cell_type": "code",
      "metadata": {
        "id": "AhyD8yMXqFT3",
        "colab": {
          "base_uri": "https://localhost:8080/"
        },
        "outputId": "24e575c5-1981-4c7c-eff3-eb89232a65a6"
      },
      "source": [
        "est_croissant( ['a','B','C'])"
      ],
      "execution_count": null,
      "outputs": [
        {
          "output_type": "execute_result",
          "data": {
            "text/plain": [
              "False"
            ]
          },
          "metadata": {
            "tags": []
          },
          "execution_count": 7
        }
      ]
    },
    {
      "cell_type": "markdown",
      "metadata": {
        "id": "BU8kJfui2BVi"
      },
      "source": [
        "#### rappel : slice (tranche) extrait d'un tableau\r\n",
        "\r\n",
        "On utilisera ces notations pour justifier la correction du programme. "
      ]
    },
    {
      "cell_type": "code",
      "metadata": {
        "id": "Iby90_YD2HYS"
      },
      "source": [
        "t = [0,11,22,33,44,55,66,77]"
      ],
      "execution_count": null,
      "outputs": []
    },
    {
      "cell_type": "code",
      "metadata": {
        "id": "YfvhNLTK2LYs",
        "colab": {
          "base_uri": "https://localhost:8080/"
        },
        "outputId": "6aaf4430-b655-4851-a1de-844e5f466920"
      },
      "source": [
        "t[0]"
      ],
      "execution_count": null,
      "outputs": [
        {
          "output_type": "execute_result",
          "data": {
            "text/plain": [
              "0"
            ]
          },
          "metadata": {
            "tags": []
          },
          "execution_count": 17
        }
      ]
    },
    {
      "cell_type": "code",
      "metadata": {
        "id": "saUAzHdJ2Miy",
        "colab": {
          "base_uri": "https://localhost:8080/"
        },
        "outputId": "bccfb21f-6100-4b4f-980c-d3bf3037818b"
      },
      "source": [
        "t[6]"
      ],
      "execution_count": null,
      "outputs": [
        {
          "output_type": "execute_result",
          "data": {
            "text/plain": [
              "66"
            ]
          },
          "metadata": {
            "tags": []
          },
          "execution_count": 18
        }
      ]
    },
    {
      "cell_type": "code",
      "metadata": {
        "id": "-4e0tYfD2NkT",
        "colab": {
          "base_uri": "https://localhost:8080/"
        },
        "outputId": "39e07d1b-2112-4cf6-9422-405af53fd7a7"
      },
      "source": [
        "t[2:4]"
      ],
      "execution_count": null,
      "outputs": [
        {
          "output_type": "execute_result",
          "data": {
            "text/plain": [
              "[22, 33]"
            ]
          },
          "metadata": {
            "tags": []
          },
          "execution_count": 19
        }
      ]
    },
    {
      "cell_type": "code",
      "metadata": {
        "id": "PI2pivAC2Pwy",
        "colab": {
          "base_uri": "https://localhost:8080/"
        },
        "outputId": "f545b48d-d2da-465b-e3b9-20c8e111559a"
      },
      "source": [
        "t[3:len(t)]"
      ],
      "execution_count": null,
      "outputs": [
        {
          "output_type": "execute_result",
          "data": {
            "text/plain": [
              "[33, 44, 55, 66, 77]"
            ]
          },
          "metadata": {
            "tags": []
          },
          "execution_count": 20
        }
      ]
    },
    {
      "cell_type": "code",
      "metadata": {
        "id": "hgVkGbry2SIa",
        "colab": {
          "base_uri": "https://localhost:8080/"
        },
        "outputId": "fb19d79e-94ad-476d-f601-d2140e137970"
      },
      "source": [
        "t[0:3]"
      ],
      "execution_count": null,
      "outputs": [
        {
          "output_type": "execute_result",
          "data": {
            "text/plain": [
              "[0, 11, 22]"
            ]
          },
          "metadata": {
            "tags": []
          },
          "execution_count": 21
        }
      ]
    },
    {
      "cell_type": "code",
      "metadata": {
        "id": "H3_Wk3pu2biH",
        "colab": {
          "base_uri": "https://localhost:8080/"
        },
        "outputId": "dc750e7b-f116-4a31-9945-43979a7d7f5a"
      },
      "source": [
        "t[4:]"
      ],
      "execution_count": null,
      "outputs": [
        {
          "output_type": "execute_result",
          "data": {
            "text/plain": [
              "[44, 55, 66, 77]"
            ]
          },
          "metadata": {
            "tags": []
          },
          "execution_count": 22
        }
      ]
    },
    {
      "cell_type": "code",
      "metadata": {
        "id": "luSZ9C0K2cue",
        "colab": {
          "base_uri": "https://localhost:8080/"
        },
        "outputId": "835e838c-9f71-47fa-c800-63e61dee84fd"
      },
      "source": [
        "t[:4]"
      ],
      "execution_count": null,
      "outputs": [
        {
          "output_type": "execute_result",
          "data": {
            "text/plain": [
              "[0, 11, 22, 33]"
            ]
          },
          "metadata": {
            "tags": []
          },
          "execution_count": 23
        }
      ]
    },
    {
      "cell_type": "markdown",
      "metadata": {
        "id": "hg87kBYWqN9Y"
      },
      "source": [
        "# Tri par sélection"
      ]
    },
    {
      "cell_type": "markdown",
      "metadata": {
        "id": "85ZlZmqjqREQ"
      },
      "source": [
        "Principe du tri par sélection d'un tableau t.\r\n",
        "\r\n",
        "on parcourt le tableau t avec une boucle `for`\r\n",
        "\r\n",
        "* la valeur minimale du tableau `t` sera placée à l'indice 0\r\n",
        "* ensuite, la valeur minimale de `t[1:len(t)]` sera placée à l'indice 1\r\n",
        "* etc...\r\n",
        "* à chaque étape, la valeur minimale du tableau `t[i:len(t)]` sera placée à l'indice `i`. "
      ]
    },
    {
      "cell_type": "markdown",
      "metadata": {
        "id": "HMxZhPZQ3cf7"
      },
      "source": [
        "```\r\n",
        "  t = [ éléments triés  | éléments plus grands non encore triés ]\r\n",
        "indice 0   ...            i \r\n",
        "```\r\n",
        "\r\n"
      ]
    },
    {
      "cell_type": "code",
      "metadata": {
        "id": "SuQj5dA7qiiV"
      },
      "source": [
        "def tri_par_selection(t):\r\n",
        "    for i in range(len(t)):\r\n",
        "        i_min = i # recherche de l'indice du minimum du tableau t[i:len(t)]\r\n",
        "        for k in range(i, len(t)):\r\n",
        "            if t[i_min] > t[k] :\r\n",
        "                i_min = k\r\n",
        "        t[i], t[i_min] = t[i_min], t[i] # échange des valeurs d'indice i et i_min dans le tableau t\r\n",
        "    return t"
      ],
      "execution_count": null,
      "outputs": []
    },
    {
      "cell_type": "markdown",
      "metadata": {
        "id": "mJRUHV_6q6Q7"
      },
      "source": [
        "Quelques essais"
      ]
    },
    {
      "cell_type": "code",
      "metadata": {
        "colab": {
          "base_uri": "https://localhost:8080/"
        },
        "id": "StFDynxwq7zF",
        "outputId": "58a9cddb-4276-481f-998b-115cb76dbc53"
      },
      "source": [
        "tri_par_selection( [20,50,30,40,60,10] )"
      ],
      "execution_count": null,
      "outputs": [
        {
          "output_type": "execute_result",
          "data": {
            "text/plain": [
              "[10, 20, 30, 40, 50, 60]"
            ]
          },
          "metadata": {
            "tags": []
          },
          "execution_count": 25
        }
      ]
    },
    {
      "cell_type": "markdown",
      "metadata": {
        "id": "zOJMfNSf0Ha7"
      },
      "source": [
        "## [Activité](https://github.com/thfruchart/1nsi-2020/blob/master/Chap12/Tri_par_selection_Activit%C3%A9.pdf)"
      ]
    },
    {
      "cell_type": "markdown",
      "metadata": {
        "id": "rWqvkw690g2C"
      },
      "source": [
        "## Invariants de boucle"
      ]
    },
    {
      "cell_type": "markdown",
      "metadata": {
        "id": "LevO0xoF1tzL"
      },
      "source": [
        "### boucle sur k"
      ]
    },
    {
      "cell_type": "code",
      "metadata": {
        "id": "RmaaidtA0nBi"
      },
      "source": [
        "def tri_par_selection(t):\r\n",
        "    for i in range(len(t)-1):\r\n",
        "        i_min = i \r\n",
        "        for k in range(i+1, len(t)):\r\n",
        "            # i_min est l'indice du minimum du tableau t[i:k] entre les indices i (inclus) et k (exclu)\r\n",
        "            if t[i_min] > t[k] :\r\n",
        "                i_min = k\r\n",
        "            # i_min est l'indice du minimum du tableau t[i:k+1] entre les indices i (inclus) et k (inclu)\r\n",
        "        t[i], t[i_min] = t[i_min], t[i] \r\n",
        "    return t"
      ],
      "execution_count": null,
      "outputs": []
    },
    {
      "cell_type": "markdown",
      "metadata": {
        "id": "UKHGVIsD1vw6"
      },
      "source": [
        "### boucle sur i"
      ]
    },
    {
      "cell_type": "code",
      "metadata": {
        "id": "pdFzhmKe1yIv"
      },
      "source": [
        "def tri_par_selection(t):\r\n",
        "    for i in range(len(t)-1): \r\n",
        "        # t[0:i] est trié et ses valeurs sont inférieurs ou égales à celles de t[i:]\r\n",
        "        i_min = i \r\n",
        "        for k in range(i+1, len(t)):\r\n",
        "            if t[i_min] > t[k] :\r\n",
        "                i_min = k\r\n",
        "        t[i], t[i_min] = t[i_min], t[i] \r\n",
        "    return t"
      ],
      "execution_count": 2,
      "outputs": []
    },
    {
      "cell_type": "markdown",
      "metadata": {
        "id": "wHznzmoP9ekW"
      },
      "source": [
        "## Efficacité"
      ]
    },
    {
      "cell_type": "markdown",
      "metadata": {
        "id": "0G-q66X6IzmC"
      },
      "source": [
        "#### Pour tester l'efficacité du tri par selection, on effectue de tri sur des tableaux de plus en plus grands. \r\n",
        "\r\n",
        "On va mesurer le temps d'exécution avec le programme suivant : "
      ]
    },
    {
      "cell_type": "code",
      "metadata": {
        "id": "Po2MlSV3I-xp"
      },
      "source": [
        "import numpy as np\r\n",
        "import matplotlib.pyplot as plt\r\n",
        "from time import perf_counter\r\n",
        "from random import random\r\n",
        "\r\n",
        "def chrono_tri_sur_taille(n):\r\n",
        "    ''' renvoie le temps (en milliseconde) d'exécution du tri par selection\r\n",
        "    sur un tableau aléatoire de 'n' nombres flottants'''\r\n",
        "    t = [random() for i in range(n)]\r\n",
        "    start = perf_counter()\r\n",
        "    tri_par_selection(t)\r\n",
        "    stop = perf_counter()\r\n",
        "    return 1000*(stop - start)\r\n",
        "\r\n",
        "# Tri sur des tableaux de taille 100, 200, ... 1000\r\n",
        "abs = []\r\n",
        "ord = []\r\n",
        "for n in range(100,2001,100):\r\n",
        "    abs.append(n)\r\n",
        "    ord.append(chrono_tri_sur_taille(n))\r\n",
        "# graphique\r\n",
        "x = np.array([1, 3, 4, 6])\r\n",
        "y = np.array([2, 3, 5, 1])\r\n",
        "plt.plot(np.array(abs), np.array(ord),  \"b:o\",label=\"tri par sélection\")\r\n",
        "plt.legend()\r\n",
        "plt.show() # affiche la figure a l'ecran"
      ],
      "execution_count": null,
      "outputs": []
    },
    {
      "cell_type": "markdown",
      "metadata": {
        "id": "rXdje3GvL6Q5"
      },
      "source": [
        "#### Comparaison avec une fonction de référence"
      ]
    },
    {
      "cell_type": "code",
      "metadata": {
        "id": "hVJFs7vKK3Th"
      },
      "source": [
        "abs = []\r\n",
        "ord = []\r\n",
        "k = 1*120/(4e6)\r\n",
        "for n in range(100,2001,100):\r\n",
        "    abs.append(n)\r\n",
        "    ord.append(k* n**2)\r\n",
        "# graphique\r\n",
        "x = np.array([1, 3, 4, 6])\r\n",
        "y = np.array([2, 3, 5, 1])\r\n",
        "plt.plot(np.array(abs), np.array(ord),label=\"y=x^2\")\r\n",
        "plt.legend()\r\n",
        "plt.show() # affiche la figure a l'ecran"
      ],
      "execution_count": null,
      "outputs": []
    },
    {
      "cell_type": "markdown",
      "metadata": {
        "id": "_Kz9lLAAL_55"
      },
      "source": [
        "#### Synthèse"
      ]
    },
    {
      "cell_type": "code",
      "metadata": {
        "id": "15794NeSMEsR"
      },
      "source": [
        "import numpy as np\r\n",
        "import matplotlib.pyplot as plt\r\n",
        "from time import perf_counter\r\n",
        "from random import random\r\n",
        "\r\n",
        "def chrono_tri_sur_taille(n):\r\n",
        "    ''' renvoie le temps (en milliseconde) d'exécution du tri par selection\r\n",
        "    sur un tableau aléatoire de 'n' nombres flottants'''\r\n",
        "    t = [random() for i in range(n)]\r\n",
        "    start = perf_counter()\r\n",
        "    tri_par_selection(t)\r\n",
        "    stop = perf_counter()\r\n",
        "    return 1000*(stop - start)\r\n",
        "\r\n",
        "# Tri sur des tableaux de taille 100, 200, ... 1000\r\n",
        "abs = []\r\n",
        "ord = []\r\n",
        "for n in range(100,2001,100):\r\n",
        "    abs.append(n)\r\n",
        "    ord.append(chrono_tri_sur_taille(n))\r\n",
        "# graphique\r\n",
        "x = np.array([1, 3, 4, 6])\r\n",
        "y = np.array([2, 3, 5, 1])\r\n",
        "plt.plot(np.array(abs), np.array(ord),  \"b:o\",label=\"tri par sélection\")\r\n",
        "\r\n",
        "# fonction carrée (k.x^2)\r\n",
        "abs = []\r\n",
        "ord = []\r\n",
        "k = 125/(4e6)\r\n",
        "for n in range(100,2001,100):\r\n",
        "    abs.append(n)\r\n",
        "    ord.append(k* n**2)\r\n",
        "plt.plot(np.array(abs), np.array(ord),label=\"y=k.x^2\")\r\n",
        "plt.legend()\r\n",
        "plt.show() # affiche la figure a l'ecran"
      ],
      "execution_count": null,
      "outputs": []
    },
    {
      "cell_type": "markdown",
      "metadata": {
        "id": "xYyjKFyhMzV5"
      },
      "source": [
        "On dit que la complexité du tri par sélection est **quadratique**"
      ]
    },
    {
      "cell_type": "markdown",
      "metadata": {
        "id": "_-0ZFF5ERsHC"
      },
      "source": [
        "# Tri par insertion"
      ]
    },
    {
      "cell_type": "markdown",
      "metadata": {
        "id": "-uCNuJlcTo0d"
      },
      "source": [
        "On commence par définir une fonction d'insertion"
      ]
    },
    {
      "cell_type": "code",
      "metadata": {
        "id": "w9CLqmXeRyR_"
      },
      "source": [
        "def insere(t,v,i):\r\n",
        "    ''' insère la valeur 'v' dans le tableau 't'\r\n",
        "    le plus à gauche possible à partir de l'indice 'i'  '''\r\n",
        "    assert i<len(t)\r\n",
        "    while i>0 and v<t[i-1]:\r\n",
        "        t[i]=t[i-1]\r\n",
        "        i = i-1\r\n",
        "    t[i] = v\r\n",
        "    return t"
      ],
      "execution_count": 44,
      "outputs": []
    },
    {
      "cell_type": "code",
      "metadata": {
        "id": "JzOWqiPHSn4i"
      },
      "source": [
        "insere([10,20,30,40,0,0,0,0],25,4)"
      ],
      "execution_count": null,
      "outputs": []
    },
    {
      "cell_type": "markdown",
      "metadata": {
        "id": "HviwSmPPTho1"
      },
      "source": [
        "[Visualiser l'exécution sur PythonTutor](http://www.pythontutor.com/visualize.html#code=def%20insere%28t,v,i%29%3A%0A%20%20%20%20'''%20ins%C3%A8re%20la%20valeur%20'v'%20dans%20le%20tableau%20't'%0A%20%20%20%20le%20plus%20%C3%A0%20gauche%20possible%20%C3%A0%20partir%20de%20l'indice%20'i'%20%20'''%0A%20%20%20%20assert%20i%3Clen%28t%29%0A%20%20%20%20while%20i%3E0%20and%20v%3Ct%5Bi-1%5D%3A%0A%20%20%20%20%20%20%20%20t%5Bi%5D%3Dt%5Bi-1%5D%0A%20%20%20%20%20%20%20%20i%20%3D%20i-1%0A%20%20%20%20t%5Bi%5D%20%3D%20v%0A%20%20%20%20return%20t%0A%0Ainsere%28%5B10,20,30,40,0,0,0,0%5D,25,4%29&cumulative=false&curInstr=0&heapPrimitives=nevernest&mode=display&origin=opt-frontend.js&py=3&rawInputLstJSON=%5B%5D&textReferences=false)"
      ]
    },
    {
      "cell_type": "markdown",
      "metadata": {
        "id": "2e5elOSrgH4M"
      },
      "source": [
        "## [Activité : fonction `insere`](https://github.com/thfruchart/1nsi-2020/blob/master/Chap12/Tri_par_insertion_Activit%C3%A9.pdf) "
      ]
    },
    {
      "cell_type": "markdown",
      "metadata": {
        "id": "naah9DXIg0_b"
      },
      "source": [
        "## Copie triée d'un tableau"
      ]
    },
    {
      "cell_type": "code",
      "metadata": {
        "id": "8KZc1xo6g6mq"
      },
      "source": [
        "def tri_par_insertion_copie(t):\r\n",
        "    ''' renvoie une copie du tableau t, contenant les valeurs triées par ordre croissant'''\r\n",
        "    resu = [0] * len(t)\r\n",
        "    for i in range(len(t)):\r\n",
        "        v = t[i]\r\n",
        "        insere(resu,v,i)\r\n",
        "    return resu"
      ],
      "execution_count": 46,
      "outputs": []
    },
    {
      "cell_type": "code",
      "metadata": {
        "id": "XZkWwdW2hT0r"
      },
      "source": [
        "tab = [50,10,20,60,30,40]\r\n",
        "print(tri_par_insertion_copie(tab))\r\n",
        "print(tab)"
      ],
      "execution_count": null,
      "outputs": []
    },
    {
      "cell_type": "markdown",
      "metadata": {
        "id": "4Ysd6BWLg4Lz"
      },
      "source": [
        "## Tri en place d'un tableau"
      ]
    },
    {
      "cell_type": "code",
      "metadata": {
        "id": "yDjCAen8hfVD"
      },
      "source": [
        "def tri_par_insertion(t):\r\n",
        "    ''' tri du tableau t, par ordre croissant'''\r\n",
        "    for i in range(len(t)):\r\n",
        "        v = t[i]\r\n",
        "        insere(t,v,i)\r\n",
        "    return t"
      ],
      "execution_count": 48,
      "outputs": []
    },
    {
      "cell_type": "code",
      "metadata": {
        "id": "kN6eppCIhsTj"
      },
      "source": [
        "tab = [50,10,20,60,30,40]\r\n",
        "print(tri_par_insertion(tab))\r\n",
        "print(tab)"
      ],
      "execution_count": null,
      "outputs": []
    }
  ]
}