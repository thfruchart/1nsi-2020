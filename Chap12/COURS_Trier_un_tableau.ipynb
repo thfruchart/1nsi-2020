{
  "nbformat": 4,
  "nbformat_minor": 0,
  "metadata": {
    "colab": {
      "name": "Chap12_COURS_Trier_un_tableau.ipynb",
      "provenance": [],
      "collapsed_sections": [],
      "authorship_tag": "ABX9TyMeSoa/Ft8purjo3+XbPCpc",
      "include_colab_link": true
    },
    "kernelspec": {
      "name": "python3",
      "display_name": "Python 3"
    }
  },
  "cells": [
    {
      "cell_type": "markdown",
      "metadata": {
        "id": "view-in-github",
        "colab_type": "text"
      },
      "source": [
        "<a href=\"https://colab.research.google.com/github/thfruchart/1nsi-2020/blob/master/Chap12/COURS_Trier_un_tableau.ipynb\" target=\"_parent\"><img src=\"https://colab.research.google.com/assets/colab-badge.svg\" alt=\"Open In Colab\"/></a>"
      ]
    },
    {
      "cell_type": "markdown",
      "metadata": {
        "id": "SG6sgf6Kno9g"
      },
      "source": [
        "# Trier un tableau"
      ]
    },
    {
      "cell_type": "markdown",
      "metadata": {
        "id": "29sKU0-3nxMf"
      },
      "source": [
        "Dans ce chapitre, on va travailler avec des tableaux de dimension 1 (type list en Python), contenant des valeurs comparables entre elles.\r\n",
        "* soit des tableaux de valeurs numériques (`int` ou `float`)\r\n",
        "* soit des tableaux de chaînes de caractères (`str`)\r\n",
        "\r\n",
        "On rappelle qu'en Python : `'A' < 'B'` est évalué à `True`"
      ]
    },
    {
      "cell_type": "code",
      "metadata": {
        "id": "0KSzEbyNnoTD"
      },
      "source": [
        "'A'<'B'"
      ],
      "execution_count": null,
      "outputs": []
    },
    {
      "cell_type": "code",
      "metadata": {
        "id": "ED4Mb-1foIN9"
      },
      "source": [
        "'a'<'B'"
      ],
      "execution_count": null,
      "outputs": []
    },
    {
      "cell_type": "code",
      "metadata": {
        "id": "Q9ApqqkEoKin"
      },
      "source": [
        "'ABC' < 'AS'"
      ],
      "execution_count": null,
      "outputs": []
    },
    {
      "cell_type": "code",
      "metadata": {
        "id": "TAIEC684oWQo"
      },
      "source": [
        ""
      ],
      "execution_count": null,
      "outputs": []
    },
    {
      "cell_type": "markdown",
      "metadata": {
        "id": "LKp4X-jUoW4A"
      },
      "source": [
        "Trier un tableau **en place** consiste à modifier les cellules du tableau afin d'obtenir à la fin un tableau **trié**. \r\n",
        "\r\n",
        "Dans tout le chapitre, on triera les tableaux par ordre **croissant**.\r\n",
        "\r\n",
        "Pour le type `str`, l'ordre croissant correspond le plus souvent à l'ordre **alphabétique** (attention cependant à la casse : majuscule/minuscule, et aux caractères accentués). "
      ]
    },
    {
      "cell_type": "markdown",
      "metadata": {
        "id": "i7zqnTEepIHn"
      },
      "source": [
        "#### On a déjà écrit une fonction qui permet de **tester si un tableau est trié** : "
      ]
    },
    {
      "cell_type": "code",
      "metadata": {
        "id": "2R0jEduqp3mI"
      },
      "source": [
        "def est_croissant(t):\r\n",
        "    ''' t est un tableau dont les valeurs sont toutes comparables entre elles\r\n",
        "    la fonction renvoie True si t est trié par ordre croissant, et False sinon'''\r\n",
        "    \r\n",
        "    for i in range(len(t)-1):\r\n",
        "        if t[i] > t[i+1]: # deux valeurs sont \"mal rangées\"\r\n",
        "            return False\r\n",
        "    return True "
      ],
      "execution_count": 1,
      "outputs": []
    },
    {
      "cell_type": "code",
      "metadata": {
        "id": "kW5z7Jwip7ZH"
      },
      "source": [
        "est_croissant( [10,20,30] )"
      ],
      "execution_count": null,
      "outputs": []
    },
    {
      "cell_type": "code",
      "metadata": {
        "id": "tJBVpJZ9qAI4"
      },
      "source": [
        "est_croissant( ['A','B','C'] )"
      ],
      "execution_count": null,
      "outputs": []
    },
    {
      "cell_type": "code",
      "metadata": {
        "id": "AhyD8yMXqFT3"
      },
      "source": [
        "est_croissant( ['a','B','C'])"
      ],
      "execution_count": null,
      "outputs": []
    },
    {
      "cell_type": "markdown",
      "metadata": {
        "id": "BU8kJfui2BVi"
      },
      "source": [
        "#### rappel : slice (tranche) extrait d'un tableau\r\n",
        "\r\n",
        "On utilisera ces notations pour justifier la correction du programme. "
      ]
    },
    {
      "cell_type": "code",
      "metadata": {
        "id": "Iby90_YD2HYS"
      },
      "source": [
        "t = [0,1,2,3,4,5,6,7]"
      ],
      "execution_count": 10,
      "outputs": []
    },
    {
      "cell_type": "code",
      "metadata": {
        "id": "YfvhNLTK2LYs"
      },
      "source": [
        "t[0]"
      ],
      "execution_count": null,
      "outputs": []
    },
    {
      "cell_type": "code",
      "metadata": {
        "id": "saUAzHdJ2Miy"
      },
      "source": [
        "t[6]"
      ],
      "execution_count": null,
      "outputs": []
    },
    {
      "cell_type": "code",
      "metadata": {
        "id": "-4e0tYfD2NkT"
      },
      "source": [
        "t[2:4]"
      ],
      "execution_count": null,
      "outputs": []
    },
    {
      "cell_type": "code",
      "metadata": {
        "id": "PI2pivAC2Pwy"
      },
      "source": [
        "t[3:len(t)]"
      ],
      "execution_count": null,
      "outputs": []
    },
    {
      "cell_type": "code",
      "metadata": {
        "id": "hgVkGbry2SIa"
      },
      "source": [
        "t[0:3]"
      ],
      "execution_count": null,
      "outputs": []
    },
    {
      "cell_type": "code",
      "metadata": {
        "id": "H3_Wk3pu2biH"
      },
      "source": [
        "t[4:]"
      ],
      "execution_count": null,
      "outputs": []
    },
    {
      "cell_type": "code",
      "metadata": {
        "id": "luSZ9C0K2cue"
      },
      "source": [
        "t[:4]"
      ],
      "execution_count": null,
      "outputs": []
    },
    {
      "cell_type": "markdown",
      "metadata": {
        "id": "hg87kBYWqN9Y"
      },
      "source": [
        "# Tri par sélection"
      ]
    },
    {
      "cell_type": "markdown",
      "metadata": {
        "id": "85ZlZmqjqREQ"
      },
      "source": [
        "Principe du tri par sélection d'un tableau t.\r\n",
        "\r\n",
        "on parcourt le tableau t avec une boucle `for`\r\n",
        "\r\n",
        "* la valeur minimale du tableau `t` sera placée à l'indice 0\r\n",
        "* ensuite, la valeur minimale de `t[1:len(t)]` sera placée à l'indice 1\r\n",
        "* etc...\r\n",
        "* à chaque étape, la valeur minimale du tableau `t[i:len(t)]` sera placée à l'indice `i`. "
      ]
    },
    {
      "cell_type": "markdown",
      "metadata": {
        "id": "HMxZhPZQ3cf7"
      },
      "source": [
        "```\r\n",
        "  t = [ éléments triés  | éléments plus grands non encore triés ]\r\n",
        "indice 0   ...            i \r\n",
        "```\r\n",
        "\r\n"
      ]
    },
    {
      "cell_type": "code",
      "metadata": {
        "id": "SuQj5dA7qiiV"
      },
      "source": [
        "def tri_par_selection(t):\r\n",
        "    for i in range(len(t)):\r\n",
        "        i_min = i # recherche de l'indice du minimum du tableau t[i:len(t)]\r\n",
        "        for k in range(i, len(t)):\r\n",
        "            if t[i_min] > t[k] :\r\n",
        "                i_min = k\r\n",
        "        t[i], t[i_min] = t[i_min], t[i] # échange des valeurs d'indice i et i_min dans le tableau t\r\n",
        "    return t"
      ],
      "execution_count": 8,
      "outputs": []
    },
    {
      "cell_type": "markdown",
      "metadata": {
        "id": "mJRUHV_6q6Q7"
      },
      "source": [
        "Quelques essais"
      ]
    },
    {
      "cell_type": "code",
      "metadata": {
        "colab": {
          "base_uri": "https://localhost:8080/"
        },
        "id": "StFDynxwq7zF",
        "outputId": "1a83930b-3ac3-4906-d7c9-ae6d874300b6"
      },
      "source": [
        "tri_par_selection( [20,50,30,40,60,10] )"
      ],
      "execution_count": 9,
      "outputs": [
        {
          "output_type": "execute_result",
          "data": {
            "text/plain": [
              "[10, 20, 30, 40, 50, 60]"
            ]
          },
          "metadata": {
            "tags": []
          },
          "execution_count": 9
        }
      ]
    },
    {
      "cell_type": "markdown",
      "metadata": {
        "id": "zOJMfNSf0Ha7"
      },
      "source": [
        "## [Activité](https://github.com/thfruchart/1nsi-2020/blob/master/Chap12/Tri_par_selection_Activit%C3%A9.pdf)"
      ]
    },
    {
      "cell_type": "markdown",
      "metadata": {
        "id": "rWqvkw690g2C"
      },
      "source": [
        "## Invariants de boucle"
      ]
    },
    {
      "cell_type": "markdown",
      "metadata": {
        "id": "LevO0xoF1tzL"
      },
      "source": [
        "### boucle sur k"
      ]
    },
    {
      "cell_type": "code",
      "metadata": {
        "id": "RmaaidtA0nBi"
      },
      "source": [
        "def tri_par_selection(t):\r\n",
        "    for i in range(len(t)-1):\r\n",
        "        i_min = i \r\n",
        "        for k in range(i+1, len(t)):\r\n",
        "            # i_min est l'indice du minimum du tableau t[i:k] entre les indices i (inclus) et k (exclu)\r\n",
        "            if t[i_min] > t[k] :\r\n",
        "                i_min = k\r\n",
        "            # i_min est l'indice du minimum du tableau t[i:k+1] entre les indices i (inclus) et k (inclu)\r\n",
        "        t[i], t[i_min] = t[i_min], t[i] \r\n",
        "    return t"
      ],
      "execution_count": null,
      "outputs": []
    },
    {
      "cell_type": "markdown",
      "metadata": {
        "id": "UKHGVIsD1vw6"
      },
      "source": [
        "### boucle sur i"
      ]
    },
    {
      "cell_type": "code",
      "metadata": {
        "id": "pdFzhmKe1yIv"
      },
      "source": [
        "def tri_par_selection(t):\r\n",
        "    for i in range(len(t)-1): # t[0:i] est trié et ses valeurs sont inférieurs ou égales à celles de t[i:]\r\n",
        "        i_min = i \r\n",
        "        for k in range(i+1, len(t)):\r\n",
        "            if t[i_min] > t[k] :\r\n",
        "                i_min = k\r\n",
        "        t[i], t[i_min] = t[i_min], t[i] \r\n",
        "    return t"
      ],
      "execution_count": null,
      "outputs": []
    },
    {
      "cell_type": "markdown",
      "metadata": {
        "id": "wHznzmoP9ekW"
      },
      "source": [
        "## Complexité"
      ]
    }
  ]
}