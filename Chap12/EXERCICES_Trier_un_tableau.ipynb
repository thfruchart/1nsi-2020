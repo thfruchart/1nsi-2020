{
  "nbformat": 4,
  "nbformat_minor": 0,
  "metadata": {
    "colab": {
      "name": "Chap12_EXERCICES_Trier_un_tableau.ipynb",
      "provenance": [],
      "collapsed_sections": [],
      "authorship_tag": "ABX9TyNc9zf/auv/m9MtNTTb6ffv",
      "include_colab_link": true
    },
    "kernelspec": {
      "name": "python3",
      "display_name": "Python 3"
    }
  },
  "cells": [
    {
      "cell_type": "markdown",
      "metadata": {
        "id": "view-in-github",
        "colab_type": "text"
      },
      "source": [
        "<a href=\"https://colab.research.google.com/github/thfruchart/1nsi-2020/blob/master/Chap12/EXERCICES_Trier_un_tableau.ipynb\" target=\"_parent\"><img src=\"https://colab.research.google.com/assets/colab-badge.svg\" alt=\"Open In Colab\"/></a>"
      ]
    },
    {
      "cell_type": "markdown",
      "metadata": {
        "id": "DWbIYJBS4f4s"
      },
      "source": [
        "# Exercice 1"
      ]
    },
    {
      "cell_type": "markdown",
      "metadata": {
        "id": "mTJPAEqx4iTD"
      },
      "source": [
        "On souhaite compter le nombre d'opérations élémentaires réalisées lors du tri par sélection. \r\n",
        "\r\n",
        "Pour cela, on définit une fonction `nb_operation_tri_selection` qui :\r\n",
        "* prend en argument un tableau t\r\n",
        "* effectue le tri par sélection sur t\r\n",
        "* renvoie le nombre d'opérations élémentaires effectuées : \r\n",
        "   * comparaison\r\n",
        "   * affectation\r\n",
        "\r\n",
        "\r\n",
        "1. Compléter le code ci-dessous pour remplir cet objectif.\r\n",
        "2. Tester la fonction en calculant le nombre d'opérations nécessaires pour trier les tableaux suivants : \r\n",
        "   * [1,2,3]\r\n",
        "   * [3,2,1]\r\n",
        "   * [1,2,3,4,5,6,7,8,9,10,11,12]\r\n",
        "3. Quel commentaire pouvez-vous faire? "
      ]
    },
    {
      "cell_type": "code",
      "metadata": {
        "id": "iaZc2hOQ4Txw"
      },
      "source": [
        "def nb_operation_tri_selection(t):\r\n",
        "    cpt = 0\r\n",
        "    for i in range(len(t)-1):\r\n",
        "        i_min = i \r\n",
        "        for k in range(i+1, len(t)):\r\n",
        "            # i_min est l'indice du minimum du tableau t[i:k] entre les indices i (inclus) et k (exclu)\r\n",
        "            if t[i_min] > t[k] :\r\n",
        "                i_min = k\r\n",
        "            # i_min est l'indice du minimum du tableau t[i:k+1] entre les indices i (inclus) et k (inclu)\r\n",
        "        t[i], t[i_min] = t[i_min], t[i] \r\n",
        "    return cpt"
      ],
      "execution_count": null,
      "outputs": []
    },
    {
      "cell_type": "markdown",
      "metadata": {
        "id": "4WiLXGL76hpL"
      },
      "source": [
        "# Exercice 2"
      ]
    },
    {
      "cell_type": "markdown",
      "metadata": {
        "id": "99Lk1YFT6jac"
      },
      "source": [
        "On souhaite mesurer le temps de calcul pour exécuter le tri par sélection sur des tableaux aléatoires de différentes tailles\r\n",
        "\r\n",
        "1. Ecrire une fonction `tableau_aleatoire(n)` qui\r\n",
        "   * prend en argument un nombre entier `n >= 1`\r\n",
        "   * renvoie un tableau de longueur n, contenant des flottants aléatoires entre 0 et 1\r\n",
        "2. Evaluer le temps nécessaire pour trier :\r\n",
        "   * un tableau de taille 100\r\n",
        "   * un tableau de taille 200\r\n",
        "   * un tableau de taille 500\r\n",
        "3. Peut-on dire que le temps de calcul est environ proportionnel à la taille du tableau ? "
      ]
    },
    {
      "cell_type": "markdown",
      "metadata": {
        "id": "J4Hwul_hPlgB"
      },
      "source": [
        "### Aide pour la question 2 "
      ]
    },
    {
      "cell_type": "markdown",
      "metadata": {
        "id": "KodD1WThPoQJ"
      },
      "source": [
        "Pour mesurer le temps d'exécution d'une instruction, on peut utiliser le module time, qui contient une fonction perf_counter().\r\n",
        "\r\n",
        "Cette fonction renvoie un 'compteur de performance' aussi précis que le permet la machine, mesuré en secondes."
      ]
    },
    {
      "cell_type": "code",
      "metadata": {
        "id": "YZ6LOLX-XJEd"
      },
      "source": [
        "from time import perf_counter"
      ],
      "execution_count": null,
      "outputs": []
    },
    {
      "cell_type": "code",
      "metadata": {
        "colab": {
          "base_uri": "https://localhost:8080/"
        },
        "id": "Me73nO6qGh7g",
        "outputId": "b57e066a-b5ff-40e5-e274-398ac728320c"
      },
      "source": [
        "perf_counter()"
      ],
      "execution_count": null,
      "outputs": [
        {
          "output_type": "execute_result",
          "data": {
            "text/plain": [
              "334.899823627"
            ]
          },
          "metadata": {
            "tags": []
          },
          "execution_count": 20
        }
      ]
    },
    {
      "cell_type": "code",
      "metadata": {
        "colab": {
          "base_uri": "https://localhost:8080/"
        },
        "id": "kM_1bKSFGoKb",
        "outputId": "c0d7e337-0ff5-4b46-af0c-2d43793202cf"
      },
      "source": [
        "perf_counter()"
      ],
      "execution_count": null,
      "outputs": [
        {
          "output_type": "execute_result",
          "data": {
            "text/plain": [
              "337.071823118"
            ]
          },
          "metadata": {
            "tags": []
          },
          "execution_count": 21
        }
      ]
    },
    {
      "cell_type": "markdown",
      "metadata": {
        "id": "BQdgCnF7P_Q6"
      },
      "source": [
        "Pour mesurer le temps d'exécution d'une instruction, on pourra structurer son code de cette manière : "
      ]
    },
    {
      "cell_type": "code",
      "metadata": {
        "id": "-PcH8vTz6hDl",
        "colab": {
          "base_uri": "https://localhost:8080/"
        },
        "outputId": "1a7bae6c-7c48-48d6-8b2f-31733bafb39f"
      },
      "source": [
        "from time import perf_counter\r\n",
        "start = perf_counter() # lancement du chrono\r\n",
        "\r\n",
        "### début des instructions à chronométrer ###\r\n",
        "for i in range(1000):\r\n",
        "    pass\r\n",
        "\r\n",
        "\r\n",
        "###  fin  des instructions à chronométrer ###\r\n",
        "stop = perf_counter() # arrêt du chrono\r\n",
        "print(stop - start) # affichage de la durée en seconde\r\n",
        "# ou  affichage de la durée en milliseconde avec :  print((stop - start)*1000)\r\n"
      ],
      "execution_count": null,
      "outputs": [
        {
          "output_type": "stream",
          "text": [
            "0.00010412700000017594\n",
            "0.10412700000017594\n"
          ],
          "name": "stdout"
        }
      ]
    },
    {
      "cell_type": "markdown",
      "metadata": {
        "id": "tb53UIAf72s1"
      },
      "source": [
        "# Exercice 3"
      ]
    },
    {
      "cell_type": "markdown",
      "metadata": {
        "id": "LdpCnHdh8HWF"
      },
      "source": [
        "On considère un tableau d'entiers `tab` (type `list`) dont les éléments sont des **0** ou des **1**. \r\n",
        "\r\n",
        "On se propose de trier ce tableau selon l'algorithme suivant : \r\n",
        "* à chaque étape du tri, le tableau est constitué de trois zones consécutives, \r\n",
        "  * la première ne contenant que des 0, \r\n",
        "  * la seconde n'étant pas triée \r\n",
        "  * et la dernière ne contenant que des 1.\r\n",
        "* on note `i` et `j` deux entiers tels que les indices de la zone non triée sont compris entre `i` et `j` inclus. \r\n",
        "\r\n",
        "\r\n",
        "```\r\n",
        "[ Zone de 0 | Zone non triée | Zone de 1]\r\n",
        "             i              j\r\n",
        "```\r\n",
        "\r\n",
        "\r\n",
        "Tant que la zone non triée n'est pas réduite à un seul élément, on regarde son premier élément:\r\n",
        "* si cet élément vaut 0, on considère qu'il appartient désormais à la zone ne contenant que des 0 ;\r\n",
        "*  si cet élément vaut 1, il est échangé avec le dernier élément de la zone non triée et on considère alors qu’il appartient à la zone ne contenant que des 1.\r\n",
        "\r\n",
        "\r\n",
        "Dans tous les cas, la longueur de la zone non triée diminue de 1."
      ]
    },
    {
      "cell_type": "markdown",
      "metadata": {
        "id": "BSuRj_xB8drl"
      },
      "source": [
        "Compléter le code suivant pour réaliser cette fonction"
      ]
    },
    {
      "cell_type": "code",
      "metadata": {
        "id": "SFG-T6mV8gRd"
      },
      "source": [
        "def tri(tab):\r\n",
        "    #i est le premier indice de la zone non triee, j le dernier indice.\r\n",
        "    #Au debut, la zone non triee est le tableau entier.\r\n",
        "    i= ...\r\n",
        "    j= ...\r\n",
        "    while i != j :\r\n",
        "        if tab[i]== 0:\r\n",
        "            i= ...\r\n",
        "        else :\r\n",
        "            valeur = tab[j]\r\n",
        "            tab[j] = ...\r\n",
        "            ...\r\n",
        "            j= ...\r\n",
        "    ...\r\n"
      ],
      "execution_count": null,
      "outputs": []
    },
    {
      "cell_type": "markdown",
      "metadata": {
        "id": "pgzWEIe-N1MS"
      },
      "source": [
        "# Exercice 4"
      ]
    },
    {
      "cell_type": "markdown",
      "metadata": {
        "id": "CpUw-OtgN3ja"
      },
      "source": [
        "Dans cet exercice, on exploite le fait que la complexité du tri par sélection est quadratique.\r\n",
        "\r\n",
        "* On suppose qu'il faut environ 40ms pour trier un tableau de taille 1000 en exécutant le tri par sélection sur un ordinateur. \r\n",
        "* estimer le temps nécessaire pour trier : \r\n",
        "   1. Un tableau de taille 5000\r\n",
        "   2. Un tableau de taille 10 000\r\n",
        "   3. Un tableau de taille 50 000\r\n",
        "* quelle est la taille maximale d'un tableau qu'on pourrait trier sur cette machine : \r\n",
        "   1.  en 1 heure?\r\n",
        "   2. en 24 heures ? "
      ]
    },
    {
      "cell_type": "markdown",
      "metadata": {
        "id": "i3FGu5LmUL7O"
      },
      "source": [
        "# Exercice 5"
      ]
    },
    {
      "cell_type": "markdown",
      "metadata": {
        "id": "uWCQasAJUPnl"
      },
      "source": [
        "Effectuer le suivi des variables locales à la fonction lorsqu'on exécute l'instruction : `insere([100,200,300,0,0,0,0],25,3)`"
      ]
    },
    {
      "cell_type": "code",
      "metadata": {
        "id": "k7QWHJ_mUo89"
      },
      "source": [
        "def insere(t,v,i):\r\n",
        "    ''' insère la valeur 'v' dans le tableau 't'\r\n",
        "    le plus à gauche possible à partir de l'indice 'i'  '''\r\n",
        "    assert i<len(t)\r\n",
        "    while i>0 and v<t[i-1]:\r\n",
        "        t[i]=t[i-1]\r\n",
        "        i = i-1\r\n",
        "    t[i] = v\r\n",
        "    return t"
      ],
      "execution_count": null,
      "outputs": []
    },
    {
      "cell_type": "markdown",
      "metadata": {
        "id": "fSG7y_7xdqYL"
      },
      "source": [
        "[Document papier à compléter](https://github.com/thfruchart/1nsi-2020/blob/master/Chap12/Tri_par_insertion_Activit%C3%A9.pdf)"
      ]
    }
  ]
}