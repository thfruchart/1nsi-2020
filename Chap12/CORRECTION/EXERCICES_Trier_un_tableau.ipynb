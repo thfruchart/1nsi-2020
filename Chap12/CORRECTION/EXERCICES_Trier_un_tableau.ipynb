{
  "nbformat": 4,
  "nbformat_minor": 0,
  "metadata": {
    "colab": {
      "name": "Chap12_EXERCICES_Trier_un_tableau.ipynb",
      "provenance": [],
      "collapsed_sections": [],
      "authorship_tag": "ABX9TyMBsW6KE8YjQEiqApa72X6F",
      "include_colab_link": true
    },
    "kernelspec": {
      "name": "python3",
      "display_name": "Python 3"
    }
  },
  "cells": [
    {
      "cell_type": "markdown",
      "metadata": {
        "id": "view-in-github",
        "colab_type": "text"
      },
      "source": [
        "<a href=\"https://colab.research.google.com/github/thfruchart/1nsi-2020/blob/master/Chap12/CORRECTION/EXERCICES_Trier_un_tableau.ipynb\" target=\"_parent\"><img src=\"https://colab.research.google.com/assets/colab-badge.svg\" alt=\"Open In Colab\"/></a>"
      ]
    },
    {
      "cell_type": "markdown",
      "metadata": {
        "id": "DWbIYJBS4f4s"
      },
      "source": [
        "# Exercice 1"
      ]
    },
    {
      "cell_type": "markdown",
      "metadata": {
        "id": "mTJPAEqx4iTD"
      },
      "source": [
        "On souhaite compter le nombre d'opérations élémentaires réalisées lors du tri par sélection. \r\n",
        "\r\n",
        "Pour cela, on définit une fonction `nb_operation_tri_selection` qui :\r\n",
        "* prend en argument un tableau t\r\n",
        "* effectue le tri par sélection sur t\r\n",
        "* renvoie le nombre d'opérations élémentaires effectuées : \r\n",
        "   * comparaison\r\n",
        "   * affectation\r\n",
        "\r\n",
        "\r\n",
        "1. Compléter le code ci-dessous pour remplir cet objectif.\r\n",
        "2. Tester la fonction en calculant le nombre d'opérations nécessaires pour trier les tableaux suivants : \r\n",
        "   * [1,2,3]\r\n",
        "   * [3,2,1]\r\n",
        "   * [1,2,3,4,5,6,7,8,9,10,11,12]\r\n",
        "3. Quel commentaire pouvez-vous faire? "
      ]
    },
    {
      "cell_type": "code",
      "metadata": {
        "id": "iaZc2hOQ4Txw"
      },
      "source": [
        "def nb_operation_tri_selection(t):\r\n",
        "    cpt = 0\r\n",
        "    for i in range(len(t)-1):\r\n",
        "        i_min = i \r\n",
        "        cpt += 2 # affectation dans i et affectation dans i_min\r\n",
        "        for k in range(i+1, len(t)):\r\n",
        "            cpt += 2 # affectation dans k et comparaison\r\n",
        "            if t[i_min] > t[k] :\r\n",
        "                i_min = k\r\n",
        "                cpt += 1 #affectation dans i_min\r\n",
        "        t[i], t[i_min] = t[i_min], t[i] \r\n",
        "        cpt += 2 # 1 echange = 2 affectations \r\n",
        "    return cpt"
      ],
      "execution_count": 2,
      "outputs": []
    },
    {
      "cell_type": "code",
      "metadata": {
        "colab": {
          "base_uri": "https://localhost:8080/"
        },
        "id": "j7TTWpx6K-P-",
        "outputId": "4c6fefca-632a-453d-a690-c578b3c758b5"
      },
      "source": [
        "nb_operation_tri_selection([1,2,3])"
      ],
      "execution_count": 3,
      "outputs": [
        {
          "output_type": "execute_result",
          "data": {
            "text/plain": [
              "14"
            ]
          },
          "metadata": {
            "tags": []
          },
          "execution_count": 3
        }
      ]
    },
    {
      "cell_type": "code",
      "metadata": {
        "colab": {
          "base_uri": "https://localhost:8080/"
        },
        "id": "4trO0wJELD2M",
        "outputId": "62100b7d-4a1f-4b93-bec9-201efdd7f094"
      },
      "source": [
        "nb_operation_tri_selection([3,2,1])"
      ],
      "execution_count": 4,
      "outputs": [
        {
          "output_type": "execute_result",
          "data": {
            "text/plain": [
              "16"
            ]
          },
          "metadata": {
            "tags": []
          },
          "execution_count": 4
        }
      ]
    },
    {
      "cell_type": "code",
      "metadata": {
        "colab": {
          "base_uri": "https://localhost:8080/"
        },
        "id": "7tJ_JNrqLFpk",
        "outputId": "a26ebfaf-916d-4e8d-eef9-b50464d924da"
      },
      "source": [
        "nb_operation_tri_selection([1,2,3,4,5,6,7,8,9,10,11,12])"
      ],
      "execution_count": 5,
      "outputs": [
        {
          "output_type": "execute_result",
          "data": {
            "text/plain": [
              "176"
            ]
          },
          "metadata": {
            "tags": []
          },
          "execution_count": 5
        }
      ]
    },
    {
      "cell_type": "code",
      "metadata": {
        "colab": {
          "base_uri": "https://localhost:8080/"
        },
        "id": "qFRx1MclORhP",
        "outputId": "d5bfbe86-a4f0-43bf-fd09-4af6fbb44964"
      },
      "source": [
        "nb_operation_tri_selection([12,11,10,9,8,7,6,5,4,3,2,1])"
      ],
      "execution_count": 7,
      "outputs": [
        {
          "output_type": "execute_result",
          "data": {
            "text/plain": [
              "212"
            ]
          },
          "metadata": {
            "tags": []
          },
          "execution_count": 7
        }
      ]
    },
    {
      "cell_type": "markdown",
      "metadata": {
        "id": "u_3KC_ChNemY"
      },
      "source": [
        "#### 3)\r\n",
        "Commentaire, pour un grand tableau, le nombre d'opération est **beaucoup plus** important que pour un petit tableau. \r\n",
        "\r\n",
        "[1,2,3,4,5,6,7,8,9,10,11,12] est 4 fois plus long que [1,2,3]\r\n",
        "\r\n",
        "mais le nombre d'opérations trouvé : 176 > 4*14 = 56\r\n",
        "\r\n",
        "Le tri par sélection nécessite un assez grand nombre d'opérations même lorsque le tableau est déjà trié !"
      ]
    },
    {
      "cell_type": "markdown",
      "metadata": {
        "id": "4WiLXGL76hpL"
      },
      "source": [
        "# Exercice 2"
      ]
    },
    {
      "cell_type": "markdown",
      "metadata": {
        "id": "99Lk1YFT6jac"
      },
      "source": [
        "On souhaite mesurer le temps de calcul pour exécuter le tri par sélection sur des tableaux aléatoires de différentes tailles\r\n",
        "\r\n",
        "1. Ecrire une fonction `tableau_aleatoire(n)` qui\r\n",
        "   * prend en argument un nombre entier `n >= 1`\r\n",
        "   * renvoie un tableau de longueur n, contenant des flottants aléatoires entre 0 et 1\r\n",
        "2. Evaluer le temps nécessaire pour trier :\r\n",
        "   * un tableau de taille 100\r\n",
        "   * un tableau de taille 200\r\n",
        "   * un tableau de taille 500\r\n",
        "3. Peut-on dire que le temps de calcul est environ proportionnel à la taille du tableau ? "
      ]
    },
    {
      "cell_type": "markdown",
      "metadata": {
        "id": "PHk7lVK7QbwX"
      },
      "source": [
        "#### petits rappels sur les expressions aléatoires en python"
      ]
    },
    {
      "cell_type": "code",
      "metadata": {
        "id": "-PcH8vTz6hDl"
      },
      "source": [
        "from random import random"
      ],
      "execution_count": 8,
      "outputs": []
    },
    {
      "cell_type": "code",
      "metadata": {
        "id": "OErH1YCAPG7_",
        "outputId": "2014d595-b712-442f-8e94-23df12b61ac8",
        "colab": {
          "base_uri": "https://localhost:8080/"
        }
      },
      "source": [
        "[random(), random(),random() ]"
      ],
      "execution_count": 21,
      "outputs": [
        {
          "output_type": "execute_result",
          "data": {
            "text/plain": [
              "[0.08170457283431676, 0.37580199774006506, 0.13396858388371435]"
            ]
          },
          "metadata": {
            "tags": []
          },
          "execution_count": 21
        }
      ]
    },
    {
      "cell_type": "code",
      "metadata": {
        "id": "hyEN6Yq8QkGQ"
      },
      "source": [
        "from random import random\r\n",
        "\r\n",
        "def tableau_aleatoire(n):\r\n",
        "    t = [ 0.0 ] * n \r\n",
        "    for i in range(n):\r\n",
        "        t[i] = random()\r\n",
        "    return t \r\n",
        "\r\n",
        "# deuxième possibilité : tableau défini par compréhension\r\n",
        "def tableau_aleatoire(n):\r\n",
        "    return [random() for i in range(n)]"
      ],
      "execution_count": 22,
      "outputs": []
    },
    {
      "cell_type": "code",
      "metadata": {
        "id": "TPO0r-eUSS5Q",
        "outputId": "311fbfb4-fe4e-4d68-ba3c-e1ab793bb360",
        "colab": {
          "base_uri": "https://localhost:8080/"
        }
      },
      "source": [
        "tableau_aleatoire(2)"
      ],
      "execution_count": 24,
      "outputs": [
        {
          "output_type": "execute_result",
          "data": {
            "text/plain": [
              "[0.9614268618855472, 0.488533458451356]"
            ]
          },
          "metadata": {
            "tags": []
          },
          "execution_count": 24
        }
      ]
    },
    {
      "cell_type": "markdown",
      "metadata": {
        "id": "ILzhO69SSblA"
      },
      "source": [
        "#### tri d'un tableau aléatoire de taille 200"
      ]
    },
    {
      "cell_type": "markdown",
      "metadata": {
        "id": "tb53UIAf72s1"
      },
      "source": [
        "# Exercice 3"
      ]
    },
    {
      "cell_type": "markdown",
      "metadata": {
        "id": "LdpCnHdh8HWF"
      },
      "source": [
        "On considère un tableau d'entiers `tab` (type `list`) dont les éléments sont des **0** ou des **1**. \r\n",
        "\r\n",
        "On se propose de trier ce tableau selon l'algorithme suivant : \r\n",
        "* à chaque étape du tri, le tableau est constitué de trois zones consécutives, \r\n",
        "  * la première ne contenant que des 0, \r\n",
        "  * la seconde n'étant pas triée \r\n",
        "  * et la dernière ne contenant que des 1.\r\n",
        "* on note `i` et `j` deux entiers tels que les indices de la zone non triée sont compris entre `i` et `j` inclus. \r\n",
        "\r\n",
        "\r\n",
        "```\r\n",
        "[ Zone de 0 | Zone non triée | Zone de 1]\r\n",
        "             i              j\r\n",
        "```\r\n",
        "\r\n",
        "\r\n",
        "Tant que la zone non triée n'est pas réduite à un seul élément, on regarde son premier élément:\r\n",
        "* si cet élément vaut 0, on considère qu'il appartient désormais à la zone ne contenant que des 0 ;\r\n",
        "*  si cet élément vaut 1, il est échangé avec le dernier élément de la zone non triée et on considère alors qu’il appartient à la zone ne contenant que des 1.\r\n",
        "\r\n",
        "\r\n",
        "Dans tous les cas, la longueur de la zone non triée diminue de 1."
      ]
    },
    {
      "cell_type": "markdown",
      "metadata": {
        "id": "BSuRj_xB8drl"
      },
      "source": [
        "Compléter le code suivant pour réaliser cette fonction"
      ]
    },
    {
      "cell_type": "code",
      "metadata": {
        "id": "SFG-T6mV8gRd"
      },
      "source": [
        "def tri(tab):\r\n",
        "    #i est le premier indice de la zone non triee, j le dernier indice.\r\n",
        "    #Au debut, la zone non triee est le tableau entier.\r\n",
        "    i= ...\r\n",
        "    j= ...\r\n",
        "    while i != j :\r\n",
        "        if tab[i]== 0:\r\n",
        "            i= ...\r\n",
        "        else :\r\n",
        "            valeur = tab[j]\r\n",
        "            tab[j] = ...\r\n",
        "            ...\r\n",
        "            j= ...\r\n",
        "    ...\r\n"
      ],
      "execution_count": null,
      "outputs": []
    }
  ]
}