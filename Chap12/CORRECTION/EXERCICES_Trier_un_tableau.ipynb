{
  "nbformat": 4,
  "nbformat_minor": 0,
  "metadata": {
    "colab": {
      "name": "Chap12_EXERCICES_Trier_un_tableau.ipynb",
      "provenance": [],
      "collapsed_sections": [],
      "authorship_tag": "ABX9TyNutZte9tSW4XBCyk/hmFPw",
      "include_colab_link": true
    },
    "kernelspec": {
      "name": "python3",
      "display_name": "Python 3"
    }
  },
  "cells": [
    {
      "cell_type": "markdown",
      "metadata": {
        "id": "view-in-github",
        "colab_type": "text"
      },
      "source": [
        "<a href=\"https://colab.research.google.com/github/thfruchart/1nsi-2020/blob/master/Chap12/CORRECTION/EXERCICES_Trier_un_tableau.ipynb\" target=\"_parent\"><img src=\"https://colab.research.google.com/assets/colab-badge.svg\" alt=\"Open In Colab\"/></a>"
      ]
    },
    {
      "cell_type": "markdown",
      "metadata": {
        "id": "DWbIYJBS4f4s"
      },
      "source": [
        "# Exercice 1"
      ]
    },
    {
      "cell_type": "markdown",
      "metadata": {
        "id": "mTJPAEqx4iTD"
      },
      "source": [
        "On souhaite compter le nombre d'opérations élémentaires réalisées lors du tri par sélection. \r\n",
        "\r\n",
        "Pour cela, on définit une fonction `nb_operation_tri_selection` qui :\r\n",
        "* prend en argument un tableau t\r\n",
        "* effectue le tri par sélection sur t\r\n",
        "* renvoie le nombre d'opérations élémentaires effectuées : \r\n",
        "   * comparaison\r\n",
        "   * affectation\r\n",
        "\r\n",
        "\r\n",
        "1. Compléter le code ci-dessous pour remplir cet objectif.\r\n",
        "2. Tester la fonction en calculant le nombre d'opérations nécessaires pour trier les tableaux suivants : \r\n",
        "   * [1,2,3]\r\n",
        "   * [3,2,1]\r\n",
        "   * [1,2,3,4,5,6,7,8,9,10,11,12]\r\n",
        "3. Quel commentaire pouvez-vous faire? "
      ]
    },
    {
      "cell_type": "code",
      "metadata": {
        "id": "iaZc2hOQ4Txw"
      },
      "source": [
        "def nb_operation_tri_selection(t):\r\n",
        "    cpt = 0\r\n",
        "    for i in range(len(t)-1):\r\n",
        "        i_min = i \r\n",
        "        cpt += 2 # affectation dans i et affectation dans i_min\r\n",
        "        for k in range(i+1, len(t)):\r\n",
        "            cpt += 2 # affectation dans k et comparaison\r\n",
        "            if t[i_min] > t[k] :\r\n",
        "                i_min = k\r\n",
        "                cpt += 1 #affectation dans i_min\r\n",
        "        t[i], t[i_min] = t[i_min], t[i] \r\n",
        "        cpt += 2 # 1 echange = 2 affectations \r\n",
        "    return cpt"
      ],
      "execution_count": null,
      "outputs": []
    },
    {
      "cell_type": "code",
      "metadata": {
        "colab": {
          "base_uri": "https://localhost:8080/"
        },
        "id": "j7TTWpx6K-P-",
        "outputId": "4c6fefca-632a-453d-a690-c578b3c758b5"
      },
      "source": [
        "nb_operation_tri_selection([1,2,3])"
      ],
      "execution_count": null,
      "outputs": [
        {
          "output_type": "execute_result",
          "data": {
            "text/plain": [
              "14"
            ]
          },
          "metadata": {
            "tags": []
          },
          "execution_count": 3
        }
      ]
    },
    {
      "cell_type": "code",
      "metadata": {
        "colab": {
          "base_uri": "https://localhost:8080/"
        },
        "id": "4trO0wJELD2M",
        "outputId": "62100b7d-4a1f-4b93-bec9-201efdd7f094"
      },
      "source": [
        "nb_operation_tri_selection([3,2,1])"
      ],
      "execution_count": null,
      "outputs": [
        {
          "output_type": "execute_result",
          "data": {
            "text/plain": [
              "16"
            ]
          },
          "metadata": {
            "tags": []
          },
          "execution_count": 4
        }
      ]
    },
    {
      "cell_type": "code",
      "metadata": {
        "colab": {
          "base_uri": "https://localhost:8080/"
        },
        "id": "7tJ_JNrqLFpk",
        "outputId": "a26ebfaf-916d-4e8d-eef9-b50464d924da"
      },
      "source": [
        "nb_operation_tri_selection([1,2,3,4,5,6,7,8,9,10,11,12])"
      ],
      "execution_count": null,
      "outputs": [
        {
          "output_type": "execute_result",
          "data": {
            "text/plain": [
              "176"
            ]
          },
          "metadata": {
            "tags": []
          },
          "execution_count": 5
        }
      ]
    },
    {
      "cell_type": "code",
      "metadata": {
        "colab": {
          "base_uri": "https://localhost:8080/"
        },
        "id": "qFRx1MclORhP",
        "outputId": "d5bfbe86-a4f0-43bf-fd09-4af6fbb44964"
      },
      "source": [
        "nb_operation_tri_selection([12,11,10,9,8,7,6,5,4,3,2,1])"
      ],
      "execution_count": null,
      "outputs": [
        {
          "output_type": "execute_result",
          "data": {
            "text/plain": [
              "212"
            ]
          },
          "metadata": {
            "tags": []
          },
          "execution_count": 7
        }
      ]
    },
    {
      "cell_type": "markdown",
      "metadata": {
        "id": "u_3KC_ChNemY"
      },
      "source": [
        "#### 3)\r\n",
        "Commentaire, pour un grand tableau, le nombre d'opération est **beaucoup plus** important que pour un petit tableau. \r\n",
        "\r\n",
        "[1,2,3,4,5,6,7,8,9,10,11,12] est 4 fois plus long que [1,2,3]\r\n",
        "\r\n",
        "mais le nombre d'opérations trouvé : 176 > 4*14 = 56\r\n",
        "\r\n",
        "Le tri par sélection nécessite un assez grand nombre d'opérations même lorsque le tableau est déjà trié !"
      ]
    },
    {
      "cell_type": "markdown",
      "metadata": {
        "id": "4WiLXGL76hpL"
      },
      "source": [
        "# Exercice 2"
      ]
    },
    {
      "cell_type": "markdown",
      "metadata": {
        "id": "99Lk1YFT6jac"
      },
      "source": [
        "On souhaite mesurer le temps de calcul pour exécuter le tri par sélection sur des tableaux aléatoires de différentes tailles\r\n",
        "\r\n",
        "1. Ecrire une fonction `tableau_aleatoire(n)` qui\r\n",
        "   * prend en argument un nombre entier `n >= 1`\r\n",
        "   * renvoie un tableau de longueur n, contenant des flottants aléatoires entre 0 et 1\r\n",
        "2. Evaluer le temps nécessaire pour trier :\r\n",
        "   * un tableau de taille 100\r\n",
        "   * un tableau de taille 200\r\n",
        "   * un tableau de taille 500\r\n",
        "3. Peut-on dire que le temps de calcul est environ proportionnel à la taille du tableau ? "
      ]
    },
    {
      "cell_type": "markdown",
      "metadata": {
        "id": "PHk7lVK7QbwX"
      },
      "source": [
        "#### petits rappels sur les expressions aléatoires en python"
      ]
    },
    {
      "cell_type": "code",
      "metadata": {
        "id": "-PcH8vTz6hDl"
      },
      "source": [
        "from random import random"
      ],
      "execution_count": null,
      "outputs": []
    },
    {
      "cell_type": "code",
      "metadata": {
        "colab": {
          "base_uri": "https://localhost:8080/"
        },
        "id": "OErH1YCAPG7_",
        "outputId": "2014d595-b712-442f-8e94-23df12b61ac8"
      },
      "source": [
        "[random(), random(),random() ]"
      ],
      "execution_count": null,
      "outputs": [
        {
          "output_type": "execute_result",
          "data": {
            "text/plain": [
              "[0.08170457283431676, 0.37580199774006506, 0.13396858388371435]"
            ]
          },
          "metadata": {
            "tags": []
          },
          "execution_count": 21
        }
      ]
    },
    {
      "cell_type": "markdown",
      "metadata": {
        "id": "x3VSCIWSW1b5"
      },
      "source": [
        "### correction de la question 1"
      ]
    },
    {
      "cell_type": "code",
      "metadata": {
        "id": "hyEN6Yq8QkGQ"
      },
      "source": [
        "from random import random\r\n",
        "\r\n",
        "def tableau_aleatoire(n):\r\n",
        "    t = [ 0.0 ] * n \r\n",
        "    for i in range(n):\r\n",
        "        t[i] = random()\r\n",
        "    return t \r\n",
        "\r\n",
        "# deuxième possibilité : tableau défini par compréhension\r\n",
        "def tableau_aleatoire(n):\r\n",
        "    return [random() for i in range(n)]"
      ],
      "execution_count": null,
      "outputs": []
    },
    {
      "cell_type": "code",
      "metadata": {
        "colab": {
          "base_uri": "https://localhost:8080/"
        },
        "id": "TPO0r-eUSS5Q",
        "outputId": "e4e068e2-9d92-4eeb-cada-18a95148ca7c"
      },
      "source": [
        "tableau_aleatoire(10)"
      ],
      "execution_count": null,
      "outputs": [
        {
          "output_type": "execute_result",
          "data": {
            "text/plain": [
              "[0.4904272665386802,\n",
              " 0.9019566605843873,\n",
              " 0.772002363084121,\n",
              " 0.5135127104100127,\n",
              " 0.9558978396566568,\n",
              " 0.6247219421073265,\n",
              " 0.5224886777882429,\n",
              " 0.3918710998277368,\n",
              " 0.43234810961488135,\n",
              " 0.38182487489870043]"
            ]
          },
          "metadata": {
            "tags": []
          },
          "execution_count": 3
        }
      ]
    },
    {
      "cell_type": "markdown",
      "metadata": {
        "id": "J4Hwul_hPlgB"
      },
      "source": [
        "#### Aide pour la question 2 "
      ]
    },
    {
      "cell_type": "markdown",
      "metadata": {
        "id": "KodD1WThPoQJ"
      },
      "source": [
        "Pour mesurer le temps d'exécution d'une instruction, on peut utiliser le module time, qui contient une fonction perf_counter().\r\n",
        "\r\n",
        "Cette fonction renvoie un 'compteur de performance' aussi précis que le permet la machine, mesuré en secondes."
      ]
    },
    {
      "cell_type": "code",
      "metadata": {
        "id": "QEMderQURMc6"
      },
      "source": [
        "from time import perf_counter"
      ],
      "execution_count": null,
      "outputs": []
    },
    {
      "cell_type": "code",
      "metadata": {
        "id": "Os_M-kjPRMc6",
        "colab": {
          "base_uri": "https://localhost:8080/"
        },
        "outputId": "df5893ea-7eee-4e09-8b53-6d51b936b56b"
      },
      "source": [
        "perf_counter()"
      ],
      "execution_count": null,
      "outputs": [
        {
          "output_type": "execute_result",
          "data": {
            "text/plain": [
              "161.762296148"
            ]
          },
          "metadata": {
            "tags": []
          },
          "execution_count": 7
        }
      ]
    },
    {
      "cell_type": "code",
      "metadata": {
        "id": "41bNNJcvRMc7",
        "colab": {
          "base_uri": "https://localhost:8080/"
        },
        "outputId": "0813ac42-c946-45ff-df4d-9c54bd714520"
      },
      "source": [
        "perf_counter()"
      ],
      "execution_count": null,
      "outputs": [
        {
          "output_type": "execute_result",
          "data": {
            "text/plain": [
              "179.40135007"
            ]
          },
          "metadata": {
            "tags": []
          },
          "execution_count": 8
        }
      ]
    },
    {
      "cell_type": "markdown",
      "metadata": {
        "id": "BQdgCnF7P_Q6"
      },
      "source": [
        "Pour mesurer le temps d'exécution d'une instruction, on pourra structurer son code de cette manière : "
      ]
    },
    {
      "cell_type": "code",
      "metadata": {
        "id": "5DRDbN-URMc8",
        "colab": {
          "base_uri": "https://localhost:8080/"
        },
        "outputId": "01bf69bb-9b2d-47d1-b3ea-2c82f50381c6"
      },
      "source": [
        "from time import perf_counter\r\n",
        "start = perf_counter() # lancement du chrono\r\n",
        "\r\n",
        "### début des instructions à chronométrer ###\r\n",
        "for i in range(1000):\r\n",
        "    pass\r\n",
        "\r\n",
        "\r\n",
        "###  fin  des instructions à chronométrer ###\r\n",
        "stop = perf_counter() # arrêt du chrono\r\n",
        "print(stop - start) # affichage de la durée en seconde\r\n",
        "# ou  affichage de la durée en milliseconde avec :  print((stop - start)*1000)\r\n"
      ],
      "execution_count": null,
      "outputs": [
        {
          "output_type": "stream",
          "text": [
            "0.00011304399998834924\n"
          ],
          "name": "stdout"
        }
      ]
    },
    {
      "cell_type": "markdown",
      "metadata": {
        "id": "FTwF-qmmW5fX"
      },
      "source": [
        "### correction de la question 2"
      ]
    },
    {
      "cell_type": "markdown",
      "metadata": {
        "id": "YWhFiBvaW9ff"
      },
      "source": [
        "on utilise la fonction tri_par_selection vue en cours"
      ]
    },
    {
      "cell_type": "code",
      "metadata": {
        "id": "wtMrEpViTqnz"
      },
      "source": [
        "def tri_par_selection(t):\r\n",
        "    for i in range(len(t)):\r\n",
        "        i_min = i # recherche de l'indice du minimum du tableau t[i:len(t)]\r\n",
        "        for k in range(i, len(t)):\r\n",
        "            if t[i_min] > t[k] :\r\n",
        "                i_min = k\r\n",
        "        t[i], t[i_min] = t[i_min], t[i] # échange des valeurs d'indice i et i_min dans le tableau t\r\n",
        "    return t"
      ],
      "execution_count": 5,
      "outputs": []
    },
    {
      "cell_type": "markdown",
      "metadata": {
        "id": "ILzhO69SSblA"
      },
      "source": [
        "#### tri d'un tableau aléatoire de taille 100 :  environ 0.6 ms\r\n"
      ]
    },
    {
      "cell_type": "code",
      "metadata": {
        "id": "nezKR-LQS4rg",
        "colab": {
          "base_uri": "https://localhost:8080/"
        },
        "outputId": "5e529ad2-7a80-4e3f-ecf2-941dc805b0fa"
      },
      "source": [
        "t = tableau_aleatoire(100)\r\n",
        "start = perf_counter()\r\n",
        "tri_par_selection(t)\r\n",
        "stop = perf_counter()\r\n",
        "print(stop - start)"
      ],
      "execution_count": null,
      "outputs": [
        {
          "output_type": "stream",
          "text": [
            "0.0006430700000237266\n"
          ],
          "name": "stdout"
        }
      ]
    },
    {
      "cell_type": "markdown",
      "metadata": {
        "id": "ecDAZ0YySzfa"
      },
      "source": [
        "#### tri d'un tableau aléatoire de taille 200 : environ 2.3 ms"
      ]
    },
    {
      "cell_type": "code",
      "metadata": {
        "id": "GD6g2oHLS5Mv",
        "colab": {
          "base_uri": "https://localhost:8080/"
        },
        "outputId": "6e039a41-4a72-4d6a-a4f7-b6e050a65352"
      },
      "source": [
        "t = tableau_aleatoire(200)\r\n",
        "start = perf_counter()\r\n",
        "tri_par_selection(t)\r\n",
        "stop = perf_counter()\r\n",
        "print(stop - start)"
      ],
      "execution_count": null,
      "outputs": [
        {
          "output_type": "stream",
          "text": [
            "0.002325112999983503\n"
          ],
          "name": "stdout"
        }
      ]
    },
    {
      "cell_type": "markdown",
      "metadata": {
        "id": "PiPJSJ6bSzq5"
      },
      "source": [
        "#### tri d'un tableau aléatoire de taille 400  : environ 9 ms"
      ]
    },
    {
      "cell_type": "code",
      "metadata": {
        "id": "VE5Fodg_S6do",
        "colab": {
          "base_uri": "https://localhost:8080/"
        },
        "outputId": "dca4a9df-f637-4b22-bf08-7ede7ea0d75e"
      },
      "source": [
        "t = tableau_aleatoire(400)\r\n",
        "start = perf_counter()\r\n",
        "tri_par_selection(t)\r\n",
        "stop = perf_counter()\r\n",
        "print(stop - start)"
      ],
      "execution_count": null,
      "outputs": [
        {
          "output_type": "stream",
          "text": [
            "0.008910019000040847\n"
          ],
          "name": "stdout"
        }
      ]
    },
    {
      "cell_type": "markdown",
      "metadata": {
        "id": "TZuRfKk4HyYt"
      },
      "source": [
        "#### tri d'un tableau aléatoire de taille 800 : environ 25 ms"
      ]
    },
    {
      "cell_type": "code",
      "metadata": {
        "id": "f1VN-N_PHyYy",
        "colab": {
          "base_uri": "https://localhost:8080/"
        },
        "outputId": "f77d0e97-7f30-48ac-8fe7-f0fe5a6f774b"
      },
      "source": [
        "t = tableau_aleatoire(800)\r\n",
        "start = perf_counter()\r\n",
        "tri_par_selection(t)\r\n",
        "stop = perf_counter()\r\n",
        "print(stop - start)"
      ],
      "execution_count": null,
      "outputs": [
        {
          "output_type": "stream",
          "text": [
            "0.025204527999903803\n"
          ],
          "name": "stdout"
        }
      ]
    },
    {
      "cell_type": "markdown",
      "metadata": {
        "id": "laMlMRyewE5w"
      },
      "source": [
        "### correction de la question 3\r\n",
        "Le temps d'exécution n'est **pas proportionnel** à la taille du tableau : il augmente plus vite que la taille du tableau!"
      ]
    },
    {
      "cell_type": "markdown",
      "metadata": {
        "id": "tb53UIAf72s1"
      },
      "source": [
        "# Exercice 3"
      ]
    },
    {
      "cell_type": "markdown",
      "metadata": {
        "id": "LdpCnHdh8HWF"
      },
      "source": [
        "On considère un tableau d'entiers `tab` (type `list`) dont les éléments sont des **0** ou des **1**. \r\n",
        "\r\n",
        "On se propose de trier ce tableau selon l'algorithme suivant : \r\n",
        "* à chaque étape du tri, le tableau est constitué de trois zones consécutives, \r\n",
        "  * la première ne contenant que des 0, \r\n",
        "  * la seconde n'étant pas triée \r\n",
        "  * et la dernière ne contenant que des 1.\r\n",
        "* on note `i` et `j` deux entiers tels que les indices de la zone non triée sont compris entre `i` et `j` inclus. \r\n",
        "\r\n",
        "\r\n",
        "```\r\n",
        "[ Zone de 0 | Zone non triée | Zone de 1]\r\n",
        "             i              j\r\n",
        "```\r\n",
        "\r\n",
        "\r\n",
        "Tant que la zone non triée n'est pas réduite à un seul élément, on regarde son premier élément:\r\n",
        "* si cet élément vaut 0, on considère qu'il appartient désormais à la zone ne contenant que des 0 ;\r\n",
        "*  si cet élément vaut 1, il est échangé avec le dernier élément de la zone non triée et on considère alors qu’il appartient à la zone ne contenant que des 1.\r\n",
        "\r\n",
        "\r\n",
        "Dans tous les cas, la longueur de la zone non triée diminue de 1."
      ]
    },
    {
      "cell_type": "markdown",
      "metadata": {
        "id": "BSuRj_xB8drl"
      },
      "source": [
        "Compléter le code suivant pour réaliser cette fonction"
      ]
    },
    {
      "cell_type": "code",
      "metadata": {
        "id": "SFG-T6mV8gRd"
      },
      "source": [
        "def tri(tab):\r\n",
        "    #i est le premier indice de la zone non triee, j le dernier indice.\r\n",
        "    #Au debut, la zone non triee est le tableau entier.\r\n",
        "    i= ...\r\n",
        "    j= ...\r\n",
        "    while i != j :\r\n",
        "        if tab[i]== 0:\r\n",
        "            i= ...\r\n",
        "        else :\r\n",
        "            valeur = tab[j]\r\n",
        "            tab[j] = ...\r\n",
        "            ...\r\n",
        "            j= ...\r\n",
        "    ...\r\n"
      ],
      "execution_count": null,
      "outputs": []
    },
    {
      "cell_type": "markdown",
      "metadata": {
        "id": "pgzWEIe-N1MS"
      },
      "source": [
        "# Exercice 4"
      ]
    },
    {
      "cell_type": "markdown",
      "metadata": {
        "id": "CpUw-OtgN3ja"
      },
      "source": [
        "Dans cet exercice, on exploite le fait que la complexité du tri par sélection est quadratique.\r\n",
        "\r\n",
        "* On suppose qu'il faut environ 40ms pour trier un tableau de taille 1000 en exécutant le tri par sélection sur un ordinateur. \r\n",
        "* estimer le temps nécessaire pour trier : \r\n",
        "   1. Un tableau de taille 5000\r\n",
        "   2. Un tableau de taille 10 000\r\n",
        "   3. Un tableau de taille 50 000\r\n",
        "* quelle est la taille maximale d'un tableau qu'on pourrait trier sur cette machine : \r\n",
        "   1.  en 1 heure?\r\n",
        "   2. en 24 heures ? "
      ]
    },
    {
      "cell_type": "markdown",
      "metadata": {
        "id": "JfP3ZrY5iAK9"
      },
      "source": [
        "# Exercice 5"
      ]
    },
    {
      "cell_type": "markdown",
      "metadata": {
        "id": "UL0QYF-9jK7U"
      },
      "source": [
        "1. Ecrire un jeu de tests pour la fonction tri_par_insertion\r\n",
        "2. Effectuer les test avec le code fourni"
      ]
    },
    {
      "cell_type": "code",
      "metadata": {
        "id": "eDxSE1CrjTDM"
      },
      "source": [
        "def insere(t,v,i):\r\n",
        "    ''' insère la valeur 'v' dans le tableau 't'\r\n",
        "    le plus à gauche possible à partir de l'indice 'i'  '''\r\n",
        "    assert i<len(t)\r\n",
        "    while i>0 and v<t[i-1]:\r\n",
        "        t[i]=t[i-1]\r\n",
        "        i = i-1\r\n",
        "    t[i] = v\r\n",
        "    return t\r\n",
        "\r\n",
        "def tri_par_insertion(t):\r\n",
        "    ''' tri du tableau t, par ordre croissant'''\r\n",
        "    for i in range(len(t)):\r\n",
        "        v = t[i]\r\n",
        "        insere(t,v,i)\r\n",
        "    return t"
      ],
      "execution_count": 2,
      "outputs": []
    },
    {
      "cell_type": "code",
      "metadata": {
        "id": "Mps1WPy5Vhl_",
        "colab": {
          "base_uri": "https://localhost:8080/"
        },
        "outputId": "31a95b00-b7c8-4e0f-faa6-ea9d39e4a7f2"
      },
      "source": [
        "assert tri_par_insertion([]) == []  # tableau vide\r\n",
        "assert tri_par_insertion([1,2,3]) == [1,2,3] # tableau déjà trié\r\n",
        "assert tri_par_insertion([30,20,10,0]) == [0,10,20,30] # tableau en ordre décroissant\r\n",
        "assert tri_par_insertion([0,10,20,10,20,0]) == [0,0,10,10,20,20] # tableau avec répétitions\r\n",
        "assert tri_par_insertion([-1,-2,3,-4]) == [-4,-2,-1,3] # avec valeurs négatives et positives\r\n",
        "assert tri_par_insertion(['D','A','C','B']) == ['A','B','C','D'] # avec du texte\r\n",
        "print('test ok')"
      ],
      "execution_count": null,
      "outputs": [
        {
          "output_type": "stream",
          "text": [
            "test ok\n"
          ],
          "name": "stdout"
        }
      ]
    },
    {
      "cell_type": "code",
      "metadata": {
        "id": "J3VIq8oIYHiu"
      },
      "source": [
        ""
      ],
      "execution_count": null,
      "outputs": []
    },
    {
      "cell_type": "markdown",
      "metadata": {
        "id": "Yat-h1X1jIYS"
      },
      "source": [
        "# Exercice 6"
      ]
    },
    {
      "cell_type": "markdown",
      "metadata": {
        "id": "24XOAYqciD7F"
      },
      "source": [
        "####**1)** Tableaux à trier"
      ]
    },
    {
      "cell_type": "markdown",
      "metadata": {
        "id": "LinQ3f72iKPD"
      },
      "source": [
        "* Avant d'exécuter chaque cellule, \r\n",
        "   * déterminer quel sera le contenu du tableau lorsque **`n=5`**, \r\n",
        "* puis vérifier en exécutant la cellule"
      ]
    },
    {
      "cell_type": "code",
      "metadata": {
        "id": "gD9lYnuqiWE8",
        "colab": {
          "base_uri": "https://localhost:8080/"
        },
        "outputId": "f126400c-61f5-4bac-9c59-991384288701"
      },
      "source": [
        "n = int(input('Entrer n :'))\r\n",
        "t1 = [ i for i in range(n)]\r\n",
        "print(t1)"
      ],
      "execution_count": null,
      "outputs": [
        {
          "output_type": "stream",
          "text": [
            "Entrer n :5\n",
            "[0, 1, 2, 3, 4]\n"
          ],
          "name": "stdout"
        }
      ]
    },
    {
      "cell_type": "code",
      "metadata": {
        "id": "Mmqa9e9eiZ4j",
        "colab": {
          "base_uri": "https://localhost:8080/"
        },
        "outputId": "2481e5e3-00bd-44af-a9c0-07fdb3e5f482"
      },
      "source": [
        "n = int(input('Entrer n :'))\r\n",
        "t2 = [2*i+1 for i in range(n)]\r\n",
        "print(t2)"
      ],
      "execution_count": null,
      "outputs": [
        {
          "output_type": "stream",
          "text": [
            "Entrer n :5\n",
            "[1, 3, 5, 7, 9]\n"
          ],
          "name": "stdout"
        }
      ]
    },
    {
      "cell_type": "code",
      "metadata": {
        "id": "DO-BUw1uiomT",
        "colab": {
          "base_uri": "https://localhost:8080/"
        },
        "outputId": "58ddbf65-6e4b-43ce-8fb6-9272a34f5165"
      },
      "source": [
        "n = int(input('Entrer n :'))\r\n",
        "t3 = [1000-2*i for i in range(n)]\r\n",
        "print(t3)"
      ],
      "execution_count": null,
      "outputs": [
        {
          "output_type": "stream",
          "text": [
            "Entrer n :5\n",
            "[1000, 998, 996, 994, 992]\n"
          ],
          "name": "stdout"
        }
      ]
    },
    {
      "cell_type": "markdown",
      "metadata": {
        "id": "92JH3Q-hkBOc"
      },
      "source": [
        "####**2)** A quoi correspond la valeur affichée par le programme de la cellule suivante ? "
      ]
    },
    {
      "cell_type": "code",
      "metadata": {
        "id": "fK9teo7ykHl8",
        "colab": {
          "base_uri": "https://localhost:8080/"
        },
        "outputId": "4f69bee8-922e-426a-e9d0-c1bc98c012de"
      },
      "source": [
        "from time import perf_counter\r\n",
        "\r\n",
        "n = 100\r\n",
        "t = [2*i+1 for i in range(n)]\r\n",
        "\r\n",
        "start = perf_counter() # lancement du chrono\r\n",
        "tri_par_insertion(t)\r\n",
        "stop = perf_counter() # arrêt du chrono\r\n",
        "print('t :', (stop - start)*1000, 'ms')\r\n"
      ],
      "execution_count": null,
      "outputs": [
        {
          "output_type": "stream",
          "text": [
            "t : 0.08828099998936523 ms\n"
          ],
          "name": "stdout"
        }
      ]
    },
    {
      "cell_type": "markdown",
      "metadata": {
        "id": "mECg_KSia1Ya"
      },
      "source": [
        "ce programme affiche la durée du tri par insertion sur le tableau t"
      ]
    },
    {
      "cell_type": "markdown",
      "metadata": {
        "id": "LjoxPwJQjhwD"
      },
      "source": [
        "####**3)** Comparer le temps d'exécution du tri par insertion pour les tableaux `t2` et `t3`, en faisant varier la taille de `n`\r\n",
        "\r\n",
        "Que peut-on en conclure sur l'efficacité du tri par insertion ?"
      ]
    },
    {
      "cell_type": "code",
      "metadata": {
        "colab": {
          "base_uri": "https://localhost:8080/"
        },
        "id": "bmQV91INboWP",
        "outputId": "699280f2-3c0f-45fd-cb42-993e9787b8f7"
      },
      "source": [
        "# trier un tableau initialement rangé en ordre décroissant\r\n",
        "\r\n",
        "from time import perf_counter\r\n",
        "\r\n",
        "n = int(input('Entrer n :'))\r\n",
        "t = [1000-2*i for i in range(n)]  # t3\r\n",
        "\r\n",
        "start = perf_counter() # lancement du chrono\r\n",
        "tri_par_insertion(t)\r\n",
        "stop = perf_counter() # arrêt du chrono\r\n",
        "print('t3 :', (stop - start)*1000, 'ms')"
      ],
      "execution_count": 3,
      "outputs": [
        {
          "output_type": "stream",
          "text": [
            "Entrer n :1000\n",
            "t3 : 79.05300499999157 ms\n"
          ],
          "name": "stdout"
        }
      ]
    },
    {
      "cell_type": "code",
      "metadata": {
        "colab": {
          "base_uri": "https://localhost:8080/"
        },
        "id": "9aAPH_sqb6q_",
        "outputId": "f01fdf9d-6740-454b-fc6f-617b3cba5190"
      },
      "source": [
        "# trier un tableau initialement rangé en ordre croissant\r\n",
        "\r\n",
        "from time import perf_counter\r\n",
        "\r\n",
        "n = int(input('Entrer n :'))\r\n",
        "t = [1000+2*i for i in range(n)]  # t3\r\n",
        "\r\n",
        "start = perf_counter() # lancement du chrono\r\n",
        "tri_par_insertion(t)\r\n",
        "stop = perf_counter() # arrêt du chrono\r\n",
        "print('t3 :', (stop - start)*1000, 'ms')"
      ],
      "execution_count": 4,
      "outputs": [
        {
          "output_type": "stream",
          "text": [
            "Entrer n :1000\n",
            "t3 : 0.341052999999647 ms\n"
          ],
          "name": "stdout"
        }
      ]
    }
  ]
}