{
  "nbformat": 4,
  "nbformat_minor": 0,
  "metadata": {
    "colab": {
      "name": "Chap12_CORRECTION_ACTIVITE_trier_un_tableau.ipynb",
      "provenance": [],
      "authorship_tag": "ABX9TyPZdU4Zz4+yvfLhGVuhi6am",
      "include_colab_link": true
    },
    "kernelspec": {
      "name": "python3",
      "display_name": "Python 3"
    }
  },
  "cells": [
    {
      "cell_type": "markdown",
      "metadata": {
        "id": "view-in-github",
        "colab_type": "text"
      },
      "source": [
        "<a href=\"https://colab.research.google.com/github/thfruchart/1nsi-2020/blob/master/Chap12/CORRECTION/ACTIVITE_trier_un_tableau.ipynb\" target=\"_parent\"><img src=\"https://colab.research.google.com/assets/colab-badge.svg\" alt=\"Open In Colab\"/></a>"
      ]
    },
    {
      "cell_type": "markdown",
      "metadata": {
        "id": "vRLR0k9NTnyj"
      },
      "source": [
        "# Objectif"
      ]
    },
    {
      "cell_type": "markdown",
      "metadata": {
        "id": "7ZT9E3xITpxx"
      },
      "source": [
        "Dans cet activité, on va chercher à trier un tableau \"en place\" : cela signifie qu'on va modifier le contenu du tableau afin de le trier.\r\n",
        "\r\n",
        "On utilise pour cela la fonction `echange(t,i,j)` définie ci-dessous"
      ]
    },
    {
      "cell_type": "code",
      "metadata": {
        "id": "Stg_m766ThY-"
      },
      "source": [
        "def echange(t, i, j):\r\n",
        "    tmp = t[i]\r\n",
        "    t[i] = t[j]\r\n",
        "    t[j] = tmp\r\n",
        "    return t"
      ],
      "execution_count": 14,
      "outputs": []
    },
    {
      "cell_type": "markdown",
      "metadata": {
        "id": "3b7sQiGeU6-t"
      },
      "source": [
        "1. Effectuer le suivi des variables lorsqu'on exécute `echange([50,40,30,20],1,2)`\r\n",
        "2. Expliquer l'effet produit par `echange(t, i, j)`\r\n",
        "   * dans le tableau t, la valeur d'indice `i` et la valeur d'indice `j` sont échangées.\r\n",
        "3. Utiliser autant de fois que nécessaire cette fonction échange pour trier le tableau `tab= [50,10,40,30]` en complétant le programme ci-dessous\r\n"
      ]
    },
    {
      "cell_type": "code",
      "metadata": {
        "colab": {
          "base_uri": "https://localhost:8080/"
        },
        "id": "_63S8FW0WLS7",
        "outputId": "595de4c3-ed56-46db-f6ae-7d0924774d5f"
      },
      "source": [
        "tab= [50,10,40,30,0,60,20]\r\n",
        "echange(tab,0,4)\r\n",
        "echange(tab,2,6)\r\n",
        "echange(tab,6,4)\r\n",
        "echange(tab,5,6)"
      ],
      "execution_count": null,
      "outputs": [
        {
          "output_type": "execute_result",
          "data": {
            "text/plain": [
              "[0, 10, 20, 30, 40, 50, 60]"
            ]
          },
          "metadata": {
            "tags": []
          },
          "execution_count": 6
        }
      ]
    },
    {
      "cell_type": "markdown",
      "metadata": {
        "id": "9DWs2ctDW5TG"
      },
      "source": [
        "#### Remarque : Echange en Python\r\n",
        "Python permet de faire simplement l'échange entre deux variables, avec la notion de tuple comme le montre l'exemple suivant"
      ]
    },
    {
      "cell_type": "code",
      "metadata": {
        "colab": {
          "base_uri": "https://localhost:8080/"
        },
        "id": "6wodQVvMWru7",
        "outputId": "f34dc9e8-e852-43e1-d5b5-ce584f60220e"
      },
      "source": [
        "a, b = 5, 7\r\n",
        "print(a)\r\n",
        "print(b)"
      ],
      "execution_count": null,
      "outputs": [
        {
          "output_type": "stream",
          "text": [
            "5\n",
            "7\n"
          ],
          "name": "stdout"
        }
      ]
    },
    {
      "cell_type": "code",
      "metadata": {
        "colab": {
          "base_uri": "https://localhost:8080/"
        },
        "id": "H7EaGNLbXxr4",
        "outputId": "245488c6-7c5f-4f58-d419-34f5c25ca3ab"
      },
      "source": [
        "a,b = b,a \r\n",
        "print(a)\r\n",
        "print(b)"
      ],
      "execution_count": null,
      "outputs": [
        {
          "output_type": "stream",
          "text": [
            "7\n",
            "5\n"
          ],
          "name": "stdout"
        }
      ]
    },
    {
      "cell_type": "markdown",
      "metadata": {
        "id": "8_L4BygxX9Zo"
      },
      "source": [
        "L'instruction `echange(t,i,j)`  peut aussi s'écrire en Python : \r\n",
        "`t[i], t[j] = t[j], t[i]`"
      ]
    },
    {
      "cell_type": "markdown",
      "metadata": {
        "id": "CMJveW-OYSfJ"
      },
      "source": [
        "# Exercice 1\r\n",
        "Ecrire une fonction `indice_du_minimum(t,i)` qui renvoie l'indice de la plus petite valeur contenue dans le tableau `t[i:]`.\r\n",
        "\r\n",
        "On suppose que `t` n'est pas vide, et que `i` est un indice valide pour le tableau `t` (donc `i < len(t)` )\r\n"
      ]
    },
    {
      "cell_type": "code",
      "metadata": {
        "id": "M223f_Z2Yobi"
      },
      "source": [
        "def indice_du_minimum(t,i):\r\n",
        "    i_min = i\r\n",
        "    for k in range(i, len(t)):\r\n",
        "        if t[i_min] > t[k] :\r\n",
        "            i_min = k\r\n",
        "    return i_min"
      ],
      "execution_count": 12,
      "outputs": []
    },
    {
      "cell_type": "markdown",
      "metadata": {
        "id": "8npTiS6qYrLh"
      },
      "source": [
        "Pour **tester** cette fonction, on pourra utiliser les assertions suivantes"
      ]
    },
    {
      "cell_type": "code",
      "metadata": {
        "id": "q09I-J2NYq75"
      },
      "source": [
        "assert indice_du_minimum([60,10,20,50,30,40],0)==1\r\n",
        "assert indice_du_minimum([60,10,20,50,30,40],1)==1\r\n",
        "assert indice_du_minimum([60,10,20,50,30,40],2)==2\r\n",
        "assert indice_du_minimum([60,10,20,50,30,40],3)==4\r\n",
        "assert indice_du_minimum([60,10,20,50,30,40],5)==5"
      ],
      "execution_count": 13,
      "outputs": []
    },
    {
      "cell_type": "markdown",
      "metadata": {
        "id": "qCIm86uvZvAk"
      },
      "source": [
        "# Exercice 2\r\n",
        "En utilisant l'exercice 1, proposer une fonction `tri(t)` qui permet de trier le tableau t en appelant la fonction echange de manière pertinente. "
      ]
    },
    {
      "cell_type": "markdown",
      "metadata": {
        "id": "WnTBGvp4mRz0"
      },
      "source": [
        "Principe : \r\n",
        "on va parcourir le tableau t avec une boucle `for`\r\n",
        "\r\n",
        "* la valeur minimale du tableau `t` sera placée à l'indice 0\r\n",
        "* ensuite, la valeur minimale de `t[1:len(t)]` sera placée à l'indice 1\r\n",
        "* etc...\r\n",
        "* à chaque étape, la valeur minimale du tableau `t[i:len(t)]` sera placée à l'indice `i`. "
      ]
    },
    {
      "cell_type": "code",
      "metadata": {
        "id": "bhwv-pY2nRSQ"
      },
      "source": [
        "def tri(t):\r\n",
        "    for i in range(len(t)):\r\n",
        "        i_min = indice_du_minimum(t,i)\r\n",
        "        echange(t, i, i_min)\r\n",
        "    return t"
      ],
      "execution_count": null,
      "outputs": []
    },
    {
      "cell_type": "code",
      "metadata": {
        "colab": {
          "base_uri": "https://localhost:8080/"
        },
        "id": "tjTyrR2Vne-3",
        "outputId": "b498efd0-c6e8-43a1-9d94-80ca2d6523a8"
      },
      "source": [
        "tri([30, 10, 20, 40])"
      ],
      "execution_count": null,
      "outputs": [
        {
          "output_type": "execute_result",
          "data": {
            "text/plain": [
              "[10, 20, 30, 40]"
            ]
          },
          "metadata": {
            "tags": []
          },
          "execution_count": 11
        }
      ]
    },
    {
      "cell_type": "markdown",
      "metadata": {
        "id": "9MfGF5hLbgzy"
      },
      "source": [
        "# Lien utile : [visualiser plusieurs méthodes de tri sur un tableau](https://interstices.info/les-algorithmes-de-tri/)"
      ]
    }
  ]
}